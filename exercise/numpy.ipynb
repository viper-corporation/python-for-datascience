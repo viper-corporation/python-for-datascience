{
 "cells": [
  {
   "cell_type": "markdown",
   "id": "dd67875c-7c26-4888-8844-611e267ec6d4",
   "metadata": {},
   "source": [
    "## practice"
   ]
  },
  {
   "cell_type": "markdown",
   "id": "f52a2d06-87c3-48b7-bd6d-e23985cac956",
   "metadata": {},
   "source": [
    "### number 1"
   ]
  },
  {
   "cell_type": "markdown",
   "id": "06d6b0d2-84c0-49c9-91cd-fe729d0d1b53",
   "metadata": {},
   "source": [
    " with your high school reunion fast approaching you decide to get in shape and lose some\n",
    "weight you record your weight every day for five weeks starting on a monday\n",
    "given these daily weights build an array with your average weight per weekend"
   ]
  },
  {
   "cell_type": "code",
   "execution_count": 38,
   "id": "22c8a26e-6e2c-4620-b856-dc041fb5eb6c",
   "metadata": {},
   "outputs": [],
   "source": [
    "import numpy as np "
   ]
  },
  {
   "cell_type": "code",
   "execution_count": 39,
   "id": "15c524fe-5275-4751-87c9-2f6d5d3251ff",
   "metadata": {},
   "outputs": [
    {
     "name": "stdout",
     "output_type": "stream",
     "text": [
      "[185.  184.8 184.6 184.4 184.2 184.  183.8 183.6 183.4 183.2 183.  182.8\n",
      " 182.6 182.4 182.2 182.  181.8 181.6 181.4 181.2 181.  180.8 180.6 180.4\n",
      " 180.2 180.  179.8 179.6 179.4 179.2 179.  178.8 178.6 178.4 178.2]\n"
     ]
    }
   ],
   "source": [
    "dailywts = 185-np.arange(5*7)/5\n",
    "print(dailywts)"
   ]
  },
  {
   "cell_type": "markdown",
   "id": "86c7f70e-32c4-4716-a1e4-bf61214c4d4f",
   "metadata": {},
   "source": [
    "## Solution"
   ]
  },
  {
   "cell_type": "code",
   "execution_count": 40,
   "id": "d565b913-83b4-4910-b0bd-5b6a9cd53521",
   "metadata": {},
   "outputs": [],
   "source": [
    "shanbehaa = dailywts[5::7]"
   ]
  },
  {
   "cell_type": "code",
   "execution_count": 45,
   "id": "42183c56-e2ad-434f-a327-040506206d21",
   "metadata": {},
   "outputs": [
    {
     "data": {
      "text/plain": [
       "array([184. , 182.6, 181.2, 179.8, 178.4])"
      ]
     },
     "execution_count": 45,
     "metadata": {},
     "output_type": "execute_result"
    }
   ],
   "source": [
    "shanbehaa"
   ]
  },
  {
   "cell_type": "code",
   "execution_count": 46,
   "id": "fbb14e59-383d-401a-8c87-3feca206779d",
   "metadata": {},
   "outputs": [
    {
     "data": {
      "text/plain": [
       "array([183.8, 182.4, 181. , 179.6, 178.2])"
      ]
     },
     "execution_count": 46,
     "metadata": {},
     "output_type": "execute_result"
    }
   ],
   "source": [
    "jomeha = dailywts[6::7]\n",
    "jomeha"
   ]
  },
  {
   "cell_type": "code",
   "execution_count": 47,
   "id": "a97e4b45-0ca7-4d93-aae8-c987001a116c",
   "metadata": {},
   "outputs": [
    {
     "data": {
      "text/plain": [
       "array([183.9, 182.5, 181.1, 179.7, 178.3])"
      ]
     },
     "execution_count": 47,
     "metadata": {},
     "output_type": "execute_result"
    }
   ],
   "source": [
    "(shanbehaa+jomeha)/2"
   ]
  },
  {
   "cell_type": "markdown",
   "id": "42401308-cb54-46b1-87dd-ae8633ae28b6",
   "metadata": {
    "tags": []
   },
   "source": [
    "### number 2"
   ]
  },
  {
   "cell_type": "markdown",
   "id": "19a3a414-740b-491c-9a6c-9f047d87735d",
   "metadata": {},
   "source": [
    "to become a gold miner you decide to prospect five locations underneath a 7x7 grid of land how much gold do you uncover at each location"
   ]
  },
  {
   "cell_type": "code",
   "execution_count": 48,
   "id": "72327238-55ce-4bda-8246-64449a56091c",
   "metadata": {},
   "outputs": [
    {
     "name": "stdout",
     "output_type": "stream",
     "text": [
      "[[8 3 5 5 7 5 8]\n",
      " [0 8 5 1 0 7 0]\n",
      " [2 8 4 2 3 9 1]\n",
      " [6 1 5 7 8 3 5]\n",
      " [3 0 5 7 8 5 5]\n",
      " [0 3 8 2 1 6 8]\n",
      " [0 2 9 3 6 7 3]]\n"
     ]
    }
   ],
   "source": [
    "import numpy as np\n",
    "np.random.seed(72)\n",
    "gold = np.random.randint(0,10,size=(7,7))\n",
    "print(gold)"
   ]
  },
  {
   "cell_type": "code",
   "execution_count": 49,
   "id": "38fc5843-37ed-40b0-8911-4507bd69e812",
   "metadata": {},
   "outputs": [
    {
     "name": "stdout",
     "output_type": "stream",
     "text": [
      "[[0 4]\n",
      " [2 2]\n",
      " [2 3]\n",
      " [5 1]\n",
      " [6 3]]\n"
     ]
    }
   ],
   "source": [
    "locs = np.array([\n",
    "        [0,4],\n",
    "        [2,2],\n",
    "        [2,3],\n",
    "        [5,1],\n",
    "        [6,3]\n",
    "])\n",
    "print(locs)"
   ]
  },
  {
   "cell_type": "markdown",
   "id": "0475997f-6fac-4779-83ff-255f76bd3f2b",
   "metadata": {},
   "source": [
    "## Solution"
   ]
  },
  {
   "cell_type": "code",
   "execution_count": 54,
   "id": "ddb4e8d8-690a-47e3-a98c-1f68b4c6da15",
   "metadata": {},
   "outputs": [
    {
     "data": {
      "text/plain": [
       "19"
      ]
     },
     "execution_count": 54,
     "metadata": {},
     "output_type": "execute_result"
    }
   ],
   "source": [
    "gold[locs[:,0],locs[:,1]].sum()"
   ]
  },
  {
   "cell_type": "markdown",
   "id": "5e8eaceb-1b25-49ef-a349-5e9f040c551b",
   "metadata": {
    "tags": []
   },
   "source": [
    "### number 3"
   ]
  },
  {
   "cell_type": "markdown",
   "id": "b2968481-a0da-4642-aad1-d5aa98da8b77",
   "metadata": {},
   "source": [
    "you decide to invest in a series of billboards along interstate 10 to advertise your stylish new chicken\n",
    "restaurant,Chic-fil-A. you buy three billboards evenly spaced\n",
    "starting on mile marker 17 and ending on mile marker 28 then you buy another three billboards\n",
    "evenly spaced starting on mile marker 32 and ending on mile marker 36. in order\n",
    "from mile marker 17 to 36 your billboards display these ads a,b,c\n",
    "c,b,a determine how far each c ad is from your restaurant which is\n",
    "located at mile marker 30."
   ]
  },
  {
   "cell_type": "markdown",
   "id": "2de5bcb6-0c99-4678-a679-28a60f8d344d",
   "metadata": {},
   "source": [
    "## Solution"
   ]
  },
  {
   "cell_type": "code",
   "execution_count": 64,
   "id": "81d60c3c-5cbc-41ca-97f3-9ee5545bbd1e",
   "metadata": {},
   "outputs": [],
   "source": [
    "a = np.abs(np.array([np.linspace(17,28,3),  np.linspace(32,36,3)]) - 30)\n"
   ]
  },
  {
   "cell_type": "code",
   "execution_count": 65,
   "id": "734445c9-d049-4bf5-856b-d8ef8a6d8163",
   "metadata": {},
   "outputs": [
    {
     "data": {
      "text/plain": [
       "array([2., 2.])"
      ]
     },
     "execution_count": 65,
     "metadata": {},
     "output_type": "execute_result"
    }
   ],
   "source": [
    "a[[0,1],[2,0]]"
   ]
  },
  {
   "cell_type": "code",
   "execution_count": null,
   "id": "ba37b32f-18dc-40c1-b971-58b9d80aa7f6",
   "metadata": {},
   "outputs": [],
   "source": []
  },
  {
   "cell_type": "markdown",
   "id": "7a2a5152-c5ae-459c-ac25-00648365a52d",
   "metadata": {
    "tags": []
   },
   "source": [
    "### number 4"
   ]
  },
  {
   "cell_type": "markdown",
   "id": "9c758335-8c03-4360-9b38-af1d6d4d6e8f",
   "metadata": {},
   "source": [
    "scientist and you've developed a questionnaire that determines a person's love score a real valued number between\n",
    "zero and a hundred your theory is that two people with similar love scores should make a good match\n",
    "given the love scores for 10 different people create a matrix where element ij gives the absolute difference of the\n",
    "love scores for person i and person j"
   ]
  },
  {
   "cell_type": "code",
   "execution_count": 64,
   "id": "23c44af4-c569-4cb5-84dc-7a8b2e088432",
   "metadata": {},
   "outputs": [
    {
     "name": "stdout",
     "output_type": "stream",
     "text": [
      "[94.2  13.45 57.64 19.67 68.94 50.22 55.99 90.09 61.14 27.88]\n"
     ]
    }
   ],
   "source": [
    "import numpy as np\n",
    "generator = np.random.default_rng(1010)\n",
    "love_scores = np.round(generator.uniform(0,100,size=10),2)\n",
    "\n",
    "print(love_scores)"
   ]
  },
  {
   "cell_type": "markdown",
   "id": "797cb14a-31f3-41d0-8f5a-06356c530e8f",
   "metadata": {},
   "source": [
    "## Solution"
   ]
  },
  {
   "cell_type": "code",
   "execution_count": null,
   "id": "86b84435-9ecb-4e0e-8b05-18e5e262b85c",
   "metadata": {
    "tags": []
   },
   "outputs": [],
   "source": [
    "#"
   ]
  },
  {
   "cell_type": "code",
   "execution_count": 52,
   "id": "7c8d68a7-f4c1-4cd1-93c3-c7b488468c99",
   "metadata": {},
   "outputs": [
    {
     "data": {
      "text/plain": [
       "array([[ 0.  , 44.08, 82.27, 88.65, 75.38, 65.11, 31.44, 46.99,  1.11,\n",
       "        55.19],\n",
       "       [44.08,  0.  , 38.19, 44.57, 31.3 , 21.03, 12.64,  2.91, 45.19,\n",
       "        11.11],\n",
       "       [82.27, 38.19,  0.  ,  6.38,  6.89, 17.16, 50.83, 35.28, 83.38,\n",
       "        27.08],\n",
       "       [88.65, 44.57,  6.38,  0.  , 13.27, 23.54, 57.21, 41.66, 89.76,\n",
       "        33.46],\n",
       "       [75.38, 31.3 ,  6.89, 13.27,  0.  , 10.27, 43.94, 28.39, 76.49,\n",
       "        20.19],\n",
       "       [65.11, 21.03, 17.16, 23.54, 10.27,  0.  , 33.67, 18.12, 66.22,\n",
       "         9.92],\n",
       "       [31.44, 12.64, 50.83, 57.21, 43.94, 33.67,  0.  , 15.55, 32.55,\n",
       "        23.75],\n",
       "       [46.99,  2.91, 35.28, 41.66, 28.39, 18.12, 15.55,  0.  , 48.1 ,\n",
       "         8.2 ],\n",
       "       [ 1.11, 45.19, 83.38, 89.76, 76.49, 66.22, 32.55, 48.1 ,  0.  ,\n",
       "        56.3 ],\n",
       "       [55.19, 11.11, 27.08, 33.46, 20.19,  9.92, 23.75,  8.2 , 56.3 ,\n",
       "         0.  ]])"
      ]
     },
     "execution_count": 52,
     "metadata": {},
     "output_type": "execute_result"
    }
   ],
   "source": [
    "x = np.abs( love_scores[np.newaxis,:] - love_scores[:,np.newaxis])\n",
    "x"
   ]
  },
  {
   "cell_type": "code",
   "execution_count": 44,
   "id": "9e0011f8-0466-4616-8f2f-1a08c9e9a970",
   "metadata": {},
   "outputs": [
    {
     "data": {
      "text/plain": [
       "(10, 1)"
      ]
     },
     "execution_count": 44,
     "metadata": {},
     "output_type": "execute_result"
    }
   ],
   "source": []
  },
  {
   "cell_type": "markdown",
   "id": "a71c4c37-cd30-492d-9d80-6637b50f34da",
   "metadata": {
    "tags": []
   },
   "source": [
    "### number 5"
   ]
  },
  {
   "cell_type": "markdown",
   "id": "f6f36a42-38a5-48ef-8a32-0bd1ab85dccb",
   "metadata": {},
   "source": [
    "one of your pet peeves is when students rush through their exams to teach them a lesson\n",
    "you decide to give zeroes to the first three students who score less than 60 in the order they turned in their\n",
    "exams so given a 1d array of integers identify the first three values less than 60\n",
    "and replace them with zero"
   ]
  },
  {
   "cell_type": "code",
   "execution_count": 71,
   "id": "f5d0a478-4f07-4d15-86e1-caac89bd9149",
   "metadata": {},
   "outputs": [
    {
     "name": "stdout",
     "output_type": "stream",
     "text": [
      "[68. 36. 76. 57. 56. 54. 63. 64. 36. 88. 80. 82. 84. 76. 42.]\n"
     ]
    }
   ],
   "source": [
    "import numpy as np \n",
    "generator = np.random.default_rng(80085)\n",
    "scores = np.round(generator.uniform(30,100,15))\n",
    "print(scores)"
   ]
  },
  {
   "cell_type": "markdown",
   "id": "f3777990-b1db-414d-8faa-525844640ac9",
   "metadata": {
    "tags": []
   },
   "source": [
    "## Solution"
   ]
  },
  {
   "cell_type": "code",
   "execution_count": null,
   "id": "562c0b6a-9167-4bea-9ebd-5b4439fcdb67",
   "metadata": {
    "tags": []
   },
   "outputs": [],
   "source": [
    "#"
   ]
  },
  {
   "cell_type": "code",
   "execution_count": 80,
   "id": "1a0fde95-25c3-496e-a50d-7e639953aab9",
   "metadata": {},
   "outputs": [
    {
     "data": {
      "text/plain": [
       "array([68.,  0., 76.,  0.,  0., 54., 63., 64., 36., 88., 80., 82., 84.,\n",
       "       76., 42.])"
      ]
     },
     "execution_count": 80,
     "metadata": {},
     "output_type": "execute_result"
    }
   ],
   "source": [
    "scores[(scores <60).nonzero()[0][:3]] = 0\n",
    "scores"
   ]
  },
  {
   "cell_type": "markdown",
   "id": "047ac5ce-0efa-4690-8054-657cf63432ca",
   "metadata": {
    "tags": []
   },
   "source": [
    "### number 6"
   ]
  },
  {
   "cell_type": "markdown",
   "id": "ab71b18e-5ba7-460c-8d8f-48187da31be5",
   "metadata": {},
   "source": [
    "Eager to make your mark on PTA,you decide the best way to hide eggs for the upcoming easter egg hunt is to use numpy\n",
    "you represent the field as a 10 by 10 array of zeros now your goal is to insert 20 random\n",
    "normal values at random non-repeating locations in the grid that tell you how much candy to hide at\n",
    "each spot and where "
   ]
  },
  {
   "cell_type": "code",
   "execution_count": 100,
   "id": "ed2ab64c-c242-4ab2-82b9-f746b8316e59",
   "metadata": {},
   "outputs": [
    {
     "name": "stdout",
     "output_type": "stream",
     "text": [
      "[[0. 0. 0. 0. 0. 0. 0. 0. 0. 0.]\n",
      " [0. 0. 0. 0. 0. 0. 0. 0. 0. 0.]\n",
      " [0. 0. 0. 0. 0. 0. 0. 0. 0. 0.]\n",
      " [0. 0. 0. 0. 0. 0. 0. 0. 0. 0.]\n",
      " [0. 0. 0. 0. 0. 0. 0. 0. 0. 0.]\n",
      " [0. 0. 0. 0. 0. 0. 0. 0. 0. 0.]\n",
      " [0. 0. 0. 0. 0. 0. 0. 0. 0. 0.]\n",
      " [0. 0. 0. 0. 0. 0. 0. 0. 0. 0.]\n",
      " [0. 0. 0. 0. 0. 0. 0. 0. 0. 0.]\n",
      " [0. 0. 0. 0. 0. 0. 0. 0. 0. 0.]]\n"
     ]
    }
   ],
   "source": [
    "import numpy as np\n",
    "field = np.zeros(shape=(10,10))\n",
    "print(field)"
   ]
  },
  {
   "cell_type": "markdown",
   "id": "5c5d2db4-8f29-400c-91d6-1452818ed595",
   "metadata": {
    "tags": []
   },
   "source": [
    "## Solution"
   ]
  },
  {
   "cell_type": "code",
   "execution_count": null,
   "id": "18201459-ab90-4cfd-af41-df4abd0608a8",
   "metadata": {
    "tags": []
   },
   "outputs": [],
   "source": [
    "#"
   ]
  },
  {
   "cell_type": "code",
   "execution_count": 107,
   "id": "5161bf02-d4d8-4302-8fbb-94b8ba8edaef",
   "metadata": {},
   "outputs": [
    {
     "data": {
      "text/plain": [
       "array([[ 0.  , -0.05,  0.  ,  0.  ,  0.  ,  0.68,  0.  ,  0.  , -0.08,  0.  ],\n",
       "       [ 0.  ,  0.  , -0.71,  0.  ,  0.  ,  0.  ,  0.  ,  0.  ,  0.  ,  0.  ],\n",
       "       [ 0.  ,  0.  ,  0.  ,  0.  ,  0.  ,  0.  ,  0.  ,  0.  , -0.29,  0.24],\n",
       "       [ 0.  ,  0.  ,  0.09,  0.  ,  0.08, -0.84,  0.  , -0.28,  0.  , -0.71],\n",
       "       [-0.78,  0.  ,  0.  , -0.94,  0.  ,  0.  ,  0.  ,  0.43,  0.  ,  0.  ],\n",
       "       [ 0.  ,  0.  , -0.28, -0.78,  0.72, -0.98,  0.  ,  0.  ,  0.  ,  0.  ],\n",
       "       [-0.08,  0.  ,  0.  ,  0.  ,  0.  ,  0.  ,  0.  ,  0.  , -0.94,  0.  ],\n",
       "       [ 0.  ,  0.26,  0.  , -0.05,  0.  ,  0.  ,  0.  ,  0.  ,  0.  ,  0.68],\n",
       "       [ 0.72,  0.31,  0.  ,  0.  , -0.98, -0.02,  0.08, -0.84,  0.  ,  0.26],\n",
       "       [-1.74,  0.  ,  0.  ,  0.  , -0.71,  0.24,  0.  ,  0.09,  0.  ,  0.  ]])"
      ]
     },
     "execution_count": 107,
     "metadata": {},
     "output_type": "execute_result"
    }
   ],
   "source": [
    "np.set_printoptions(linewidth=999)\n",
    "generator = np.random.default_rng(300)\n",
    "vals = np.round(generator.normal(size = 20),2)\n",
    "loc_row = generator.choice(10, len(vals), replace= True)\n",
    "generator = np.random.default_rng(100)\n",
    "loc_col = generator.choice(10, len(vals), replace= True)\n",
    "field[loc_row, loc_col] = vals\n",
    "field"
   ]
  },
  {
   "cell_type": "code",
   "execution_count": 105,
   "id": "965d61aa-cac3-449e-83ad-f64e4e22d128",
   "metadata": {},
   "outputs": [
    {
     "data": {
      "text/plain": [
       "array([ 0,  1,  2,  3,  4,  5,  6,  7,  8,  9, 10, 11, 12, 13, 14, 15, 16, 17, 18, 19, 20, 21, 22, 23, 24, 25, 26, 27, 28, 29, 30, 31, 32, 33, 34, 35, 36, 37, 38, 39, 40, 41, 42, 43, 44, 45, 46, 47, 48, 49, 50, 51, 52, 53, 54, 55, 56, 57, 58, 59, 60, 61, 62, 63, 64, 65, 66, 67, 68, 69, 70, 71, 72, 73, 74, 75, 76, 77, 78, 79, 80, 81, 82, 83, 84, 85, 86, 87, 88, 89, 90, 91, 92, 93, 94, 95, 96, 97, 98, 99])"
      ]
     },
     "execution_count": 105,
     "metadata": {},
     "output_type": "execute_result"
    }
   ],
   "source": [
    "field.flatten()\n",
    "\n",
    "x = np.arange(100).reshape(25,2,2)\n",
    "\n",
    "x.ravel()"
   ]
  },
  {
   "cell_type": "markdown",
   "id": "6fe1da88-f591-48ce-9902-557a487bb68a",
   "metadata": {
    "tags": []
   },
   "source": [
    "### number 7"
   ]
  },
  {
   "cell_type": "markdown",
   "id": "e2de96cb-e385-45ad-89c3-9c3e51c8ca32",
   "metadata": {},
   "source": [
    "your given a  10x2 array of floats where each row represents a movie the first column represents the movie's\n",
    "rating and the second column represents the director's rating your goal is to create a third column to\n",
    "represent the overall rating the overall rating is equal to the movie rating if it exists\n",
    "otherwise it's the director's rating"
   ]
  },
  {
   "cell_type": "code",
   "execution_count": 109,
   "id": "ffd6f89f-acb4-4ff0-b7ed-3db7aa057f48",
   "metadata": {},
   "outputs": [
    {
     "data": {
      "text/plain": [
       "array([[ 7.,  1.],\n",
       "       [nan,  2.],\n",
       "       [nan,  8.],\n",
       "       [ 9.,  3.],\n",
       "       [ 8.,  9.],\n",
       "       [ 5.,  2.],\n",
       "       [ 8.,  2.],\n",
       "       [nan,  6.],\n",
       "       [ 9.,  2.],\n",
       "       [nan,  5.]])"
      ]
     },
     "execution_count": 109,
     "metadata": {},
     "output_type": "execute_result"
    }
   ],
   "source": [
    "import numpy as np \n",
    "generator = np.random.default_rng(123)\n",
    "ratings = np.round(generator.uniform(0.0,10.0,size=(10,2)))\n",
    "ratings[[1,2,7,9],[0,0,0,0]] = np.nan\n",
    "ratings"
   ]
  },
  {
   "cell_type": "markdown",
   "id": "60a661f8-be59-47c3-9d50-614430a2af09",
   "metadata": {
    "tags": []
   },
   "source": [
    "## Solution"
   ]
  },
  {
   "cell_type": "code",
   "execution_count": 121,
   "id": "012c27e8-125e-466b-b3ff-d4b398f1f8d6",
   "metadata": {},
   "outputs": [
    {
     "name": "stdout",
     "output_type": "stream",
     "text": [
      "[[ 7.  1.  7.]\n",
      " [nan  2.  2.]\n",
      " [nan  8.  8.]\n",
      " [ 9.  3.  9.]\n",
      " [ 8.  9.  8.]\n",
      " [ 5.  2.  5.]\n",
      " [ 8.  2.  8.]\n",
      " [nan  6.  6.]\n",
      " [ 9.  2.  9.]\n",
      " [nan  5.  5.]]\n"
     ]
    }
   ],
   "source": [
    "x = np.where(np.isnan(ratings[:,0]), ratings[:,1], ratings[:,0]  )\n",
    "result = np.insert(ratings, values = x , axis = 1, obj=2)\n",
    "print(result)"
   ]
  },
  {
   "cell_type": "markdown",
   "id": "5150088e-8aff-47ac-b875-9fe68143e4d2",
   "metadata": {
    "tags": []
   },
   "source": [
    "### number 8"
   ]
  },
  {
   "cell_type": "markdown",
   "id": "1b9365e8-20f8-4a2f-930c-b8ce5d7f02a1",
   "metadata": {},
   "source": [
    "10 fish occupy a 5x5x5 grid of water each fish decides to move to a new (i,j,k)\n",
    "location given by the matrix below if multiple fish end up occupying the same cell the\n",
    "biggest fish eats the smaller fish determine which fish will survive"
   ]
  },
  {
   "cell_type": "code",
   "execution_count": 34,
   "id": "e34f057d-4c5e-4c95-be85-1bd797370948",
   "metadata": {},
   "outputs": [
    {
     "data": {
      "text/plain": [
       "array([[[0, 0, 0],\n",
       "        [1, 1, 2],\n",
       "        [0, 0, 0],\n",
       "        [2, 1, 3],\n",
       "        [5, 5, 4],\n",
       "        [5, 0, 0],\n",
       "        [5, 0, 0],\n",
       "        [0, 0, 0],\n",
       "        [2, 1, 3],\n",
       "        [1, 3, 1]]])"
      ]
     },
     "execution_count": 34,
     "metadata": {},
     "output_type": "execute_result"
    }
   ],
   "source": [
    "import numpy as np\n",
    "locs = np.array([[\n",
    "    [0,0,0],\n",
    "    [1,1,2],\n",
    "    [0,0,0],\n",
    "    [2,1,3],\n",
    "    [5,5,4],\n",
    "    [5,0,0],\n",
    "    [5,0,0],\n",
    "    [0,0,0],\n",
    "    [2,1,3],\n",
    "    [1,3,1]\n",
    "]])\n",
    "locs"
   ]
  },
  {
   "cell_type": "code",
   "execution_count": 166,
   "id": "2442795a-78fd-4714-91f4-b03e196f4dad",
   "metadata": {},
   "outputs": [
    {
     "data": {
      "text/plain": [
       "array([30, 12, 30, 26, 10, 37, 13, 39, 35, 35], dtype=int64)"
      ]
     },
     "execution_count": 166,
     "metadata": {},
     "output_type": "execute_result"
    }
   ],
   "source": [
    "generator = np.random.default_rng(1010)\n",
    "weights = generator.integers(10,40,size=10)\n",
    "weights"
   ]
  },
  {
   "cell_type": "markdown",
   "id": "bdb55d23-8e3d-4651-a7bc-ef50ad0e6a86",
   "metadata": {
    "tags": []
   },
   "source": [
    "## Solution"
   ]
  },
  {
   "cell_type": "code",
   "execution_count": 167,
   "id": "49fd2a55-9f97-4b22-96cc-685feb5221f1",
   "metadata": {
    "tags": []
   },
   "outputs": [
    {
     "data": {
      "text/plain": [
       "array([4, 1, 6, 3, 0, 2, 8, 9, 5, 7], dtype=int64)"
      ]
     },
     "execution_count": 167,
     "metadata": {},
     "output_type": "execute_result"
    }
   ],
   "source": [
    "weights.argsort()"
   ]
  },
  {
   "cell_type": "markdown",
   "id": "01bfd2d3-433a-4e84-8fd4-4b2141c5dd2b",
   "metadata": {},
   "source": [
    "### number 9"
   ]
  },
  {
   "cell_type": "markdown",
   "id": "0c87b19a-f67f-4404-9b33-76f8448e370e",
   "metadata": {},
   "source": [
    "you own a taco truck thats open 24/7 and you manage five employees who run it employees work solo eight-hour shifts you decide the\n",
    "best way to set their schedule for the upcoming week is to create a bunch of random schedules and select the one that looks best\n",
    "you build a 1000 by 21 array of random employee ids where element (i,j) gives the employee id\n",
    "working shift j for schedule i a schedule is valid as long as no employee works two\n",
    "consecutive shifts get the row index of all valid schedules"
   ]
  },
  {
   "cell_type": "code",
   "execution_count": 2,
   "id": "f197e241-cf39-4660-b651-b7d9c45da178",
   "metadata": {},
   "outputs": [
    {
     "name": "stdout",
     "output_type": "stream",
     "text": [
      "[[4 3 0 ... 2 0 0]\n",
      " [2 4 3 ... 3 3 2]\n",
      " [1 0 1 ... 1 2 1]\n",
      " ...\n",
      " [2 2 1 ... 3 1 4]\n",
      " [1 0 3 ... 2 3 2]\n",
      " [1 1 4 ... 2 4 2]]\n"
     ]
    }
   ],
   "source": [
    "import numpy as np\n",
    "generator = np.random.default_rng(999)\n",
    "schedules = generator.integers(0,5,size= (1000,21))\n",
    "print(schedules)"
   ]
  },
  {
   "cell_type": "markdown",
   "id": "92d62128-7c7e-4f38-909d-665fd6c3efd9",
   "metadata": {
    "tags": []
   },
   "source": [
    "## Solution"
   ]
  },
  {
   "cell_type": "code",
   "execution_count": null,
   "id": "bbd76844-80b5-4c24-8f00-71e51113ebbc",
   "metadata": {
    "tags": []
   },
   "outputs": [],
   "source": [
    "#"
   ]
  },
  {
   "cell_type": "markdown",
   "id": "5b96448a-94c5-4aa1-8baa-0eb37922ebda",
   "metadata": {},
   "source": [
    "### number 10"
   ]
  },
  {
   "cell_type": "markdown",
   "id": "089fa82b-a582-429a-9787-b1b3fd52ea7f",
   "metadata": {},
   "source": [
    "you manage a local department for the Census. responsible for measuring the population of each block in the city where you live\n",
    "even though you could do it yourself for each of the last five years you've tasked this job to your subordinate ,jim\n",
    "what jim gives you each year is a 2x4 array of his population estimates\n",
    "where each element of the array represents a city block after five years you have a five by two\n",
    "by four array of population estimates called gym where i,j,k represents\n",
    "jim's population estimate for block jk in your eye the thing is\n",
    "you don't fully trust jim's estimates because you see him spending an ungodly amount of time on facebook\n",
    "so each year you go behind his back and measure the population of two city blocks after five years\n",
    "you have the following data blocks a five by two by two array indicating\n",
    "which blocks you measured each year where i j gives the coordinates for the\n",
    "jth block you measured in year i and pops a corresponding 5x2 array\n",
    "with the population you measured for the jth block in year i how many times was jim's estimate at\n",
    "least 10 higher or lower than your estimate."
   ]
  },
  {
   "cell_type": "code",
   "execution_count": 5,
   "id": "28cb820c-feee-45a6-9179-bd02a8abb358",
   "metadata": {},
   "outputs": [
    {
     "name": "stdout",
     "output_type": "stream",
     "text": [
      "[[[106. 103.  92. 100.]\n",
      "  [ 94. 102.  94. 100.]]\n",
      "\n",
      " [[104.  96. 109.  96.]\n",
      "  [101. 104. 102.  92.]]\n",
      "\n",
      " [[102. 102. 108. 101.]\n",
      "  [ 91. 101. 106.  99.]]\n",
      "\n",
      " [[101.  98.  95. 102.]\n",
      "  [100. 101.  99.  93.]]\n",
      "\n",
      " [[107. 101. 104. 105.]\n",
      "  [102.  97. 101. 102.]]]\n"
     ]
    }
   ],
   "source": [
    "import numpy as np \n",
    "generator = np.random.default_rng(2357)\n",
    "jim = np.round(generator.normal(100,5,size=(5,2,4)))\n",
    "print(jim)"
   ]
  },
  {
   "cell_type": "code",
   "execution_count": 7,
   "id": "e2ffc6b5-98b5-4dff-b65b-f04deaef5795",
   "metadata": {},
   "outputs": [],
   "source": [
    "blocks = np.array([\n",
    "    [[0,2],[1,3]],\n",
    "    [[1,2],[0,0]],\n",
    "    [[0,0],[1,2]],\n",
    "    [[1,1],[0,3]],\n",
    "    [[0,1],[1,0]]\n",
    "])"
   ]
  },
  {
   "cell_type": "code",
   "execution_count": 9,
   "id": "52ffc024-0465-43c5-8e2c-1d6a199748ee",
   "metadata": {},
   "outputs": [],
   "source": [
    "pops = np.array([\n",
    "    [100,105 ],\n",
    "    [110,92],\n",
    "    [95,99],\n",
    "    [95,99],\n",
    "    [89,107],\n",
    "    [101,98]\n",
    "])"
   ]
  },
  {
   "cell_type": "markdown",
   "id": "572163d1-4cc4-488d-ab5b-c47fe1030184",
   "metadata": {
    "tags": []
   },
   "source": [
    "## Solution"
   ]
  },
  {
   "cell_type": "code",
   "execution_count": null,
   "id": "33f89984-ce3b-4825-9832-148fcac11fcd",
   "metadata": {
    "tags": []
   },
   "outputs": [],
   "source": [
    "#"
   ]
  },
  {
   "cell_type": "markdown",
   "id": "ebfbceaa-0cb4-4385-87fb-6d6f1ab31e0c",
   "metadata": {},
   "source": [
    "### number 11"
   ]
  },
  {
   "cell_type": "markdown",
   "id": "c2ba1c05-5776-4773-8cd6-f5118d0a1bac",
   "metadata": {},
   "source": [
    "given 10x10x10 array of zeros set (i,j,k)=1 if all of the following hold true \n",
    "1. i is odd\n",
    "2. j is even\n",
    "3. and k is prime\n",
    "in other words set these elements to one : ((1,0,2),(1,0,3,...))"
   ]
  },
  {
   "cell_type": "code",
   "execution_count": 160,
   "id": "f12b847b-0fac-496a-ab11-fbde2eff7773",
   "metadata": {
    "tags": []
   },
   "outputs": [
    {
     "data": {
      "text/plain": [
       "array([[[0., 0., 0., 0., 0., 0., 0., 0., 0., 0.],\n",
       "        [0., 0., 0., 0., 0., 0., 0., 0., 0., 0.],\n",
       "        [0., 0., 0., 0., 0., 0., 0., 0., 0., 0.],\n",
       "        [0., 0., 0., 0., 0., 0., 0., 0., 0., 0.],\n",
       "        [0., 0., 0., 0., 0., 0., 0., 0., 0., 0.],\n",
       "        [0., 0., 0., 0., 0., 0., 0., 0., 0., 0.],\n",
       "        [0., 0., 0., 0., 0., 0., 0., 0., 0., 0.],\n",
       "        [0., 0., 0., 0., 0., 0., 0., 0., 0., 0.],\n",
       "        [0., 0., 0., 0., 0., 0., 0., 0., 0., 0.],\n",
       "        [0., 0., 0., 0., 0., 0., 0., 0., 0., 0.]],\n",
       "\n",
       "       [[0., 0., 0., 0., 0., 0., 0., 0., 0., 0.],\n",
       "        [0., 0., 0., 0., 0., 0., 0., 0., 0., 0.],\n",
       "        [0., 0., 0., 0., 0., 0., 0., 0., 0., 0.],\n",
       "        [0., 0., 0., 0., 0., 0., 0., 0., 0., 0.],\n",
       "        [0., 0., 0., 0., 0., 0., 0., 0., 0., 0.],\n",
       "        [0., 0., 0., 0., 0., 0., 0., 0., 0., 0.],\n",
       "        [0., 0., 0., 0., 0., 0., 0., 0., 0., 0.],\n",
       "        [0., 0., 0., 0., 0., 0., 0., 0., 0., 0.],\n",
       "        [0., 0., 0., 0., 0., 0., 0., 0., 0., 0.],\n",
       "        [0., 0., 0., 0., 0., 0., 0., 0., 0., 0.]]])"
      ]
     },
     "execution_count": 160,
     "metadata": {},
     "output_type": "execute_result"
    }
   ],
   "source": [
    "import numpy as np \n",
    "chawy = np.zeros((10,10,10))\n",
    "chawy[:2]"
   ]
  },
  {
   "cell_type": "markdown",
   "id": "675ce5fb-436b-45c5-9b34-1c13675e5b17",
   "metadata": {
    "tags": []
   },
   "source": [
    "## Solution"
   ]
  },
  {
   "cell_type": "code",
   "execution_count": 164,
   "id": "4a07b1dd-87b7-4945-ab5b-cda1ecaa7e41",
   "metadata": {
    "tags": []
   },
   "outputs": [
    {
     "data": {
      "text/plain": [
       "array([[[0., 0., 0., 0., 0., 0., 0., 0., 0., 0.],\n",
       "        [0., 0., 0., 0., 0., 0., 0., 0., 0., 0.],\n",
       "        [0., 0., 0., 0., 0., 0., 0., 0., 0., 0.],\n",
       "        [0., 0., 0., 0., 0., 0., 0., 0., 0., 0.],\n",
       "        [0., 0., 0., 0., 0., 0., 0., 0., 0., 0.],\n",
       "        [0., 0., 0., 0., 0., 0., 0., 0., 0., 0.],\n",
       "        [0., 0., 0., 0., 0., 0., 0., 0., 0., 0.],\n",
       "        [0., 0., 0., 0., 0., 0., 0., 0., 0., 0.],\n",
       "        [0., 0., 0., 0., 0., 0., 0., 0., 0., 0.],\n",
       "        [0., 0., 0., 0., 0., 0., 0., 0., 0., 0.]],\n",
       "\n",
       "       [[0., 0., 1., 1., 0., 1., 0., 1., 0., 0.],\n",
       "        [0., 0., 0., 0., 0., 0., 0., 0., 0., 0.],\n",
       "        [0., 0., 1., 1., 0., 1., 0., 1., 0., 0.],\n",
       "        [0., 0., 0., 0., 0., 0., 0., 0., 0., 0.],\n",
       "        [0., 0., 1., 1., 0., 1., 0., 1., 0., 0.],\n",
       "        [0., 0., 0., 0., 0., 0., 0., 0., 0., 0.],\n",
       "        [0., 0., 1., 1., 0., 1., 0., 1., 0., 0.],\n",
       "        [0., 0., 0., 0., 0., 0., 0., 0., 0., 0.],\n",
       "        [0., 0., 1., 1., 0., 1., 0., 1., 0., 0.],\n",
       "        [0., 0., 0., 0., 0., 0., 0., 0., 0., 0.]],\n",
       "\n",
       "       [[0., 0., 0., 0., 0., 0., 0., 0., 0., 0.],\n",
       "        [0., 0., 0., 0., 0., 0., 0., 0., 0., 0.],\n",
       "        [0., 0., 0., 0., 0., 0., 0., 0., 0., 0.],\n",
       "        [0., 0., 0., 0., 0., 0., 0., 0., 0., 0.],\n",
       "        [0., 0., 0., 0., 0., 0., 0., 0., 0., 0.],\n",
       "        [0., 0., 0., 0., 0., 0., 0., 0., 0., 0.],\n",
       "        [0., 0., 0., 0., 0., 0., 0., 0., 0., 0.],\n",
       "        [0., 0., 0., 0., 0., 0., 0., 0., 0., 0.],\n",
       "        [0., 0., 0., 0., 0., 0., 0., 0., 0., 0.],\n",
       "        [0., 0., 0., 0., 0., 0., 0., 0., 0., 0.]],\n",
       "\n",
       "       [[0., 0., 1., 1., 0., 1., 0., 1., 0., 0.],\n",
       "        [0., 0., 0., 0., 0., 0., 0., 0., 0., 0.],\n",
       "        [0., 0., 1., 1., 0., 1., 0., 1., 0., 0.],\n",
       "        [0., 0., 0., 0., 0., 0., 0., 0., 0., 0.],\n",
       "        [0., 0., 1., 1., 0., 1., 0., 1., 0., 0.],\n",
       "        [0., 0., 0., 0., 0., 0., 0., 0., 0., 0.],\n",
       "        [0., 0., 1., 1., 0., 1., 0., 1., 0., 0.],\n",
       "        [0., 0., 0., 0., 0., 0., 0., 0., 0., 0.],\n",
       "        [0., 0., 1., 1., 0., 1., 0., 1., 0., 0.],\n",
       "        [0., 0., 0., 0., 0., 0., 0., 0., 0., 0.]],\n",
       "\n",
       "       [[0., 0., 0., 0., 0., 0., 0., 0., 0., 0.],\n",
       "        [0., 0., 0., 0., 0., 0., 0., 0., 0., 0.],\n",
       "        [0., 0., 0., 0., 0., 0., 0., 0., 0., 0.],\n",
       "        [0., 0., 0., 0., 0., 0., 0., 0., 0., 0.],\n",
       "        [0., 0., 0., 0., 0., 0., 0., 0., 0., 0.],\n",
       "        [0., 0., 0., 0., 0., 0., 0., 0., 0., 0.],\n",
       "        [0., 0., 0., 0., 0., 0., 0., 0., 0., 0.],\n",
       "        [0., 0., 0., 0., 0., 0., 0., 0., 0., 0.],\n",
       "        [0., 0., 0., 0., 0., 0., 0., 0., 0., 0.],\n",
       "        [0., 0., 0., 0., 0., 0., 0., 0., 0., 0.]],\n",
       "\n",
       "       [[0., 0., 1., 1., 0., 1., 0., 1., 0., 0.],\n",
       "        [0., 0., 0., 0., 0., 0., 0., 0., 0., 0.],\n",
       "        [0., 0., 1., 1., 0., 1., 0., 1., 0., 0.],\n",
       "        [0., 0., 0., 0., 0., 0., 0., 0., 0., 0.],\n",
       "        [0., 0., 1., 1., 0., 1., 0., 1., 0., 0.],\n",
       "        [0., 0., 0., 0., 0., 0., 0., 0., 0., 0.],\n",
       "        [0., 0., 1., 1., 0., 1., 0., 1., 0., 0.],\n",
       "        [0., 0., 0., 0., 0., 0., 0., 0., 0., 0.],\n",
       "        [0., 0., 1., 1., 0., 1., 0., 1., 0., 0.],\n",
       "        [0., 0., 0., 0., 0., 0., 0., 0., 0., 0.]],\n",
       "\n",
       "       [[0., 0., 0., 0., 0., 0., 0., 0., 0., 0.],\n",
       "        [0., 0., 0., 0., 0., 0., 0., 0., 0., 0.],\n",
       "        [0., 0., 0., 0., 0., 0., 0., 0., 0., 0.],\n",
       "        [0., 0., 0., 0., 0., 0., 0., 0., 0., 0.],\n",
       "        [0., 0., 0., 0., 0., 0., 0., 0., 0., 0.],\n",
       "        [0., 0., 0., 0., 0., 0., 0., 0., 0., 0.],\n",
       "        [0., 0., 0., 0., 0., 0., 0., 0., 0., 0.],\n",
       "        [0., 0., 0., 0., 0., 0., 0., 0., 0., 0.],\n",
       "        [0., 0., 0., 0., 0., 0., 0., 0., 0., 0.],\n",
       "        [0., 0., 0., 0., 0., 0., 0., 0., 0., 0.]],\n",
       "\n",
       "       [[0., 0., 1., 1., 0., 1., 0., 1., 0., 0.],\n",
       "        [0., 0., 0., 0., 0., 0., 0., 0., 0., 0.],\n",
       "        [0., 0., 1., 1., 0., 1., 0., 1., 0., 0.],\n",
       "        [0., 0., 0., 0., 0., 0., 0., 0., 0., 0.],\n",
       "        [0., 0., 1., 1., 0., 1., 0., 1., 0., 0.],\n",
       "        [0., 0., 0., 0., 0., 0., 0., 0., 0., 0.],\n",
       "        [0., 0., 1., 1., 0., 1., 0., 1., 0., 0.],\n",
       "        [0., 0., 0., 0., 0., 0., 0., 0., 0., 0.],\n",
       "        [0., 0., 1., 1., 0., 1., 0., 1., 0., 0.],\n",
       "        [0., 0., 0., 0., 0., 0., 0., 0., 0., 0.]],\n",
       "\n",
       "       [[0., 0., 0., 0., 0., 0., 0., 0., 0., 0.],\n",
       "        [0., 0., 0., 0., 0., 0., 0., 0., 0., 0.],\n",
       "        [0., 0., 0., 0., 0., 0., 0., 0., 0., 0.],\n",
       "        [0., 0., 0., 0., 0., 0., 0., 0., 0., 0.],\n",
       "        [0., 0., 0., 0., 0., 0., 0., 0., 0., 0.],\n",
       "        [0., 0., 0., 0., 0., 0., 0., 0., 0., 0.],\n",
       "        [0., 0., 0., 0., 0., 0., 0., 0., 0., 0.],\n",
       "        [0., 0., 0., 0., 0., 0., 0., 0., 0., 0.],\n",
       "        [0., 0., 0., 0., 0., 0., 0., 0., 0., 0.],\n",
       "        [0., 0., 0., 0., 0., 0., 0., 0., 0., 0.]],\n",
       "\n",
       "       [[0., 0., 1., 1., 0., 1., 0., 1., 0., 0.],\n",
       "        [0., 0., 0., 0., 0., 0., 0., 0., 0., 0.],\n",
       "        [0., 0., 1., 1., 0., 1., 0., 1., 0., 0.],\n",
       "        [0., 0., 0., 0., 0., 0., 0., 0., 0., 0.],\n",
       "        [0., 0., 1., 1., 0., 1., 0., 1., 0., 0.],\n",
       "        [0., 0., 0., 0., 0., 0., 0., 0., 0., 0.],\n",
       "        [0., 0., 1., 1., 0., 1., 0., 1., 0., 0.],\n",
       "        [0., 0., 0., 0., 0., 0., 0., 0., 0., 0.],\n",
       "        [0., 0., 1., 1., 0., 1., 0., 1., 0., 0.],\n",
       "        [0., 0., 0., 0., 0., 0., 0., 0., 0., 0.]]])"
      ]
     },
     "execution_count": 164,
     "metadata": {},
     "output_type": "execute_result"
    }
   ],
   "source": [
    "i= np.array([1,3,5,7,9])\n",
    "j = np.array([0,2,4,6,8])\n",
    "k = np.array([2,3,5,7])\n",
    "\n",
    "chawy[i[:,np.newaxis, np.newaxis], j[np.newaxis,:, np.newaxis], k[np.newaxis,np.newaxis, :]] = 1\n",
    "\n",
    "chawy"
   ]
  },
  {
   "cell_type": "markdown",
   "id": "51b32fa3-e6a7-45fd-b49e-d4d90e849d66",
   "metadata": {},
   "source": [
    "### number 12"
   ]
  },
  {
   "cell_type": "markdown",
   "id": "80e92dc1-9c89-452e-b69f-6685bc285af0",
   "metadata": {},
   "source": [
    "you're preparing for a game show where you play the following game:\n",
    "you're faced with four doors behind one\n",
    "door is cash money and behind the other three doors is a steaming pile of broccoli\n",
    "if you pick the door with money you get the option to play again at the risk of losing the money you've collected thus far\n",
    "if you keep winning you can play a maximum of three rounds before the game show host kicks you off his show you have some\n",
    "strategy ideas you'd like to evaluate before you go on the show so you hired an unpaid intern to scour\n",
    "through historic recordings of the show and log data on where prizes were located\n",
    "and the value of each prize your intern gets back to you with the following matrices\n",
    "\n",
    "* ``prize_doors`` a 5x3 array where element (i,j) gives the door hiding the prize in the\n",
    "jth round of the ith game and \n",
    "* ``prizes`` a 5x3 array where element (i,j) gives the prize amount in round j of the ith game \n",
    "\n",
    "build a 5x3x4 matrix\n",
    "where i j k represents the prize behind door k of round j of game i"
   ]
  },
  {
   "cell_type": "code",
   "execution_count": 19,
   "id": "e1108575-2f5b-4538-9467-c44d7f86e377",
   "metadata": {},
   "outputs": [],
   "source": [
    "import numpy as np \n",
    "prize_doors = np.array([\n",
    "    [1,0,2],\n",
    "    [0,0,1],\n",
    "    [3,3,1],\n",
    "    [1,2,0],\n",
    "    [2,1,1]\n",
    "])\n",
    "\n",
    "prizes = np.array([\n",
    "    [100,150,500],\n",
    "    [200,300,250],\n",
    "    [150,100,325],\n",
    "    [425,200,100],\n",
    "    [200,250,300]\n",
    "])"
   ]
  },
  {
   "cell_type": "markdown",
   "id": "6c651fff-83af-4ada-8d5d-42b784f9d31b",
   "metadata": {
    "tags": []
   },
   "source": [
    "## Solution"
   ]
  },
  {
   "cell_type": "code",
   "execution_count": null,
   "id": "f1053f23-cc06-4efe-a61e-87bc6df869c9",
   "metadata": {
    "tags": []
   },
   "outputs": [],
   "source": [
    "#"
   ]
  },
  {
   "cell_type": "markdown",
   "id": "838abc14-e2e5-4204-aa61-9674d9762545",
   "metadata": {},
   "source": [
    "### number 13"
   ]
  },
  {
   "cell_type": "markdown",
   "id": "5238c0b7-38ef-4b3b-975f-47160e8f47ed",
   "metadata": {},
   "source": [
    "given ``peanut``a 4x5 array of zeros and ``butter`` a five element 1d array of indices\n",
    "fill the rows of peanut with ones starting from the column indices given by butter "
   ]
  },
  {
   "cell_type": "code",
   "execution_count": 21,
   "id": "3106f586-03bf-4be9-be54-0b406fb27912",
   "metadata": {},
   "outputs": [
    {
     "data": {
      "text/plain": [
       "array([[0., 0., 0., 0., 0.],\n",
       "       [0., 0., 0., 0., 0.],\n",
       "       [0., 0., 0., 0., 0.],\n",
       "       [0., 0., 0., 0., 0.]])"
      ]
     },
     "execution_count": 21,
     "metadata": {},
     "output_type": "execute_result"
    }
   ],
   "source": [
    "peanut = np.zeros((4,5))\n",
    "peanut"
   ]
  },
  {
   "cell_type": "code",
   "execution_count": 22,
   "id": "cde660d4-f703-4c61-9f9b-b52916ce609b",
   "metadata": {},
   "outputs": [
    {
     "name": "stdout",
     "output_type": "stream",
     "text": [
      "[3 0 4 1]\n"
     ]
    }
   ],
   "source": [
    "butter = np.array([3,0,4,1])\n",
    "print(butter)"
   ]
  },
  {
   "cell_type": "markdown",
   "id": "96b6cb40-c95f-45ca-9e07-a782f47f343a",
   "metadata": {
    "tags": []
   },
   "source": [
    "## Solution"
   ]
  },
  {
   "cell_type": "code",
   "execution_count": null,
   "id": "34ad597d-0bf7-45fe-9139-08f5525e99a7",
   "metadata": {
    "tags": []
   },
   "outputs": [],
   "source": [
    "#"
   ]
  },
  {
   "cell_type": "markdown",
   "id": "5b3433db-502c-4b71-804e-9135309779fc",
   "metadata": {},
   "source": [
    "### number 14"
   ]
  },
  {
   "cell_type": "markdown",
   "id": "bd8e519f-7a39-41af-8d31-e05ff6d14758",
   "metadata": {},
   "source": [
    "given an array of integers, one hot encode it into 2d array"
   ]
  },
  {
   "cell_type": "code",
   "execution_count": 23,
   "id": "66e64eb4-edcb-43b4-b22a-be71e1b5ea24",
   "metadata": {},
   "outputs": [],
   "source": [
    "import numpy as np \n",
    "yo = np.array([3,1,0,1])"
   ]
  },
  {
   "cell_type": "markdown",
   "id": "c4c69db7-77c9-459e-8a42-b4d7a6123ca3",
   "metadata": {
    "tags": []
   },
   "source": [
    "## Solution"
   ]
  },
  {
   "cell_type": "code",
   "execution_count": null,
   "id": "05324665-bd13-4721-96af-1c6229983bda",
   "metadata": {
    "tags": []
   },
   "outputs": [],
   "source": [
    "#"
   ]
  },
  {
   "cell_type": "code",
   "execution_count": 37,
   "id": "aaa0d927-f037-47d6-b67c-89b8887aed8c",
   "metadata": {},
   "outputs": [
    {
     "data": {
      "text/plain": [
       "array([[[6, 6]]])"
      ]
     },
     "execution_count": 37,
     "metadata": {},
     "output_type": "execute_result"
    }
   ],
   "source": []
  }
 ],
 "metadata": {
  "kernelspec": {
   "display_name": "Python 3 (ipykernel)",
   "language": "python",
   "name": "python3"
  },
  "language_info": {
   "codemirror_mode": {
    "name": "ipython",
    "version": 3
   },
   "file_extension": ".py",
   "mimetype": "text/x-python",
   "name": "python",
   "nbconvert_exporter": "python",
   "pygments_lexer": "ipython3",
   "version": "3.10.9"
  }
 },
 "nbformat": 4,
 "nbformat_minor": 5
}
