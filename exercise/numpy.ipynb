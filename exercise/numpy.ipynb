{
 "cells": [
  {
   "cell_type": "markdown",
   "id": "dd67875c-7c26-4888-8844-611e267ec6d4",
   "metadata": {},
   "source": [
    "## practice"
   ]
  },
  {
   "cell_type": "markdown",
   "id": "f52a2d06-87c3-48b7-bd6d-e23985cac956",
   "metadata": {},
   "source": [
    "### number 1"
   ]
  },
  {
   "cell_type": "markdown",
   "id": "06d6b0d2-84c0-49c9-91cd-fe729d0d1b53",
   "metadata": {},
   "source": [
    " with your high school reunion fast approaching you decide to get in shape and lose some\n",
    "weight you record your weight every day for five weeks starting on a monday\n",
    "given these daily weights build an array with your average weight per weekend"
   ]
  },
  {
   "cell_type": "code",
   "execution_count": 38,
   "id": "22c8a26e-6e2c-4620-b856-dc041fb5eb6c",
   "metadata": {},
   "outputs": [],
   "source": [
    "import numpy as np "
   ]
  },
  {
   "cell_type": "code",
   "execution_count": 39,
   "id": "15c524fe-5275-4751-87c9-2f6d5d3251ff",
   "metadata": {},
   "outputs": [
    {
     "name": "stdout",
     "output_type": "stream",
     "text": [
      "[185.  184.8 184.6 184.4 184.2 184.  183.8 183.6 183.4 183.2 183.  182.8\n",
      " 182.6 182.4 182.2 182.  181.8 181.6 181.4 181.2 181.  180.8 180.6 180.4\n",
      " 180.2 180.  179.8 179.6 179.4 179.2 179.  178.8 178.6 178.4 178.2]\n"
     ]
    }
   ],
   "source": [
    "dailywts = 185-np.arange(5*7)/5\n",
    "print(dailywts)"
   ]
  },
  {
   "cell_type": "markdown",
   "id": "86c7f70e-32c4-4716-a1e4-bf61214c4d4f",
   "metadata": {},
   "source": [
    "## Solution"
   ]
  },
  {
   "cell_type": "code",
   "execution_count": 40,
   "id": "d565b913-83b4-4910-b0bd-5b6a9cd53521",
   "metadata": {},
   "outputs": [],
   "source": [
    "shanbehaa = dailywts[5::7]"
   ]
  },
  {
   "cell_type": "code",
   "execution_count": 45,
   "id": "42183c56-e2ad-434f-a327-040506206d21",
   "metadata": {},
   "outputs": [
    {
     "data": {
      "text/plain": [
       "array([184. , 182.6, 181.2, 179.8, 178.4])"
      ]
     },
     "execution_count": 45,
     "metadata": {},
     "output_type": "execute_result"
    }
   ],
   "source": [
    "shanbehaa"
   ]
  },
  {
   "cell_type": "code",
   "execution_count": 46,
   "id": "fbb14e59-383d-401a-8c87-3feca206779d",
   "metadata": {},
   "outputs": [
    {
     "data": {
      "text/plain": [
       "array([183.8, 182.4, 181. , 179.6, 178.2])"
      ]
     },
     "execution_count": 46,
     "metadata": {},
     "output_type": "execute_result"
    }
   ],
   "source": [
    "jomeha = dailywts[6::7]\n",
    "jomeha"
   ]
  },
  {
   "cell_type": "code",
   "execution_count": 47,
   "id": "a97e4b45-0ca7-4d93-aae8-c987001a116c",
   "metadata": {},
   "outputs": [
    {
     "data": {
      "text/plain": [
       "array([183.9, 182.5, 181.1, 179.7, 178.3])"
      ]
     },
     "execution_count": 47,
     "metadata": {},
     "output_type": "execute_result"
    }
   ],
   "source": [
    "(shanbehaa+jomeha)/2"
   ]
  },
  {
   "cell_type": "markdown",
   "id": "42401308-cb54-46b1-87dd-ae8633ae28b6",
   "metadata": {
    "tags": []
   },
   "source": [
    "### number 2"
   ]
  },
  {
   "cell_type": "markdown",
   "id": "19a3a414-740b-491c-9a6c-9f047d87735d",
   "metadata": {},
   "source": [
    "to become a gold miner you decide to prospect five locations underneath a 7x7 grid of land how much gold do you uncover at each location"
   ]
  },
  {
   "cell_type": "code",
   "execution_count": 48,
   "id": "72327238-55ce-4bda-8246-64449a56091c",
   "metadata": {},
   "outputs": [
    {
     "name": "stdout",
     "output_type": "stream",
     "text": [
      "[[8 3 5 5 7 5 8]\n",
      " [0 8 5 1 0 7 0]\n",
      " [2 8 4 2 3 9 1]\n",
      " [6 1 5 7 8 3 5]\n",
      " [3 0 5 7 8 5 5]\n",
      " [0 3 8 2 1 6 8]\n",
      " [0 2 9 3 6 7 3]]\n"
     ]
    }
   ],
   "source": [
    "import numpy as np\n",
    "np.random.seed(72)\n",
    "gold = np.random.randint(0,10,size=(7,7))\n",
    "print(gold)"
   ]
  },
  {
   "cell_type": "code",
   "execution_count": 49,
   "id": "38fc5843-37ed-40b0-8911-4507bd69e812",
   "metadata": {},
   "outputs": [
    {
     "name": "stdout",
     "output_type": "stream",
     "text": [
      "[[0 4]\n",
      " [2 2]\n",
      " [2 3]\n",
      " [5 1]\n",
      " [6 3]]\n"
     ]
    }
   ],
   "source": [
    "locs = np.array([\n",
    "        [0,4],\n",
    "        [2,2],\n",
    "        [2,3],\n",
    "        [5,1],\n",
    "        [6,3]\n",
    "])\n",
    "print(locs)"
   ]
  },
  {
   "cell_type": "markdown",
   "id": "0475997f-6fac-4779-83ff-255f76bd3f2b",
   "metadata": {},
   "source": [
    "## Solution"
   ]
  },
  {
   "cell_type": "code",
   "execution_count": 54,
   "id": "ddb4e8d8-690a-47e3-a98c-1f68b4c6da15",
   "metadata": {},
   "outputs": [
    {
     "data": {
      "text/plain": [
       "19"
      ]
     },
     "execution_count": 54,
     "metadata": {},
     "output_type": "execute_result"
    }
   ],
   "source": [
    "gold[locs[:,0],locs[:,1]].sum()"
   ]
  },
  {
   "cell_type": "markdown",
   "id": "5e8eaceb-1b25-49ef-a349-5e9f040c551b",
   "metadata": {
    "tags": []
   },
   "source": [
    "### number 3"
   ]
  },
  {
   "cell_type": "markdown",
   "id": "b2968481-a0da-4642-aad1-d5aa98da8b77",
   "metadata": {},
   "source": [
    "you decide to invest in a series of billboards along interstate 10 to advertise your stylish new chicken\n",
    "restaurant,Chic-fil-A. you buy three billboards evenly spaced\n",
    "starting on mile marker 17 and ending on mile marker 28 then you buy another three billboards\n",
    "evenly spaced starting on mile marker 32 and ending on mile marker 36. in order\n",
    "from mile marker 17 to 36 your billboards display these ads a,b,c\n",
    "c,b,a determine how far each c ad is from your restaurant which is\n",
    "located at mile marker 30."
   ]
  },
  {
   "cell_type": "markdown",
   "id": "2de5bcb6-0c99-4678-a679-28a60f8d344d",
   "metadata": {},
   "source": [
    "## Solution"
   ]
  },
  {
   "cell_type": "code",
   "execution_count": 64,
   "id": "81d60c3c-5cbc-41ca-97f3-9ee5545bbd1e",
   "metadata": {},
   "outputs": [],
   "source": [
    "a = np.abs(np.array([np.linspace(17,28,3),  np.linspace(32,36,3)]) - 30)\n"
   ]
  },
  {
   "cell_type": "code",
   "execution_count": 65,
   "id": "734445c9-d049-4bf5-856b-d8ef8a6d8163",
   "metadata": {},
   "outputs": [
    {
     "data": {
      "text/plain": [
       "array([2., 2.])"
      ]
     },
     "execution_count": 65,
     "metadata": {},
     "output_type": "execute_result"
    }
   ],
   "source": [
    "a[[0,1],[2,0]]"
   ]
  },
  {
   "cell_type": "code",
   "execution_count": null,
   "id": "ba37b32f-18dc-40c1-b971-58b9d80aa7f6",
   "metadata": {},
   "outputs": [],
   "source": []
  },
  {
   "cell_type": "markdown",
   "id": "7a2a5152-c5ae-459c-ac25-00648365a52d",
   "metadata": {
    "tags": []
   },
   "source": [
    "### number 4"
   ]
  },
  {
   "cell_type": "markdown",
   "id": "9c758335-8c03-4360-9b38-af1d6d4d6e8f",
   "metadata": {},
   "source": [
    "scientist and you've developed a questionnaire that determines a person's love score a real valued number between\n",
    "zero and a hundred your theory is that two people with similar love scores should make a good match\n",
    "given the love scores for 10 different people create a matrix where element ij gives the absolute difference of the\n",
    "love scores for person i and person j"
   ]
  },
  {
   "cell_type": "code",
   "execution_count": 19,
   "id": "23c44af4-c569-4cb5-84dc-7a8b2e088432",
   "metadata": {},
   "outputs": [
    {
     "name": "stdout",
     "output_type": "stream",
     "text": [
      "[ 9.5  53.58 91.77 98.15 84.88 74.61 40.94 56.49  8.39 64.69]\n"
     ]
    }
   ],
   "source": [
    "import numpy as np\n",
    "generator = np.random.default_rng(1010)\n",
    "love_scores = np.round(generator.uniform(0,100,size=10),2)\n",
    "\n",
    "print(love_scores)"
   ]
  },
  {
   "cell_type": "markdown",
   "id": "797cb14a-31f3-41d0-8f5a-06356c530e8f",
   "metadata": {},
   "source": [
    "## Solution"
   ]
  },
  {
   "cell_type": "code",
   "execution_count": null,
   "id": "86b84435-9ecb-4e0e-8b05-18e5e262b85c",
   "metadata": {
    "tags": []
   },
   "outputs": [],
   "source": [
    "#"
   ]
  },
  {
   "cell_type": "markdown",
   "id": "a71c4c37-cd30-492d-9d80-6637b50f34da",
   "metadata": {
    "tags": []
   },
   "source": [
    "### number 5"
   ]
  },
  {
   "cell_type": "markdown",
   "id": "f6f36a42-38a5-48ef-8a32-0bd1ab85dccb",
   "metadata": {},
   "source": [
    "one of your pet peeves is when students rush through their exams to teach them a lesson\n",
    "you decide to give zeroes to the first three students who score less than 60 in the order they turned in their\n",
    "exams so given a 1d array of integers identify the first three values less than 60\n",
    "and replace them with zero"
   ]
  },
  {
   "cell_type": "code",
   "execution_count": 21,
   "id": "f5d0a478-4f07-4d15-86e1-caac89bd9149",
   "metadata": {},
   "outputs": [
    {
     "name": "stdout",
     "output_type": "stream",
     "text": [
      "[68. 36. 76. 57. 56. 54. 63. 64. 36. 88. 80. 82. 84. 76. 42.]\n"
     ]
    }
   ],
   "source": [
    "import numpy as np \n",
    "generator = np.random.default_rng(80085)\n",
    "scores = np.round(generator.uniform(30,100,15))\n",
    "print(scores)"
   ]
  },
  {
   "cell_type": "markdown",
   "id": "f3777990-b1db-414d-8faa-525844640ac9",
   "metadata": {
    "tags": []
   },
   "source": [
    "## Solution"
   ]
  },
  {
   "cell_type": "code",
   "execution_count": null,
   "id": "562c0b6a-9167-4bea-9ebd-5b4439fcdb67",
   "metadata": {
    "tags": []
   },
   "outputs": [],
   "source": [
    "#"
   ]
  },
  {
   "cell_type": "markdown",
   "id": "047ac5ce-0efa-4690-8054-657cf63432ca",
   "metadata": {
    "tags": []
   },
   "source": [
    "### number 6"
   ]
  },
  {
   "cell_type": "markdown",
   "id": "ab71b18e-5ba7-460c-8d8f-48187da31be5",
   "metadata": {},
   "source": [
    "Eager to make your mark on PTA,you decide the best way to hide eggs for the upcoming easter egg hunt is to use numpy\n",
    "you represent the field as a 10 by 10 array of zeros now your goal is to insert 20 random\n",
    "normal values at random non-repeating locations in the grid that tell you how much candy to hide at\n",
    "each spot and where "
   ]
  },
  {
   "cell_type": "code",
   "execution_count": 23,
   "id": "ed2ab64c-c242-4ab2-82b9-f746b8316e59",
   "metadata": {},
   "outputs": [
    {
     "name": "stdout",
     "output_type": "stream",
     "text": [
      "[[0. 0. 0. 0. 0. 0. 0. 0. 0. 0.]\n",
      " [0. 0. 0. 0. 0. 0. 0. 0. 0. 0.]\n",
      " [0. 0. 0. 0. 0. 0. 0. 0. 0. 0.]\n",
      " [0. 0. 0. 0. 0. 0. 0. 0. 0. 0.]\n",
      " [0. 0. 0. 0. 0. 0. 0. 0. 0. 0.]\n",
      " [0. 0. 0. 0. 0. 0. 0. 0. 0. 0.]\n",
      " [0. 0. 0. 0. 0. 0. 0. 0. 0. 0.]\n",
      " [0. 0. 0. 0. 0. 0. 0. 0. 0. 0.]\n",
      " [0. 0. 0. 0. 0. 0. 0. 0. 0. 0.]\n",
      " [0. 0. 0. 0. 0. 0. 0. 0. 0. 0.]]\n"
     ]
    }
   ],
   "source": [
    "import numpy as np\n",
    "field = np.zeros(shape=(10,10))\n",
    "print(field)"
   ]
  },
  {
   "cell_type": "markdown",
   "id": "5c5d2db4-8f29-400c-91d6-1452818ed595",
   "metadata": {
    "tags": []
   },
   "source": [
    "## Solution"
   ]
  },
  {
   "cell_type": "code",
   "execution_count": null,
   "id": "18201459-ab90-4cfd-af41-df4abd0608a8",
   "metadata": {
    "tags": []
   },
   "outputs": [],
   "source": [
    "#"
   ]
  },
  {
   "cell_type": "markdown",
   "id": "6fe1da88-f591-48ce-9902-557a487bb68a",
   "metadata": {
    "tags": []
   },
   "source": [
    "### number 7"
   ]
  },
  {
   "cell_type": "markdown",
   "id": "e2de96cb-e385-45ad-89c3-9c3e51c8ca32",
   "metadata": {},
   "source": [
    "your given a  10x2 array of floats where each row represents a movie the first column represents the movie's\n",
    "rating and the second column represents the director's rating your goal is to create a third column to\n",
    "represent the overall rating the overall rating is equal to the movie rating if it exists\n",
    "otherwise it's the director's rating"
   ]
  },
  {
   "cell_type": "code",
   "execution_count": 32,
   "id": "ffd6f89f-acb4-4ff0-b7ed-3db7aa057f48",
   "metadata": {},
   "outputs": [
    {
     "data": {
      "text/plain": [
       "array([[ 7.,  1.],\n",
       "       [nan,  2.],\n",
       "       [nan,  8.],\n",
       "       [ 9.,  3.],\n",
       "       [ 8.,  9.],\n",
       "       [ 5.,  2.],\n",
       "       [ 8.,  2.],\n",
       "       [nan,  6.],\n",
       "       [ 9.,  2.],\n",
       "       [nan,  5.]])"
      ]
     },
     "execution_count": 32,
     "metadata": {},
     "output_type": "execute_result"
    }
   ],
   "source": [
    "import numpy as np \n",
    "generator = np.random.default_rng(123)\n",
    "ratings = np.round(generator.uniform(0.0,10.0,size=(10,2)))\n",
    "ratings[[1,2,7,9],[0,0,0,0]] = np.nan\n",
    "ratings"
   ]
  },
  {
   "cell_type": "markdown",
   "id": "60a661f8-be59-47c3-9d50-614430a2af09",
   "metadata": {
    "tags": []
   },
   "source": [
    "## Solution"
   ]
  },
  {
   "cell_type": "code",
   "execution_count": null,
   "id": "30fde2e7-189e-46ff-a8d5-24e80c767402",
   "metadata": {
    "tags": []
   },
   "outputs": [],
   "source": [
    "#"
   ]
  },
  {
   "cell_type": "markdown",
   "id": "5150088e-8aff-47ac-b875-9fe68143e4d2",
   "metadata": {
    "tags": []
   },
   "source": [
    "### number 8"
   ]
  },
  {
   "cell_type": "markdown",
   "id": "1b9365e8-20f8-4a2f-930c-b8ce5d7f02a1",
   "metadata": {},
   "source": [
    "10 fish occupy a 5x5x5 grid of water each fish decides to move to a new (i,j,k)\n",
    "location given by the matrix below if multiple fish end up occupying the same cell the\n",
    "biggest fish eats the smaller fish determine which fish will survive"
   ]
  },
  {
   "cell_type": "code",
   "execution_count": 34,
   "id": "e34f057d-4c5e-4c95-be85-1bd797370948",
   "metadata": {},
   "outputs": [
    {
     "data": {
      "text/plain": [
       "array([[[0, 0, 0],\n",
       "        [1, 1, 2],\n",
       "        [0, 0, 0],\n",
       "        [2, 1, 3],\n",
       "        [5, 5, 4],\n",
       "        [5, 0, 0],\n",
       "        [5, 0, 0],\n",
       "        [0, 0, 0],\n",
       "        [2, 1, 3],\n",
       "        [1, 3, 1]]])"
      ]
     },
     "execution_count": 34,
     "metadata": {},
     "output_type": "execute_result"
    }
   ],
   "source": [
    "import numpy as np\n",
    "locs = np.array([[\n",
    "    [0,0,0],\n",
    "    [1,1,2],\n",
    "    [0,0,0],\n",
    "    [2,1,3],\n",
    "    [5,5,4],\n",
    "    [5,0,0],\n",
    "    [5,0,0],\n",
    "    [0,0,0],\n",
    "    [2,1,3],\n",
    "    [1,3,1]\n",
    "]])\n",
    "locs"
   ]
  },
  {
   "cell_type": "code",
   "execution_count": 36,
   "id": "2442795a-78fd-4714-91f4-b03e196f4dad",
   "metadata": {},
   "outputs": [
    {
     "data": {
      "text/plain": [
       "array([30, 12, 30, 26, 10, 37, 13, 39, 35, 35], dtype=int64)"
      ]
     },
     "execution_count": 36,
     "metadata": {},
     "output_type": "execute_result"
    }
   ],
   "source": [
    "generator = np.random.default_rng(1010)\n",
    "weights = generator.integers(10,40,size=10)\n",
    "weights"
   ]
  }
 ],
 "metadata": {
  "kernelspec": {
   "display_name": "Python 3 (ipykernel)",
   "language": "python",
   "name": "python3"
  },
  "language_info": {
   "codemirror_mode": {
    "name": "ipython",
    "version": 3
   },
   "file_extension": ".py",
   "mimetype": "text/x-python",
   "name": "python",
   "nbconvert_exporter": "python",
   "pygments_lexer": "ipython3",
   "version": "3.10.9"
  }
 },
 "nbformat": 4,
 "nbformat_minor": 5
}
