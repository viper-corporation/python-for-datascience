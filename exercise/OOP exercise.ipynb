{
 "cells": [
  {
   "cell_type": "markdown",
   "id": "446d707e-e0c0-48b1-b03d-ba3f39f70bc6",
   "metadata": {},
   "source": [
    "# Rectangle class\n",
    "* Write a **Rectangle** class in Python language, allowing you to build a rectangle with **length** and **width** attributes.\n",
    "* Create a **Perimeter()** method to calculate the perimeter of the rectangle and a **Area()** method to calculate the area of the rectangle.\n",
    "* Create a method display() that display the length, width, perimeter and area of an object created using an instantiation on rectangle class.\n",
    "* Create a Parallelepipede child class inheriting from the Rectangle class and with a height attribute and another Volume() method to calculate the volume of the Parallelepiped."
   ]
  }
 ],
 "metadata": {
  "kernelspec": {
   "display_name": "Python 3 (ipykernel)",
   "language": "python",
   "name": "python3"
  },
  "language_info": {
   "codemirror_mode": {
    "name": "ipython",
    "version": 3
   },
   "file_extension": ".py",
   "mimetype": "text/x-python",
   "name": "python",
   "nbconvert_exporter": "python",
   "pygments_lexer": "ipython3",
   "version": "3.10.9"
  }
 },
 "nbformat": 4,
 "nbformat_minor": 5
}
