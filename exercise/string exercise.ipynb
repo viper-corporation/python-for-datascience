{
 "cells": [
  {
   "cell_type": "markdown",
   "id": "da0cb9d2-ff49-4103-8cb6-7a9754ae8423",
   "metadata": {},
   "source": [
    "# String Exercise"
   ]
  },
  {
   "cell_type": "markdown",
   "id": "2835c89d-590b-43e8-8863-702795acb8c8",
   "metadata": {},
   "source": [
    "#### 1. Create a new string made of the first, middle, and last characters of each input string"
   ]
  },
  {
   "cell_type": "markdown",
   "id": "99d0ca47-b4e8-4030-9fda-d7381a911c13",
   "metadata": {},
   "source": [
    "Given two strings from user, s1 and s2, write a program to return a new string made of s1 and s2’s first, middle, and last characters."
   ]
  },
  {
   "cell_type": "markdown",
   "id": "aa9ffe83-5214-48b7-bc81-74dba8706db1",
   "metadata": {},
   "source": [
    "### example"
   ]
  },
  {
   "cell_type": "markdown",
   "id": "520753cd-84e4-4793-85f3-1283d80c23af",
   "metadata": {},
   "source": [
    "Given :\n",
    "```python\n",
    "    s1 = \"America\"\n",
    "    s2 = \"Japan\"\n",
    "```"
   ]
  },
  {
   "cell_type": "markdown",
   "id": "17afea58-3adf-438e-ade0-7be51027ba17",
   "metadata": {},
   "source": [
    "Expected Output:\n",
    "```python\n",
    "        \"AJrpan\"\n",
    "```"
   ]
  },
  {
   "cell_type": "markdown",
   "id": "71ee1dda-2a39-4fbe-9e87-f455bb840a95",
   "metadata": {},
   "source": [
    "#### 2. write a program to get a number from 1 to 12 and show the name of the month"
   ]
  },
  {
   "cell_type": "markdown",
   "id": "1ee6e76d-93b1-4630-8693-54f4be92af61",
   "metadata": {},
   "source": [
    "### example"
   ]
  },
  {
   "cell_type": "markdown",
   "id": "0dc0f969-a4fb-4313-a855-d7cca91840c8",
   "metadata": {},
   "source": [
    "Given :\n",
    "```python\n",
    "    2\n",
    "```"
   ]
  },
  {
   "cell_type": "markdown",
   "id": "d3b6bba7-f231-417e-8921-ae0875a3a1b6",
   "metadata": {},
   "source": [
    "Expected Output:\n",
    "```python\n",
    "        \"ordibehesht\"\n",
    "```"
   ]
  }
 ],
 "metadata": {
  "kernelspec": {
   "display_name": "Python 3 (ipykernel)",
   "language": "python",
   "name": "python3"
  },
  "language_info": {
   "codemirror_mode": {
    "name": "ipython",
    "version": 3
   },
   "file_extension": ".py",
   "mimetype": "text/x-python",
   "name": "python",
   "nbconvert_exporter": "python",
   "pygments_lexer": "ipython3",
   "version": "3.10.9"
  }
 },
 "nbformat": 4,
 "nbformat_minor": 5
}
