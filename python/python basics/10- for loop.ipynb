{
 "cells": [
  {
   "cell_type": "markdown",
   "id": "855f818f-ba5a-48c6-9238-c2d93dcdc78f",
   "metadata": {},
   "source": [
    "# for loop"
   ]
  },
  {
   "cell_type": "markdown",
   "id": "827106f3-dcf3-44be-82e6-3c7a1680c8ea",
   "metadata": {},
   "source": [
    "* [basic definations](#basic-definations)\n",
    "* [for loop (definite iteration)](#for-loop-(definite-iteration))\n",
    "    * [A Survey of for loop in Programming languages](#A-Survey-of-for-loop-in-Programming-languages)\n",
    "    * [The Python for Loop](#The-Python-for-Loop)\n",
    "    * [Iterating Through a Dictionary](#Iterating-Through-a-Dictionary)\n",
    "* [The range() Function](#The-range()-Function)\n",
    "* [Altering for Loop Behavior](#Altering-for-Loop-Behavior)\n",
    "    * [break](#break)\n",
    "    * [continue](#continue)\n",
    "    * [else](#else)"
   ]
  },
  {
   "cell_type": "markdown",
   "id": "8098c1cb-d01c-4f6d-ba8e-cd141cb86ec8",
   "metadata": {
    "tags": []
   },
   "source": [
    "## basic definations"
   ]
  },
  {
   "cell_type": "markdown",
   "id": "79416ac1-5667-4937-a1ce-bf50b81384b0",
   "metadata": {},
   "source": [
    "* **Iteration** :\n",
    "iteration means executing the same block of code over and over, potentially many times. A programming structure that implements iteration is called a **loop.**\n",
    "* **iterable** : string, lists, tuples, dictionaries, sets are all iterable objects. They are iterable containers which you can get an iterator from.  \n"
   ]
  },
  {
   "cell_type": "markdown",
   "id": "f3edf4c6-a3b8-4ebf-9410-2797d21d85ce",
   "metadata": {},
   "source": [
    "All these objects have a ``iter()`` method which is used to get an iterator:"
   ]
  },
  {
   "cell_type": "code",
   "execution_count": 3,
   "id": "539ae812-336a-4ccb-8da7-fe4f64ca3c3b",
   "metadata": {},
   "outputs": [
    {
     "data": {
      "text/plain": [
       "'cherry'"
      ]
     },
     "execution_count": 3,
     "metadata": {},
     "output_type": "execute_result"
    }
   ],
   "source": [
    "mylist = [\"apple\", \"banana\", \"cherry\"]\n",
    "myit = iter(mylist)\n",
    "\n",
    "a = next(myit)\n",
    "b= next(myit)\n",
    "c = next(myit)\n",
    "c"
   ]
  },
  {
   "cell_type": "code",
   "execution_count": 13,
   "id": "0b64de66-37cf-4375-b635-6089e5f88567",
   "metadata": {},
   "outputs": [
    {
     "name": "stdout",
     "output_type": "stream",
     "text": [
      "b\n",
      "a\n",
      "n\n",
      "a\n",
      "n\n",
      "a\n"
     ]
    }
   ],
   "source": [
    "mystr = \"banana\"\n",
    "myit = iter(mystr)\n",
    "\n",
    "print(next(myit))\n",
    "print(next(myit))\n",
    "print(next(myit))\n",
    "print(next(myit))\n",
    "print(next(myit))\n",
    "print(next(myit))"
   ]
  },
  {
   "cell_type": "markdown",
   "id": "dee995aa-ce7d-47b5-8b3d-4101f2200541",
   "metadata": {},
   "source": [
    "**on th other hand integer, Float, build-in functions are not iterable**"
   ]
  },
  {
   "cell_type": "code",
   "execution_count": 34,
   "id": "dd1e2161-9dec-4fbc-8765-765694f84d72",
   "metadata": {},
   "outputs": [
    {
     "ename": "TypeError",
     "evalue": "'int' object is not iterable",
     "output_type": "error",
     "traceback": [
      "\u001b[1;31m---------------------------------------------------------------------------\u001b[0m",
      "\u001b[1;31mTypeError\u001b[0m                                 Traceback (most recent call last)",
      "Input \u001b[1;32mIn [34]\u001b[0m, in \u001b[0;36m<cell line: 1>\u001b[1;34m()\u001b[0m\n\u001b[1;32m----> 1\u001b[0m \u001b[38;5;28;43miter\u001b[39;49m\u001b[43m(\u001b[49m\u001b[38;5;241;43m42\u001b[39;49m\u001b[43m)\u001b[49m\n\u001b[0;32m      2\u001b[0m \u001b[38;5;28miter\u001b[39m(\u001b[38;5;28mlen\u001b[39m)\n",
      "\u001b[1;31mTypeError\u001b[0m: 'int' object is not iterable"
     ]
    }
   ],
   "source": [
    "iter(42)\n",
    "iter(len)"
   ]
  },
  {
   "cell_type": "code",
   "execution_count": null,
   "id": "702078e4-9c08-4be8-8c13-9117918a0ba0",
   "metadata": {},
   "outputs": [],
   "source": []
  },
  {
   "cell_type": "markdown",
   "id": "986d5fce-c226-4146-bfb3-18f268909a1e",
   "metadata": {},
   "source": [
    "* **indefinite iteration** : with indefinite iteration the number of times the loop is executed isn’t specified explicitly in advance. Rather, the designated block is executed repeatedly as long as some condition is met."
   ]
  },
  {
   "cell_type": "markdown",
   "id": "edaf23fc-0a19-4547-b18a-934c015257c3",
   "metadata": {},
   "source": [
    "* **definite iteration** : With definite iteration, the number of times the designated block will be executed is specified explicitly at the time the loop starts. "
   ]
  },
  {
   "cell_type": "markdown",
   "id": "3e6ed9d0-ab8c-4d5a-ae84-f1c9d58ba047",
   "metadata": {},
   "source": [
    "### loops flow chart"
   ]
  },
  {
   "attachments": {
    "64c72dfe-6cef-40f3-95d1-1f65d87f2887.png": {
     "image/png": "[encoded data removed]"
    }
   },
   "cell_type": "markdown",
   "id": "87f052bd-7782-4691-9417-4a3b9136fab6",
   "metadata": {},
   "source": [
    "![Screenshot from 2023-06-01 16-14-29.png](attachment:64c72dfe-6cef-40f3-95d1-1f65d87f2887.png)"
   ]
  },
  {
   "cell_type": "markdown",
   "id": "6145df3c-a166-4101-afb3-5b33360d1ae5",
   "metadata": {
    "tags": []
   },
   "source": [
    "## for loop (definite iteration)\n",
    "Definite iteration loops are frequently referred to as for loops because for is the keyword that is used to introduce them in nearly all programming languages, including Python"
   ]
  },
  {
   "cell_type": "markdown",
   "id": "c98005c1-c744-4a64-af85-79dc4d5bc526",
   "metadata": {},
   "source": [
    "## A Survey of for loop in Programming languages"
   ]
  },
  {
   "cell_type": "markdown",
   "id": "b1a0fbac-f0b8-4383-8c8b-edd4989dd525",
   "metadata": {},
   "source": [
    "* #### Numeric Range Loop\n",
    "The most basic for loop is a simple numeric range statement with start and end values.\n",
    "```python\n",
    "for i = 1 to 10\n",
    "    <loop body>\n",
    "```"
   ]
  },
  {
   "cell_type": "markdown",
   "id": "da91e226-4dfb-42e7-92c4-a3bb91a3429f",
   "metadata": {},
   "source": [
    "* #### Three-Expression Loop"
   ]
  },
  {
   "cell_type": "markdown",
   "id": "46b12376-a16a-4590-bcf7-4c49f745d919",
   "metadata": {},
   "source": [
    "Another form of for loop popularized by the C programming language contains three parts:\n",
    "\n",
    "* An initialization\n",
    "* An expression specifying an ending condition\n",
    "* An action to be performed at the end of each iteration.\n",
    "\n",
    "\n",
    "```python\n",
    "for (i = 1; i <= 10; i++)\n",
    "    <loop body>\n",
    "```"
   ]
  },
  {
   "cell_type": "markdown",
   "id": "1867ae18-40fe-4d74-80f5-0cd7711ca001",
   "metadata": {},
   "source": [
    "* #### Collection-Based or Iterator-Based Loop"
   ]
  },
  {
   "cell_type": "markdown",
   "id": "b8121f48-1e76-4d4b-92be-f3bca4335b24",
   "metadata": {},
   "source": [
    "This type of loop iterates over a collection of objects, rather than specifying numeric values or conditions:\n",
    "```python\n",
    "for i in <collection>\n",
    "    <loop body>\n",
    "```"
   ]
  },
  {
   "cell_type": "markdown",
   "id": "21cfe2e3-ae38-415c-9691-9eeeec2046d6",
   "metadata": {},
   "source": [
    "Each time through the loop, the variable i takes on the value of the next object in <collection>. "
   ]
  },
  {
   "cell_type": "markdown",
   "id": "b458052f-8713-43c7-a5db-2a8c14814084",
   "metadata": {},
   "source": [
    "## The Python for Loop\n",
    "Of the loop types listed above, Python only implements the last: collection-based\n",
    "```python\n",
    "for <var> in <iterable>:\n",
    "    <statement(s)>\n",
    "```"
   ]
  },
  {
   "cell_type": "markdown",
   "id": "e2d9b01a-e559-488f-9aad-3c37bd4cf0dc",
   "metadata": {},
   "source": [
    "``<iterable>`` is a collection of objects—for example, a list or tuple. The ``<statement(s)>`` in the loop body are denoted by indentation, as with all Python control structures, and are executed once for each item in ``<iterable>``. The loop variable ``<var>`` takes on the value of the next element in ``<iterable>`` each time through the loop."
   ]
  },
  {
   "cell_type": "code",
   "execution_count": 2,
   "id": "c9388e24-3c35-416e-8d48-1ed70465d0ce",
   "metadata": {},
   "outputs": [
    {
     "name": "stdout",
     "output_type": "stream",
     "text": [
      "foo\n",
      "bar\n",
      "baz\n",
      "after for loop\n"
     ]
    }
   ],
   "source": [
    "a = ['foo', 'bar', 'baz']\n",
    "for i in a:\n",
    "    print(i)    \n",
    "print(\"after for loop\")"
   ]
  },
  {
   "cell_type": "code",
   "execution_count": null,
   "id": "5830a5c4-8703-40af-9e0c-1dd3aa629520",
   "metadata": {},
   "outputs": [
    {
     "name": "stdout",
     "output_type": "stream",
     "text": [
      "r\n",
      "a\n",
      "s\n",
      "o\n",
      "o\n",
      "l\n"
     ]
    }
   ],
   "source": [
    "a = \"rasool\"\n",
    "for i in a:\n",
    "    print(i)"
   ]
  },
  {
   "cell_type": "markdown",
   "id": "5cc652b7-0063-49d8-b476-464c180a7b0e",
   "metadata": {},
   "source": [
    "This loop can be described entirely in terms of the concepts you have just learned about. To carry out the iteration this for loop describes, Python does the following:\n",
    "\n",
    "* Calls iter() to obtain an iterator for a\n",
    "* Calls next() repeatedly to obtain each item from the iterator in turn\n",
    "* Terminates the loop when next() raises the StopIteration exception"
   ]
  },
  {
   "cell_type": "markdown",
   "id": "2463c90c-902d-4e0e-a7a0-2f7071d9ac8a",
   "metadata": {},
   "source": [
    "## Iterating Through a Dictionary"
   ]
  },
  {
   "cell_type": "code",
   "execution_count": 37,
   "id": "b47edd29-8e46-4b2b-b4e1-143f8b68f455",
   "metadata": {},
   "outputs": [
    {
     "name": "stdout",
     "output_type": "stream",
     "text": [
      "foo\n",
      "bar\n",
      "baz\n"
     ]
    }
   ],
   "source": [
    "d = {'foo': 1, 'bar': 2, 'baz': 3}\n",
    "for k in d:\n",
    "    print(k)"
   ]
  },
  {
   "cell_type": "code",
   "execution_count": 38,
   "id": "114cb103-7657-4dce-9329-dc7f989b5da5",
   "metadata": {},
   "outputs": [
    {
     "name": "stdout",
     "output_type": "stream",
     "text": [
      "1\n",
      "2\n",
      "3\n"
     ]
    }
   ],
   "source": [
    "for k in d:\n",
    "    print(d[k])"
   ]
  },
  {
   "cell_type": "markdown",
   "id": "9de37847-3832-4e85-8baf-2d8fb9c00b89",
   "metadata": {},
   "source": [
    "**You can also iterate through a dictionary’s values directly by using .values():**"
   ]
  },
  {
   "cell_type": "code",
   "execution_count": 40,
   "id": "1f554ed7-f932-4d9b-aec4-fff03a678eac",
   "metadata": {},
   "outputs": [
    {
     "name": "stdout",
     "output_type": "stream",
     "text": [
      "1\n",
      "2\n",
      "3\n"
     ]
    }
   ],
   "source": [
    "for v in d.values():\n",
    "    print(v)"
   ]
  },
  {
   "cell_type": "markdown",
   "id": "3894eb72-d889-428c-9e97-1ef8043a19b6",
   "metadata": {},
   "source": [
    "In fact, you can iterate through both the keys and values of a dictionary simultaneously. That is because the loop variable of a for loop isn’t limited to just a single variable. It can also be a tuple, in which case the assignments are made from the items in the iterable using packing and unpacking, just as with an assignment statement:"
   ]
  },
  {
   "cell_type": "code",
   "execution_count": 42,
   "id": "b481183e-e447-442d-9d5b-87566a43b24f",
   "metadata": {},
   "outputs": [
    {
     "name": "stdout",
     "output_type": "stream",
     "text": [
      "1 2\n",
      "3 4\n",
      "5 6\n"
     ]
    }
   ],
   "source": [
    "for i,j  in [(1, 2), (3, 4), (5, 6)]:\n",
    "     print(i, j)"
   ]
  },
  {
   "cell_type": "markdown",
   "id": "26b3712c-1bc4-4eb1-a6a7-0bc678dba3ea",
   "metadata": {},
   "source": [
    "**As noted in the tutorial on Python dictionaries, the dictionary method ``.items()`` effectively returns a list of key/value pairs as tuples:**"
   ]
  },
  {
   "cell_type": "code",
   "execution_count": 44,
   "id": "db331445-1796-4ac1-b7d0-2f0c75bee957",
   "metadata": {},
   "outputs": [
    {
     "name": "stdout",
     "output_type": "stream",
     "text": [
      "k = foo , v = 1\n",
      "k = bar , v = 2\n",
      "k = baz , v = 3\n"
     ]
    }
   ],
   "source": [
    "d = {'foo': 1, 'bar': 2, 'baz': 3}\n",
    "\n",
    "for k, v in d.items():\n",
    "     print('k =', k, ', v =', v)"
   ]
  },
  {
   "cell_type": "markdown",
   "id": "27395796-ecbf-4af7-8a94-e984121442c4",
   "metadata": {},
   "source": [
    "## The range() Function"
   ]
  },
  {
   "cell_type": "markdown",
   "id": "5db99add-61d6-4c52-8291-8b06aa2390e8",
   "metadata": {},
   "source": [
    "In the first section of this tutorial, you saw a type of for loop called a numeric range loop, in which starting and ending numeric values are specified. Although this form of for loop isn’t directly built into Python, it is easily arrived at."
   ]
  },
  {
   "cell_type": "markdown",
   "id": "ace0b590-8abc-4959-982d-0eca687c6357",
   "metadata": {},
   "source": [
    "``range(<end>)`` returns an iterable that yields integers starting with 0, up to but not including <end>"
   ]
  },
  {
   "cell_type": "code",
   "execution_count": 55,
   "id": "e5740029-4feb-4caa-ae19-3a8ec17e4d51",
   "metadata": {},
   "outputs": [
    {
     "data": {
      "text/plain": [
       "1"
      ]
     },
     "execution_count": 55,
     "metadata": {},
     "output_type": "execute_result"
    }
   ],
   "source": [
    "a = iter(range(5))\n",
    "next(a)\n",
    "next(a)"
   ]
  },
  {
   "cell_type": "code",
   "execution_count": 5,
   "id": "2a5b62c1-7318-4402-ab9b-90eed3a63549",
   "metadata": {},
   "outputs": [
    {
     "data": {
      "text/plain": [
       "[0, 1, 2, 3, 4]"
      ]
     },
     "execution_count": 5,
     "metadata": {},
     "output_type": "execute_result"
    }
   ],
   "source": [
    "list(range(5))"
   ]
  },
  {
   "cell_type": "code",
   "execution_count": 56,
   "id": "373c7482-82a8-476a-aa0a-3a1d5facba3e",
   "metadata": {},
   "outputs": [
    {
     "data": {
      "text/plain": [
       "range(1, 5)"
      ]
     },
     "execution_count": 56,
     "metadata": {},
     "output_type": "execute_result"
    }
   ],
   "source": [
    "range(1,5)"
   ]
  },
  {
   "cell_type": "code",
   "execution_count": 58,
   "id": "91f4d2fb-747a-48b3-a8ef-37221edaca52",
   "metadata": {},
   "outputs": [
    {
     "name": "stdout",
     "output_type": "stream",
     "text": [
      "1\n",
      "3\n",
      "5\n",
      "7\n"
     ]
    }
   ],
   "source": [
    "a = iter(range(1,10,2))\n",
    "print(next(a))\n",
    "print(next(a))\n",
    "print(next(a))\n",
    "print(next(a))"
   ]
  },
  {
   "cell_type": "code",
   "execution_count": 61,
   "id": "451f427e-7218-4de9-83cb-630610bc88c1",
   "metadata": {},
   "outputs": [
    {
     "name": "stdout",
     "output_type": "stream",
     "text": [
      "10\n",
      "9\n",
      "8\n",
      "7\n"
     ]
    }
   ],
   "source": [
    "a = iter(range(10,1,-1))\n",
    "print(next(a))\n",
    "print(next(a))\n",
    "print(next(a))\n",
    "print(next(a))"
   ]
  },
  {
   "cell_type": "markdown",
   "id": "ae809f3c-8e44-4e80-9c47-7b97a2e2c706",
   "metadata": {},
   "source": [
    "## Altering for Loop Behavior"
   ]
  },
  {
   "cell_type": "markdown",
   "id": "3c329d6f-f9a7-4472-b3d8-aa5b60373cde",
   "metadata": {},
   "source": [
    "* #### break\n",
    "break terminates the loop completely and proceeds to the first statement following the loop:"
   ]
  },
  {
   "cell_type": "code",
   "execution_count": 66,
   "id": "4f6535e5-aa81-4fd9-a0e0-111e12795946",
   "metadata": {},
   "outputs": [
    {
     "name": "stdout",
     "output_type": "stream",
     "text": [
      "foo\n"
     ]
    }
   ],
   "source": [
    "for i in ['foo', 'bar', 'baz', 'qux']:\n",
    "    if 'b' in i:\n",
    "        break\n",
    "    print(i)"
   ]
  },
  {
   "cell_type": "code",
   "execution_count": 72,
   "id": "b330a858-4a2b-4014-826d-8d0b21758046",
   "metadata": {},
   "outputs": [
    {
     "name": "stdout",
     "output_type": "stream",
     "text": [
      "o\n",
      "b\n",
      "a\n",
      "r\n",
      "b\n",
      "a\n",
      "z\n",
      "q\n",
      "u\n",
      "x\n"
     ]
    }
   ],
   "source": [
    "for i in ['ofo', 'bar', 'baz', 'qux']:\n",
    "    for j in i:     \n",
    "        if j == \"f\":\n",
    "            break\n",
    "        print(j)"
   ]
  },
  {
   "cell_type": "markdown",
   "id": "6cf62db6-d55f-4a91-83ed-6ad75d147277",
   "metadata": {},
   "source": [
    "* #### continue\n",
    "continue terminates the current iteration and proceeds to the next iteration:"
   ]
  },
  {
   "cell_type": "code",
   "execution_count": 81,
   "id": "72cd2140-c4f7-4192-af97-9769e20a1eeb",
   "metadata": {},
   "outputs": [
    {
     "name": "stdout",
     "output_type": "stream",
     "text": [
      "foo\n",
      "qux\n"
     ]
    }
   ],
   "source": [
    "for i in ['foo', 'bar', 'baz', 'qux']:\n",
    "    if 'b' in i:\n",
    "            continue\n",
    "    print(i)"
   ]
  },
  {
   "cell_type": "markdown",
   "id": "33ba8698-0c27-422b-8ff1-4283e2ce3d68",
   "metadata": {},
   "source": [
    "* #### else\n",
    "The else clause will be executed if the loop terminates through exhaustion of the iterable:"
   ]
  },
  {
   "cell_type": "code",
   "execution_count": 84,
   "id": "72ba66b4-0693-4d80-9f3d-4f30f6d63a49",
   "metadata": {},
   "outputs": [
    {
     "name": "stdout",
     "output_type": "stream",
     "text": [
      "foo\n",
      "bar\n",
      "baz\n",
      "qux\n",
      "Done.\n"
     ]
    }
   ],
   "source": [
    "for i in ['foo', 'bar', 'baz', 'qux']:\n",
    "     print(i)\n",
    "else:\n",
    "     print('Done.')  # Will execute"
   ]
  },
  {
   "cell_type": "code",
   "execution_count": 90,
   "id": "39ae25bd-c071-4eb0-9f67-a141583a34cf",
   "metadata": {},
   "outputs": [
    {
     "name": "stdout",
     "output_type": "stream",
     "text": [
      "foo\n"
     ]
    }
   ],
   "source": [
    "for i in ['foo', 'bar', 'baz', 'qux']:\n",
    "    if i == 'bar':\n",
    "            break\n",
    "    print(i)\n",
    "else:\n",
    "    print('Done.')  # Will not execute"
   ]
  },
  {
   "cell_type": "code",
   "execution_count": 2,
   "id": "f55118e3-577e-4ef4-ba4c-6918a24c769f",
   "metadata": {},
   "outputs": [
    {
     "name": "stdout",
     "output_type": "stream",
     "text": [
      "foo\n",
      "bar\n",
      "baz\n",
      "qux\n",
      "Done.\n"
     ]
    }
   ],
   "source": [
    "for i in ['foo', 'bar', 'baz', 'qux']:\n",
    "    if i == 'rasool':\n",
    "            break\n",
    "    print(i)\n",
    "else:\n",
    "    print('Done.')  # Will  execute"
   ]
  }
 ],
 "metadata": {
  "kernelspec": {
   "display_name": "Python 3 (ipykernel)",
   "language": "python",
   "name": "python3"
  },
  "language_info": {
   "codemirror_mode": {
    "name": "ipython",
    "version": 3
   },
   "file_extension": ".py",
   "mimetype": "text/x-python",
   "name": "python",
   "nbconvert_exporter": "python",
   "pygments_lexer": "ipython3",
   "version": "3.10.9"
  }
 },
 "nbformat": 4,
 "nbformat_minor": 5
}
