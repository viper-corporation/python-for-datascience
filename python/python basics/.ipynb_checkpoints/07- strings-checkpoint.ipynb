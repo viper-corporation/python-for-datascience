{
 "cells": [
  {
   "cell_type": "markdown",
   "id": "3af0a89d-c384-4737-a9cb-6360d87958af",
   "metadata": {},
   "source": [
    "# strings"
   ]
  },
  {
   "cell_type": "markdown",
   "id": "85a6973c-cd83-46f2-a401-041ed91bffa8",
   "metadata": {},
   "source": [
    "* [String Operators](#String-Operators)\n",
    "* [String Indexing](#String-Indexing)\n",
    "* [python build-in functions for str](#python-build-in-functions-for-str)\n",
    "* [String Slicing](#String-Slicing)\n",
    "* [f string](#f-string)\n",
    "* [dir function](#dir-function)\n",
    "* [Built-in String Methods](#Built-in-String-Methods)"
   ]
  },
  {
   "cell_type": "markdown",
   "id": "2d7436db-fe6f-4109-a84d-5b4b8456bb75",
   "metadata": {},
   "source": [
    "In the tutorial on Basic Data Types, you learned how to define strings: objects that contain sequences of character data. Processing character data is integral to programming. **It is a rare application that doesn’t need to manipulate strings at least to some extent.**\n",
    "\n",
    "<hr>"
   ]
  },
  {
   "cell_type": "markdown",
   "id": "410918f5-9bdd-466a-b541-f96c06582189",
   "metadata": {},
   "source": [
    "## String Operators"
   ]
  },
  {
   "cell_type": "markdown",
   "id": "89fc0797-48ad-41fb-8b7b-115ec773546d",
   "metadata": {},
   "source": [
    "* #### The + Operator"
   ]
  },
  {
   "cell_type": "markdown",
   "id": "5f017f52-2413-43ec-8e09-8c0b215367e2",
   "metadata": {},
   "source": [
    "The + operator concatenates strings. It returns a string consisting of the operands joined together, as shown here:"
   ]
  },
  {
   "cell_type": "code",
   "execution_count": 13,
   "id": "395f7f78-94c2-47af-b405-b72c69feaebf",
   "metadata": {},
   "outputs": [
    {
     "data": {
      "text/plain": [
       "'rasool ahadi'"
      ]
     },
     "execution_count": 13,
     "metadata": {},
     "output_type": "execute_result"
    }
   ],
   "source": [
    "name = \"rasool\"\n",
    "last_name = \"ahadi\"\n",
    "full_name = name +\" \"+ last_name \n",
    "full_name"
   ]
  },
  {
   "cell_type": "markdown",
   "id": "ba474804-c154-4129-a1ab-bfc42573e496",
   "metadata": {},
   "source": [
    "**you can use + operator only for string + string**"
   ]
  },
  {
   "cell_type": "code",
   "execution_count": 12,
   "id": "2895d792-9337-4704-8b08-d8459a4d378f",
   "metadata": {},
   "outputs": [
    {
     "ename": "TypeError",
     "evalue": "unsupported operand type(s) for +: 'int' and 'str'",
     "output_type": "error",
     "traceback": [
      "\u001b[1;31m---------------------------------------------------------------------------\u001b[0m",
      "\u001b[1;31mTypeError\u001b[0m                                 Traceback (most recent call last)",
      "Input \u001b[1;32mIn [12]\u001b[0m, in \u001b[0;36m<cell line: 3>\u001b[1;34m()\u001b[0m\n\u001b[0;32m      1\u001b[0m number \u001b[38;5;241m=\u001b[39m \u001b[38;5;241m2\u001b[39m\n\u001b[0;32m      2\u001b[0m name \u001b[38;5;241m=\u001b[39m \u001b[38;5;124m\"\u001b[39m\u001b[38;5;124mrasool\u001b[39m\u001b[38;5;124m\"\u001b[39m\n\u001b[1;32m----> 3\u001b[0m \u001b[43mnumber\u001b[49m\u001b[43m \u001b[49m\u001b[38;5;241;43m+\u001b[39;49m\u001b[43m \u001b[49m\u001b[43mname\u001b[49m\n",
      "\u001b[1;31mTypeError\u001b[0m: unsupported operand type(s) for +: 'int' and 'str'"
     ]
    }
   ],
   "source": [
    "number = 2\n",
    "name = \"rasool\"\n",
    "number + name "
   ]
  },
  {
   "cell_type": "markdown",
   "id": "035c45f9-c889-497c-a074-c1acdecbb404",
   "metadata": {},
   "source": [
    "* #### The * Operator"
   ]
  },
  {
   "cell_type": "markdown",
   "id": "8570bff5-c76b-4bb7-8a48-bf708b4afca0",
   "metadata": {},
   "source": [
    "The * operator creates multiple copies of a string. If s is a string and n is an integer,"
   ]
  },
  {
   "cell_type": "code",
   "execution_count": 16,
   "id": "0e6f7026-7901-4f9a-9cba-92c2a09c21b2",
   "metadata": {},
   "outputs": [
    {
     "data": {
      "text/plain": [
       "'rasoolrasool'"
      ]
     },
     "execution_count": 16,
     "metadata": {},
     "output_type": "execute_result"
    }
   ],
   "source": [
    "name  = \"rasool\"\n",
    "name * 2"
   ]
  },
  {
   "cell_type": "markdown",
   "id": "b2a63b34-a89f-4b00-a9c4-3737239701ea",
   "metadata": {},
   "source": [
    "**you cant use * operator on tow strings and obviously any other datatypes except int**"
   ]
  },
  {
   "cell_type": "code",
   "execution_count": 18,
   "id": "7c6dadb2-5304-4f3f-89b3-69a9445ae391",
   "metadata": {},
   "outputs": [
    {
     "ename": "TypeError",
     "evalue": "can't multiply sequence by non-int of type 'str'",
     "output_type": "error",
     "traceback": [
      "\u001b[1;31m---------------------------------------------------------------------------\u001b[0m",
      "\u001b[1;31mTypeError\u001b[0m                                 Traceback (most recent call last)",
      "Input \u001b[1;32mIn [18]\u001b[0m, in \u001b[0;36m<cell line: 3>\u001b[1;34m()\u001b[0m\n\u001b[0;32m      1\u001b[0m name \u001b[38;5;241m=\u001b[39m \u001b[38;5;124m\"\u001b[39m\u001b[38;5;124mrasool\u001b[39m\u001b[38;5;124m\"\u001b[39m\n\u001b[0;32m      2\u001b[0m last_name \u001b[38;5;241m=\u001b[39m \u001b[38;5;124m\"\u001b[39m\u001b[38;5;124mahadi\u001b[39m\u001b[38;5;124m\"\u001b[39m\n\u001b[1;32m----> 3\u001b[0m \u001b[43mname\u001b[49m\u001b[43m \u001b[49m\u001b[38;5;241;43m*\u001b[39;49m\u001b[43m \u001b[49m\u001b[43mlast_name\u001b[49m\n",
      "\u001b[1;31mTypeError\u001b[0m: can't multiply sequence by non-int of type 'str'"
     ]
    }
   ],
   "source": [
    "name = \"rasool\"\n",
    "last_name = \"ahadi\"\n",
    "name * last_name"
   ]
  },
  {
   "cell_type": "markdown",
   "id": "25848da5-dce3-4e33-9f20-6b4944a0d03f",
   "metadata": {},
   "source": [
    "* #### The in Operator"
   ]
  },
  {
   "cell_type": "markdown",
   "id": "3f0e7851-ddbe-41f4-924d-9dbe9ccffffe",
   "metadata": {},
   "source": [
    "Python also provides a membership operator that can be used with strings. The in operator returns True if the first operand is contained within the second, and False otherwise:"
   ]
  },
  {
   "cell_type": "code",
   "execution_count": 3,
   "id": "0b08a769-52b8-4667-b2ee-68a518cfd32f",
   "metadata": {},
   "outputs": [
    {
     "name": "stdout",
     "output_type": "stream",
     "text": [
      "True\n",
      "False\n"
     ]
    }
   ],
   "source": [
    "a = \"rasool\"\n",
    "print(\"r\" in a)\n",
    "print(\"b\" in a)"
   ]
  },
  {
   "cell_type": "markdown",
   "id": "6c9b7d47-a8be-434e-860d-5be679b2caac",
   "metadata": {},
   "source": [
    "## python build-in functions for str"
   ]
  },
  {
   "cell_type": "markdown",
   "id": "4d57c1c4-69d2-42e9-b3a5-8c7313500d15",
   "metadata": {},
   "source": [
    "Python provides many functions that are built-in to the interpreter and always available. Here are a few that work with strings:"
   ]
  },
  {
   "attachments": {
    "01fc5eba-8077-49fa-8550-c3cafac37efd.png": {
     "image/png": "[encoded data removed]"
    }
   },
   "cell_type": "markdown",
   "id": "82a14fd5-c05f-4030-9fc0-099157ea62b8",
   "metadata": {},
   "source": [
    "![download.png](attachment:01fc5eba-8077-49fa-8550-c3cafac37efd.png)"
   ]
  },
  {
   "cell_type": "code",
   "execution_count": 4,
   "id": "d0e6f2b9-0dc8-49ed-855f-dc7223a3bd7b",
   "metadata": {},
   "outputs": [
    {
     "data": {
      "text/plain": [
       "'a'"
      ]
     },
     "execution_count": 4,
     "metadata": {},
     "output_type": "execute_result"
    }
   ],
   "source": [
    "chr(97)"
   ]
  },
  {
   "cell_type": "code",
   "execution_count": 37,
   "id": "64a09119-d9e3-4dca-9d4a-a289b682324b",
   "metadata": {},
   "outputs": [
    {
     "data": {
      "text/plain": [
       "'€'"
      ]
     },
     "execution_count": 37,
     "metadata": {},
     "output_type": "execute_result"
    }
   ],
   "source": [
    "chr(8364)"
   ]
  },
  {
   "cell_type": "code",
   "execution_count": 31,
   "id": "7d6ffc94-1a49-44b9-a4be-ce3536226b3d",
   "metadata": {
    "tags": []
   },
   "outputs": [
    {
     "data": {
      "text/plain": [
       "97"
      ]
     },
     "execution_count": 31,
     "metadata": {},
     "output_type": "execute_result"
    }
   ],
   "source": [
    "ord(\"bb\")"
   ]
  },
  {
   "cell_type": "code",
   "execution_count": 38,
   "id": "4488c836-3195-4d6b-8bcd-6067546b3cb9",
   "metadata": {},
   "outputs": [
    {
     "data": {
      "text/plain": [
       "14"
      ]
     },
     "execution_count": 38,
     "metadata": {},
     "output_type": "execute_result"
    }
   ],
   "source": [
    "s = 'I am a string.'\n",
    "len(s)"
   ]
  },
  {
   "cell_type": "markdown",
   "id": "7ccfebf9-4176-44fa-b840-bed3ce02ea93",
   "metadata": {},
   "source": [
    "## String Indexing"
   ]
  },
  {
   "cell_type": "markdown",
   "id": "964e679e-7344-4876-9552-6bdd141065d9",
   "metadata": {},
   "source": [
    "**indexing:** Often in programming languages, **individual items in an ordered set of data** can be accessed directly using a numeric index or key value. This process is referred to as indexing."
   ]
  },
  {
   "cell_type": "markdown",
   "id": "912acd4c-1bfe-44b7-a95f-6b3bd25ba6f0",
   "metadata": {},
   "source": [
    "In Python, strings are ordered sequences of character data, and thus can be indexed in this way."
   ]
  },
  {
   "cell_type": "markdown",
   "id": "cea62de9-f91d-4629-9c98-f0a592b5e39d",
   "metadata": {},
   "source": [
    " Individual characters in a string can be accessed by specifying the string name followed by a number in square brackets ([])."
   ]
  },
  {
   "cell_type": "markdown",
   "id": "6d6c51d2-8ba8-4034-b575-16c4a2d49234",
   "metadata": {},
   "source": [
    "**notice that string indexing in Python is zero-based**"
   ]
  },
  {
   "cell_type": "code",
   "execution_count": 51,
   "id": "1eb03418-1248-4458-9089-486f03e44a52",
   "metadata": {},
   "outputs": [
    {
     "name": "stdout",
     "output_type": "stream",
     "text": [
      "r\n",
      "a\n",
      "s\n",
      "o\n"
     ]
    }
   ],
   "source": [
    "s = \"rasool\"\n",
    "print(a[0])\n",
    "print(a[1])\n",
    "print(a[2])\n",
    "print(a[3])"
   ]
  },
  {
   "cell_type": "code",
   "execution_count": 52,
   "id": "e93839ff-3c69-42da-a20a-f7a903f21cd5",
   "metadata": {},
   "outputs": [
    {
     "name": "stdout",
     "output_type": "stream",
     "text": [
      "l\n",
      "o\n"
     ]
    }
   ],
   "source": [
    "print(a[-1])\n",
    "print(a[-2])"
   ]
  },
  {
   "cell_type": "markdown",
   "id": "f8d73b85-ed5e-456d-b51c-12f1c42f7c42",
   "metadata": {},
   "source": [
    "## String Slicing"
   ]
  },
  {
   "cell_type": "markdown",
   "id": "29a3e348-aae4-4ad4-af48-4530c1ed15df",
   "metadata": {},
   "source": [
    "Python also allows a form of indexing syntax that extracts substrings from a string, known as string slicing. If s is a string, an expression of the form s[m:n] returns the portion of s starting with position m, and up to but not including position n:"
   ]
  },
  {
   "cell_type": "code",
   "execution_count": 2,
   "id": "ffef49a9-b369-4a45-8201-3e8210a0db9b",
   "metadata": {},
   "outputs": [
    {
     "name": "stdout",
     "output_type": "stream",
     "text": [
      "raso\n"
     ]
    }
   ],
   "source": [
    "a = \"rasool ahadi\"\n",
    "print(a[0:4])"
   ]
  },
  {
   "cell_type": "code",
   "execution_count": 60,
   "id": "8d75dace-ea54-467c-b81b-4913c6863d9a",
   "metadata": {},
   "outputs": [
    {
     "name": "stdout",
     "output_type": "stream",
     "text": [
      "raso\n"
     ]
    }
   ],
   "source": [
    "print(a[:4])"
   ]
  },
  {
   "cell_type": "code",
   "execution_count": 61,
   "id": "31d86a93-4040-43b5-a312-ff43883c3cfb",
   "metadata": {},
   "outputs": [
    {
     "name": "stdout",
     "output_type": "stream",
     "text": [
      "sool ahadi\n"
     ]
    }
   ],
   "source": [
    "print(a[2:])"
   ]
  },
  {
   "cell_type": "code",
   "execution_count": 8,
   "id": "885aab2e-472b-4da3-a3df-052fc4af52a2",
   "metadata": {},
   "outputs": [
    {
     "name": "stdout",
     "output_type": "stream",
     "text": [
      "rasool ahadi\n"
     ]
    }
   ],
   "source": [
    "print(a[:])"
   ]
  },
  {
   "cell_type": "code",
   "execution_count": 64,
   "id": "39d58cc3-85c1-4795-b189-94bbf1958123",
   "metadata": {},
   "outputs": [
    {
     "name": "stdout",
     "output_type": "stream",
     "text": [
      "rso \n"
     ]
    }
   ],
   "source": [
    "print(a[0:8:2])"
   ]
  },
  {
   "cell_type": "code",
   "execution_count": 3,
   "id": "5fd7893e-1d84-4a50-94dd-6df4e1792247",
   "metadata": {},
   "outputs": [
    {
     "name": "stdout",
     "output_type": "stream",
     "text": [
      "o hd\n"
     ]
    }
   ],
   "source": [
    "print(a[4::2])"
   ]
  },
  {
   "cell_type": "code",
   "execution_count": 7,
   "id": "3f1b59b3-8d3f-4f97-8d48-58d4c6639cd6",
   "metadata": {},
   "outputs": [
    {
     "data": {
      "text/plain": [
       "' loosa'"
      ]
     },
     "execution_count": 7,
     "metadata": {},
     "output_type": "execute_result"
    }
   ],
   "source": [
    "a[6:0:-1]"
   ]
  },
  {
   "cell_type": "markdown",
   "id": "e56b47d0-70c3-492b-aa09-9536f592ae40",
   "metadata": {},
   "source": [
    "**This is a common paradigm for reversing a string:**"
   ]
  },
  {
   "cell_type": "code",
   "execution_count": 66,
   "id": "b4eb3de7-95dd-4858-9161-a91d6dc7a0a8",
   "metadata": {
    "tags": []
   },
   "outputs": [
    {
     "name": "stdout",
     "output_type": "stream",
     "text": [
      "idaha loosar\n"
     ]
    }
   ],
   "source": [
    "print(a[::-1])"
   ]
  },
  {
   "cell_type": "markdown",
   "id": "8654ab9f-aa84-4058-8e31-7320b7f5b26a",
   "metadata": {
    "tags": []
   },
   "source": [
    "## f string"
   ]
  },
  {
   "cell_type": "markdown",
   "id": "ce674040-9612-439e-97a8-604d6ee8ecb8",
   "metadata": {},
   "source": [
    "we talk about f-string earlier. so just one example :"
   ]
  },
  {
   "cell_type": "code",
   "execution_count": 71,
   "id": "31908f0f-3ba1-430e-9546-3ab4c531eea6",
   "metadata": {},
   "outputs": [
    {
     "data": {
      "text/plain": [
       "'The product of 2 and 3 is 6'"
      ]
     },
     "execution_count": 71,
     "metadata": {},
     "output_type": "execute_result"
    }
   ],
   "source": [
    "n = 2\n",
    "m = 3\n",
    "\n",
    "f'The product of {n} and {m} is {n*m}'"
   ]
  },
  {
   "cell_type": "markdown",
   "id": "acbd1750-180c-45c5-9483-22d928fef846",
   "metadata": {},
   "source": [
    "## modifying strings"
   ]
  },
  {
   "cell_type": "markdown",
   "id": "ae41d372-a97e-4c17-9f68-414363ebb17f",
   "metadata": {},
   "source": [
    "In a nutshell, you can’t. Strings are one of the data types Python considers **immutable**, **meaning not able to be changed.** In fact, all the data types you have seen so far are immutable."
   ]
  },
  {
   "cell_type": "code",
   "execution_count": 11,
   "id": "9158eadb-5c46-4714-ae7d-1ed2fc65d083",
   "metadata": {},
   "outputs": [
    {
     "ename": "TypeError",
     "evalue": "'str' object does not support item assignment",
     "output_type": "error",
     "traceback": [
      "\u001b[1;31m---------------------------------------------------------------------------\u001b[0m",
      "\u001b[1;31mTypeError\u001b[0m                                 Traceback (most recent call last)",
      "Input \u001b[1;32mIn [11]\u001b[0m, in \u001b[0;36m<cell line: 3>\u001b[1;34m()\u001b[0m\n\u001b[0;32m      1\u001b[0m s \u001b[38;5;241m=\u001b[39m \u001b[38;5;124m'\u001b[39m\u001b[38;5;124mfoobar\u001b[39m\u001b[38;5;124m'\u001b[39m\n\u001b[0;32m      2\u001b[0m \u001b[38;5;66;03m# s[3] = 'x'\u001b[39;00m\n\u001b[1;32m----> 3\u001b[0m s[\u001b[38;5;241m3\u001b[39m] \u001b[38;5;241m=\u001b[39m \u001b[38;5;124m\"\u001b[39m\u001b[38;5;124ms\u001b[39m\u001b[38;5;124m\"\u001b[39m\n",
      "\u001b[1;31mTypeError\u001b[0m: 'str' object does not support item assignment"
     ]
    }
   ],
   "source": [
    "s = 'foobar'\n",
    "s[3] = 'x'\n"
   ]
  },
  {
   "cell_type": "code",
   "execution_count": 5,
   "id": "a5e39445-b5e6-4006-b70d-579d55ba60be",
   "metadata": {},
   "outputs": [
    {
     "data": {
      "text/plain": [
       "'fooxar'"
      ]
     },
     "execution_count": 5,
     "metadata": {},
     "output_type": "execute_result"
    }
   ],
   "source": [
    "s = 'foobar'\n",
    "s = s[:3] + 'x' + s[4:]\n",
    "s"
   ]
  },
  {
   "cell_type": "markdown",
   "id": "d11b1205-cc9c-4f37-9e3f-1c647e5eea61",
   "metadata": {},
   "source": [
    "**There is also a built-in string method to accomplish this:**"
   ]
  },
  {
   "cell_type": "code",
   "execution_count": 77,
   "id": "e7963b98-ac02-4551-b7ed-bb5144830cb0",
   "metadata": {
    "tags": []
   },
   "outputs": [
    {
     "data": {
      "text/plain": [
       "'fooxar'"
      ]
     },
     "execution_count": 77,
     "metadata": {},
     "output_type": "execute_result"
    }
   ],
   "source": [
    "s = 'foobar'\n",
    "s = s.replace('b', 'x')\n",
    "s"
   ]
  },
  {
   "cell_type": "code",
   "execution_count": null,
   "id": "540a1d19-5e71-4913-905b-ce654594d265",
   "metadata": {},
   "outputs": [],
   "source": []
  },
  {
   "cell_type": "markdown",
   "id": "e7bf62b9-c91d-4ccc-985d-732b24c1f4d0",
   "metadata": {},
   "source": [
    "## dir function"
   ]
  },
  {
   "cell_type": "markdown",
   "id": "633f29d0-332e-4a2d-9e38-6a36cb3d1248",
   "metadata": {},
   "source": [
    "**Python is a highly object-oriented language.** very item of data in a Python program is an object.\n",
    "\n",
    "You are also familiar with **functions**: callable procedures that you can invoke to perform specific tasks.\n",
    "\n",
    "**Methods are similar to functions.** **A method is a specialized type of callable procedure that is tightly associated with an object.** Like a function, a method is called to perform a distinct task, but it is invoked on a specific object and has knowledge of its target object during execution.\n",
    "\n",
    "```python\n",
    "obj.foo(<args>)\n",
    "```"
   ]
  },
  {
   "cell_type": "markdown",
   "id": "8dcfd8df-2478-4494-819f-3f13e2470970",
   "metadata": {},
   "source": [
    "``dir()`` is a powerful inbuilt function in Python3, which returns **list of the attributes and methods of any object** (say functions , modules, strings, lists, dictionaries etc.)"
   ]
  },
  {
   "cell_type": "code",
   "execution_count": 15,
   "id": "5342c48f-5f8a-4724-a25b-5b4b8c1fd935",
   "metadata": {},
   "outputs": [
    {
     "data": {
      "text/plain": [
       "['__add__',\n",
       " '__class__',\n",
       " '__contains__',\n",
       " '__delattr__',\n",
       " '__dir__',\n",
       " '__doc__',\n",
       " '__eq__',\n",
       " '__format__',\n",
       " '__ge__',\n",
       " '__getattribute__',\n",
       " '__getitem__',\n",
       " '__getnewargs__',\n",
       " '__gt__',\n",
       " '__hash__',\n",
       " '__init__',\n",
       " '__init_subclass__',\n",
       " '__iter__',\n",
       " '__le__',\n",
       " '__len__',\n",
       " '__lt__',\n",
       " '__mod__',\n",
       " '__mul__',\n",
       " '__ne__',\n",
       " '__new__',\n",
       " '__reduce__',\n",
       " '__reduce_ex__',\n",
       " '__repr__',\n",
       " '__rmod__',\n",
       " '__rmul__',\n",
       " '__setattr__',\n",
       " '__sizeof__',\n",
       " '__str__',\n",
       " '__subclasshook__',\n",
       " 'capitalize',\n",
       " 'casefold',\n",
       " 'center',\n",
       " 'count',\n",
       " 'encode',\n",
       " 'endswith',\n",
       " 'expandtabs',\n",
       " 'find',\n",
       " 'format',\n",
       " 'format_map',\n",
       " 'index',\n",
       " 'isalnum',\n",
       " 'isalpha',\n",
       " 'isascii',\n",
       " 'isdecimal',\n",
       " 'isdigit',\n",
       " 'isidentifier',\n",
       " 'islower',\n",
       " 'isnumeric',\n",
       " 'isprintable',\n",
       " 'isspace',\n",
       " 'istitle',\n",
       " 'isupper',\n",
       " 'join',\n",
       " 'ljust',\n",
       " 'lower',\n",
       " 'lstrip',\n",
       " 'maketrans',\n",
       " 'partition',\n",
       " 'removeprefix',\n",
       " 'removesuffix',\n",
       " 'replace',\n",
       " 'rfind',\n",
       " 'rindex',\n",
       " 'rjust',\n",
       " 'rpartition',\n",
       " 'rsplit',\n",
       " 'rstrip',\n",
       " 'split',\n",
       " 'splitlines',\n",
       " 'startswith',\n",
       " 'strip',\n",
       " 'swapcase',\n",
       " 'title',\n",
       " 'translate',\n",
       " 'upper',\n",
       " 'zfill']"
      ]
     },
     "execution_count": 15,
     "metadata": {},
     "output_type": "execute_result"
    }
   ],
   "source": [
    "dir(str)"
   ]
  },
  {
   "cell_type": "code",
   "execution_count": 16,
   "id": "186e84aa-46f8-4169-9350-d3a9d7e16d85",
   "metadata": {},
   "outputs": [
    {
     "data": {
      "text/plain": [
       "['__add__',\n",
       " '__class__',\n",
       " '__class_getitem__',\n",
       " '__contains__',\n",
       " '__delattr__',\n",
       " '__delitem__',\n",
       " '__dir__',\n",
       " '__doc__',\n",
       " '__eq__',\n",
       " '__format__',\n",
       " '__ge__',\n",
       " '__getattribute__',\n",
       " '__getitem__',\n",
       " '__gt__',\n",
       " '__hash__',\n",
       " '__iadd__',\n",
       " '__imul__',\n",
       " '__init__',\n",
       " '__init_subclass__',\n",
       " '__iter__',\n",
       " '__le__',\n",
       " '__len__',\n",
       " '__lt__',\n",
       " '__mul__',\n",
       " '__ne__',\n",
       " '__new__',\n",
       " '__reduce__',\n",
       " '__reduce_ex__',\n",
       " '__repr__',\n",
       " '__reversed__',\n",
       " '__rmul__',\n",
       " '__setattr__',\n",
       " '__setitem__',\n",
       " '__sizeof__',\n",
       " '__str__',\n",
       " '__subclasshook__',\n",
       " 'append',\n",
       " 'clear',\n",
       " 'copy',\n",
       " 'count',\n",
       " 'extend',\n",
       " 'index',\n",
       " 'insert',\n",
       " 'pop',\n",
       " 'remove',\n",
       " 'reverse',\n",
       " 'sort']"
      ]
     },
     "execution_count": 16,
     "metadata": {},
     "output_type": "execute_result"
    }
   ],
   "source": [
    "dir(list)"
   ]
  },
  {
   "cell_type": "markdown",
   "id": "48ac4195-14d0-4522-87ae-009b47563556",
   "metadata": {},
   "source": [
    "## Built-in String Methods"
   ]
  },
  {
   "cell_type": "markdown",
   "id": "871ef188-7c24-4e55-bfd5-662827faa217",
   "metadata": {},
   "source": [
    "there is 46 different methods for string in python you can read about this methods [here](https://www.w3schools.com/python/python_ref_string.asp)"
   ]
  },
  {
   "cell_type": "markdown",
   "id": "22a77581-fe26-461c-aab0-d24478688ae6",
   "metadata": {},
   "source": [
    "some usefull methods examples : "
   ]
  },
  {
   "cell_type": "code",
   "execution_count": 6,
   "id": "864a9233-cfcb-4386-979d-3fa6d9667411",
   "metadata": {},
   "outputs": [],
   "source": [
    "a = \"this is a string\"\n",
    "a.capitalize()"
   ]
  },
  {
   "cell_type": "code",
   "execution_count": 7,
   "id": "26abcd53-f923-493f-bd0d-a7195673be78",
   "metadata": {},
   "outputs": [
    {
     "data": {
      "text/plain": [
       "'This is a string'"
      ]
     },
     "execution_count": 7,
     "metadata": {},
     "output_type": "execute_result"
    }
   ],
   "source": [
    "a"
   ]
  },
  {
   "cell_type": "code",
   "execution_count": 12,
   "id": "18e50c7b-f7fc-41ae-9808-68abf7d90080",
   "metadata": {},
   "outputs": [
    {
     "data": {
      "text/plain": [
       "'rasool'"
      ]
     },
     "execution_count": 12,
     "metadata": {},
     "output_type": "execute_result"
    }
   ],
   "source": [
    "a = \"RASOOL\"\n",
    "a.lower()"
   ]
  },
  {
   "cell_type": "code",
   "execution_count": 9,
   "id": "22f51f79-d957-4cd4-af1c-ce9e58c08dad",
   "metadata": {},
   "outputs": [
    {
     "data": {
      "text/plain": [
       "'This Is A String'"
      ]
     },
     "execution_count": 9,
     "metadata": {},
     "output_type": "execute_result"
    }
   ],
   "source": [
    "a = \"this is a string\"\n",
    "a.title()"
   ]
  },
  {
   "cell_type": "code",
   "execution_count": 11,
   "id": "5c04c238-df1c-4521-b264-dff68f869d41",
   "metadata": {},
   "outputs": [
    {
     "data": {
      "text/plain": [
       "'THIS IS A STRING'"
      ]
     },
     "execution_count": 11,
     "metadata": {},
     "output_type": "execute_result"
    }
   ],
   "source": [
    "a = \"this is a string\"\n",
    "a.upper()"
   ]
  },
  {
   "cell_type": "code",
   "execution_count": 7,
   "id": "f4f9de98-07e4-4784-8454-584e96705613",
   "metadata": {},
   "outputs": [
    {
     "data": {
      "text/plain": [
       "2"
      ]
     },
     "execution_count": 7,
     "metadata": {},
     "output_type": "execute_result"
    }
   ],
   "source": [
    "a = \"tow plus tow\"\n",
    "a.count(\"tow\")"
   ]
  },
  {
   "cell_type": "code",
   "execution_count": 18,
   "id": "9b983e6b-164e-4d32-882b-87ca6c6bfeaa",
   "metadata": {},
   "outputs": [
    {
     "data": {
      "text/plain": [
       "False"
      ]
     },
     "execution_count": 18,
     "metadata": {},
     "output_type": "execute_result"
    }
   ],
   "source": [
    "a = \"tow plus tow\"\n",
    "a.endswith('tow')\n",
    "a.endswith('tow',0,4)"
   ]
  },
  {
   "cell_type": "code",
   "execution_count": 33,
   "id": "11d770df-e233-4ad5-aac8-8ad39578d334",
   "metadata": {},
   "outputs": [
    {
     "data": {
      "text/plain": [
       "True"
      ]
     },
     "execution_count": 33,
     "metadata": {},
     "output_type": "execute_result"
    }
   ],
   "source": [
    "a = \"tow plus tow\"\n",
    "a.startswith('tow')"
   ]
  },
  {
   "cell_type": "code",
   "execution_count": 10,
   "id": "d351759e-22f4-468a-b7d6-6b1adfcf10f1",
   "metadata": {},
   "outputs": [
    {
     "data": {
      "text/plain": [
       "0"
      ]
     },
     "execution_count": 10,
     "metadata": {},
     "output_type": "execute_result"
    }
   ],
   "source": [
    "a = \"tow plus tow\"\n",
    "a.find(\"t\")\n"
   ]
  },
  {
   "cell_type": "code",
   "execution_count": 25,
   "id": "a7530909-0eb3-4d16-abb4-ee5b0e5dae1d",
   "metadata": {},
   "outputs": [
    {
     "data": {
      "text/plain": [
       "9"
      ]
     },
     "execution_count": 25,
     "metadata": {},
     "output_type": "execute_result"
    }
   ],
   "source": [
    "a = \"tow plus tow\"\n",
    "a.rfind(\"t\")"
   ]
  },
  {
   "cell_type": "code",
   "execution_count": null,
   "id": "e6f73ee2-618a-4f49-b182-8306968c01a3",
   "metadata": {},
   "outputs": [
    {
     "ename": "ValueError",
     "evalue": "substring not found",
     "output_type": "error",
     "traceback": [
      "\u001b[1;31m---------------------------------------------------------------------------\u001b[0m",
      "\u001b[1;31mValueError\u001b[0m                                Traceback (most recent call last)",
      "Input \u001b[1;32mIn [11]\u001b[0m, in \u001b[0;36m<cell line: 2>\u001b[1;34m()\u001b[0m\n\u001b[0;32m      1\u001b[0m a \u001b[38;5;241m=\u001b[39m \u001b[38;5;124m\"\u001b[39m\u001b[38;5;124mtow plus tow\u001b[39m\u001b[38;5;124m\"\u001b[39m\n\u001b[1;32m----> 2\u001b[0m \u001b[43ma\u001b[49m\u001b[38;5;241;43m.\u001b[39;49m\u001b[43mindex\u001b[49m\u001b[43m(\u001b[49m\u001b[38;5;124;43m\"\u001b[39;49m\u001b[38;5;124;43mq\u001b[39;49m\u001b[38;5;124;43m\"\u001b[39;49m\u001b[43m)\u001b[49m\n",
      "\u001b[1;31mValueError\u001b[0m: substring not found"
     ]
    }
   ],
   "source": [
    "a = \"tow plus tow\"\n",
    "a.index(\"tow\")\n",
    "a.index(\"t\",4,10)"
   ]
  },
  {
   "cell_type": "code",
   "execution_count": 38,
   "id": "3ed16cfc-397a-4acc-9aa6-37b0d9482602",
   "metadata": {},
   "outputs": [
    {
     "data": {
      "text/plain": [
       "True"
      ]
     },
     "execution_count": 38,
     "metadata": {},
     "output_type": "execute_result"
    }
   ],
   "source": [
    "a = \"towplus2\"\n",
    "a.isalnum()"
   ]
  },
  {
   "cell_type": "code",
   "execution_count": 17,
   "id": "c2cf3299-1aae-41bd-b1e0-403bb3bb3a21",
   "metadata": {},
   "outputs": [
    {
     "data": {
      "text/plain": [
       "False"
      ]
     },
     "execution_count": 17,
     "metadata": {},
     "output_type": "execute_result"
    }
   ],
   "source": [
    "a = \"tow\\nplustow\"\n",
    "a.isalpha()"
   ]
  },
  {
   "cell_type": "code",
   "execution_count": 13,
   "id": "e99eed8a-2a6f-4351-befd-5aa1216052d3",
   "metadata": {},
   "outputs": [
    {
     "data": {
      "text/plain": [
       "False"
      ]
     },
     "execution_count": 13,
     "metadata": {},
     "output_type": "execute_result"
    }
   ],
   "source": [
    "a = \"tow plus tow\"\n",
    "a.isdigit()"
   ]
  },
  {
   "cell_type": "code",
   "execution_count": 24,
   "id": "5db3abcd-8736-48f5-8b78-21bd9a11a834",
   "metadata": {},
   "outputs": [
    {
     "data": {
      "text/plain": [
       "True"
      ]
     },
     "execution_count": 24,
     "metadata": {},
     "output_type": "execute_result"
    }
   ],
   "source": [
    "'foo32'.isidentifier()"
   ]
  },
  {
   "cell_type": "code",
   "execution_count": null,
   "id": "ab5c5062-0561-45b1-882d-d0fbd01d009c",
   "metadata": {},
   "outputs": [
    {
     "data": {
      "text/plain": [
       "True"
      ]
     },
     "execution_count": 18,
     "metadata": {},
     "output_type": "execute_result"
    }
   ],
   "source": [
    "s = \"a\\tb\"\n",
    "s.isprintable()"
   ]
  },
  {
   "cell_type": "code",
   "execution_count": 26,
   "id": "b6e90b81-0bb9-4d0e-b07c-009641f2b9fa",
   "metadata": {},
   "outputs": [
    {
     "data": {
      "text/plain": [
       "True"
      ]
     },
     "execution_count": 26,
     "metadata": {},
     "output_type": "execute_result"
    }
   ],
   "source": [
    "' \\t \\n '.isspace()"
   ]
  },
  {
   "cell_type": "code",
   "execution_count": 27,
   "id": "b46953be-6135-4a9e-83df-df6fe12c47f8",
   "metadata": {},
   "outputs": [
    {
     "data": {
      "text/plain": [
       "True"
      ]
     },
     "execution_count": 27,
     "metadata": {},
     "output_type": "execute_result"
    }
   ],
   "source": [
    "'ABC'.isupper()"
   ]
  },
  {
   "cell_type": "markdown",
   "id": "adfe652e-3605-4d41-8349-be90218fc244",
   "metadata": {},
   "source": [
    "<hr>"
   ]
  },
  {
   "cell_type": "code",
   "execution_count": 29,
   "id": "dcffd103-1f4e-4be1-bc72-b67f6bc68371",
   "metadata": {},
   "outputs": [
    {
     "data": {
      "text/plain": [
       "'   foo    '"
      ]
     },
     "execution_count": 29,
     "metadata": {},
     "output_type": "execute_result"
    }
   ],
   "source": [
    "'foo'.center(10)"
   ]
  },
  {
   "cell_type": "code",
   "execution_count": 30,
   "id": "be0b2a4e-3cde-4790-85f6-5f9e83d3edec",
   "metadata": {},
   "outputs": [
    {
     "data": {
      "text/plain": [
       "'---foo----'"
      ]
     },
     "execution_count": 30,
     "metadata": {},
     "output_type": "execute_result"
    }
   ],
   "source": [
    "'foo'.center(10, \"-\")"
   ]
  },
  {
   "cell_type": "code",
   "execution_count": 31,
   "id": "c55dc344-3a8e-44d8-acb9-11cff501825e",
   "metadata": {},
   "outputs": [
    {
     "data": {
      "text/plain": [
       "'foo       '"
      ]
     },
     "execution_count": 31,
     "metadata": {},
     "output_type": "execute_result"
    }
   ],
   "source": [
    "'foo'.ljust(10)"
   ]
  },
  {
   "cell_type": "code",
   "execution_count": 34,
   "id": "9454c4b8-ab96-4988-af49-b864e3a0b6d4",
   "metadata": {},
   "outputs": [
    {
     "data": {
      "text/plain": [
       "'rasool    '"
      ]
     },
     "execution_count": 34,
     "metadata": {},
     "output_type": "execute_result"
    }
   ],
   "source": [
    "s= \"             rasool    \"\n",
    "s.lstrip()"
   ]
  },
  {
   "cell_type": "code",
   "execution_count": 36,
   "id": "f37fe1cc-c302-4dda-b920-8e317a320d2e",
   "metadata": {},
   "outputs": [
    {
     "data": {
      "text/plain": [
       "'www.google.com'"
      ]
     },
     "execution_count": 36,
     "metadata": {},
     "output_type": "execute_result"
    }
   ],
   "source": [
    "'http://www.google.com'.lstrip('/:pth')"
   ]
  },
  {
   "cell_type": "code",
   "execution_count": 37,
   "id": "c82e4466-189a-4e8c-ad0d-799f02ff22e1",
   "metadata": {},
   "outputs": [
    {
     "data": {
      "text/plain": [
       "'grault bar grault baz grault qux'"
      ]
     },
     "execution_count": 37,
     "metadata": {},
     "output_type": "execute_result"
    }
   ],
   "source": [
    "'foo bar foo baz foo qux'.replace('foo', 'grault')"
   ]
  },
  {
   "cell_type": "code",
   "execution_count": 38,
   "id": "d187889d-6fd1-4cf9-ada8-0b000f5d5c93",
   "metadata": {},
   "outputs": [
    {
     "data": {
      "text/plain": [
       "'+0000042'"
      ]
     },
     "execution_count": 38,
     "metadata": {},
     "output_type": "execute_result"
    }
   ],
   "source": [
    "'+42'.zfill(8)"
   ]
  },
  {
   "cell_type": "markdown",
   "id": "3ea44fd5-e150-43a0-ba6a-21bb5083b494",
   "metadata": {},
   "source": [
    "<hr>"
   ]
  },
  {
   "cell_type": "markdown",
   "id": "3b8545fd-caa6-41f1-9038-55d73c2a9c0e",
   "metadata": {},
   "source": [
    "## Converting Between Strings and Lists"
   ]
  },
  {
   "cell_type": "markdown",
   "id": "a5fe3489-7b48-4f5d-b51c-0620b92d5a72",
   "metadata": {},
   "source": [
    "Methods in this group convert between a string and some composite data type by either pasting objects together to make a string, or by breaking a string up into pieces."
   ]
  },
  {
   "cell_type": "markdown",
   "id": "49edad35-7269-49a9-990a-64033fae82bd",
   "metadata": {},
   "source": [
    "Many of these methods return either a list or a tuple. These are two similar composite data types that are prototypical examples of iterables in Python."
   ]
  },
  {
   "cell_type": "code",
   "execution_count": 14,
   "id": "39bbd8f6-6f5b-4cf9-b761-8ea942640cf6",
   "metadata": {
    "tags": []
   },
   "outputs": [
    {
     "data": {
      "text/plain": [
       "'foo~bar~baz~qux'"
      ]
     },
     "execution_count": 14,
     "metadata": {},
     "output_type": "execute_result"
    }
   ],
   "source": [
    "'~'.join(['foo', 'bar', 'baz', 'qux'])"
   ]
  },
  {
   "cell_type": "code",
   "execution_count": 17,
   "id": "9c59215e-836f-46d0-b760-df44f9123ba5",
   "metadata": {},
   "outputs": [
    {
     "data": {
      "text/plain": [
       "['www.realpython.com']"
      ]
     },
     "execution_count": 17,
     "metadata": {},
     "output_type": "execute_result"
    }
   ],
   "source": [
    "'www.realpython.com'.split(' ')"
   ]
  }
 ],
 "metadata": {
  "kernelspec": {
   "display_name": "Python 3 (ipykernel)",
   "language": "python",
   "name": "python3"
  },
  "language_info": {
   "codemirror_mode": {
    "name": "ipython",
    "version": 3
   },
   "file_extension": ".py",
   "mimetype": "text/x-python",
   "name": "python",
   "nbconvert_exporter": "python",
   "pygments_lexer": "ipython3",
   "version": "3.10.9"
  }
 },
 "nbformat": 4,
 "nbformat_minor": 5
}
