{
 "cells": [
  {
   "cell_type": "markdown",
   "id": "f77f01b2-c9b4-463e-9651-a0b4b46afdde",
   "metadata": {},
   "source": [
    "# function"
   ]
  },
  {
   "cell_type": "markdown",
   "id": "8d5ebf6b-9b7d-486b-b49b-3b8a609cd61e",
   "metadata": {},
   "source": [
    "* [What Is Function?](#What-Is-Function?)\n",
    "* [The Importance of Python Functions](#The-Importance-of-Python-Functions)\n",
    "* [Function Calls and Definition](#Function-Calls-and-Definition)\n",
    "* [Argument Passing](#Argument-Passing)\n",
    "* [* and **](#*-and-**)\n",
    "* [Pass-By-Value vs Pass-By-Reference](#Pass-By-Value-vs-Pass-By-Reference)\n",
    "* [The return Statement](#The-return-Statement)\n",
    "* [Python Function Annotations](#Python-Function-Annotations)"
   ]
  },
  {
   "cell_type": "markdown",
   "id": "49d12a51-fcf8-4696-89de-74ff9a0b4b6e",
   "metadata": {},
   "source": [
    "## What Is Function?"
   ]
  },
  {
   "cell_type": "markdown",
   "id": "71a80333-e09f-48bb-8d3b-a769f9a2d355",
   "metadata": {},
   "source": [
    "You may be familiar with the mathematical concept of a function. A function is a relationship or mapping between one or more inputs and a set of outputs.\n",
    "```python\n",
    "z = f(x,y)\n",
    "```\n",
    "In programming, a function is a **self-contained block of code that encapsulates a specific task or related group of tasks.** "
   ]
  },
  {
   "cell_type": "markdown",
   "id": "baf7a496-3a3b-45d2-b606-998ada6fe8df",
   "metadata": {},
   "source": [
    " you’ve been introduced to some of the built-in functions provided by Python : \n",
    " ```python\n",
    " len()\n",
    " map()\n",
    " print()\n",
    " ```"
   ]
  },
  {
   "cell_type": "markdown",
   "id": "4fd76be4-c531-4af5-800c-5ce8bf4cfdb1",
   "metadata": {},
   "source": [
    "Each of these built-in functions performs a specific task. The code that accomplishes the task is defined somewhere, but you don’t need to know where or even how the code works. All you need to know about is the function’s interface:\n",
    "* What **arguments (if any)** it takes\n",
    "* What **values (if any)** it returns\n",
    "\n",
    "Then you **call the function** and pass the appropriate arguments."
   ]
  },
  {
   "cell_type": "markdown",
   "id": "c423ab52-cba3-4e5a-9efc-23cc56b9522a",
   "metadata": {},
   "source": [
    "When you define your own Python function, it works just the same. From somewhere in your code, you’ll call your Python function and program execution will transfer to the body of code that makes up the function."
   ]
  },
  {
   "cell_type": "markdown",
   "id": "46d527e1-c1c5-47c5-adb8-3febd6caf008",
   "metadata": {},
   "source": [
    "## The Importance of Python Functions"
   ]
  },
  {
   "cell_type": "markdown",
   "id": "fa6eb7bb-24f8-44f4-b070-09a5492f0625",
   "metadata": {},
   "source": [
    "* ### Abstraction and Reusability"
   ]
  },
  {
   "cell_type": "markdown",
   "id": "17dba710-f109-4490-b5d1-daab20cb2bf2",
   "metadata": {},
   "source": [
    "Suppose you write some code that does something useful. As you continue development, you find that the task performed by that code is one you need often, in many different locations within your application. What should you do? Well, you could just replicate the code over and over again, using your editor’s copy-and-paste capability."
   ]
  },
  {
   "cell_type": "markdown",
   "id": "20a40d23-16b2-451f-8968-98bfa56c55f0",
   "metadata": {},
   "source": [
    "Later on, you’ll probably decide that the code in question needs to be modified. You’ll either find something wrong with it that needs to be fixed, or you’ll want to enhance it in some way. If copies of the code are scattered all over your application, then you’ll need to make the necessary changes in every location."
   ]
  },
  {
   "cell_type": "markdown",
   "id": "3d312e31-7e1e-4680-b235-90791919f5f9",
   "metadata": {},
   "source": [
    "A better solution is to **define a Python function that performs the task.**"
   ]
  },
  {
   "cell_type": "markdown",
   "id": "988917dc-4c0d-46b8-8d46-9add8fa98b74",
   "metadata": {},
   "source": [
    "The abstraction of functionality into a function definition is an example of the **Don’t Repeat Yourself (DRY) Principle** of software development."
   ]
  },
  {
   "cell_type": "markdown",
   "id": "ce224ede-49ff-42cc-9b0f-1c3111a0fc83",
   "metadata": {},
   "source": [
    "* ### Modularity"
   ]
  },
  {
   "cell_type": "markdown",
   "id": "18332283-ab93-47b2-b9d5-41cd30facaf1",
   "metadata": {},
   "source": [
    "Functions allow complex processes to be broken up into smaller steps."
   ]
  },
  {
   "cell_type": "markdown",
   "id": "cf275f43-f624-485b-ab8e-4f8a6e0be6aa",
   "metadata": {},
   "source": [
    "In life, you do this sort of thing all the time, even if you don’t explicitly think of it that way. If you wanted to move some shelves full of stuff from one side of your garage to the other, then you hopefully wouldn’t just stand there and aimlessly think, “Oh, geez. I need to move all that stuff over there! How do I do that???” You’d divide the job into manageable steps:\n",
    "\n",
    "1. Take all the stuff off the shelves.\n",
    "2. Take the shelves apart.\n",
    "3. Carry the shelf parts across the garage to the new location.\n",
    "4. Re-assemble the shelves.\n",
    "5. Carry the stuff across the garage.\n",
    "6. Put the stuff back on the shelves."
   ]
  },
  {
   "cell_type": "markdown",
   "id": "4122c05b-c4bf-431b-b41a-4976e03ecf8d",
   "metadata": {},
   "source": [
    "* ### Namespace Separation"
   ]
  },
  {
   "cell_type": "markdown",
   "id": "5e46fb2a-b612-4649-b0d5-024945af5c9c",
   "metadata": {},
   "source": [
    "A namespace is a region of a program in which identifiers have meaning. As you’ll see below, when a Python function is called, a new namespace is created for that function, one that is distinct from all other namespaces that already exist."
   ]
  },
  {
   "cell_type": "markdown",
   "id": "4a091bbe-88f8-4271-b48b-f81cec2035af",
   "metadata": {},
   "source": [
    "## Function Calls and Definition"
   ]
  },
  {
   "cell_type": "markdown",
   "id": "15194bea-9351-4273-962a-b89c15a77d22",
   "metadata": {},
   "source": [
    "```python \n",
    "def <function_name>([<parameters>]):\n",
    "    <statement(s)>\n",
    "```"
   ]
  },
  {
   "cell_type": "markdown",
   "id": "869d2857-7a19-4d7d-a534-e5168d8a2dbe",
   "metadata": {},
   "source": [
    "The final item, <statement(s)>, is called **the body of the function.** The body is a block of statements that will be executed when the function is called."
   ]
  },
  {
   "cell_type": "markdown",
   "id": "da786a49-5618-48d5-aef1-7f1fd8543f61",
   "metadata": {},
   "source": [
    "The syntax for calling a Python function is as follows:\n",
    "```python\n",
    "<function_name>([<arguments>])\n",
    "```\n",
    "    "
   ]
  },
  {
   "cell_type": "markdown",
   "id": "776cf3ee-6815-4b1e-b918-6be91effa999",
   "metadata": {},
   "source": [
    ">  **Both a function definition and a function call must always include parentheses, even if they’re empty.**"
   ]
  },
  {
   "cell_type": "code",
   "execution_count": 174,
   "id": "2f9922d6-86b3-4534-afd2-f66c4adbeb73",
   "metadata": {},
   "outputs": [],
   "source": [
    "def f():\n",
    "    s = '-- Inside f()'\n",
    "    print(s)"
   ]
  },
  {
   "cell_type": "code",
   "execution_count": 175,
   "id": "c830125a-b499-4688-b433-18593ec24283",
   "metadata": {},
   "outputs": [
    {
     "name": "stdout",
     "output_type": "stream",
     "text": [
      "before calling f\n",
      "-- Inside f()\n",
      "after calling f\n"
     ]
    }
   ],
   "source": [
    "print(\"before calling f\")\n",
    "f()\n",
    "\n",
    "print(\"after calling f\")"
   ]
  },
  {
   "attachments": {
    "ccd71485-cf35-404f-97c2-46c45a15a338.PNG": {
     "image/png": "[encoded data removed]"
    }
   },
   "cell_type": "markdown",
   "id": "754641ec-0642-449e-b05c-6d4b16cdeea0",
   "metadata": {},
   "source": [
    "![function-01.PNG](attachment:ccd71485-cf35-404f-97c2-46c45a15a338.PNG)"
   ]
  },
  {
   "cell_type": "markdown",
   "id": "30ceaffe-f900-44a5-8e7e-b064984c77e3",
   "metadata": {},
   "source": [
    "> you can use ``pass`` just like loops and if"
   ]
  },
  {
   "cell_type": "markdown",
   "id": "6e005014-2779-4b53-88f1-8e1674187384",
   "metadata": {},
   "source": [
    "## Argument Passing"
   ]
  },
  {
   "cell_type": "markdown",
   "id": "c3603746-fefe-4bb3-ae15-2703867f8555",
   "metadata": {},
   "source": [
    "More often, you’ll want to **pass data into a function** so that its behavior can vary from one invocation to the next. Let’s see how to do that."
   ]
  },
  {
   "cell_type": "markdown",
   "id": "fb3755db-cb64-4920-bffe-007d99286845",
   "metadata": {},
   "source": [
    "* ### Positional Arguments"
   ]
  },
  {
   "cell_type": "markdown",
   "id": "047e86e2-8ff5-4daa-92b7-252438e96d76",
   "metadata": {},
   "source": [
    "The most straightforward way to pass arguments to a Python function is with **positional arguments** (also called **required arguments**)"
   ]
  },
  {
   "cell_type": "code",
   "execution_count": 43,
   "id": "d19acb2d-6a67-42dd-affb-fcf0ec7e655c",
   "metadata": {},
   "outputs": [
    {
     "name": "stdout",
     "output_type": "stream",
     "text": [
      "6 bananas cost $1.74\n"
     ]
    }
   ],
   "source": [
    "def f(qty, item, price):\n",
    "    print(f'{qty} {item} cost ${price}')\n",
    "\n",
    "f(6, 'bananas', 1.74)"
   ]
  },
  {
   "cell_type": "markdown",
   "id": "041cfd07-c515-4e89-903e-7ba208fd3d3b",
   "metadata": {},
   "source": [
    "> the order of the arguments in the call must match the order of the parameters in the definition. "
   ]
  },
  {
   "cell_type": "markdown",
   "id": "10dce1ab-677f-4bb8-8233-05ec0aeb3c81",
   "metadata": {},
   "source": [
    " It’s the responsibility of the programmer who defines the function **to document what the appropriate arguments** should be, and it’s the responsibility of the user of the function to be aware of that information and abide by it."
   ]
  },
  {
   "cell_type": "markdown",
   "id": "c193a16f-ca57-4986-ab2f-6534954996cc",
   "metadata": {},
   "source": [
    "> With positional arguments, the arguments in the call and the parameters in the definition **must agree not only in order but in number as well.**"
   ]
  },
  {
   "cell_type": "code",
   "execution_count": 47,
   "id": "73812305-019f-4e04-ac30-894c2549ba00",
   "metadata": {},
   "outputs": [
    {
     "ename": "TypeError",
     "evalue": "f() missing 1 required positional argument: 'price'",
     "output_type": "error",
     "traceback": [
      "\u001b[1;31m---------------------------------------------------------------------------\u001b[0m",
      "\u001b[1;31mTypeError\u001b[0m                                 Traceback (most recent call last)",
      "Input \u001b[1;32mIn [47]\u001b[0m, in \u001b[0;36m<cell line: 1>\u001b[1;34m()\u001b[0m\n\u001b[1;32m----> 1\u001b[0m \u001b[43mf\u001b[49m\u001b[43m(\u001b[49m\u001b[38;5;241;43m6\u001b[39;49m\u001b[43m,\u001b[49m\u001b[43m \u001b[49m\u001b[38;5;124;43m'\u001b[39;49m\u001b[38;5;124;43mbananas\u001b[39;49m\u001b[38;5;124;43m'\u001b[39;49m\u001b[43m)\u001b[49m\n",
      "\u001b[1;31mTypeError\u001b[0m: f() missing 1 required positional argument: 'price'"
     ]
    }
   ],
   "source": [
    "f(6, 'bananas')"
   ]
  },
  {
   "cell_type": "markdown",
   "id": "6b1ef330-6472-498d-8c56-d895412ebbcb",
   "metadata": {},
   "source": [
    "* ### Keyword Arguments"
   ]
  },
  {
   "cell_type": "markdown",
   "id": "44b6fea1-2216-4bf1-b97e-b3d7247cac69",
   "metadata": {},
   "source": [
    "When you’re calling a function, you can specify arguments in the form ``<keyword>=<value>.`` In that case, each <keyword> must match a parameter in the Python function definition."
   ]
  },
  {
   "cell_type": "code",
   "execution_count": 51,
   "id": "977e725d-0c71-4300-80c1-fd8db80b5fca",
   "metadata": {},
   "outputs": [
    {
     "name": "stdout",
     "output_type": "stream",
     "text": [
      "6 bananas cost $1.74\n"
     ]
    }
   ],
   "source": [
    "f(qty=6, item='bananas', price=1.74)"
   ]
  },
  {
   "cell_type": "markdown",
   "id": "93d23275-b90a-486d-840c-5e3878ba2151",
   "metadata": {},
   "source": [
    "> So, keyword arguments allow flexibility in the order that function arguments are specified, but **the number of arguments is still rigid.**"
   ]
  },
  {
   "cell_type": "markdown",
   "id": "6e66ab24-7d55-436c-a9ea-57d0b36bdc67",
   "metadata": {},
   "source": [
    "When positional and keyword arguments are both present, all the positional arguments must come first:"
   ]
  },
  {
   "cell_type": "code",
   "execution_count": 54,
   "id": "6e67bf4c-862d-4b42-806f-494b612e84ef",
   "metadata": {},
   "outputs": [
    {
     "ename": "SyntaxError",
     "evalue": "positional argument follows keyword argument (185035404.py, line 1)",
     "output_type": "error",
     "traceback": [
      "\u001b[1;36m  Input \u001b[1;32mIn [54]\u001b[1;36m\u001b[0m\n\u001b[1;33m    f(6, item='bananas', 1.74)\u001b[0m\n\u001b[1;37m                             ^\u001b[0m\n\u001b[1;31mSyntaxError\u001b[0m\u001b[1;31m:\u001b[0m positional argument follows keyword argument\n"
     ]
    }
   ],
   "source": [
    "f(6, item='bananas', 1.74)"
   ]
  },
  {
   "cell_type": "markdown",
   "id": "213dc783-d8e2-4093-95ac-97e68209df7f",
   "metadata": {},
   "source": [
    "* ### Default Parameters"
   ]
  },
  {
   "cell_type": "markdown",
   "id": "12126d7f-22f9-4407-8bfd-e53cb34060fc",
   "metadata": {},
   "source": [
    "If a parameter specified in a Python function definition has the form ``<name>=<value>``, then ``<value>`` becomes a default value for that parameter. Parameters defined this way are referred to as **default or optional parameters.**"
   ]
  },
  {
   "cell_type": "code",
   "execution_count": 64,
   "id": "f10b2c4d-c447-4ceb-a223-81408cd8b89e",
   "metadata": {},
   "outputs": [],
   "source": [
    "def f(qty=6, item='bananas', price=1.74):\n",
    "     print(f'{qty} {item} cost ${price:.2f}')"
   ]
  },
  {
   "cell_type": "code",
   "execution_count": 67,
   "id": "02cb5294-7079-411c-9909-458cf7f1e0f1",
   "metadata": {},
   "outputs": [
    {
     "name": "stdout",
     "output_type": "stream",
     "text": [
      "6 bananas cost $1.74\n",
      "4 bananas cost $1.74\n",
      "4 apples cost $1.74\n"
     ]
    }
   ],
   "source": [
    "f()\n",
    "f(4)\n",
    "f(4, 'apples')"
   ]
  },
  {
   "cell_type": "markdown",
   "id": "1613f7ae-ba34-4a18-b5de-a16bea1fee11",
   "metadata": {},
   "source": [
    "> In Python, default parameter values are **defined only once** when the function is defined (that is, when the def statement is executed)."
   ]
  },
  {
   "cell_type": "code",
   "execution_count": 73,
   "id": "ac884349-e9df-4e8a-a156-caa7e0e52532",
   "metadata": {},
   "outputs": [
    {
     "name": "stdout",
     "output_type": "stream",
     "text": [
      "['###']\n",
      "['###', '###']\n"
     ]
    }
   ],
   "source": [
    "def f(my_list=[]):\n",
    "    my_list.append('###')\n",
    "    print(my_list)\n",
    "f()\n",
    "f()"
   ]
  },
  {
   "cell_type": "code",
   "execution_count": 76,
   "id": "f7e0596f-e707-4623-a839-b6e7c7ed4e99",
   "metadata": {},
   "outputs": [
    {
     "name": "stdout",
     "output_type": "stream",
     "text": [
      "['###']\n",
      "['###']\n"
     ]
    }
   ],
   "source": [
    "def f(my_list=None):\n",
    "    if my_list is None:\n",
    "           my_list = []\n",
    "    my_list.append('###')\n",
    "    print(my_list)\n",
    "f()\n",
    "f()"
   ]
  },
  {
   "cell_type": "markdown",
   "id": "671ccc42-546d-48cb-bcc7-a867cbf7e60d",
   "metadata": {},
   "source": [
    "**In summary:**\n",
    "* **Positional arguments** must **agree in order and number** with the parameters declared in the function definition.\n",
    "* **Keyword arguments** must **agree with declared parameters in number**, but they may be specified in arbitrary order.\n",
    "* **Default parameters** allow **some arguments to be omitted** when the function is called."
   ]
  },
  {
   "cell_type": "markdown",
   "id": "a7b5c4d6-674a-4bcb-8fd6-2fd9d4c25439",
   "metadata": {},
   "source": [
    "## * and ** "
   ]
  },
  {
   "cell_type": "markdown",
   "id": "646202fc-bc6b-43df-b56f-a6eff42c88b7",
   "metadata": {},
   "source": [
    ">**argument tuple packing :** \n",
    "you can use ``*`` to passing a function an arbitrary number of positional arguments"
   ]
  },
  {
   "cell_type": "code",
   "execution_count": 58,
   "id": "8f6e9d2d-5283-4c6f-b2a5-85a0a1743578",
   "metadata": {},
   "outputs": [
    {
     "name": "stdout",
     "output_type": "stream",
     "text": [
      "15\n"
     ]
    }
   ],
   "source": [
    "def addition(*args):\n",
    "    print(sum(args))\n",
    "addition(1,2,3,4,5)\n"
   ]
  },
  {
   "cell_type": "code",
   "execution_count": 130,
   "id": "c8a0375e-0c5b-4eb0-9084-830b7337a890",
   "metadata": {},
   "outputs": [
    {
     "name": "stdout",
     "output_type": "stream",
     "text": [
      "//a.b.c\n"
     ]
    }
   ],
   "source": [
    "def concat(prefix, *args):\n",
    "     print(f'{prefix}{\".\".join(args)}')\n",
    "concat('//', 'a', 'b', 'c')"
   ]
  },
  {
   "cell_type": "code",
   "execution_count": 142,
   "id": "72346c7a-4131-41af-9e58-ea7f2f83213b",
   "metadata": {},
   "outputs": [],
   "source": [
    "def concat(*args, prefix= \"...\"):\n",
    "     print(f'{prefix}{\".\".join(args)}')"
   ]
  },
  {
   "cell_type": "code",
   "execution_count": 143,
   "id": "ea006a2c-7df7-4c70-a832-cc703fdf48a4",
   "metadata": {},
   "outputs": [
    {
     "ename": "SyntaxError",
     "evalue": "positional argument follows keyword argument (877247516.py, line 1)",
     "output_type": "error",
     "traceback": [
      "\u001b[1;36m  Input \u001b[1;32mIn [143]\u001b[1;36m\u001b[0m\n\u001b[1;33m    concat(prefix='//', 'a', 'b', 'c')\u001b[0m\n\u001b[1;37m                                     ^\u001b[0m\n\u001b[1;31mSyntaxError\u001b[0m\u001b[1;31m:\u001b[0m positional argument follows keyword argument\n"
     ]
    }
   ],
   "source": [
    "concat(prefix='//', 'a', 'b', 'c')"
   ]
  },
  {
   "cell_type": "code",
   "execution_count": 144,
   "id": "115e4f85-d4dc-44f6-97dd-f9033d625e1d",
   "metadata": {},
   "outputs": [
    {
     "name": "stdout",
     "output_type": "stream",
     "text": [
      "//a.b.c\n"
     ]
    }
   ],
   "source": [
    "concat( 'a', 'b', 'c', prefix='//')"
   ]
  },
  {
   "cell_type": "code",
   "execution_count": 147,
   "id": "460302bb-0a5a-49f1-b51d-cbe3dfb8b6a4",
   "metadata": {},
   "outputs": [
    {
     "name": "stdout",
     "output_type": "stream",
     "text": [
      "-> a.b.c\n",
      "//a.b.c\n",
      "//a-b-c\n"
     ]
    }
   ],
   "source": [
    "def concat(*args, prefix='-> ', sep='.'):\n",
    "     print(f'{prefix}{sep.join(args)}')\n",
    "concat('a', 'b', 'c')\n",
    "concat('a', 'b', 'c', prefix='//')\n",
    "concat('a', 'b', 'c', prefix='//', sep='-')"
   ]
  },
  {
   "cell_type": "markdown",
   "id": "b804099a-5a20-4d00-9420-32c72b8bb6b8",
   "metadata": {},
   "source": [
    "> **argument tuple unpacking:**"
   ]
  },
  {
   "cell_type": "code",
   "execution_count": 127,
   "id": "f8921a5e-0f42-48ff-b47b-3795e44b5053",
   "metadata": {},
   "outputs": [
    {
     "name": "stdout",
     "output_type": "stream",
     "text": [
      "x = foo\n",
      "y = bar\n",
      "z = baz\n"
     ]
    }
   ],
   "source": [
    "def f(x, y, z):\n",
    "    print(f'x = {x}')\n",
    "    print(f'y = {y}')\n",
    "    print(f'z = {z}')\n",
    "\n",
    "t = ('foo', 'bar', 'baz')\n",
    "f(*t)"
   ]
  },
  {
   "cell_type": "markdown",
   "id": "7aa2931a-3077-4193-a9d8-786f0f5e4569",
   "metadata": {},
   "source": [
    "> **Argument Dictionary Packing** you can use ``**`` to passing a function an arbitrary number of keyword arguments"
   ]
  },
  {
   "cell_type": "code",
   "execution_count": 61,
   "id": "2028e66c-d141-4a9e-9986-3cb9a4c4a9ab",
   "metadata": {},
   "outputs": [
    {
     "name": "stdout",
     "output_type": "stream",
     "text": [
      "cherry is a fruit\n",
      "potato is a vegetable\n",
      "srikrishna is a boy\n"
     ]
    }
   ],
   "source": [
    "def food(**kwargs):\n",
    "    for items in kwargs:\n",
    "        print(f\"{kwargs[items]} is a {items}\")\n",
    "food(fruit = 'cherry', vegetable = 'potato', boy = 'srikrishna')        "
   ]
  },
  {
   "cell_type": "markdown",
   "id": "4f4b9381-93ac-4443-a2c9-4951a6ebf066",
   "metadata": {},
   "source": [
    "> **Argument Dictionary Unpacking** :Argument dictionary unpacking is analogous to argument tuple unpacking. When the double asterisk (**) precedes an argument in a Python function call, it specifies that the argument is a dictionary that should be unpacked, with the resulting items passed to the function as keyword arguments:"
   ]
  },
  {
   "cell_type": "code",
   "execution_count": 129,
   "id": "8fe95c72-0e35-42d1-812d-1eb9b4779161",
   "metadata": {},
   "outputs": [
    {
     "name": "stdout",
     "output_type": "stream",
     "text": [
      "a = foo\n",
      "b = 25\n",
      "c = qux\n"
     ]
    }
   ],
   "source": [
    "def f(a, b, c):\n",
    "    print(F'a = {a}')\n",
    "    print(F'b = {b}')\n",
    "    print(F'c = {c}')\n",
    "\n",
    "\n",
    "d = {'a': 'foo', 'b': 25, 'c': 'qux'}\n",
    "f(**d)"
   ]
  },
  {
   "cell_type": "markdown",
   "id": "7692e28f-8eec-45af-81d1-5dbb91e97993",
   "metadata": {},
   "source": [
    "## Pass-By-Value vs Pass-By-Reference"
   ]
  },
  {
   "cell_type": "markdown",
   "id": "f2bf1229-e104-4207-a068-d87377a0c8ae",
   "metadata": {},
   "source": [
    "In programming language design, there are two common paradigms for passing an argument to a function:\n",
    "\n",
    "1. **Pass-by-value:** A copy of the argument is passed to the function.\n",
    "2. **Pass-by-reference:** A reference to the argument is passed to the function."
   ]
  },
  {
   "cell_type": "markdown",
   "id": "ba336c6e-429c-4bea-a4c4-c818215b2be0",
   "metadata": {},
   "source": [
    "**If a variable is passed by value**, then the function has a copy to work on, but it can’t modify the original value in the calling environment.\n",
    "\n",
    "**If a variable is passed by reference**, then any changes the function makes to the corresponding parameter will affect the value in the calling environment."
   ]
  },
  {
   "cell_type": "markdown",
   "id": "66fd9ffc-d1e5-48df-a7f0-42064bdfe843",
   "metadata": {},
   "source": [
    "> Are parameters in Python pass-by-value or pass-by-reference? The answer is they’re neither, exactly. "
   ]
  },
  {
   "cell_type": "code",
   "execution_count": 82,
   "id": "a5c1d6cc-fc49-4ff6-a5d2-31a68844475c",
   "metadata": {},
   "outputs": [],
   "source": [
    "x = 5\n",
    "x = 10"
   ]
  },
  {
   "cell_type": "markdown",
   "id": "7a228c12-2654-4ca2-9a80-89551dc1397c",
   "metadata": {},
   "source": [
    "These assignment statements have the following meaning:\n",
    "\n",
    "* **The first statement** causes x to point to an object whose value is 5.\n",
    "* **The next statement** reassigns x as a new reference to a different object whose value is 10. Stated another way, the second assignment rebinds x to a different object with value 10."
   ]
  },
  {
   "cell_type": "code",
   "execution_count": 84,
   "id": "e4e89694-96a0-4ebe-9554-31c0245f04a8",
   "metadata": {},
   "outputs": [
    {
     "data": {
      "text/plain": [
       "5"
      ]
     },
     "execution_count": 84,
     "metadata": {},
     "output_type": "execute_result"
    }
   ],
   "source": [
    "def f(fx):\n",
    "     fx = 10\n",
    "x = 5\n",
    "f(x)\n",
    "x"
   ]
  },
  {
   "cell_type": "markdown",
   "id": "32ae5fe4-37fd-40c0-b1a5-a7aab8998661",
   "metadata": {},
   "source": [
    "> Argument passing in Python is somewhat of a **hybrid between pass-by-value and pass-by-reference.** What gets passed to the function is a reference to an object, but the reference is passed by value."
   ]
  },
  {
   "cell_type": "markdown",
   "id": "88839584-9301-4cae-a66e-56559d09ac6a",
   "metadata": {},
   "source": [
    "**The key takeaway here is that a Python function can’t change the value of an argument by reassigning the corresponding parameter to something else**"
   ]
  },
  {
   "cell_type": "code",
   "execution_count": 87,
   "id": "5fbfea8c-7a01-4f74-b6c6-bd4810302591",
   "metadata": {},
   "outputs": [
    {
     "name": "stdout",
     "output_type": "stream",
     "text": [
      "40\n",
      "{'foo': 1, 'bar': 2}\n",
      "{1, 2, 3}\n",
      "bar\n",
      "['foo', 'bar', 'baz']\n"
     ]
    }
   ],
   "source": [
    "def f(x):\n",
    "    x = 'foo'\n",
    "\n",
    "for i in (\n",
    "         40,\n",
    "         dict(foo=1, bar=2),\n",
    "         {1, 2, 3},\n",
    "         'bar',\n",
    "         ['foo', 'bar', 'baz']):\n",
    "    f(i)\n",
    "    print(i)"
   ]
  },
  {
   "cell_type": "markdown",
   "id": "3851a384-ff9b-40c3-ba37-501c5d9561fc",
   "metadata": {},
   "source": [
    "Does that mean a Python function can never modify its arguments at all?"
   ]
  },
  {
   "cell_type": "code",
   "execution_count": 89,
   "id": "cd117332-d0e7-453c-b8dc-d6ccc5e1da30",
   "metadata": {},
   "outputs": [
    {
     "data": {
      "text/plain": [
       "['---', 'bar', 'baz', 'qux']"
      ]
     },
     "execution_count": 89,
     "metadata": {},
     "output_type": "execute_result"
    }
   ],
   "source": [
    "def f(x):\n",
    "     x[0] = '---'\n",
    "\n",
    "my_list = ['foo', 'bar', 'baz', 'qux']\n",
    "\n",
    "f(my_list)\n",
    "my_list"
   ]
  },
  {
   "cell_type": "markdown",
   "id": "ebef6bf9-12fa-4c9b-892f-2e65ce03d0d0",
   "metadata": {},
   "source": [
    "Argument passing in Python can be summarized as follows. **Passing an immutable object**, like an int, str, tuple, or frozenset, to a Python function acts **like pass-by-value**. The function can’t modify the object in the calling environment."
   ]
  },
  {
   "cell_type": "markdown",
   "id": "62d74c2e-c159-4391-beff-2be349756f83",
   "metadata": {},
   "source": [
    "Passing a **mutable object** such as a list, dict, or set acts **somewhat—but not exactly—like pass-by-reference.** The function can’t reassign the object wholesale, but it can change items in place within the object, and these changes will be reflected in the calling environment."
   ]
  },
  {
   "cell_type": "markdown",
   "id": "c876701d-e7fd-425d-8572-8a71313b71ac",
   "metadata": {},
   "source": [
    "## The return Statement"
   ]
  },
  {
   "cell_type": "markdown",
   "id": "237f0544-0c68-41b4-ae92-7475aa88f6df",
   "metadata": {},
   "source": [
    " if a function doesn’t cause some change in the calling environment, then there isn’t much point in calling it at all. How should a function affect its caller?\n",
    "\n",
    "Well, one possibility is to use **function return values**. A return statement in a Python function serves two purposes:\n",
    "\n",
    "1. It immediately terminates the function and passes execution control back to the caller.\n",
    "\n",
    "2. It provides a mechanism by which the function can pass data back to the caller."
   ]
  },
  {
   "cell_type": "markdown",
   "id": "3c5ca14d-9d04-4724-86c0-ce9901ad360b",
   "metadata": {},
   "source": [
    "* ## Exiting a Function"
   ]
  },
  {
   "cell_type": "markdown",
   "id": "bcad6c94-70f9-43e0-8c3d-b58594aeb1af",
   "metadata": {},
   "source": [
    "Within a function, a return statement causes immediate exit from the Python function and transfer of execution back to the caller:"
   ]
  },
  {
   "cell_type": "code",
   "execution_count": 99,
   "id": "1190eceb-4a4e-4bb9-8d00-0bf6aa2b94ba",
   "metadata": {},
   "outputs": [
    {
     "name": "stdout",
     "output_type": "stream",
     "text": [
      "foo\n",
      "bar\n"
     ]
    }
   ],
   "source": [
    "def f():\n",
    "    print('foo')\n",
    "    print('bar')\n",
    "    return\n",
    "f()"
   ]
  },
  {
   "cell_type": "markdown",
   "id": "e7e6581d-2b32-4351-9164-a5e4aa7c7358",
   "metadata": {},
   "source": [
    "> return statements **don’t need to be at the end of a function.** They can appear anywhere in a function body, and even multiple times. Consider this example:"
   ]
  },
  {
   "cell_type": "code",
   "execution_count": 102,
   "id": "5eb37429-b366-4511-9967-fa32a9a5d1d4",
   "metadata": {},
   "outputs": [
    {
     "name": "stdout",
     "output_type": "stream",
     "text": [
      "64\n"
     ]
    }
   ],
   "source": [
    "def f(x):\n",
    "    if x < 0:\n",
    "        return\n",
    "    if x > 100:\n",
    "        return\n",
    "    print(x)\n",
    "\n",
    "\n",
    "f(-3)\n",
    "f(105)\n",
    "f(64)"
   ]
  },
  {
   "cell_type": "markdown",
   "id": "63839a96-ea92-480b-bd66-49dc6b38cbe5",
   "metadata": {},
   "source": [
    "> This sort of paradigm can be useful for **error checking** in a function."
   ]
  },
  {
   "cell_type": "markdown",
   "id": "202696b2-154d-417f-be58-32cbc47d886e",
   "metadata": {},
   "source": [
    "```python\n",
    "def f():\n",
    "    if error_cond1:\n",
    "        return\n",
    "    if error_cond2:\n",
    "        return\n",
    "    if error_cond3:\n",
    "        return\n",
    "\n",
    "    <normal processing>\n",
    "```"
   ]
  },
  {
   "cell_type": "markdown",
   "id": "dda59e36-cbb9-490a-bc97-7fcc9526a943",
   "metadata": {},
   "source": [
    "* ### Returning Data to the Caller"
   ]
  },
  {
   "cell_type": "markdown",
   "id": "92428b11-8641-410e-88ba-102700aa519e",
   "metadata": {},
   "source": [
    "In addition to exiting a function, the return statement is also used to **pass data back to the caller.**"
   ]
  },
  {
   "cell_type": "code",
   "execution_count": 109,
   "id": "586d669f-53ab-4bc8-a9ac-f767e78aa52c",
   "metadata": {},
   "outputs": [
    {
     "data": {
      "text/plain": [
       "'foo'"
      ]
     },
     "execution_count": 109,
     "metadata": {},
     "output_type": "execute_result"
    }
   ],
   "source": [
    "def f():\n",
    "     return 'foo'\n",
    "a = f()\n",
    "a"
   ]
  },
  {
   "cell_type": "markdown",
   "id": "8361c097-f328-440b-93dd-3bac72da8ac0",
   "metadata": {},
   "source": [
    "> A function can return **any type of object.**"
   ]
  },
  {
   "cell_type": "code",
   "execution_count": 112,
   "id": "80d3c808-30fa-4c00-8315-18d3b4c266cc",
   "metadata": {},
   "outputs": [
    {
     "data": {
      "text/plain": [
       "{'foo': 1, 'bar': 2, 'baz': 3}"
      ]
     },
     "execution_count": 112,
     "metadata": {},
     "output_type": "execute_result"
    }
   ],
   "source": [
    "def f():\n",
    "     return dict(foo=1, bar=2, baz=3)\n",
    "f()"
   ]
  },
  {
   "cell_type": "code",
   "execution_count": 113,
   "id": "6e336d19-135a-46ff-87f7-d600c4e5e680",
   "metadata": {},
   "outputs": [
    {
     "data": {
      "text/plain": [
       "'ob'"
      ]
     },
     "execution_count": 113,
     "metadata": {},
     "output_type": "execute_result"
    }
   ],
   "source": [
    "def f():\n",
    "    return 'foobar'\n",
    "f()[2:4]"
   ]
  },
  {
   "cell_type": "code",
   "execution_count": 115,
   "id": "50c1b4f0-f44b-4b2f-99ab-5ea8a93eaf08",
   "metadata": {},
   "outputs": [
    {
     "data": {
      "text/plain": [
       "tuple"
      ]
     },
     "execution_count": 115,
     "metadata": {},
     "output_type": "execute_result"
    }
   ],
   "source": [
    "def f():\n",
    "    return 'foo', 'bar', 'baz', 'qux'\n",
    "type(f())"
   ]
  },
  {
   "cell_type": "markdown",
   "id": "1f639c22-a8c1-4fe6-9512-58bc7a322fd6",
   "metadata": {},
   "source": [
    "> When no return value is given, a Python function returns the special Python value **None**:"
   ]
  },
  {
   "cell_type": "code",
   "execution_count": 118,
   "id": "a7cda9d8-b094-4481-9883-cdcb7e8f4134",
   "metadata": {},
   "outputs": [
    {
     "name": "stdout",
     "output_type": "stream",
     "text": [
      "None\n"
     ]
    }
   ],
   "source": [
    "def f():\n",
    "     return\n",
    "print(f())"
   ]
  },
  {
   "cell_type": "code",
   "execution_count": 122,
   "id": "1e011a4e-7081-44e5-8019-beceb1cb9ceb",
   "metadata": {},
   "outputs": [
    {
     "data": {
      "text/plain": [
       "5"
      ]
     },
     "execution_count": 122,
     "metadata": {},
     "output_type": "execute_result"
    }
   ],
   "source": [
    "def double(x):\n",
    "     return x * 2\n",
    "x = 5\n",
    "double(x)\n",
    "x"
   ]
  },
  {
   "cell_type": "code",
   "execution_count": 123,
   "id": "5c21f0df-f18f-4b51-a2b2-d5b566392c18",
   "metadata": {},
   "outputs": [
    {
     "data": {
      "text/plain": [
       "10"
      ]
     },
     "execution_count": 123,
     "metadata": {},
     "output_type": "execute_result"
    }
   ],
   "source": [
    "x = 5\n",
    "x = double(x)\n",
    "x"
   ]
  },
  {
   "cell_type": "markdown",
   "id": "8b4064a8-8508-40ad-aa78-1d8fe31e135a",
   "metadata": {},
   "source": [
    "## Python Function Annotations"
   ]
  },
  {
   "cell_type": "markdown",
   "id": "85b4372b-1de1-48ba-85e1-dc452a3738e6",
   "metadata": {},
   "source": [
    "As of version 3.0, Python provides an additional feature for documenting a function called a **function annotation.** Annotations provide a way to attach metadata to a function’s parameters and return value."
   ]
  },
  {
   "cell_type": "markdown",
   "id": "c2ce7d25-0cbb-4195-b18f-189d48acc73b",
   "metadata": {},
   "source": [
    "To add an annotation to a Python function parameter, insert a colon (:) followed by any expression after the parameter name in the function definition. To add an annotation to the return value, add the characters -> and any expression between the closing parenthesis of the parameter list and the colon that terminates the function header. Here’s an example:"
   ]
  },
  {
   "cell_type": "code",
   "execution_count": 168,
   "id": "25396f45-f350-4edd-8d55-5f98b21ec8ec",
   "metadata": {},
   "outputs": [
    {
     "data": {
      "text/plain": [
       "{'a': '<a>', 'b': '<b>', 'return': '<ret_value>'}"
      ]
     },
     "execution_count": 168,
     "metadata": {},
     "output_type": "execute_result"
    }
   ],
   "source": [
    "def f(a: '<a>', b: '<b>') -> '<ret_value>':\n",
    "     pass\n",
    "f.__annotations__"
   ]
  },
  {
   "cell_type": "code",
   "execution_count": 171,
   "id": "9d07ecb3-386a-4f57-b303-a11576ccf111",
   "metadata": {},
   "outputs": [
    {
     "name": "stdout",
     "output_type": "stream",
     "text": [
      "1 foo\n",
      "2 2\n"
     ]
    },
    {
     "data": {
      "text/plain": [
       "3.5"
      ]
     },
     "execution_count": 171,
     "metadata": {},
     "output_type": "execute_result"
    }
   ],
   "source": [
    "def f(a: int, b: str) -> float:\n",
    "    print(a, b)\n",
    "    return(3.5)\n",
    "f(1, 'foo')"
   ]
  },
  {
   "cell_type": "markdown",
   "id": "cbe40ee3-51f3-4966-af7e-919e6bf1cdc0",
   "metadata": {},
   "source": [
    "> Python function annotations are nothing more than dictionaries of metadata. It just happens that you can create them with convenient syntax that’s supported by the interpreter. They’re whatever you choose to make of them."
   ]
  }
 ],
 "metadata": {
  "kernelspec": {
   "display_name": "Python 3 (ipykernel)",
   "language": "python",
   "name": "python3"
  },
  "language_info": {
   "codemirror_mode": {
    "name": "ipython",
    "version": 3
   },
   "file_extension": ".py",
   "mimetype": "text/x-python",
   "name": "python",
   "nbconvert_exporter": "python",
   "pygments_lexer": "ipython3",
   "version": "3.10.9"
  }
 },
 "nbformat": 4,
 "nbformat_minor": 5
}
