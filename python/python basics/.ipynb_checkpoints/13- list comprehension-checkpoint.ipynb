{
 "cells": [
  {
   "cell_type": "markdown",
   "id": "c8ce1cdc-5bf6-4fa8-bdb5-0ef25dcc39b0",
   "metadata": {},
   "source": [
    "# List Comprehension in Python"
   ]
  },
  {
   "cell_type": "markdown",
   "id": "60b8ba93-e712-480e-9ae4-07bcf464a1e9",
   "metadata": {},
   "source": [
    "* [how to create lists in python](#how-to-creat-lists-in-python)\n",
    "    * [using for loops](#using-for-loops)\n",
    "    * [Using map() Objects](#Using-map()-Objects)\n",
    "    * [Using some build in functions](#Using-map()-Objects)\n",
    "    * [using build in methods](#using-build-in-methods)\n",
    "* [Benefits of Using List Comprehensions](#Benefits-of-Using-List-Comprehensions)    \n",
    "* [How to Supercharge Your Comprehensions](#How-to-Supercharge-Your-Comprehensions)\n",
    "    * [Using Conditional Logic](Using-Conditional-Logic)\n",
    "    * [Using Set and Dictionary Comprehensions](#Using-Set-and-Dictionary-Comprehensions)"
   ]
  },
  {
   "cell_type": "markdown",
   "id": "9a399984-12b0-4857-b558-513ef5946496",
   "metadata": {},
   "source": [
    "Python is famous for allowing you to write code that’s elegant, easy to write, and almost as easy to read as plain English. One of the language’s most distinctive features is the **list comprehension**, which you can use to create powerful functionality within a single line of code. "
   ]
  },
  {
   "cell_type": "markdown",
   "id": "20cce35d-0b4f-4b35-b905-0a7d712e0c06",
   "metadata": {},
   "source": [
    "## how to create lists in python"
   ]
  },
  {
   "cell_type": "markdown",
   "id": "22c534b1-f037-461d-94f5-12c482b662d9",
   "metadata": {},
   "source": [
    "There are a few different ways you can create lists in Python. To better understand the trade-offs of using a list comprehension in Python, let’s first see how to create lists with these approaches."
   ]
  },
  {
   "cell_type": "markdown",
   "id": "d871d086-ca94-4978-abd0-66e839fae6ee",
   "metadata": {},
   "source": [
    "#### Using for Loops"
   ]
  },
  {
   "cell_type": "markdown",
   "id": "5323ef25-6d82-4a5c-82c1-e64e893e31fd",
   "metadata": {},
   "source": [
    "* Instantiate an empty list.\n",
    "* Loop over an iterable or range of elements.\n",
    "* Append each element to the end of the list."
   ]
  },
  {
   "cell_type": "code",
   "execution_count": 8,
   "id": "0245a5af-751b-464f-aae9-7c4da5aeb4ab",
   "metadata": {
    "tags": []
   },
   "outputs": [
    {
     "data": {
      "text/plain": [
       "[0, 1, 4, 9, 16, 25, 36, 49, 64, 81]"
      ]
     },
     "execution_count": 8,
     "metadata": {},
     "output_type": "execute_result"
    }
   ],
   "source": [
    "squares = []\n",
    "for i in range(10):     \n",
    "    squares.append(i * i)\n",
    "squares"
   ]
  },
  {
   "cell_type": "markdown",
   "id": "3667c4d5-628f-45fd-bd28-7e6e38c9343a",
   "metadata": {},
   "source": [
    "**exercise** : get the input from user witch seperate items with comma and build list  with for loop from that input "
   ]
  },
  {
   "cell_type": "code",
   "execution_count": 13,
   "id": "fd33cff2-f8d3-49cf-a0da-4f6b8e565d52",
   "metadata": {},
   "outputs": [
    {
     "name": "stdin",
     "output_type": "stream",
     "text": [
      "enter your list seperated by comma: rasool,hamed,amir\n"
     ]
    },
    {
     "data": {
      "text/plain": [
       "['rasool', 'hamed', 'amir']"
      ]
     },
     "execution_count": 13,
     "metadata": {},
     "output_type": "execute_result"
    }
   ],
   "source": [
    "inp = input(\"enter your list seperated by comma:\")\n",
    "lst=[]\n",
    "for i in range(inp.count(\",\")+1):\n",
    "    if inp.find(\",\") != -1 :\n",
    "        lst.append(inp[:inp.index(\",\")])\n",
    "        inp = inp[(inp.index(\",\")+1):]\n",
    "    else : \n",
    "        lst.append(inp)\n",
    "lst"
   ]
  },
  {
   "cell_type": "markdown",
   "id": "3ba9c006-0c68-4937-9696-6ad5e59729b2",
   "metadata": {},
   "source": [
    "### using build in methods"
   ]
  },
  {
   "cell_type": "code",
   "execution_count": 1,
   "id": "b93b3d7b-46e6-4d40-810f-7b3e9df18a43",
   "metadata": {},
   "outputs": [
    {
     "data": {
      "text/plain": [
       "['rasool', 'hamed', 'akbar']"
      ]
     },
     "execution_count": 1,
     "metadata": {},
     "output_type": "execute_result"
    }
   ],
   "source": [
    "\"rasool,hamed,akbar\".split(\",\")"
   ]
  },
  {
   "cell_type": "markdown",
   "id": "eb2ef999-655a-4be3-914f-be38b7d47641",
   "metadata": {},
   "source": [
    "### Using map() Objects"
   ]
  },
  {
   "cell_type": "markdown",
   "id": "4db554e1-1b5d-4e55-b13e-07cda371e49e",
   "metadata": {},
   "source": [
    "As an example, consider a situation in which you need to calculate the price after tax for a list of transactions:"
   ]
  },
  {
   "cell_type": "code",
   "execution_count": 17,
   "id": "b2fc5350-1c41-4b4b-a941-f044b64a1e1b",
   "metadata": {},
   "outputs": [
    {
     "data": {
      "text/plain": [
       "[1.1772000000000002, 25.4448, 62.467200000000005, 4.9248, 7.322400000000001]"
      ]
     },
     "execution_count": 17,
     "metadata": {},
     "output_type": "execute_result"
    }
   ],
   "source": [
    "txns = [1.09, 23.56, 57.84, 4.56, 6.78]\n",
    "TAX_RATE = .08\n",
    "def get_price_with_tax(txn):\n",
    "     return txn * (1 + TAX_RATE) \n",
    "final_prices = map(get_price_with_tax, txns)\n",
    "list(final_prices)"
   ]
  },
  {
   "cell_type": "markdown",
   "id": "9388c436-a2c9-4833-b2c4-d85caeec0fc8",
   "metadata": {},
   "source": [
    "### Using List Comprehensions"
   ]
  },
  {
   "cell_type": "markdown",
   "id": "a4e0b656-ea61-46d5-9628-51d01be1d594",
   "metadata": {},
   "source": [
    " With this elegant approach, you could rewrite the for loop from the first example in just a single line of code:"
   ]
  },
  {
   "cell_type": "markdown",
   "id": "8a6a7194-329a-4e95-956d-fac0124456e6",
   "metadata": {},
   "source": [
    "```python\n",
    "new_list = [expression for member in iterable]\n",
    "```"
   ]
  },
  {
   "cell_type": "markdown",
   "id": "b5a90476-1fc9-4108-8237-e2fae58f337c",
   "metadata": {},
   "source": [
    "Every list comprehension in Python includes three elements:\n",
    "\n",
    "1. ``expression`` is the member itself, a call to a method, or any other valid expression that returns a value.\n",
    "2. ``member`` is the object or value in the list or iterable.\n",
    "3. ``iterable`` is a list, set, sequence, generator, or any other object that can return its elements one at a time. "
   ]
  },
  {
   "cell_type": "code",
   "execution_count": 24,
   "id": "a404a7ba-8297-4a1f-ae3a-3272ff867f59",
   "metadata": {},
   "outputs": [
    {
     "data": {
      "text/plain": [
       "[0, 1, 4, 9, 16, 25, 36, 49, 64, 81]"
      ]
     },
     "execution_count": 24,
     "metadata": {},
     "output_type": "execute_result"
    }
   ],
   "source": [
    "squares = [i * i for i in range(10)]\n",
    "squares"
   ]
  },
  {
   "cell_type": "code",
   "execution_count": 31,
   "id": "83ab8a6d-3994-4c4b-9853-587f35a3bb3c",
   "metadata": {},
   "outputs": [
    {
     "data": {
      "text/plain": [
       "[1.1772000000000002, 25.4448, 62.467200000000005, 4.9248, 7.322400000000001]"
      ]
     },
     "execution_count": 31,
     "metadata": {},
     "output_type": "execute_result"
    }
   ],
   "source": [
    "txns = [1.09, 23.56, 57.84, 4.56, 6.78]\n",
    "TAX_RATE = .08\n",
    "def get_price_with_tax(txn):\n",
    "     return txn * (1 + TAX_RATE)\n",
    "final_prices = [get_price_with_tax(i) for i in txns]\n",
    "final_prices"
   ]
  },
  {
   "cell_type": "markdown",
   "id": "ab3a571b-6923-44af-a3d8-1841307893d3",
   "metadata": {},
   "source": [
    "## Benefits of Using List Comprehensions"
   ]
  },
  {
   "cell_type": "markdown",
   "id": "2a778f29-2875-418e-9cfb-9e06531c64dd",
   "metadata": {},
   "source": [
    "One main benefit of using a list comprehension in Python is that it’s a single tool that you can use in many different situations. This is the main reason why list comprehensions are considered **Pythonic**, as Python embraces simple, powerful tools that you can use in a wide variety of situations. "
   ]
  },
  {
   "cell_type": "markdown",
   "id": "338b752f-ef52-443a-9152-8740d08156bf",
   "metadata": {},
   "source": [
    "List comprehensions are also **more declarative** than loops, which means they’re easier to read and understand."
   ]
  },
  {
   "cell_type": "markdown",
   "id": "42f058c7-3ea7-4da4-bdff-4809e40f0b5e",
   "metadata": {},
   "source": [
    "## How to Supercharge Your Comprehensions"
   ]
  },
  {
   "cell_type": "markdown",
   "id": "040db9ef-fc8f-481a-97d3-172be1f82ccc",
   "metadata": {},
   "source": [
    "```python\n",
    "new_list = [expression for member in iterable]\n",
    "```"
   ]
  },
  {
   "cell_type": "markdown",
   "id": "e102ce79-ec29-4236-b8fe-5f587ca40588",
   "metadata": {},
   "source": [
    "While this formula is accurate, it’s also a bit incomplete. A more complete description of the comprehension formula adds support for optional conditionals. The most common way to add conditional logic to a list comprehension is to add a conditional to the end of the expression:"
   ]
  },
  {
   "cell_type": "markdown",
   "id": "ec9012fc-8e33-4a2b-a491-f35dcca7c729",
   "metadata": {},
   "source": [
    "```python\n",
    "new_list = [expression for member in iterable (if conditional)]\n",
    "```"
   ]
  },
  {
   "cell_type": "markdown",
   "id": "9abf731c-6144-4a9c-b3f0-f1b439ab4f62",
   "metadata": {},
   "source": [
    "> its kinda can use instead of filter"
   ]
  },
  {
   "cell_type": "code",
   "execution_count": 40,
   "id": "0bd6f4e2-1fdf-4121-bd2a-8dec09248a5b",
   "metadata": {},
   "outputs": [
    {
     "data": {
      "text/plain": [
       "['e', 'o', 'e', 'a', 'e', 'a', 'o', 'a']"
      ]
     },
     "execution_count": 40,
     "metadata": {},
     "output_type": "execute_result"
    }
   ],
   "source": [
    "sentence = 'the rocket came back from mars'\n",
    "vowels = [i for i in sentence if i in 'aeiou']\n",
    "vowels"
   ]
  },
  {
   "cell_type": "markdown",
   "id": "55d7acd1-29be-4e74-98c9-0247c91c686f",
   "metadata": {},
   "source": [
    "You can place the conditional at the end of the statement for simple filtering, but what if you want to change a member value instead of filtering it out? In this case, it’s useful to place the conditional near the beginning of the expression:"
   ]
  },
  {
   "cell_type": "markdown",
   "id": "7c5447c3-3cfe-4ced-8d7b-dbc276c6a38b",
   "metadata": {},
   "source": [
    "```python\n",
    "new_list = [expression (if conditional) for member in iterable]\n",
    "```"
   ]
  },
  {
   "cell_type": "markdown",
   "id": "bf736fbb-7502-41c5-96fd-92dd94dbc95b",
   "metadata": {},
   "source": [
    "With this formula, you can use conditional logic to select from multiple possible output options. For example, if you have a list of prices, then you may want to replace negative prices with 0 and leave the positive values unchanged:"
   ]
  },
  {
   "cell_type": "code",
   "execution_count": 45,
   "id": "8ddfd2f6-6330-451a-9b89-c1c6662e42fe",
   "metadata": {},
   "outputs": [
    {
     "data": {
      "text/plain": [
       "[1.25, 0, 10.22, 3.78, 0, 1.16]"
      ]
     },
     "execution_count": 45,
     "metadata": {},
     "output_type": "execute_result"
    }
   ],
   "source": [
    "original_prices = [1.25, -9.45, 10.22, 3.78, -5.92, 1.16]\n",
    "prices = [i if i > 0 else 0 for i in original_prices]\n",
    "prices"
   ]
  },
  {
   "cell_type": "markdown",
   "id": "a2b7ca70-b4de-4d60-b48a-76fe38f8f06f",
   "metadata": {},
   "source": [
    "its like : "
   ]
  },
  {
   "cell_type": "code",
   "execution_count": 47,
   "id": "f525b496-11ec-463a-a393-b5794f90764f",
   "metadata": {},
   "outputs": [
    {
     "data": {
      "text/plain": [
       "[1.25, 0, 10.22, 3.78, 0, 1.16]"
      ]
     },
     "execution_count": 47,
     "metadata": {},
     "output_type": "execute_result"
    }
   ],
   "source": [
    "def get_price(price):\n",
    "     return price if price > 0 else 0\n",
    "prices = [get_price(i) for i in original_prices]\n",
    "prices"
   ]
  },
  {
   "cell_type": "markdown",
   "id": "5f91e7a4-7737-4b34-99ec-1639d9f9f2f4",
   "metadata": {},
   "source": [
    "## Using Dictionary Comprehensions"
   ]
  },
  {
   "cell_type": "markdown",
   "id": "74191e40-f4a1-44b4-b20b-ef7ba81fee9d",
   "metadata": {},
   "source": [
    "Dictionary comprehensions are similar, with the additional requirement of defining a key:"
   ]
  },
  {
   "cell_type": "code",
   "execution_count": 50,
   "id": "02785c91-b7ba-461e-8153-438b546b9e22",
   "metadata": {},
   "outputs": [
    {
     "data": {
      "text/plain": [
       "{0: 0, 1: 1, 2: 4, 3: 9, 4: 16, 5: 25, 6: 36, 7: 49, 8: 64, 9: 81}"
      ]
     },
     "execution_count": 50,
     "metadata": {},
     "output_type": "execute_result"
    }
   ],
   "source": [
    "squares = {i: i * i for i in range(10)}\n",
    "squares"
   ]
  },
  {
   "cell_type": "markdown",
   "id": "fea1f36c-eb5a-4588-adfe-6f94d79eab40",
   "metadata": {},
   "source": [
    "## Using the Walrus Operator"
   ]
  },
  {
   "cell_type": "markdown",
   "id": "e4057419-0a4d-4d8a-9e25-8edab43234a5",
   "metadata": {},
   "source": [
    "**Python 3.8** will introduce the **assignment expression**, also known as the **walrus operator**. To understand how you can use it, consider the following example.\n",
    "\n",
    "Say you need to make ten requests to an API that will return temperature data. You only want to return results that are greater than 100 degrees Fahrenheit. Assume that each request will return different data. In this case, there’s no way to use a list comprehension in Python to solve the problem. The formula expression for member in iterable (if conditional) provides no way for the conditional to assign data to a variable that the expression can access.\n",
    "\n",
    "The walrus operator solves this problem. It allows you to run an expression while simultaneously assigning the output value to a variable. The following example shows how this is possible, using get_weather_data() to generate fake weather data:"
   ]
  },
  {
   "cell_type": "code",
   "execution_count": 59,
   "id": "7b450fa8-eac6-409e-9b11-fcb950de1628",
   "metadata": {},
   "outputs": [
    {
     "name": "stdout",
     "output_type": "stream",
     "text": [
      "20.7 µs ± 286 ns per loop (mean ± std. dev. of 7 runs, 10,000 loops each)\n"
     ]
    }
   ],
   "source": [
    "import random\n",
    "def get_weather_data():\n",
    "     return random.randrange(90, 110)\n",
    "hot_temps = [temp for _ in range(20) if (temp := get_weather_data()) >= 100]\n",
    "hot_temps\n"
   ]
  },
  {
   "cell_type": "markdown",
   "id": "f0c78b5b-ffdc-44c7-ac89-c6de43313af2",
   "metadata": {},
   "source": [
    "nested form of list comprehenstion : "
   ]
  },
  {
   "cell_type": "code",
   "execution_count": 61,
   "id": "19adb5b8-0a2d-4ab7-a4bd-2c5306c9c21b",
   "metadata": {},
   "outputs": [
    {
     "data": {
      "text/plain": [
       "[[0, 1, 2, 3, 4],\n",
       " [0, 1, 2, 3, 4],\n",
       " [0, 1, 2, 3, 4],\n",
       " [0, 1, 2, 3, 4],\n",
       " [0, 1, 2, 3, 4],\n",
       " [0, 1, 2, 3, 4]]"
      ]
     },
     "execution_count": 61,
     "metadata": {},
     "output_type": "execute_result"
    }
   ],
   "source": [
    "matrix = [[i for i in range(5)] for _ in range(6)]\n",
    "matrix"
   ]
  }
 ],
 "metadata": {
  "kernelspec": {
   "display_name": "Python 3 (ipykernel)",
   "language": "python",
   "name": "python3"
  },
  "language_info": {
   "codemirror_mode": {
    "name": "ipython",
    "version": 3
   },
   "file_extension": ".py",
   "mimetype": "text/x-python",
   "name": "python",
   "nbconvert_exporter": "python",
   "pygments_lexer": "ipython3",
   "version": "3.9.12"
  }
 },
 "nbformat": 4,
 "nbformat_minor": 5
}
