{
 "cells": [
  {
   "cell_type": "markdown",
   "id": "29c5d154-994e-4058-b20d-a13101d2f46b",
   "metadata": {},
   "source": [
    "# list and tuple"
   ]
  },
  {
   "cell_type": "markdown",
   "id": "887203ff-ce8d-4125-ae75-e1eaddfce281",
   "metadata": {},
   "source": [
    "* [python lists](#python-lists)\n",
    "    * [build in functions](#build-in-functions)\n",
    "    * [lists are orderd](#lists-are-orderd)\n",
    "    * [Lists Can Contain Arbitrary Objects](#Lists-Can-Contain-Arbitrary-Objects)\n",
    "    * [List Elements Can Be Accessed by Index](#List-Elements-Can-Be-Accessed-by-Index)\n",
    "    * [Lists Can Be Nested](#Lists-Can-Be-Nested)\n",
    "    * [Lists Are Mutable](#Lists-Are-Mutable)\n",
    "    * [Lists Are Dynamic](#Lists-Are-Dynamic)\n",
    "* [python tuples](#python-tuples)\n",
    "    * [Defining and Using Tuples](#Defining-and-Using-Tuples)\n",
    "    * [Tuple Assignment, Packing, and Unpacking](#Tuple-Assignment,-Packing,-and-Unpacking)\n",
    "* [2 usefull build in functions for list](2-usefull-build-in-functions-for-list)"
   ]
  },
  {
   "cell_type": "markdown",
   "id": "12d9f308-7e78-49d2-b4c5-041a9535cdbc",
   "metadata": {},
   "source": [
    "**Lists** and **tuples** are arguably Python’s most versatile, useful data types. You will find them in virtually every nontrivial Python program.\n"
   ]
  },
  {
   "cell_type": "markdown",
   "id": "aca16d27-0642-45ab-8705-8bd4c8b5233d",
   "metadata": {},
   "source": [
    "## python lists"
   ]
  },
  {
   "cell_type": "markdown",
   "id": "f01ecd13-b867-4f5e-810d-9dbe0fc46068",
   "metadata": {},
   "source": [
    "In short, a list is a collection of arbitrary objects, somewhat akin to an array in many other programming languages but more flexible. Lists are defined in Python by enclosing a comma-separated sequence of objects in square brackets ([]):"
   ]
  },
  {
   "cell_type": "code",
   "execution_count": 6,
   "id": "23845f53-a91d-444e-818c-55bc0b7cb33d",
   "metadata": {},
   "outputs": [
    {
     "name": "stdout",
     "output_type": "stream",
     "text": [
      "['foo', 'bar', 'baz', 'qux']\n",
      "<class 'list'>\n"
     ]
    }
   ],
   "source": [
    "a = ['foo', 'bar', 'baz', 'qux']\n",
    "print(a)\n",
    "print(type(a))"
   ]
  },
  {
   "cell_type": "markdown",
   "id": "731239ab-14f3-44e5-9105-1f2cc17f6977",
   "metadata": {},
   "source": [
    "there some questions we should answer about any iterable datatype :"
   ]
  },
  {
   "cell_type": "markdown",
   "id": "3c546da1-ccbe-4231-88fa-c9257e2aaf37",
   "metadata": {},
   "source": [
    "* is that datatype orderd?\n",
    "* can that datatype contain any arbitrary objects?\n",
    "* can accrss to elements of that datatype by index?\n",
    "* can that datatype be nested to arbitrary depth?\n",
    "* is that datatype mutable?\n",
    "* is that datatype dynamic?"
   ]
  },
  {
   "cell_type": "markdown",
   "id": "29809c6a-a056-4635-85a0-f5516089020a",
   "metadata": {},
   "source": [
    "**practice**: you already know string is iterable object. can you answer this questions about string?"
   ]
  },
  {
   "cell_type": "markdown",
   "id": "2193e5f6-d351-48af-ad45-9e2bb65f8be8",
   "metadata": {
    "tags": []
   },
   "source": [
    "## build-in functions: "
   ]
  },
  {
   "cell_type": "markdown",
   "id": "68d6f8b4-0b0c-4126-bfc1-e007dab50eb2",
   "metadata": {},
   "source": [
    "* **len**"
   ]
  },
  {
   "cell_type": "code",
   "execution_count": 77,
   "id": "1239a993-d200-4f20-bc34-6159fd770b08",
   "metadata": {},
   "outputs": [
    {
     "data": {
      "text/plain": [
       "4"
      ]
     },
     "execution_count": 77,
     "metadata": {},
     "output_type": "execute_result"
    }
   ],
   "source": [
    "a = [1,2,3,4]\n",
    "len(a)"
   ]
  },
  {
   "cell_type": "markdown",
   "id": "a46535c6-4820-4157-a701-55823d5727bf",
   "metadata": {},
   "source": [
    "* **min**"
   ]
  },
  {
   "cell_type": "code",
   "execution_count": 39,
   "id": "1889c1d3-b3b7-4bc9-a4f7-86983229cd51",
   "metadata": {},
   "outputs": [
    {
     "data": {
      "text/plain": [
       "1"
      ]
     },
     "execution_count": 39,
     "metadata": {},
     "output_type": "execute_result"
    }
   ],
   "source": [
    "a = [2,3,4,1]\n",
    "min(a)"
   ]
  },
  {
   "cell_type": "code",
   "execution_count": 3,
   "id": "e3140671-8af4-4caf-aaa9-a9e78fa1cc0a",
   "metadata": {},
   "outputs": [
    {
     "data": {
      "text/plain": [
       "'akbar'"
      ]
     },
     "execution_count": 3,
     "metadata": {},
     "output_type": "execute_result"
    }
   ],
   "source": [
    "a =[\"rasool\",\"akbar\",\"asghar\",\"d\"]\n",
    "min(a)\n"
   ]
  },
  {
   "cell_type": "code",
   "execution_count": 82,
   "id": "09456c21-be9f-4ced-8cb7-9d4236ce39e7",
   "metadata": {},
   "outputs": [
    {
     "ename": "TypeError",
     "evalue": "'<' not supported between instances of 'list' and 'str'",
     "output_type": "error",
     "traceback": [
      "\u001b[1;31m---------------------------------------------------------------------------\u001b[0m",
      "\u001b[1;31mTypeError\u001b[0m                                 Traceback (most recent call last)",
      "Input \u001b[1;32mIn [82]\u001b[0m, in \u001b[0;36m<cell line: 2>\u001b[1;34m()\u001b[0m\n\u001b[0;32m      1\u001b[0m a \u001b[38;5;241m=\u001b[39m [\u001b[38;5;124m\"\u001b[39m\u001b[38;5;124mrasool\u001b[39m\u001b[38;5;124m\"\u001b[39m, [\u001b[38;5;241m1\u001b[39m,\u001b[38;5;241m2\u001b[39m,\u001b[38;5;241m3\u001b[39m]]\n\u001b[1;32m----> 2\u001b[0m \u001b[38;5;28;43mmin\u001b[39;49m\u001b[43m(\u001b[49m\u001b[43ma\u001b[49m\u001b[43m)\u001b[49m\n",
      "\u001b[1;31mTypeError\u001b[0m: '<' not supported between instances of 'list' and 'str'"
     ]
    }
   ],
   "source": [
    "a = [\"rasool\", [1,2,3]]\n",
    "min(a)"
   ]
  },
  {
   "cell_type": "markdown",
   "id": "6d167e5f-69df-43b6-9d0f-61c9d849d5c0",
   "metadata": {},
   "source": [
    "* **max**"
   ]
  },
  {
   "cell_type": "code",
   "execution_count": 5,
   "id": "c6305b73-c3aa-43fa-9589-5f12f7e780d8",
   "metadata": {},
   "outputs": [
    {
     "data": {
      "text/plain": [
       "100"
      ]
     },
     "execution_count": 5,
     "metadata": {},
     "output_type": "execute_result"
    }
   ],
   "source": [
    "a = [1,2,3,4,100]\n",
    "max(a)"
   ]
  },
  {
   "cell_type": "code",
   "execution_count": 88,
   "id": "4f217990-212b-4cd5-9ac2-ecf784749c36",
   "metadata": {},
   "outputs": [
    {
     "data": {
      "text/plain": [
       "'rasool'"
      ]
     },
     "execution_count": 88,
     "metadata": {},
     "output_type": "execute_result"
    }
   ],
   "source": [
    "a =[\"rasool\",\"akbar\",\"asghar\"]\n",
    "max(a)"
   ]
  },
  {
   "cell_type": "code",
   "execution_count": 89,
   "id": "8951b4f9-0b88-48c8-8c5c-95e6659f1ae6",
   "metadata": {},
   "outputs": [
    {
     "ename": "TypeError",
     "evalue": "'>' not supported between instances of 'list' and 'str'",
     "output_type": "error",
     "traceback": [
      "\u001b[1;31m---------------------------------------------------------------------------\u001b[0m",
      "\u001b[1;31mTypeError\u001b[0m                                 Traceback (most recent call last)",
      "Input \u001b[1;32mIn [89]\u001b[0m, in \u001b[0;36m<cell line: 2>\u001b[1;34m()\u001b[0m\n\u001b[0;32m      1\u001b[0m a \u001b[38;5;241m=\u001b[39m [\u001b[38;5;124m\"\u001b[39m\u001b[38;5;124mrasool\u001b[39m\u001b[38;5;124m\"\u001b[39m, [\u001b[38;5;241m1\u001b[39m,\u001b[38;5;241m2\u001b[39m,\u001b[38;5;241m3\u001b[39m]]\n\u001b[1;32m----> 2\u001b[0m \u001b[38;5;28;43mmax\u001b[39;49m\u001b[43m(\u001b[49m\u001b[43ma\u001b[49m\u001b[43m)\u001b[49m\n",
      "\u001b[1;31mTypeError\u001b[0m: '>' not supported between instances of 'list' and 'str'"
     ]
    }
   ],
   "source": [
    "a = [\"rasool\", [1,2,3]]\n",
    "max(a)"
   ]
  },
  {
   "cell_type": "markdown",
   "id": "5597ecd3-5797-49f6-9b8c-dcc8aeb6c0bb",
   "metadata": {},
   "source": [
    "## lists are orderd"
   ]
  },
  {
   "cell_type": "markdown",
   "id": "2dc34090-62d5-459f-93fa-0332cd2ca458",
   "metadata": {},
   "source": [
    "A list is not merely a collection of objects. It is an ordered collection of objects. The order in which you specify the elements when you define a list is an innate characteristic of that list and is maintained for that list’s lifetime. "
   ]
  },
  {
   "cell_type": "code",
   "execution_count": 13,
   "id": "8b408064-ba4c-4554-832e-e67b31a7f949",
   "metadata": {},
   "outputs": [
    {
     "data": {
      "text/plain": [
       "False"
      ]
     },
     "execution_count": 13,
     "metadata": {},
     "output_type": "execute_result"
    }
   ],
   "source": [
    "a = ['foo', 'bar', 'baz', 'qux']\n",
    "b = ['baz', 'qux', 'bar', 'foo']\n",
    "a == b"
   ]
  },
  {
   "cell_type": "code",
   "execution_count": 16,
   "id": "7e07f724-72b8-4eda-ab7e-ccd3a4488e14",
   "metadata": {},
   "outputs": [
    {
     "data": {
      "text/plain": [
       "False"
      ]
     },
     "execution_count": 16,
     "metadata": {},
     "output_type": "execute_result"
    }
   ],
   "source": [
    "[1, 2, 3, 4] == [4, 1, 3, 2]\n"
   ]
  },
  {
   "cell_type": "code",
   "execution_count": 17,
   "id": "62cc290e-9572-478c-9a90-9d3d75121218",
   "metadata": {},
   "outputs": [
    {
     "data": {
      "text/plain": [
       "True"
      ]
     },
     "execution_count": 17,
     "metadata": {},
     "output_type": "execute_result"
    }
   ],
   "source": [
    "[1,2,3] == [1,2,3]"
   ]
  },
  {
   "cell_type": "markdown",
   "id": "c7475ae4-0d17-4ca3-8669-962f512aaf22",
   "metadata": {},
   "source": [
    "## Lists Can Contain Arbitrary Objects\n",
    "A list can contain any assortment of objects. The elements of a list can all be the same type:"
   ]
  },
  {
   "cell_type": "code",
   "execution_count": 19,
   "id": "18f96e56-56d7-4198-9fd0-fae4df744316",
   "metadata": {},
   "outputs": [
    {
     "data": {
      "text/plain": [
       "[2, 4, 6, 8]"
      ]
     },
     "execution_count": 19,
     "metadata": {},
     "output_type": "execute_result"
    }
   ],
   "source": [
    "a = [2, 4, 6, 8]\n",
    "a"
   ]
  },
  {
   "cell_type": "code",
   "execution_count": 22,
   "id": "624e360e-8e5b-442b-b790-911903c99630",
   "metadata": {},
   "outputs": [
    {
     "data": {
      "text/plain": [
       "[21.42, 'foobar', 3, 4, 'bark', False, 3.14159]"
      ]
     },
     "execution_count": 22,
     "metadata": {},
     "output_type": "execute_result"
    }
   ],
   "source": [
    "a = [21.42, 'foobar', 3, 4, 'bark', False, 3.14159]\n",
    "a"
   ]
  },
  {
   "cell_type": "markdown",
   "id": "30d45d3c-0827-4cbe-9b72-11370fe0cd22",
   "metadata": {},
   "source": [
    "**Lists can even contain complex objects, like functions, classes, and modules and even another list**"
   ]
  },
  {
   "cell_type": "code",
   "execution_count": 24,
   "id": "464012c4-9e9d-4c14-8be5-a51430a3abbc",
   "metadata": {},
   "outputs": [
    {
     "data": {
      "text/plain": [
       "[int, <function len(obj, /)>, [1, 2, 3]]"
      ]
     },
     "execution_count": 24,
     "metadata": {},
     "output_type": "execute_result"
    }
   ],
   "source": [
    "a = [int, len, [1,2,3]]\n",
    "a"
   ]
  },
  {
   "cell_type": "markdown",
   "id": "2d60bd36-7c70-4926-9acc-cedbde9a91fb",
   "metadata": {},
   "source": [
    "**A list can contain any number of objects, from zero to as many as your computer’s memory will allow**"
   ]
  },
  {
   "cell_type": "markdown",
   "id": "ce260934-227f-4729-99bd-2a5ff27782ac",
   "metadata": {},
   "source": [
    "**List objects needn’t be unique. A given object can appear in a list multiple times:**"
   ]
  },
  {
   "cell_type": "markdown",
   "id": "31501325-c5c1-48e1-952c-e1060a01856e",
   "metadata": {},
   "source": [
    "## List Elements Can Be Accessed by Index"
   ]
  },
  {
   "cell_type": "markdown",
   "id": "f2a0c6b1-ef43-4ae0-a294-27f0c5eb4c4e",
   "metadata": {},
   "source": [
    "Individual elements in a list can be accessed using an index in square brackets. This is exactly analogous to accessing individual characters in a string. List indexing is zero-based as it is with strings."
   ]
  },
  {
   "cell_type": "code",
   "execution_count": 45,
   "id": "e393cff9-889b-4686-9ba5-9317951d11ac",
   "metadata": {},
   "outputs": [
    {
     "data": {
      "text/plain": [
       "'baz'"
      ]
     },
     "execution_count": 45,
     "metadata": {},
     "output_type": "execute_result"
    }
   ],
   "source": [
    "a = ['foo', 'bar', 'baz']\n",
    "a[2]"
   ]
  },
  {
   "cell_type": "code",
   "execution_count": 37,
   "id": "b2ec0ca6-6fbd-420b-b2f8-8f29c9e3e095",
   "metadata": {},
   "outputs": [
    {
     "data": {
      "text/plain": [
       "'amir'"
      ]
     },
     "execution_count": 37,
     "metadata": {},
     "output_type": "execute_result"
    }
   ],
   "source": [
    "a = [\"rasool\" , [\"amir\", \"hamed\" , \"keihan\"]]\n",
    "a[1][0]"
   ]
  },
  {
   "cell_type": "code",
   "execution_count": 38,
   "id": "b5e81327-1169-4d90-9557-fb66189654aa",
   "metadata": {},
   "outputs": [
    {
     "data": {
      "text/plain": [
       "'baz'"
      ]
     },
     "execution_count": 38,
     "metadata": {},
     "output_type": "execute_result"
    }
   ],
   "source": [
    "a = ['foo', 'bar', 'baz']\n",
    "a[-1]"
   ]
  },
  {
   "cell_type": "markdown",
   "id": "0e3f5096-1636-4a2c-932b-fc3ead8fc939",
   "metadata": {},
   "source": [
    "**Slicing also works. If a is a list, the expression a[m:n] returns the portion of a from index m to, but not including, index n:**\n",
    "\n"
   ]
  },
  {
   "cell_type": "code",
   "execution_count": 40,
   "id": "b038d6ad-efc0-4af3-8af5-abab2c2b5306",
   "metadata": {},
   "outputs": [
    {
     "data": {
      "text/plain": [
       "[3, 4, 5]"
      ]
     },
     "execution_count": 40,
     "metadata": {},
     "output_type": "execute_result"
    }
   ],
   "source": [
    "a = [1,2,3,4,5,6]\n",
    "a[2:5]"
   ]
  },
  {
   "cell_type": "code",
   "execution_count": 41,
   "id": "840c38db-41fd-4677-ab84-9d71c8f67ce2",
   "metadata": {},
   "outputs": [
    {
     "data": {
      "text/plain": [
       "[6, 5, 4]"
      ]
     },
     "execution_count": 41,
     "metadata": {},
     "output_type": "execute_result"
    }
   ],
   "source": [
    "a[5:2:-1]"
   ]
  },
  {
   "cell_type": "code",
   "execution_count": 42,
   "id": "aaedd263-6b79-41e1-835e-feb0f4da9663",
   "metadata": {},
   "outputs": [
    {
     "data": {
      "text/plain": [
       "[6, 5, 4, 3, 2, 1]"
      ]
     },
     "execution_count": 42,
     "metadata": {},
     "output_type": "execute_result"
    }
   ],
   "source": [
    "a[::-1]"
   ]
  },
  {
   "cell_type": "markdown",
   "id": "4c88a061-2ce6-4b5c-9954-ae08dd20a6e1",
   "metadata": {},
   "source": [
    "**notice:** The [:] syntax works for lists. However, there is an important difference between how this operation works with a list and how it works with a string."
   ]
  },
  {
   "cell_type": "markdown",
   "id": "91cb091b-04c6-462b-b6ba-bd6730af448a",
   "metadata": {},
   "source": [
    "If s is a string, s[:] returns a reference to the same object:"
   ]
  },
  {
   "cell_type": "code",
   "execution_count": 51,
   "id": "3e8f6104-2508-4761-952b-d2800e1df173",
   "metadata": {},
   "outputs": [
    {
     "data": {
      "text/plain": [
       "True"
      ]
     },
     "execution_count": 51,
     "metadata": {},
     "output_type": "execute_result"
    }
   ],
   "source": [
    "s = 'foobar'\n",
    "s[:] is s"
   ]
  },
  {
   "cell_type": "markdown",
   "id": "27da3b86-8c12-4707-bb4a-e38406ebf9de",
   "metadata": {},
   "source": [
    "Conversely, if a is a list, a[:] returns a new object that is a copy of a:"
   ]
  },
  {
   "cell_type": "code",
   "execution_count": 65,
   "id": "88b3dbf2-0a4a-42eb-8534-ad21a89276ae",
   "metadata": {},
   "outputs": [
    {
     "data": {
      "text/plain": [
       "False"
      ]
     },
     "execution_count": 65,
     "metadata": {},
     "output_type": "execute_result"
    }
   ],
   "source": [
    "a = [1,2,3]\n",
    "a[:] is a"
   ]
  },
  {
   "cell_type": "markdown",
   "id": "f82ababb-03c8-4d99-9725-00c47ec87575",
   "metadata": {},
   "source": [
    "By the way, in each example above, the list is always assigned to a variable before an operation is performed on it. But you can operate on a list literal as well:"
   ]
  },
  {
   "cell_type": "code",
   "execution_count": 92,
   "id": "97d765db-313b-43ea-b6af-758f66415447",
   "metadata": {},
   "outputs": [
    {
     "data": {
      "text/plain": [
       "3"
      ]
     },
     "execution_count": 92,
     "metadata": {},
     "output_type": "execute_result"
    }
   ],
   "source": [
    "[1,2,3,4][2]"
   ]
  },
  {
   "cell_type": "code",
   "execution_count": 94,
   "id": "46414e01-84d0-491e-8c1a-444cc97ea4eb",
   "metadata": {},
   "outputs": [
    {
     "data": {
      "text/plain": [
       "6"
      ]
     },
     "execution_count": 94,
     "metadata": {},
     "output_type": "execute_result"
    }
   ],
   "source": [
    "len([1,2,3,4,5,6,7,8][2:])"
   ]
  },
  {
   "cell_type": "markdown",
   "id": "14afac59-9946-443b-b592-14d61f1cd405",
   "metadata": {},
   "source": [
    "For that matter, you can do likewise with a string literal:"
   ]
  },
  {
   "cell_type": "code",
   "execution_count": 96,
   "id": "97aadda0-7e92-4fce-8957-ca894b710338",
   "metadata": {},
   "outputs": [
    {
     "data": {
      "text/plain": [
       "'.thgir eb tsum ti ,ti syas noelopaN edarmoC fI'"
      ]
     },
     "execution_count": 96,
     "metadata": {},
     "output_type": "execute_result"
    }
   ],
   "source": [
    "'If Comrade Napoleon says it, it must be right.'[::-1]"
   ]
  },
  {
   "cell_type": "markdown",
   "id": "d9291d42-0413-47d5-a4e0-9cdebe660df5",
   "metadata": {},
   "source": [
    "## list operators"
   ]
  },
  {
   "cell_type": "code",
   "execution_count": 68,
   "id": "9af8f00b-6546-40ba-acf3-3a5553193e3b",
   "metadata": {},
   "outputs": [
    {
     "name": "stdout",
     "output_type": "stream",
     "text": [
      "True\n",
      "False\n"
     ]
    }
   ],
   "source": [
    "a = [1,2,3]\n",
    "print(1 in a)\n",
    "print(1 not in a)"
   ]
  },
  {
   "cell_type": "code",
   "execution_count": 71,
   "id": "5ccd8016-b17a-499e-8545-722eec53d7e2",
   "metadata": {},
   "outputs": [
    {
     "name": "stdout",
     "output_type": "stream",
     "text": [
      "[1, 2, 3, 4, 5, 6]\n",
      "[1, 2, 3, 1, 2, 3]\n"
     ]
    }
   ],
   "source": [
    "print(a +[4,5,6])\n",
    "print(a*2)"
   ]
  },
  {
   "cell_type": "code",
   "execution_count": 74,
   "id": "0fe5a86f-7680-461c-a81f-f6cdde6818c5",
   "metadata": {},
   "outputs": [
    {
     "ename": "TypeError",
     "evalue": "can only concatenate list (not \"str\") to list",
     "output_type": "error",
     "traceback": [
      "\u001b[1;31m---------------------------------------------------------------------------\u001b[0m",
      "\u001b[1;31mTypeError\u001b[0m                                 Traceback (most recent call last)",
      "Input \u001b[1;32mIn [74]\u001b[0m, in \u001b[0;36m<cell line: 1>\u001b[1;34m()\u001b[0m\n\u001b[1;32m----> 1\u001b[0m \u001b[43ma\u001b[49m\u001b[43m \u001b[49m\u001b[38;5;241;43m+\u001b[39;49m\u001b[43m \u001b[49m\u001b[38;5;124;43m\"\u001b[39;49m\u001b[38;5;124;43mrasool\u001b[39;49m\u001b[38;5;124;43m\"\u001b[39;49m\n\u001b[0;32m      2\u001b[0m a\u001b[38;5;241m+\u001b[39m \u001b[38;5;241m2\u001b[39m\n\u001b[0;32m      3\u001b[0m a\u001b[38;5;241m*\u001b[39m \u001b[38;5;124m\"\u001b[39m\u001b[38;5;124m2\u001b[39m\u001b[38;5;124m\"\u001b[39m\n",
      "\u001b[1;31mTypeError\u001b[0m: can only concatenate list (not \"str\") to list"
     ]
    }
   ],
   "source": [
    "a + \"rasool\"\n",
    "a+ 2\n",
    "a* \"2\""
   ]
  },
  {
   "cell_type": "markdown",
   "id": "f2b9f3d4-1586-4063-b712-db6305d60d8c",
   "metadata": {},
   "source": [
    "**It’s not an accident that strings and lists behave so similarly. They are both special cases of a more general object type called an iterable**"
   ]
  },
  {
   "cell_type": "markdown",
   "id": "41f3aac8-09c2-4ad1-8f06-e49140113220",
   "metadata": {},
   "source": [
    "Technically, **it isn’t quite correct to say a list must be concatenated with another list**. More precisely, a list must be **concatenated with an object that is iterable.** Of course, lists are iterable, so it works to concatenate a list with another list.\n",
    "\n",
    "Strings are iterable also. But watch what happens when you concatenate a string onto a list:"
   ]
  },
  {
   "cell_type": "code",
   "execution_count": 137,
   "id": "a5271972-0861-44f4-9312-569f42bb21d2",
   "metadata": {},
   "outputs": [
    {
     "data": {
      "text/plain": [
       "[1, 2, 3, 'r', 'a', 's', 'o', 'o', 'l']"
      ]
     },
     "execution_count": 137,
     "metadata": {},
     "output_type": "execute_result"
    }
   ],
   "source": [
    "a = [1,2,3]\n",
    "a +=\"rasool\"\n",
    "a + [\"rasool\"]\n",
    "a"
   ]
  },
  {
   "cell_type": "markdown",
   "id": "cce4ed55-5bdc-4f8b-983c-5f596e2c9704",
   "metadata": {},
   "source": [
    "This result is perhaps not quite what you expected. When a string is iterated through, the result is a list of its component characters. In the above example, what gets concatenated onto list a is a list of the characters in the string 'rasool'.\n",
    "\n",
    "If you really want to add just the single string 'rasool' to the end of the list, you need to specify it as a singleton list:"
   ]
  },
  {
   "cell_type": "code",
   "execution_count": 139,
   "id": "bce0ec3e-3353-4d23-8be3-78074a29e815",
   "metadata": {},
   "outputs": [
    {
     "data": {
      "text/plain": [
       "[1, 2, 3, 'rasool']"
      ]
     },
     "execution_count": 139,
     "metadata": {},
     "output_type": "execute_result"
    }
   ],
   "source": [
    "a = [1,2,3]\n",
    "a +=[\"rasool\"]\n",
    "a"
   ]
  },
  {
   "cell_type": "markdown",
   "id": "38145de2-8509-4b69-a648-e55968e363ba",
   "metadata": {},
   "source": [
    "## Lists Can Be Nested"
   ]
  },
  {
   "cell_type": "markdown",
   "id": "7012ced2-a34e-4c7f-9fa7-1b080a899ca4",
   "metadata": {},
   "source": [
    "ou have seen that an element in a list can be any sort of object. That includes another list. A list can contain sublists, which in turn can contain sublists themselves, and so on to arbitrary depth."
   ]
  },
  {
   "cell_type": "code",
   "execution_count": 101,
   "id": "6c341677-62d8-460c-9aba-142058cb81e6",
   "metadata": {},
   "outputs": [
    {
     "data": {
      "text/plain": [
       "[1, 2, ['rasool', 3, [4, 5, 6], 4], 4]"
      ]
     },
     "execution_count": 101,
     "metadata": {},
     "output_type": "execute_result"
    }
   ],
   "source": [
    "a = [1,2,[\"rasool\",3,[4,5,6],4],4]\n",
    "a"
   ]
  },
  {
   "cell_type": "code",
   "execution_count": 103,
   "id": "9446d85f-b4f4-42ee-8cb2-c6c1907994ea",
   "metadata": {},
   "outputs": [
    {
     "name": "stdout",
     "output_type": "stream",
     "text": [
      "rasool\n",
      "5\n"
     ]
    }
   ],
   "source": [
    "print(a[2][0])\n",
    "print(a[2][2][1])"
   ]
  },
  {
   "cell_type": "markdown",
   "id": "61624b35-9da5-4ac9-bbe1-36c506fd5e53",
   "metadata": {},
   "source": [
    "**There is no limit, short of the extent of your computer’s memory, to the depth or complexity with which lists can be nested in this way.**"
   ]
  },
  {
   "cell_type": "markdown",
   "id": "26a99984-cc16-46bc-9f87-0b85eb0d5a7e",
   "metadata": {},
   "source": [
    "## Lists Are Mutable "
   ]
  },
  {
   "cell_type": "markdown",
   "id": "c17ea15f-8b36-4047-b322-9aef4adcd316",
   "metadata": {},
   "source": [
    "Most of the data types you have encountered so far have been **atomic types**. Integer or float objects, for example, are primitive units that can’t be further broken down. These types are **immutable**, meaning that they can’t be changed once they have been assigned. It doesn’t make much sense to think of changing the value of an integer. If you want a different integer, you just assign a different one."
   ]
  },
  {
   "cell_type": "markdown",
   "id": "22cb6e66-f4de-4960-b56a-22cc2b64c434",
   "metadata": {},
   "source": [
    "By contrast, the string type is a composite type. Strings are reducible to smaller parts—the component characters. It might make sense to think of changing the characters in a string. **But you can’t**. In Python, **strings are also immutable.**"
   ]
  },
  {
   "cell_type": "markdown",
   "id": "3953249b-a01e-40c2-888d-de51711422e1",
   "metadata": {},
   "source": [
    "**The list is the first mutable data type you have encountered.** Once a list has been created, elements can be added, deleted, shifted, and moved around at will. Python provides a wide range of ways to modify lists."
   ]
  },
  {
   "cell_type": "code",
   "execution_count": 110,
   "id": "d1053990-8ee9-4033-bc5c-bb57ecf75012",
   "metadata": {},
   "outputs": [
    {
     "data": {
      "text/plain": [
       "['foo', 'bar', 10, 'qux', 'quux', 20]"
      ]
     },
     "execution_count": 110,
     "metadata": {},
     "output_type": "execute_result"
    }
   ],
   "source": [
    "a = ['foo', 'bar', 'baz', 'qux', 'quux', 'corge']\n",
    "a[2] = 10\n",
    "a[-1] = 20\n",
    "a"
   ]
  },
  {
   "cell_type": "markdown",
   "id": "c3d034f4-0d23-4d52-b8e4-c3471aebded9",
   "metadata": {},
   "source": [
    "A list item can be deleted with the del command:"
   ]
  },
  {
   "cell_type": "code",
   "execution_count": 116,
   "id": "14537eda-3d5a-45d8-8970-ce5044b5cb9b",
   "metadata": {},
   "outputs": [
    {
     "data": {
      "text/plain": [
       "[1, 2, 3]"
      ]
     },
     "execution_count": 116,
     "metadata": {},
     "output_type": "execute_result"
    }
   ],
   "source": [
    "a = [1, 2,3,4]\n",
    "del a[3]\n",
    "a"
   ]
  },
  {
   "cell_type": "markdown",
   "id": "806ff174-f808-4019-95d6-af5909ea85dc",
   "metadata": {},
   "source": [
    "What if you want to change several contiguous elements in a list at one time? Python allows this with slice assignment, which has the following syntax:\n",
    "```python\n",
    "a[m:n] = <iterable>\n",
    "\n",
    "```"
   ]
  },
  {
   "cell_type": "code",
   "execution_count": 118,
   "id": "a798398b-0b49-4158-9903-efac6b34cba5",
   "metadata": {},
   "outputs": [
    {
     "data": {
      "text/plain": [
       "[1, 1.1, 2.2, 3.3, 4.4, 5.5, 5, 6, 7, 8, 9]"
      ]
     },
     "execution_count": 118,
     "metadata": {},
     "output_type": "execute_result"
    }
   ],
   "source": [
    "a = [1,2,3,4,5,6,7,8,9]\n",
    "a[1:4] = [1.1, 2.2, 3.3, 4.4, 5.5]\n",
    "a"
   ]
  },
  {
   "cell_type": "code",
   "execution_count": 121,
   "id": "619e7d7a-4631-4fd5-8b12-46e39d23cba6",
   "metadata": {},
   "outputs": [
    {
     "data": {
      "text/plain": [
       "['a', 1.1, 'f', 'g']"
      ]
     },
     "execution_count": 121,
     "metadata": {},
     "output_type": "execute_result"
    }
   ],
   "source": [
    "a = [\"a\",\"b\",\"c\",\"d\",\"f\",\"g\"]\n",
    "a[1:4] = [1.1]\n",
    "a"
   ]
  },
  {
   "cell_type": "code",
   "execution_count": 123,
   "id": "e85b2969-3da1-44c7-8f6f-f9a0d830e1c1",
   "metadata": {},
   "outputs": [
    {
     "data": {
      "text/plain": [
       "['a', 1.1, 2.3, 4.7, 5.8, 'c', 'd', 'f', 'g']"
      ]
     },
     "execution_count": 123,
     "metadata": {},
     "output_type": "execute_result"
    }
   ],
   "source": [
    "a = [\"a\",\"b\",\"c\",\"d\",\"f\",\"g\"]\n",
    "a[1:2] = [1.1,2.3,4.7,5.8]\n",
    "a"
   ]
  },
  {
   "cell_type": "markdown",
   "id": "ab0f91db-9fba-4357-973e-3ca99f3a509d",
   "metadata": {},
   "source": [
    "**Note:** this is not the same as replacing the single element with a list:"
   ]
  },
  {
   "cell_type": "code",
   "execution_count": 50,
   "id": "b437c8bd-ab69-47fb-9eb8-5f2c9f9d3c0a",
   "metadata": {},
   "outputs": [
    {
     "data": {
      "text/plain": [
       "[1, [2.1, 2.2, 2.3], 3]"
      ]
     },
     "execution_count": 50,
     "metadata": {},
     "output_type": "execute_result"
    }
   ],
   "source": [
    "a = [1, 2, 3]\n",
    "a[1]= \"rasool\"\n",
    "a[1] = [2.1, 2.2, 2.3]\n",
    "a\n"
   ]
  },
  {
   "cell_type": "markdown",
   "id": "77b278f7-6e4f-45f6-99cc-0627d6226ee9",
   "metadata": {},
   "source": [
    "**You can also insert elements into a list without removing anything.** Simply specify a slice of the form [n:n] (a zero-length slice) at the desired index:"
   ]
  },
  {
   "cell_type": "code",
   "execution_count": 127,
   "id": "4625cf82-9a00-473b-8618-91328861e58b",
   "metadata": {},
   "outputs": [
    {
     "data": {
      "text/plain": [
       "[1, 2, 3, 4, 5, 6, 7, 8]"
      ]
     },
     "execution_count": 127,
     "metadata": {},
     "output_type": "execute_result"
    }
   ],
   "source": [
    "a = [1, 2, 7, 8]\n",
    "a[2:2] = [3, 4, 5, 6]\n",
    "a"
   ]
  },
  {
   "cell_type": "markdown",
   "id": "cbdd1ef2-3dfc-4693-b817-d217e1868def",
   "metadata": {},
   "source": [
    "You can delete multiple elements out of the middle of a list by assigning the appropriate slice to an empty list. You can also use the del statement with the same slice:"
   ]
  },
  {
   "cell_type": "code",
   "execution_count": 129,
   "id": "7835ebc6-1c9f-4116-b038-49b90a7f6c44",
   "metadata": {},
   "outputs": [
    {
     "data": {
      "text/plain": [
       "['foo', 'corge']"
      ]
     },
     "execution_count": 129,
     "metadata": {},
     "output_type": "execute_result"
    }
   ],
   "source": [
    "a = ['foo', 'bar', 'baz', 'qux', 'quux', 'corge']\n",
    "a[1:5] = []\n",
    "a"
   ]
  },
  {
   "cell_type": "code",
   "execution_count": 131,
   "id": "5824de8a-8f60-4b42-afac-a6eaffdc518c",
   "metadata": {},
   "outputs": [
    {
     "data": {
      "text/plain": [
       "['foo', 'corge']"
      ]
     },
     "execution_count": 131,
     "metadata": {},
     "output_type": "execute_result"
    }
   ],
   "source": [
    "a = ['foo', 'bar', 'baz', 'qux', 'quux', 'corge']\n",
    "del a[1:5] \n",
    "a"
   ]
  },
  {
   "cell_type": "markdown",
   "id": "1fd96878-1888-439f-b84e-23fbb845e5c9",
   "metadata": {},
   "source": [
    "## build in python list methods :"
   ]
  },
  {
   "cell_type": "markdown",
   "id": "7d664b8c-7bf0-4676-8c30-4a1d4941b1e2",
   "metadata": {},
   "source": [
    "Finally, Python supplies several built-in methods that can be used to **modify lists.**"
   ]
  },
  {
   "cell_type": "markdown",
   "id": "735798f3-d3e1-4e41-8476-3bd9cf89ff2d",
   "metadata": {},
   "source": [
    "* #### append"
   ]
  },
  {
   "cell_type": "code",
   "execution_count": 143,
   "id": "491302b0-9823-4586-8ef8-a1440fba1cf1",
   "metadata": {
    "tags": []
   },
   "outputs": [
    {
     "data": {
      "text/plain": [
       "['a', 'b', 123]"
      ]
     },
     "execution_count": 143,
     "metadata": {},
     "output_type": "execute_result"
    }
   ],
   "source": [
    "a = ['a', 'b']\n",
    "a.append(123)\n",
    "a"
   ]
  },
  {
   "cell_type": "code",
   "execution_count": 145,
   "id": "06d28c97-d43a-49a1-8fbe-eefd002207f3",
   "metadata": {},
   "outputs": [
    {
     "name": "stdout",
     "output_type": "stream",
     "text": [
      "['a', 'b', 1, 2, 3]\n"
     ]
    },
    {
     "data": {
      "text/plain": [
       "['a', 'b', [1, 2, 3]]"
      ]
     },
     "execution_count": 145,
     "metadata": {},
     "output_type": "execute_result"
    }
   ],
   "source": [
    "\n",
    "a = ['a', 'b']\n",
    "a = ['a', 'b']\n",
    "print(a + [1, 2, 3])\n",
    "a.append([1, 2, 3])\n",
    "a"
   ]
  },
  {
   "cell_type": "markdown",
   "id": "c08c84b5-f593-4928-9869-0ca7ab4f9962",
   "metadata": {},
   "source": [
    "* #### extend"
   ]
  },
  {
   "cell_type": "markdown",
   "id": "8b4ea691-36e0-46f5-a8d0-37b6bbab00fc",
   "metadata": {},
   "source": [
    "```python\n",
    "a.extend(<iterable>)\n",
    "```"
   ]
  },
  {
   "cell_type": "code",
   "execution_count": 8,
   "id": "d35dc10b-9ba3-4166-99b7-36af07dc9319",
   "metadata": {},
   "outputs": [
    {
     "data": {
      "text/plain": [
       "['a', 'b', 'r', 'a', 's', 'o', 'o', 'l']"
      ]
     },
     "execution_count": 8,
     "metadata": {},
     "output_type": "execute_result"
    }
   ],
   "source": [
    "a = ['a', 'b']\n",
    "a.extend(\"rasool\")\n",
    "a"
   ]
  },
  {
   "cell_type": "markdown",
   "id": "3636fae6-0747-464b-b6d0-b38572bcef85",
   "metadata": {},
   "source": [
    "In other words, .extend() behaves like the + operator. More precisely, since it modifies the list in place, it behaves like the += operator:\n",
    "\n"
   ]
  },
  {
   "cell_type": "code",
   "execution_count": 150,
   "id": "cb178df3-cdd8-4177-953f-be91a1063b98",
   "metadata": {},
   "outputs": [
    {
     "data": {
      "text/plain": [
       "['a', 'b', 1, 2, 3]"
      ]
     },
     "execution_count": 150,
     "metadata": {},
     "output_type": "execute_result"
    }
   ],
   "source": [
    "a = ['a', 'b']\n",
    "a += [1, 2, 3]\n",
    "a"
   ]
  },
  {
   "cell_type": "markdown",
   "id": "cc76014a-fdbd-413b-baee-a8e5bcfb6b40",
   "metadata": {},
   "source": [
    "* #### insert"
   ]
  },
  {
   "cell_type": "markdown",
   "id": "7e27165c-5368-4ae1-a44d-a7d6f51f6f66",
   "metadata": {},
   "source": [
    "```python\n",
    "a.insert(<index>, <obj>)\n",
    "```"
   ]
  },
  {
   "cell_type": "code",
   "execution_count": 10,
   "id": "69d7e303-ceac-4272-b4e7-010990824d7b",
   "metadata": {},
   "outputs": [
    {
     "data": {
      "text/plain": [
       "['foo', 'bar', 'baz', [1, 2, 3, 4], 'qux', 'quux', 'corge']"
      ]
     },
     "execution_count": 10,
     "metadata": {},
     "output_type": "execute_result"
    }
   ],
   "source": [
    "a = ['foo', 'bar', 'baz', 'qux', 'quux', 'corge']\n",
    "a.insert(3, [1,2,3,4])\n",
    "a"
   ]
  },
  {
   "cell_type": "markdown",
   "id": "d99f083e-261c-49f9-8222-f22acd823669",
   "metadata": {},
   "source": [
    "* #### remove"
   ]
  },
  {
   "cell_type": "markdown",
   "id": "4724e082-befe-4007-ad9f-a5e1d69d080d",
   "metadata": {},
   "source": [
    "```python\n",
    "a.remove(<obj>)\n",
    "```"
   ]
  },
  {
   "cell_type": "code",
   "execution_count": 159,
   "id": "b999fef9-0602-4484-8396-bab721ae0856",
   "metadata": {},
   "outputs": [
    {
     "data": {
      "text/plain": [
       "['foo', 'bar', 'qux', 'baz', 'corge']"
      ]
     },
     "execution_count": 159,
     "metadata": {},
     "output_type": "execute_result"
    }
   ],
   "source": [
    "a = ['foo', 'bar', 'baz', 'qux', 'baz', 'corge']\n",
    "a.remove('baz')\n",
    "a"
   ]
  },
  {
   "cell_type": "markdown",
   "id": "dd1fc0ae-21be-4147-8e6d-83206f4b37d2",
   "metadata": {},
   "source": [
    "* #### pop"
   ]
  },
  {
   "cell_type": "code",
   "execution_count": 53,
   "id": "35fab5bb-8799-42e5-884b-bb7d192d20dd",
   "metadata": {},
   "outputs": [
    {
     "data": {
      "text/plain": [
       "['foo', 'bar', 'baz', 'qux', 'quux']"
      ]
     },
     "execution_count": 54,
     "metadata": {},
     "output_type": "execute_result"
    }
   ],
   "source": [
    "a = ['foo', 'bar', 'baz', 'qux', 'quux', 'corge']\n",
    "a.pop()\n",
    "a"
   ]
  },
  {
   "cell_type": "code",
   "execution_count": 163,
   "id": "8a30c69e-4b49-4d58-bcc7-e89a12d498b4",
   "metadata": {},
   "outputs": [
    {
     "data": {
      "text/plain": [
       "'bar'"
      ]
     },
     "execution_count": 163,
     "metadata": {},
     "output_type": "execute_result"
    }
   ],
   "source": [
    "a.pop(1)"
   ]
  },
  {
   "cell_type": "code",
   "execution_count": 164,
   "id": "3814e488-9f4a-4bab-972b-7c514e2b7aae",
   "metadata": {},
   "outputs": [
    {
     "data": {
      "text/plain": [
       "'qux'"
      ]
     },
     "execution_count": 164,
     "metadata": {},
     "output_type": "execute_result"
    }
   ],
   "source": [
    "a.pop(-1)"
   ]
  },
  {
   "cell_type": "markdown",
   "id": "c6716925-d3a9-4557-9638-161268313fa0",
   "metadata": {},
   "source": [
    "## Lists Are Dynamic"
   ]
  },
  {
   "cell_type": "markdown",
   "id": "456f43c1-d9db-4e89-a6bd-c0fcc862eb89",
   "metadata": {},
   "source": [
    "You have seen many examples of this in the sections above. When items are added to a list, it grows as needed:\n",
    "\n"
   ]
  },
  {
   "cell_type": "code",
   "execution_count": 168,
   "id": "f7d927a5-dc33-4bf2-8cc3-314c8d78c643",
   "metadata": {},
   "outputs": [
    {
     "data": {
      "text/plain": [
       "['foo', 'bar', 1, 2, 3, 'baz', 'qux', 'quux', 'corge', 3.14159]"
      ]
     },
     "execution_count": 168,
     "metadata": {},
     "output_type": "execute_result"
    }
   ],
   "source": [
    "a = ['foo', 'bar', 'baz', 'qux', 'quux', 'corge']\n",
    "a[2:2] = [1, 2, 3]\n",
    "a += [3.14159]\n",
    "a"
   ]
  },
  {
   "cell_type": "markdown",
   "id": "1bf3bd9c-4680-43c7-8eed-5359dcf4d917",
   "metadata": {},
   "source": [
    "Similarly, a list shrinks to accommodate the removal of items:"
   ]
  },
  {
   "cell_type": "code",
   "execution_count": 170,
   "id": "cb334cc2-1c0b-466d-95e2-ca3cf453f84d",
   "metadata": {},
   "outputs": [
    {
     "data": {
      "text/plain": [
       "['bar', 'qux', 'quux', 'corge']"
      ]
     },
     "execution_count": 170,
     "metadata": {},
     "output_type": "execute_result"
    }
   ],
   "source": [
    "a = ['foo', 'bar', 'baz', 'qux', 'quux', 'corge']\n",
    "a[2:3] = []\n",
    "del a[0]\n",
    "a\n"
   ]
  },
  {
   "cell_type": "markdown",
   "id": "40192eee-7f7f-4d29-9168-116ad99463b6",
   "metadata": {},
   "source": [
    "## Python Tuples"
   ]
  },
  {
   "cell_type": "markdown",
   "id": "702e3a36-fb30-4aaf-8cb4-02b9413c2984",
   "metadata": {},
   "source": [
    "Python provides another type that is an ordered collection of objects, called a tuple."
   ]
  },
  {
   "cell_type": "markdown",
   "id": "35e2b9bb-701f-454f-ae0b-082d7409d4d8",
   "metadata": {},
   "source": [
    "## Defining and Using Tuples"
   ]
  },
  {
   "cell_type": "markdown",
   "id": "53c2c77c-209a-421a-b6ae-b3718680e1fa",
   "metadata": {},
   "source": [
    "Tuples are identical to lists in all respects, except for the following properties:\n",
    "\n",
    "* Tuples are defined by enclosing the elements in **parentheses (())** instead of square **brackets ([])**.\n",
    "* Tuples are **immutable.**"
   ]
  },
  {
   "cell_type": "code",
   "execution_count": 4,
   "id": "f20fafbe-ec86-4e36-82db-b73e32f806e7",
   "metadata": {},
   "outputs": [
    {
     "data": {
      "text/plain": [
       "('1', '2', '3', '4', '5', '6', '7', '8', '9')"
      ]
     },
     "execution_count": 4,
     "metadata": {},
     "output_type": "execute_result"
    }
   ],
   "source": [
    "t = ('1', '2', '3', '4',\"5\",\"6\",\"7\",\"8\",\"9\")\n",
    "t"
   ]
  },
  {
   "cell_type": "code",
   "execution_count": 5,
   "id": "2dcc86fd-0eab-4141-9af7-497ab83405ac",
   "metadata": {},
   "outputs": [
    {
     "data": {
      "text/plain": [
       "'1'"
      ]
     },
     "execution_count": 5,
     "metadata": {},
     "output_type": "execute_result"
    }
   ],
   "source": [
    "t[0]"
   ]
  },
  {
   "cell_type": "code",
   "execution_count": 6,
   "id": "5dbf240f-0a7f-48bd-b952-71c3e6f35d5b",
   "metadata": {},
   "outputs": [
    {
     "data": {
      "text/plain": [
       "'9'"
      ]
     },
     "execution_count": 6,
     "metadata": {},
     "output_type": "execute_result"
    }
   ],
   "source": [
    "t[-1]\n"
   ]
  },
  {
   "cell_type": "code",
   "execution_count": 7,
   "id": "b08fdf51-cfdc-45bf-a16b-5e4b98102c90",
   "metadata": {},
   "outputs": [
    {
     "data": {
      "text/plain": [
       "('2', '4', '6', '8')"
      ]
     },
     "execution_count": 7,
     "metadata": {},
     "output_type": "execute_result"
    }
   ],
   "source": [
    "t[1::2]"
   ]
  },
  {
   "cell_type": "markdown",
   "id": "4714a34d-1b77-4378-8c7e-faeba9e9468c",
   "metadata": {},
   "source": [
    "**Note:** Even though tuples are defined using parentheses, you still index and slice tuples using square brackets, just as for strings and lists."
   ]
  },
  {
   "cell_type": "markdown",
   "id": "54a3b035-fdde-4905-8a2a-74fc55a3eea8",
   "metadata": {},
   "source": [
    "**Everything you’ve learned about lists—they are ordered, they can contain arbitrary objects, they can be indexed and sliced, they can be nested—is true of tuples as well.**"
   ]
  },
  {
   "cell_type": "markdown",
   "id": "4f5de4f5-3e8c-4d0c-a43a-5467e4e258da",
   "metadata": {},
   "source": [
    "**if tuples and list are same, so why use a tuple instead of list ?**"
   ]
  },
  {
   "cell_type": "markdown",
   "id": "9c215faa-cedb-410f-8e89-b55fe3e03f1c",
   "metadata": {},
   "source": [
    "* Program execution is faster when manipulating a tuple than it is for the equivalent list. (This is probably not going to be noticeable when the list or tuple is small.)\n",
    "\n",
    "* Sometimes you don’t want data to be modified. If the values in the collection are meant to remain constant for the life of the program, using a tuple instead of a list guards against accidental modification.\n",
    "\n",
    "* There is another Python data type that you will encounter shortly called a dictionary, which requires as one of its components a value that is of an immutable type. A tuple can be used for this purpose, whereas a list can’t be."
   ]
  },
  {
   "cell_type": "markdown",
   "id": "6f7ce2d4-316c-4de3-958a-573477551951",
   "metadata": {},
   "source": [
    "There is one peculiarity regarding tuple definition that you should be aware of. There is no ambiguity when defining an empty tuple, nor one with two or more elements. Python knows you are defining a tuple:"
   ]
  },
  {
   "cell_type": "code",
   "execution_count": 15,
   "id": "57084f8a-54e6-4597-b762-5eb9a85b1533",
   "metadata": {},
   "outputs": [
    {
     "name": "stdout",
     "output_type": "stream",
     "text": [
      "<class 'tuple'>\n",
      "<class 'tuple'>\n"
     ]
    }
   ],
   "source": [
    "t = ()\n",
    "print(type(t))\n",
    "t = (1, 2)\n",
    "print(type(t))"
   ]
  },
  {
   "cell_type": "markdown",
   "id": "f549d6c4-f03f-4e0c-ade4-91f0efa250fd",
   "metadata": {},
   "source": [
    "But what happens when you try to define a tuple with one item:"
   ]
  },
  {
   "cell_type": "code",
   "execution_count": 17,
   "id": "b7728c2a-a0fa-4272-b948-764620bdf60c",
   "metadata": {},
   "outputs": [
    {
     "data": {
      "text/plain": [
       "int"
      ]
     },
     "execution_count": 17,
     "metadata": {},
     "output_type": "execute_result"
    }
   ],
   "source": [
    "t = (2)\n",
    "type(t)"
   ]
  },
  {
   "cell_type": "markdown",
   "id": "284b5049-89a3-4203-aebe-e3e60d1a55c8",
   "metadata": {},
   "source": [
    "how to fix ?"
   ]
  },
  {
   "cell_type": "code",
   "execution_count": 19,
   "id": "a9eaad73-0301-48e6-a388-ccf678369938",
   "metadata": {},
   "outputs": [
    {
     "data": {
      "text/plain": [
       "tuple"
      ]
     },
     "execution_count": 19,
     "metadata": {},
     "output_type": "execute_result"
    }
   ],
   "source": [
    "t = (2,)\n",
    "type(t)"
   ]
  },
  {
   "cell_type": "markdown",
   "id": "39547cfe-c790-4f91-9d41-66c15e40c06a",
   "metadata": {
    "tags": []
   },
   "source": [
    "## Tuple Assignment, Packing, and Unpacking"
   ]
  },
  {
   "cell_type": "code",
   "execution_count": 21,
   "id": "c1bd7119-2771-4f4b-9cfb-90917caf3435",
   "metadata": {},
   "outputs": [],
   "source": [
    "t = ('foo', 'bar', 'baz', 'qux')"
   ]
  },
  {
   "cell_type": "markdown",
   "id": "576695d0-913d-41c6-ab25-dc1b98035a8b",
   "metadata": {},
   "source": [
    "When this occurs, it is as though the items in the tuple have been “packed” into the object:\n",
    "\n"
   ]
  },
  {
   "attachments": {
    "81602648-4217-4758-8c63-578fd2439e86.PNG": {
     "image/png": "[encoded data removed]"
    }
   },
   "cell_type": "markdown",
   "id": "d1a8485f-4fc1-4f52-8ac3-35f00646ad37",
   "metadata": {},
   "source": [
    "![tuple01.PNG](attachment:81602648-4217-4758-8c63-578fd2439e86.PNG)"
   ]
  },
  {
   "cell_type": "markdown",
   "id": "36e584bf-aeba-4764-8523-703ba91f4393",
   "metadata": {},
   "source": [
    "If that “packed” object is subsequently assigned to a new tuple, the individual items are “unpacked” into the objects in the tuple:"
   ]
  },
  {
   "cell_type": "code",
   "execution_count": 25,
   "id": "564d3453-1f15-470f-b7a5-6d68919588f1",
   "metadata": {},
   "outputs": [
    {
     "data": {
      "text/plain": [
       "'foo'"
      ]
     },
     "execution_count": 25,
     "metadata": {},
     "output_type": "execute_result"
    }
   ],
   "source": [
    "(s1, s2, s3, s4) = t\n",
    "s1"
   ]
  },
  {
   "cell_type": "markdown",
   "id": "182a27fd-d47e-4da0-a62e-0ecd9a3e43ab",
   "metadata": {},
   "source": [
    "**When unpacking, the number of variables on the left must match the number of values in the tuple**\n",
    "\n"
   ]
  },
  {
   "cell_type": "markdown",
   "id": "51060516-eb1a-4b50-b057-3b1f674107d5",
   "metadata": {},
   "source": [
    "Packing and unpacking can be combined into one statement to make a compound assignment:"
   ]
  },
  {
   "cell_type": "code",
   "execution_count": 29,
   "id": "6ec33660-e64d-4dfd-9019-bb0902f04a64",
   "metadata": {},
   "outputs": [
    {
     "data": {
      "text/plain": [
       "'foo'"
      ]
     },
     "execution_count": 29,
     "metadata": {},
     "output_type": "execute_result"
    }
   ],
   "source": [
    "(s1, s2, s3, s4) = ('foo', 'bar', 'baz', 'qux')\n",
    "s1"
   ]
  },
  {
   "cell_type": "markdown",
   "id": "e66d4a6e-9d29-4034-9ae0-3386e35e8bbe",
   "metadata": {},
   "source": [
    "In assignments like this and a small handful of other situations, Python allows the parentheses that are usually used for denoting a tuple to be left out:\n",
    "\n"
   ]
  },
  {
   "cell_type": "code",
   "execution_count": 32,
   "id": "b15f5a85-331b-4f62-8548-8769f591ebf3",
   "metadata": {},
   "outputs": [
    {
     "name": "stdout",
     "output_type": "stream",
     "text": [
      "(1, 2, 3)\n",
      "<class 'tuple'>\n"
     ]
    }
   ],
   "source": [
    "t = 1, 2, 3\n",
    "print(t)\n",
    "print(type(t))"
   ]
  },
  {
   "cell_type": "code",
   "execution_count": 34,
   "id": "830ed458-62f5-4223-b9b2-305ec36c04d4",
   "metadata": {},
   "outputs": [
    {
     "data": {
      "text/plain": [
       "4"
      ]
     },
     "execution_count": 34,
     "metadata": {},
     "output_type": "execute_result"
    }
   ],
   "source": [
    "x1, x2, x3 = 4, 5, 6\n",
    "x1"
   ]
  },
  {
   "cell_type": "code",
   "execution_count": 36,
   "id": "410c5b30-8bd0-48d0-b46e-176aabdb4da9",
   "metadata": {},
   "outputs": [
    {
     "data": {
      "text/plain": [
       "tuple"
      ]
     },
     "execution_count": 36,
     "metadata": {},
     "output_type": "execute_result"
    }
   ],
   "source": [
    "t = 2,\n",
    "type(t)"
   ]
  },
  {
   "cell_type": "markdown",
   "id": "c9dafdfa-494e-4e8b-8790-784541f2c085",
   "metadata": {},
   "source": [
    "Tuple assignment allows for a curious bit of idiomatic Python. **Frequently when programming, you have two variables whose values you need to swap**. In most programming languages, it is necessary to store one of the values in a temporary variable while the swap occurs like this:"
   ]
  },
  {
   "cell_type": "code",
   "execution_count": 40,
   "id": "5cfaf86b-14ca-4c2f-b267-b1fa9bd1f850",
   "metadata": {},
   "outputs": [
    {
     "name": "stdout",
     "output_type": "stream",
     "text": [
      "ahadi\n",
      "rasool\n"
     ]
    }
   ],
   "source": [
    "a = \"rasool\"\n",
    "b= \"ahadi\"\n",
    "a,b = b,a\n",
    "print(a)\n",
    "print(b)"
   ]
  },
  {
   "cell_type": "markdown",
   "id": "26e391b7-4c8f-4da5-a96c-0b76d1de552f",
   "metadata": {},
   "source": [
    "## usefull build in functions for list"
   ]
  },
  {
   "cell_type": "markdown",
   "id": "59c30cf2-e357-47b5-9098-8d138639dd35",
   "metadata": {},
   "source": [
    "**Functional programming** typically uses lists, arrays, and other iterables to represent the data along with a set of functions that operate on that data and transform it. When it comes to processing data with a functional style, there are at least three commonly used techniques:\n",
    "\n",
    "**1-Mapping :** consists of applying a transformation function to an iterable to produce a new iterable. Items in the new iterable are produced by calling the transformation function on each item in the original iterable.\n",
    "\n",
    "**2-Filtering** consists of applying a predicate or Boolean-valued function to an iterable to generate a new iterable. Items in the new iterable are produced by filtering out any items in the original iterable that make the predicate function return false.\n",
    "\n",
    "**3-Reducing** consists of applying a reduction function to an iterable to produce a single cumulative value."
   ]
  },
  {
   "cell_type": "markdown",
   "id": "4a7cffa3-28b0-4318-8698-86ce7cb67935",
   "metadata": {},
   "source": [
    "* #### map "
   ]
  },
  {
   "cell_type": "markdown",
   "id": "68eb7d72-4dab-4daf-82ae-2753cbabdf2c",
   "metadata": {},
   "source": [
    "Python’s ``map()`` is a built-in function that allows you to process and transform all the items in an iterable without using an explicit for loop, a technique commonly known as mapping."
   ]
  },
  {
   "cell_type": "markdown",
   "id": "2781702c-9b29-499f-93f0-06b231b4071c",
   "metadata": {},
   "source": [
    " map() is useful when you need to apply a **transformation function** to each item in an iterable and transform them into a new iterable. map() is one of the tools that support a functional programming style in Python."
   ]
  },
  {
   "cell_type": "markdown",
   "id": "8d343067-bf3d-4594-9184-1fbaddddd250",
   "metadata": {},
   "source": [
    "map() takes a function object and an iterable (or multiple iterables) as arguments and returns an iterator that yields transformed items on demand. "
   ]
  },
  {
   "cell_type": "markdown",
   "id": "d2bae80e-65b0-4104-a46f-44b6a8a6ef9e",
   "metadata": {},
   "source": [
    "```python\n",
    "map(function, iterable[, iterable1, iterable2,..., iterableN])\n",
    "```"
   ]
  },
  {
   "cell_type": "markdown",
   "id": "475a848e-24c0-46b3-9ba4-ce538acca062",
   "metadata": {},
   "source": [
    "> **Note:** The first argument to map() is a function object, which means that you need to pass a function without calling it. That is, **without using a pair of parentheses.**"
   ]
  },
  {
   "cell_type": "markdown",
   "id": "d15e8d48-bce4-4888-983c-f885964d2eef",
   "metadata": {},
   "source": [
    "The operation that map() performs is commonly known as a **mapping** because it maps every item in an input iterable to a new item in a resulting iterable. To do that, map() applies a transformation function to all the items in the input iterable."
   ]
  },
  {
   "cell_type": "code",
   "execution_count": 14,
   "id": "cb008630-5661-4078-98e6-134748f1a6d9",
   "metadata": {},
   "outputs": [
    {
     "name": "stdout",
     "output_type": "stream",
     "text": [
      "<class 'map'>\n"
     ]
    },
    {
     "data": {
      "text/plain": [
       "[1, 2, 3, 4, 5]"
      ]
     },
     "execution_count": 14,
     "metadata": {},
     "output_type": "execute_result"
    }
   ],
   "source": [
    "numbers = [\"1\", \"2\", \"3\", \"4\", \"5\"]\n",
    "int_numbers = map(int, numbers)\n",
    "print(type(int_numbers))\n",
    "list(int_numbers)"
   ]
  },
  {
   "cell_type": "code",
   "execution_count": 18,
   "id": "fabc327d-bb1e-4359-b3de-462f2e566d25",
   "metadata": {},
   "outputs": [
    {
     "data": {
      "text/plain": [
       "1"
      ]
     },
     "execution_count": 18,
     "metadata": {},
     "output_type": "execute_result"
    }
   ],
   "source": [
    "numbers = [-1, -2, -3, -4]\n",
    "abs_value = list(map(abs,numbers))\n",
    "abs_value[0]"
   ]
  },
  {
   "cell_type": "code",
   "execution_count": 19,
   "id": "22f180d0-33ef-419b-9e65-03c425caa7a8",
   "metadata": {},
   "outputs": [
    {
     "data": {
      "text/plain": [
       "[1, 32, 729]"
      ]
     },
     "execution_count": 19,
     "metadata": {},
     "output_type": "execute_result"
    }
   ],
   "source": [
    "first_it = [1, 2, 3]\n",
    "second_it = [4, 5, 6, 7]\n",
    "\n",
    "list(map(pow, first_it, second_it))"
   ]
  },
  {
   "cell_type": "markdown",
   "id": "e870b2d9-da6f-4e1e-a720-bf4d5099a9c7",
   "metadata": {},
   "source": [
    "* #### filter"
   ]
  },
  {
   "cell_type": "markdown",
   "id": "9edcb422-1c50-45c6-818f-8ce649abcc94",
   "metadata": {},
   "source": [
    "Python’s filter() is a built-in function that allows you to process an iterable and extract those items that satisfy a given condition. This process is commonly known as a **filtering** operation. With filter(), you can apply a filtering function to an iterable and produce a new iterable with the items that satisfy the condition at hand. "
   ]
  },
  {
   "cell_type": "code",
   "execution_count": 25,
   "id": "baab50df-a3bc-45a6-a94a-d5867c3dd4fd",
   "metadata": {},
   "outputs": [
    {
     "data": {
      "text/plain": [
       "[1, 2]"
      ]
     },
     "execution_count": 25,
     "metadata": {},
     "output_type": "execute_result"
    }
   ],
   "source": [
    "numbers = [-2, -1, 0, 1, 2]\n",
    "def is_positive(n):\n",
    "     return n > 0\n",
    "list(filter(is_positive, numbers))"
   ]
  },
  {
   "cell_type": "code",
   "execution_count": 28,
   "id": "6adc403c-b7f0-45c9-bd08-847c002fd4c5",
   "metadata": {},
   "outputs": [
    {
     "data": {
      "text/plain": [
       "[1, 4, 5, 8]"
      ]
     },
     "execution_count": 28,
     "metadata": {},
     "output_type": "execute_result"
    }
   ],
   "source": [
    "objects = [0, 1, [], 4, 5, \"\", None, 8]\n",
    "list(filter(None, objects))"
   ]
  },
  {
   "cell_type": "markdown",
   "id": "7e1b83f1-014d-43bf-9714-4c654a4e4920",
   "metadata": {},
   "source": [
    "* #### reduce"
   ]
  },
  {
   "cell_type": "markdown",
   "id": "9f0a9400-6165-4d3b-af5f-8b22dd3105b4",
   "metadata": {},
   "source": [
    "Python’s ``reduce()`` implements a mathematical technique commonly known as folding or **reduction**. "
   ]
  },
  {
   "cell_type": "markdown",
   "id": "0c196dc7-0f63-4521-9b9e-7dcaa4600197",
   "metadata": {},
   "source": [
    "You’re doing a fold or reduction when you reduce a list of items to a single cumulative value. Python’s reduce() operates on any iterable—not just lists—and performs the following steps:"
   ]
  },
  {
   "cell_type": "markdown",
   "id": "c92f588a-9f62-4bb7-8e5e-3c28417a2184",
   "metadata": {},
   "source": [
    "**Apply** a function (or callable) to the first two items in an iterable and generate a partial result.\n",
    "\n",
    "**Use** that partial result, together with the third item in the iterable, to generate another partial result.\n",
    "\n",
    "**Repeat** the process until the iterable is exhausted and then return a single cumulative value."
   ]
  },
  {
   "cell_type": "markdown",
   "id": "85172026-9a04-4293-9682-24d8d2955d8b",
   "metadata": {},
   "source": [
    "The idea behind Python’s reduce() is to take an existing function, apply it cumulatively to all the items in an iterable, and generate a single final value. In general, Python’s reduce() is handy for processing iterables without writing explicit for loops. "
   ]
  },
  {
   "cell_type": "code",
   "execution_count": 1,
   "id": "eb4011ab-fd4b-4ddd-972b-44053e88afb2",
   "metadata": {},
   "outputs": [
    {
     "name": "stdout",
     "output_type": "stream",
     "text": [
      "0 + 1 = 1\n",
      "1 + 2 = 3\n",
      "3 + 3 = 6\n",
      "6 + 4 = 10\n"
     ]
    },
    {
     "data": {
      "text/plain": [
       "10"
      ]
     },
     "execution_count": 1,
     "metadata": {},
     "output_type": "execute_result"
    }
   ],
   "source": [
    "from functools import reduce\n",
    "\n",
    "def my_add(a, b):\n",
    "    result = a + b\n",
    "    print(f\"{a} + {b} = {result}\")\n",
    "    return result\n",
    "numbers = [0, 1, 2, 3, 4]\n",
    "reduce(my_add, numbers)"
   ]
  }
 ],
 "metadata": {
  "kernelspec": {
   "display_name": "Python 3 (ipykernel)",
   "language": "python",
   "name": "python3"
  },
  "language_info": {
   "codemirror_mode": {
    "name": "ipython",
    "version": 3
   },
   "file_extension": ".py",
   "mimetype": "text/x-python",
   "name": "python",
   "nbconvert_exporter": "python",
   "pygments_lexer": "ipython3",
   "version": "3.9.12"
  }
 },
 "nbformat": 4,
 "nbformat_minor": 5
}
