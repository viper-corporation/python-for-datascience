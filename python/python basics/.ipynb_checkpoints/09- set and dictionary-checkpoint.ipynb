{
 "cells": [
  {
   "cell_type": "markdown",
   "id": "f5fb311b-a0ce-40ef-90bf-2d93e1e53dfc",
   "metadata": {},
   "source": [
    "# Set And Dictionaries In Python"
   ]
  },
  {
   "cell_type": "markdown",
   "id": "a177c496-b5f9-407e-8292-07bab22a9aa3",
   "metadata": {},
   "source": [
    "* [Set](#Set)\n",
    "    * [Defining a Set](#Defining-a-Set)\n",
    "    * [Set Size and Membership](#Set-Size-and-Membership)\n",
    "    * [Operating on a Set](#Operating-on-a-Set)\n",
    "    * [Modifying a Set](#Modifying-a-Set)\n",
    "* [Dictionary](#Dictionary)\n",
    "    * [Defining a Dictionary](#Defining-a-Dictionary)\n",
    "    * [Accessing Dictionary Values](#Accessing-Dictionary-Values)\n",
    "    * [Operators and Built-in Functions](#Operators-and-Built-in-Functions)\n",
    "    * [Built-in Dictionary Methods](#Built-in-Dictionary-Methods)"
   ]
  },
  {
   "cell_type": "markdown",
   "id": "133cb323-6fbe-41f6-b20e-510af03377ec",
   "metadata": {
    "tags": []
   },
   "source": [
    "## Set"
   ]
  },
  {
   "cell_type": "markdown",
   "id": "af9cbaba-e177-4ae0-a862-b0ec624cf0b8",
   "metadata": {},
   "source": [
    "In mathematics, a rigorous definition of a set can be abstract and difficult to grasp. Practically though, a set can be thought of simply as a well-defined **collection of distinct objects, typically called elements or members.**"
   ]
  },
  {
   "cell_type": "markdown",
   "id": "303c57c0-9d14-48f0-8068-53b634e7e9d9",
   "metadata": {},
   "source": [
    " Sets are distinguished from other object types by the unique operations that can be performed on them."
   ]
  },
  {
   "cell_type": "markdown",
   "id": "fe590b36-c896-4665-acd0-40f890ff777f",
   "metadata": {},
   "source": [
    "## Defining a Set"
   ]
  },
  {
   "cell_type": "markdown",
   "id": "8778f012-26c8-41e3-ae07-9343770815d3",
   "metadata": {},
   "source": [
    "Python’s built-in set type has the following characteristics:\n",
    "\n",
    "* Sets are unordered.\n",
    "* Set elements are unique. Duplicate elements are not allowed.\n",
    "* A set itself may be modified, but **the elements contained in the set must be of an immutable type.**"
   ]
  },
  {
   "cell_type": "markdown",
   "id": "568b6e47-59f0-4817-832d-2838fb69d96d",
   "metadata": {},
   "source": [
    "```python\n",
    "x = set(<iter>)\n",
    "```"
   ]
  },
  {
   "cell_type": "code",
   "execution_count": 8,
   "id": "f6c5ebde-23db-40c5-8bb8-34b5f40a0c16",
   "metadata": {},
   "outputs": [
    {
     "data": {
      "text/plain": [
       "{'bar', 'baz', 'foo', 'qux'}"
      ]
     },
     "execution_count": 8,
     "metadata": {},
     "output_type": "execute_result"
    }
   ],
   "source": [
    "x = set(['foo', 'bar', 'baz', 'foo', 'qux'])\n",
    "x"
   ]
  },
  {
   "cell_type": "markdown",
   "id": "d3ce275e-de40-457d-aa3d-a8e4f73a00ae",
   "metadata": {},
   "source": [
    "```python\n",
    "x = {<obj>, <obj>, ..., <obj>}\n",
    "```"
   ]
  },
  {
   "cell_type": "code",
   "execution_count": 11,
   "id": "1159fd07-f7d0-4084-bc18-caaf7eccfcb8",
   "metadata": {},
   "outputs": [
    {
     "name": "stdout",
     "output_type": "stream",
     "text": [
      "{'baz', 'bar', 'qux', 'foo'}\n",
      "<class 'set'>\n"
     ]
    }
   ],
   "source": [
    "x = {'foo', 'bar', 'baz', 'foo', 'qux'}\n",
    "print(x)\n",
    "print(type(x))"
   ]
  },
  {
   "cell_type": "code",
   "execution_count": 12,
   "id": "051c318a-09b4-4efc-b108-e37a92b60597",
   "metadata": {},
   "outputs": [
    {
     "data": {
      "text/plain": [
       "{3.14159, 42, None, 'foo'}"
      ]
     },
     "execution_count": 12,
     "metadata": {},
     "output_type": "execute_result"
    }
   ],
   "source": [
    "x = {42, 'foo', 3.14159, None}\n",
    "x"
   ]
  },
  {
   "cell_type": "markdown",
   "id": "f69a01f3-e646-431a-970c-d3bea28a57e3",
   "metadata": {},
   "source": [
    "> Don’t forget that set elements **must be immutable.** For example, a tuple may be included in a set but list can not:"
   ]
  },
  {
   "cell_type": "code",
   "execution_count": 23,
   "id": "2a3f14f5-caea-4ba2-9f12-cd037d80fbfb",
   "metadata": {},
   "outputs": [
    {
     "data": {
      "text/plain": [
       "{(1, 2, 3), 3.14159, 42, 'foo'}"
      ]
     },
     "execution_count": 23,
     "metadata": {},
     "output_type": "execute_result"
    }
   ],
   "source": [
    "x = {42, 'foo', (1, 2, 3), 3.14159}\n",
    "x"
   ]
  },
  {
   "cell_type": "code",
   "execution_count": 25,
   "id": "61a16b64-e19a-4c71-96a3-c0793221134d",
   "metadata": {},
   "outputs": [
    {
     "ename": "TypeError",
     "evalue": "unhashable type: 'list'",
     "output_type": "error",
     "traceback": [
      "\u001b[1;31m---------------------------------------------------------------------------\u001b[0m",
      "\u001b[1;31mTypeError\u001b[0m                                 Traceback (most recent call last)",
      "Input \u001b[1;32mIn [25]\u001b[0m, in \u001b[0;36m<cell line: 2>\u001b[1;34m()\u001b[0m\n\u001b[0;32m      1\u001b[0m a \u001b[38;5;241m=\u001b[39m [\u001b[38;5;241m1\u001b[39m, \u001b[38;5;241m2\u001b[39m, \u001b[38;5;241m3\u001b[39m]\n\u001b[1;32m----> 2\u001b[0m {a}\n",
      "\u001b[1;31mTypeError\u001b[0m: unhashable type: 'list'"
     ]
    }
   ],
   "source": [
    "a = [1, 2, 3]\n",
    "{a}"
   ]
  },
  {
   "cell_type": "markdown",
   "id": "2438c32f-9404-480a-9d8b-ab113a231422",
   "metadata": {},
   "source": [
    "## Set Size and Membership"
   ]
  },
  {
   "cell_type": "code",
   "execution_count": 27,
   "id": "63afbdf9-47a4-45fc-bef0-48075a2c72e7",
   "metadata": {},
   "outputs": [],
   "source": [
    "x = {'foo', 'bar', 'baz'}"
   ]
  },
  {
   "cell_type": "code",
   "execution_count": 28,
   "id": "8cbb9378-26f9-44e1-9da6-c900eefad8dd",
   "metadata": {},
   "outputs": [
    {
     "data": {
      "text/plain": [
       "3"
      ]
     },
     "execution_count": 28,
     "metadata": {},
     "output_type": "execute_result"
    }
   ],
   "source": [
    "len(x)"
   ]
  },
  {
   "cell_type": "code",
   "execution_count": 29,
   "id": "e30c6668-030a-4226-a542-ba52dc3f42df",
   "metadata": {},
   "outputs": [
    {
     "data": {
      "text/plain": [
       "True"
      ]
     },
     "execution_count": 29,
     "metadata": {},
     "output_type": "execute_result"
    }
   ],
   "source": [
    "\"bar\" in x"
   ]
  },
  {
   "cell_type": "markdown",
   "id": "af7a2db6-8bcd-4e40-814e-594e4f10ca92",
   "metadata": {},
   "source": [
    "## Operating on a Set"
   ]
  },
  {
   "cell_type": "markdown",
   "id": "7dab6899-29a6-425d-8945-46efef45fcc0",
   "metadata": {},
   "source": [
    "Many of the operations that can be used for Python’s other composite data types don’t make sense for sets. For example, **sets can’t be indexed or sliced.**"
   ]
  },
  {
   "cell_type": "markdown",
   "id": "825abb6f-2e23-48b9-9f61-6f6c138edc77",
   "metadata": {},
   "source": [
    "* union "
   ]
  },
  {
   "cell_type": "code",
   "execution_count": 34,
   "id": "f6b6affc-a8db-4c7f-a6ea-14fec7489939",
   "metadata": {},
   "outputs": [
    {
     "name": "stdout",
     "output_type": "stream",
     "text": [
      "{'quux', 'baz', 'foo', 'bar', 'qux'}\n",
      "{'quux', 'baz', 'foo', 'bar', 'qux'}\n"
     ]
    }
   ],
   "source": [
    "x1 = {'foo', 'bar', 'baz'}\n",
    "x2 = {'baz', 'qux', 'quux'}\n",
    "print(x1 | x2)\n",
    "print(x1.union(x2))"
   ]
  },
  {
   "attachments": {
    "0248895a-df4e-4e51-b182-8608cd984052.PNG": {
     "image/png": "[encoded data removed]"
    }
   },
   "cell_type": "markdown",
   "id": "a2360afa-23a3-43ad-a5b7-aecd392dfe67",
   "metadata": {},
   "source": [
    "![set01.PNG](attachment:0248895a-df4e-4e51-b182-8608cd984052.PNG)"
   ]
  },
  {
   "cell_type": "markdown",
   "id": "91252726-7f70-43bf-bd67-9549265ac084",
   "metadata": {},
   "source": [
    "> **note:**  The ``.union()`` method, will take any iterable as an argument"
   ]
  },
  {
   "cell_type": "code",
   "execution_count": 36,
   "id": "32a45b3e-5f69-4c27-9b76-1e99126e4183",
   "metadata": {},
   "outputs": [
    {
     "ename": "TypeError",
     "evalue": "unsupported operand type(s) for |: 'set' and 'tuple'",
     "output_type": "error",
     "traceback": [
      "\u001b[1;31m---------------------------------------------------------------------------\u001b[0m",
      "\u001b[1;31mTypeError\u001b[0m                                 Traceback (most recent call last)",
      "Input \u001b[1;32mIn [36]\u001b[0m, in \u001b[0;36m<cell line: 1>\u001b[1;34m()\u001b[0m\n\u001b[1;32m----> 1\u001b[0m \u001b[43mx1\u001b[49m\u001b[43m \u001b[49m\u001b[38;5;241;43m|\u001b[39;49m\u001b[43m \u001b[49m\u001b[43m(\u001b[49m\u001b[38;5;124;43m'\u001b[39;49m\u001b[38;5;124;43mbaz\u001b[39;49m\u001b[38;5;124;43m'\u001b[39;49m\u001b[43m,\u001b[49m\u001b[43m \u001b[49m\u001b[38;5;124;43m'\u001b[39;49m\u001b[38;5;124;43mqux\u001b[39;49m\u001b[38;5;124;43m'\u001b[39;49m\u001b[43m,\u001b[49m\u001b[43m \u001b[49m\u001b[38;5;124;43m'\u001b[39;49m\u001b[38;5;124;43mquux\u001b[39;49m\u001b[38;5;124;43m'\u001b[39;49m\u001b[43m)\u001b[49m\n",
      "\u001b[1;31mTypeError\u001b[0m: unsupported operand type(s) for |: 'set' and 'tuple'"
     ]
    }
   ],
   "source": [
    "x1 | ('baz', 'qux', 'quux')"
   ]
  },
  {
   "cell_type": "code",
   "execution_count": 37,
   "id": "42d3d0f4-3718-4380-9aa4-b75766adea6d",
   "metadata": {},
   "outputs": [
    {
     "data": {
      "text/plain": [
       "{'bar', 'baz', 'foo', 'quux', 'qux'}"
      ]
     },
     "execution_count": 37,
     "metadata": {},
     "output_type": "execute_result"
    }
   ],
   "source": [
    "x1.union(('baz', 'qux', 'quux'))"
   ]
  },
  {
   "cell_type": "markdown",
   "id": "a180b041-efb3-42f4-ab06-f62d5355e901",
   "metadata": {},
   "source": [
    "* intersection"
   ]
  },
  {
   "cell_type": "code",
   "execution_count": 39,
   "id": "6924b7bf-f3c7-4cf2-974e-676943f9f802",
   "metadata": {},
   "outputs": [
    {
     "name": "stdout",
     "output_type": "stream",
     "text": [
      "{'baz'}\n",
      "{'baz'}\n"
     ]
    }
   ],
   "source": [
    "x1 = {'foo', 'bar', 'baz'}\n",
    "x2 = {'baz', 'qux', 'quux'}\n",
    "print(x1.intersection(x2))\n",
    "print(x1&x2)"
   ]
  },
  {
   "attachments": {
    "7c843384-cf30-435e-9d13-5477e81df2c3.PNG": {
     "image/png": "[encoded data removed]"
    }
   },
   "cell_type": "markdown",
   "id": "40dc8947-d118-48cd-aa56-d2cc7f9553a1",
   "metadata": {},
   "source": [
    "![set02.PNG](attachment:7c843384-cf30-435e-9d13-5477e81df2c3.PNG)"
   ]
  },
  {
   "cell_type": "markdown",
   "id": "a6015979-33da-4c18-b947-dac8c2aae8c7",
   "metadata": {},
   "source": [
    "* difference"
   ]
  },
  {
   "cell_type": "code",
   "execution_count": 42,
   "id": "0f40236a-9aba-490d-8329-2016461d902f",
   "metadata": {},
   "outputs": [
    {
     "name": "stdout",
     "output_type": "stream",
     "text": [
      "{'bar', 'foo'}\n",
      "{'bar', 'foo'}\n"
     ]
    }
   ],
   "source": [
    "x1 = {'foo', 'bar', 'baz'}\n",
    "x2 = {'baz', 'qux', 'quux'}\n",
    "print(x1.difference(x2))\n",
    "print(x1 - x2)"
   ]
  },
  {
   "attachments": {
    "64f6d632-d71f-4e68-8a86-842a3b1c31c1.PNG": {
     "image/png": "[encoded data removed]"
    }
   },
   "cell_type": "markdown",
   "id": "dfe57185-8520-4f80-a364-a09fddf34cfd",
   "metadata": {},
   "source": [
    "![set03.PNG](attachment:64f6d632-d71f-4e68-8a86-842a3b1c31c1.PNG)"
   ]
  },
  {
   "cell_type": "markdown",
   "id": "0840d43a-bdcc-4203-a6f3-72f3023583d0",
   "metadata": {},
   "source": [
    "* symmetric difference"
   ]
  },
  {
   "cell_type": "code",
   "execution_count": 44,
   "id": "79cfa6a2-52b2-4daa-a4c0-5fd603042cbc",
   "metadata": {},
   "outputs": [
    {
     "name": "stdout",
     "output_type": "stream",
     "text": [
      "{'quux', 'qux', 'foo', 'bar'}\n",
      "{'quux', 'qux', 'foo', 'bar'}\n"
     ]
    }
   ],
   "source": [
    "x1 = {'foo', 'bar', 'baz'}\n",
    "x2 = {'baz', 'qux', 'quux'}\n",
    "print(x1.symmetric_difference(x2))\n",
    "print(x1^x2)"
   ]
  },
  {
   "attachments": {
    "4af4943c-c690-4477-b134-d39e22bb7de5.PNG": {
     "image/png": "[encoded data removed]"
    }
   },
   "cell_type": "markdown",
   "id": "b51cc407-701c-43e8-be44-117d1486d93f",
   "metadata": {},
   "source": [
    "![set04.PNG](attachment:4af4943c-c690-4477-b134-d39e22bb7de5.PNG)"
   ]
  },
  {
   "cell_type": "markdown",
   "id": "948f53a5-89dd-4cb1-9afe-a3a87703d7c4",
   "metadata": {},
   "source": [
    "* isdisjoint\n",
    "> Determines whether or not two sets have any elements in common."
   ]
  },
  {
   "cell_type": "code",
   "execution_count": 51,
   "id": "e221c9ed-63c0-4578-93cd-cb5f3e1ed165",
   "metadata": {},
   "outputs": [
    {
     "data": {
      "text/plain": [
       "False"
      ]
     },
     "execution_count": 51,
     "metadata": {},
     "output_type": "execute_result"
    }
   ],
   "source": [
    "x1 = {'foo', 'bar', 'baz'}\n",
    "x2 = {'baz', 'qux', 'quux'}\n",
    "x1.isdisjoint(x2)"
   ]
  },
  {
   "cell_type": "markdown",
   "id": "acf44d9f-bf98-4007-8fb4-80a76f8ef23d",
   "metadata": {},
   "source": [
    "* issubset"
   ]
  },
  {
   "cell_type": "code",
   "execution_count": 57,
   "id": "94ef60c4-5ae3-4add-a5e7-9711e8f112d1",
   "metadata": {},
   "outputs": [
    {
     "name": "stdout",
     "output_type": "stream",
     "text": [
      "True\n",
      "True\n"
     ]
    }
   ],
   "source": [
    "x1 = {'foo', 'bar', 'baz'}\n",
    "x2 = {'foo', 'bar', 'baz', 'qux', 'quux'}\n",
    "print(x1.issubset(x2))\n",
    "print(x1 <= x2)"
   ]
  },
  {
   "cell_type": "markdown",
   "id": "6ceee5f8-026e-4ae6-9749-a64e07954f16",
   "metadata": {},
   "source": [
    "* x1 < x2"
   ]
  },
  {
   "cell_type": "markdown",
   "id": "f8845ca3-e265-4d7d-a9ab-58de618daaec",
   "metadata": {},
   "source": [
    "> Determines whether one set is a proper subset of the other."
   ]
  },
  {
   "cell_type": "code",
   "execution_count": null,
   "id": "055bf913-c3f0-42d4-bfc5-1ed3fc5cb2cf",
   "metadata": {},
   "outputs": [
    {
     "data": {
      "text/plain": [
       "False"
      ]
     },
     "execution_count": 1,
     "metadata": {},
     "output_type": "execute_result"
    }
   ],
   "source": [
    "x1 = {'foo', 'bar'}\n",
    "x2 = {'foo', 'bar', 'baz'}\n",
    "x1<x2"
   ]
  },
  {
   "cell_type": "markdown",
   "id": "a1c746fe-332b-477c-8105-a7e2e88cb81e",
   "metadata": {},
   "source": [
    "> **Note:** The < operator is the only way to test whether a set is a proper subset. There is no corresponding method."
   ]
  },
  {
   "cell_type": "markdown",
   "id": "976ffb2f-87c5-46ce-b2c7-cf8881ebf8bb",
   "metadata": {},
   "source": [
    "## Modifying a Set"
   ]
  },
  {
   "cell_type": "markdown",
   "id": "8a717055-4e2b-410c-8e15-71e5cfd59d93",
   "metadata": {},
   "source": [
    "Although the elements contained in a set must be of immutable type, sets themselves can be modified."
   ]
  },
  {
   "cell_type": "code",
   "execution_count": 3,
   "id": "983343d7-01cf-4f9a-bb86-af3b8a68bf41",
   "metadata": {},
   "outputs": [
    {
     "ename": "TypeError",
     "evalue": "'int' object is not iterable",
     "output_type": "error",
     "traceback": [
      "\u001b[1;31m---------------------------------------------------------------------------\u001b[0m",
      "\u001b[1;31mTypeError\u001b[0m                                 Traceback (most recent call last)",
      "Input \u001b[1;32mIn [5]\u001b[0m, in \u001b[0;36m<cell line: 2>\u001b[1;34m()\u001b[0m\n\u001b[0;32m      1\u001b[0m x1 \u001b[38;5;241m=\u001b[39m {\u001b[38;5;124m'\u001b[39m\u001b[38;5;124mfoo\u001b[39m\u001b[38;5;124m'\u001b[39m, \u001b[38;5;124m'\u001b[39m\u001b[38;5;124mbar\u001b[39m\u001b[38;5;124m'\u001b[39m, \u001b[38;5;124m'\u001b[39m\u001b[38;5;124mbaz\u001b[39m\u001b[38;5;124m'\u001b[39m}\n\u001b[1;32m----> 2\u001b[0m \u001b[43mx1\u001b[49m\u001b[38;5;241;43m.\u001b[39;49m\u001b[43mupdate\u001b[49m\u001b[43m(\u001b[49m\u001b[38;5;241;43m1\u001b[39;49m\u001b[43m)\u001b[49m\n\u001b[0;32m      3\u001b[0m \u001b[38;5;28mprint\u001b[39m(x1)\n",
      "\u001b[1;31mTypeError\u001b[0m: 'int' object is not iterable"
     ]
    }
   ],
   "source": [
    "x1 = {'foo', 'bar', 'baz'}\n",
    "x1.update(['corge', 'garply'])\n",
    "print(x1)"
   ]
  },
  {
   "cell_type": "code",
   "execution_count": 76,
   "id": "90532a0d-4a67-426a-bb14-d0a4f9d33bd6",
   "metadata": {},
   "outputs": [
    {
     "name": "stdout",
     "output_type": "stream",
     "text": [
      "{'baz', 'foo'}\n",
      "{'baz'}\n"
     ]
    }
   ],
   "source": [
    "x1 = {'foo', 'bar', 'baz'}\n",
    "x2 = {'foo', 'baz', 'qux'}\n",
    "x1 &= x2\n",
    "print(x1)\n",
    "x1.intersection_update(['baz', 'qux'])\n",
    "print(x1)"
   ]
  },
  {
   "cell_type": "markdown",
   "id": "a411cf1a-7129-4752-9048-2179f2de5fbc",
   "metadata": {},
   "source": [
    "> and so on every operator you see in previuos section can be used for assigment and modifying too but there is some more methods :"
   ]
  },
  {
   "cell_type": "markdown",
   "id": "6a577038-b3bb-45d4-8e70-fe96d4640d72",
   "metadata": {},
   "source": [
    "```python\n",
    "x.add(<elem>)\n",
    "```"
   ]
  },
  {
   "cell_type": "code",
   "execution_count": 6,
   "id": "cc12fea3-ff13-4005-ad94-c58d41b6e135",
   "metadata": {},
   "outputs": [
    {
     "data": {
      "text/plain": [
       "{'bar', 'baz', 'foo', 'qux'}"
      ]
     },
     "execution_count": 6,
     "metadata": {},
     "output_type": "execute_result"
    }
   ],
   "source": [
    "x = {'foo', 'bar', 'baz'}\n",
    "x.add('qux')\n",
    "x"
   ]
  },
  {
   "cell_type": "markdown",
   "id": "3be90374-ed76-46d5-8c38-96f91322fead",
   "metadata": {},
   "source": [
    "```python\n",
    "x.remove(<elem>)\n",
    "```"
   ]
  },
  {
   "cell_type": "code",
   "execution_count": 82,
   "id": "2037e9f9-b3b4-4210-86e3-dab5b46f7da1",
   "metadata": {},
   "outputs": [
    {
     "data": {
      "text/plain": [
       "{'bar', 'foo'}"
      ]
     },
     "execution_count": 82,
     "metadata": {},
     "output_type": "execute_result"
    }
   ],
   "source": [
    "x = {'foo', 'bar', 'baz'}\n",
    "x.remove('baz')\n",
    "x"
   ]
  },
  {
   "cell_type": "markdown",
   "id": "da6ac30a-ae3f-4b0f-b338-620b7221e93b",
   "metadata": {},
   "source": [
    "```python\n",
    "x.discard(<elem>)\n",
    "```"
   ]
  },
  {
   "cell_type": "code",
   "execution_count": 84,
   "id": "e4272318-cfce-4812-8fd4-16b8e99a30dd",
   "metadata": {},
   "outputs": [
    {
     "data": {
      "text/plain": [
       "{'bar', 'foo'}"
      ]
     },
     "execution_count": 84,
     "metadata": {},
     "output_type": "execute_result"
    }
   ],
   "source": [
    "x = {'foo', 'bar', 'baz'}\n",
    "x.discard('baz')\n",
    "x"
   ]
  },
  {
   "cell_type": "markdown",
   "id": "aa740f4f-5b30-4f2c-8946-fb9e008e5a58",
   "metadata": {},
   "source": [
    "```python\n",
    "x.pop()\n",
    "```"
   ]
  },
  {
   "cell_type": "code",
   "execution_count": 86,
   "id": "61c8d465-13ce-45cd-aa61-2e272f02e455",
   "metadata": {},
   "outputs": [
    {
     "name": "stdout",
     "output_type": "stream",
     "text": [
      "baz\n",
      "{'bar', 'foo'}\n"
     ]
    }
   ],
   "source": [
    "x = {'foo', 'bar', 'baz'}\n",
    "\n",
    "print(x.pop())\n",
    "print(x)"
   ]
  },
  {
   "cell_type": "markdown",
   "id": "08939c84-b564-4c47-bbc3-580a00d03e04",
   "metadata": {},
   "source": [
    "```python\n",
    "x.clear()\n",
    "```"
   ]
  },
  {
   "cell_type": "code",
   "execution_count": 11,
   "id": "71e87abb-a90c-4da4-90cb-c414210b699e",
   "metadata": {},
   "outputs": [
    {
     "data": {
      "text/plain": [
       "\u001b[1;31mDocstring:\u001b[0m\n",
       "Remove and return an arbitrary set element.\n",
       "Raises KeyError if the set is empty.\n",
       "\u001b[1;31mType:\u001b[0m      builtin_function_or_method\n"
      ]
     },
     "metadata": {},
     "output_type": "display_data"
    }
   ],
   "source": [
    "x = {'foo', 'bar', 'baz'}"
   ]
  },
  {
   "cell_type": "markdown",
   "id": "c7bec1b0-2bbc-4465-ba10-f1a5cf93669a",
   "metadata": {},
   "source": [
    "## Dictionary"
   ]
  },
  {
   "cell_type": "markdown",
   "id": "76a334b5-3fee-4cb7-a8ef-62bab55119a7",
   "metadata": {},
   "source": [
    "Python provides another composite data type called a **dictionary** , which is similar to a list in that it is a collection of objects."
   ]
  },
  {
   "cell_type": "markdown",
   "id": "a094fffd-708f-4996-8ab3-d50952bafc8a",
   "metadata": {},
   "source": [
    "Dictionaries and lists share the following characteristics:\n",
    "\n",
    "* Both are mutable.\n",
    "* Both are dynamic. They can grow and shrink as needed.\n",
    "* Both can be nested. A list can contain another list. A dictionary can contain another dictionary. A dictionary can also contain a list, and vice versa."
   ]
  },
  {
   "cell_type": "markdown",
   "id": "6b96f6f2-7bcc-43d3-af81-dc1ca395585b",
   "metadata": {},
   "source": [
    "Dictionaries differ from lists primarily in how elements are accessed:\n",
    "\n",
    "* List elements are accessed by their position in the list, via indexing.\n",
    "* Dictionary elements are accessed via keys."
   ]
  },
  {
   "cell_type": "markdown",
   "id": "069e32c7-e74c-4c0c-91d1-2099644ec73a",
   "metadata": {},
   "source": [
    "## Defining a Dictionary"
   ]
  },
  {
   "cell_type": "markdown",
   "id": "4caba804-8717-4075-aa27-ce6dbfa198e7",
   "metadata": {},
   "source": [
    "A dictionary consists of a collection of key-value pairs. Each key-value pair maps the key to its associated value."
   ]
  },
  {
   "cell_type": "markdown",
   "id": "4b5e8504-941d-49b3-9712-f8141239cb89",
   "metadata": {},
   "source": [
    "```python\n",
    "d = {\n",
    "    <key>: <value>,\n",
    "    <key>: <value>,\n",
    "      .\n",
    "      .\n",
    "      .\n",
    "    <key>: <value>\n",
    "}\n",
    "```"
   ]
  },
  {
   "cell_type": "markdown",
   "id": "144ecd75-d610-46b2-98af-df71e98aaefb",
   "metadata": {},
   "source": [
    "example : "
   ]
  },
  {
   "cell_type": "code",
   "execution_count": 11,
   "id": "296f073e-f6de-47cf-b253-619c2b619d66",
   "metadata": {},
   "outputs": [],
   "source": [
    "user1 = {\n",
    "    \"name\": \"rasool\",\n",
    "    \"lastname\":\"ahadi\",\n",
    "    \"username\": \"rasool_ah\",\n",
    "    \"password\": \"1234\",\n",
    "    \n",
    "}"
   ]
  },
  {
   "cell_type": "markdown",
   "id": "f186e63b-5335-4ce5-800c-f93643ae5242",
   "metadata": {},
   "source": [
    "You can also construct a dictionary with the built-in ``dict()`` function : "
   ]
  },
  {
   "cell_type": "markdown",
   "id": "763b7c0d-bcee-4405-8381-197787e0849c",
   "metadata": {},
   "source": [
    "```python\n",
    "d = dict([\n",
    "    (<key>, <value>),\n",
    "    (<key>, <value),\n",
    "      .\n",
    "      .\n",
    "      .\n",
    "    (<key>, <value>)\n",
    "])\n",
    "```"
   ]
  },
  {
   "cell_type": "markdown",
   "id": "18c1d80a-b99e-4413-b288-64086334ee75",
   "metadata": {},
   "source": [
    "example : "
   ]
  },
  {
   "cell_type": "code",
   "execution_count": 13,
   "id": "60afd154-b34f-4af9-b86f-d6759b761f13",
   "metadata": {},
   "outputs": [
    {
     "data": {
      "text/plain": [
       "{'name': 'rasool',\n",
       " 'lastname': 'ahadi',\n",
       " 'username': 'rasool_ah',\n",
       " 'password': '1234'}"
      ]
     },
     "execution_count": 13,
     "metadata": {},
     "output_type": "execute_result"
    }
   ],
   "source": [
    "user1 = dict([\n",
    "    (\"name\", \"rasool\"),\n",
    "    (\"lastname\",\"ahadi\"),\n",
    "    (\"username\", \"rasool_ah\"),\n",
    "    (\"password\", \"1234\")\n",
    "])\n",
    "user1"
   ]
  },
  {
   "cell_type": "markdown",
   "id": "d56138f2-3d90-485f-b83f-31a0e52921eb",
   "metadata": {},
   "source": [
    "If the key values are simple strings, they can be specified as keyword arguments : "
   ]
  },
  {
   "cell_type": "code",
   "execution_count": 20,
   "id": "70923816-14fa-4f9c-90e3-f8853bf059fb",
   "metadata": {},
   "outputs": [],
   "source": [
    "user1 = dict(\n",
    "    name= \"rasool\",\n",
    "    lastname=\"ahadi\",\n",
    "    username= \"rasool_ah\",\n",
    "    password= \"1234\"\n",
    ")"
   ]
  },
  {
   "cell_type": "code",
   "execution_count": 21,
   "id": "90fd8cb5-8908-4261-92f6-30a2a6371f04",
   "metadata": {},
   "outputs": [
    {
     "data": {
      "text/plain": [
       "dict"
      ]
     },
     "execution_count": 21,
     "metadata": {},
     "output_type": "execute_result"
    }
   ],
   "source": [
    "type(user1)"
   ]
  },
  {
   "cell_type": "code",
   "execution_count": 22,
   "id": "b51d7bd0-3410-4177-8377-9d2cc0e8076e",
   "metadata": {},
   "outputs": [
    {
     "data": {
      "text/plain": [
       "{'name': 'rasool',\n",
       " 'lastname': 'ahadi',\n",
       " 'username': 'rasool_ah',\n",
       " 'password': '1234'}"
      ]
     },
     "execution_count": 22,
     "metadata": {},
     "output_type": "execute_result"
    }
   ],
   "source": [
    "user1"
   ]
  },
  {
   "cell_type": "markdown",
   "id": "d80af80d-537a-4973-aea8-5e312ceb032f",
   "metadata": {},
   "source": [
    "The entries in the dictionary display in the order they were defined. But that is irrelevant when it comes to retrieving them. Dictionary elements are not accessed by numerical index:"
   ]
  },
  {
   "cell_type": "code",
   "execution_count": 25,
   "id": "7d10194e-dc94-4535-83fe-5187f87a46e4",
   "metadata": {},
   "outputs": [
    {
     "ename": "KeyError",
     "evalue": "1",
     "output_type": "error",
     "traceback": [
      "\u001b[1;31m---------------------------------------------------------------------------\u001b[0m",
      "\u001b[1;31mKeyError\u001b[0m                                  Traceback (most recent call last)",
      "Input \u001b[1;32mIn [25]\u001b[0m, in \u001b[0;36m<cell line: 1>\u001b[1;34m()\u001b[0m\n\u001b[1;32m----> 1\u001b[0m \u001b[43muser1\u001b[49m\u001b[43m[\u001b[49m\u001b[38;5;241;43m1\u001b[39;49m\u001b[43m]\u001b[49m\n",
      "\u001b[1;31mKeyError\u001b[0m: 1"
     ]
    }
   ],
   "source": [
    "user1[1]"
   ]
  },
  {
   "cell_type": "markdown",
   "id": "41504ae2-0a98-483b-aeaa-49411317516b",
   "metadata": {},
   "source": [
    "the values contained in the dictionary don’t need to be the same type :"
   ]
  },
  {
   "cell_type": "code",
   "execution_count": 43,
   "id": "4276c7c7-ac10-4570-85b7-183188863880",
   "metadata": {},
   "outputs": [
    {
     "data": {
      "text/plain": [
       "{1: 'ccc', 2.78: 'bbb'}"
      ]
     },
     "execution_count": 43,
     "metadata": {},
     "output_type": "execute_result"
    }
   ],
   "source": [
    "foo = {1: 'aaa', 2.78: 'bbb', True: 'ccc'}\n",
    "foo"
   ]
  },
  {
   "cell_type": "markdown",
   "id": "a668f736-096c-436b-863c-7ec9e118cca2",
   "metadata": {},
   "source": [
    "**a dictionary key must be of a type that is immutable.** You have already seen examples where several of the immutable types you are familiar with—integer, float, string, and Boolean, tuple—have served as dictionary keys."
   ]
  },
  {
   "cell_type": "code",
   "execution_count": 53,
   "id": "2591211b-e263-4435-9a59-78f3966b8247",
   "metadata": {},
   "outputs": [
    {
     "data": {
      "text/plain": [
       "'a'"
      ]
     },
     "execution_count": 53,
     "metadata": {},
     "output_type": "execute_result"
    }
   ],
   "source": [
    "d = {(1, 1): 'a', (1, 2): 'b', (2, 1): 'c', (2, 2): 'd'}\n",
    "d[(1,1)]"
   ]
  },
  {
   "cell_type": "code",
   "execution_count": 56,
   "id": "070fa10c-6dc0-4f26-82c0-3b545e148bd9",
   "metadata": {},
   "outputs": [
    {
     "ename": "TypeError",
     "evalue": "unhashable type: 'list'",
     "output_type": "error",
     "traceback": [
      "\u001b[1;31m---------------------------------------------------------------------------\u001b[0m",
      "\u001b[1;31mTypeError\u001b[0m                                 Traceback (most recent call last)",
      "Input \u001b[1;32mIn [56]\u001b[0m, in \u001b[0;36m<cell line: 1>\u001b[1;34m()\u001b[0m\n\u001b[1;32m----> 1\u001b[0m d \u001b[38;5;241m=\u001b[39m {[\u001b[38;5;241m1\u001b[39m, \u001b[38;5;241m1\u001b[39m]: \u001b[38;5;124m'\u001b[39m\u001b[38;5;124ma\u001b[39m\u001b[38;5;124m'\u001b[39m, [\u001b[38;5;241m1\u001b[39m, \u001b[38;5;241m2\u001b[39m]: \u001b[38;5;124m'\u001b[39m\u001b[38;5;124mb\u001b[39m\u001b[38;5;124m'\u001b[39m, [\u001b[38;5;241m2\u001b[39m, \u001b[38;5;241m1\u001b[39m]: \u001b[38;5;124m'\u001b[39m\u001b[38;5;124mc\u001b[39m\u001b[38;5;124m'\u001b[39m, [\u001b[38;5;241m2\u001b[39m, \u001b[38;5;241m2\u001b[39m]: \u001b[38;5;124m'\u001b[39m\u001b[38;5;124md\u001b[39m\u001b[38;5;124m'\u001b[39m}\n",
      "\u001b[1;31mTypeError\u001b[0m: unhashable type: 'list'"
     ]
    }
   ],
   "source": [
    "d = {[1, 1]: 'a', [1, 2]: 'b', [2, 1]: 'c', [2, 2]: 'd'}"
   ]
  },
  {
   "cell_type": "markdown",
   "id": "c58d19b8-969a-4f15-8951-3169273e1a90",
   "metadata": {},
   "source": [
    "> **Technical Note:** Why does the error message say **“unhashable”**?\n",
    "Technically, it is not quite correct to say an object must be immutable to be used as a dictionary key. More precisely, an object must be hashable, which means it can be passed to a hash function. A hash function takes data of arbitrary size and maps it to a relatively simpler fixed-size value called a hash value (or simply hash), which is used for table lookup and comparison."
   ]
  },
  {
   "cell_type": "markdown",
   "id": "02d5b114-8099-462f-aa57-58f0105e5506",
   "metadata": {},
   "source": [
    "## Accessing Dictionary Values"
   ]
  },
  {
   "cell_type": "markdown",
   "id": "2e63bf46-5da8-4edb-87a5-6415defed135",
   "metadata": {},
   "source": [
    "A value is retrieved from a dictionary by specifying its corresponding key in square brackets ([]):"
   ]
  },
  {
   "cell_type": "code",
   "execution_count": 28,
   "id": "7a79efdb-cdcd-4c35-84f2-026b880e55fc",
   "metadata": {},
   "outputs": [
    {
     "data": {
      "text/plain": [
       "'rasool'"
      ]
     },
     "execution_count": 28,
     "metadata": {},
     "output_type": "execute_result"
    }
   ],
   "source": [
    "user1[\"name\"]"
   ]
  },
  {
   "cell_type": "markdown",
   "id": "60cc6aa2-94cb-41ab-8d39-dc6fb3887fcf",
   "metadata": {},
   "source": [
    "If you refer to a key that is not in the dictionary, Python raises an exception:"
   ]
  },
  {
   "cell_type": "code",
   "execution_count": 30,
   "id": "3f773fed-8eae-41ae-8d06-13a507016ae1",
   "metadata": {},
   "outputs": [
    {
     "ename": "KeyError",
     "evalue": "'nickname'",
     "output_type": "error",
     "traceback": [
      "\u001b[1;31m---------------------------------------------------------------------------\u001b[0m",
      "\u001b[1;31mKeyError\u001b[0m                                  Traceback (most recent call last)",
      "Input \u001b[1;32mIn [30]\u001b[0m, in \u001b[0;36m<cell line: 1>\u001b[1;34m()\u001b[0m\n\u001b[1;32m----> 1\u001b[0m \u001b[43muser1\u001b[49m\u001b[43m[\u001b[49m\u001b[38;5;124;43m\"\u001b[39;49m\u001b[38;5;124;43mnickname\u001b[39;49m\u001b[38;5;124;43m\"\u001b[39;49m\u001b[43m]\u001b[49m\n",
      "\u001b[1;31mKeyError\u001b[0m: 'nickname'"
     ]
    }
   ],
   "source": [
    "user1[\"nickname\"]"
   ]
  },
  {
   "cell_type": "markdown",
   "id": "d0dfc8fa-72da-46c8-876b-56f1d5dcc6fb",
   "metadata": {},
   "source": [
    "Adding an entry to an existing dictionary is simply a matter of assigning a new key and value:"
   ]
  },
  {
   "cell_type": "code",
   "execution_count": 32,
   "id": "bf627622-cdb4-417f-b58d-771ad8fd0abd",
   "metadata": {},
   "outputs": [],
   "source": [
    "user1[\"nickname\"] = \"ra\""
   ]
  },
  {
   "cell_type": "code",
   "execution_count": 33,
   "id": "67ffb8dc-5760-42dc-8a5d-36c36b6bd98d",
   "metadata": {},
   "outputs": [
    {
     "data": {
      "text/plain": [
       "'ra'"
      ]
     },
     "execution_count": 33,
     "metadata": {},
     "output_type": "execute_result"
    }
   ],
   "source": [
    "user1[\"nickname\"]"
   ]
  },
  {
   "cell_type": "markdown",
   "id": "0efd295d-4b29-4da6-acf2-49241507668a",
   "metadata": {},
   "source": [
    "also you can update: "
   ]
  },
  {
   "cell_type": "code",
   "execution_count": 35,
   "id": "db5c022b-d8b6-49e9-b1d7-7e60855a9ab7",
   "metadata": {},
   "outputs": [],
   "source": [
    "user1[\"name\"] = \"hamed\""
   ]
  },
  {
   "cell_type": "code",
   "execution_count": 36,
   "id": "00507227-fc56-4298-9236-6fbc5419d7f8",
   "metadata": {},
   "outputs": [
    {
     "data": {
      "text/plain": [
       "'hamed'"
      ]
     },
     "execution_count": 36,
     "metadata": {},
     "output_type": "execute_result"
    }
   ],
   "source": [
    "user1[\"name\"]"
   ]
  },
  {
   "cell_type": "code",
   "execution_count": 51,
   "id": "5b12dd49-077e-41e2-9370-5449ad743185",
   "metadata": {},
   "outputs": [
    {
     "name": "stdout",
     "output_type": "stream",
     "text": [
      "aaa\n",
      "ccc\n"
     ]
    }
   ],
   "source": [
    "foo = {0: 'aaa', 2.78: 'bbb', True: 'ccc'}\n",
    "print(foo[0])\n",
    "print(foo[True])"
   ]
  },
  {
   "cell_type": "markdown",
   "id": "313761d9-3329-4f44-9de2-d8721c17b4a7",
   "metadata": {},
   "source": [
    "To delete an entry, use the del statement, specifying the key to delete:"
   ]
  },
  {
   "cell_type": "code",
   "execution_count": 38,
   "id": "117b7f15-ab73-481e-83a2-cc37041302c8",
   "metadata": {},
   "outputs": [],
   "source": [
    "del user1[\"name\"]"
   ]
  },
  {
   "cell_type": "code",
   "execution_count": 39,
   "id": "b95252ba-eab3-4861-8851-51d621661e12",
   "metadata": {},
   "outputs": [
    {
     "data": {
      "text/plain": [
       "{'lastname': 'ahadi',\n",
       " 'username': 'rasool_ah',\n",
       " 'password': '1234',\n",
       " 'nickname': 'ra'}"
      ]
     },
     "execution_count": 39,
     "metadata": {},
     "output_type": "execute_result"
    }
   ],
   "source": [
    "user1"
   ]
  },
  {
   "cell_type": "markdown",
   "id": "e3cdcd86-27d7-45dc-ab6b-61a506d184f4",
   "metadata": {},
   "source": [
    "> **Note:** Although access to items in a dictionary does not depend on order, Python does guarantee that the order of items in a dictionary is preserved. When displayed, items will appear in the order they were defined, and iteration through the keys will occur in that order as well. Items added to a dictionary are added at the end. If items are deleted, the order of the remaining items is retained.**(this fiture added after python 3.7)**"
   ]
  },
  {
   "cell_type": "markdown",
   "id": "6e4948a0-b185-4298-ae61-71dd1d5dc412",
   "metadata": {},
   "source": [
    "## Operators and Built-in Functions"
   ]
  },
  {
   "cell_type": "markdown",
   "id": "7ad2cc4b-321d-4c3b-908c-d6c82694c78a",
   "metadata": {},
   "source": [
    "You have already become familiar with many of the operators and built-in functions that can be used with strings, lists, and tuples. Some of these work with dictionaries as well."
   ]
  },
  {
   "cell_type": "code",
   "execution_count": 61,
   "id": "328aa95a-4333-4e29-9ada-ecaa4f79b2c6",
   "metadata": {},
   "outputs": [
    {
     "data": {
      "text/plain": [
       "{'lastname': 'ahadi',\n",
       " 'username': 'rasool_ah',\n",
       " 'password': '1234',\n",
       " 'nickname': 'ra'}"
      ]
     },
     "execution_count": 61,
     "metadata": {},
     "output_type": "execute_result"
    }
   ],
   "source": [
    "user1"
   ]
  },
  {
   "cell_type": "code",
   "execution_count": 62,
   "id": "d3b9fd44-70c3-4984-95c8-2ef2f0a65824",
   "metadata": {},
   "outputs": [
    {
     "data": {
      "text/plain": [
       "True"
      ]
     },
     "execution_count": 62,
     "metadata": {},
     "output_type": "execute_result"
    }
   ],
   "source": [
    "\"lastname\" in user1"
   ]
  },
  {
   "cell_type": "code",
   "execution_count": 63,
   "id": "0bc322be-7f6b-443d-b1ad-d77b3741cf35",
   "metadata": {},
   "outputs": [
    {
     "data": {
      "text/plain": [
       "4"
      ]
     },
     "execution_count": 63,
     "metadata": {},
     "output_type": "execute_result"
    }
   ],
   "source": [
    "len(user1)"
   ]
  },
  {
   "cell_type": "code",
   "execution_count": 64,
   "id": "6249ccc9-e8d4-4fb4-a3aa-e0ad8f42ca6b",
   "metadata": {},
   "outputs": [
    {
     "ename": "TypeError",
     "evalue": "unsupported operand type(s) for +: 'dict' and 'dict'",
     "output_type": "error",
     "traceback": [
      "\u001b[1;31m---------------------------------------------------------------------------\u001b[0m",
      "\u001b[1;31mTypeError\u001b[0m                                 Traceback (most recent call last)",
      "Input \u001b[1;32mIn [64]\u001b[0m, in \u001b[0;36m<cell line: 1>\u001b[1;34m()\u001b[0m\n\u001b[1;32m----> 1\u001b[0m \u001b[43muser1\u001b[49m\u001b[38;5;241;43m+\u001b[39;49m\u001b[43m{\u001b[49m\u001b[38;5;124;43m\"\u001b[39;49m\u001b[38;5;124;43mbirthday\u001b[39;49m\u001b[38;5;124;43m\"\u001b[39;49m\u001b[43m:\u001b[49m\u001b[43m \u001b[49m\u001b[38;5;124;43m\"\u001b[39;49m\u001b[38;5;124;43m1-1-1997\u001b[39;49m\u001b[38;5;124;43m\"\u001b[39;49m\u001b[43m}\u001b[49m\n",
      "\u001b[1;31mTypeError\u001b[0m: unsupported operand type(s) for +: 'dict' and 'dict'"
     ]
    }
   ],
   "source": [
    "user1+{\"birthday\": \"1-1-1997\"}"
   ]
  },
  {
   "cell_type": "markdown",
   "id": "7b84197f-d609-4388-b775-6cfdd522b728",
   "metadata": {},
   "source": [
    "## Built-in Dictionary Methods"
   ]
  },
  {
   "cell_type": "markdown",
   "id": "3820c80b-7f41-48ca-919c-72b1726392c5",
   "metadata": {},
   "source": [
    "* ```python\n",
    "d.clear()\n",
    "```"
   ]
  },
  {
   "cell_type": "code",
   "execution_count": 68,
   "id": "286261b5-2811-4852-aea2-9d95f1f0ca54",
   "metadata": {},
   "outputs": [
    {
     "data": {
      "text/plain": [
       "{'a': 10, 'b': 20, 'c': 30}"
      ]
     },
     "execution_count": 68,
     "metadata": {},
     "output_type": "execute_result"
    }
   ],
   "source": [
    "d = {'a': 10, 'b': 20, 'c': 30}\n",
    "d"
   ]
  },
  {
   "cell_type": "code",
   "execution_count": 69,
   "id": "c287f47a-82b7-4a95-9a6f-6f51b89aa7bc",
   "metadata": {},
   "outputs": [
    {
     "data": {
      "text/plain": [
       "{}"
      ]
     },
     "execution_count": 69,
     "metadata": {},
     "output_type": "execute_result"
    }
   ],
   "source": [
    "d.clear()\n",
    "d"
   ]
  },
  {
   "cell_type": "markdown",
   "id": "ae6aa980-b6ba-491a-b1e1-0ba7e17f7805",
   "metadata": {},
   "source": [
    "* ```python\n",
    "d.get(<key>[, <default>])\n",
    "```"
   ]
  },
  {
   "cell_type": "code",
   "execution_count": 70,
   "id": "dcfdfb16-69ed-458c-865f-92f2d2a2e2b8",
   "metadata": {},
   "outputs": [
    {
     "name": "stdout",
     "output_type": "stream",
     "text": [
      "20\n"
     ]
    }
   ],
   "source": [
    "d = {'a': 10, 'b': 20, 'c': 30}\n",
    "print(d.get('b'))"
   ]
  },
  {
   "cell_type": "code",
   "execution_count": 71,
   "id": "ec888e0c-dd9b-4414-a619-ec9c5f1c5f50",
   "metadata": {},
   "outputs": [
    {
     "name": "stdout",
     "output_type": "stream",
     "text": [
      "-1\n"
     ]
    }
   ],
   "source": [
    "print(d.get('z', -1))"
   ]
  },
  {
   "cell_type": "markdown",
   "id": "9cf5f7ed-5769-4e19-84ac-06d7a9069e35",
   "metadata": {},
   "source": [
    "* ```python\n",
    "d.items()\n",
    "```"
   ]
  },
  {
   "cell_type": "code",
   "execution_count": 76,
   "id": "900d9fb7-a7b4-4d81-aba2-aa84cbfa5e23",
   "metadata": {},
   "outputs": [
    {
     "data": {
      "text/plain": [
       "dict_items([('a', 10), ('b', 20), ('c', 30)])"
      ]
     },
     "execution_count": 76,
     "metadata": {},
     "output_type": "execute_result"
    }
   ],
   "source": [
    "d = {'a': 10, 'b': 20, 'c': 30}\n",
    "d.items()"
   ]
  },
  {
   "cell_type": "code",
   "execution_count": 77,
   "id": "0067c4fc-4478-4e4a-9c02-c8c45a1ba6ae",
   "metadata": {},
   "outputs": [
    {
     "data": {
      "text/plain": [
       "[('a', 10), ('b', 20), ('c', 30)]"
      ]
     },
     "execution_count": 77,
     "metadata": {},
     "output_type": "execute_result"
    }
   ],
   "source": [
    "list(d.items())"
   ]
  },
  {
   "cell_type": "markdown",
   "id": "3e5687ad-04e7-467e-a22e-dc08179bb998",
   "metadata": {},
   "source": [
    "* ```python\n",
    "d.keys()\n",
    "```"
   ]
  },
  {
   "cell_type": "code",
   "execution_count": 80,
   "id": "724eee69-4f38-4b2b-8bfd-3ed9364915b0",
   "metadata": {},
   "outputs": [
    {
     "data": {
      "text/plain": [
       "['a', 'b', 'c']"
      ]
     },
     "execution_count": 80,
     "metadata": {},
     "output_type": "execute_result"
    }
   ],
   "source": [
    "d = {'a': 10, 'b': 20, 'c': 30}\n",
    "list(d.keys())"
   ]
  },
  {
   "cell_type": "markdown",
   "id": "5f14ae15-9c76-4276-a937-25c4cb23ed07",
   "metadata": {},
   "source": [
    "* ```python\n",
    "d.values()\n",
    "```"
   ]
  },
  {
   "cell_type": "code",
   "execution_count": 82,
   "id": "4118fc05-d576-4bb7-8c47-4d4c51d40538",
   "metadata": {},
   "outputs": [
    {
     "data": {
      "text/plain": [
       "[10, 20, 30]"
      ]
     },
     "execution_count": 82,
     "metadata": {},
     "output_type": "execute_result"
    }
   ],
   "source": [
    "d = {'a': 10, 'b': 20, 'c': 30}\n",
    "list(d.values())"
   ]
  },
  {
   "cell_type": "markdown",
   "id": "e6fa6614-fd67-4c94-a5af-c520b4d43851",
   "metadata": {},
   "source": [
    "```python\n",
    "d.pop(<key>[, <default>])\n",
    "```"
   ]
  },
  {
   "cell_type": "code",
   "execution_count": 84,
   "id": "242129ca-6e9d-45e5-a5fe-524cf9aee831",
   "metadata": {},
   "outputs": [
    {
     "data": {
      "text/plain": [
       "20"
      ]
     },
     "execution_count": 84,
     "metadata": {},
     "output_type": "execute_result"
    }
   ],
   "source": [
    "d = {'a': 10, 'b': 20, 'c': 30}\n",
    "d.pop('b')"
   ]
  },
  {
   "cell_type": "code",
   "execution_count": 85,
   "id": "9e944be7-1c8b-4c5b-b765-fba3f3317966",
   "metadata": {},
   "outputs": [
    {
     "data": {
      "text/plain": [
       "-1"
      ]
     },
     "execution_count": 85,
     "metadata": {},
     "output_type": "execute_result"
    }
   ],
   "source": [
    "d.pop('z', -1)"
   ]
  },
  {
   "cell_type": "markdown",
   "id": "a42752ed-2cff-4ced-b856-09004fd83cdd",
   "metadata": {},
   "source": [
    "```python\n",
    "d.popitem()\n",
    "```"
   ]
  },
  {
   "cell_type": "code",
   "execution_count": 14,
   "id": "6a908bef-101f-4056-8289-944fdf747f3e",
   "metadata": {},
   "outputs": [
    {
     "data": {
      "text/plain": [
       "('c', 30)"
      ]
     },
     "execution_count": 14,
     "metadata": {},
     "output_type": "execute_result"
    }
   ],
   "source": [
    "d = {'a': 10, 'b': 20, 'c': 30}\n",
    "d.popitem()"
   ]
  },
  {
   "cell_type": "markdown",
   "id": "a739a1d0-3028-4946-86ac-f850fe24946b",
   "metadata": {},
   "source": [
    "> Note: In Python versions less than 3.6, popitem() would return an arbitrary (random) key-value pair since Python dictionaries were unordered before version 3.6."
   ]
  },
  {
   "cell_type": "markdown",
   "id": "ad7ff74e-c976-495f-9ad0-6e89a4522c53",
   "metadata": {},
   "source": [
    "```python\n",
    "d.update(<obj>)\n",
    "```"
   ]
  },
  {
   "cell_type": "code",
   "execution_count": 91,
   "id": "9040f3db-42ab-4e23-b432-f14451b5d41f",
   "metadata": {},
   "outputs": [
    {
     "data": {
      "text/plain": [
       "{'a': 10, 'b': 200, 'c': 30, 'd': 400}"
      ]
     },
     "execution_count": 91,
     "metadata": {},
     "output_type": "execute_result"
    }
   ],
   "source": [
    "d1 = {'a': 10, 'b': 20, 'c': 30}\n",
    "d2 = {'b': 200, 'd': 400}\n",
    "\n",
    "d1.update(d2)\n",
    "d1"
   ]
  }
 ],
 "metadata": {
  "kernelspec": {
   "display_name": "Python 3 (ipykernel)",
   "language": "python",
   "name": "python3"
  },
  "language_info": {
   "codemirror_mode": {
    "name": "ipython",
    "version": 3
   },
   "file_extension": ".py",
   "mimetype": "text/x-python",
   "name": "python",
   "nbconvert_exporter": "python",
   "pygments_lexer": "ipython3",
   "version": "3.9.12"
  }
 },
 "nbformat": 4,
 "nbformat_minor": 5
}
