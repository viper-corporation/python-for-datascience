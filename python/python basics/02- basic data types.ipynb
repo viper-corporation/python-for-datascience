{
 "cells": [
  {
   "cell_type": "markdown",
   "id": "e6cf4263-8409-4fdf-9adc-49c8509d700e",
   "metadata": {
    "tags": []
   },
   "source": [
    "# basic data types"
   ]
  },
  {
   "cell_type": "markdown",
   "id": "f01524a7-eeab-410c-a1c2-083253abebc9",
   "metadata": {},
   "source": [
    "* [type() function](#type()-function)\n",
    "* [python numbers](#python-numbers)\n",
    "    * [integer](#integers)\n",
    "    * [float](#float)\n",
    "    * [complex](#complex)\n",
    "* [string](#string)\n",
    "    * [Escape Sequences in Strings](#Escape-Sequences-in-Strings)\n",
    "    * [raw string](#raw_string)\n",
    "* [boolean](#boolean)\n",
    "* [Type Casting(conversion)](#Type-Casting(conversion))\n",
    "* [type](#type)\n",
    "* [None type(null)](#None-type(null))"
   ]
  },
  {
   "cell_type": "markdown",
   "id": "4b406464-95ed-46b4-b59b-197a36c50d1a",
   "metadata": {},
   "source": [
    "Oftentimes when you're programming, you'll be tasked with answering a specific question.So to answer a question through coding,\n",
    "you transform the information that you have access to.Now keep in mind, information is also known as data\n",
    "and you can transform this data in a way that addresses the question at hand."
   ]
  },
  {
   "cell_type": "markdown",
   "id": "b978bfb1-6f82-4fef-824b-f7db53372e01",
   "metadata": {},
   "source": [
    "> we call this data **value**"
   ]
  },
  {
   "cell_type": "markdown",
   "id": "da2302d1-dff0-4620-90f5-4c17812bf669",
   "metadata": {},
   "source": [
    "Now a lot of data might be available and it can be a little overwhelming to look at. So how do you navigate all this data and determine which pieces of data are useful for your task? Well, **you do this by categorizing the datainto different types which helps you stay organized**"
   ]
  },
  {
   "cell_type": "markdown",
   "id": "095b52e4-f67d-4b95-b186-b08518d8481f",
   "metadata": {},
   "source": [
    "A data type, in programming, is a classification that specifies which type of value a variable has and what type of mathematical, relational or logical operations can be applied to it without causing an error.\n",
    "some examples of **python  build-in** data types : \n",
    "* Int : An integer type that represents an integer.\n",
    "*  float : A float numeric type that contains a decimal number.\n",
    "*  str : String or str, which is a sequence of characters (such as letters and digits).\n",
    "Strings are specified by a number of characters between two \" or ' symbols.\n",
    "*  bool : The bool type takes both True value and False value.\n",
    "* **and so many other datatypes we will discuss later** \n"
   ]
  },
  {
   "cell_type": "markdown",
   "id": "ea43122e-ab88-45b7-a5ae-6b2dcd8fab09",
   "metadata": {},
   "source": [
    "**when you use relational operators. it returns True if the data types and the amount of value be same.** "
   ]
  },
  {
   "cell_type": "code",
   "execution_count": null,
   "id": "01db17a3-049a-4b2b-8eae-0699290ddb96",
   "metadata": {},
   "outputs": [
    {
     "data": {
      "text/plain": [
       "True"
      ]
     },
     "execution_count": 1,
     "metadata": {},
     "output_type": "execute_result"
    }
   ],
   "source": [
    "1 == \"1\""
   ]
  },
  {
   "cell_type": "markdown",
   "id": "fe7bac2e-6deb-4ac0-b61d-942ce07d9ba5",
   "metadata": {},
   "source": [
    "<hr>"
   ]
  },
  {
   "cell_type": "markdown",
   "id": "28d3200c-57df-413a-b57c-aab6fc749492",
   "metadata": {
    "tags": []
   },
   "source": [
    "## type() function\n",
    "type(x) function returns the type of variable ‘x’"
   ]
  },
  {
   "cell_type": "code",
   "execution_count": 99,
   "id": "b88c77da-9586-4c0d-a3e9-f3dacae53396",
   "metadata": {
    "tags": []
   },
   "outputs": [
    {
     "name": "stdout",
     "output_type": "stream",
     "text": [
      "<class 'int'>\n",
      "<class 'float'>\n",
      "<class 'str'>\n",
      "<class 'bool'>\n",
      "<class 'method'>\n"
     ]
    }
   ],
   "source": [
    "\n",
    "#---------------------\n",
    "print(type(12))\n",
    "print(type(12.523))\n",
    "print(type('It is a String'))\n",
    "print(type(True))\n",
    "print(type(input))"
   ]
  },
  {
   "cell_type": "markdown",
   "id": "cadaea98-9680-4125-aa4c-8d6e3b015305",
   "metadata": {},
   "source": [
    "## python numbers"
   ]
  },
  {
   "cell_type": "markdown",
   "id": "9ef777c9-5bf1-49d5-b67e-dff5edd57247",
   "metadata": {},
   "source": [
    "There are three numeric types in Python:\n",
    "* int\n",
    "* float\n",
    "* complex"
   ]
  },
  {
   "cell_type": "markdown",
   "id": "60f8c722-29cd-4b17-9713-59a5da8d3a5a",
   "metadata": {},
   "source": [
    "* ## int"
   ]
  },
  {
   "cell_type": "markdown",
   "id": "3fa7232a-f401-4c5e-bf02-344b20a6f5ed",
   "metadata": {},
   "source": [
    "Int, or integer, is a whole number, **positive or negative**, **without decimals** , of **unlimited length**."
   ]
  },
  {
   "cell_type": "code",
   "execution_count": 6,
   "id": "5bbd82dd-7141-4422-b8a2-5bee274b14be",
   "metadata": {},
   "outputs": [],
   "source": [
    "x = 1\n",
    "y = 35656222554887711\n"
   ]
  },
  {
   "cell_type": "code",
   "execution_count": 5,
   "id": "2ff4cc0f-b46a-4af8-a4be-93a64ea77988",
   "metadata": {},
   "outputs": [
    {
     "data": {
      "text/plain": [
       "28"
      ]
     },
     "execution_count": 5,
     "metadata": {},
     "output_type": "execute_result"
    }
   ],
   "source": [
    "import sys \n",
    "sys.getsizeof(1)"
   ]
  },
  {
   "cell_type": "markdown",
   "id": "d04520c2-4edf-41f3-a9b9-c025d9b767b8",
   "metadata": {},
   "source": [
    "The following strings can be prepended to an integer value to indicate a base other than 10:"
   ]
  },
  {
   "cell_type": "code",
   "execution_count": 7,
   "id": "03f074cc-d552-46f8-abc2-339a791d0574",
   "metadata": {},
   "outputs": [
    {
     "name": "stdout",
     "output_type": "stream",
     "text": [
      "8\n"
     ]
    }
   ],
   "source": [
    "print(0o10) #octal\n",
    "print(0x10) #hexadecimal \n",
    "print(0b10) #binary"
   ]
  },
  {
   "cell_type": "markdown",
   "id": "e5e27e1f-e836-49a8-8f07-3c6f13e22896",
   "metadata": {},
   "source": [
    "* ## float"
   ]
  },
  {
   "cell_type": "markdown",
   "id": "9d60fc75-d2f3-4fc0-8e81-0bcc473c5a6f",
   "metadata": {},
   "source": [
    "Float, or **floating point number** is a number, positive or negative, containing one or more decimals."
   ]
  },
  {
   "cell_type": "code",
   "execution_count": 10,
   "id": "0ea237f6-d85d-42af-b735-ac9d931cdf6d",
   "metadata": {},
   "outputs": [
    {
     "name": "stdout",
     "output_type": "stream",
     "text": [
      "<class 'float'>\n",
      "<class 'float'>\n"
     ]
    }
   ],
   "source": [
    "\n",
    "print(type(1.10))\n",
    "print(type(-1123.2))"
   ]
  },
  {
   "cell_type": "markdown",
   "id": "efc27f92-5741-41fe-b3ec-7f7fca97c887",
   "metadata": {},
   "source": [
    "Float can also be scientific numbers with an \"e\" to indicate the power of 10."
   ]
  },
  {
   "cell_type": "code",
   "execution_count": 16,
   "id": "ac8aaefd-bd16-4034-b758-d901e2176ccc",
   "metadata": {},
   "outputs": [
    {
     "name": "stdout",
     "output_type": "stream",
     "text": [
      "<class 'float'>\n",
      "3500.0\n"
     ]
    }
   ],
   "source": [
    "print(type(3.5e3))\n",
    "print(3.5e3)"
   ]
  },
  {
   "cell_type": "markdown",
   "id": "c096230e-7513-4e4b-87b8-b8f28d2ba226",
   "metadata": {},
   "source": [
    "* ## complex"
   ]
  },
  {
   "cell_type": "markdown",
   "id": "8b1466d3-8fab-4ec8-9d5a-1e9b4a53c2d8",
   "metadata": {},
   "source": [
    "Complex numbers are written with a \"j\" as the imaginary part"
   ]
  },
  {
   "cell_type": "code",
   "execution_count": 17,
   "id": "8b827535-0d67-4552-bd0d-a82fae574537",
   "metadata": {},
   "outputs": [
    {
     "name": "stdout",
     "output_type": "stream",
     "text": [
      "(3+5j)\n",
      "<class 'complex'>\n",
      "<class 'complex'>\n"
     ]
    }
   ],
   "source": [
    "\n",
    "print(3+5j)\n",
    "print(type(5j))\n",
    "print(type( -5j))"
   ]
  },
  {
   "cell_type": "markdown",
   "id": "f91c8923-4052-4da6-845b-ee1312d34a13",
   "metadata": {
    "tags": []
   },
   "source": [
    "## String"
   ]
  },
  {
   "cell_type": "markdown",
   "id": "c2afd509-525d-41c2-bf01-6c896f922a62",
   "metadata": {},
   "source": [
    "Strings are sequences of character data. The string type in Python is called str.\n",
    "\n",
    "String literals may be delimited using either single or double quotes"
   ]
  },
  {
   "cell_type": "code",
   "execution_count": 21,
   "id": "c4d01251-1cc6-4e2f-bd58-6e97152b6118",
   "metadata": {},
   "outputs": [
    {
     "name": "stdout",
     "output_type": "stream",
     "text": [
      "<class 'str'>\n",
      "<class 'str'>\n",
      "<class 'str'>\n"
     ]
    }
   ],
   "source": [
    "print(type(\"rasool ahadi\"))\n",
    "print(type('rasool'))\n",
    "print(type(\"\"\"\n",
    "this is \n",
    "a  \n",
    "string \n",
    "\"\"\"))"
   ]
  },
  {
   "cell_type": "code",
   "execution_count": 51,
   "id": "48e8c3b2-b51b-4c11-abc6-f439c94c4eb5",
   "metadata": {},
   "outputs": [],
   "source": [
    "a = \n",
    "b = 'this is a string too'\n",
    "c = "
   ]
  },
  {
   "cell_type": "markdown",
   "id": "d600047f-5b3a-4bc3-b7ac-c854299862de",
   "metadata": {},
   "source": [
    "**A string in Python can contain as many characters as you wish.** The only limit is your machine’s memory resources. A string can also be empty:"
   ]
  },
  {
   "cell_type": "markdown",
   "id": "7d6168f6-a63f-4c2d-8e21-e375fe127f61",
   "metadata": {
    "tags": []
   },
   "source": [
    "### Escape Sequences in Strings\n",
    "in Strings Sometimes, you want Python to interpret a character or sequence of characters within a string differently. This may occur in one of two ways:\n",
    "\n",
    "* You may want to suppress the special interpretation that certain characters are usually given within a string.\n",
    "* You may want to apply special interpretation to characters in a string which would normally be taken literally.\n",
    "You can accomplish this using a **backslash (\\) character.** A backslash character in a string indicates that one or more characters that follow it should be treated specially. \n",
    "\n",
    "> **Note:**This is referred to as an escape sequence, because the backslash causes the subsequent character sequence to “escape” its usual meaning.\n",
    "\n",
    "escape sequences : "
   ]
  },
  {
   "attachments": {
    "6a61e60f-56a2-45d7-a85a-5de7d902751f.PNG": {
     "image/png": "[encoded data removed]"
    },
    "a73c7311-4323-4c17-9b30-33c850f282ee.PNG": {
     "image/png": "[encoded data removed]"
    }
   },
   "cell_type": "markdown",
   "id": "4184a2ad-7055-4a43-8d55-b481fee6994a",
   "metadata": {},
   "source": [
    "![datatypes-0.PNG](attachment:6a61e60f-56a2-45d7-a85a-5de7d902751f.PNG)\n",
    "![datatypes-1.PNG](attachment:a73c7311-4323-4c17-9b30-33c850f282ee.PNG)"
   ]
  },
  {
   "cell_type": "code",
   "execution_count": 16,
   "id": "368f9a3c-c69a-404f-be7a-7205d3f7cabe",
   "metadata": {},
   "outputs": [
    {
     "name": "stdout",
     "output_type": "stream",
     "text": [
      "it's escape sequence\n"
     ]
    }
   ],
   "source": [
    "print('it\\'s escape sequence')"
   ]
  },
  {
   "cell_type": "code",
   "execution_count": 17,
   "id": "2ec7ea1d-6b26-443b-b085-c8c225312a3c",
   "metadata": {},
   "outputs": [
    {
     "name": "stdout",
     "output_type": "stream",
     "text": [
      "this is \"scape sequence too.\" \n"
     ]
    }
   ],
   "source": [
    "print(\"this is \\\"scape sequence too.\\\" \")"
   ]
  },
  {
   "cell_type": "code",
   "execution_count": 18,
   "id": "8cc56c57-c792-4548-9593-5f0d7ae3ca95",
   "metadata": {},
   "outputs": [
    {
     "name": "stdout",
     "output_type": "stream",
     "text": [
      "this is \n",
      " new line\n"
     ]
    }
   ],
   "source": [
    "print(\"this is \\nnew line\")"
   ]
  },
  {
   "cell_type": "code",
   "execution_count": 19,
   "id": "b0031a25-4c7e-42b9-80e7-98a07da74bbd",
   "metadata": {},
   "outputs": [
    {
     "name": "stdout",
     "output_type": "stream",
     "text": [
      "lest use \t tab\n"
     ]
    }
   ],
   "source": [
    "print(\"lets use \\t tab\")"
   ]
  },
  {
   "cell_type": "code",
   "execution_count": 29,
   "id": "5e1f75dc-d349-44bb-b93a-e88842f660bd",
   "metadata": {},
   "outputs": [
    {
     "name": "stdout",
     "output_type": "stream",
     "text": [
      "form\n"
     ]
    }
   ],
   "source": [
    "print(\"form\")"
   ]
  },
  {
   "cell_type": "code",
   "execution_count": 23,
   "id": "a196fb1a-2174-462d-bebe-a59045dc7e84",
   "metadata": {},
   "outputs": [
    {
     "name": "stdout",
     "output_type": "stream",
     "text": [
      "hi my name is rasool ahadi\n"
     ]
    }
   ],
   "source": [
    "print(\"hi my name is\\\n",
    " rasool ahadi\")"
   ]
  },
  {
   "cell_type": "code",
   "execution_count": 13,
   "id": "82eb5f46-e60e-4071-94fd-0495e47e25de",
   "metadata": {},
   "outputs": [
    {
     "name": "stdout",
     "output_type": "stream",
     "text": [
      "\u0000 \u0000 rasool\n"
     ]
    }
   ],
   "source": [
    "print('\\0 \\0 rasool')"
   ]
  },
  {
   "cell_type": "code",
   "execution_count": 24,
   "id": "4a06a057-f284-4ed2-8cf9-a656f5c0b858",
   "metadata": {},
   "outputs": [
    {
     "name": "stdout",
     "output_type": "stream",
     "text": [
      " ahadi \n"
     ]
    }
   ],
   "source": [
    "print(\"rasool \\r ahadi\")"
   ]
  },
  {
   "cell_type": "code",
   "execution_count": 31,
   "id": "8813cbd5-d623-4c31-b66c-73e6d0da454a",
   "metadata": {},
   "outputs": [
    {
     "name": "stdout",
     "output_type": "stream",
     "text": [
      "/\n"
     ]
    }
   ],
   "source": [
    "print(\"\\x2F\")"
   ]
  },
  {
   "cell_type": "code",
   "execution_count": 9,
   "id": "c4c64777-6bfd-453b-957d-0c76559ec58f",
   "metadata": {},
   "outputs": [
    {
     "name": "stdout",
     "output_type": "stream",
     "text": [
      "😄\n",
      "😄\n"
     ]
    }
   ],
   "source": [
    "print( '\\U0001f604')\n",
    "print('\\U0001F604')"
   ]
  },
  {
   "cell_type": "markdown",
   "id": "4b9055bb-0d3d-46c3-b6f5-7e9e805b12e7",
   "metadata": {},
   "source": [
    "### raw string"
   ]
  },
  {
   "cell_type": "markdown",
   "id": "cdde72aa-d3b7-495f-a83d-9563dc251ffb",
   "metadata": {},
   "source": [
    "A raw string literal is preceded by ``r or R``, which specifies that escape sequences in the associated string are not translated. The backslash character is left in the string:"
   ]
  },
  {
   "cell_type": "code",
   "execution_count": 60,
   "id": "3d94cbf0-75b5-4fd3-abae-8ec73bf2c33b",
   "metadata": {},
   "outputs": [
    {
     "name": "stdout",
     "output_type": "stream",
     "text": [
      "rasool\n",
      "hamed\n"
     ]
    }
   ],
   "source": [
    "print('rasool\\nahadi')"
   ]
  },
  {
   "cell_type": "code",
   "execution_count": 61,
   "id": "9bdf5c62-d65b-4650-a768-39e4cf4705da",
   "metadata": {},
   "outputs": [
    {
     "name": "stdout",
     "output_type": "stream",
     "text": [
      "rasool\\nahadi\n"
     ]
    }
   ],
   "source": [
    "print(r\"rasool\\nahadi\")"
   ]
  },
  {
   "cell_type": "markdown",
   "id": "e44d51e2-78ad-4983-9c0b-f0beb9bff388",
   "metadata": {},
   "source": [
    "## boolean"
   ]
  },
  {
   "cell_type": "markdown",
   "id": "f11ca7eb-59bf-47a9-bf08-2d76ff2b2da3",
   "metadata": {},
   "source": [
    "Python 3 provides a Boolean data type. Objects of Boolean type may have one of two values, True or False:"
   ]
  },
  {
   "cell_type": "code",
   "execution_count": 67,
   "id": "e03dacdb-f3e7-4a96-a8b6-657f4ca880c8",
   "metadata": {},
   "outputs": [
    {
     "data": {
      "text/plain": [
       "bool"
      ]
     },
     "execution_count": 67,
     "metadata": {},
     "output_type": "execute_result"
    }
   ],
   "source": [
    "a = True \n",
    "type(a)"
   ]
  },
  {
   "cell_type": "markdown",
   "id": "68e405db-9b38-4291-bb14-0c129a32a4c2",
   "metadata": {},
   "source": [
    "> **note** :notice that first letter of True and False is uppercase."
   ]
  },
  {
   "cell_type": "markdown",
   "id": "051164dd-1733-4acd-8fee-93500110f11a",
   "metadata": {},
   "source": [
    "## type"
   ]
  },
  {
   "cell_type": "markdown",
   "id": "23a852e9-f641-4057-b7d8-6a678d4b1e3d",
   "metadata": {},
   "source": [
    "type of int , str , float and etc is type "
   ]
  },
  {
   "cell_type": "code",
   "execution_count": 106,
   "id": "b2c0d396-f72f-4829-9869-6acaa15147ae",
   "metadata": {},
   "outputs": [
    {
     "name": "stdout",
     "output_type": "stream",
     "text": [
      "<class 'type'>\n",
      "<class 'type'>\n"
     ]
    }
   ],
   "source": [
    "print(type(int)) \n",
    "print(type(float))"
   ]
  },
  {
   "cell_type": "markdown",
   "id": "9ef7bb12-ff50-4919-a838-487721320a1e",
   "metadata": {},
   "source": [
    "## None type(null)"
   ]
  },
  {
   "cell_type": "markdown",
   "id": "45845fa9-9812-4df3-aa7e-e52cec98ddae",
   "metadata": {},
   "source": [
    "The None keyword is used to define a null value, or no value at all.\n",
    "\n",
    "None is not the same as 0, False, or an empty string.\n",
    "**None is a data type of its own (NoneType) and only None can be None.**\n",
    "\n",
    "**notice that first letter of None is uppercase**"
   ]
  },
  {
   "cell_type": "code",
   "execution_count": 98,
   "id": "e6466e36-75f3-4c68-8a65-3b71956a32a1",
   "metadata": {},
   "outputs": [
    {
     "name": "stdout",
     "output_type": "stream",
     "text": [
      "None\n",
      "<class 'NoneType'>\n",
      "False\n",
      "None\n",
      "False\n",
      "False\n",
      "True\n"
     ]
    }
   ],
   "source": [
    "print(None)\n",
    "print(type(None))\n",
    "print(bool(None))\n",
    "print(str(None)) \n",
    "print(False == None)\n",
    "print('' == None)\n",
    "print(bool('') == bool(None))"
   ]
  },
  {
   "cell_type": "code",
   "execution_count": 95,
   "id": "e814bbbf-c82c-4368-bb81-b2069fa33055",
   "metadata": {},
   "outputs": [
    {
     "ename": "TypeError",
     "evalue": "int() argument must be a string, a bytes-like object or a number, not 'NoneType'",
     "output_type": "error",
     "traceback": [
      "\u001b[1;31m---------------------------------------------------------------------------\u001b[0m",
      "\u001b[1;31mTypeError\u001b[0m                                 Traceback (most recent call last)",
      "Input \u001b[1;32mIn [95]\u001b[0m, in \u001b[0;36m<cell line: 1>\u001b[1;34m()\u001b[0m\n\u001b[1;32m----> 1\u001b[0m \u001b[38;5;28mprint\u001b[39m(\u001b[38;5;28;43mint\u001b[39;49m\u001b[43m(\u001b[49m\u001b[38;5;28;43;01mNone\u001b[39;49;00m\u001b[43m)\u001b[49m)\n",
      "\u001b[1;31mTypeError\u001b[0m: int() argument must be a string, a bytes-like object or a number, not 'NoneType'"
     ]
    }
   ],
   "source": [
    "print(int(None))"
   ]
  },
  {
   "cell_type": "markdown",
   "id": "28355b3c-a691-491c-b0c2-ff043a8664b5",
   "metadata": {},
   "source": [
    "\n",
    "## other built-In data types\n",
    "Python provides built-in composite data types called `list`, `tuple`, `dict`, and `set` (and some more).\n",
    "\n",
    "we will learn about this data types later"
   ]
  },
  {
   "cell_type": "code",
   "execution_count": 32,
   "id": "1d52e4a0-adb8-493e-ab92-16f282878c27",
   "metadata": {},
   "outputs": [
    {
     "data": {
      "text/plain": [
       "list"
      ]
     },
     "execution_count": 32,
     "metadata": {},
     "output_type": "execute_result"
    }
   ],
   "source": [
    "type([])"
   ]
  },
  {
   "cell_type": "markdown",
   "id": "61d5210d-e511-4122-9934-d034f44c239b",
   "metadata": {},
   "source": [
    "## Type Casting(conversion)"
   ]
  },
  {
   "cell_type": "markdown",
   "id": "8174fd44-a02d-4a4e-b40b-2d23726f7a87",
   "metadata": {},
   "source": [
    "Sometimes it is necessary to convert values from one type to another. Python provides\n",
    "a few simple functions that will allow us to do that. The functions int, float and str will\n",
    "(attempt to) convert their arguments into types int, float, bool and str respectively. We\n",
    "call these type conversion functions."
   ]
  },
  {
   "cell_type": "markdown",
   "id": "fa6e5789-40f8-4353-9e0d-0c00abb96fca",
   "metadata": {},
   "source": [
    "* int examples :"
   ]
  },
  {
   "cell_type": "code",
   "execution_count": 76,
   "id": "9d1c5739-d815-470e-9aba-630f357c16a3",
   "metadata": {},
   "outputs": [
    {
     "name": "stdout",
     "output_type": "stream",
     "text": [
      "12\n",
      "12\n",
      "123\n",
      "1\n",
      "0\n"
     ]
    },
    {
     "ename": "ValueError",
     "evalue": "invalid literal for int() with base 10: 'rasool'",
     "output_type": "error",
     "traceback": [
      "\u001b[1;31m---------------------------------------------------------------------------\u001b[0m",
      "\u001b[1;31mValueError\u001b[0m                                Traceback (most recent call last)",
      "Input \u001b[1;32mIn [76]\u001b[0m, in \u001b[0;36m<cell line: 6>\u001b[1;34m()\u001b[0m\n\u001b[0;32m      4\u001b[0m \u001b[38;5;28mprint\u001b[39m(\u001b[38;5;28mint\u001b[39m(\u001b[38;5;28;01mTrue\u001b[39;00m)) \n\u001b[0;32m      5\u001b[0m \u001b[38;5;28mprint\u001b[39m(\u001b[38;5;28mint\u001b[39m(\u001b[38;5;28;01mFalse\u001b[39;00m)) \n\u001b[1;32m----> 6\u001b[0m \u001b[38;5;28mprint\u001b[39m(\u001b[38;5;28;43mint\u001b[39;49m\u001b[43m(\u001b[49m\u001b[38;5;124;43m\"\u001b[39;49m\u001b[38;5;124;43mrasool\u001b[39;49m\u001b[38;5;124;43m\"\u001b[39;49m\u001b[43m)\u001b[49m)\n\u001b[0;32m      7\u001b[0m \u001b[38;5;28mprint\u001b[39m(\u001b[38;5;28mint\u001b[39m(\u001b[38;5;124m'\u001b[39m\u001b[38;5;124m123.45\u001b[39m\u001b[38;5;124m'\u001b[39m))\n",
      "\u001b[1;31mValueError\u001b[0m: invalid literal for int() with base 10: 'rasool'"
     ]
    }
   ],
   "source": [
    "print(int(12.999)) \n",
    "print(int(12)) \n",
    "print(int('123')) \n",
    "print(int(True)) \n",
    "print(int(False)) \n",
    "print(int(\"rasool\"))\n",
    "print(int('123.45')) "
   ]
  },
  {
   "cell_type": "markdown",
   "id": "ecb6186d-d18b-4e77-89df-594fc5ca434e",
   "metadata": {},
   "source": [
    "* str examples :"
   ]
  },
  {
   "cell_type": "code",
   "execution_count": 79,
   "id": "6d849de7-bba7-4cac-a252-99b251f1f2ff",
   "metadata": {},
   "outputs": [
    {
     "name": "stdout",
     "output_type": "stream",
     "text": [
      "12.345\n",
      "12\n",
      "-12\n",
      "123\n",
      "True\n"
     ]
    }
   ],
   "source": [
    "print(str(12.345))\n",
    "print(str(12)) \n",
    "print(str(-12))\n",
    "print(str('123')) \n",
    "print(str(True)) "
   ]
  },
  {
   "cell_type": "markdown",
   "id": "0594754b-6978-42ea-8d51-5c023bdc95b7",
   "metadata": {},
   "source": [
    "* float examples : "
   ]
  },
  {
   "cell_type": "code",
   "execution_count": 80,
   "id": "b39345d2-bc57-413e-8505-38ac08c80051",
   "metadata": {},
   "outputs": [
    {
     "name": "stdout",
     "output_type": "stream",
     "text": [
      "12.0\n",
      "12.34\n",
      "-12.45\n",
      "1.0\n"
     ]
    },
    {
     "ename": "ValueError",
     "evalue": "could not convert string to float: '123-45'",
     "output_type": "error",
     "traceback": [
      "\u001b[1;31m---------------------------------------------------------------------------\u001b[0m",
      "\u001b[1;31mValueError\u001b[0m                                Traceback (most recent call last)",
      "Input \u001b[1;32mIn [80]\u001b[0m, in \u001b[0;36m<cell line: 5>\u001b[1;34m()\u001b[0m\n\u001b[0;32m      3\u001b[0m \u001b[38;5;28mprint\u001b[39m(\u001b[38;5;28mfloat\u001b[39m(\u001b[38;5;124m'\u001b[39m\u001b[38;5;124m-12.45\u001b[39m\u001b[38;5;124m'\u001b[39m)) \u001b[38;5;66;03m# -12.45\u001b[39;00m\n\u001b[0;32m      4\u001b[0m \u001b[38;5;28mprint\u001b[39m(\u001b[38;5;28mfloat\u001b[39m(\u001b[38;5;28;01mTrue\u001b[39;00m)) \u001b[38;5;66;03m# 1.0\u001b[39;00m\n\u001b[1;32m----> 5\u001b[0m \u001b[38;5;28mprint\u001b[39m(\u001b[38;5;28;43mfloat\u001b[39;49m\u001b[43m(\u001b[49m\u001b[38;5;124;43m'\u001b[39;49m\u001b[38;5;124;43m123-45\u001b[39;49m\u001b[38;5;124;43m'\u001b[39;49m\u001b[43m)\u001b[49m)\n",
      "\u001b[1;31mValueError\u001b[0m: could not convert string to float: '123-45'"
     ]
    }
   ],
   "source": [
    "print(float(12)) # 12.0\n",
    "print(float(12.34)) # 12.34\n",
    "print(float('-12.45')) # -12.45\n",
    "print(float(True)) # 1.0\n",
    "print(float('123-45')) #???"
   ]
  },
  {
   "cell_type": "markdown",
   "id": "f52b7edb-b01d-4377-92b5-2edf06ed78ad",
   "metadata": {},
   "source": [
    "* boolean examples : "
   ]
  },
  {
   "cell_type": "code",
   "execution_count": 86,
   "id": "739c7901-389e-4654-8327-2be4f1602d60",
   "metadata": {},
   "outputs": [
    {
     "name": "stdout",
     "output_type": "stream",
     "text": [
      "True\n",
      "False\n",
      "False\n",
      "True\n",
      "True\n"
     ]
    }
   ],
   "source": [
    "print(bool(12.345)) \n",
    "print(bool(0)) \n",
    "print(bool('')) # and all empty data types\n",
    "print(bool(-2)) \n",
    "print(bool('Hi!'))"
   ]
  }
 ],
 "metadata": {
  "kernelspec": {
   "display_name": "Python 3 (ipykernel)",
   "language": "python",
   "name": "python3"
  },
  "language_info": {
   "codemirror_mode": {
    "name": "ipython",
    "version": 3
   },
   "file_extension": ".py",
   "mimetype": "text/x-python",
   "name": "python",
   "nbconvert_exporter": "python",
   "pygments_lexer": "ipython3",
   "version": "3.10.9"
  }
 },
 "nbformat": 4,
 "nbformat_minor": 5
}
