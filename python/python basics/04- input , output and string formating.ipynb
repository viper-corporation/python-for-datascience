{
 "cells": [
  {
   "cell_type": "markdown",
   "id": "782ec8e8-bb3a-4e27-8fc8-a473baf7b4f0",
   "metadata": {},
   "source": [
    "# input, output and string formatting"
   ]
  },
  {
   "cell_type": "markdown",
   "id": "a804861f-1ad3-4de4-beb6-c22f14b70d5d",
   "metadata": {},
   "source": [
    "* [input from keyboard](#input-from-keyboard)\n",
    "* [output to the console](#output-to-the-console)\n",
    "* [Keyword Arguments to print()](#Keyword-Arguments-to-print())\n",
    "* [string formatting](#string-formatting)\n",
    "    * [“Old Style” String Formatting (% Operator)](#“Old-Style”-String-Formatting-(%-Operator))\n",
    "    * [“New Style” String Formatting (str.format)](#“New-Style”-String-Formatting-(str.format))\n",
    "    * [ String Interpolation / f-Strings (Python 3.6+)](#String-Interpolation-/-f-Strings-(Python-3.6+))"
   ]
  },
  {
   "cell_type": "markdown",
   "id": "0de8cece-d51c-4111-849f-a1a01d0a1797",
   "metadata": {},
   "source": [
    "To be useful, a program usually needs to communicate with the outside world by obtaining input data from the user and displaying result data back to the user. This tutorial will introduce you to Python input and output.\n",
    "\n",
    "Input may come directly from the user via the keyboard, or from some external source like a file or database. Output can be displayed directly to the console or IDE, to the screen via a Graphical User Interface (GUI), or again to an external source."
   ]
  },
  {
   "cell_type": "markdown",
   "id": "6c4a69a2-5458-4687-9cf2-64797b8a7e52",
   "metadata": {},
   "source": [
    "## input from keyboard"
   ]
  },
  {
   "cell_type": "markdown",
   "id": "599db741-9c8c-4f8d-a370-c4173da2419b",
   "metadata": {},
   "source": [
    "Programs often need to obtain data from the user, usually by way of input from the keyboard. The simplest way to accomplish this in Python is `with input()`"
   ]
  },
  {
   "cell_type": "code",
   "execution_count": null,
   "id": "0123f045-4109-485d-bfac-2476980555bd",
   "metadata": {},
   "outputs": [
    {
     "name": "stdin",
     "output_type": "stream",
     "text": [
      "enter ypur name name \n"
     ]
    },
    {
     "data": {
      "text/plain": [
       "'name '"
      ]
     },
     "execution_count": 1,
     "metadata": {},
     "output_type": "execute_result"
    }
   ],
   "source": [
    "s = input()\n",
    "\n",
    "s"
   ]
  },
  {
   "cell_type": "markdown",
   "id": "c5964314-530f-4acc-8306-3ac9279b9d8a",
   "metadata": {},
   "source": [
    "**Note that the newline generated when the user presses the Enter key isn’t included as part of the return string.**"
   ]
  },
  {
   "cell_type": "markdown",
   "id": "5473be15-5c26-41b1-808e-e86e5ce0e0df",
   "metadata": {},
   "source": [
    "If you include the optional argument, input() displays it as a prompt to the user before pausing to read input:"
   ]
  },
  {
   "cell_type": "code",
   "execution_count": 12,
   "id": "dfc9cabd-291b-4bb4-99da-627f578c659f",
   "metadata": {},
   "outputs": [
    {
     "name": "stdin",
     "output_type": "stream",
     "text": [
      "What is your name?  rassool\n"
     ]
    },
    {
     "data": {
      "text/plain": [
       "'rassool'"
      ]
     },
     "execution_count": 12,
     "metadata": {},
     "output_type": "execute_result"
    }
   ],
   "source": [
    "name = input('What is your name? ')\n",
    "\n",
    "name"
   ]
  },
  {
   "cell_type": "markdown",
   "id": "ac3514cb-d808-40ad-a227-12d9c884ccda",
   "metadata": {},
   "source": [
    "**input() always returns a string.**"
   ]
  },
  {
   "cell_type": "code",
   "execution_count": null,
   "id": "d046969d-13fd-4279-9aee-06d78c7b2a4a",
   "metadata": {},
   "outputs": [
    {
     "name": "stdin",
     "output_type": "stream",
     "text": [
      "enter something True\n"
     ]
    },
    {
     "data": {
      "text/plain": [
       "str"
      ]
     },
     "execution_count": 3,
     "metadata": {},
     "output_type": "execute_result"
    }
   ],
   "source": [
    "s = input(\"enter something\")\n",
    "type(s)"
   ]
  },
  {
   "cell_type": "markdown",
   "id": "61e1584f-8692-4f44-b6d4-1c8cad174f4e",
   "metadata": {},
   "source": [
    "you can cascating this str like always "
   ]
  },
  {
   "cell_type": "code",
   "execution_count": null,
   "id": "322542a4-14e6-4564-b4f4-a58091b57818",
   "metadata": {},
   "outputs": [
    {
     "name": "stdin",
     "output_type": "stream",
     "text": [
      "enter a number rasool\n"
     ]
    },
    {
     "name": "stdout",
     "output_type": "stream",
     "text": [
      "it must be int\n"
     ]
    }
   ],
   "source": [
    "s = int(input(\"enter a number\"))\n",
    "type(s)"
   ]
  },
  {
   "cell_type": "markdown",
   "id": "dad6ecbc-2b59-44fa-a881-83d102e9ad15",
   "metadata": {},
   "source": [
    "## Output to the Console"
   ]
  },
  {
   "cell_type": "markdown",
   "id": "3c2e9011-9c1b-49ff-9cfe-9b2db021b880",
   "metadata": {},
   "source": [
    "You can display program data to the console in Python with print()."
   ]
  },
  {
   "cell_type": "code",
   "execution_count": null,
   "id": "af91f9e0-63b8-4344-b4b8-0c1df9c197ea",
   "metadata": {},
   "outputs": [
    {
     "name": "stdout",
     "output_type": "stream",
     "text": [
      "rasool\n"
     ]
    },
    {
     "data": {
      "text/plain": [
       "NoneType"
      ]
     },
     "execution_count": 10,
     "metadata": {},
     "output_type": "execute_result"
    }
   ],
   "source": [
    "print(\"rasool\")"
   ]
  },
  {
   "cell_type": "code",
   "execution_count": null,
   "id": "920a1623-9791-4561-b96c-cb93a53358e6",
   "metadata": {},
   "outputs": [
    {
     "name": "stdin",
     "output_type": "stream",
     "text": [
      "enter your name ? rasool\n"
     ]
    },
    {
     "name": "stdout",
     "output_type": "stream",
     "text": [
      "your name israsool\n"
     ]
    }
   ],
   "source": [
    "name = input(\"enter your name ?\")\n",
    "print(\"your name is\", name)"
   ]
  },
  {
   "cell_type": "markdown",
   "id": "492b71bb-a4b4-42c0-9a41-1e134232d496",
   "metadata": {},
   "source": [
    "even complex types like lists, dictionaries, and functions can be displayed to the console with print()."
   ]
  },
  {
   "cell_type": "code",
   "execution_count": 25,
   "id": "40f6c2fa-3b9e-4d05-84e7-ccdf20b62dc0",
   "metadata": {},
   "outputs": [
    {
     "name": "stdout",
     "output_type": "stream",
     "text": [
      "<class 'list'>\n",
      "<class 'builtin_function_or_method'>\n",
      "[1, 2, 3] <built-in function len>\n"
     ]
    }
   ],
   "source": [
    "a = [1,2,3]\n",
    "print(type(a))\n",
    "print(type(len))\n",
    "print(a , len)"
   ]
  },
  {
   "cell_type": "markdown",
   "id": "e5c70ec3-236f-473a-ab49-a75c0f24c97b",
   "metadata": {},
   "source": [
    "## Keyword Arguments to print()"
   ]
  },
  {
   "cell_type": "markdown",
   "id": "1b9a579c-b74f-4414-b170-c4c23a4fc36b",
   "metadata": {},
   "source": [
    "**Notice that any keyword arguments passed to print() must come at the end, after the list of objects to display.**"
   ]
  },
  {
   "cell_type": "markdown",
   "id": "87a34e1f-9423-44a3-825a-1fa4d3b3d564",
   "metadata": {},
   "source": [
    "* sep "
   ]
  },
  {
   "cell_type": "code",
   "execution_count": null,
   "id": "c73f63f2-ebee-4e92-a2a2-2babf4601a39",
   "metadata": {},
   "outputs": [
    {
     "name": "stdout",
     "output_type": "stream",
     "text": [
      "rasool/42/ahadi\n"
     ]
    }
   ],
   "source": [
    "print('rasool', 42, 'ahadi', sep='/')"
   ]
  },
  {
   "cell_type": "markdown",
   "id": "1aee8933-fed1-432a-9695-54f8caeca167",
   "metadata": {},
   "source": [
    "* end"
   ]
  },
  {
   "cell_type": "code",
   "execution_count": null,
   "id": "99e57cf2-429a-4b3d-947a-6385eb1e23a7",
   "metadata": {},
   "outputs": [
    {
     "name": "stdout",
     "output_type": "stream",
     "text": [
      "rasool\n",
      "42/ahadi\n"
     ]
    }
   ],
   "source": [
    "print('rasool', end='/')\n",
    "print(42, end='/')\n",
    "print('ahadi')"
   ]
  },
  {
   "cell_type": "markdown",
   "id": "08fbddcf-b802-480f-9bbd-f035bfa7cfcd",
   "metadata": {},
   "source": [
    "## string formating"
   ]
  },
  {
   "cell_type": "markdown",
   "id": "698e0bd2-5238-41e0-bf34-80f34a47548e",
   "metadata": {},
   "source": [
    "In many cases, you’ll need more precise control over the appearance of data destined for display. Python provides several ways to format output string data. "
   ]
  },
  {
   "cell_type": "markdown",
   "id": "b9558ca2-1a5d-464b-aa47-892ace9cd3ce",
   "metadata": {},
   "source": [
    "* ## “Old Style” String Formatting (% Operator)"
   ]
  },
  {
   "cell_type": "markdown",
   "id": "f3b12a4c-f14e-467d-bd45-e3a405801276",
   "metadata": {},
   "source": [
    "Strings in Python have a unique built-in operation that can be accessed with the % operator."
   ]
  },
  {
   "cell_type": "code",
   "execution_count": null,
   "id": "24f53aee-a785-4639-bcf7-0e6914a662c3",
   "metadata": {},
   "outputs": [
    {
     "name": "stdin",
     "output_type": "stream",
     "text": [
      "enter your name? rasool\n"
     ]
    },
    {
     "name": "stdout",
     "output_type": "stream",
     "text": [
      "Hello, rasool\n"
     ]
    }
   ],
   "source": [
    "name = input(\"enter your name?\")\n",
    "print('Hello, %s' % name)"
   ]
  },
  {
   "cell_type": "markdown",
   "id": "627748c1-fcda-4bd3-a8ae-9bf28bd68844",
   "metadata": {},
   "source": [
    "* ## “New Style” String Formatting (str.format)"
   ]
  },
  {
   "cell_type": "markdown",
   "id": "8b94a072-9713-4f84-bfc7-3dc906443b30",
   "metadata": {},
   "source": [
    "You can use format() to do simple positional formatting, just like you could with “old style” formatting:"
   ]
  },
  {
   "cell_type": "code",
   "execution_count": 42,
   "id": "6dfa9181-617a-4ab1-98ef-6884312814c6",
   "metadata": {},
   "outputs": [
    {
     "name": "stdin",
     "output_type": "stream",
     "text": [
      "enter your name? rasool\n"
     ]
    },
    {
     "name": "stdout",
     "output_type": "stream",
     "text": [
      "Hello, rasool\n"
     ]
    }
   ],
   "source": [
    "name = input(\"enter your name?\")\n",
    "print('Hello, {}'.format(name))"
   ]
  },
  {
   "cell_type": "markdown",
   "id": "c82d9ce1-aab2-40fb-add8-7e409caf33cf",
   "metadata": {},
   "source": [
    "* ## String Interpolation / f-Strings (Python 3.6+)"
   ]
  },
  {
   "cell_type": "code",
   "execution_count": 44,
   "id": "7d8cb174-026d-4c36-9131-f5d3b55aef02",
   "metadata": {},
   "outputs": [
    {
     "name": "stdin",
     "output_type": "stream",
     "text": [
      "enter your name? rasool\n"
     ]
    },
    {
     "name": "stdout",
     "output_type": "stream",
     "text": [
      "Hello, rasool!\n"
     ]
    }
   ],
   "source": [
    "name = input(\"enter your name?\")\n",
    "print(f'Hello, {name}!')"
   ]
  },
  {
   "cell_type": "code",
   "execution_count": null,
   "id": "f47326a8-b3da-4aed-9973-d509bf692b7b",
   "metadata": {},
   "outputs": [
    {
     "data": {
      "text/plain": [
       "'Five plus ten is15and not30'"
      ]
     },
     "execution_count": 23,
     "metadata": {},
     "output_type": "execute_result"
    }
   ],
   "source": [
    "a=5\n",
    "b=10\n",
    "f'Five plus ten is {a + b} and not {2 * (a + b)}.'"
   ]
  },
  {
   "cell_type": "markdown",
   "id": "61a93820-899a-4920-bdbb-a26fb855cd1e",
   "metadata": {},
   "source": [
    "**for more information you can read [this article](https://realpython.com/python-string-formatting/) for string formatting** "
   ]
  }
 ],
 "metadata": {
  "kernelspec": {
   "display_name": "Python 3 (ipykernel)",
   "language": "python",
   "name": "python3"
  },
  "language_info": {
   "codemirror_mode": {
    "name": "ipython",
    "version": 3
   },
   "file_extension": ".py",
   "mimetype": "text/x-python",
   "name": "python",
   "nbconvert_exporter": "python",
   "pygments_lexer": "ipython3",
   "version": "3.10.9"
  }
 },
 "nbformat": 4,
 "nbformat_minor": 5
}
