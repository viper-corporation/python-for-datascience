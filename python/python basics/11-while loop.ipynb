{
 "cells": [
  {
   "cell_type": "markdown",
   "id": "33d128bb-7be6-4897-8e29-4eebbdf8dfd2",
   "metadata": {},
   "source": [
    "# while Loops (Indefinite Iteration)"
   ]
  },
  {
   "cell_type": "markdown",
   "id": "43a0bdd5-5a71-4e9b-a8dd-a90c98b29d6f",
   "metadata": {},
   "source": [
    "* [The while Loop](#The-while-Loop)\n",
    "* [break, continue and else](#break,-continue-and-else)\n",
    "* [Infinite loops](#Infinite-loops)\n",
    "* [Nested while Loops](#Nested-while-Loops)\n",
    "* [One-Line while Loops](#One-Line-while-Loops)"
   ]
  },
  {
   "cell_type": "markdown",
   "id": "747ff3ae-a1c7-44b2-a085-95c75a280abf",
   "metadata": {},
   "source": [
    "With indefinite iteration, the number of times the loop is executed isn’t specified explicitly in advance. Rather, **the designated block is executed repeatedly as long as some condition is met.**"
   ]
  },
  {
   "cell_type": "markdown",
   "id": "04fd9f82-1c11-4312-a6d7-f19103341987",
   "metadata": {},
   "source": [
    "## The while Loop"
   ]
  },
  {
   "cell_type": "markdown",
   "id": "130b6770-89b9-4162-97ef-5c4275052c1b",
   "metadata": {},
   "source": [
    "```python\n",
    "while <expr>:\n",
    "    <statement(s)>\n",
    "```"
   ]
  },
  {
   "cell_type": "markdown",
   "id": "9ec518b9-3f3e-49fd-bccf-70b5bf576c9e",
   "metadata": {},
   "source": [
    "> **Remember:** All control structures in Python use **indentation** to define blocks."
   ]
  },
  {
   "cell_type": "code",
   "execution_count": 7,
   "id": "e8ff6a9b-3dcb-42bc-91c8-da246163b77b",
   "metadata": {},
   "outputs": [
    {
     "name": "stdout",
     "output_type": "stream",
     "text": [
      "4\n",
      "3\n",
      "2\n",
      "1\n",
      "0\n"
     ]
    }
   ],
   "source": [
    "n = 5\n",
    "while n > 0:\n",
    "    n -= 1\n",
    "    print(n)"
   ]
  },
  {
   "cell_type": "markdown",
   "id": "d052a247-efbf-4d60-bf96-f317a4fafac2",
   "metadata": {},
   "source": [
    "Here’s what’s happening in this example:\n",
    "* n is initially 5. The expression in the while statement header on line 2 is n > 0, which is true, so the loop body executes. Inside the loop body on line 3, n is decremented by 1 to 4, and then printed.\n",
    "* When the body of the loop has finished, program execution returns to the top of the loop at line 2, and the expression is evaluated again. It is still true, so the body executes again, and 3 is printed.\n",
    "* This continues until n becomes 0. At that point, when the expression is tested, it is false, and the loop terminates. Execution would resume at the first statement following the loop body, but there isn’t one in this case."
   ]
  },
  {
   "cell_type": "code",
   "execution_count": 9,
   "id": "50f6433e-9464-4099-a9ef-4a0f103c4ab9",
   "metadata": {},
   "outputs": [],
   "source": [
    "n = 0\n",
    "while n > 0:\n",
    "    n -= 1\n",
    "    print(n)"
   ]
  },
  {
   "cell_type": "code",
   "execution_count": 10,
   "id": "66644a75-4c35-4801-8c76-f3a1caab1c84",
   "metadata": {},
   "outputs": [
    {
     "name": "stdout",
     "output_type": "stream",
     "text": [
      "baz\n",
      "bar\n",
      "foo\n"
     ]
    }
   ],
   "source": [
    "a = ['foo', 'bar', 'baz']\n",
    "while a:\n",
    "    print(a.pop(-1))"
   ]
  },
  {
   "cell_type": "markdown",
   "id": "acd5f0eb-aae3-4e6f-aab1-7abeef7fe2d4",
   "metadata": {},
   "source": [
    "## break, continue and else "
   ]
  },
  {
   "cell_type": "code",
   "execution_count": 12,
   "id": "645625d7-7bdb-47e0-8a1c-753e36134cef",
   "metadata": {},
   "outputs": [
    {
     "name": "stdout",
     "output_type": "stream",
     "text": [
      "4\n",
      "3\n",
      "Loop ended.\n"
     ]
    }
   ],
   "source": [
    "n = 5\n",
    "while n > 0:\n",
    "    n -= 1\n",
    "    if n == 2:\n",
    "        break\n",
    "    print(n)\n",
    "print('Loop ended.')"
   ]
  },
  {
   "cell_type": "code",
   "execution_count": 13,
   "id": "8cf09880-8287-4161-86e7-e9252aee8baf",
   "metadata": {},
   "outputs": [
    {
     "name": "stdout",
     "output_type": "stream",
     "text": [
      "4\n",
      "3\n",
      "1\n",
      "0\n",
      "Loop ended.\n"
     ]
    }
   ],
   "source": [
    "n = 5\n",
    "while n > 0:\n",
    "    n -= 1\n",
    "    if n == 2:\n",
    "        continue\n",
    "    print(n)\n",
    "print('Loop ended.')"
   ]
  },
  {
   "cell_type": "code",
   "execution_count": 14,
   "id": "27db7855-800e-4027-8cca-c347ac5cb23f",
   "metadata": {},
   "outputs": [
    {
     "name": "stdout",
     "output_type": "stream",
     "text": [
      "4\n",
      "3\n",
      "2\n",
      "1\n",
      "0\n",
      "Loop done.\n"
     ]
    }
   ],
   "source": [
    "n = 5\n",
    "while n > 0:\n",
    "    n -= 1\n",
    "    print(n)\n",
    "else:\n",
    "    print('Loop done.')\n"
   ]
  },
  {
   "cell_type": "markdown",
   "id": "3c748e6a-04b0-4b30-8337-6b6a2a5fcf7c",
   "metadata": {},
   "source": [
    "One of the following interpretations might help to make it more intuitive:\n",
    "\n",
    "* Think of the header of the loop (while n > 0) as an if statement (if n > 0) that gets executed over and over, with the else clause finally being executed when the condition becomes false.\n",
    "\n",
    "* Think of else as though it were nobreak, in that the block that follows gets executed if there wasn’t a break."
   ]
  },
  {
   "cell_type": "code",
   "execution_count": 20,
   "id": "c15df281-ebde-4ae1-98d2-dbdda7698733",
   "metadata": {},
   "outputs": [
    {
     "name": "stdout",
     "output_type": "stream",
     "text": [
      "corge not found in list.\n"
     ]
    }
   ],
   "source": [
    "a = ['foo', 'bar', 'baz', 'qux']\n",
    "s = 'corge'\n",
    "i = 0\n",
    "while i < len(a):\n",
    "    if a[i] == s:\n",
    "        break\n",
    "    i += 1\n",
    "else:\n",
    "    print(s, 'not found in list.')"
   ]
  },
  {
   "cell_type": "markdown",
   "id": "7f42c3da-cb5d-48b7-abcf-56f235db7fba",
   "metadata": {},
   "source": [
    "## Infinite Loops"
   ]
  },
  {
   "cell_type": "markdown",
   "id": "c1887139-a1a8-4963-9586-043ddfd9e265",
   "metadata": {},
   "source": [
    "```python\n",
    "while True:\n",
    "     print('foo')\n",
    "```"
   ]
  },
  {
   "cell_type": "markdown",
   "id": "fcbac45c-8e27-46b2-8097-6649c3dbd389",
   "metadata": {},
   "source": [
    "Maybe that doesn’t sound like something you’d want to do, but this pattern is actually quite common. For example, you might write code for a service that starts up and runs forever accepting service requests. “Forever” in this context means until you shut it down, or until the heat death of the universe, whichever comes first."
   ]
  },
  {
   "cell_type": "code",
   "execution_count": 1,
   "id": "c1b7681d-5dc7-4848-83b7-e18b7195afa2",
   "metadata": {},
   "outputs": [
    {
     "name": "stdin",
     "output_type": "stream",
     "text": [
      "type \"exit\" to exit 1\n",
      "type \"exit\" to exit 2\n",
      "type \"exit\" to exit 3\n",
      "type \"exit\" to exit 4\n",
      "type \"exit\" to exit 5\n",
      "type \"exit\" to exit exit\n"
     ]
    }
   ],
   "source": [
    "while True :\n",
    "    inp = input(\"type \\\"exit\\\" to exit\")\n",
    "    if inp ==\"exit\" : break"
   ]
  },
  {
   "cell_type": "markdown",
   "id": "464bf58c-4ea0-43af-b118-fad6c541df99",
   "metadata": {},
   "source": [
    "## Nested while Loops"
   ]
  },
  {
   "cell_type": "markdown",
   "id": "1ca9a4c1-6a0f-40cb-a433-a7b96c599099",
   "metadata": {},
   "source": [
    "In general, Python control structures can be nested within one another. For example, if/elif/else conditional statements can be nested:"
   ]
  },
  {
   "cell_type": "code",
   "execution_count": 4,
   "id": "5b694149-5fdf-4934-b601-38eddc15a8e3",
   "metadata": {},
   "outputs": [
    {
     "name": "stdout",
     "output_type": "stream",
     "text": [
      "foo\n",
      "> baz\n",
      "> qux\n",
      "bar\n",
      "> baz\n",
      "> qux\n"
     ]
    }
   ],
   "source": [
    "a = ['foo', 'bar']\n",
    "while len(a):\n",
    "    print(a.pop(0))\n",
    "    b = ['baz', 'qux']\n",
    "    while len(b):\n",
    "        print('>', b.pop(0))"
   ]
  },
  {
   "cell_type": "markdown",
   "id": "84ff25a2-9f34-4bb0-b1a4-61b3a0642a87",
   "metadata": {},
   "source": [
    "## One-Line while Loops"
   ]
  },
  {
   "cell_type": "code",
   "execution_count": 6,
   "id": "270b05a2-8474-4ebf-9c68-ddb0d61ee5d1",
   "metadata": {},
   "outputs": [
    {
     "name": "stdout",
     "output_type": "stream",
     "text": [
      "4\n",
      "3\n",
      "2\n",
      "1\n",
      "0\n"
     ]
    }
   ],
   "source": [
    "n = 5\n",
    "while n > 0: n -= 1; print(n)"
   ]
  },
  {
   "cell_type": "markdown",
   "id": "d11bff51-61ed-4972-9a30-48bee6fba283",
   "metadata": {},
   "source": [
    "> **note:** that PEP 8 discourages multiple statements on one line. So you probably shouldn’t be doing any of this very often anyhow."
   ]
  }
 ],
 "metadata": {
  "kernelspec": {
   "display_name": "Python 3 (ipykernel)",
   "language": "python",
   "name": "python3"
  },
  "language_info": {
   "codemirror_mode": {
    "name": "ipython",
    "version": 3
   },
   "file_extension": ".py",
   "mimetype": "text/x-python",
   "name": "python",
   "nbconvert_exporter": "python",
   "pygments_lexer": "ipython3",
   "version": "3.9.12"
  }
 },
 "nbformat": 4,
 "nbformat_minor": 5
}
