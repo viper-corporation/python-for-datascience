{
 "cells": [
  {
   "cell_type": "code",
   "execution_count": 66,
   "id": "bf3a4358-6e37-4397-a031-d64361e761d4",
   "metadata": {},
   "outputs": [
    {
     "data": {
      "text/plain": [
       "[1, 2, 3, 'rasool']"
      ]
     },
     "execution_count": 66,
     "metadata": {},
     "output_type": "execute_result"
    }
   ],
   "source": [
    "str order\n",
    "    arbitarary not\n",
    "    access by index +\n",
    "    nested -\n",
    "    immutable\n",
    "list order +\n",
    "     arb +\n",
    "    access by index +\n",
    "    nested +\n",
    "    mutable +\n",
    "tuple \n",
    "    order +\n",
    "    arb +\n",
    "    access by index +\n",
    "    nested +\n",
    "    mutable -\n",
    "set\n",
    "    order -\n",
    "    access by index -\n",
    "    arb -\n",
    "    mutable -\n",
    "dict\n",
    "    order +\n",
    "    access by index -\n",
    "    arb -> key=immutable value= +\n",
    "    mutable +"
   ]
  },
  {
   "cell_type": "code",
   "execution_count": 98,
   "id": "5d7bd534-09e3-4e40-a47e-e03d957e72f4",
   "metadata": {},
   "outputs": [
    {
     "data": {
      "text/plain": [
       "[3, 5, 6]"
      ]
     },
     "execution_count": 98,
     "metadata": {},
     "output_type": "execute_result"
    }
   ],
   "source": [
    "d = {\"name\":[1,2,3], \"lastname\":[3,5,6]}\n",
    "d[\"lastname\"]"
   ]
  },
  {
   "cell_type": "code",
   "execution_count": 102,
   "id": "c12ce1aa-7530-469e-906f-44df84eb3e5b",
   "metadata": {},
   "outputs": [
    {
     "data": {
      "text/plain": [
       "2"
      ]
     },
     "execution_count": 102,
     "metadata": {},
     "output_type": "execute_result"
    }
   ],
   "source": [
    "a =1\n",
    "b =2\n",
    "(b,a) =(a,b)\n",
    "a"
   ]
  }
 ],
 "metadata": {
  "kernelspec": {
   "display_name": "Python 3 (ipykernel)",
   "language": "python",
   "name": "python3"
  },
  "language_info": {
   "codemirror_mode": {
    "name": "ipython",
    "version": 3
   },
   "file_extension": ".py",
   "mimetype": "text/x-python",
   "name": "python",
   "nbconvert_exporter": "python",
   "pygments_lexer": "ipython3",
   "version": "3.10.9"
  }
 },
 "nbformat": 4,
 "nbformat_minor": 5
}
