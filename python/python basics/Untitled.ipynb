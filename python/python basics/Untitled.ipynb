{
 "cells": [
  {
   "cell_type": "code",
   "execution_count": null,
   "id": "bf3a4358-6e37-4397-a031-d64361e761d4",
   "metadata": {},
   "outputs": [
    {
     "data": {
      "text/plain": [
       "[1, 2, 3, 'rasool']"
      ]
     },
     "execution_count": 66,
     "metadata": {},
     "output_type": "execute_result"
    }
   ],
   "source": [
    "str order\n",
    "    arbitarary not\n",
    "    access by index +\n",
    "    nested -\n",
    "    immutable\n",
    "    \n",
    "list order +\n",
    "     arb +\n",
    "    access by index +\n",
    "    nested +\n",
    "    mutable +\n",
    "    \n",
    "tuple  \n",
    "    order +\n",
    "    arb +\n",
    "    access by index +\n",
    "    nested +\n",
    "    mutable -\n",
    "    \n",
    "set\n",
    "    order -\n",
    "    access by index -\n",
    "    arb -\n",
    "    mutable -\n",
    "dict\n",
    "    order +\n",
    "    access by index -\n",
    "    arb -> key=immutable value= +\n",
    "    mutable +"
   ]
  },
  {
   "cell_type": "markdown",
   "id": "c54dfeae-f544-49e3-b17f-b85dde2a2901",
   "metadata": {},
   "source": [
    "Write a program to display all prime numbers within a range"
   ]
  },
  {
   "cell_type": "code",
   "execution_count": 139,
   "id": "d9cd24e9-24d7-4e5d-97de-8b042bfe63f6",
   "metadata": {},
   "outputs": [
    {
     "name": "stdin",
     "output_type": "stream",
     "text": [
      "adad khod ra vared konid 2\n",
      "adad khod ra vared konid 18\n"
     ]
    },
    {
     "name": "stdout",
     "output_type": "stream",
     "text": [
      "[2, 3, 5, 7, 11, 13, 17]\n"
     ]
    }
   ],
   "source": [
    "number1 = int(input(\"adad khod ra vared konid\"))\n",
    "number2 = int(input(\"adad khod ra vared konid\"))\n",
    "\n",
    "lst = [] \n",
    "for j in range(number1, number2):\n",
    "    for i in range(2,j):\n",
    "        if j%i==0:    \n",
    "            break\n",
    "    else :\n",
    "        lst.append(j)\n",
    "print(lst)"
   ]
  },
  {
   "cell_type": "code",
   "execution_count": null,
   "id": "e9325438-2c9e-4ba7-a95d-041a928403e0",
   "metadata": {},
   "outputs": [],
   "source": [
    "* \n",
    "* * \n",
    "* * * \n",
    "* * * * \n",
    "* * * * * \n",
    "* * * * \n",
    "* * * \n",
    "* * \n",
    "*"
   ]
  },
  {
   "cell_type": "code",
   "execution_count": 144,
   "id": "3371e740-dd6c-4f44-8fcd-159ad0af6885",
   "metadata": {},
   "outputs": [
    {
     "name": "stdin",
     "output_type": "stream",
     "text": [
      "adad khod ra vared konid 5\n"
     ]
    },
    {
     "name": "stdout",
     "output_type": "stream",
     "text": [
      "*\n",
      "**\n",
      "***\n",
      "****\n",
      "*****\n",
      "****\n",
      "***\n",
      "**\n",
      "*\n"
     ]
    }
   ],
   "source": [
    "inp = int(input(\"adad khod ra vared konid\"))\n",
    "\n",
    "for i in range(1,inp):\n",
    "    print(\"*\"*i)\n",
    "for i in range(inp,0,-1):\n",
    "    print(\"*\"*i)\n"
   ]
  },
  {
   "cell_type": "code",
   "execution_count": 162,
   "id": "54da9b42-ec30-42fa-a0b4-686475c2082e",
   "metadata": {},
   "outputs": [],
   "source": [
    "a = [1,2,3,4,5,6,7,8,9,10,11]\n",
    "dic = {\"name\":\"rasool\", \"lastname\": \"ahadi\"}"
   ]
  },
  {
   "cell_type": "code",
   "execution_count": 173,
   "id": "39176e42-4330-4b39-b76c-e6e974e3db3e",
   "metadata": {},
   "outputs": [
    {
     "data": {
      "text/plain": [
       "[6, 8]"
      ]
     },
     "execution_count": 173,
     "metadata": {},
     "output_type": "execute_result"
    }
   ],
   "source": [
    "list(range(6,10,2))"
   ]
  },
  {
   "cell_type": "code",
   "execution_count": 179,
   "id": "2cdc586b-eb67-42d8-908f-4b0ecfdd75d6",
   "metadata": {},
   "outputs": [],
   "source": [
    "a = [0,1,2,3,4]"
   ]
  },
  {
   "cell_type": "code",
   "execution_count": 187,
   "id": "7ee0fc44-2fcc-494e-8f9e-8868e09e261c",
   "metadata": {},
   "outputs": [
    {
     "name": "stdout",
     "output_type": "stream",
     "text": [
      "foo\n",
      "bar\n",
      "baz\n",
      "qux\n",
      "else\n",
      "after for loop\n"
     ]
    }
   ],
   "source": [
    "a =  ['foo', 'bar', 'baz', 'qux']\n",
    "\n",
    "for i in a :\n",
    "    if \"l\" in i:\n",
    "        break\n",
    "    print(i)\n",
    "else : \n",
    "    print(\"else\")\n",
    "print(\"after for loop\")"
   ]
  },
  {
   "cell_type": "code",
   "execution_count": 201,
   "id": "c728582a-5d06-4539-a22a-a0cbeaa4ebc5",
   "metadata": {},
   "outputs": [
    {
     "name": "stdout",
     "output_type": "stream",
     "text": [
      "5\n",
      "4\n",
      "3\n",
      "2\n",
      "1\n"
     ]
    }
   ],
   "source": [
    "n = 5\n",
    "while n>0: print(n) ; n = n-1\n",
    "    "
   ]
  },
  {
   "cell_type": "code",
   "execution_count": null,
   "id": "a5015dac-05c8-4cd1-8ded-365ee7147d45",
   "metadata": {},
   "outputs": [],
   "source": [
    "loop => for (iterable(dt, range))\n",
    "        while"
   ]
  }
 ],
 "metadata": {
  "kernelspec": {
   "display_name": "Python 3 (ipykernel)",
   "language": "python",
   "name": "python3"
  },
  "language_info": {
   "codemirror_mode": {
    "name": "ipython",
    "version": 3
   },
   "file_extension": ".py",
   "mimetype": "text/x-python",
   "name": "python",
   "nbconvert_exporter": "python",
   "pygments_lexer": "ipython3",
   "version": "3.10.9"
  }
 },
 "nbformat": 4,
 "nbformat_minor": 5
}
