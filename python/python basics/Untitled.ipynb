{
 "cells": [
  {
   "cell_type": "code",
   "execution_count": 3,
   "id": "1ab75413-bfaa-484a-84fb-901523ada913",
   "metadata": {},
   "outputs": [
    {
     "data": {
      "text/plain": [
       "[23, 24, 27]"
      ]
     },
     "execution_count": 3,
     "metadata": {},
     "output_type": "execute_result"
    }
   ],
   "source": [
    "functional programming\n",
    "oop programming "
   ]
  },
  {
   "cell_type": "code",
   "execution_count": 44,
   "id": "91275da0-4e4f-46ac-8167-5deedcd83828",
   "metadata": {},
   "outputs": [
    {
     "name": "stdout",
     "output_type": "stream",
     "text": [
      "2500\n",
      "1050\n"
     ]
    }
   ],
   "source": [
    "class Car:\n",
    "    def __init__(self,color,distance):\n",
    "        self.color = color\n",
    "        self.distance = distance\n",
    "    def ezafe(self, metr) :\n",
    "        self.distance = self.distance + metr\n",
    "        \n",
    "car1 = Car(\"blue\", 1000)\n",
    "car2 = Car(\"red\", 2000)\n",
    "car1.ezafe(50)\n",
    "car1.distance\n",
    "car2.distance\n",
    "car2.ezafe(500)\n",
    "print(car2.distance)\n",
    "print(car1.distance)\n"
   ]
  },
  {
   "cell_type": "code",
   "execution_count": 38,
   "id": "0c3978d6-53f7-4837-916c-07bc3f738a9b",
   "metadata": {},
   "outputs": [
    {
     "name": "stdout",
     "output_type": "stream",
     "text": [
      "rex parssing\n"
     ]
    }
   ],
   "source": [
    "class Car:\n",
    "    species = \"Canis familiaris\"\n",
    "    def __init__(self,name,age):\n",
    "        self.name = name\n",
    "        self.age = age\n",
    "    def pars(self) :\n",
    "        return f\"{self.name} parssing\"\n",
    "        \n",
    "dog1 = Dog(\"rex\", 7)\n",
    "\n",
    "dog1.species = \"x\"\n",
    "print(dog1.pars())"
   ]
  },
  {
   "cell_type": "code",
   "execution_count": 25,
   "id": "7c09aa6a-7385-4b4d-aa9e-fb0fdc45d57c",
   "metadata": {},
   "outputs": [
    {
     "data": {
      "text/plain": [
       "'rasoolahadi'"
      ]
     },
     "execution_count": 25,
     "metadata": {},
     "output_type": "execute_result"
    }
   ],
   "source": [
    "a = \"rasool\"\n",
    "a.lower(\"ras\")"
   ]
  }
 ],
 "metadata": {
  "kernelspec": {
   "display_name": "Python 3 (ipykernel)",
   "language": "python",
   "name": "python3"
  },
  "language_info": {
   "codemirror_mode": {
    "name": "ipython",
    "version": 3
   },
   "file_extension": ".py",
   "mimetype": "text/x-python",
   "name": "python",
   "nbconvert_exporter": "python",
   "pygments_lexer": "ipython3",
   "version": "3.10.9"
  }
 },
 "nbformat": 4,
 "nbformat_minor": 5
}
