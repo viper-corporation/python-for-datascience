{
 "cells": [
  {
   "cell_type": "code",
   "execution_count": 106,
   "id": "54e8ad05-01f7-47a5-877d-654bafcd10e0",
   "metadata": {},
   "outputs": [
    {
     "data": {
      "text/plain": [
       "'ro '"
      ]
     },
     "execution_count": 106,
     "metadata": {},
     "output_type": "execute_result"
    }
   ],
   "source": [
    "name = \"rasool ahadi\"\n",
    "name[0:9:3]\n"
   ]
  },
  {
   "cell_type": "code",
   "execution_count": 120,
   "id": "84d67a7a-38fa-4110-a4c1-763cb44fa20b",
   "metadata": {},
   "outputs": [
    {
     "name": "stdin",
     "output_type": "stream",
     "text": [
      "vorodi akb\n"
     ]
    },
    {
     "data": {
      "text/plain": [
       "True"
      ]
     },
     "execution_count": 120,
     "metadata": {},
     "output_type": "execute_result"
    }
   ],
   "source": [
    "inp = input(\"vorodi\")\n",
    "inp[::1] == inp"
   ]
  },
  {
   "cell_type": "code",
   "execution_count": 75,
   "id": "54e4724d-cae1-48d6-a3e7-83e571f0a6fd",
   "metadata": {},
   "outputs": [
    {
     "name": "stdin",
     "output_type": "stream",
     "text": [
      "matn khod ra vvared konid dsf\n"
     ]
    },
    {
     "name": "stdout",
     "output_type": "stream",
     "text": [
      "harf a dar matn vojod nadard\n"
     ]
    }
   ],
   "source": [
    "indexing\n",
    "slicing"
   ]
  }
 ],
 "metadata": {
  "kernelspec": {
   "display_name": "Python 3 (ipykernel)",
   "language": "python",
   "name": "python3"
  },
  "language_info": {
   "codemirror_mode": {
    "name": "ipython",
    "version": 3
   },
   "file_extension": ".py",
   "mimetype": "text/x-python",
   "name": "python",
   "nbconvert_exporter": "python",
   "pygments_lexer": "ipython3",
   "version": "3.10.9"
  }
 },
 "nbformat": 4,
 "nbformat_minor": 5
}
