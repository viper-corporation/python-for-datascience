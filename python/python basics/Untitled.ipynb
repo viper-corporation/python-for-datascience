{
 "cells": [
  {
   "cell_type": "code",
   "execution_count": 89,
   "id": "4d737e8a-4531-4f41-99b1-16220aa61f64",
   "metadata": {},
   "outputs": [],
   "source": [
    "n = 300 "
   ]
  },
  {
   "cell_type": "code",
   "execution_count": 90,
   "id": "05596144-c1fc-4ffa-bd4c-e737ad0b5a20",
   "metadata": {},
   "outputs": [
    {
     "data": {
      "text/plain": [
       "300"
      ]
     },
     "execution_count": 90,
     "metadata": {},
     "output_type": "execute_result"
    }
   ],
   "source": [
    "n"
   ]
  },
  {
   "cell_type": "code",
   "execution_count": 91,
   "id": "17957644-09ca-4f5c-bd72-5c3d876af26b",
   "metadata": {},
   "outputs": [],
   "source": [
    "m = n "
   ]
  },
  {
   "cell_type": "code",
   "execution_count": null,
   "id": "e2122b05-7b30-4803-b813-7b7e6611dfb1",
   "metadata": {},
   "outputs": [],
   "source": [
    "m = 400"
   ]
  },
  {
   "cell_type": "code",
   "execution_count": null,
   "id": "8b995a90-9ba2-4168-9ac0-75f4fc7b892b",
   "metadata": {},
   "outputs": [],
   "source": [
    "n = 200"
   ]
  }
 ],
 "metadata": {
  "kernelspec": {
   "display_name": "Python 3 (ipykernel)",
   "language": "python",
   "name": "python3"
  },
  "language_info": {
   "codemirror_mode": {
    "name": "ipython",
    "version": 3
   },
   "file_extension": ".py",
   "mimetype": "text/x-python",
   "name": "python",
   "nbconvert_exporter": "python",
   "pygments_lexer": "ipython3",
   "version": "3.10.9"
  }
 },
 "nbformat": 4,
 "nbformat_minor": 5
}
