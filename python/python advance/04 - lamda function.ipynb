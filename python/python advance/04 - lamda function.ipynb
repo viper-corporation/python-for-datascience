{
 "cells": [
  {
   "cell_type": "markdown",
   "id": "a18ec507-b9af-4a65-85bb-9cb50a8bd778",
   "metadata": {},
   "source": [
    "# lambda function"
   ]
  },
  {
   "cell_type": "markdown",
   "id": "70a71d51-2e58-47d2-a59b-52ed135e15e5",
   "metadata": {},
   "source": [
    "## what is lambda function?"
   ]
  },
  {
   "cell_type": "markdown",
   "id": "82e795e9-9f54-4443-82d3-c5656aee1e5a",
   "metadata": {},
   "source": [
    "The following terms may be used interchangeably depending on the programming language type and culture:\n",
    "\n",
    "* Anonymous functions\n",
    "* Lambda functions\n",
    "* Lambda expressions\n",
    "* Lambda abstractions\n",
    "* Lambda form\n",
    "* Function literals"
   ]
  },
  {
   "cell_type": "markdown",
   "id": "6261ee10-774c-4ba6-9adb-aec1c4421f8b",
   "metadata": {},
   "source": [
    "Taken literally, an anonymous function is a function without a name. In Python, an anonymous function is created with the lambda keyword. More loosely, it may or not be assigned a name. Consider a two-argument anonymous function defined with lambda but not bound to a variable. The lambda is not given a name:"
   ]
  },
  {
   "cell_type": "code",
   "execution_count": 7,
   "id": "63d8f5e7-b46e-421b-8265-cbb6f6138899",
   "metadata": {},
   "outputs": [
    {
     "data": {
      "text/plain": [
       "<function __main__.<lambda>(x, y)>"
      ]
     },
     "execution_count": 7,
     "metadata": {},
     "output_type": "execute_result"
    }
   ],
   "source": [
    "lambda x, y: x + y"
   ]
  },
  {
   "cell_type": "markdown",
   "id": "b0ad56ef-a48e-43b0-acd7-43a9f6074fef",
   "metadata": {},
   "source": [
    "In the example above, the expression is composed of:\n",
    "\n",
    "* **The keyword:** lambda\n",
    "* **A bound variable:** x , y\n",
    "* **A body**: x + y"
   ]
  },
  {
   "cell_type": "code",
   "execution_count": 12,
   "id": "46fc60ca-1d7e-432c-be09-cf1d80a061af",
   "metadata": {},
   "outputs": [
    {
     "data": {
      "text/plain": [
       "3"
      ]
     },
     "execution_count": 12,
     "metadata": {},
     "output_type": "execute_result"
    }
   ],
   "source": [
    "(lambda x: x + 1)(2)"
   ]
  },
  {
   "cell_type": "raw",
   "id": "0a342503-e7aa-4386-8bad-88334fc135d3",
   "metadata": {},
   "source": [
    "(lambda x: x + 1)(2) = lambda 2: 2 + 1\n",
    "                     = 2 + 1\n",
    "                     = 3"
   ]
  },
  {
   "cell_type": "markdown",
   "id": "a1a1c193-b113-4384-ac5c-7e472c252812",
   "metadata": {},
   "source": [
    "This quote from the Python Design and History FAQ seems to set the tone about the overall expectation regarding the usage of lambda functions in Python:"
   ]
  },
  {
   "cell_type": "markdown",
   "id": "63248669-e12d-4a8f-831c-46c212b7fdf1",
   "metadata": {},
   "source": [
    "> Unlike lambda forms in other languages, where they add functionality, Python lambdas are only a shorthand notation if you’re too lazy to define a function."
   ]
  },
  {
   "cell_type": "markdown",
   "id": "272b834e-9b50-45f6-8980-2ffba58ae250",
   "metadata": {},
   "source": [
    "## Arguments"
   ]
  },
  {
   "cell_type": "markdown",
   "id": "8c84fbbe-17e5-404e-8436-d03a975c7982",
   "metadata": {},
   "source": [
    "Like a normal function object defined with def, Python lambda expressions support all the different ways of passing arguments. This includes:\n",
    "\n",
    "* Positional arguments\n",
    "* Named arguments (sometimes called keyword arguments)\n",
    "* Variable list of arguments (often referred to as varargs)\n",
    "* Variable list of keyword arguments\n"
   ]
  },
  {
   "cell_type": "code",
   "execution_count": 18,
   "id": "7f5e75f1-3196-4587-9803-39cfe0e8674c",
   "metadata": {},
   "outputs": [
    {
     "name": "stdout",
     "output_type": "stream",
     "text": [
      "6\n",
      "6\n",
      "6\n",
      "6\n",
      "6\n"
     ]
    }
   ],
   "source": [
    "print((lambda x, y, z: x + y + z)(1, 2, 3))\n",
    "\n",
    "print((lambda x, y, z=3: x + y + z)(1, 2))\n",
    "\n",
    "print((lambda x, y, z=3: x + y + z)(1, y=2))\n",
    "\n",
    "print((lambda *args: sum(args))(1,2,3))\n",
    "\n",
    "print((lambda **kwargs: sum(kwargs.values()))(one=1, two=2, three=3))\n"
   ]
  },
  {
   "cell_type": "markdown",
   "id": "82f50025-b8a8-4d77-bd6d-c043793e0672",
   "metadata": {},
   "source": [
    "## examples"
   ]
  },
  {
   "cell_type": "code",
   "execution_count": 20,
   "id": "fcb065e4-39e7-4af3-8a35-957212c22752",
   "metadata": {},
   "outputs": [
    {
     "data": {
      "text/plain": [
       "['CAT', 'DOG', 'COW']"
      ]
     },
     "execution_count": 20,
     "metadata": {},
     "output_type": "execute_result"
    }
   ],
   "source": [
    "list(map(lambda x: x.upper(), ['cat', 'dog', 'cow']))"
   ]
  },
  {
   "cell_type": "code",
   "execution_count": 22,
   "id": "c9ce9e3a-0f26-4194-b4f9-232d4ceb9b35",
   "metadata": {},
   "outputs": [
    {
     "name": "stdout",
     "output_type": "stream",
     "text": [
      "['id1', 'id100', 'id2', 'id22', 'id3', 'id30']\n",
      "['id1', 'id2', 'id3', 'id22', 'id30', 'id100']\n"
     ]
    }
   ],
   "source": [
    "ids = ['id1', 'id2', 'id30', 'id3', 'id22', 'id100']\n",
    "print(sorted(ids))\n",
    "sorted_ids = sorted(ids, key=lambda x: int(x[2:])) \n",
    "print(sorted_ids)\n"
   ]
  }
 ],
 "metadata": {
  "kernelspec": {
   "display_name": "Python 3 (ipykernel)",
   "language": "python",
   "name": "python3"
  },
  "language_info": {
   "codemirror_mode": {
    "name": "ipython",
    "version": 3
   },
   "file_extension": ".py",
   "mimetype": "text/x-python",
   "name": "python",
   "nbconvert_exporter": "python",
   "pygments_lexer": "ipython3",
   "version": "3.10.9"
  }
 },
 "nbformat": 4,
 "nbformat_minor": 5
}
