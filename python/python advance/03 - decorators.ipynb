{
 "cells": [
  {
   "cell_type": "markdown",
   "id": "ca182dd7-a272-4f57-9d6c-8a19cbd164f8",
   "metadata": {},
   "source": [
    "# Decorators"
   ]
  },
  {
   "cell_type": "markdown",
   "id": "6b64b03a-9da6-46da-98d9-5af78e4c07a1",
   "metadata": {},
   "source": [
    "In this tutorial on decorators, we’ll look at what they are and how to create and use them. Decorators provide a simple syntax for calling **higher-order functions**."
   ]
  },
  {
   "cell_type": "markdown",
   "id": "9d101ef8-2649-4f98-b150-bd5eb871bcb5",
   "metadata": {},
   "source": [
    "By definition, a decorator is a function that takes another function and extends the behavior of the latter function without explicitly modifying it."
   ]
  },
  {
   "cell_type": "markdown",
   "id": "8c35a23f-15e6-4f8b-b216-44b8c06a07dc",
   "metadata": {},
   "source": [
    "---"
   ]
  },
  {
   "cell_type": "markdown",
   "id": "56d2beb5-b6ab-404d-948c-043da653746f",
   "metadata": {},
   "source": [
    "## Functions"
   ]
  },
  {
   "cell_type": "markdown",
   "id": "a81557aa-7d33-4764-9a71-637c59708c32",
   "metadata": {},
   "source": [
    "Before you can understand decorators, you must first understand how functions work. For our purposes, **a function returns a value based on the given arguments.** Here is a very simple example:"
   ]
  },
  {
   "cell_type": "markdown",
   "id": "484e84db-4b1f-412d-9aba-fdfe9ece4326",
   "metadata": {},
   "source": [
    "in general, functions in Python may also have side effects rather than just turning an input into an output. The print() function is a basic example of this: it ``returns None`` while having the side effect of outputting something to the console."
   ]
  },
  {
   "cell_type": "markdown",
   "id": "4a4e1440-3436-4d37-a14e-1839266437f9",
   "metadata": {},
   "source": [
    "> **Note:** In **functional programming**, you work (almost) only with pure functions without side effects. While not a purely functional language, Python supports many of the functional programming concepts, including functions as first-class objects."
   ]
  },
  {
   "cell_type": "markdown",
   "id": "f98955ee-a706-4802-938b-9edbb9213c7c",
   "metadata": {},
   "source": [
    "## First-Class Objects"
   ]
  },
  {
   "cell_type": "markdown",
   "id": "c0554765-5128-4855-8e9e-cf9303432891",
   "metadata": {},
   "source": [
    "In Python, functions are first-class objects. This means that functions can be passed around and used as arguments, just like any other object (string, int, float, list, and so on)."
   ]
  },
  {
   "cell_type": "code",
   "execution_count": 14,
   "id": "295d126c-e0db-41cb-85d0-f5fc97761ac9",
   "metadata": {},
   "outputs": [],
   "source": [
    "def say_hello(name):\n",
    "    return f\"Hello {name}\"\n",
    "\n",
    "def be_awesome(name):\n",
    "    return f\"Yo {name}, together we are the awesomest!\"\n",
    "\n",
    "def greet_bob(greeter_func):\n",
    "    return greeter_func(\"Bob\")"
   ]
  },
  {
   "cell_type": "code",
   "execution_count": 15,
   "id": "30b224fd-c02d-483a-9982-a8d75f7d19bb",
   "metadata": {},
   "outputs": [
    {
     "data": {
      "text/plain": [
       "'Hello Bob'"
      ]
     },
     "execution_count": 15,
     "metadata": {},
     "output_type": "execute_result"
    }
   ],
   "source": [
    "greet_bob(say_hello)"
   ]
  },
  {
   "cell_type": "markdown",
   "id": "1dcf5dfc-20ba-49d4-a308-dd9f3db73b68",
   "metadata": {},
   "source": [
    "Note that ``greet_bob(say_hello)`` refers to two functions, but in different ways: ``greet_bob()`` and say_hello. The say_hello function is named without parentheses. This means that only a reference to the function is passed. The function is not executed. The ``greet_bob()`` function, on the other hand, is written with parentheses, so it will be called as usual."
   ]
  },
  {
   "cell_type": "markdown",
   "id": "e0900511-f9fe-4374-80b0-fc54524a4daa",
   "metadata": {},
   "source": [
    "## Inner Functions"
   ]
  },
  {
   "cell_type": "markdown",
   "id": "41765f5c-b998-45b2-a55a-a3baec7e387d",
   "metadata": {},
   "source": [
    "It’s possible to define functions inside other functions. Such functions are called inner functions. Here’s an example of a function with two inner functions:"
   ]
  },
  {
   "cell_type": "code",
   "execution_count": 26,
   "id": "74fefa22-74cc-4caf-9568-1bdfbedc316f",
   "metadata": {},
   "outputs": [],
   "source": [
    "def parent():\n",
    "    print(\"Printing from the parent() function\")\n",
    "\n",
    "    def first_child():\n",
    "        print(\"Printing from the first_child() function\")\n",
    "\n",
    "    def second_child():\n",
    "        print(\"Printing from the second_child() function\")\n",
    "\n",
    "    second_child()\n",
    "    first_child()"
   ]
  },
  {
   "cell_type": "code",
   "execution_count": 27,
   "id": "09ac049a-9009-432e-8525-9e2dc9818fda",
   "metadata": {},
   "outputs": [
    {
     "name": "stdout",
     "output_type": "stream",
     "text": [
      "Printing from the parent() function\n",
      "Printing from the second_child() function\n",
      "Printing from the first_child() function\n"
     ]
    }
   ],
   "source": [
    "parent()"
   ]
  },
  {
   "cell_type": "code",
   "execution_count": 28,
   "id": "99eb4407-5e70-4ea0-b538-dd592ac32006",
   "metadata": {},
   "outputs": [
    {
     "ename": "NameError",
     "evalue": "name 'first_child' is not defined",
     "output_type": "error",
     "traceback": [
      "\u001b[1;31m---------------------------------------------------------------------------\u001b[0m",
      "\u001b[1;31mNameError\u001b[0m                                 Traceback (most recent call last)",
      "Cell \u001b[1;32mIn[28], line 1\u001b[0m\n\u001b[1;32m----> 1\u001b[0m \u001b[43mfirst_child\u001b[49m()\n",
      "\u001b[1;31mNameError\u001b[0m: name 'first_child' is not defined"
     ]
    }
   ],
   "source": [
    "first_child()"
   ]
  },
  {
   "cell_type": "markdown",
   "id": "18086da2-a4cd-422c-809e-b51b1bfcc237",
   "metadata": {},
   "source": [
    "Whenever you call parent(), the inner functions first_child() and second_child() are also called. But because of their local scope, they aren’t available outside of the parent() function."
   ]
  },
  {
   "cell_type": "markdown",
   "id": "9cb34f4d-00e9-410d-8cbb-17ce520f55b9",
   "metadata": {},
   "source": [
    "## Returning Functions From Functions"
   ]
  },
  {
   "cell_type": "markdown",
   "id": "dad8ee6c-49d4-4a5e-9f3d-9ee09073b72c",
   "metadata": {},
   "source": [
    "Python also allows you to use functions as return values. The following example returns one of the inner functions from the outer parent() function:"
   ]
  },
  {
   "cell_type": "code",
   "execution_count": 32,
   "id": "f0eb67b1-1283-4652-b24f-f201e24c343f",
   "metadata": {},
   "outputs": [],
   "source": [
    "def parent(num):\n",
    "    def first_child():\n",
    "        return \"Hi, I am Rasool\"\n",
    "\n",
    "    def second_child():\n",
    "        return \"Call me RA\"\n",
    "\n",
    "    if num == 1:\n",
    "        return first_child\n",
    "    else:\n",
    "        return second_child"
   ]
  },
  {
   "cell_type": "markdown",
   "id": "0fc90abb-8bae-4c5f-9ac3-17ff9e04c032",
   "metadata": {},
   "source": [
    "Note that you are returning first_child without the parentheses. Recall that this means that you are returning a reference to the function first_child. In contrast first_child() with parentheses refers to the result of evaluating the function. This can be seen in the following example:"
   ]
  },
  {
   "cell_type": "code",
   "execution_count": 43,
   "id": "549c16ab-5b1f-4902-862f-6e5eb56c7588",
   "metadata": {},
   "outputs": [],
   "source": [
    "first =  parent(1)\n",
    "second = parent(2)"
   ]
  },
  {
   "cell_type": "code",
   "execution_count": 44,
   "id": "37e70017-1a7d-4456-afbd-0bb88ef9b1b7",
   "metadata": {},
   "outputs": [
    {
     "data": {
      "text/plain": [
       "<function __main__.parent.<locals>.first_child()>"
      ]
     },
     "execution_count": 44,
     "metadata": {},
     "output_type": "execute_result"
    }
   ],
   "source": [
    "first"
   ]
  },
  {
   "cell_type": "code",
   "execution_count": 39,
   "id": "2c31c08a-0597-4441-ae9e-5cd322b50d3d",
   "metadata": {},
   "outputs": [
    {
     "data": {
      "text/plain": [
       "<function __main__.parent.<locals>.second_child()>"
      ]
     },
     "execution_count": 39,
     "metadata": {},
     "output_type": "execute_result"
    }
   ],
   "source": [
    "second"
   ]
  },
  {
   "cell_type": "code",
   "execution_count": 40,
   "id": "ae9782a5-5160-4d9b-bd35-28e0deda01e3",
   "metadata": {},
   "outputs": [
    {
     "data": {
      "text/plain": [
       "'Hi, I am Emma'"
      ]
     },
     "execution_count": 40,
     "metadata": {},
     "output_type": "execute_result"
    }
   ],
   "source": [
    "first()"
   ]
  },
  {
   "cell_type": "markdown",
   "id": "58d98c0b-2e07-47bc-8eb8-217670798248",
   "metadata": {},
   "source": [
    "## Simple Decorators"
   ]
  },
  {
   "cell_type": "markdown",
   "id": "aba60a07-10e2-4899-a883-00e1daa34f19",
   "metadata": {},
   "source": [
    "Now that you’ve seen that functions are just like any other object in Python, you’re ready to move on and see the magical beast that is the Python decorator. Let’s start with an example:"
   ]
  },
  {
   "cell_type": "code",
   "execution_count": 47,
   "id": "b438f1a9-2a58-4697-9b83-eabac847e8d2",
   "metadata": {},
   "outputs": [],
   "source": [
    "def my_decorator(func):\n",
    "    def wrapper():\n",
    "        print(\"Something is happening before the function is called.\")\n",
    "        func()\n",
    "        print(\"Something is happening after the function is called.\")\n",
    "    return wrapper\n",
    "\n",
    "def say_whee():\n",
    "    print(\"Whee!\")\n",
    "\n",
    "say_whee = my_decorator(say_whee)"
   ]
  },
  {
   "cell_type": "code",
   "execution_count": 48,
   "id": "98da3def-fd36-440e-8d29-5a106d70645c",
   "metadata": {},
   "outputs": [
    {
     "data": {
      "text/plain": [
       "<function __main__.my_decorator.<locals>.wrapper()>"
      ]
     },
     "execution_count": 48,
     "metadata": {},
     "output_type": "execute_result"
    }
   ],
   "source": [
    "say_whee"
   ]
  },
  {
   "cell_type": "markdown",
   "id": "a4edb284-732c-434a-b025-de2929f40cd0",
   "metadata": {},
   "source": [
    "> **decorators wrap a function, modifying its behavior.** "
   ]
  },
  {
   "cell_type": "markdown",
   "id": "53ccd8e2-50ae-4c5b-8cfb-5d0c60e97209",
   "metadata": {},
   "source": [
    "## Syntactic Sugar"
   ]
  },
  {
   "cell_type": "markdown",
   "id": "154cda5d-e8c0-44a4-9a18-374dd2392918",
   "metadata": {},
   "source": [
    "The way you decorated say_whee() above is a little clunky. First of all, you end up typing the name say_whee three times. In addition, the decoration gets a bit hidden away below the definition of the function."
   ]
  },
  {
   "cell_type": "markdown",
   "id": "41a9ec90-ef59-4a57-a2f8-19caf5283028",
   "metadata": {},
   "source": [
    "Instead, Python allows you to use decorators in a simpler way with the @ symbol, sometimes called the **“pie” syntax.** The following example does the exact same thing as the first decorator example:"
   ]
  },
  {
   "cell_type": "code",
   "execution_count": 53,
   "id": "60409fbb-372e-4683-b02e-562109e27578",
   "metadata": {},
   "outputs": [],
   "source": [
    "def my_decorator(func):\n",
    "    def wrapper():\n",
    "        print(\"Something is happening before the function is called.\")\n",
    "        func()\n",
    "        print(\"Something is happening after the function is called.\")\n",
    "    return wrapper\n",
    "\n",
    "@my_decorator\n",
    "def say_whee():\n",
    "    print(\"Whee!\")"
   ]
  },
  {
   "cell_type": "markdown",
   "id": "9f6d157e-a2d7-4ce7-82ab-33241038fdc1",
   "metadata": {},
   "source": [
    "> So, @my_decorator is just an easier way of saying say_whee = my_decorator(say_whee). It’s how you apply a decorator to a function."
   ]
  },
  {
   "cell_type": "markdown",
   "id": "7d5546f2-f64d-40e8-a1b0-a53b20fc690a",
   "metadata": {},
   "source": [
    "## Decorating Functions With Arguments"
   ]
  },
  {
   "cell_type": "markdown",
   "id": "bb5c0fce-021d-4b4c-83a8-ecd0a291f7e0",
   "metadata": {},
   "source": [
    "Say that you have a function that accepts some arguments. Can you still decorate it? Let’s try:\n",
    "\n"
   ]
  },
  {
   "cell_type": "code",
   "execution_count": 64,
   "id": "781b6887-a081-4d74-8698-d6f63479bc0c",
   "metadata": {},
   "outputs": [],
   "source": [
    "def do_twice(func):\n",
    "    def wraper():\n",
    "        func()\n",
    "        func()\n",
    "    return wraper\n",
    "        \n",
    "\n",
    "@do_twice\n",
    "def greet(name):\n",
    "    print(f\"Hello {name}\")"
   ]
  },
  {
   "cell_type": "code",
   "execution_count": 66,
   "id": "d36ed5d0-4743-4f23-a4c8-5819724af8cd",
   "metadata": {},
   "outputs": [
    {
     "ename": "TypeError",
     "evalue": "do_twice.<locals>.wraper() takes 0 positional arguments but 1 was given",
     "output_type": "error",
     "traceback": [
      "\u001b[1;31m---------------------------------------------------------------------------\u001b[0m",
      "\u001b[1;31mTypeError\u001b[0m                                 Traceback (most recent call last)",
      "Cell \u001b[1;32mIn[66], line 1\u001b[0m\n\u001b[1;32m----> 1\u001b[0m \u001b[43mgreet\u001b[49m\u001b[43m(\u001b[49m\u001b[38;5;124;43m\"\u001b[39;49m\u001b[38;5;124;43mworld\u001b[39;49m\u001b[38;5;124;43m\"\u001b[39;49m\u001b[43m)\u001b[49m\n",
      "\u001b[1;31mTypeError\u001b[0m: do_twice.<locals>.wraper() takes 0 positional arguments but 1 was given"
     ]
    }
   ],
   "source": [
    "greet(\"world\")"
   ]
  },
  {
   "cell_type": "markdown",
   "id": "304e5e32-dca5-4df3-b495-96e01aa16f33",
   "metadata": {},
   "source": [
    "The problem is that the inner function wrapper_do_twice() does not take any arguments, but name=\"World\" was passed to it. You could fix this by letting wrapper_do_twice() accept one argument, but then it would not work for the say_whee() function you created earlier.\n",
    "\n",
    "The solution is to use ``*args and **kwargs`` in the inner wrapper function. Then it will accept an arbitrary number of positional and keyword arguments. Rewrite decorators.py as follows:"
   ]
  },
  {
   "cell_type": "code",
   "execution_count": 68,
   "id": "9ac74767-3a2f-430c-afa6-7ea441757116",
   "metadata": {},
   "outputs": [],
   "source": [
    "def do_twice(func):\n",
    "    def wrapper_do_twice(*args, **kwargs):\n",
    "        func(*args, **kwargs)\n",
    "        func(*args, **kwargs)\n",
    "    return wrapper_do_twice"
   ]
  },
  {
   "cell_type": "code",
   "execution_count": 69,
   "id": "0e1d2169-f61d-40b6-bae0-f8c199715da2",
   "metadata": {},
   "outputs": [],
   "source": [
    "@do_twice\n",
    "def greet(name):\n",
    "    print(f\"Hello {name}\")"
   ]
  },
  {
   "cell_type": "code",
   "execution_count": 71,
   "id": "3db4d1aa-0648-4758-98d8-4ad1a0d8a9b7",
   "metadata": {},
   "outputs": [
    {
     "name": "stdout",
     "output_type": "stream",
     "text": [
      "Hello world\n",
      "Hello world\n"
     ]
    }
   ],
   "source": [
    "greet(\"world\")"
   ]
  },
  {
   "cell_type": "markdown",
   "id": "7bfda634-d6ad-48b0-8a46-0e9b8d353d65",
   "metadata": {},
   "source": [
    "## Returning Values From Decorated Functions"
   ]
  },
  {
   "cell_type": "markdown",
   "id": "44be33a5-3a2c-4c77-b664-edee75b7209a",
   "metadata": {},
   "source": [
    "What happens to the return value of decorated functions? Well, that’s up to the decorator to decide. Let’s say you decorate a simple function as follows:"
   ]
  },
  {
   "cell_type": "code",
   "execution_count": 74,
   "id": "b27d2a6b-33c8-4aa9-8684-802396fca162",
   "metadata": {},
   "outputs": [],
   "source": [
    "@do_twice\n",
    "def return_greeting(name):\n",
    "    print(\"Creating greeting\")\n",
    "    return f\"Hi {name}\""
   ]
  },
  {
   "cell_type": "code",
   "execution_count": 77,
   "id": "30a57f08-25ce-4a25-b82c-2e59e527a568",
   "metadata": {},
   "outputs": [
    {
     "name": "stdout",
     "output_type": "stream",
     "text": [
      "Creating greeting\n",
      "Creating greeting\n"
     ]
    }
   ],
   "source": [
    "res = return_greeting(\"world\")"
   ]
  },
  {
   "cell_type": "code",
   "execution_count": 78,
   "id": "62bc5858-8c44-4bd7-82a3-c4147d81d241",
   "metadata": {},
   "outputs": [
    {
     "name": "stdout",
     "output_type": "stream",
     "text": [
      "None\n"
     ]
    }
   ],
   "source": [
    "print(res)"
   ]
  },
  {
   "cell_type": "markdown",
   "id": "372f2044-67bb-4448-8fe5-89ea4902b8b3",
   "metadata": {},
   "source": [
    "Oops, your decorator ate the return value from the function.\n",
    "\n",
    "Because ``wrapper()`` doesn’t explicitly return a value, the call return_greeting(\"world\") ended up returning None.\n",
    "\n",
    "To fix this, you need to make sure the wrapper function returns the return value of the decorated function."
   ]
  },
  {
   "cell_type": "code",
   "execution_count": 80,
   "id": "15e8b00e-faf0-4244-b927-75e0f8a8ba2e",
   "metadata": {},
   "outputs": [],
   "source": [
    "def do_twice(func):\n",
    "    def wrapper_do_twice(*args, **kwargs):\n",
    "        func(*args, **kwargs)\n",
    "        return func(*args, **kwargs)\n",
    "    return wrapper_do_twice"
   ]
  },
  {
   "cell_type": "code",
   "execution_count": 81,
   "id": "2eae3840-e95f-4d55-8ef5-c2d9f1cd48aa",
   "metadata": {},
   "outputs": [],
   "source": [
    "@do_twice\n",
    "def return_greeting(name):\n",
    "    print(\"Creating greeting\")\n",
    "    return f\"Hi {name}\""
   ]
  },
  {
   "cell_type": "code",
   "execution_count": 82,
   "id": "0664ebb6-4b75-49ce-8257-05dca32f7c23",
   "metadata": {},
   "outputs": [
    {
     "name": "stdout",
     "output_type": "stream",
     "text": [
      "Creating greeting\n",
      "Creating greeting\n"
     ]
    }
   ],
   "source": [
    "res = return_greeting(\"Adam\")"
   ]
  },
  {
   "cell_type": "code",
   "execution_count": 83,
   "id": "dee455e0-4744-490e-b628-d551686b2cdc",
   "metadata": {},
   "outputs": [
    {
     "data": {
      "text/plain": [
       "'Hi Adam'"
      ]
     },
     "execution_count": 83,
     "metadata": {},
     "output_type": "execute_result"
    }
   ],
   "source": [
    "res"
   ]
  },
  {
   "cell_type": "markdown",
   "id": "19157b4b-a5a2-4b8d-a0aa-46ab40483caa",
   "metadata": {},
   "source": [
    "## Who Are You, Really?"
   ]
  },
  {
   "cell_type": "markdown",
   "id": "d0e5430b-d84a-4791-b854-d8ae1d76c355",
   "metadata": {},
   "source": [
    "A great convenience when working with Python, especially in the interactive shell, is its powerful introspection ability. Introspection is the ability of an object to know about its own attributes at runtime. For instance, a function knows its own name and documentation:"
   ]
  },
  {
   "cell_type": "code",
   "execution_count": 86,
   "id": "035d7ccd-63df-448c-a8d7-3d1009fc1c4d",
   "metadata": {},
   "outputs": [
    {
     "data": {
      "text/plain": [
       "<function print>"
      ]
     },
     "execution_count": 86,
     "metadata": {},
     "output_type": "execute_result"
    }
   ],
   "source": [
    "print"
   ]
  },
  {
   "cell_type": "code",
   "execution_count": 87,
   "id": "90fd17a3-5afd-4a87-ac42-6e668af1e148",
   "metadata": {},
   "outputs": [
    {
     "data": {
      "text/plain": [
       "'print'"
      ]
     },
     "execution_count": 87,
     "metadata": {},
     "output_type": "execute_result"
    }
   ],
   "source": [
    "print.__name__"
   ]
  },
  {
   "cell_type": "code",
   "execution_count": 88,
   "id": "1139c142-4000-42ca-a7a2-0ec994a6df25",
   "metadata": {},
   "outputs": [
    {
     "name": "stdout",
     "output_type": "stream",
     "text": [
      "Help on built-in function print in module builtins:\n",
      "\n",
      "print(...)\n",
      "    print(value, ..., sep=' ', end='\\n', file=sys.stdout, flush=False)\n",
      "    \n",
      "    Prints the values to a stream, or to sys.stdout by default.\n",
      "    Optional keyword arguments:\n",
      "    file:  a file-like object (stream); defaults to the current sys.stdout.\n",
      "    sep:   string inserted between values, default a space.\n",
      "    end:   string appended after the last value, default a newline.\n",
      "    flush: whether to forcibly flush the stream.\n",
      "\n"
     ]
    }
   ],
   "source": [
    "help(print)"
   ]
  },
  {
   "cell_type": "code",
   "execution_count": 89,
   "id": "fee3c75e-0574-41b5-abd0-0cb6ea594070",
   "metadata": {},
   "outputs": [
    {
     "data": {
      "text/plain": [
       "<function __main__.do_twice.<locals>.wrapper_do_twice(*args, **kwargs)>"
      ]
     },
     "execution_count": 89,
     "metadata": {},
     "output_type": "execute_result"
    }
   ],
   "source": [
    "return_greeting"
   ]
  },
  {
   "cell_type": "markdown",
   "id": "c3d726e6-ca7c-4ffe-93ac-a4a32dd4ae1a",
   "metadata": {},
   "source": [
    "To fix this, decorators should use the @functools.wraps decorator, which will preserve information about the original function. "
   ]
  },
  {
   "cell_type": "code",
   "execution_count": 91,
   "id": "725da476-731d-4fb7-84cf-3f6efcd97d30",
   "metadata": {},
   "outputs": [],
   "source": [
    "import functools\n",
    "\n",
    "def do_twice(func):\n",
    "    @functools.wraps(func)\n",
    "    def wrapper_do_twice(*args, **kwargs):\n",
    "        func(*args, **kwargs)\n",
    "        return func(*args, **kwargs)\n",
    "    return wrapper_do_twice"
   ]
  },
  {
   "cell_type": "code",
   "execution_count": 94,
   "id": "eaa4379a-60ca-4268-a7dc-872f2b073236",
   "metadata": {},
   "outputs": [],
   "source": [
    "@do_twice\n",
    "def return_greeting(name):\n",
    "    \"\"\"\n",
    "    this function says hi to user\n",
    "    \"\"\"\n",
    "    print(\"Creating greeting\")\n",
    "    return f\"Hi {name}\""
   ]
  },
  {
   "cell_type": "code",
   "execution_count": 95,
   "id": "38d00171-b117-4b25-9ccd-77f63a8e5cfb",
   "metadata": {},
   "outputs": [
    {
     "name": "stdout",
     "output_type": "stream",
     "text": [
      "Help on function return_greeting in module __main__:\n",
      "\n",
      "return_greeting(name)\n",
      "    this function says hi to user\n",
      "\n"
     ]
    }
   ],
   "source": [
    "help(return_greeting)"
   ]
  },
  {
   "cell_type": "markdown",
   "id": "49c9c76b-8db2-4bd0-96bc-ccaa535d3c12",
   "metadata": {},
   "source": [
    "## A Real World Example"
   ]
  },
  {
   "cell_type": "markdown",
   "id": "f3799647-2ebe-49a2-9376-0a8ac4188bf5",
   "metadata": {},
   "source": [
    "Let’s look at a few more useful examples of decorators. You’ll notice that they’ll mainly follow the same pattern that you’ve learned so far:"
   ]
  },
  {
   "cell_type": "code",
   "execution_count": 97,
   "id": "7ef481ca-8717-4a44-a6b2-ea3ff5de56d0",
   "metadata": {},
   "outputs": [],
   "source": [
    "import functools\n",
    "\n",
    "def decorator(func):\n",
    "    @functools.wraps(func)\n",
    "    def wrapper_decorator(*args, **kwargs):\n",
    "        # Do something before\n",
    "        value = func(*args, **kwargs)\n",
    "        # Do something after\n",
    "        return value\n",
    "    return wrapper_decorator"
   ]
  },
  {
   "cell_type": "markdown",
   "id": "b4458e13-7ba3-4a9e-81a4-a1f72bfd52c9",
   "metadata": {},
   "source": [
    "## Timing Functions"
   ]
  },
  {
   "cell_type": "code",
   "execution_count": 101,
   "id": "7bf1aafa-91bb-4822-bec2-1b8b3fad324a",
   "metadata": {},
   "outputs": [],
   "source": [
    "import functools\n",
    "import time\n",
    "\n",
    "def timer(func):\n",
    "    \"\"\"Print the runtime of the decorated function\"\"\"\n",
    "    @functools.wraps(func)\n",
    "    def wrapper_timer(*args, **kwargs):\n",
    "        start_time = time.perf_counter()    # 1\n",
    "        value = func(*args, **kwargs)\n",
    "        end_time = time.perf_counter()      # 2\n",
    "        run_time = end_time - start_time    # 3\n",
    "        print(f\"Finished {func.__name__!r} in {run_time:.4f} secs\")\n",
    "        return value\n",
    "    return wrapper_timer\n",
    "\n",
    "@timer\n",
    "def waste_some_time(num_times):\n",
    "    for _ in range(num_times):\n",
    "        sum([i**2 for i in range(10000)])"
   ]
  },
  {
   "cell_type": "code",
   "execution_count": 102,
   "id": "28005e61-23ea-4429-ad77-94fd7f1741ae",
   "metadata": {},
   "outputs": [
    {
     "name": "stdout",
     "output_type": "stream",
     "text": [
      "Finished 'waste_some_time' in 0.0062 secs\n"
     ]
    }
   ],
   "source": [
    "waste_some_time(1)"
   ]
  },
  {
   "cell_type": "code",
   "execution_count": 103,
   "id": "13af9252-773a-43be-b1e2-f6e060db6e5e",
   "metadata": {},
   "outputs": [
    {
     "name": "stdout",
     "output_type": "stream",
     "text": [
      "Finished 'waste_some_time' in 0.3982 secs\n"
     ]
    }
   ],
   "source": [
    "waste_some_time(100)"
   ]
  }
 ],
 "metadata": {
  "kernelspec": {
   "display_name": "Python 3 (ipykernel)",
   "language": "python",
   "name": "python3"
  },
  "language_info": {
   "codemirror_mode": {
    "name": "ipython",
    "version": 3
   },
   "file_extension": ".py",
   "mimetype": "text/x-python",
   "name": "python",
   "nbconvert_exporter": "python",
   "pygments_lexer": "ipython3",
   "version": "3.10.9"
  }
 },
 "nbformat": 4,
 "nbformat_minor": 5
}
