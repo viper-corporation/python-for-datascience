{
 "cells": [
  {
   "cell_type": "markdown",
   "id": "2b93d566-379f-4761-a366-0e2c1b7fe26f",
   "metadata": {},
   "source": [
    "register\n",
    "login \n",
    "\n",
    "\n",
    "1. register => file create matn karbar\n",
    "\n",
    "2 register => overwrite\n",
    "\n",
    "\n",
    "1. login => aval sabtnam konid\n",
    "2. login => welcome\n",
    "3. login => your username or pass is wrong"
   ]
  },
  {
   "cell_type": "code",
   "execution_count": 9,
   "id": "f945fa11-9138-423c-b382-fd63d6cf194a",
   "metadata": {},
   "outputs": [
    {
     "name": "stdin",
     "output_type": "stream",
     "text": [
      "\n",
      "please select:\n",
      "1.register\n",
      "2.login\n",
      " 2\n",
      "enter your username rasool\n",
      "enter your password 1233\n"
     ]
    },
    {
     "name": "stdout",
     "output_type": "stream",
     "text": [
      "please register first\n"
     ]
    }
   ],
   "source": [
    "\n",
    "def register():\n",
    "    username = input(\"enter your username\")\n",
    "    password = input(\"enter your pass\")\n",
    "    with open(\"username.txt\", \"w\") as f:\n",
    "        f.write(username)\n",
    "    with open(\"password.txt\", \"w\") as f :\n",
    "        f.write(password)\n",
    "    return \"register finished\"\n",
    "\n",
    "def login():\n",
    "    user = input(\"enter your username\")\n",
    "    pass_ = input(\"enter your password\")\n",
    "    try: \n",
    "        with open(\"username.txt\", \"r\") as f:\n",
    "            username = f.read()\n",
    "        with open(\"password.txt\", \"r\") as f:\n",
    "            password = f.read()\n",
    "    except FileNotFoundError as e: \n",
    "        return \"please register first\"\n",
    "    \n",
    "    if user== username and pass_ == password:\n",
    "        return \"you loged in\"\n",
    "    else :\n",
    "        return \"invalid username or password\"\n",
    "    \n",
    "    \n",
    "inp = int(input(\"\"\"\n",
    "please select:\n",
    "1.register\n",
    "2.login\n",
    "\"\"\"\n",
    "))\n",
    "if (inp ==1):\n",
    "    result = register()\n",
    "elif(inp==2):\n",
    "    result  = login()\n",
    "else:\n",
    "    print(\"invalid input\")\n",
    "\n",
    "print(result)\n",
    "\n",
    "\n",
    "\n"
   ]
  },
  {
   "cell_type": "code",
   "execution_count": null,
   "id": "2a4973be-fe85-4ef7-9774-3a47e829a15d",
   "metadata": {},
   "outputs": [],
   "source": []
  },
  {
   "cell_type": "code",
   "execution_count": null,
   "id": "bbd1efc7-1c1a-44af-b71a-2c95420b1192",
   "metadata": {},
   "outputs": [],
   "source": []
  }
 ],
 "metadata": {
  "kernelspec": {
   "display_name": "Python 3 (ipykernel)",
   "language": "python",
   "name": "python3"
  },
  "language_info": {
   "codemirror_mode": {
    "name": "ipython",
    "version": 3
   },
   "file_extension": ".py",
   "mimetype": "text/x-python",
   "name": "python",
   "nbconvert_exporter": "python",
   "pygments_lexer": "ipython3",
   "version": "3.10.9"
  }
 },
 "nbformat": 4,
 "nbformat_minor": 5
}
