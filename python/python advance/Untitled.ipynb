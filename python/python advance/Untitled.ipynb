{
 "cells": [
  {
   "cell_type": "code",
   "execution_count": 15,
   "id": "bbd1efc7-1c1a-44af-b71a-2c95420b1192",
   "metadata": {
    "collapsed": true,
    "jupyter": {
     "outputs_hidden": true
    },
    "tags": []
   },
   "outputs": [
    {
     "data": {
      "text/plain": [
       "['RASOOL', 'AHMAD']"
      ]
     },
     "execution_count": 15,
     "metadata": {},
     "output_type": "execute_result"
    }
   ],
   "source": [
    "lst= [\"rasool\",\"ahmad\"]\n",
    "list(map(lambda text: text.upper() , lst))"
   ]
  },
  {
   "cell_type": "code",
   "execution_count": 17,
   "id": "218dce1f-0994-4a6a-af78-e88724084d58",
   "metadata": {
    "tags": []
   },
   "outputs": [
    {
     "name": "stdout",
     "output_type": "stream",
     "text": [
      "['id1', 'id2', 'id3', 'id22', 'id30', 'id100']\n"
     ]
    }
   ],
   "source": [
    "ids = ['id1', 'id2', 'id30', 'id3', 'id22', 'id100']\n",
    "print(sorted(ids, key= lambda x: int(x[2:])))"
   ]
  },
  {
   "cell_type": "code",
   "execution_count": null,
   "id": "8a12985c-3dd8-4dcf-9a38-e76d1e2896e0",
   "metadata": {},
   "outputs": [],
   "source": []
  }
 ],
 "metadata": {
  "kernelspec": {
   "display_name": "Python 3 (ipykernel)",
   "language": "python",
   "name": "python3"
  },
  "language_info": {
   "codemirror_mode": {
    "name": "ipython",
    "version": 3
   },
   "file_extension": ".py",
   "mimetype": "text/x-python",
   "name": "python",
   "nbconvert_exporter": "python",
   "pygments_lexer": "ipython3",
   "version": "3.10.9"
  }
 },
 "nbformat": 4,
 "nbformat_minor": 5
}
