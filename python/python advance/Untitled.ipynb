{
 "cells": [
  {
   "cell_type": "code",
   "execution_count": null,
   "id": "f35bd511-0526-42d6-a85e-d044fe6343c3",
   "metadata": {},
   "outputs": [],
   "source": [
    "linux\n",
    "\n",
    "1000\n",
    " \n",
    "version control "
   ]
  },
  {
   "cell_type": "code",
   "execution_count": null,
   "id": "cf128a70-53bb-4477-82fb-f72ef3e8c3c1",
   "metadata": {},
   "outputs": [],
   "source": [
    "1. snapshots=> commit\n",
    "2.\n",
    "3."
   ]
  }
 ],
 "metadata": {
  "kernelspec": {
   "display_name": "Python 3 (ipykernel)",
   "language": "python",
   "name": "python3"
  },
  "language_info": {
   "codemirror_mode": {
    "name": "ipython",
    "version": 3
   },
   "file_extension": ".py",
   "mimetype": "text/x-python",
   "name": "python",
   "nbconvert_exporter": "python",
   "pygments_lexer": "ipython3",
   "version": "3.10.9"
  }
 },
 "nbformat": 4,
 "nbformat_minor": 5
}
