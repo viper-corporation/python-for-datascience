{
 "cells": [
  {
   "cell_type": "code",
   "execution_count": 225,
   "id": "e76202ec-85f8-4851-bcb4-9735b693d161",
   "metadata": {},
   "outputs": [
    {
     "name": "stdout",
     "output_type": "stream",
     "text": [
      "salam\n"
     ]
    }
   ],
   "source": [
    "a = 2\n"
   ]
  },
  {
   "cell_type": "code",
   "execution_count": 253,
   "id": "8c74196c-6487-40e8-b920-0735b4186280",
   "metadata": {},
   "outputs": [
    {
     "name": "stdin",
     "output_type": "stream",
     "text": [
      "feshare systolic khod ra vared konid 100\n"
     ]
    },
    {
     "name": "stdout",
     "output_type": "stream",
     "text": [
      "feshar shoma matlob ast\n"
     ]
    }
   ],
   "source": [
    "# bps = int(input(\"feshare systolic khod ra vared konid\"))\n",
    "if bps>140 and bps<220: print(\"shoma feshare khon darid\")\n",
    "else : print(\"feshar shoma matlob ast\")"
   ]
  },
  {
   "cell_type": "code",
   "execution_count": 266,
   "id": "28edc1f0-657e-417f-b91d-cd059fb2ecfb",
   "metadata": {},
   "outputs": [
    {
     "name": "stdout",
     "output_type": "stream",
     "text": [
      "rasool\n"
     ]
    }
   ],
   "source": [
    "\n",
    "if 2>3:\n",
    "    #TODO: asfhjhdsf\n",
    "    ...\n",
    "    \n",
    "print(\"rasool\")\n"
   ]
  }
 ],
 "metadata": {
  "kernelspec": {
   "display_name": "Python 3 (ipykernel)",
   "language": "python",
   "name": "python3"
  },
  "language_info": {
   "codemirror_mode": {
    "name": "ipython",
    "version": 3
   },
   "file_extension": ".py",
   "mimetype": "text/x-python",
   "name": "python",
   "nbconvert_exporter": "python",
   "pygments_lexer": "ipython3",
   "version": "3.10.9"
  }
 },
 "nbformat": 4,
 "nbformat_minor": 5
}
