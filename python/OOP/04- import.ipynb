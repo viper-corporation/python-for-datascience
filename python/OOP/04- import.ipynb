{
 "cells": [
  {
   "cell_type": "markdown",
   "id": "454bcc1b-f62b-4487-afad-7e0a64e93523",
   "metadata": {},
   "source": [
    "## modular programming\n"
   ]
  },
  {
   "cell_type": "markdown",
   "id": "e8b3f6df-3c2f-466f-9d65-b979925b228e",
   "metadata": {},
   "source": [
    "In Python, you use the **import** keyword to make code in one module available in another. Imports in Python are important for structuring your code effectively. Using imports properly will make you more productive, allowing you to reuse code while keeping your projects maintainable."
   ]
  },
  {
   "cell_type": "markdown",
   "id": "578a350c-e076-407b-8ee6-4ce9993f16ed",
   "metadata": {},
   "source": [
    "This tutorial will provide a thorough overview of Python’s import statement and how it works. "
   ]
  },
  {
   "cell_type": "markdown",
   "id": "06a89b5f-69e2-4e8f-942c-9bb36b648d92",
   "metadata": {},
   "source": [
    "___"
   ]
  },
  {
   "cell_type": "markdown",
   "id": "ca5bc968-3e2f-452e-bedb-e165339e75fe",
   "metadata": {},
   "source": [
    "### importing modules and packages.\n",
    "\n"
   ]
  },
  {
   "cell_type": "markdown",
   "id": "1fc10c38-5fd5-43b0-9af9-43b34b360367",
   "metadata": {},
   "source": [
    "The Python.org glossary defines module as follows:\n",
    "\n",
    "``An object that serves as an organizational unit of Python code. Modules have a namespace containing arbitrary Python objects. Modules are loaded into Python by the process of importing.`` \n",
    "\n",
    "In practice, a module usually corresponds to one ``.py file`` containing Python code.\n",
    "\n",
    "The true power of modules is that they can be imported and reused in other code. Consider the following example:"
   ]
  },
  {
   "cell_type": "code",
   "execution_count": 8,
   "id": "8126017e-d1fc-4740-b9cb-3715f822f719",
   "metadata": {},
   "outputs": [
    {
     "data": {
      "text/plain": [
       "3.141592653589793"
      ]
     },
     "execution_count": 8,
     "metadata": {},
     "output_type": "execute_result"
    }
   ],
   "source": [
    "import math\n",
    "math.pi"
   ]
  },
  {
   "cell_type": "markdown",
   "id": "66e5c083-c1a4-40b7-88a2-5cb264647781",
   "metadata": {},
   "source": [
    "\n",
    "In the first line, import math, you import the code in the math module and make it available to use. In the second line, you access the pi variable within the math module. math is part of Python’s standard library, which means that it’s always available to import when you’re running Python."
   ]
  },
  {
   "cell_type": "markdown",
   "id": "5130c86b-d894-4635-8b99-331430098571",
   "metadata": {},
   "source": [
    "Note that you write math.pi and not just simply pi. In addition to being a module, math acts as a namespace that keeps all the attributes of the module together. Namespaces are useful for keeping your code readable and organized. In the words of Tim Peters:"
   ]
  },
  {
   "cell_type": "markdown",
   "id": "ecb4ca8a-d3c2-4cd2-b614-c7daa576c49c",
   "metadata": {},
   "source": [
    "\n",
    "> Using dir() without any argument shows what’s in the global namespace."
   ]
  },
  {
   "cell_type": "code",
   "execution_count": 15,
   "id": "ee468030-2673-492b-bdf6-4ffb764055a6",
   "metadata": {},
   "outputs": [
    {
     "data": {
      "text/plain": [
       "['__annotations__', '__builtins__', Ellipsis, 'math']"
      ]
     },
     "execution_count": 15,
     "metadata": {},
     "output_type": "execute_result"
    }
   ],
   "source": [
    "import math\n",
    "dir()"
   ]
  },
  {
   "cell_type": "code",
   "execution_count": 18,
   "id": "966703ae-3916-4891-b265-fed0956271f1",
   "metadata": {},
   "outputs": [
    {
     "data": {
      "text/plain": [
       "['__doc__',\n",
       " '__loader__',\n",
       " '__name__',\n",
       " '__package__',\n",
       " '__spec__',\n",
       " 'acos',\n",
       " 'acosh',\n",
       " 'asin',\n",
       " 'asinh',\n",
       " 'atan',\n",
       " 'atan2',\n",
       " 'atanh',\n",
       " 'ceil',\n",
       " 'comb',\n",
       " 'copysign',\n",
       " 'cos',\n",
       " 'cosh',\n",
       " 'degrees',\n",
       " 'dist',\n",
       " 'e',\n",
       " 'erf',\n",
       " 'erfc',\n",
       " 'exp',\n",
       " 'expm1',\n",
       " 'fabs',\n",
       " 'factorial',\n",
       " 'floor',\n",
       " 'fmod',\n",
       " 'frexp',\n",
       " 'fsum',\n",
       " 'gamma',\n",
       " 'gcd',\n",
       " 'hypot',\n",
       " 'inf',\n",
       " 'isclose',\n",
       " 'isfinite',\n",
       " 'isinf',\n",
       " 'isnan',\n",
       " 'isqrt',\n",
       " 'lcm',\n",
       " 'ldexp',\n",
       " 'lgamma',\n",
       " 'log',\n",
       " 'log10',\n",
       " 'log1p',\n",
       " 'log2',\n",
       " 'modf',\n",
       " 'nan',\n",
       " 'nextafter',\n",
       " 'perm',\n",
       " 'pi',\n",
       " 'pow',\n",
       " 'prod',\n",
       " 'radians',\n",
       " 'remainder',\n",
       " 'sin',\n",
       " 'sinh',\n",
       " 'sqrt',\n",
       " 'tan',\n",
       " 'tanh',\n",
       " 'tau',\n",
       " 'trunc',\n",
       " 'ulp']"
      ]
     },
     "execution_count": 18,
     "metadata": {},
     "output_type": "execute_result"
    }
   ],
   "source": [
    "dir(math)"
   ]
  },
  {
   "cell_type": "markdown",
   "id": "a41b07db-f443-481c-97a4-d21a60d25718",
   "metadata": {},
   "source": [
    "You’ve already seen the most straightforward use of import. However, there are other ways to use it that allow you to import specific parts of a module and to rename the module as you import it."
   ]
  },
  {
   "cell_type": "code",
   "execution_count": 21,
   "id": "b90b8803-e44d-4460-ad64-9eb54806d56a",
   "metadata": {},
   "outputs": [
    {
     "data": {
      "text/plain": [
       "3.141592653589793"
      ]
     },
     "execution_count": 21,
     "metadata": {},
     "output_type": "execute_result"
    }
   ],
   "source": [
    "from math import pi\n",
    "pi"
   ]
  },
  {
   "cell_type": "code",
   "execution_count": 22,
   "id": "6cc0108b-5197-455e-8cb9-1e1239609ba9",
   "metadata": {},
   "outputs": [
    {
     "data": {
      "text/plain": [
       "['In',\n",
       " 'Out',\n",
       " '_',\n",
       " '_11',\n",
       " '_12',\n",
       " '_13',\n",
       " '_14',\n",
       " '_15',\n",
       " '_16',\n",
       " '_18',\n",
       " '_20',\n",
       " '_21',\n",
       " '_8',\n",
       " '__',\n",
       " '___',\n",
       " '__builtin__',\n",
       " '__builtins__',\n",
       " '__doc__',\n",
       " '__loader__',\n",
       " '__name__',\n",
       " '__package__',\n",
       " '__spec__',\n",
       " '_dh',\n",
       " '_i',\n",
       " '_i1',\n",
       " '_i10',\n",
       " '_i11',\n",
       " '_i12',\n",
       " '_i13',\n",
       " '_i14',\n",
       " '_i15',\n",
       " '_i16',\n",
       " '_i17',\n",
       " '_i18',\n",
       " '_i19',\n",
       " '_i2',\n",
       " '_i20',\n",
       " '_i21',\n",
       " '_i22',\n",
       " '_i3',\n",
       " '_i4',\n",
       " '_i5',\n",
       " '_i6',\n",
       " '_i7',\n",
       " '_i8',\n",
       " '_i9',\n",
       " '_ih',\n",
       " '_ii',\n",
       " '_iii',\n",
       " '_oh',\n",
       " 'exit',\n",
       " 'get_ipython',\n",
       " 'math',\n",
       " 'open',\n",
       " 'pi',\n",
       " 'quit']"
      ]
     },
     "execution_count": 22,
     "metadata": {},
     "output_type": "execute_result"
    }
   ],
   "source": [
    "dir()"
   ]
  },
  {
   "cell_type": "markdown",
   "id": "345b1028-f363-45fc-8090-0e43bcb7f488",
   "metadata": {},
   "source": [
    "You can also rename modules and attributes as they’re imported:"
   ]
  },
  {
   "cell_type": "code",
   "execution_count": 24,
   "id": "c8a690e2-981f-4734-b498-d03445f9215d",
   "metadata": {},
   "outputs": [
    {
     "data": {
      "text/plain": [
       "3.141592653589793"
      ]
     },
     "execution_count": 24,
     "metadata": {},
     "output_type": "execute_result"
    }
   ],
   "source": [
    "import math as m\n",
    "m.pi"
   ]
  },
  {
   "cell_type": "code",
   "execution_count": 25,
   "id": "9849b034-8583-4676-9b2f-92719af65b4a",
   "metadata": {},
   "outputs": [
    {
     "data": {
      "text/plain": [
       "3.141592653589793"
      ]
     },
     "execution_count": 25,
     "metadata": {},
     "output_type": "execute_result"
    }
   ],
   "source": [
    "from math import pi as PI\n",
    "PI"
   ]
  },
  {
   "cell_type": "markdown",
   "id": "54421083-5c15-4d68-b26e-2861d21db16e",
   "metadata": {
    "tags": []
   },
   "source": [
    "\n",
    "### Packages\n",
    "You can use a package to further organize your modules. The Python.org glossary defines package as follows:\n",
    "\n",
    "```\n",
    "A Python module which can contain submodules or recursively, subpackages. Technically, a package is a Python module with an __path__ attribute. (Source)\n",
    "```\n",
    "\n",
    "Note that a package is still a module. As a user, you usually don’t need to worry about whether you’re importing a module or a package.\n",
    "\n",
    "In practice, a package typically corresponds to a file directory containing Python files and other directories. To create a Python package yourself, you create a directory and a file named ``__init__.py`` inside it. The ``__init__.py`` file contains the contents of the package when it’s treated as a module. It can be left empty."
   ]
  },
  {
   "cell_type": "markdown",
   "id": "21fdbcbd-9f89-406b-a287-4da450a0ee5c",
   "metadata": {},
   "source": [
    "\n",
    "\n",
    "In general, submodules and subpackages aren’t imported when you import a package. However, you can use ``__init__.py`` to include any or all submodules and subpackages if you want. To show a few examples of this behavior, you’ll create a package for saying Hello world in a few different languages. The package will consist of the following directories and files:\n"
   ]
  },
  {
   "cell_type": "raw",
   "id": "892a0d1e-34a1-4176-a6e5-37269d6a22d2",
   "metadata": {},
   "source": [
    "world/\n",
    "│\n",
    "├── africa/\n",
    "│   ├── __init__.py\n",
    "│   └── zimbabwe.py\n",
    "│\n",
    "├── europe/\n",
    "│   ├── __init__.py\n",
    "│   ├── greece.py\n",
    "│   ├── norway.py\n",
    "│   └── spain.py\n",
    "│\n",
    "└── __init__.py"
   ]
  },
  {
   "cell_type": "markdown",
   "id": "0c4ba3fb-61a2-48b2-8141-e24404481def",
   "metadata": {},
   "source": [
    "Each country file prints out a greeting, while the ``__init__.py`` files selectively import some of the subpackages and submodules. The exact contents of the files are as follows:"
   ]
  },
  {
   "cell_type": "raw",
   "id": "dd802402-b12c-4702-a92e-3d10af426bea",
   "metadata": {},
   "source": [
    "# world/africa/__init__.py  (Empty file)\n",
    "\n",
    "# world/africa/zimbabwe.py\n",
    "print(\"Shona: Mhoroyi vhanu vese\")\n",
    "print(\"Ndebele: Sabona mhlaba\")\n",
    "\n",
    "# world/europe/__init__.py\n",
    "from . import greece\n",
    "from . import norway\n",
    "\n",
    "# world/europe/greece.py\n",
    "print(\"Greek: Γειά σας Κόσμε\")\n",
    "\n",
    "# world/europe/norway.py\n",
    "print(\"Norwegian: Hei verden\")\n",
    "\n",
    "# world/europe/spain.py\n",
    "print(\"Castellano: Hola mundo\")\n",
    "\n",
    "# world/__init__.py\n",
    "from . import africa"
   ]
  },
  {
   "cell_type": "markdown",
   "id": "2c2e79bd-67e9-4f9e-ac1a-f62fd6c1833a",
   "metadata": {},
   "source": [
    "Note that ``world/__init__.py`` imports only africa and not europe. Similarly, ``world/africa/__init__.py`` doesn’t import anything, while ``world/europe/__init__.py`` imports greece and norway but not spain. Each country module will print a greeting when it’s imported."
   ]
  },
  {
   "cell_type": "markdown",
   "id": "d13db43f-89b9-434a-8cbb-47333d1154d4",
   "metadata": {},
   "source": [
    "Let’s play with the world package at the interactive prompt to get a better understanding of how the subpackages and submodules behave:"
   ]
  },
  {
   "cell_type": "raw",
   "id": "4e48aa26-6ef6-4a08-9d1e-e261b1e0f52a",
   "metadata": {},
   "source": [
    ">>> import world\n",
    ">>> world\n",
    "<module 'world' from 'world/__init__.py'>\n",
    "\n",
    ">>> # The africa subpackage has been automatically imported\n",
    ">>> world.africa\n",
    "<module 'world.africa' from 'world/africa/__init__.py'>\n",
    "\n",
    ">>> # The europe subpackage has not been imported\n",
    ">>> world.europe\n",
    "AttributeError: module 'world' has no attribute 'europe'"
   ]
  },
  {
   "cell_type": "raw",
   "id": "eec0834d-dd6f-4748-80be-d415a5a9a756",
   "metadata": {},
   "source": [
    ">>> # Import europe explicitly\n",
    ">>> from world import europe\n",
    "Greek: Γειά σας Κόσμε\n",
    "Norwegian: Hei verden\n",
    "\n",
    ">>> # The greece submodule has been automatically imported\n",
    ">>> europe.greece\n",
    "<module 'world.europe.greece' from 'world/europe/greece.py'>\n",
    "\n",
    ">>> # Because world is imported, europe is also found in the world namespace\n",
    ">>> world.europe.norway\n",
    "<module 'world.europe.norway' from 'world/europe/norway.py'>\n",
    "\n",
    ">>> # The spain submodule has not been imported\n",
    ">>> europe.spain\n",
    "AttributeError: module 'world.europe' has no attribute 'spain'\n",
    "\n",
    ">>> # Import spain explicitly inside the world namespace\n",
    ">>> import world.europe.spain\n",
    "Castellano: Hola mundo\n",
    "\n",
    ">>> # Note that spain is also available directly inside the europe namespace\n",
    ">>> europe.spain\n",
    "<module 'world.europe.spain' from 'world/europe/spain.py'>\n",
    "\n",
    ">>> # Importing norway doesn't do the import again (no output), but adds\n",
    ">>> # norway to the global namespace\n",
    ">>> from world.europe impor\n",
    ">>> norway"
   ]
  },
  {
   "cell_type": "raw",
   "id": "e4dedb73-64a1-4431-a383-8f6920b803df",
   "metadata": {},
   "source": [
    ">>> # Even though africa has been imported, zimbabwe has not\n",
    ">>> world.africa.zimbabwe\n",
    "AttributeError: module 'world.africa' has no attribute 'zimbabwe'\n",
    "\n",
    ">>> # Import zimbabwe explicitly into the global namespace\n",
    ">>> from world.africa import zimbabwe\n",
    "Shona: Mhoroyi vhanu vese\n",
    "Ndebele: Sabona mhlaba\n",
    "\n",
    ">>> # The zimbabwe submodule is now available\n",
    ">>> zimbabwe\n",
    "<module 'world.africa.zimbabwe' from 'world/africa/zimbabwe.py'>\n",
    "\n",
    ">>> # Note that zimbabwe can also be reached through the africa subpackage\n",
    ">>> world.africa.zimbabwe\n",
    "<module 'world.africa.zimbabwe' from 'world/africa/zimbabwe.py'>"
   ]
  },
  {
   "cell_type": "markdown",
   "id": "1497d51e-44ef-4cb3-9390-c9ea8f95cac0",
   "metadata": {},
   "source": [
    "## Absolute and Relative Imports\n"
   ]
  },
  {
   "cell_type": "markdown",
   "id": "9a277431-89c6-4d47-83c8-0526e859e84b",
   "metadata": {},
   "source": [
    "Recall the source code of ``world/__init__.py`` in the earlier example:"
   ]
  },
  {
   "cell_type": "code",
   "execution_count": 11,
   "id": "0efae6b2-6028-4d8f-aba5-b1b8e880be09",
   "metadata": {},
   "outputs": [
    {
     "ename": "ImportError",
     "evalue": "attempted relative import with no known parent package",
     "output_type": "error",
     "traceback": [
      "\u001b[1;31m---------------------------------------------------------------------------\u001b[0m",
      "\u001b[1;31mImportError\u001b[0m                               Traceback (most recent call last)",
      "Cell \u001b[1;32mIn[11], line 1\u001b[0m\n\u001b[1;32m----> 1\u001b[0m \u001b[38;5;28;01mfrom\u001b[39;00m \u001b[38;5;21;01m.\u001b[39;00m \u001b[38;5;28;01mimport\u001b[39;00m africa\n",
      "\u001b[1;31mImportError\u001b[0m: attempted relative import with no known parent package"
     ]
    }
   ],
   "source": [
    "from . import africa"
   ]
  },
  {
   "cell_type": "markdown",
   "id": "16e4c301-6d18-4571-b6e0-4621a89630ae",
   "metadata": {},
   "source": [
    "You’ve already seen ``from...import`` statements such as ``from math import pi``, but what does the dot (.) in from . import africa mean?\n",
    "\n",
    "The dot refers to the current package, and the statement is an example of a **relative import**. You can read it as “From the current package, import the subpackage africa.”\n",
    "\n",
    "There’s an equivalent **absolute import** statement in which you explicitly name the current package:"
   ]
  },
  {
   "cell_type": "code",
   "execution_count": 13,
   "id": "768a5739-0878-4edd-be24-809fe06e9f00",
   "metadata": {},
   "outputs": [
    {
     "ename": "ModuleNotFoundError",
     "evalue": "No module named 'world'",
     "output_type": "error",
     "traceback": [
      "\u001b[1;31m---------------------------------------------------------------------------\u001b[0m",
      "\u001b[1;31mModuleNotFoundError\u001b[0m                       Traceback (most recent call last)",
      "Cell \u001b[1;32mIn[13], line 1\u001b[0m\n\u001b[1;32m----> 1\u001b[0m \u001b[38;5;28;01mfrom\u001b[39;00m \u001b[38;5;21;01mworld\u001b[39;00m \u001b[38;5;28;01mimport\u001b[39;00m africa\n",
      "\u001b[1;31mModuleNotFoundError\u001b[0m: No module named 'world'"
     ]
    }
   ],
   "source": [
    "from world import africa"
   ]
  },
  {
   "cell_type": "markdown",
   "id": "ad1935da-684a-4f4a-a3b4-080ed8cb8857",
   "metadata": {},
   "source": [
    "Relative imports must be in the form from...import, and the location you’re importing from must start with a dot."
   ]
  }
 ],
 "metadata": {
  "kernelspec": {
   "display_name": "Python 3 (ipykernel)",
   "language": "python",
   "name": "python3"
  },
  "language_info": {
   "codemirror_mode": {
    "name": "ipython",
    "version": 3
   },
   "file_extension": ".py",
   "mimetype": "text/x-python",
   "name": "python",
   "nbconvert_exporter": "python",
   "pygments_lexer": "ipython3",
   "version": "3.10.9"
  }
 },
 "nbformat": 4,
 "nbformat_minor": 5
}
