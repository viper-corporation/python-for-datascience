{
 "cells": [
  {
   "cell_type": "markdown",
   "id": "de609a18-d992-4eaf-ad73-aec4b7528fee",
   "metadata": {},
   "source": [
    "# Magic Methods"
   ]
  },
  {
   "cell_type": "markdown",
   "id": "38bf5f6b-26a4-443c-a8ee-73830964b756",
   "metadata": {},
   "source": [
    "* [The Internals of Operations](#The-Internals-of-Operations)\n",
    "* [Overloading Built-in Functions](#Overloading-Built-in-Functions)\n",
    "* [ Overloading Built-in Operators](#Overloading-Built-in-Operators)\n",
    "* [Indexing and Slicing Your Objects](#Indexing-and-Slicing-Your-Objects)\n",
    "* [Reverse Operators](#Reverse-Operators)"
   ]
  },
  {
   "cell_type": "markdown",
   "id": "5973aac7-dd0d-49a9-9ec6-5a5c0972a94e",
   "metadata": {},
   "source": [
    "If you’ve used the + or * operator on a str object in Python, you must have noticed its different behavior when compared to int or float objects:"
   ]
  },
  {
   "cell_type": "code",
   "execution_count": 3,
   "id": "298341a9-6905-493b-b866-11f942098f40",
   "metadata": {},
   "outputs": [
    {
     "data": {
      "text/plain": [
       "3"
      ]
     },
     "execution_count": 3,
     "metadata": {},
     "output_type": "execute_result"
    }
   ],
   "source": [
    "1 + 2"
   ]
  },
  {
   "cell_type": "code",
   "execution_count": 1,
   "id": "67eaeab3-7b54-4c5d-bdfc-a742989423d1",
   "metadata": {},
   "outputs": [
    {
     "data": {
      "text/plain": [
       "'rasoolahadi'"
      ]
     },
     "execution_count": 1,
     "metadata": {},
     "output_type": "execute_result"
    }
   ],
   "source": [
    "'rasool' + 'ahadi'"
   ]
  },
  {
   "cell_type": "markdown",
   "id": "edb4ff66-2a88-4c80-a65f-856556aa1b36",
   "metadata": {},
   "source": [
    "You might have wondered how the same built-in operator or function shows different behavior for objects of different classes. This is called operator overloading or function overloading respectively. This article will help you understand this mechanism, so that you can do the same in your own Python classes and make your objects more Pythonic."
   ]
  },
  {
   "cell_type": "markdown",
   "id": "6033a453-eee3-4d0b-9043-c6377044e3e5",
   "metadata": {},
   "source": [
    "> **Fun fact:** Due to the naming convention used for these methods, they are also called **dunder** methods which is a shorthand for double underscore methods. Sometimes they’re also referred to as special methods or magic methods. We prefer dunder methods though!"
   ]
  },
  {
   "cell_type": "markdown",
   "id": "4e565edc-818a-49b5-8633-3f2d449e6857",
   "metadata": {},
   "source": [
    "<hr/>"
   ]
  },
  {
   "cell_type": "markdown",
   "id": "2eeb0ba5-74cc-4d08-8c33-ee4ad0570dba",
   "metadata": {},
   "source": [
    "## The Internals of Operations"
   ]
  },
  {
   "cell_type": "markdown",
   "id": "e61742af-2a0c-4dac-b7ba-6374cb1796c6",
   "metadata": {},
   "source": [
    "Every class in Python defines its own behavior for built-in functions and methods. When you pass an instance of some class to a built-in function or use an operator on the instance, it is actually equivalent to calling a special method with relevant arguments."
   ]
  },
  {
   "cell_type": "raw",
   "id": "b3311865-ae0a-4135-8c66-0207deae4f8e",
   "metadata": {},
   "source": [
    "If there is a built-in function, func(), and the corresponding special method for the function is __func__(), Python interprets a call to the function as obj.__func__(), where obj is the object. In the case of operators, if you have an operator opr and the corresponding special method for it is __opr__(), Python interprets something like obj1 <opr> obj2 as obj1.__opr__(obj2)."
   ]
  },
  {
   "cell_type": "raw",
   "id": "19f4cb09-f0e1-469b-98d8-2beec470b194",
   "metadata": {},
   "source": [
    "So, when you’re calling len() on an object, Python handles the call as obj.__len__(). When you use the [] operator on an iterable to obtain the value at an index, Python handles it as itr.__getitem__(index), where itr is the iterable object and index is the index you want to obtain."
   ]
  },
  {
   "cell_type": "code",
   "execution_count": 15,
   "id": "0390bca7-6ae8-4996-b25a-50469bf117b5",
   "metadata": {},
   "outputs": [
    {
     "data": {
      "text/plain": [
       "2"
      ]
     },
     "execution_count": 15,
     "metadata": {},
     "output_type": "execute_result"
    }
   ],
   "source": [
    "a = [\"rasool\", \"amir\"]\n",
    "len(a)"
   ]
  },
  {
   "cell_type": "code",
   "execution_count": 17,
   "id": "9bc58681-941d-4456-a5b6-d383ef7e6922",
   "metadata": {},
   "outputs": [
    {
     "data": {
      "text/plain": [
       "2"
      ]
     },
     "execution_count": 17,
     "metadata": {},
     "output_type": "execute_result"
    }
   ],
   "source": [
    "a.__len__()"
   ]
  },
  {
   "cell_type": "code",
   "execution_count": 19,
   "id": "980782cf-9d13-41ac-9e89-fd52514a349b",
   "metadata": {},
   "outputs": [
    {
     "data": {
      "text/plain": [
       "['__add__',\n",
       " '__class__',\n",
       " '__class_getitem__',\n",
       " '__contains__',\n",
       " '__delattr__',\n",
       " '__delitem__',\n",
       " '__dir__',\n",
       " '__doc__',\n",
       " '__eq__',\n",
       " '__format__',\n",
       " '__ge__',\n",
       " '__getattribute__',\n",
       " '__getitem__',\n",
       " '__gt__',\n",
       " '__hash__',\n",
       " '__iadd__',\n",
       " '__imul__',\n",
       " '__init__',\n",
       " '__init_subclass__',\n",
       " '__iter__',\n",
       " '__le__',\n",
       " '__len__',\n",
       " '__lt__',\n",
       " '__mul__',\n",
       " '__ne__',\n",
       " '__new__',\n",
       " '__reduce__',\n",
       " '__reduce_ex__',\n",
       " '__repr__',\n",
       " '__reversed__',\n",
       " '__rmul__',\n",
       " '__setattr__',\n",
       " '__setitem__',\n",
       " '__sizeof__',\n",
       " '__str__',\n",
       " '__subclasshook__',\n",
       " 'append',\n",
       " 'clear',\n",
       " 'copy',\n",
       " 'count',\n",
       " 'extend',\n",
       " 'index',\n",
       " 'insert',\n",
       " 'pop',\n",
       " 'remove',\n",
       " 'reverse',\n",
       " 'sort']"
      ]
     },
     "execution_count": 19,
     "metadata": {},
     "output_type": "execute_result"
    }
   ],
   "source": [
    "dir(a)"
   ]
  },
  {
   "cell_type": "markdown",
   "id": "c7057984-c338-4259-a2c6-f1e9c0285d74",
   "metadata": {},
   "source": [
    "## Overloading Built-in Functions"
   ]
  },
  {
   "cell_type": "markdown",
   "id": "c88f7e6e-8cb9-4545-b815-70fde497b0a8",
   "metadata": {},
   "source": [
    "#### Giving a Length to Your Objects Using len()"
   ]
  },
  {
   "cell_type": "raw",
   "id": "0726474c-cbf7-4818-9d34-1862c5de6906",
   "metadata": {},
   "source": [
    "To change the behavior of len(), you need to define the __len__() special method in your class. Whenever you pass an object of your class to len(), your custom definition of __len__() will be used to obtain the result."
   ]
  },
  {
   "cell_type": "code",
   "execution_count": 23,
   "id": "c0c00b57-cc72-4088-8665-82847d73b56b",
   "metadata": {},
   "outputs": [
    {
     "data": {
      "text/plain": [
       "3"
      ]
     },
     "execution_count": 23,
     "metadata": {},
     "output_type": "execute_result"
    }
   ],
   "source": [
    "class Order:\n",
    "    def __init__(self, cart, customer):\n",
    "        self.cart = list(cart)\n",
    "        self.customer = customer\n",
    "    def __len__(self):\n",
    "        return len(self.cart)\n",
    "\n",
    "order = Order(['banana', 'apple', 'mango'], 'rasool')\n",
    "len(order)"
   ]
  },
  {
   "cell_type": "markdown",
   "id": "239970d7-1728-46e1-b9ae-82701802f164",
   "metadata": {},
   "source": [
    "As you can see, you can now use ``len()`` to directly obtain the length of the cart. "
   ]
  },
  {
   "cell_type": "markdown",
   "id": "cb0c6333-a199-4814-894e-053a54ebf28d",
   "metadata": {},
   "source": [
    "> **note:** . When you don’t have the ``__len__()`` method defined but still call len() on your object, you get a TypeError:"
   ]
  },
  {
   "cell_type": "markdown",
   "id": "322d018e-a4bc-45a1-9fe4-20f7817fab1a",
   "metadata": {},
   "source": [
    "But, when **overloading** len(), you should keep in mind that Python requires the function to return an integer."
   ]
  },
  {
   "cell_type": "code",
   "execution_count": 27,
   "id": "94ee56e7-7c42-4a3f-b89e-13d6f2876db9",
   "metadata": {},
   "outputs": [
    {
     "ename": "TypeError",
     "evalue": "'float' object cannot be interpreted as an integer",
     "output_type": "error",
     "traceback": [
      "\u001b[1;31m---------------------------------------------------------------------------\u001b[0m",
      "\u001b[1;31mTypeError\u001b[0m                                 Traceback (most recent call last)",
      "Input \u001b[1;32mIn [27]\u001b[0m, in \u001b[0;36m<cell line: 8>\u001b[1;34m()\u001b[0m\n\u001b[0;32m      6\u001b[0m         \u001b[38;5;28;01mreturn\u001b[39;00m \u001b[38;5;28mfloat\u001b[39m(\u001b[38;5;28mlen\u001b[39m(\u001b[38;5;28mself\u001b[39m\u001b[38;5;241m.\u001b[39mcart))\n\u001b[0;32m      7\u001b[0m order \u001b[38;5;241m=\u001b[39m Order([\u001b[38;5;124m'\u001b[39m\u001b[38;5;124mbanana\u001b[39m\u001b[38;5;124m'\u001b[39m, \u001b[38;5;124m'\u001b[39m\u001b[38;5;124mapple\u001b[39m\u001b[38;5;124m'\u001b[39m, \u001b[38;5;124m'\u001b[39m\u001b[38;5;124mmango\u001b[39m\u001b[38;5;124m'\u001b[39m], \u001b[38;5;124m'\u001b[39m\u001b[38;5;124mReal Python\u001b[39m\u001b[38;5;124m'\u001b[39m)\n\u001b[1;32m----> 8\u001b[0m \u001b[38;5;28;43mlen\u001b[39;49m\u001b[43m(\u001b[49m\u001b[43morder\u001b[49m\u001b[43m)\u001b[49m\n",
      "\u001b[1;31mTypeError\u001b[0m: 'float' object cannot be interpreted as an integer"
     ]
    }
   ],
   "source": [
    "class Order:\n",
    "    def __init__(self, cart, customer):\n",
    "        self.cart = list(cart)\n",
    "        self.customer = customer\n",
    "    def __len__(self):\n",
    "        return float(len(self.cart))\n",
    "order = Order(['banana', 'apple', 'mango'], 'Real Python')\n",
    "len(order)"
   ]
  },
  {
   "cell_type": "markdown",
   "id": "f3d85324-bcc0-4756-800d-ef1cf9f0bb42",
   "metadata": {},
   "source": [
    "> **Note:** len should be int"
   ]
  },
  {
   "cell_type": "markdown",
   "id": "dceea39c-f726-429d-8ade-52e0b19c8901",
   "metadata": {},
   "source": [
    "#### Making Your Objects Work With abs()"
   ]
  },
  {
   "cell_type": "markdown",
   "id": "d25929dd-a8e5-4280-b2a8-77f273aa7b79",
   "metadata": {},
   "source": [
    "There are no restrictions on the return value of abs(), and you get a TypeError when the special method is absent in your class definition."
   ]
  },
  {
   "cell_type": "code",
   "execution_count": 6,
   "id": "e8cf0032-5fda-4c0f-a7de-82ecb1e29b5c",
   "metadata": {},
   "outputs": [
    {
     "data": {
      "text/plain": [
       "5.0"
      ]
     },
     "execution_count": 6,
     "metadata": {},
     "output_type": "execute_result"
    }
   ],
   "source": [
    "class Vector:\n",
    "    def __init__(self, x_comp, y_comp):\n",
    "        self.x_comp = x_comp\n",
    "        self.y_comp = y_comp\n",
    "    def __abs__(self):\n",
    "        return (self.x_comp ** 2 + self.y_comp ** 2) ** 0.5\n",
    "        \n",
    "vector = Vector(3, 4)\n",
    "abs(vector)"
   ]
  },
  {
   "cell_type": "markdown",
   "id": "7e157f6b-362f-4a48-9bdb-dc3ce92282e5",
   "metadata": {
    "tags": []
   },
   "source": [
    "#### Printing Your Objects Prettily Using str()"
   ]
  },
  {
   "cell_type": "markdown",
   "id": "734e55d1-1493-4e68-b67c-85618b059d28",
   "metadata": {},
   "source": [
    " You can define the string format your object should be displayed in when passed to str() by defining the ``__str__()`` method in your class. Moreover, ``__str__()`` is the method that is used by Python when you call ``print()`` on your object."
   ]
  },
  {
   "cell_type": "code",
   "execution_count": 14,
   "id": "56ce566b-c313-4b7c-9866-204c531ca626",
   "metadata": {},
   "outputs": [
    {
     "name": "stdout",
     "output_type": "stream",
     "text": [
      "3i-4j\n"
     ]
    },
    {
     "data": {
      "text/plain": [
       "<__main__.Vector at 0x1eeec98a940>"
      ]
     },
     "execution_count": 14,
     "metadata": {},
     "output_type": "execute_result"
    }
   ],
   "source": [
    "class Vector:\n",
    "    def __init__(self, x_comp, y_comp):\n",
    "        self.x_comp = x_comp\n",
    "        self.y_comp = y_comp\n",
    "    def __abs__(self):\n",
    "        return (self.x_comp ** 2 + self.y_comp ** 2) ** 0.5\n",
    "    def __str__(self):    \n",
    "         return f'{self.x_comp}i{self.y_comp:+}j'\n",
    "vector = Vector(3, -4)\n",
    "print(vector)\n"
   ]
  },
  {
   "cell_type": "markdown",
   "id": "63b9b93d-8990-472f-9131-06576bdfa8fb",
   "metadata": {},
   "source": [
    "> **note:** The ``repr()`` built-in is used to obtain the parsable string representation of an object. "
   ]
  },
  {
   "cell_type": "code",
   "execution_count": 16,
   "id": "5a42996f-65c3-4072-8df7-78cc51733a7f",
   "metadata": {},
   "outputs": [
    {
     "data": {
      "text/plain": [
       "<__main__.Vector at 0x1eeec98a940>"
      ]
     },
     "execution_count": 16,
     "metadata": {},
     "output_type": "execute_result"
    }
   ],
   "source": [
    "vector"
   ]
  },
  {
   "cell_type": "markdown",
   "id": "7d4bafd0-3a47-4c1f-86cd-c5bb9e9698dc",
   "metadata": {},
   "source": [
    "#### Making Your Objects Truthy or Falsey Using bool()"
   ]
  },
  {
   "cell_type": "code",
   "execution_count": 18,
   "id": "1cc08913-ab72-477c-9692-33de64ceb4cb",
   "metadata": {},
   "outputs": [
    {
     "data": {
      "text/plain": [
       "True"
      ]
     },
     "execution_count": 18,
     "metadata": {},
     "output_type": "execute_result"
    }
   ],
   "source": [
    "class Order:\n",
    "    def __init__(self, cart, customer):\n",
    "        self.cart = list(cart)\n",
    "        self.customer = customer\n",
    "    def __bool__(self):\n",
    "        return len(self.cart) > 0\n",
    "order1 = Order(['banana', 'apple', 'mango'], 'Real Python')\n",
    "order2 = Order([], 'Python')\n",
    "\n",
    "bool(order1)\n"
   ]
  },
  {
   "cell_type": "code",
   "execution_count": 19,
   "id": "e331df0b-3b81-482e-9e63-37b5fcb38caa",
   "metadata": {},
   "outputs": [
    {
     "data": {
      "text/plain": [
       "False"
      ]
     },
     "execution_count": 19,
     "metadata": {},
     "output_type": "execute_result"
    }
   ],
   "source": [
    "bool(order2)"
   ]
  },
  {
   "cell_type": "markdown",
   "id": "5744ac57-5f81-41b9-b8a2-15d5a56f181b",
   "metadata": {},
   "source": [
    "> **Note:** When the ``__bool__()`` special method is not implemented in a class, the value returned by ``__len__()`` is used as the truth value, where a non-zero value indicates True and a zero value indicates False."
   ]
  },
  {
   "cell_type": "markdown",
   "id": "07a225f8-bc88-4f7b-ae62-24c6a461f372",
   "metadata": {},
   "source": [
    "## Overloading Built-in Operators"
   ]
  },
  {
   "cell_type": "markdown",
   "id": "c5c74662-c415-484f-bd52-7166dea4b755",
   "metadata": {},
   "source": [
    "Changing the behavior of operators is just as simple as changing the behavior of functions. You define their corresponding special methods in your class, and the operators work according to the behavior defined in these methods."
   ]
  },
  {
   "cell_type": "markdown",
   "id": "41962aea-059a-4ddf-8f3b-498c900279e8",
   "metadata": {},
   "source": [
    "#### Making Your Objects Capable of Being Added Using +"
   ]
  },
  {
   "cell_type": "markdown",
   "id": "7335355e-5f36-47bf-a8eb-dac7da00469c",
   "metadata": {},
   "source": [
    "The special method corresponding to the + operator is the ``__add__()`` method. Adding a custom definition of ``__add__()`` changes the behavior of the operator. \n",
    "\n",
    "> **note:** It is recommended that ``__add__()`` returns a new instance of the class instead of modifying the calling instance itself."
   ]
  },
  {
   "cell_type": "code",
   "execution_count": 26,
   "id": "0c648717-99d8-47d8-ae96-b602be3bd083",
   "metadata": {},
   "outputs": [
    {
     "data": {
      "text/plain": [
       "'rasool'"
      ]
     },
     "execution_count": 26,
     "metadata": {},
     "output_type": "execute_result"
    }
   ],
   "source": [
    "a = \"rasool\"\n",
    "a"
   ]
  },
  {
   "cell_type": "code",
   "execution_count": 27,
   "id": "bfa302f4-458a-4963-84fa-a9e6a0796370",
   "metadata": {},
   "outputs": [
    {
     "data": {
      "text/plain": [
       "'rasool'"
      ]
     },
     "execution_count": 27,
     "metadata": {},
     "output_type": "execute_result"
    }
   ],
   "source": [
    "a + \"ahadi\"\n",
    "a"
   ]
  },
  {
   "cell_type": "code",
   "execution_count": 28,
   "id": "63695b4c-a9dc-4fc8-9890-6913a1dd7e4a",
   "metadata": {},
   "outputs": [
    {
     "data": {
      "text/plain": [
       "'rasoolahadi'"
      ]
     },
     "execution_count": 28,
     "metadata": {},
     "output_type": "execute_result"
    }
   ],
   "source": [
    "a = a +\"ahadi\"\n",
    "a"
   ]
  },
  {
   "cell_type": "markdown",
   "id": "a3fb4bf7-dd88-49f6-b0bd-a25d17064788",
   "metadata": {},
   "source": [
    "Let’s implement the ability to append new items to our cart in the Order class using the operator. We’ll follow the recommended practice and make the operator return a new Order instance that has our required changes instead of making the changes directly to our instance:"
   ]
  },
  {
   "cell_type": "code",
   "execution_count": 3,
   "id": "c149effe-c1a3-41ae-8903-2d6251843b90",
   "metadata": {},
   "outputs": [
    {
     "data": {
      "text/plain": [
       "['banana', 'apple', 'orange']"
      ]
     },
     "execution_count": 3,
     "metadata": {},
     "output_type": "execute_result"
    }
   ],
   "source": [
    "class Order:\n",
    "    def __init__(self, cart, customer):\n",
    "        self.cart = list(cart)\n",
    "        self.customer = customer\n",
    "    def __add__(self, other):\n",
    "        new_cart = self.cart.copy()\n",
    "        new_cart.append(other)\n",
    "        return Order(new_cart, self.customer)\n",
    "order = Order(['banana', 'apple'], 'rasool ahadi')\n",
    "order = order+\"orange\"\n",
    "order.cart\n"
   ]
  },
  {
   "cell_type": "markdown",
   "id": "b7505db9-e93d-429a-8f17-967d32a40a28",
   "metadata": {},
   "source": [
    "Similarly, you have the ``__sub__()``, ``__mul__()``, ``__div__()`` and other special methods which define the behavior of -, *, and so on."
   ]
  },
  {
   "cell_type": "markdown",
   "id": "1a80f504-ba47-4fe6-9dab-bb70f106e0cd",
   "metadata": {},
   "source": [
    "#### Shortcuts:the += Operator"
   ]
  },
  {
   "cell_type": "markdown",
   "id": "250d2556-5985-4c67-a7c0-2816b94f6887",
   "metadata": {},
   "source": [
    "The += operator stands as a shortcut to the expression obj1 = obj1 + obj2. The special method corresponding to it is ``__iadd__()``. The ``__iadd__()`` method should make changes directly to the self argument and return the result, which may or may not be self."
   ]
  },
  {
   "cell_type": "markdown",
   "id": "1823a396-5f3e-4274-bf32-e26041f6d440",
   "metadata": {},
   "source": [
    "> **remember** : Roughly, any += use on two objects is equivalent to this:\n",
    "```python\n",
    "result = obj1 + obj2\n",
    "obj1 = result\n",
    "```"
   ]
  },
  {
   "cell_type": "code",
   "execution_count": 7,
   "id": "3c28abf6-d3c9-4791-83b1-e90a8bc5d10c",
   "metadata": {},
   "outputs": [
    {
     "data": {
      "text/plain": [
       "['banana', 'apple', 'orange']"
      ]
     },
     "execution_count": 7,
     "metadata": {},
     "output_type": "execute_result"
    }
   ],
   "source": [
    "class Order:\n",
    "    def __init__(self, cart, customer):\n",
    "        self.cart = list(cart)\n",
    "        self.customer = customer\n",
    "    def __add__(self, other):\n",
    "        new_cart = self.cart.copy()\n",
    "        new_cart.append(other)\n",
    "        return Order(new_cart, self.customer)\n",
    "    def __iadd__(self, other):\n",
    "        self.cart.append(other)\n",
    "        return self\n",
    "order = Order(['banana', 'apple'], 'rasool ahadi')\n",
    "order += \"orange\"\n",
    "order.cart\n"
   ]
  },
  {
   "cell_type": "markdown",
   "id": "37b065ef-154b-412c-a7a2-a9bace019f2a",
   "metadata": {},
   "source": [
    "> **note:** As can be seen, any change is made directly to self and it is then **return self**."
   ]
  },
  {
   "cell_type": "markdown",
   "id": "2d85291f-b357-4239-a834-560fd0b0092b",
   "metadata": {},
   "source": [
    "> Similar to ``__iadd__()``, you have ``__isub__()``, ``__imul__()``, ``__idiv__()`` and other special methods which define the behavior of -=, *=, /=, and others alike."
   ]
  },
  {
   "cell_type": "markdown",
   "id": "8cc26b34-5678-4e70-b368-1c5b6c7bf3bf",
   "metadata": {},
   "source": [
    "## Indexing and Slicing Your Objects"
   ]
  },
  {
   "cell_type": "markdown",
   "id": "b8166e0e-4f9e-4272-8bc2-aedfc245136a",
   "metadata": {},
   "source": [
    "The [] operator is called the indexing operator and is used in various contexts in Python such as getting the value at an index in sequences, getting the value associated with a key in dictionaries, or obtaining a part of a sequence through slicing. You can change its behavior using the ``__getitem__()`` special method."
   ]
  },
  {
   "cell_type": "code",
   "execution_count": 13,
   "id": "25c72563-b713-42ef-926c-cbba3e9cf78c",
   "metadata": {},
   "outputs": [
    {
     "data": {
      "text/plain": [
       "'banana'"
      ]
     },
     "execution_count": 13,
     "metadata": {},
     "output_type": "execute_result"
    }
   ],
   "source": [
    "class Order:\n",
    "    def __init__(self, cart, customer):\n",
    "        self.cart = list(cart)\n",
    "        self.customer = customer\n",
    "    def __getitem__(self, key):\n",
    "        return self.cart[key]\n",
    "\n",
    "order = Order(['banana', 'apple'], 'rasool ahadi')\n",
    "order[0]"
   ]
  },
  {
   "cell_type": "markdown",
   "id": "ee5c7e8b-a24c-4136-adf2-005f8946084f",
   "metadata": {},
   "source": [
    "> **Note:** As long as you’re using data structures that support slicing (lists, tuples, strings, and so on), you can configure your objects to directly slice the structure:"
   ]
  },
  {
   "cell_type": "markdown",
   "id": "b6afe17a-5989-4634-95fe-10f7547b2a56",
   "metadata": {},
   "source": [
    "## Reverse Operators"
   ]
  },
  {
   "cell_type": "markdown",
   "id": "b456da7b-6645-41bc-a1a5-2f37a941ed02",
   "metadata": {},
   "source": [
    "While defining the ``__add__()``, ``__sub__()``, ``__mul__()``, and similar special methods allows you to use the operators when your class instance is the left-hand side operand, the operator will not work if the class instance is the right-hand side operand"
   ]
  },
  {
   "cell_type": "markdown",
   "id": "4143fc24-76df-4d47-bc57-62d1089a85d3",
   "metadata": {},
   "source": [
    "If your class represents a mathematical entity like a vector, a coordinate, or a complex number, applying the operators should work in both the cases since it is a valid mathematical operation."
   ]
  },
  {
   "cell_type": "markdown",
   "id": "f7d4db1a-c553-4c8b-be0a-5337e9660c96",
   "metadata": {},
   "source": [
    "Moreover, if the operators work only when the instance is the left operand, we are violating the fundamental principle of commutativity in many cases. Therefore, to help you make your classes mathematically correct, Python provides you with reverse special methods such as ``__radd__()``, ``__rsub__()``, ``__rmul__()``, and so on."
   ]
  }
 ],
 "metadata": {
  "kernelspec": {
   "display_name": "Python 3 (ipykernel)",
   "language": "python",
   "name": "python3"
  },
  "language_info": {
   "codemirror_mode": {
    "name": "ipython",
    "version": 3
   },
   "file_extension": ".py",
   "mimetype": "text/x-python",
   "name": "python",
   "nbconvert_exporter": "python",
   "pygments_lexer": "ipython3",
   "version": "3.10.9"
  }
 },
 "nbformat": 4,
 "nbformat_minor": 5
}
