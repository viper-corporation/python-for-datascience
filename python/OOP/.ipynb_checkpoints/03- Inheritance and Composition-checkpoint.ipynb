{
 "cells": [
  {
   "cell_type": "markdown",
   "id": "0f71eff3-9af4-4d87-9852-7872b5d4990d",
   "metadata": {},
   "source": [
    "# Inheritance and Composition"
   ]
  },
  {
   "cell_type": "markdown",
   "id": "2f6d11e9-ed6a-4113-a83b-ece1f268912a",
   "metadata": {},
   "source": [
    "* [What Are Inheritance and Composition?](#What-Are-Inheritance-and-Composition?)"
   ]
  },
  {
   "cell_type": "markdown",
   "id": "2a910c63-cdd1-4bec-b28c-b762da4786da",
   "metadata": {},
   "source": [
    "## What Are Inheritance and Composition?"
   ]
  },
  {
   "cell_type": "markdown",
   "id": "91510387-b5d0-4de3-a3f8-65d55799c082",
   "metadata": {},
   "source": [
    "Inheritance and composition are two major concepts in object oriented programming that model the relationship between two classes. "
   ]
  },
  {
   "cell_type": "markdown",
   "id": "bd86473d-e25d-4745-9404-b326ad6e0fce",
   "metadata": {},
   "source": [
    "* #### What’s Inheritance?"
   ]
  },
  {
   "cell_type": "markdown",
   "id": "cfd76269-6b71-4deb-b823-62da5e94cc5a",
   "metadata": {},
   "source": [
    "**Inheritance** models what is called an **is a** relationship. This means that when you have a Derived class that inherits from a Base class, you created a relationship where Derived is a specialized version of Base."
   ]
  }
 ],
 "metadata": {
  "kernelspec": {
   "display_name": "Python 3 (ipykernel)",
   "language": "python",
   "name": "python3"
  },
  "language_info": {
   "codemirror_mode": {
    "name": "ipython",
    "version": 3
   },
   "file_extension": ".py",
   "mimetype": "text/x-python",
   "name": "python",
   "nbconvert_exporter": "python",
   "pygments_lexer": "ipython3",
   "version": "3.9.12"
  }
 },
 "nbformat": 4,
 "nbformat_minor": 5
}
