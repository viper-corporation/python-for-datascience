{
 "cells": [
  {
   "cell_type": "markdown",
   "id": "1657af9e-cbcc-4726-bbaa-93d504a3fd7b",
   "metadata": {},
   "source": [
    "# class and object"
   ]
  },
  {
   "cell_type": "markdown",
   "id": "816ac67f-c3f2-4885-9f39-7eff81cf2c08",
   "metadata": {},
   "source": [
    "* [Classes vs Instances](#Classes-vs-Instances)\n",
    "* [How to Define a Class](#How-to-Define-a-Class)\n",
    "* [Instantiate an Object in Python](#Instantiate-an-Object-in-Python)\n",
    "* [Class and Instance Attributes](#Class-and-Instance-Attributes)\n",
    "* [Instance Methods](#Instance-Methods)"
   ]
  },
  {
   "cell_type": "markdown",
   "id": "fcf5fb16-d509-46f4-aacd-c3fd3288d8bb",
   "metadata": {},
   "source": [
    "## Classes vs Instances"
   ]
  },
  {
   "cell_type": "markdown",
   "id": "f6ca8447-24c0-4155-bd94-ed6f06af224a",
   "metadata": {},
   "source": [
    "Classes are used to create **user-defined data structures**. \n",
    "\n",
    "Classes define functions called **methods**, which identify the **behaviors and actions** that an object created from the class can perform with its data. \n",
    "\n",
    "and also we can define **properties** in classes"
   ]
  },
  {
   "cell_type": "markdown",
   "id": "9d63e6ab-e13b-40fd-870a-963a12d575e8",
   "metadata": {},
   "source": [
    "In this tutorial, you’ll create a Dog class that stores some information about the **characteristics** and **behaviors** that an individual dog can have."
   ]
  },
  {
   "cell_type": "markdown",
   "id": "0e3724d4-b8a7-4220-9577-21849f9ec302",
   "metadata": {},
   "source": [
    "> **note:** A class is a blueprint for how something should be defined. It doesn’t actually contain any data."
   ]
  },
  {
   "cell_type": "markdown",
   "id": "c4523afc-e206-4aff-b831-837face924f5",
   "metadata": {},
   "source": [
    "While the class is the blueprint, an **instance** is an object that is built from a class and contains real data."
   ]
  },
  {
   "cell_type": "markdown",
   "id": "a0004553-7f50-4c40-946e-0176c62917ea",
   "metadata": {},
   "source": [
    "Put another way, a class is like a form or questionnaire. An instance is like a form that has been filled out with information. Just like many people can fill out the same form with their own unique information, many instances can be created from a single class."
   ]
  },
  {
   "cell_type": "markdown",
   "id": "48e4e718-2f16-45ad-8a4b-0155a7bdd0b9",
   "metadata": {},
   "source": [
    "## How to Define a Class"
   ]
  },
  {
   "cell_type": "markdown",
   "id": "4593110f-bb30-4675-bec6-b64aa8c357da",
   "metadata": {},
   "source": [
    "All class definitions start with the ``class`` keyword, which is followed by the name of the class and a colon. Any code that is indented below the class definition is considered part of the class’s body."
   ]
  },
  {
   "cell_type": "markdown",
   "id": "3c0a5223-5984-433d-b00a-7d236fb37e19",
   "metadata": {},
   "source": [
    "Here’s an example of a Dog class:\n",
    "```python\n",
    "class Dog:\n",
    "    pass\n",
    "```"
   ]
  },
  {
   "cell_type": "markdown",
   "id": "2e335aee-7306-44cc-84b6-d237ef0d7074",
   "metadata": {},
   "source": [
    "The **body** of the Dog class consists of a single statement: the pass keyword. "
   ]
  },
  {
   "cell_type": "markdown",
   "id": "e3d0a056-3cdf-4a86-bba3-cc19b0926975",
   "metadata": {},
   "source": [
    "> **Note:** Python class names are written in CapitalizedWords notation by convention. For example, a class for a specific breed of dog like the Jack Russell Terrier would be written as JackRussellTerrier."
   ]
  },
  {
   "cell_type": "markdown",
   "id": "67df8e77-60d9-4ccd-9890-ef0c6e517575",
   "metadata": {},
   "source": [
    "The Dog class isn’t very interesting right now, so let’s spruce it up a bit by defining some properties that all Dog objects should have. There are a number of properties that we can choose from, including name, age, coat color, and breed. To keep things simple, we’ll just use name and age."
   ]
  },
  {
   "cell_type": "raw",
   "id": "2ae2d0fd-5771-4d1c-9031-5d7f9ab75ec0",
   "metadata": {},
   "source": [
    "The properties that all Dog objects must have are defined in a method called __init__(). Every time a new Dog object is created, .__init__() sets the initial state of the object by assigning the values of the object’s properties. That is, .__init__() initializes each new instance of the class.\n",
    "You can give .__init__() any number of parameters, but the first parameter will always be a variable called self. When a new class instance is created, the instance is automatically passed to the self parameter in .__init__() so that new attributes can be defined on the object."
   ]
  },
  {
   "cell_type": "code",
   "execution_count": 16,
   "id": "608a3708-5bfc-4434-a009-1f4332ac48e8",
   "metadata": {},
   "outputs": [],
   "source": [
    "class dog:\n",
    "    def __init__(self, name, age ):\n",
    "        self.name  = name \n",
    "        self.age = age"
   ]
  },
  {
   "cell_type": "markdown",
   "id": "619262e3-49cb-484f-8f46-cc16c01d03dc",
   "metadata": {},
   "source": [
    "1. ``self.name = name`` creates an attribute called name and assigns to it the value of the name parameter.\n",
    "2. ``self.age = age`` creates an attribute called age and assigns to it the value of the age parameter."
   ]
  },
  {
   "cell_type": "markdown",
   "id": "64c04da8-0d6c-4c0c-a06f-570d1da078e7",
   "metadata": {},
   "source": [
    "Attributes created in .__init__() are called **instance attributes**. \n",
    "\n",
    "> An instance attribute’s value is specific to a particular instance of the class. All Dog objects have a name and an age, but the values for the name and age attributes will vary depending on the Dog instance."
   ]
  },
  {
   "cell_type": "markdown",
   "id": "84732257-ba74-4618-b6c5-d3902d0c09b4",
   "metadata": {},
   "source": [
    "On the other hand, **class attributes** are attributes that have the **same value for all class instances.** You can define a class attribute by assigning a value to a variable name outside of .__init__()."
   ]
  },
  {
   "cell_type": "code",
   "execution_count": 20,
   "id": "34755c7c-ac85-4e47-8f8f-3e7d386230d0",
   "metadata": {},
   "outputs": [],
   "source": [
    "class Dog:\n",
    "    # Class attribute\n",
    "    species = \"Canis familiaris\"\n",
    "\n",
    "    def __init__(self, name, age):\n",
    "        \n",
    "        self.name = name\n",
    "        self.age = age"
   ]
  },
  {
   "cell_type": "markdown",
   "id": "ed9d58c6-7868-4d63-a811-070c1ff7e6e9",
   "metadata": {},
   "source": [
    "## Instantiate an Object in Python"
   ]
  },
  {
   "cell_type": "markdown",
   "id": "b8d74988-c375-4c22-99d4-1d76207afe9d",
   "metadata": {},
   "source": [
    "Creating a new object from a class is called **instantiating** an object. You can instantiate a new Dog object by typing the name of the class, followed by opening and closing parentheses:"
   ]
  },
  {
   "cell_type": "code",
   "execution_count": 24,
   "id": "7aa58497-2195-4b34-aa82-6a74544a2dcb",
   "metadata": {},
   "outputs": [],
   "source": [
    "class Dog:\n",
    "     pass"
   ]
  },
  {
   "cell_type": "code",
   "execution_count": 25,
   "id": "2bb38f65-22f4-40b0-b27a-c719ea2d5eb2",
   "metadata": {},
   "outputs": [
    {
     "data": {
      "text/plain": [
       "<__main__.Dog at 0x21283808d90>"
      ]
     },
     "execution_count": 25,
     "metadata": {},
     "output_type": "execute_result"
    }
   ],
   "source": [
    "Dog()"
   ]
  },
  {
   "cell_type": "markdown",
   "id": "4db5bfba-ebc5-480b-9f85-3ff92c6bc953",
   "metadata": {},
   "source": [
    "Now instantiate a second Dog object:"
   ]
  },
  {
   "cell_type": "code",
   "execution_count": 27,
   "id": "8d70087f-3ecf-4ea8-977d-933fb1f603b4",
   "metadata": {},
   "outputs": [
    {
     "data": {
      "text/plain": [
       "<__main__.Dog at 0x21283808070>"
      ]
     },
     "execution_count": 27,
     "metadata": {},
     "output_type": "execute_result"
    }
   ],
   "source": [
    "Dog()"
   ]
  },
  {
   "cell_type": "markdown",
   "id": "9ca41b3f-7bb5-493d-b24a-56270c4563bf",
   "metadata": {},
   "source": [
    "The new Dog instance is located at a different memory address. That’s because it’s an entirely new instance and is completely unique from the first Dog object that you instantiated."
   ]
  },
  {
   "cell_type": "code",
   "execution_count": 29,
   "id": "e33fb485-4985-4ecc-b6c6-5fac13ce0d0b",
   "metadata": {},
   "outputs": [
    {
     "data": {
      "text/plain": [
       "False"
      ]
     },
     "execution_count": 29,
     "metadata": {},
     "output_type": "execute_result"
    }
   ],
   "source": [
    "a = Dog()\n",
    "b = Dog()\n",
    "a == b"
   ]
  },
  {
   "cell_type": "markdown",
   "id": "8793108f-f6fc-4668-af61-40363d1168a5",
   "metadata": {},
   "source": [
    "## Class and Instance Attributes"
   ]
  },
  {
   "cell_type": "code",
   "execution_count": 32,
   "id": "5f2f2c70-80a5-4d57-823b-4dddcd9d0f0f",
   "metadata": {},
   "outputs": [],
   "source": [
    "class Dog:\n",
    "    # Class attribute\n",
    "    species = \"Canis familiaris\"\n",
    "\n",
    "    def __init__(self, name, age):\n",
    "        \n",
    "        self.name = name\n",
    "        self.age = age"
   ]
  },
  {
   "cell_type": "markdown",
   "id": "6bd75a4d-9141-40ab-8557-3fda8fedb93d",
   "metadata": {},
   "source": [
    "To instantiate objects of this Dog class, you need to provide values for the name and age. If you don’t, then Python raises a ``TypeError``:"
   ]
  },
  {
   "cell_type": "code",
   "execution_count": 33,
   "id": "df9aef6e-b894-4033-9177-87221f802b69",
   "metadata": {},
   "outputs": [
    {
     "ename": "TypeError",
     "evalue": "__init__() missing 2 required positional arguments: 'name' and 'age'",
     "output_type": "error",
     "traceback": [
      "\u001b[1;31m---------------------------------------------------------------------------\u001b[0m",
      "\u001b[1;31mTypeError\u001b[0m                                 Traceback (most recent call last)",
      "Input \u001b[1;32mIn [33]\u001b[0m, in \u001b[0;36m<cell line: 1>\u001b[1;34m()\u001b[0m\n\u001b[1;32m----> 1\u001b[0m \u001b[43mDog\u001b[49m\u001b[43m(\u001b[49m\u001b[43m)\u001b[49m\n",
      "\u001b[1;31mTypeError\u001b[0m: __init__() missing 2 required positional arguments: 'name' and 'age'"
     ]
    }
   ],
   "source": [
    "Dog()"
   ]
  },
  {
   "cell_type": "markdown",
   "id": "7b984f1f-02f2-4363-a34b-4a79799e1278",
   "metadata": {},
   "source": [
    "To pass arguments to the name and age parameters, put values into the parentheses after the class name:"
   ]
  },
  {
   "cell_type": "code",
   "execution_count": 35,
   "id": "ff705e0c-ad4c-40e9-893f-3d8f099c624e",
   "metadata": {},
   "outputs": [],
   "source": [
    "buddy = Dog(\"Buddy\", 9)\n",
    "miles = Dog(\"Miles\", 4)"
   ]
  },
  {
   "cell_type": "markdown",
   "id": "0d6cc59b-28e0-4ecb-903b-de3c108376fd",
   "metadata": {},
   "source": [
    "> **note:** When you instantiate a Dog object, Python creates a new instance and passes it to the first parameter of .__init__(). This essentially removes the self parameter, so you only need to worry about the name and age parameters."
   ]
  },
  {
   "cell_type": "markdown",
   "id": "e4fc8e86-fe3a-447c-8b4e-63d1411152d9",
   "metadata": {},
   "source": [
    "After you create the Dog instances, you can access their instance attributes using **dot notation:**"
   ]
  },
  {
   "cell_type": "code",
   "execution_count": 39,
   "id": "49368dc5-b049-4641-a923-fb91dfa1f849",
   "metadata": {},
   "outputs": [
    {
     "data": {
      "text/plain": [
       "'Buddy'"
      ]
     },
     "execution_count": 39,
     "metadata": {},
     "output_type": "execute_result"
    }
   ],
   "source": [
    "buddy.name"
   ]
  },
  {
   "cell_type": "markdown",
   "id": "73515a95-eace-472d-8542-29fddfc6649b",
   "metadata": {},
   "source": [
    "You can access class attributes the same way:"
   ]
  },
  {
   "cell_type": "code",
   "execution_count": 40,
   "id": "356d9b1e-87f8-4eba-9dcc-80ae31a51ef5",
   "metadata": {},
   "outputs": [
    {
     "data": {
      "text/plain": [
       "'Canis familiaris'"
      ]
     },
     "execution_count": 40,
     "metadata": {},
     "output_type": "execute_result"
    }
   ],
   "source": [
    " buddy.species"
   ]
  },
  {
   "cell_type": "markdown",
   "id": "d6b05a0e-820b-4bdc-bcd2-5a5ab742606f",
   "metadata": {},
   "source": [
    "**One of the biggest advantages of using classes to organize data is that instances are guaranteed to have the attributes you expect.**"
   ]
  },
  {
   "cell_type": "markdown",
   "id": "c52176b3-a4ac-45ca-a0e6-a1998ad07f28",
   "metadata": {},
   "source": [
    "Although the attributes are guaranteed to exist, their values can be changed dynamically:"
   ]
  },
  {
   "cell_type": "code",
   "execution_count": 45,
   "id": "ea455e1d-34fa-4ddf-9ac2-0a75b753aace",
   "metadata": {},
   "outputs": [
    {
     "data": {
      "text/plain": [
       "10"
      ]
     },
     "execution_count": 45,
     "metadata": {},
     "output_type": "execute_result"
    }
   ],
   "source": [
    "buddy.age = 10\n",
    "buddy.age"
   ]
  },
  {
   "cell_type": "markdown",
   "id": "14e8abb4-9cdb-44cf-be4d-988f1de59d2e",
   "metadata": {},
   "source": [
    "> **note:** The key takeaway here is that custom objects are mutable by default."
   ]
  },
  {
   "cell_type": "markdown",
   "id": "42e80e8d-2c6e-413f-9d8b-9da82cf8877a",
   "metadata": {},
   "source": [
    "## Instance Methods:"
   ]
  },
  {
   "cell_type": "markdown",
   "id": "46851e77-a6e4-406d-915f-359f2a751af6",
   "metadata": {},
   "source": [
    "Instance methods are functions that are defined inside a class and can only be called from an instance of that class. Just like .__init__(), an instance method’s first parameter is always self."
   ]
  },
  {
   "cell_type": "code",
   "execution_count": 49,
   "id": "a8684a3a-d94d-4aba-a555-eecf1b9ae179",
   "metadata": {},
   "outputs": [],
   "source": [
    "class Dog:\n",
    "    species = \"Canis familiaris\"\n",
    "\n",
    "    def __init__(self, name, age):\n",
    "        self.name = name\n",
    "        self.age = age\n",
    "\n",
    "    # Instance method\n",
    "    def description(self):\n",
    "        return f\"{self.name} is {self.age} years old\"\n",
    "\n",
    "    # Another instance method\n",
    "    def speak(self, sound):\n",
    "        return f\"{self.name} says {sound}\""
   ]
  },
  {
   "cell_type": "markdown",
   "id": "dcc14678-1100-49a5-837e-26ec7bf2f91c",
   "metadata": {},
   "source": [
    "This Dog class has two instance methods:\n",
    "\n",
    "1. ``.description()`` returns a string displaying the name and age of the dog.\n",
    "2. ``.speak()`` has one parameter called sound and returns a string containing the dog’s name and the sound the dog makes."
   ]
  },
  {
   "cell_type": "code",
   "execution_count": 54,
   "id": "dce1da36-7c26-4615-8ce5-9596df7d0393",
   "metadata": {},
   "outputs": [
    {
     "name": "stdout",
     "output_type": "stream",
     "text": [
      "Miles is 4 years old\n",
      "Miles says Bow Wow\n"
     ]
    }
   ],
   "source": [
    "miles = Dog(\"Miles\", 4)\n",
    "print(miles.description())\n",
    "print(miles.speak(\"Bow Wow\"))"
   ]
  },
  {
   "cell_type": "markdown",
   "id": "adbe07c3-1127-472e-a985-652d00efd5e8",
   "metadata": {},
   "source": [
    "## Check Your Understanding"
   ]
  },
  {
   "cell_type": "markdown",
   "id": "46a88287-207c-4c29-b59d-218a4e1e1d27",
   "metadata": {},
   "source": [
    "Create a Car class with two instance attributes:\n",
    "\n",
    "1. .color, which stores the name of the car’s color as a string\n",
    "2. .mileage, which stores the number of miles on the car as an integer\n",
    "\n",
    "Then instantiate two Car objects—a blue car with 20,000 miles and a red car with 30,000 miles—and print out their colors and mileage. Your output should look like this:"
   ]
  }
 ],
 "metadata": {
  "kernelspec": {
   "display_name": "Python 3 (ipykernel)",
   "language": "python",
   "name": "python3"
  },
  "language_info": {
   "codemirror_mode": {
    "name": "ipython",
    "version": 3
   },
   "file_extension": ".py",
   "mimetype": "text/x-python",
   "name": "python",
   "nbconvert_exporter": "python",
   "pygments_lexer": "ipython3",
   "version": "3.9.12"
  }
 },
 "nbformat": 4,
 "nbformat_minor": 5
}
