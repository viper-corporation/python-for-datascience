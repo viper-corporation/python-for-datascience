{
 "cells": [
  {
   "cell_type": "markdown",
   "id": "19a2dc41-41ae-440e-9249-0996147ae49d",
   "metadata": {},
   "source": [
    "# Python Virtual Environments"
   ]
  },
  {
   "cell_type": "markdown",
   "id": "af2302b2-8e9a-4693-b152-927e5c20ff18",
   "metadata": {},
   "source": [
    "Virtual environments are a common and effective technique used in Python development. Gaining a better understanding of how they work, why you need them, and what you can do with them will help you master your Python programming workflow."
   ]
  },
  {
   "cell_type": "markdown",
   "id": "1f12021b-a7f0-4d61-998d-db220b29092e",
   "metadata": {},
   "source": [
    "### Why Do You Need Virtual Environments?"
   ]
  },
  {
   "cell_type": "markdown",
   "id": "d161ed72-7cc8-46de-9722-07410ab83fa5",
   "metadata": {},
   "source": [
    "The short answer is that Python isn’t great at dependency management. If you’re not specific, then pip will place all the external packages that you install in a folder called site-packages/ in your base Python installation."
   ]
  },
  {
   "cell_type": "markdown",
   "id": "19d8bf6b-8868-4abd-af8e-123c97c39494",
   "metadata": {},
   "source": [
    "The short answer is that Python isn’t great at dependency management. If you’re not specific, then pip will place all the external packages that you install in a folder called site-packages/ in your base Python installation."
   ]
  },
  {
   "cell_type": "markdown",
   "id": "dddc485a-15d6-464e-b649-b7fc7de6618e",
   "metadata": {},
   "source": [
    "1. Avoid System Pollution\n",
    "2. Sidestep Dependency Conflicts\n",
    "3. Minimize Reproducibility Issues"
   ]
  },
  {
   "cell_type": "markdown",
   "id": "a329a9ce-e616-4956-8d15-3e96044ac0a5",
   "metadata": {},
   "source": [
    "### How Can You Work With a Python Virtual Environment?"
   ]
  },
  {
   "cell_type": "markdown",
   "id": "27f13a44-1f74-452b-bad3-3a79e428905e",
   "metadata": {},
   "source": [
    "``Create It``"
   ]
  },
  {
   "cell_type": "markdown",
   "id": "53f83535-41e5-4947-bbef-76c21f1ab436",
   "metadata": {},
   "source": [
    "Any time you’re working on a Python project that uses external dependencies that you’re installing with pip, it’s best to first create a virtual environment:"
   ]
  },
  {
   "cell_type": "markdown",
   "id": "f5dd1ba2-82b9-4c06-9d76-341915836395",
   "metadata": {},
   "source": [
    "```bash\n",
    "python -m venv venv\n",
    "```"
   ]
  },
  {
   "cell_type": "markdown",
   "id": "e4e25f54-45d2-4fc3-af29-c0d5635b9e38",
   "metadata": {},
   "source": [
    "``Activate It``"
   ]
  },
  {
   "cell_type": "markdown",
   "id": "8ae7af49-e0a1-436f-999c-f41f1c07b782",
   "metadata": {},
   "source": [
    "Great! Now your project has its own virtual environment. Generally, before you start using it, you’ll first activate the environment by executing a script that comes with the installation:"
   ]
  },
  {
   "cell_type": "markdown",
   "id": "fb602dbb-d853-436d-9652-f0b2542f086d",
   "metadata": {},
   "source": [
    "```bash\n",
    "venv\\Scripts\\activate\n",
    "```"
   ]
  },
  {
   "cell_type": "markdown",
   "id": "491f27f1-7b7c-424f-8aa2-5df580698c8b",
   "metadata": {},
   "source": [
    "``Install Packages Into It``"
   ]
  },
  {
   "cell_type": "markdown",
   "id": "6a0a3d26-0f29-4e76-b6df-3c20af69696d",
   "metadata": {},
   "source": [
    "After creating and activating your virtual environment, you can now install any external dependencies that you need for your project:"
   ]
  },
  {
   "cell_type": "markdown",
   "id": "6cdf8f8c-f7ed-4eaf-b255-f1af70e0a543",
   "metadata": {},
   "source": [
    "```bash\n",
    "pip install <package-name>\n",
    "```"
   ]
  },
  {
   "cell_type": "markdown",
   "id": "c0f3a681-4843-4550-b522-ffc2ce49a43d",
   "metadata": {},
   "source": [
    "``Deactivate It``"
   ]
  },
  {
   "cell_type": "markdown",
   "id": "bc2ed875-818e-4591-b7ba-e3f26d00326e",
   "metadata": {},
   "source": [
    "Once you’re done working with this virtual environment, you can deactivate it:"
   ]
  },
  {
   "cell_type": "markdown",
   "id": "fb66df32-bdcf-4a0c-b6a6-a5a3590d0403",
   "metadata": {},
   "source": [
    "```bash\n",
    "deactivate\n",
    "```"
   ]
  },
  {
   "cell_type": "markdown",
   "id": "e9e233fa-2791-4764-a089-27a8fa6b4e71",
   "metadata": {},
   "source": [
    "After executing the deactivate command, your command prompt returns to normal. "
   ]
  },
  {
   "cell_type": "markdown",
   "id": "cdc2d43f-9b65-4412-b251-af98db8db4e3",
   "metadata": {},
   "source": [
    "### how connect jupyter to venv "
   ]
  },
  {
   "cell_type": "markdown",
   "id": "d889e654-06a3-451f-b743-e2c1f10d5d2d",
   "metadata": {},
   "source": [
    "**Step 1:** Create virtual environment as normal\n",
    "On OSX, this would be:\n",
    "```bash\n",
    "virtualenv myenv\n",
    "```\n",
    "![image](./Capture.png)\n",
    "replacing ‘myenv’ with the name you want to give this virtual environment. Then we activate the environment using:\n",
    "```bash\n",
    "source myenv/bin/activate\n",
    "```\n",
    "![image](./Capture2.png)\n"
   ]
  },
  {
   "cell_type": "markdown",
   "id": "a6928406-4043-43bd-8146-e398fb535f55",
   "metadata": {},
   "source": [
    "**Step 2:** Install Jupyter Notebook into virtual environment\n",
    "Now we want to (re)install jupyter notebook within this environment using:\n",
    "```bash\n",
    "pip install ipykernel\n",
    "```\n"
   ]
  },
  {
   "cell_type": "markdown",
   "id": "9f329c3b-473e-46ba-9a27-f71de7784a54",
   "metadata": {},
   "source": [
    "![image](./Capture3.png)"
   ]
  },
  {
   "cell_type": "markdown",
   "id": "c33b7d74-c393-4c5a-974a-51593cc01b60",
   "metadata": {},
   "source": [
    "**Step 3:** Allow Jupyter access to the kernel within our new virtual environment\n",
    "The final step involves running the following command, which adds the newly created ‘myenv’ environment to the list of accessible kernels for Jupyter Notebook.\n",
    "```bash\n",
    "python -m ipykernel install --user --name=myenv\n",
    "```"
   ]
  },
  {
   "cell_type": "markdown",
   "id": "ef80d1c9-4ff8-4658-be0f-0324a1764e76",
   "metadata": {},
   "source": [
    "![image](./Capture4.png)"
   ]
  },
  {
   "cell_type": "markdown",
   "id": "b001150f-bfbd-4d71-9ef5-8bc00a1a4a92",
   "metadata": {},
   "source": [
    "**step 4** : open jupyter lab normally and choose your envirment in kernel section"
   ]
  },
  {
   "cell_type": "markdown",
   "id": "8ac128b0-f6c6-4f09-8c0d-62817617c02f",
   "metadata": {},
   "source": [
    "![image](./Capture5.png)"
   ]
  },
  {
   "cell_type": "markdown",
   "id": "4565be21-c59b-4140-a7a4-f09482477d40",
   "metadata": {},
   "source": [
    "**salam**"
   ]
  }
 ],
 "metadata": {
  "kernelspec": {
   "display_name": "scrapping",
   "language": "python",
   "name": "scrapping"
  },
  "language_info": {
   "codemirror_mode": {
    "name": "ipython",
    "version": 3
   },
   "file_extension": ".py",
   "mimetype": "text/x-python",
   "name": "python",
   "nbconvert_exporter": "python",
   "pygments_lexer": "ipython3",
   "version": "3.11.4"
  }
 },
 "nbformat": 4,
 "nbformat_minor": 5
}
