{
 "cells": [
  {
   "cell_type": "markdown",
   "id": "a989e93d-38a6-45a9-ba86-520c2d3b00a6",
   "metadata": {},
   "source": [
    "message ->telegram -> nashenas_bot-> telegram->user"
   ]
  },
  {
   "cell_type": "code",
   "execution_count": 5,
   "id": "935727a9-602c-4be2-964b-47f6f2e76023",
   "metadata": {},
   "outputs": [
    {
     "data": {
      "text/plain": [
       "8"
      ]
     },
     "execution_count": 5,
     "metadata": {},
     "output_type": "execute_result"
    }
   ],
   "source": [
    "from types import S"
   ]
  },
  {
   "cell_type": "code",
   "execution_count": null,
   "id": "7729c251-ba84-4715-8588-8717ec49c066",
   "metadata": {},
   "outputs": [],
   "source": [
    "reply \n",
    "message\n",
    "keyboard\n"
   ]
  }
 ],
 "metadata": {
  "kernelspec": {
   "display_name": "Python 3 (ipykernel)",
   "language": "python",
   "name": "python3"
  },
  "language_info": {
   "codemirror_mode": {
    "name": "ipython",
    "version": 3
   },
   "file_extension": ".py",
   "mimetype": "text/x-python",
   "name": "python",
   "nbconvert_exporter": "python",
   "pygments_lexer": "ipython3",
   "version": "3.10.9"
  }
 },
 "nbformat": 4,
 "nbformat_minor": 5
}
