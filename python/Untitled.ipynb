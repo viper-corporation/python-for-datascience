{
 "cells": [
  {
   "cell_type": "code",
   "execution_count": null,
   "id": "0c30a302-e87f-4285-9c53-493e4c87c323",
   "metadata": {},
   "outputs": [],
   "source": [
    "git config --global user.name \"rasool-ahad\"\n",
    "git config --global user.email \"rasoolahad1997@gmail.com\"\n",
    "\n",
    "git remote add origin \"\"\n",
    "git push origin master \n",
    "\n",
    "\n",
    "git clone \"url\"\n",
    "git pull \n"
   ]
  }
 ],
 "metadata": {
  "kernelspec": {
   "display_name": "Python 3 (ipykernel)",
   "language": "python",
   "name": "python3"
  },
  "language_info": {
   "codemirror_mode": {
    "name": "ipython",
    "version": 3
   },
   "file_extension": ".py",
   "mimetype": "text/x-python",
   "name": "python",
   "nbconvert_exporter": "python",
   "pygments_lexer": "ipython3",
   "version": "3.10.9"
  }
 },
 "nbformat": 4,
 "nbformat_minor": 5
}
