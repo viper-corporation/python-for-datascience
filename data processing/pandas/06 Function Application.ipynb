{
 "cells": [
  {
   "cell_type": "markdown",
   "id": "fa7702d3-7fdb-4da1-88c7-ce614d335aa2",
   "metadata": {},
   "source": [
    "\n",
    "# Function Application"
   ]
  },
  {
   "cell_type": "code",
   "execution_count": 4,
   "id": "512304ca-86d3-458a-ba91-cf9f8a5cf3d4",
   "metadata": {},
   "outputs": [],
   "source": [
    "import pandas as pd\n",
    "import numpy as np"
   ]
  },
  {
   "cell_type": "markdown",
   "id": "4bd4d743-7840-4345-aa61-2c238f245c47",
   "metadata": {},
   "source": [
    "While coding, one has to apply functions to Pandas objects. To apply these pandas function applications – pipe(), apply(), and applymap(), you should know these three important methods. The knowledge of these methods helps us to choose the method of application wisely while coding. The appropriate method for applying the functions depends on whether your function expects to operate element-wise, row wise, or column wise.\n",
    "\n",
    "- Tablewise Function Application: `pipe()`\n",
    "- Row or Column-wise Function Application: `apply()`\n",
    "- Applying Elementwise Functions: `applymap()`"
   ]
  },
  {
   "cell_type": "markdown",
   "id": "aaa627d3-9aed-45a3-b0df-55b7c14d9fda",
   "metadata": {
    "tags": []
   },
   "source": [
    "<a class=\"anchor\" id=\"tablewise_function_application\"></a>\n",
    "## Tablewise function application"
   ]
  },
  {
   "cell_type": "markdown",
   "id": "dfdbd317-4df0-44e3-977a-5e49e039cfa7",
   "metadata": {},
   "source": [
    "The custom operations performed by passing a function and an appropriate number of parameters. These are known as pipe arguments. Hence, the operation is performed on the entire DataFrame or Series. When we want to apply one function to a series or DataFrame, then apply another, then another, and so on, the notation can become messy. It can also makes the program more prone to error. Here, pipe() becomes useful."
   ]
  },
  {
   "cell_type": "markdown",
   "id": "2aab0eed-161c-405d-bd47-8552c17b79de",
   "metadata": {},
   "source": [
    "pipe syntax : \n",
    "```python\n",
    "DataFrame.pipe(func, *args, **kwargs)    \n",
    "```"
   ]
  },
  {
   "cell_type": "markdown",
   "id": "d659db30-f865-4f8f-aeb1-8c0d120ba8fc",
   "metadata": {},
   "source": [
    "example on series :"
   ]
  },
  {
   "cell_type": "code",
   "execution_count": 5,
   "id": "f6ab5856-be7f-45aa-ad92-bfd9bd3c83bf",
   "metadata": {},
   "outputs": [],
   "source": [
    "def adder(ele1,ele2):\n",
    "    return ele1+ele2"
   ]
  },
  {
   "cell_type": "code",
   "execution_count": 7,
   "id": "62dc4623-b42b-4a05-91f4-4f91d3770691",
   "metadata": {},
   "outputs": [
    {
     "data": {
      "text/plain": [
       "0    11\n",
       "1    21\n",
       "2    31\n",
       "3    41\n",
       "4    51\n",
       "dtype: int64"
      ]
     },
     "execution_count": 7,
     "metadata": {},
     "output_type": "execute_result"
    }
   ],
   "source": [
    "data_s1 = pd.Series([11,21,31,41,51])\n",
    "data_s1"
   ]
  },
  {
   "cell_type": "code",
   "execution_count": 8,
   "id": "53e5eb87-fb90-4da6-9d95-3827ce13eebe",
   "metadata": {},
   "outputs": [
    {
     "data": {
      "text/plain": [
       "0    14\n",
       "1    24\n",
       "2    34\n",
       "3    44\n",
       "4    54\n",
       "dtype: int64"
      ]
     },
     "execution_count": 8,
     "metadata": {},
     "output_type": "execute_result"
    }
   ],
   "source": [
    "data_s1.pipe(adder,3)"
   ]
  },
  {
   "cell_type": "markdown",
   "id": "8da70b73-c9d9-4088-9c9e-41ade1c944e3",
   "metadata": {},
   "source": [
    "example on dataframe :"
   ]
  },
  {
   "cell_type": "code",
   "execution_count": 14,
   "id": "017d6da4-25c5-4994-ab29-afbc2d03e3ec",
   "metadata": {},
   "outputs": [
    {
     "data": {
      "text/html": [
       "<div>\n",
       "<style scoped>\n",
       "    .dataframe tbody tr th:only-of-type {\n",
       "        vertical-align: middle;\n",
       "    }\n",
       "\n",
       "    .dataframe tbody tr th {\n",
       "        vertical-align: top;\n",
       "    }\n",
       "\n",
       "    .dataframe thead th {\n",
       "        text-align: right;\n",
       "    }\n",
       "</style>\n",
       "<table border=\"1\" class=\"dataframe\">\n",
       "  <thead>\n",
       "    <tr style=\"text-align: right;\">\n",
       "      <th></th>\n",
       "      <th>c1</th>\n",
       "      <th>c2</th>\n",
       "      <th>c3</th>\n",
       "    </tr>\n",
       "  </thead>\n",
       "  <tbody>\n",
       "    <tr>\n",
       "      <th>0</th>\n",
       "      <td>-0.876620</td>\n",
       "      <td>9.783652</td>\n",
       "      <td>-9.054336</td>\n",
       "    </tr>\n",
       "    <tr>\n",
       "      <th>1</th>\n",
       "      <td>0.822029</td>\n",
       "      <td>-7.189354</td>\n",
       "      <td>-3.101616</td>\n",
       "    </tr>\n",
       "    <tr>\n",
       "      <th>2</th>\n",
       "      <td>-4.417143</td>\n",
       "      <td>-12.818045</td>\n",
       "      <td>0.686851</td>\n",
       "    </tr>\n",
       "    <tr>\n",
       "      <th>3</th>\n",
       "      <td>-6.362847</td>\n",
       "      <td>-4.155875</td>\n",
       "      <td>2.411202</td>\n",
       "    </tr>\n",
       "    <tr>\n",
       "      <th>4</th>\n",
       "      <td>4.957938</td>\n",
       "      <td>-0.663725</td>\n",
       "      <td>-11.147275</td>\n",
       "    </tr>\n",
       "    <tr>\n",
       "      <th>5</th>\n",
       "      <td>7.064220</td>\n",
       "      <td>-10.636215</td>\n",
       "      <td>8.474016</td>\n",
       "    </tr>\n",
       "  </tbody>\n",
       "</table>\n",
       "</div>"
      ],
      "text/plain": [
       "         c1         c2         c3\n",
       "0 -0.876620   9.783652  -9.054336\n",
       "1  0.822029  -7.189354  -3.101616\n",
       "2 -4.417143 -12.818045   0.686851\n",
       "3 -6.362847  -4.155875   2.411202\n",
       "4  4.957938  -0.663725 -11.147275\n",
       "5  7.064220 -10.636215   8.474016"
      ]
     },
     "execution_count": 14,
     "metadata": {},
     "output_type": "execute_result"
    }
   ],
   "source": [
    ">>> data_df1=pd.DataFrame(6*np.random.randn(6,3),columns=['c1','c2','c3'])\n",
    ">>> data_df1"
   ]
  },
  {
   "cell_type": "code",
   "execution_count": 12,
   "id": "73d6d362-af82-46cc-8749-bb5cab2db3d5",
   "metadata": {},
   "outputs": [
    {
     "data": {
      "text/html": [
       "<div>\n",
       "<style scoped>\n",
       "    .dataframe tbody tr th:only-of-type {\n",
       "        vertical-align: middle;\n",
       "    }\n",
       "\n",
       "    .dataframe tbody tr th {\n",
       "        vertical-align: top;\n",
       "    }\n",
       "\n",
       "    .dataframe thead th {\n",
       "        text-align: right;\n",
       "    }\n",
       "</style>\n",
       "<table border=\"1\" class=\"dataframe\">\n",
       "  <thead>\n",
       "    <tr style=\"text-align: right;\">\n",
       "      <th></th>\n",
       "      <th>c1</th>\n",
       "      <th>c2</th>\n",
       "      <th>c3</th>\n",
       "    </tr>\n",
       "  </thead>\n",
       "  <tbody>\n",
       "    <tr>\n",
       "      <th>0</th>\n",
       "      <td>-0.985653</td>\n",
       "      <td>2.294141</td>\n",
       "      <td>11.061124</td>\n",
       "    </tr>\n",
       "    <tr>\n",
       "      <th>1</th>\n",
       "      <td>9.677193</td>\n",
       "      <td>0.287188</td>\n",
       "      <td>-6.673374</td>\n",
       "    </tr>\n",
       "    <tr>\n",
       "      <th>2</th>\n",
       "      <td>-0.542047</td>\n",
       "      <td>9.885663</td>\n",
       "      <td>9.602510</td>\n",
       "    </tr>\n",
       "    <tr>\n",
       "      <th>3</th>\n",
       "      <td>6.182124</td>\n",
       "      <td>1.844314</td>\n",
       "      <td>-3.915804</td>\n",
       "    </tr>\n",
       "    <tr>\n",
       "      <th>4</th>\n",
       "      <td>5.015571</td>\n",
       "      <td>7.221821</td>\n",
       "      <td>12.543510</td>\n",
       "    </tr>\n",
       "    <tr>\n",
       "      <th>5</th>\n",
       "      <td>6.705111</td>\n",
       "      <td>2.682463</td>\n",
       "      <td>3.789743</td>\n",
       "    </tr>\n",
       "  </tbody>\n",
       "</table>\n",
       "</div>"
      ],
      "text/plain": [
       "         c1        c2         c3\n",
       "0 -0.985653  2.294141  11.061124\n",
       "1  9.677193  0.287188  -6.673374\n",
       "2 -0.542047  9.885663   9.602510\n",
       "3  6.182124  1.844314  -3.915804\n",
       "4  5.015571  7.221821  12.543510\n",
       "5  6.705111  2.682463   3.789743"
      ]
     },
     "execution_count": 12,
     "metadata": {},
     "output_type": "execute_result"
    }
   ],
   "source": [
    "data_df1.pipe(adder,4)"
   ]
  },
  {
   "cell_type": "markdown",
   "id": "2e94f457-6c18-442b-89f6-12c1f6a339d5",
   "metadata": {},
   "source": [
    "another example of pipe"
   ]
  },
  {
   "cell_type": "code",
   "execution_count": null,
   "id": "6506f76b-e923-442b-bdbb-1687270d3020",
   "metadata": {},
   "outputs": [],
   "source": [
    "def extract_city_name(df):\n",
    "    \"\"\"\n",
    " Chicago, IL -> Chicago for city_name column\n",
    " \"\"\"\n",
    "    df[\"city_name\"] = df[\"city_and_code\"].str.split(\",\").str.get(0)\n",
    "    return df"
   ]
  },
  {
   "cell_type": "code",
   "execution_count": null,
   "id": "5f0fa1c3-11b3-4b85-9211-049448ff5358",
   "metadata": {},
   "outputs": [],
   "source": [
    "def add_country_name(df, country_name=None):\n",
    "    \"\"\"\n",
    " Chicago -> Chicago-US for city_name column\n",
    " \"\"\"\n",
    "    col = \"city_name\"\n",
    "    df[\"city_and_country\"] = df[col] + ' - ' + country_name\n",
    "    return df"
   ]
  },
  {
   "cell_type": "code",
   "execution_count": null,
   "id": "91201fbb-f38b-4052-a470-8c07ad8c46a8",
   "metadata": {},
   "outputs": [],
   "source": [
    "df_p = pd.DataFrame({\"city_and_code\": [\"Chicago, IL\"]})"
   ]
  },
  {
   "cell_type": "code",
   "execution_count": null,
   "id": "91f8ca51-efb2-4906-bb99-e648a8d3a419",
   "metadata": {},
   "outputs": [
    {
     "data": {
      "text/html": [
       "<div>\n",
       "<style scoped>\n",
       "    .dataframe tbody tr th:only-of-type {\n",
       "        vertical-align: middle;\n",
       "    }\n",
       "\n",
       "    .dataframe tbody tr th {\n",
       "        vertical-align: top;\n",
       "    }\n",
       "\n",
       "    .dataframe thead th {\n",
       "        text-align: right;\n",
       "    }\n",
       "</style>\n",
       "<table border=\"1\" class=\"dataframe\">\n",
       "  <thead>\n",
       "    <tr style=\"text-align: right;\">\n",
       "      <th></th>\n",
       "      <th>city_and_code</th>\n",
       "    </tr>\n",
       "  </thead>\n",
       "  <tbody>\n",
       "    <tr>\n",
       "      <th>0</th>\n",
       "      <td>Chicago, IL</td>\n",
       "    </tr>\n",
       "  </tbody>\n",
       "</table>\n",
       "</div>"
      ],
      "text/plain": [
       "  city_and_code\n",
       "0   Chicago, IL"
      ]
     },
     "execution_count": 5,
     "metadata": {},
     "output_type": "execute_result"
    }
   ],
   "source": [
    "df_p"
   ]
  },
  {
   "cell_type": "markdown",
   "id": "b32ba3ae-0c12-4485-8160-6612eed4f6a4",
   "metadata": {},
   "source": [
    "`extract_city_name` and `add_country_name` are functions taking and returning `DataFrames`."
   ]
  },
  {
   "cell_type": "markdown",
   "id": "847e368b-a2c5-4b99-9a18-9b7618bab7f6",
   "metadata": {},
   "source": [
    "Now compare the following:"
   ]
  },
  {
   "cell_type": "code",
   "execution_count": null,
   "id": "3a257f0a-8a90-4eec-af98-8d3ebfd649af",
   "metadata": {},
   "outputs": [
    {
     "data": {
      "text/html": [
       "<div>\n",
       "<style scoped>\n",
       "    .dataframe tbody tr th:only-of-type {\n",
       "        vertical-align: middle;\n",
       "    }\n",
       "\n",
       "    .dataframe tbody tr th {\n",
       "        vertical-align: top;\n",
       "    }\n",
       "\n",
       "    .dataframe thead th {\n",
       "        text-align: right;\n",
       "    }\n",
       "</style>\n",
       "<table border=\"1\" class=\"dataframe\">\n",
       "  <thead>\n",
       "    <tr style=\"text-align: right;\">\n",
       "      <th></th>\n",
       "      <th>city_and_code</th>\n",
       "      <th>city_name</th>\n",
       "      <th>city_and_country</th>\n",
       "    </tr>\n",
       "  </thead>\n",
       "  <tbody>\n",
       "    <tr>\n",
       "      <th>0</th>\n",
       "      <td>Chicago, IL</td>\n",
       "      <td>Chicago</td>\n",
       "      <td>Chicago - US</td>\n",
       "    </tr>\n",
       "  </tbody>\n",
       "</table>\n",
       "</div>"
      ],
      "text/plain": [
       "  city_and_code city_name city_and_country\n",
       "0   Chicago, IL   Chicago     Chicago - US"
      ]
     },
     "execution_count": 6,
     "metadata": {},
     "output_type": "execute_result"
    }
   ],
   "source": [
    "add_country_name(extract_city_name(df_p), country_name=\"US\")"
   ]
  },
  {
   "cell_type": "markdown",
   "id": "cf159416-322a-4471-84eb-2a6048251637",
   "metadata": {},
   "source": [
    "Is equivalent to:"
   ]
  },
  {
   "cell_type": "code",
   "execution_count": null,
   "id": "31ea963f-af49-4562-a962-2f64afc987fd",
   "metadata": {},
   "outputs": [
    {
     "data": {
      "text/html": [
       "<div>\n",
       "<style scoped>\n",
       "    .dataframe tbody tr th:only-of-type {\n",
       "        vertical-align: middle;\n",
       "    }\n",
       "\n",
       "    .dataframe tbody tr th {\n",
       "        vertical-align: top;\n",
       "    }\n",
       "\n",
       "    .dataframe thead th {\n",
       "        text-align: right;\n",
       "    }\n",
       "</style>\n",
       "<table border=\"1\" class=\"dataframe\">\n",
       "  <thead>\n",
       "    <tr style=\"text-align: right;\">\n",
       "      <th></th>\n",
       "      <th>city_and_code</th>\n",
       "      <th>city_name</th>\n",
       "      <th>city_and_country</th>\n",
       "    </tr>\n",
       "  </thead>\n",
       "  <tbody>\n",
       "    <tr>\n",
       "      <th>0</th>\n",
       "      <td>Chicago, IL</td>\n",
       "      <td>Chicago</td>\n",
       "      <td>Chicago - US</td>\n",
       "    </tr>\n",
       "  </tbody>\n",
       "</table>\n",
       "</div>"
      ],
      "text/plain": [
       "  city_and_code city_name city_and_country\n",
       "0   Chicago, IL   Chicago     Chicago - US"
      ]
     },
     "execution_count": 7,
     "metadata": {},
     "output_type": "execute_result"
    }
   ],
   "source": [
    "df_p.pipe(extract_city_name).pipe(add_country_name, country_name=\"US\")"
   ]
  },
  {
   "cell_type": "markdown",
   "id": "9f799385-8957-4bc2-8f3a-f21ad99f1e83",
   "metadata": {},
   "source": [
    "pandas encourages the second style, which is known as method chaining.\n",
    "`pipe` makes it easy to use your own or another library’s functions\n",
    "in method chains, alongside pandas’ methods."
   ]
  },
  {
   "cell_type": "markdown",
   "id": "d1a2ac36-683c-4b21-b548-47baee4534e7",
   "metadata": {},
   "source": [
    "In the example above, the functions `extract_city_name` and `add_country_name` each expected a `DataFrame` as the first positional argument.\n",
    "What if the function you wish to apply takes its data as, say, the second argument?\n",
    "In this case, provide `pipe` with a tuple of `(callable, data_keyword)`.\n",
    "`.pipe` will route the `DataFrame` to the argument specified in the tuple."
   ]
  },
  {
   "cell_type": "markdown",
   "id": "43489580-a70d-4934-b7cf-e60d8aab4404",
   "metadata": {},
   "source": [
    "The pipe method is inspired by unix pipes and more recently [dplyr](https://github.com/tidyverse/dplyr) and [magrittr](https://github.com/tidyverse/magrittr), which\n",
    "have introduced the popular `(%>%)` (read pipe) operator for [R](https://www.r-project.org).\n",
    "The implementation of `pipe` here is quite clean and feels right at home in Python.\n",
    "We encourage you to view the source code of [`pipe()`](../reference/api/pandas.DataFrame.pipe.html#pandas.DataFrame.pipe \"pandas.DataFrame.pipe\")."
   ]
  },
  {
   "cell_type": "markdown",
   "id": "a30b7845-fd86-4e58-b682-984c2e220f71",
   "metadata": {},
   "source": [
    "<a class=\"anchor\" id=\"row_or_column-wise_function_application\"></a>\n",
    "## Row or column-wise function application"
   ]
  },
  {
   "cell_type": "markdown",
   "id": "d8520b83-7046-4e98-866c-419293e1c8f4",
   "metadata": {},
   "source": [
    "You may apply arbitrary functions to the axes of a DataFrame or Panel by using the apply() method. It can also be applied to a Series. It takes an optional axis argument. By default, the operation will be performed column-wise, taking every column as an array. It enables the user, to pass a function and then apply it to all the values of the DataFrame or Series. It is a huge improvement for the library as it allows the segregation of data according to the given conditions, making it efficiently usable in machine learning and data science."
   ]
  },
  {
   "cell_type": "markdown",
   "id": "20fafd36-809f-4a08-9bcb-67b1a10f7590",
   "metadata": {},
   "source": [
    "syntax:\n",
    "```python\n",
    "DataFrame.apply(func, axis=0, raw=False, args=() , **kwargs)\n",
    "```"
   ]
  },
  {
   "cell_type": "markdown",
   "id": "952ae610-4ff3-4512-a3ba-e8e9ab7750cc",
   "metadata": {},
   "source": [
    "example : "
   ]
  },
  {
   "cell_type": "code",
   "execution_count": 34,
   "id": "72beb24f-b127-4869-86b7-042e622ec6bb",
   "metadata": {},
   "outputs": [],
   "source": [
    "def sq(ele1):\n",
    "    return ele1*ele1"
   ]
  },
  {
   "cell_type": "code",
   "execution_count": 35,
   "id": "0d05f64e-da70-4cc8-8a73-d70abd75f4f4",
   "metadata": {},
   "outputs": [
    {
     "data": {
      "text/plain": [
       "0     121\n",
       "1     441\n",
       "2     961\n",
       "3    1681\n",
       "4    2601\n",
       "dtype: int64"
      ]
     },
     "execution_count": 35,
     "metadata": {},
     "output_type": "execute_result"
    }
   ],
   "source": [
    "data_s1.apply(sq)"
   ]
  },
  {
   "cell_type": "markdown",
   "id": "9f14b0d2-7dda-48de-b345-d96df09d53de",
   "metadata": {},
   "source": [
    "example2:"
   ]
  },
  {
   "cell_type": "code",
   "execution_count": 38,
   "id": "9b864b55-5922-4109-a50d-3358d130a123",
   "metadata": {},
   "outputs": [],
   "source": [
    "df = pd.DataFrame(\n",
    "    {\n",
    "        \"one\": pd.Series(np.random.randn(3), index=[\"a\", \"b\", \"c\"]),\n",
    "        \"two\": pd.Series(np.random.randn(4), index=[\"a\", \"b\", \"c\", \"d\"]),\n",
    "        \"three\": pd.Series(np.random.randn(3), index=[\"b\", \"c\", \"d\"]),\n",
    "    }\n",
    ")"
   ]
  },
  {
   "cell_type": "code",
   "execution_count": 39,
   "id": "6c3468b4-5be9-4e1f-b1c1-dac2dcfa84d1",
   "metadata": {},
   "outputs": [
    {
     "data": {
      "text/html": [
       "<div>\n",
       "<style scoped>\n",
       "    .dataframe tbody tr th:only-of-type {\n",
       "        vertical-align: middle;\n",
       "    }\n",
       "\n",
       "    .dataframe tbody tr th {\n",
       "        vertical-align: top;\n",
       "    }\n",
       "\n",
       "    .dataframe thead th {\n",
       "        text-align: right;\n",
       "    }\n",
       "</style>\n",
       "<table border=\"1\" class=\"dataframe\">\n",
       "  <thead>\n",
       "    <tr style=\"text-align: right;\">\n",
       "      <th></th>\n",
       "      <th>one</th>\n",
       "      <th>two</th>\n",
       "      <th>three</th>\n",
       "    </tr>\n",
       "  </thead>\n",
       "  <tbody>\n",
       "    <tr>\n",
       "      <th>a</th>\n",
       "      <td>0.710409</td>\n",
       "      <td>0.410920</td>\n",
       "      <td>NaN</td>\n",
       "    </tr>\n",
       "    <tr>\n",
       "      <th>b</th>\n",
       "      <td>0.875225</td>\n",
       "      <td>-0.604144</td>\n",
       "      <td>0.337241</td>\n",
       "    </tr>\n",
       "    <tr>\n",
       "      <th>c</th>\n",
       "      <td>-2.275900</td>\n",
       "      <td>-2.534002</td>\n",
       "      <td>-0.283520</td>\n",
       "    </tr>\n",
       "    <tr>\n",
       "      <th>d</th>\n",
       "      <td>NaN</td>\n",
       "      <td>-0.761122</td>\n",
       "      <td>-0.222561</td>\n",
       "    </tr>\n",
       "  </tbody>\n",
       "</table>\n",
       "</div>"
      ],
      "text/plain": [
       "        one       two     three\n",
       "a  0.710409  0.410920       NaN\n",
       "b  0.875225 -0.604144  0.337241\n",
       "c -2.275900 -2.534002 -0.283520\n",
       "d       NaN -0.761122 -0.222561"
      ]
     },
     "execution_count": 39,
     "metadata": {},
     "output_type": "execute_result"
    }
   ],
   "source": [
    "df"
   ]
  },
  {
   "cell_type": "code",
   "execution_count": 40,
   "id": "ba580411-faab-41e8-96e9-2d1177c4c0eb",
   "metadata": {},
   "outputs": [
    {
     "data": {
      "text/plain": [
       "one     -0.230089\n",
       "two     -0.872087\n",
       "three   -0.056280\n",
       "dtype: float64"
      ]
     },
     "execution_count": 40,
     "metadata": {},
     "output_type": "execute_result"
    }
   ],
   "source": [
    "df.apply(np.mean)"
   ]
  },
  {
   "cell_type": "code",
   "execution_count": 41,
   "id": "d59fe01d-c015-4962-abad-932a1c7ed9f0",
   "metadata": {},
   "outputs": [
    {
     "data": {
      "text/plain": [
       "a    0.560664\n",
       "b    0.202774\n",
       "c   -1.697807\n",
       "d   -0.491841\n",
       "dtype: float64"
      ]
     },
     "execution_count": 41,
     "metadata": {},
     "output_type": "execute_result"
    }
   ],
   "source": [
    "df.apply(np.mean, axis=1)"
   ]
  },
  {
   "cell_type": "code",
   "execution_count": 42,
   "id": "041f2a6a-8550-4dae-bc7b-4ed3bdb33383",
   "metadata": {},
   "outputs": [
    {
     "data": {
      "text/plain": [
       "one      3.151125\n",
       "two      2.944922\n",
       "three    0.620761\n",
       "dtype: float64"
      ]
     },
     "execution_count": 42,
     "metadata": {},
     "output_type": "execute_result"
    }
   ],
   "source": [
    "df.apply(lambda x: x.max() - x.min())"
   ]
  },
  {
   "cell_type": "code",
   "execution_count": 43,
   "id": "e4776819-e4df-47ac-982c-b7acaace2273",
   "metadata": {},
   "outputs": [
    {
     "data": {
      "text/html": [
       "<div>\n",
       "<style scoped>\n",
       "    .dataframe tbody tr th:only-of-type {\n",
       "        vertical-align: middle;\n",
       "    }\n",
       "\n",
       "    .dataframe tbody tr th {\n",
       "        vertical-align: top;\n",
       "    }\n",
       "\n",
       "    .dataframe thead th {\n",
       "        text-align: right;\n",
       "    }\n",
       "</style>\n",
       "<table border=\"1\" class=\"dataframe\">\n",
       "  <thead>\n",
       "    <tr style=\"text-align: right;\">\n",
       "      <th></th>\n",
       "      <th>one</th>\n",
       "      <th>two</th>\n",
       "      <th>three</th>\n",
       "    </tr>\n",
       "  </thead>\n",
       "  <tbody>\n",
       "    <tr>\n",
       "      <th>a</th>\n",
       "      <td>0.710409</td>\n",
       "      <td>0.410920</td>\n",
       "      <td>NaN</td>\n",
       "    </tr>\n",
       "    <tr>\n",
       "      <th>b</th>\n",
       "      <td>1.585634</td>\n",
       "      <td>-0.193224</td>\n",
       "      <td>0.337241</td>\n",
       "    </tr>\n",
       "    <tr>\n",
       "      <th>c</th>\n",
       "      <td>-0.690266</td>\n",
       "      <td>-2.727226</td>\n",
       "      <td>0.053721</td>\n",
       "    </tr>\n",
       "    <tr>\n",
       "      <th>d</th>\n",
       "      <td>NaN</td>\n",
       "      <td>-3.488349</td>\n",
       "      <td>-0.168840</td>\n",
       "    </tr>\n",
       "  </tbody>\n",
       "</table>\n",
       "</div>"
      ],
      "text/plain": [
       "        one       two     three\n",
       "a  0.710409  0.410920       NaN\n",
       "b  1.585634 -0.193224  0.337241\n",
       "c -0.690266 -2.727226  0.053721\n",
       "d       NaN -3.488349 -0.168840"
      ]
     },
     "execution_count": 43,
     "metadata": {},
     "output_type": "execute_result"
    }
   ],
   "source": [
    "df.apply(np.cumsum)"
   ]
  },
  {
   "cell_type": "code",
   "execution_count": 44,
   "id": "d10b2c35-36d1-4879-8c0d-bdce69b61bda",
   "metadata": {},
   "outputs": [
    {
     "data": {
      "text/html": [
       "<div>\n",
       "<style scoped>\n",
       "    .dataframe tbody tr th:only-of-type {\n",
       "        vertical-align: middle;\n",
       "    }\n",
       "\n",
       "    .dataframe tbody tr th {\n",
       "        vertical-align: top;\n",
       "    }\n",
       "\n",
       "    .dataframe thead th {\n",
       "        text-align: right;\n",
       "    }\n",
       "</style>\n",
       "<table border=\"1\" class=\"dataframe\">\n",
       "  <thead>\n",
       "    <tr style=\"text-align: right;\">\n",
       "      <th></th>\n",
       "      <th>one</th>\n",
       "      <th>two</th>\n",
       "      <th>three</th>\n",
       "    </tr>\n",
       "  </thead>\n",
       "  <tbody>\n",
       "    <tr>\n",
       "      <th>a</th>\n",
       "      <td>2.034823</td>\n",
       "      <td>1.508205</td>\n",
       "      <td>NaN</td>\n",
       "    </tr>\n",
       "    <tr>\n",
       "      <th>b</th>\n",
       "      <td>2.399416</td>\n",
       "      <td>0.546542</td>\n",
       "      <td>1.401076</td>\n",
       "    </tr>\n",
       "    <tr>\n",
       "      <th>c</th>\n",
       "      <td>0.102704</td>\n",
       "      <td>0.079341</td>\n",
       "      <td>0.753128</td>\n",
       "    </tr>\n",
       "    <tr>\n",
       "      <th>d</th>\n",
       "      <td>NaN</td>\n",
       "      <td>0.467142</td>\n",
       "      <td>0.800466</td>\n",
       "    </tr>\n",
       "  </tbody>\n",
       "</table>\n",
       "</div>"
      ],
      "text/plain": [
       "        one       two     three\n",
       "a  2.034823  1.508205       NaN\n",
       "b  2.399416  0.546542  1.401076\n",
       "c  0.102704  0.079341  0.753128\n",
       "d       NaN  0.467142  0.800466"
      ]
     },
     "execution_count": 44,
     "metadata": {},
     "output_type": "execute_result"
    }
   ],
   "source": [
    "df.apply(np.exp)"
   ]
  },
  {
   "cell_type": "markdown",
   "id": "dbb2987f-2a70-481e-84c0-1d923f73aee1",
   "metadata": {},
   "source": [
    "The [`apply()`](../reference/api/pandas.DataFrame.apply.html#pandas.DataFrame.apply \"pandas.DataFrame.apply\") method will also dispatch on a string method name."
   ]
  },
  {
   "cell_type": "code",
   "execution_count": 15,
   "id": "eb2b0bec-cb06-494b-b322-b56678720abe",
   "metadata": {},
   "outputs": [
    {
     "data": {
      "text/plain": [
       "one      0.046925\n",
       "two     -0.068739\n",
       "three    0.626751\n",
       "dtype: float64"
      ]
     },
     "execution_count": 15,
     "metadata": {},
     "output_type": "execute_result"
    }
   ],
   "source": [
    "df.apply(\"mean\")"
   ]
  },
  {
   "cell_type": "code",
   "execution_count": 16,
   "id": "74324216-5188-401f-8240-9122f404dcac",
   "metadata": {},
   "outputs": [
    {
     "data": {
      "text/plain": [
       "a   -0.007249\n",
       "b    0.283281\n",
       "c    0.118333\n",
       "d    0.277863\n",
       "dtype: float64"
      ]
     },
     "execution_count": 16,
     "metadata": {},
     "output_type": "execute_result"
    }
   ],
   "source": [
    "df.apply(\"mean\", axis=1)"
   ]
  },
  {
   "cell_type": "markdown",
   "id": "fd7c68d5-28f9-468c-a688-1c79d5bf91dd",
   "metadata": {},
   "source": [
    "The return type of the function passed to [`apply()`](../reference/api/pandas.DataFrame.apply.html#pandas.DataFrame.apply \"pandas.DataFrame.apply\") affects the\n",
    "type of the final output from `DataFrame.apply` for the default behaviour:\n",
    "\n",
    "- If the applied function returns a Series, the final output is a DataFrame. The columns match the index of the Series returned by the applied function.\n",
    "- If the applied function returns any other type, the final output is a Series."
   ]
  },
  {
   "cell_type": "markdown",
   "id": "43ebeee4-9a60-4c97-b2eb-30f6aa098156",
   "metadata": {},
   "source": [
    "This default behaviour can be overridden using the `result_type`, which\n",
    "accepts three options: `reduce`, `broadcast`, and `expand`.\n",
    "These will determine how list-likes return values expand (or not) to a `DataFrame`."
   ]
  },
  {
   "cell_type": "markdown",
   "id": "deec4227-0efb-46f9-b682-600f18c317de",
   "metadata": {},
   "source": [
    "[`apply()`](../reference/api/pandas.DataFrame.apply.html#pandas.DataFrame.apply \"pandas.DataFrame.apply\") combined with some cleverness can be used to answer many questions\n",
    "about a data set. For example, suppose we wanted to extract the date where the\n",
    "maximum value for each column occurred:"
   ]
  },
  {
   "cell_type": "code",
   "execution_count": 46,
   "id": "1f6c6b47-d6d3-4e3d-b959-0a2c8028ae12",
   "metadata": {},
   "outputs": [],
   "source": [
    "tsdf = pd.DataFrame(\n",
    "    np.random.randn(1000, 3),\n",
    "    columns=[\"A\", \"B\", \"C\"],\n",
    "    index=pd.date_range(\"1/1/2000\", periods=1000),\n",
    ")"
   ]
  },
  {
   "cell_type": "code",
   "execution_count": 47,
   "id": "d2d77225-b76e-41af-bda3-ef53e1be8cd2",
   "metadata": {},
   "outputs": [
    {
     "data": {
      "text/html": [
       "<div>\n",
       "<style scoped>\n",
       "    .dataframe tbody tr th:only-of-type {\n",
       "        vertical-align: middle;\n",
       "    }\n",
       "\n",
       "    .dataframe tbody tr th {\n",
       "        vertical-align: top;\n",
       "    }\n",
       "\n",
       "    .dataframe thead th {\n",
       "        text-align: right;\n",
       "    }\n",
       "</style>\n",
       "<table border=\"1\" class=\"dataframe\">\n",
       "  <thead>\n",
       "    <tr style=\"text-align: right;\">\n",
       "      <th></th>\n",
       "      <th>A</th>\n",
       "      <th>B</th>\n",
       "      <th>C</th>\n",
       "    </tr>\n",
       "  </thead>\n",
       "  <tbody>\n",
       "    <tr>\n",
       "      <th>2000-01-01</th>\n",
       "      <td>-1.471362</td>\n",
       "      <td>-0.194772</td>\n",
       "      <td>0.733680</td>\n",
       "    </tr>\n",
       "    <tr>\n",
       "      <th>2000-01-02</th>\n",
       "      <td>0.080383</td>\n",
       "      <td>0.174907</td>\n",
       "      <td>0.356573</td>\n",
       "    </tr>\n",
       "    <tr>\n",
       "      <th>2000-01-03</th>\n",
       "      <td>0.715979</td>\n",
       "      <td>-2.229359</td>\n",
       "      <td>0.023912</td>\n",
       "    </tr>\n",
       "    <tr>\n",
       "      <th>2000-01-04</th>\n",
       "      <td>-0.254742</td>\n",
       "      <td>-0.789298</td>\n",
       "      <td>0.948314</td>\n",
       "    </tr>\n",
       "    <tr>\n",
       "      <th>2000-01-05</th>\n",
       "      <td>-0.744724</td>\n",
       "      <td>-0.096009</td>\n",
       "      <td>0.544551</td>\n",
       "    </tr>\n",
       "    <tr>\n",
       "      <th>...</th>\n",
       "      <td>...</td>\n",
       "      <td>...</td>\n",
       "      <td>...</td>\n",
       "    </tr>\n",
       "    <tr>\n",
       "      <th>2002-09-22</th>\n",
       "      <td>-0.653686</td>\n",
       "      <td>1.062378</td>\n",
       "      <td>-1.025522</td>\n",
       "    </tr>\n",
       "    <tr>\n",
       "      <th>2002-09-23</th>\n",
       "      <td>-0.395147</td>\n",
       "      <td>-0.634123</td>\n",
       "      <td>-1.503995</td>\n",
       "    </tr>\n",
       "    <tr>\n",
       "      <th>2002-09-24</th>\n",
       "      <td>-1.418340</td>\n",
       "      <td>0.349916</td>\n",
       "      <td>1.751640</td>\n",
       "    </tr>\n",
       "    <tr>\n",
       "      <th>2002-09-25</th>\n",
       "      <td>1.074147</td>\n",
       "      <td>-0.425855</td>\n",
       "      <td>-0.537850</td>\n",
       "    </tr>\n",
       "    <tr>\n",
       "      <th>2002-09-26</th>\n",
       "      <td>0.964824</td>\n",
       "      <td>-1.364817</td>\n",
       "      <td>2.000264</td>\n",
       "    </tr>\n",
       "  </tbody>\n",
       "</table>\n",
       "<p>1000 rows × 3 columns</p>\n",
       "</div>"
      ],
      "text/plain": [
       "                   A         B         C\n",
       "2000-01-01 -1.471362 -0.194772  0.733680\n",
       "2000-01-02  0.080383  0.174907  0.356573\n",
       "2000-01-03  0.715979 -2.229359  0.023912\n",
       "2000-01-04 -0.254742 -0.789298  0.948314\n",
       "2000-01-05 -0.744724 -0.096009  0.544551\n",
       "...              ...       ...       ...\n",
       "2002-09-22 -0.653686  1.062378 -1.025522\n",
       "2002-09-23 -0.395147 -0.634123 -1.503995\n",
       "2002-09-24 -1.418340  0.349916  1.751640\n",
       "2002-09-25  1.074147 -0.425855 -0.537850\n",
       "2002-09-26  0.964824 -1.364817  2.000264\n",
       "\n",
       "[1000 rows x 3 columns]"
      ]
     },
     "execution_count": 47,
     "metadata": {},
     "output_type": "execute_result"
    }
   ],
   "source": [
    "tsdf"
   ]
  },
  {
   "cell_type": "code",
   "execution_count": 48,
   "id": "5623e6c7-3931-4c45-bbba-d3b5c81c3452",
   "metadata": {},
   "outputs": [
    {
     "data": {
      "text/plain": [
       "A   2001-09-19\n",
       "B   2000-10-19\n",
       "C   2001-12-10\n",
       "dtype: datetime64[ns]"
      ]
     },
     "execution_count": 48,
     "metadata": {},
     "output_type": "execute_result"
    }
   ],
   "source": [
    "tsdf.apply(lambda x: x.idxmax())"
   ]
  },
  {
   "cell_type": "markdown",
   "id": "73c9fd26-d0e1-4d47-a6e3-2ff4d5ffa60f",
   "metadata": {},
   "source": [
    "You may also pass additional arguments and keyword arguments to the [`apply()`](../reference/api/pandas.DataFrame.apply.html#pandas.DataFrame.apply \"pandas.DataFrame.apply\")\n",
    "method. For instance, consider the following function you would like to apply:"
   ]
  },
  {
   "cell_type": "code",
   "execution_count": 20,
   "id": "d0de368c-8478-4498-bfd9-bbe3d7dd3196",
   "metadata": {},
   "outputs": [],
   "source": [
    "def subtract_and_divide(x, sub, divide=1):\n",
    "    return (x - sub) / divide"
   ]
  },
  {
   "cell_type": "markdown",
   "id": "c981ba63-299d-4132-9eaa-77e09f9c3cf7",
   "metadata": {},
   "source": [
    "You may then apply this function as follows:"
   ]
  },
  {
   "cell_type": "code",
   "execution_count": 21,
   "id": "26cd3731-41f2-413e-8d63-b02fd0df2453",
   "metadata": {},
   "outputs": [
    {
     "data": {
      "text/html": [
       "<div>\n",
       "<style scoped>\n",
       "    .dataframe tbody tr th:only-of-type {\n",
       "        vertical-align: middle;\n",
       "    }\n",
       "\n",
       "    .dataframe tbody tr th {\n",
       "        vertical-align: top;\n",
       "    }\n",
       "\n",
       "    .dataframe thead th {\n",
       "        text-align: right;\n",
       "    }\n",
       "</style>\n",
       "<table border=\"1\" class=\"dataframe\">\n",
       "  <thead>\n",
       "    <tr style=\"text-align: right;\">\n",
       "      <th></th>\n",
       "      <th>one</th>\n",
       "      <th>two</th>\n",
       "      <th>three</th>\n",
       "    </tr>\n",
       "  </thead>\n",
       "  <tbody>\n",
       "    <tr>\n",
       "      <th>a</th>\n",
       "      <td>-1.831129</td>\n",
       "      <td>-1.507037</td>\n",
       "      <td>NaN</td>\n",
       "    </tr>\n",
       "    <tr>\n",
       "      <th>b</th>\n",
       "      <td>-1.698957</td>\n",
       "      <td>-1.658219</td>\n",
       "      <td>-1.359542</td>\n",
       "    </tr>\n",
       "    <tr>\n",
       "      <th>c</th>\n",
       "      <td>-1.422989</td>\n",
       "      <td>-1.925227</td>\n",
       "      <td>-1.533451</td>\n",
       "    </tr>\n",
       "    <tr>\n",
       "      <th>d</th>\n",
       "      <td>NaN</td>\n",
       "      <td>-1.667835</td>\n",
       "      <td>-1.480257</td>\n",
       "    </tr>\n",
       "  </tbody>\n",
       "</table>\n",
       "</div>"
      ],
      "text/plain": [
       "        one       two     three\n",
       "a -1.831129 -1.507037       NaN\n",
       "b -1.698957 -1.658219 -1.359542\n",
       "c -1.422989 -1.925227 -1.533451\n",
       "d       NaN -1.667835 -1.480257"
      ]
     },
     "execution_count": 21,
     "metadata": {},
     "output_type": "execute_result"
    }
   ],
   "source": [
    "df.apply(subtract_and_divide, args=(5, 3))"
   ]
  },
  {
   "cell_type": "code",
   "execution_count": 22,
   "id": "e94daddf-adff-4709-92aa-a518a34b41f8",
   "metadata": {},
   "outputs": [
    {
     "data": {
      "text/html": [
       "<div>\n",
       "<style scoped>\n",
       "    .dataframe tbody tr th:only-of-type {\n",
       "        vertical-align: middle;\n",
       "    }\n",
       "\n",
       "    .dataframe tbody tr th {\n",
       "        vertical-align: top;\n",
       "    }\n",
       "\n",
       "    .dataframe thead th {\n",
       "        text-align: right;\n",
       "    }\n",
       "</style>\n",
       "<table border=\"1\" class=\"dataframe\">\n",
       "  <thead>\n",
       "    <tr style=\"text-align: right;\">\n",
       "      <th></th>\n",
       "      <th>one</th>\n",
       "      <th>two</th>\n",
       "      <th>three</th>\n",
       "    </tr>\n",
       "  </thead>\n",
       "  <tbody>\n",
       "    <tr>\n",
       "      <th>a</th>\n",
       "      <td>-1.831129</td>\n",
       "      <td>-1.507037</td>\n",
       "      <td>NaN</td>\n",
       "    </tr>\n",
       "    <tr>\n",
       "      <th>b</th>\n",
       "      <td>-1.698957</td>\n",
       "      <td>-1.658219</td>\n",
       "      <td>-1.359542</td>\n",
       "    </tr>\n",
       "    <tr>\n",
       "      <th>c</th>\n",
       "      <td>-1.422989</td>\n",
       "      <td>-1.925227</td>\n",
       "      <td>-1.533451</td>\n",
       "    </tr>\n",
       "    <tr>\n",
       "      <th>d</th>\n",
       "      <td>NaN</td>\n",
       "      <td>-1.667835</td>\n",
       "      <td>-1.480257</td>\n",
       "    </tr>\n",
       "  </tbody>\n",
       "</table>\n",
       "</div>"
      ],
      "text/plain": [
       "        one       two     three\n",
       "a -1.831129 -1.507037       NaN\n",
       "b -1.698957 -1.658219 -1.359542\n",
       "c -1.422989 -1.925227 -1.533451\n",
       "d       NaN -1.667835 -1.480257"
      ]
     },
     "execution_count": 22,
     "metadata": {},
     "output_type": "execute_result"
    }
   ],
   "source": [
    "df.apply(subtract_and_divide, args=(5,), divide=3)"
   ]
  },
  {
   "cell_type": "code",
   "execution_count": 23,
   "id": "919f1c91-90ca-43d2-8609-b1a26d5fe7d9",
   "metadata": {},
   "outputs": [
    {
     "data": {
      "text/html": [
       "<div>\n",
       "<style scoped>\n",
       "    .dataframe tbody tr th:only-of-type {\n",
       "        vertical-align: middle;\n",
       "    }\n",
       "\n",
       "    .dataframe tbody tr th {\n",
       "        vertical-align: top;\n",
       "    }\n",
       "\n",
       "    .dataframe thead th {\n",
       "        text-align: right;\n",
       "    }\n",
       "</style>\n",
       "<table border=\"1\" class=\"dataframe\">\n",
       "  <thead>\n",
       "    <tr style=\"text-align: right;\">\n",
       "      <th></th>\n",
       "      <th>one</th>\n",
       "      <th>two</th>\n",
       "      <th>three</th>\n",
       "    </tr>\n",
       "  </thead>\n",
       "  <tbody>\n",
       "    <tr>\n",
       "      <th>a</th>\n",
       "      <td>-1.831129</td>\n",
       "      <td>-1.507037</td>\n",
       "      <td>NaN</td>\n",
       "    </tr>\n",
       "    <tr>\n",
       "      <th>b</th>\n",
       "      <td>-1.698957</td>\n",
       "      <td>-1.658219</td>\n",
       "      <td>-1.359542</td>\n",
       "    </tr>\n",
       "    <tr>\n",
       "      <th>c</th>\n",
       "      <td>-1.422989</td>\n",
       "      <td>-1.925227</td>\n",
       "      <td>-1.533451</td>\n",
       "    </tr>\n",
       "    <tr>\n",
       "      <th>d</th>\n",
       "      <td>NaN</td>\n",
       "      <td>-1.667835</td>\n",
       "      <td>-1.480257</td>\n",
       "    </tr>\n",
       "  </tbody>\n",
       "</table>\n",
       "</div>"
      ],
      "text/plain": [
       "        one       two     three\n",
       "a -1.831129 -1.507037       NaN\n",
       "b -1.698957 -1.658219 -1.359542\n",
       "c -1.422989 -1.925227 -1.533451\n",
       "d       NaN -1.667835 -1.480257"
      ]
     },
     "execution_count": 23,
     "metadata": {},
     "output_type": "execute_result"
    }
   ],
   "source": [
    "df.apply(subtract_and_divide, sub=5, divide=3)"
   ]
  },
  {
   "cell_type": "markdown",
   "id": "e376dfdf-fec3-4bb4-a2ee-59a920d6b4b1",
   "metadata": {},
   "source": [
    "Another useful feature is the ability to pass Series methods to carry out some\n",
    "Series operation on each column or row:"
   ]
  },
  {
   "cell_type": "code",
   "execution_count": 24,
   "id": "828d90c6-185c-492c-b0c1-18311afe11f2",
   "metadata": {},
   "outputs": [
    {
     "data": {
      "text/plain": [
       "0    0.000000\n",
       "1    2.000000\n",
       "2    4.666667\n",
       "3    8.000000\n",
       "dtype: float64"
      ]
     },
     "execution_count": 24,
     "metadata": {},
     "output_type": "execute_result"
    }
   ],
   "source": [
    "s = pd.Series([0, 2, np.nan, 8])\n",
    "s.interpolate(method='polynomial', order=2)"
   ]
  },
  {
   "cell_type": "markdown",
   "id": "22c2a4e9-db6a-403d-be66-c0c888fe5250",
   "metadata": {},
   "source": [
    "Let's apply interpolation on tsdf:"
   ]
  },
  {
   "cell_type": "code",
   "execution_count": 25,
   "id": "125d5278-2f52-4a3e-ab3a-39e55e6321d3",
   "metadata": {},
   "outputs": [],
   "source": [
    "# First let's add some null values\n",
    "tsdf.iloc[3] = np.nan"
   ]
  },
  {
   "cell_type": "code",
   "execution_count": 26,
   "id": "0b527d27-1e14-4bed-98f7-6bcdce16ae14",
   "metadata": {},
   "outputs": [
    {
     "data": {
      "text/html": [
       "<div>\n",
       "<style scoped>\n",
       "    .dataframe tbody tr th:only-of-type {\n",
       "        vertical-align: middle;\n",
       "    }\n",
       "\n",
       "    .dataframe tbody tr th {\n",
       "        vertical-align: top;\n",
       "    }\n",
       "\n",
       "    .dataframe thead th {\n",
       "        text-align: right;\n",
       "    }\n",
       "</style>\n",
       "<table border=\"1\" class=\"dataframe\">\n",
       "  <thead>\n",
       "    <tr style=\"text-align: right;\">\n",
       "      <th></th>\n",
       "      <th>A</th>\n",
       "      <th>B</th>\n",
       "      <th>C</th>\n",
       "    </tr>\n",
       "  </thead>\n",
       "  <tbody>\n",
       "    <tr>\n",
       "      <th>2000-01-01</th>\n",
       "      <td>1.171402</td>\n",
       "      <td>0.061935</td>\n",
       "      <td>-1.178171</td>\n",
       "    </tr>\n",
       "    <tr>\n",
       "      <th>2000-01-02</th>\n",
       "      <td>-0.160439</td>\n",
       "      <td>0.235054</td>\n",
       "      <td>0.774846</td>\n",
       "    </tr>\n",
       "    <tr>\n",
       "      <th>2000-01-03</th>\n",
       "      <td>-0.651207</td>\n",
       "      <td>1.354219</td>\n",
       "      <td>-1.026847</td>\n",
       "    </tr>\n",
       "    <tr>\n",
       "      <th>2000-01-04</th>\n",
       "      <td>NaN</td>\n",
       "      <td>NaN</td>\n",
       "      <td>NaN</td>\n",
       "    </tr>\n",
       "    <tr>\n",
       "      <th>2000-01-05</th>\n",
       "      <td>-0.087390</td>\n",
       "      <td>1.231878</td>\n",
       "      <td>-0.568446</td>\n",
       "    </tr>\n",
       "  </tbody>\n",
       "</table>\n",
       "</div>"
      ],
      "text/plain": [
       "                   A         B         C\n",
       "2000-01-01  1.171402  0.061935 -1.178171\n",
       "2000-01-02 -0.160439  0.235054  0.774846\n",
       "2000-01-03 -0.651207  1.354219 -1.026847\n",
       "2000-01-04       NaN       NaN       NaN\n",
       "2000-01-05 -0.087390  1.231878 -0.568446"
      ]
     },
     "execution_count": 26,
     "metadata": {},
     "output_type": "execute_result"
    }
   ],
   "source": [
    "tsdf.head()"
   ]
  },
  {
   "cell_type": "code",
   "execution_count": 27,
   "id": "173f69b3-6a5d-4171-af80-1235bc7b9bca",
   "metadata": {},
   "outputs": [
    {
     "data": {
      "text/html": [
       "<div>\n",
       "<style scoped>\n",
       "    .dataframe tbody tr th:only-of-type {\n",
       "        vertical-align: middle;\n",
       "    }\n",
       "\n",
       "    .dataframe tbody tr th {\n",
       "        vertical-align: top;\n",
       "    }\n",
       "\n",
       "    .dataframe thead th {\n",
       "        text-align: right;\n",
       "    }\n",
       "</style>\n",
       "<table border=\"1\" class=\"dataframe\">\n",
       "  <thead>\n",
       "    <tr style=\"text-align: right;\">\n",
       "      <th></th>\n",
       "      <th>A</th>\n",
       "      <th>B</th>\n",
       "      <th>C</th>\n",
       "    </tr>\n",
       "  </thead>\n",
       "  <tbody>\n",
       "    <tr>\n",
       "      <th>2000-01-01</th>\n",
       "      <td>1.171402</td>\n",
       "      <td>0.061935</td>\n",
       "      <td>-1.178171</td>\n",
       "    </tr>\n",
       "    <tr>\n",
       "      <th>2000-01-02</th>\n",
       "      <td>-0.160439</td>\n",
       "      <td>0.235054</td>\n",
       "      <td>0.774846</td>\n",
       "    </tr>\n",
       "    <tr>\n",
       "      <th>2000-01-03</th>\n",
       "      <td>-0.651207</td>\n",
       "      <td>1.354219</td>\n",
       "      <td>-1.026847</td>\n",
       "    </tr>\n",
       "    <tr>\n",
       "      <th>2000-01-04</th>\n",
       "      <td>-0.369299</td>\n",
       "      <td>1.293049</td>\n",
       "      <td>-0.797647</td>\n",
       "    </tr>\n",
       "    <tr>\n",
       "      <th>2000-01-05</th>\n",
       "      <td>-0.087390</td>\n",
       "      <td>1.231878</td>\n",
       "      <td>-0.568446</td>\n",
       "    </tr>\n",
       "  </tbody>\n",
       "</table>\n",
       "</div>"
      ],
      "text/plain": [
       "                   A         B         C\n",
       "2000-01-01  1.171402  0.061935 -1.178171\n",
       "2000-01-02 -0.160439  0.235054  0.774846\n",
       "2000-01-03 -0.651207  1.354219 -1.026847\n",
       "2000-01-04 -0.369299  1.293049 -0.797647\n",
       "2000-01-05 -0.087390  1.231878 -0.568446"
      ]
     },
     "execution_count": 27,
     "metadata": {},
     "output_type": "execute_result"
    }
   ],
   "source": [
    "tsdf.apply(pd.Series.interpolate, method='linear').head()"
   ]
  },
  {
   "cell_type": "markdown",
   "id": "69baa44b-337f-4990-8b15-433842142ec0",
   "metadata": {},
   "source": [
    "Finally, `apply()` takes an argument `raw` which is False by default, which\n",
    "converts each row or column into a Series before applying the function. When\n",
    "set to True, the passed function will instead receive an ndarray object, which\n",
    "has positive performance implications if you do not need the indexing\n",
    "functionality."
   ]
  },
  {
   "cell_type": "markdown",
   "id": "4a927b39-3c8b-4f1e-a0f6-8ff30f27e6fc",
   "metadata": {},
   "source": [
    "<a class=\"anchor\" id=\"applying_elementwise_functions\"></a>\n",
    "## Applying elementwise functions"
   ]
  },
  {
   "cell_type": "markdown",
   "id": "b4f104e4-c90b-43ff-93c3-08061712e758",
   "metadata": {},
   "source": [
    "Since not all functions can be vectorized (accept NumPy arrays and return\n",
    "another array or value), the methods [`applymap()`](../reference/api/pandas.DataFrame.applymap.html#pandas.DataFrame.applymap \"pandas.DataFrame.applymap\") on DataFrame\n",
    "and analogously [`map()`](../reference/api/pandas.Series.map.html#pandas.Series.map \"pandas.Series.map\") on Series accept any Python function taking\n",
    "a single value and returning a single value. For example:"
   ]
  },
  {
   "cell_type": "code",
   "execution_count": 66,
   "id": "f1a90ece-5b75-41ee-b0bf-790e920a48c6",
   "metadata": {},
   "outputs": [
    {
     "data": {
      "text/html": [
       "<div>\n",
       "<style scoped>\n",
       "    .dataframe tbody tr th:only-of-type {\n",
       "        vertical-align: middle;\n",
       "    }\n",
       "\n",
       "    .dataframe tbody tr th {\n",
       "        vertical-align: top;\n",
       "    }\n",
       "\n",
       "    .dataframe thead th {\n",
       "        text-align: right;\n",
       "    }\n",
       "</style>\n",
       "<table border=\"1\" class=\"dataframe\">\n",
       "  <thead>\n",
       "    <tr style=\"text-align: right;\">\n",
       "      <th></th>\n",
       "      <th>one</th>\n",
       "      <th>two</th>\n",
       "      <th>three</th>\n",
       "    </tr>\n",
       "  </thead>\n",
       "  <tbody>\n",
       "    <tr>\n",
       "      <th>a</th>\n",
       "      <td>-0.493386</td>\n",
       "      <td>0.478888</td>\n",
       "      <td>NaN</td>\n",
       "    </tr>\n",
       "    <tr>\n",
       "      <th>b</th>\n",
       "      <td>-0.096872</td>\n",
       "      <td>0.025342</td>\n",
       "      <td>0.921374</td>\n",
       "    </tr>\n",
       "    <tr>\n",
       "      <th>c</th>\n",
       "      <td>0.731032</td>\n",
       "      <td>-0.775681</td>\n",
       "      <td>0.399647</td>\n",
       "    </tr>\n",
       "    <tr>\n",
       "      <th>d</th>\n",
       "      <td>NaN</td>\n",
       "      <td>-0.003504</td>\n",
       "      <td>0.559230</td>\n",
       "    </tr>\n",
       "  </tbody>\n",
       "</table>\n",
       "</div>"
      ],
      "text/plain": [
       "        one       two     three\n",
       "a -0.493386  0.478888       NaN\n",
       "b -0.096872  0.025342  0.921374\n",
       "c  0.731032 -0.775681  0.399647\n",
       "d       NaN -0.003504  0.559230"
      ]
     },
     "execution_count": 66,
     "metadata": {},
     "output_type": "execute_result"
    }
   ],
   "source": [
    "df"
   ]
  },
  {
   "cell_type": "code",
   "execution_count": 68,
   "id": "380d6cb7-a82b-4bf1-bb58-e1e24a451810",
   "metadata": {},
   "outputs": [],
   "source": [
    "def f(x):\n",
    "    return len(str(x))"
   ]
  },
  {
   "cell_type": "code",
   "execution_count": 57,
   "id": "35c7c5e0-acad-4a11-b1c1-35ea7179340e",
   "metadata": {},
   "outputs": [],
   "source": [
    "df[\"len_one\"] = df[\"one\"].map(f)"
   ]
  },
  {
   "cell_type": "code",
   "execution_count": 58,
   "id": "c7e616a9-b433-4ed8-b35a-41fb37f18479",
   "metadata": {},
   "outputs": [
    {
     "data": {
      "text/html": [
       "<div>\n",
       "<style scoped>\n",
       "    .dataframe tbody tr th:only-of-type {\n",
       "        vertical-align: middle;\n",
       "    }\n",
       "\n",
       "    .dataframe tbody tr th {\n",
       "        vertical-align: top;\n",
       "    }\n",
       "\n",
       "    .dataframe thead th {\n",
       "        text-align: right;\n",
       "    }\n",
       "</style>\n",
       "<table border=\"1\" class=\"dataframe\">\n",
       "  <thead>\n",
       "    <tr style=\"text-align: right;\">\n",
       "      <th></th>\n",
       "      <th>one</th>\n",
       "      <th>two</th>\n",
       "      <th>three</th>\n",
       "      <th>len_one</th>\n",
       "    </tr>\n",
       "  </thead>\n",
       "  <tbody>\n",
       "    <tr>\n",
       "      <th>a</th>\n",
       "      <td>0.710409</td>\n",
       "      <td>0.410920</td>\n",
       "      <td>NaN</td>\n",
       "      <td>18</td>\n",
       "    </tr>\n",
       "    <tr>\n",
       "      <th>b</th>\n",
       "      <td>0.875225</td>\n",
       "      <td>-0.604144</td>\n",
       "      <td>0.337241</td>\n",
       "      <td>17</td>\n",
       "    </tr>\n",
       "    <tr>\n",
       "      <th>c</th>\n",
       "      <td>-2.275900</td>\n",
       "      <td>-2.534002</td>\n",
       "      <td>-0.283520</td>\n",
       "      <td>18</td>\n",
       "    </tr>\n",
       "    <tr>\n",
       "      <th>d</th>\n",
       "      <td>NaN</td>\n",
       "      <td>-0.761122</td>\n",
       "      <td>-0.222561</td>\n",
       "      <td>3</td>\n",
       "    </tr>\n",
       "  </tbody>\n",
       "</table>\n",
       "</div>"
      ],
      "text/plain": [
       "        one       two     three  len_one\n",
       "a  0.710409  0.410920       NaN       18\n",
       "b  0.875225 -0.604144  0.337241       17\n",
       "c -2.275900 -2.534002 -0.283520       18\n",
       "d       NaN -0.761122 -0.222561        3"
      ]
     },
     "execution_count": 58,
     "metadata": {},
     "output_type": "execute_result"
    }
   ],
   "source": [
    "df"
   ]
  },
  {
   "cell_type": "code",
   "execution_count": 69,
   "id": "fae49a58-0139-4050-aca2-97447defb451",
   "metadata": {},
   "outputs": [
    {
     "data": {
      "text/html": [
       "<div>\n",
       "<style scoped>\n",
       "    .dataframe tbody tr th:only-of-type {\n",
       "        vertical-align: middle;\n",
       "    }\n",
       "\n",
       "    .dataframe tbody tr th {\n",
       "        vertical-align: top;\n",
       "    }\n",
       "\n",
       "    .dataframe thead th {\n",
       "        text-align: right;\n",
       "    }\n",
       "</style>\n",
       "<table border=\"1\" class=\"dataframe\">\n",
       "  <thead>\n",
       "    <tr style=\"text-align: right;\">\n",
       "      <th></th>\n",
       "      <th>one</th>\n",
       "      <th>two</th>\n",
       "      <th>three</th>\n",
       "      <th>len_one</th>\n",
       "    </tr>\n",
       "  </thead>\n",
       "  <tbody>\n",
       "    <tr>\n",
       "      <th>a</th>\n",
       "      <td>18</td>\n",
       "      <td>18</td>\n",
       "      <td>3</td>\n",
       "      <td>2</td>\n",
       "    </tr>\n",
       "    <tr>\n",
       "      <th>b</th>\n",
       "      <td>17</td>\n",
       "      <td>19</td>\n",
       "      <td>19</td>\n",
       "      <td>2</td>\n",
       "    </tr>\n",
       "    <tr>\n",
       "      <th>c</th>\n",
       "      <td>18</td>\n",
       "      <td>17</td>\n",
       "      <td>19</td>\n",
       "      <td>2</td>\n",
       "    </tr>\n",
       "    <tr>\n",
       "      <th>d</th>\n",
       "      <td>3</td>\n",
       "      <td>18</td>\n",
       "      <td>19</td>\n",
       "      <td>1</td>\n",
       "    </tr>\n",
       "  </tbody>\n",
       "</table>\n",
       "</div>"
      ],
      "text/plain": [
       "   one  two  three  len_one\n",
       "a   18   18      3        2\n",
       "b   17   19     19        2\n",
       "c   18   17     19        2\n",
       "d    3   18     19        1"
      ]
     },
     "execution_count": 69,
     "metadata": {},
     "output_type": "execute_result"
    }
   ],
   "source": [
    "df.applymap(f)"
   ]
  },
  {
   "cell_type": "markdown",
   "id": "1eded8fa-4be5-4f1a-8592-75d97d831ec4",
   "metadata": {},
   "source": [
    "[`Series.map()`](../reference/api/pandas.Series.map.html#pandas.Series.map \"pandas.Series.map\") has an additional feature; it can be used to easily\n",
    "“link” or “map” values defined by a secondary series:"
   ]
  },
  {
   "cell_type": "code",
   "execution_count": 70,
   "id": "a40c8bf9-0348-4ab0-8e50-81ba291491a8",
   "metadata": {},
   "outputs": [],
   "source": [
    "s = pd.Series(\n",
    "    [\"six\", \"seven\", \"six\", \"seven\", \"six\"], index=[\"a\", \"b\", \"c\", \"d\", \"e\"]\n",
    ")"
   ]
  },
  {
   "cell_type": "code",
   "execution_count": 71,
   "id": "db5715f1-1473-4ca1-a2e7-dec4136b687b",
   "metadata": {},
   "outputs": [],
   "source": [
    "t = pd.Series({\"six\": 6.0, \"seven\": 7.0})"
   ]
  },
  {
   "cell_type": "code",
   "execution_count": 72,
   "id": "8b084126-ccee-4517-8207-69cfae8819eb",
   "metadata": {},
   "outputs": [
    {
     "data": {
      "text/plain": [
       "a      six\n",
       "b    seven\n",
       "c      six\n",
       "d    seven\n",
       "e      six\n",
       "dtype: object"
      ]
     },
     "execution_count": 72,
     "metadata": {},
     "output_type": "execute_result"
    }
   ],
   "source": [
    "s"
   ]
  },
  {
   "cell_type": "code",
   "execution_count": 73,
   "id": "66df4c75-f7d7-4915-bebb-255071fde019",
   "metadata": {},
   "outputs": [
    {
     "data": {
      "text/plain": [
       "a    6.0\n",
       "b    7.0\n",
       "c    6.0\n",
       "d    7.0\n",
       "e    6.0\n",
       "dtype: float64"
      ]
     },
     "execution_count": 73,
     "metadata": {},
     "output_type": "execute_result"
    }
   ],
   "source": [
    "s.map(t)"
   ]
  },
  {
   "cell_type": "markdown",
   "id": "9115cd47-4bf2-42f6-9975-1656777a28c2",
   "metadata": {},
   "source": [
    "\n",
    "## Vectorized string methods : dont use apply for string methods"
   ]
  },
  {
   "cell_type": "markdown",
   "id": "2550715d-df4d-43cc-bf55-3a055a8a9536",
   "metadata": {},
   "source": [
    "Series is equipped with a set of string processing methods that make it easy to\n",
    "operate on each element of the array. Perhaps most importantly, these methods\n",
    "exclude missing/NA values automatically. These are accessed via the Series’s\n",
    "`str` attribute and generally have names matching the equivalent (scalar)\n",
    "built-in string methods. For example:"
   ]
  },
  {
   "cell_type": "code",
   "execution_count": 21,
   "id": "989082e8-2e0f-4749-a959-447d554df2fd",
   "metadata": {},
   "outputs": [],
   "source": [
    "s = pd.Series(\n",
    "    [\"A\", \"B\", \"C\", \"Aaba\", \"Baca\", np.nan, \"CABA\", \"dog\", \"cat\"],\n",
    "    dtype=\"string\",\n",
    ")"
   ]
  },
  {
   "cell_type": "code",
   "execution_count": 22,
   "id": "478e13fb-7de6-414f-894b-eab85ffd4efc",
   "metadata": {},
   "outputs": [
    {
     "data": {
      "text/plain": [
       "0       A\n",
       "1       B\n",
       "2       C\n",
       "3    Aaba\n",
       "4    Baca\n",
       "5    <NA>\n",
       "6    CABA\n",
       "7     dog\n",
       "8     cat\n",
       "dtype: string"
      ]
     },
     "execution_count": 22,
     "metadata": {},
     "output_type": "execute_result"
    }
   ],
   "source": [
    "s"
   ]
  },
  {
   "cell_type": "code",
   "execution_count": 23,
   "id": "4f417cc3-8795-4167-ad6b-894a5fa80033",
   "metadata": {},
   "outputs": [
    {
     "data": {
      "text/plain": [
       "0       a\n",
       "1       b\n",
       "2       c\n",
       "3    aaba\n",
       "4    baca\n",
       "5    <NA>\n",
       "6    caba\n",
       "7     dog\n",
       "8     cat\n",
       "dtype: string"
      ]
     },
     "execution_count": 23,
     "metadata": {},
     "output_type": "execute_result"
    }
   ],
   "source": [
    "s.str.lower()"
   ]
  },
  {
   "cell_type": "code",
   "execution_count": 24,
   "id": "f1187da4-a89f-47e7-b7a0-899e6f39e242",
   "metadata": {},
   "outputs": [
    {
     "data": {
      "text/plain": [
       "0       A\n",
       "1       B\n",
       "2       C\n",
       "3    AABA\n",
       "4    BACA\n",
       "5    <NA>\n",
       "6    CABA\n",
       "7     DOG\n",
       "8     CAT\n",
       "dtype: string"
      ]
     },
     "execution_count": 24,
     "metadata": {},
     "output_type": "execute_result"
    }
   ],
   "source": [
    "s.str.upper()"
   ]
  },
  {
   "cell_type": "code",
   "execution_count": 28,
   "id": "432c610c-1675-4420-96da-8397d410b393",
   "metadata": {},
   "outputs": [
    {
     "data": {
      "text/plain": [
       "0    14\n",
       "1    20\n",
       "2    11\n",
       "dtype: int64"
      ]
     },
     "execution_count": 28,
     "metadata": {},
     "output_type": "execute_result"
    }
   ],
   "source": [
    "s.str.len()"
   ]
  },
  {
   "cell_type": "code",
   "execution_count": 31,
   "id": "79704db5-fb20-4e01-8e23-574e248ce854",
   "metadata": {},
   "outputs": [],
   "source": [
    "s = pd.Series(\n",
    "    ['Nika Shakarami', 'Sarina EsmaeilZadeh', 'Mahsa Amini']\n",
    ")"
   ]
  },
  {
   "cell_type": "code",
   "execution_count": 32,
   "id": "ff297cf7-4a6b-4be5-8c33-cdcefd89e950",
   "metadata": {},
   "outputs": [
    {
     "data": {
      "text/plain": [
       "0         [Nika, Shakarami]\n",
       "1    [Sarina, EsmaeilZadeh]\n",
       "2            [Mahsa, Amini]\n",
       "dtype: object"
      ]
     },
     "execution_count": 32,
     "metadata": {},
     "output_type": "execute_result"
    }
   ],
   "source": [
    "s.str.split(' ')"
   ]
  },
  {
   "cell_type": "code",
   "execution_count": 33,
   "id": "a46aca58-9d8d-452d-8732-7db38a28cdc0",
   "metadata": {},
   "outputs": [
    {
     "data": {
      "text/plain": [
       "0      Nika\n",
       "1    Sarina\n",
       "2     Mahsa\n",
       "dtype: object"
      ]
     },
     "execution_count": 33,
     "metadata": {},
     "output_type": "execute_result"
    }
   ],
   "source": [
    "s.str.split(' ').str.get(0)"
   ]
  },
  {
   "cell_type": "code",
   "execution_count": 34,
   "id": "12b2e3a0-58cd-47d8-8311-a96844e137e7",
   "metadata": {},
   "outputs": [
    {
     "data": {
      "text/html": [
       "<div>\n",
       "<style scoped>\n",
       "    .dataframe tbody tr th:only-of-type {\n",
       "        vertical-align: middle;\n",
       "    }\n",
       "\n",
       "    .dataframe tbody tr th {\n",
       "        vertical-align: top;\n",
       "    }\n",
       "\n",
       "    .dataframe thead th {\n",
       "        text-align: right;\n",
       "    }\n",
       "</style>\n",
       "<table border=\"1\" class=\"dataframe\">\n",
       "  <thead>\n",
       "    <tr style=\"text-align: right;\">\n",
       "      <th></th>\n",
       "      <th>0</th>\n",
       "      <th>1</th>\n",
       "    </tr>\n",
       "  </thead>\n",
       "  <tbody>\n",
       "    <tr>\n",
       "      <th>0</th>\n",
       "      <td>Nika</td>\n",
       "      <td>Shakarami</td>\n",
       "    </tr>\n",
       "    <tr>\n",
       "      <th>1</th>\n",
       "      <td>Sarina</td>\n",
       "      <td>EsmaeilZadeh</td>\n",
       "    </tr>\n",
       "    <tr>\n",
       "      <th>2</th>\n",
       "      <td>Mahsa</td>\n",
       "      <td>Amini</td>\n",
       "    </tr>\n",
       "  </tbody>\n",
       "</table>\n",
       "</div>"
      ],
      "text/plain": [
       "        0             1\n",
       "0    Nika     Shakarami\n",
       "1  Sarina  EsmaeilZadeh\n",
       "2   Mahsa         Amini"
      ]
     },
     "execution_count": 34,
     "metadata": {},
     "output_type": "execute_result"
    }
   ],
   "source": [
    "s.str.split(' ', expand=True)"
   ]
  },
  {
   "cell_type": "markdown",
   "id": "2857f184-f145-4d42-9eab-ebfad9f0d94f",
   "metadata": {},
   "source": [
    "Powerful pattern-matching methods are provided as well, but note that\n",
    "pattern-matching generally uses [regular expressions](https://docs.python.org/3/library/re.html) by default (and in some cases\n",
    "always uses them)."
   ]
  },
  {
   "cell_type": "markdown",
   "id": "c3590b94-aa49-4ed1-b618-90a73a27d8ca",
   "metadata": {},
   "source": [
    "> **Note:**\n",
    "> \n",
    "> Prior to pandas 1.0, string methods were only available on `object` -dtype\n",
    "`Series`. pandas 1.0 added the [`StringDtype`](../reference/api/pandas.StringDtype.html#pandas.StringDtype \"pandas.StringDtype\") which is dedicated\n",
    "to strings. See [Text data types](text.html#text-types) for more."
   ]
  },
  {
   "cell_type": "markdown",
   "id": "f17c6c56-0bdb-410b-8075-376730bd8bf2",
   "metadata": {},
   "source": [
    "Please see [Vectorized String Methods](https://pandas.pydata.org/docs/user_guide/text.html#text-string-methods) for a complete\n",
    "description."
   ]
  }
 ],
 "metadata": {
  "kernelspec": {
   "display_name": "Python 3 (ipykernel)",
   "language": "python",
   "name": "python3"
  },
  "language_info": {
   "codemirror_mode": {
    "name": "ipython",
    "version": 3
   },
   "file_extension": ".py",
   "mimetype": "text/x-python",
   "name": "python",
   "nbconvert_exporter": "python",
   "pygments_lexer": "ipython3",
   "version": "3.10.9"
  }
 },
 "nbformat": 4,
 "nbformat_minor": 5
}
