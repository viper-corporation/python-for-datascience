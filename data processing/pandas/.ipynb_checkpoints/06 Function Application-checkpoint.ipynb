{
 "cells": [
  {
   "cell_type": "markdown",
   "id": "0b66830a-ef71-4d65-b548-ff93c45c463b",
   "metadata": {},
   "source": [
    "<img src=\"../../../images/banners/pandas-cropped.jpeg\" width=\"600\"/>"
   ]
  },
  {
   "cell_type": "markdown",
   "id": "fa7702d3-7fdb-4da1-88c7-ce614d335aa2",
   "metadata": {},
   "source": [
    "<a class=\"anchor\" id=\"essential_basic_functionality\"></a>\n",
    "# <img src=\"../../../images/logos/pandas.png\" width=\"23\"/>  Function Application"
   ]
  },
  {
   "cell_type": "markdown",
   "id": "f97605cf-879f-4e7f-8232-6c4502c5b9d6",
   "metadata": {},
   "source": [
    "## <img src=\"../../../images/logos/toc.png\" width=\"20\"/> Table of Contents \n",
    "\n",
    "* [Tablewise function application](#tablewise_function_application)\n",
    "* [Row or column-wise function application](#row_or_column-wise_function_application)\n",
    "* [Aggregation API](#aggregation_api)\n",
    "    * [Aggregating with multiple functions](#aggregating_with_multiple_functions)\n",
    "    * [Aggregating with a dict](#aggregating_with_a_dict)\n",
    "    * [Mixed dtypes](#mixed_dtypes)\n",
    "    * [Custom describe](#custom_describe)\n",
    "* [Transform API](#transform_api)\n",
    "    * [Transform with multiple functions](#transform_with_multiple_functions)\n",
    "    * [Transforming with a dict](#transforming_with_a_dict)\n",
    "* [Applying elementwise functions](#applying_elementwise_functions)\n",
    "---"
   ]
  },
  {
   "cell_type": "code",
   "execution_count": 1,
   "id": "512304ca-86d3-458a-ba91-cf9f8a5cf3d4",
   "metadata": {},
   "outputs": [],
   "source": [
    "import pandas as pd\n",
    "import numpy as np"
   ]
  },
  {
   "cell_type": "markdown",
   "id": "4bd4d743-7840-4345-aa61-2c238f245c47",
   "metadata": {},
   "source": [
    "To apply your own or another library’s functions to pandas objects,\n",
    "you should be aware of the three methods below. The appropriate\n",
    "method to use depends on whether your function expects to operate\n",
    "on an entire `DataFrame` or `Series`, row- or column-wise, or elementwise.\n",
    "\n",
    "- Tablewise Function Application: `pipe()`\n",
    "- Row or Column-wise Function Application: `apply()`\n",
    "- Aggregation API: `agg()` and `transform()`\n",
    "- Applying Elementwise Functions: `applymap()`"
   ]
  },
  {
   "cell_type": "markdown",
   "id": "aaa627d3-9aed-45a3-b0df-55b7c14d9fda",
   "metadata": {
    "tags": []
   },
   "source": [
    "<a class=\"anchor\" id=\"tablewise_function_application\"></a>\n",
    "## Tablewise function application"
   ]
  },
  {
   "cell_type": "markdown",
   "id": "dfdbd317-4df0-44e3-977a-5e49e039cfa7",
   "metadata": {},
   "source": [
    "`DataFrames` and `Series` can be passed into functions.\n",
    "However, if the function needs to be called in a chain, consider using the [`pipe()`](../reference/api/pandas.DataFrame.pipe.html#pandas.DataFrame.pipe \"pandas.DataFrame.pipe\") method."
   ]
  },
  {
   "cell_type": "markdown",
   "id": "2e94f457-6c18-442b-89f6-12c1f6a339d5",
   "metadata": {},
   "source": [
    "First some setup:"
   ]
  },
  {
   "cell_type": "code",
   "execution_count": 2,
   "id": "6506f76b-e923-442b-bdbb-1687270d3020",
   "metadata": {},
   "outputs": [],
   "source": [
    "def extract_city_name(df):\n",
    "    \"\"\"\n",
    " Chicago, IL -> Chicago for city_name column\n",
    " \"\"\"\n",
    "    df[\"city_name\"] = df[\"city_and_code\"].str.split(\",\").str.get(0)\n",
    "    return df"
   ]
  },
  {
   "cell_type": "code",
   "execution_count": 3,
   "id": "5f0fa1c3-11b3-4b85-9211-049448ff5358",
   "metadata": {},
   "outputs": [],
   "source": [
    "def add_country_name(df, country_name=None):\n",
    "    \"\"\"\n",
    " Chicago -> Chicago-US for city_name column\n",
    " \"\"\"\n",
    "    col = \"city_name\"\n",
    "    df[\"city_and_country\"] = df[col] + ' - ' + country_name\n",
    "    return df"
   ]
  },
  {
   "cell_type": "code",
   "execution_count": 4,
   "id": "91201fbb-f38b-4052-a470-8c07ad8c46a8",
   "metadata": {},
   "outputs": [],
   "source": [
    "df_p = pd.DataFrame({\"city_and_code\": [\"Chicago, IL\"]})"
   ]
  },
  {
   "cell_type": "code",
   "execution_count": 5,
   "id": "91f8ca51-efb2-4906-bb99-e648a8d3a419",
   "metadata": {},
   "outputs": [
    {
     "data": {
      "text/html": [
       "<div>\n",
       "<style scoped>\n",
       "    .dataframe tbody tr th:only-of-type {\n",
       "        vertical-align: middle;\n",
       "    }\n",
       "\n",
       "    .dataframe tbody tr th {\n",
       "        vertical-align: top;\n",
       "    }\n",
       "\n",
       "    .dataframe thead th {\n",
       "        text-align: right;\n",
       "    }\n",
       "</style>\n",
       "<table border=\"1\" class=\"dataframe\">\n",
       "  <thead>\n",
       "    <tr style=\"text-align: right;\">\n",
       "      <th></th>\n",
       "      <th>city_and_code</th>\n",
       "    </tr>\n",
       "  </thead>\n",
       "  <tbody>\n",
       "    <tr>\n",
       "      <th>0</th>\n",
       "      <td>Chicago, IL</td>\n",
       "    </tr>\n",
       "  </tbody>\n",
       "</table>\n",
       "</div>"
      ],
      "text/plain": [
       "  city_and_code\n",
       "0   Chicago, IL"
      ]
     },
     "execution_count": 5,
     "metadata": {},
     "output_type": "execute_result"
    }
   ],
   "source": [
    "df_p"
   ]
  },
  {
   "cell_type": "markdown",
   "id": "b32ba3ae-0c12-4485-8160-6612eed4f6a4",
   "metadata": {},
   "source": [
    "`extract_city_name` and `add_country_name` are functions taking and returning `DataFrames`."
   ]
  },
  {
   "cell_type": "markdown",
   "id": "847e368b-a2c5-4b99-9a18-9b7618bab7f6",
   "metadata": {},
   "source": [
    "Now compare the following:"
   ]
  },
  {
   "cell_type": "code",
   "execution_count": 6,
   "id": "3a257f0a-8a90-4eec-af98-8d3ebfd649af",
   "metadata": {},
   "outputs": [
    {
     "data": {
      "text/html": [
       "<div>\n",
       "<style scoped>\n",
       "    .dataframe tbody tr th:only-of-type {\n",
       "        vertical-align: middle;\n",
       "    }\n",
       "\n",
       "    .dataframe tbody tr th {\n",
       "        vertical-align: top;\n",
       "    }\n",
       "\n",
       "    .dataframe thead th {\n",
       "        text-align: right;\n",
       "    }\n",
       "</style>\n",
       "<table border=\"1\" class=\"dataframe\">\n",
       "  <thead>\n",
       "    <tr style=\"text-align: right;\">\n",
       "      <th></th>\n",
       "      <th>city_and_code</th>\n",
       "      <th>city_name</th>\n",
       "      <th>city_and_country</th>\n",
       "    </tr>\n",
       "  </thead>\n",
       "  <tbody>\n",
       "    <tr>\n",
       "      <th>0</th>\n",
       "      <td>Chicago, IL</td>\n",
       "      <td>Chicago</td>\n",
       "      <td>Chicago - US</td>\n",
       "    </tr>\n",
       "  </tbody>\n",
       "</table>\n",
       "</div>"
      ],
      "text/plain": [
       "  city_and_code city_name city_and_country\n",
       "0   Chicago, IL   Chicago     Chicago - US"
      ]
     },
     "execution_count": 6,
     "metadata": {},
     "output_type": "execute_result"
    }
   ],
   "source": [
    "add_country_name(extract_city_name(df_p), country_name=\"US\")"
   ]
  },
  {
   "cell_type": "markdown",
   "id": "cf159416-322a-4471-84eb-2a6048251637",
   "metadata": {},
   "source": [
    "Is equivalent to:"
   ]
  },
  {
   "cell_type": "code",
   "execution_count": 7,
   "id": "31ea963f-af49-4562-a962-2f64afc987fd",
   "metadata": {},
   "outputs": [
    {
     "data": {
      "text/html": [
       "<div>\n",
       "<style scoped>\n",
       "    .dataframe tbody tr th:only-of-type {\n",
       "        vertical-align: middle;\n",
       "    }\n",
       "\n",
       "    .dataframe tbody tr th {\n",
       "        vertical-align: top;\n",
       "    }\n",
       "\n",
       "    .dataframe thead th {\n",
       "        text-align: right;\n",
       "    }\n",
       "</style>\n",
       "<table border=\"1\" class=\"dataframe\">\n",
       "  <thead>\n",
       "    <tr style=\"text-align: right;\">\n",
       "      <th></th>\n",
       "      <th>city_and_code</th>\n",
       "      <th>city_name</th>\n",
       "      <th>city_and_country</th>\n",
       "    </tr>\n",
       "  </thead>\n",
       "  <tbody>\n",
       "    <tr>\n",
       "      <th>0</th>\n",
       "      <td>Chicago, IL</td>\n",
       "      <td>Chicago</td>\n",
       "      <td>Chicago - US</td>\n",
       "    </tr>\n",
       "  </tbody>\n",
       "</table>\n",
       "</div>"
      ],
      "text/plain": [
       "  city_and_code city_name city_and_country\n",
       "0   Chicago, IL   Chicago     Chicago - US"
      ]
     },
     "execution_count": 7,
     "metadata": {},
     "output_type": "execute_result"
    }
   ],
   "source": [
    "df_p.pipe(extract_city_name).pipe(add_country_name, country_name=\"US\")"
   ]
  },
  {
   "cell_type": "markdown",
   "id": "9f799385-8957-4bc2-8f3a-f21ad99f1e83",
   "metadata": {},
   "source": [
    "pandas encourages the second style, which is known as method chaining.\n",
    "`pipe` makes it easy to use your own or another library’s functions\n",
    "in method chains, alongside pandas’ methods."
   ]
  },
  {
   "cell_type": "markdown",
   "id": "d1a2ac36-683c-4b21-b548-47baee4534e7",
   "metadata": {},
   "source": [
    "In the example above, the functions `extract_city_name` and `add_country_name` each expected a `DataFrame` as the first positional argument.\n",
    "What if the function you wish to apply takes its data as, say, the second argument?\n",
    "In this case, provide `pipe` with a tuple of `(callable, data_keyword)`.\n",
    "`.pipe` will route the `DataFrame` to the argument specified in the tuple."
   ]
  },
  {
   "cell_type": "markdown",
   "id": "43489580-a70d-4934-b7cf-e60d8aab4404",
   "metadata": {},
   "source": [
    "The pipe method is inspired by unix pipes and more recently [dplyr](https://github.com/tidyverse/dplyr) and [magrittr](https://github.com/tidyverse/magrittr), which\n",
    "have introduced the popular `(%>%)` (read pipe) operator for [R](https://www.r-project.org).\n",
    "The implementation of `pipe` here is quite clean and feels right at home in Python.\n",
    "We encourage you to view the source code of [`pipe()`](../reference/api/pandas.DataFrame.pipe.html#pandas.DataFrame.pipe \"pandas.DataFrame.pipe\")."
   ]
  },
  {
   "cell_type": "markdown",
   "id": "a30b7845-fd86-4e58-b682-984c2e220f71",
   "metadata": {},
   "source": [
    "<a class=\"anchor\" id=\"row_or_column-wise_function_application\"></a>\n",
    "## Row or column-wise function application"
   ]
  },
  {
   "cell_type": "markdown",
   "id": "d8520b83-7046-4e98-866c-419293e1c8f4",
   "metadata": {},
   "source": [
    "Arbitrary functions can be applied along the axes of a DataFrame\n",
    "using the [`apply()`](../reference/api/pandas.DataFrame.apply.html#pandas.DataFrame.apply \"pandas.DataFrame.apply\") method, which, like the descriptive\n",
    "statistics methods, takes an optional `axis` argument:"
   ]
  },
  {
   "cell_type": "code",
   "execution_count": 8,
   "id": "9b864b55-5922-4109-a50d-3358d130a123",
   "metadata": {},
   "outputs": [],
   "source": [
    "df = pd.DataFrame(\n",
    "    {\n",
    "        \"one\": pd.Series(np.random.randn(3), index=[\"a\", \"b\", \"c\"]),\n",
    "        \"two\": pd.Series(np.random.randn(4), index=[\"a\", \"b\", \"c\", \"d\"]),\n",
    "        \"three\": pd.Series(np.random.randn(3), index=[\"b\", \"c\", \"d\"]),\n",
    "    }\n",
    ")"
   ]
  },
  {
   "cell_type": "code",
   "execution_count": 9,
   "id": "6c3468b4-5be9-4e1f-b1c1-dac2dcfa84d1",
   "metadata": {},
   "outputs": [
    {
     "data": {
      "text/html": [
       "<div>\n",
       "<style scoped>\n",
       "    .dataframe tbody tr th:only-of-type {\n",
       "        vertical-align: middle;\n",
       "    }\n",
       "\n",
       "    .dataframe tbody tr th {\n",
       "        vertical-align: top;\n",
       "    }\n",
       "\n",
       "    .dataframe thead th {\n",
       "        text-align: right;\n",
       "    }\n",
       "</style>\n",
       "<table border=\"1\" class=\"dataframe\">\n",
       "  <thead>\n",
       "    <tr style=\"text-align: right;\">\n",
       "      <th></th>\n",
       "      <th>one</th>\n",
       "      <th>two</th>\n",
       "      <th>three</th>\n",
       "    </tr>\n",
       "  </thead>\n",
       "  <tbody>\n",
       "    <tr>\n",
       "      <th>a</th>\n",
       "      <td>-0.493386</td>\n",
       "      <td>0.478888</td>\n",
       "      <td>NaN</td>\n",
       "    </tr>\n",
       "    <tr>\n",
       "      <th>b</th>\n",
       "      <td>-0.096872</td>\n",
       "      <td>0.025342</td>\n",
       "      <td>0.921374</td>\n",
       "    </tr>\n",
       "    <tr>\n",
       "      <th>c</th>\n",
       "      <td>0.731032</td>\n",
       "      <td>-0.775681</td>\n",
       "      <td>0.399647</td>\n",
       "    </tr>\n",
       "    <tr>\n",
       "      <th>d</th>\n",
       "      <td>NaN</td>\n",
       "      <td>-0.003504</td>\n",
       "      <td>0.559230</td>\n",
       "    </tr>\n",
       "  </tbody>\n",
       "</table>\n",
       "</div>"
      ],
      "text/plain": [
       "        one       two     three\n",
       "a -0.493386  0.478888       NaN\n",
       "b -0.096872  0.025342  0.921374\n",
       "c  0.731032 -0.775681  0.399647\n",
       "d       NaN -0.003504  0.559230"
      ]
     },
     "execution_count": 9,
     "metadata": {},
     "output_type": "execute_result"
    }
   ],
   "source": [
    "df"
   ]
  },
  {
   "cell_type": "code",
   "execution_count": 10,
   "id": "ba580411-faab-41e8-96e9-2d1177c4c0eb",
   "metadata": {},
   "outputs": [
    {
     "data": {
      "text/plain": [
       "one      0.046925\n",
       "two     -0.068739\n",
       "three    0.626751\n",
       "dtype: float64"
      ]
     },
     "execution_count": 10,
     "metadata": {},
     "output_type": "execute_result"
    }
   ],
   "source": [
    "df.apply(np.mean)"
   ]
  },
  {
   "cell_type": "code",
   "execution_count": 11,
   "id": "d59fe01d-c015-4962-abad-932a1c7ed9f0",
   "metadata": {},
   "outputs": [
    {
     "data": {
      "text/plain": [
       "a   -0.007249\n",
       "b    0.283281\n",
       "c    0.118333\n",
       "d    0.277863\n",
       "dtype: float64"
      ]
     },
     "execution_count": 11,
     "metadata": {},
     "output_type": "execute_result"
    }
   ],
   "source": [
    "df.apply(np.mean, axis=1)"
   ]
  },
  {
   "cell_type": "code",
   "execution_count": 12,
   "id": "041f2a6a-8550-4dae-bc7b-4ed3bdb33383",
   "metadata": {},
   "outputs": [
    {
     "data": {
      "text/plain": [
       "one      1.224418\n",
       "two      1.254569\n",
       "three    0.521727\n",
       "dtype: float64"
      ]
     },
     "execution_count": 12,
     "metadata": {},
     "output_type": "execute_result"
    }
   ],
   "source": [
    "df.apply(lambda x: x.max() - x.min())"
   ]
  },
  {
   "cell_type": "code",
   "execution_count": 13,
   "id": "e4776819-e4df-47ac-982c-b7acaace2273",
   "metadata": {},
   "outputs": [
    {
     "data": {
      "text/html": [
       "<div>\n",
       "<style scoped>\n",
       "    .dataframe tbody tr th:only-of-type {\n",
       "        vertical-align: middle;\n",
       "    }\n",
       "\n",
       "    .dataframe tbody tr th {\n",
       "        vertical-align: top;\n",
       "    }\n",
       "\n",
       "    .dataframe thead th {\n",
       "        text-align: right;\n",
       "    }\n",
       "</style>\n",
       "<table border=\"1\" class=\"dataframe\">\n",
       "  <thead>\n",
       "    <tr style=\"text-align: right;\">\n",
       "      <th></th>\n",
       "      <th>one</th>\n",
       "      <th>two</th>\n",
       "      <th>three</th>\n",
       "    </tr>\n",
       "  </thead>\n",
       "  <tbody>\n",
       "    <tr>\n",
       "      <th>a</th>\n",
       "      <td>-0.493386</td>\n",
       "      <td>0.478888</td>\n",
       "      <td>NaN</td>\n",
       "    </tr>\n",
       "    <tr>\n",
       "      <th>b</th>\n",
       "      <td>-0.590258</td>\n",
       "      <td>0.504230</td>\n",
       "      <td>0.921374</td>\n",
       "    </tr>\n",
       "    <tr>\n",
       "      <th>c</th>\n",
       "      <td>0.140774</td>\n",
       "      <td>-0.271452</td>\n",
       "      <td>1.321022</td>\n",
       "    </tr>\n",
       "    <tr>\n",
       "      <th>d</th>\n",
       "      <td>NaN</td>\n",
       "      <td>-0.274956</td>\n",
       "      <td>1.880252</td>\n",
       "    </tr>\n",
       "  </tbody>\n",
       "</table>\n",
       "</div>"
      ],
      "text/plain": [
       "        one       two     three\n",
       "a -0.493386  0.478888       NaN\n",
       "b -0.590258  0.504230  0.921374\n",
       "c  0.140774 -0.271452  1.321022\n",
       "d       NaN -0.274956  1.880252"
      ]
     },
     "execution_count": 13,
     "metadata": {},
     "output_type": "execute_result"
    }
   ],
   "source": [
    "df.apply(np.cumsum)"
   ]
  },
  {
   "cell_type": "code",
   "execution_count": 14,
   "id": "d10b2c35-36d1-4879-8c0d-bdce69b61bda",
   "metadata": {},
   "outputs": [
    {
     "data": {
      "text/html": [
       "<div>\n",
       "<style scoped>\n",
       "    .dataframe tbody tr th:only-of-type {\n",
       "        vertical-align: middle;\n",
       "    }\n",
       "\n",
       "    .dataframe tbody tr th {\n",
       "        vertical-align: top;\n",
       "    }\n",
       "\n",
       "    .dataframe thead th {\n",
       "        text-align: right;\n",
       "    }\n",
       "</style>\n",
       "<table border=\"1\" class=\"dataframe\">\n",
       "  <thead>\n",
       "    <tr style=\"text-align: right;\">\n",
       "      <th></th>\n",
       "      <th>one</th>\n",
       "      <th>two</th>\n",
       "      <th>three</th>\n",
       "    </tr>\n",
       "  </thead>\n",
       "  <tbody>\n",
       "    <tr>\n",
       "      <th>a</th>\n",
       "      <td>0.610555</td>\n",
       "      <td>1.614278</td>\n",
       "      <td>NaN</td>\n",
       "    </tr>\n",
       "    <tr>\n",
       "      <th>b</th>\n",
       "      <td>0.907672</td>\n",
       "      <td>1.025666</td>\n",
       "      <td>2.512741</td>\n",
       "    </tr>\n",
       "    <tr>\n",
       "      <th>c</th>\n",
       "      <td>2.077224</td>\n",
       "      <td>0.460390</td>\n",
       "      <td>1.491299</td>\n",
       "    </tr>\n",
       "    <tr>\n",
       "      <th>d</th>\n",
       "      <td>NaN</td>\n",
       "      <td>0.996502</td>\n",
       "      <td>1.749325</td>\n",
       "    </tr>\n",
       "  </tbody>\n",
       "</table>\n",
       "</div>"
      ],
      "text/plain": [
       "        one       two     three\n",
       "a  0.610555  1.614278       NaN\n",
       "b  0.907672  1.025666  2.512741\n",
       "c  2.077224  0.460390  1.491299\n",
       "d       NaN  0.996502  1.749325"
      ]
     },
     "execution_count": 14,
     "metadata": {},
     "output_type": "execute_result"
    }
   ],
   "source": [
    "df.apply(np.exp)"
   ]
  },
  {
   "cell_type": "markdown",
   "id": "dbb2987f-2a70-481e-84c0-1d923f73aee1",
   "metadata": {},
   "source": [
    "The [`apply()`](../reference/api/pandas.DataFrame.apply.html#pandas.DataFrame.apply \"pandas.DataFrame.apply\") method will also dispatch on a string method name."
   ]
  },
  {
   "cell_type": "code",
   "execution_count": 15,
   "id": "eb2b0bec-cb06-494b-b322-b56678720abe",
   "metadata": {},
   "outputs": [
    {
     "data": {
      "text/plain": [
       "one      0.046925\n",
       "two     -0.068739\n",
       "three    0.626751\n",
       "dtype: float64"
      ]
     },
     "execution_count": 15,
     "metadata": {},
     "output_type": "execute_result"
    }
   ],
   "source": [
    "df.apply(\"mean\")"
   ]
  },
  {
   "cell_type": "code",
   "execution_count": 16,
   "id": "74324216-5188-401f-8240-9122f404dcac",
   "metadata": {},
   "outputs": [
    {
     "data": {
      "text/plain": [
       "a   -0.007249\n",
       "b    0.283281\n",
       "c    0.118333\n",
       "d    0.277863\n",
       "dtype: float64"
      ]
     },
     "execution_count": 16,
     "metadata": {},
     "output_type": "execute_result"
    }
   ],
   "source": [
    "df.apply(\"mean\", axis=1)"
   ]
  },
  {
   "cell_type": "markdown",
   "id": "fd7c68d5-28f9-468c-a688-1c79d5bf91dd",
   "metadata": {},
   "source": [
    "The return type of the function passed to [`apply()`](../reference/api/pandas.DataFrame.apply.html#pandas.DataFrame.apply \"pandas.DataFrame.apply\") affects the\n",
    "type of the final output from `DataFrame.apply` for the default behaviour:\n",
    "\n",
    "- If the applied function returns a Series, the final output is a DataFrame. The columns match the index of the Series returned by the applied function.\n",
    "- If the applied function returns any other type, the final output is a Series."
   ]
  },
  {
   "cell_type": "markdown",
   "id": "43ebeee4-9a60-4c97-b2eb-30f6aa098156",
   "metadata": {},
   "source": [
    "This default behaviour can be overridden using the `result_type`, which\n",
    "accepts three options: `reduce`, `broadcast`, and `expand`.\n",
    "These will determine how list-likes return values expand (or not) to a `DataFrame`."
   ]
  },
  {
   "cell_type": "markdown",
   "id": "deec4227-0efb-46f9-b682-600f18c317de",
   "metadata": {},
   "source": [
    "[`apply()`](../reference/api/pandas.DataFrame.apply.html#pandas.DataFrame.apply \"pandas.DataFrame.apply\") combined with some cleverness can be used to answer many questions\n",
    "about a data set. For example, suppose we wanted to extract the date where the\n",
    "maximum value for each column occurred:"
   ]
  },
  {
   "cell_type": "code",
   "execution_count": 17,
   "id": "1f6c6b47-d6d3-4e3d-b959-0a2c8028ae12",
   "metadata": {},
   "outputs": [],
   "source": [
    "tsdf = pd.DataFrame(\n",
    "    np.random.randn(1000, 3),\n",
    "    columns=[\"A\", \"B\", \"C\"],\n",
    "    index=pd.date_range(\"1/1/2000\", periods=1000),\n",
    ")"
   ]
  },
  {
   "cell_type": "code",
   "execution_count": 18,
   "id": "d2d77225-b76e-41af-bda3-ef53e1be8cd2",
   "metadata": {},
   "outputs": [
    {
     "data": {
      "text/html": [
       "<div>\n",
       "<style scoped>\n",
       "    .dataframe tbody tr th:only-of-type {\n",
       "        vertical-align: middle;\n",
       "    }\n",
       "\n",
       "    .dataframe tbody tr th {\n",
       "        vertical-align: top;\n",
       "    }\n",
       "\n",
       "    .dataframe thead th {\n",
       "        text-align: right;\n",
       "    }\n",
       "</style>\n",
       "<table border=\"1\" class=\"dataframe\">\n",
       "  <thead>\n",
       "    <tr style=\"text-align: right;\">\n",
       "      <th></th>\n",
       "      <th>A</th>\n",
       "      <th>B</th>\n",
       "      <th>C</th>\n",
       "    </tr>\n",
       "  </thead>\n",
       "  <tbody>\n",
       "    <tr>\n",
       "      <th>2000-01-01</th>\n",
       "      <td>1.171402</td>\n",
       "      <td>0.061935</td>\n",
       "      <td>-1.178171</td>\n",
       "    </tr>\n",
       "    <tr>\n",
       "      <th>2000-01-02</th>\n",
       "      <td>-0.160439</td>\n",
       "      <td>0.235054</td>\n",
       "      <td>0.774846</td>\n",
       "    </tr>\n",
       "    <tr>\n",
       "      <th>2000-01-03</th>\n",
       "      <td>-0.651207</td>\n",
       "      <td>1.354219</td>\n",
       "      <td>-1.026847</td>\n",
       "    </tr>\n",
       "    <tr>\n",
       "      <th>2000-01-04</th>\n",
       "      <td>2.611678</td>\n",
       "      <td>-0.535306</td>\n",
       "      <td>-1.134581</td>\n",
       "    </tr>\n",
       "    <tr>\n",
       "      <th>2000-01-05</th>\n",
       "      <td>-0.087390</td>\n",
       "      <td>1.231878</td>\n",
       "      <td>-0.568446</td>\n",
       "    </tr>\n",
       "    <tr>\n",
       "      <th>...</th>\n",
       "      <td>...</td>\n",
       "      <td>...</td>\n",
       "      <td>...</td>\n",
       "    </tr>\n",
       "    <tr>\n",
       "      <th>2002-09-22</th>\n",
       "      <td>-0.238245</td>\n",
       "      <td>-0.433048</td>\n",
       "      <td>-0.643904</td>\n",
       "    </tr>\n",
       "    <tr>\n",
       "      <th>2002-09-23</th>\n",
       "      <td>0.556219</td>\n",
       "      <td>-0.949737</td>\n",
       "      <td>0.906274</td>\n",
       "    </tr>\n",
       "    <tr>\n",
       "      <th>2002-09-24</th>\n",
       "      <td>0.142258</td>\n",
       "      <td>1.255590</td>\n",
       "      <td>0.831502</td>\n",
       "    </tr>\n",
       "    <tr>\n",
       "      <th>2002-09-25</th>\n",
       "      <td>0.714660</td>\n",
       "      <td>1.318060</td>\n",
       "      <td>-0.019473</td>\n",
       "    </tr>\n",
       "    <tr>\n",
       "      <th>2002-09-26</th>\n",
       "      <td>-0.176115</td>\n",
       "      <td>-0.037206</td>\n",
       "      <td>0.561238</td>\n",
       "    </tr>\n",
       "  </tbody>\n",
       "</table>\n",
       "<p>1000 rows × 3 columns</p>\n",
       "</div>"
      ],
      "text/plain": [
       "                   A         B         C\n",
       "2000-01-01  1.171402  0.061935 -1.178171\n",
       "2000-01-02 -0.160439  0.235054  0.774846\n",
       "2000-01-03 -0.651207  1.354219 -1.026847\n",
       "2000-01-04  2.611678 -0.535306 -1.134581\n",
       "2000-01-05 -0.087390  1.231878 -0.568446\n",
       "...              ...       ...       ...\n",
       "2002-09-22 -0.238245 -0.433048 -0.643904\n",
       "2002-09-23  0.556219 -0.949737  0.906274\n",
       "2002-09-24  0.142258  1.255590  0.831502\n",
       "2002-09-25  0.714660  1.318060 -0.019473\n",
       "2002-09-26 -0.176115 -0.037206  0.561238\n",
       "\n",
       "[1000 rows x 3 columns]"
      ]
     },
     "execution_count": 18,
     "metadata": {},
     "output_type": "execute_result"
    }
   ],
   "source": [
    "tsdf"
   ]
  },
  {
   "cell_type": "code",
   "execution_count": 19,
   "id": "5623e6c7-3931-4c45-bbba-d3b5c81c3452",
   "metadata": {},
   "outputs": [
    {
     "data": {
      "text/plain": [
       "A   2000-11-13\n",
       "B   2001-01-19\n",
       "C   2002-07-23\n",
       "dtype: datetime64[ns]"
      ]
     },
     "execution_count": 19,
     "metadata": {},
     "output_type": "execute_result"
    }
   ],
   "source": [
    "tsdf.apply(lambda x: x.idxmax())"
   ]
  },
  {
   "cell_type": "markdown",
   "id": "73c9fd26-d0e1-4d47-a6e3-2ff4d5ffa60f",
   "metadata": {},
   "source": [
    "You may also pass additional arguments and keyword arguments to the [`apply()`](../reference/api/pandas.DataFrame.apply.html#pandas.DataFrame.apply \"pandas.DataFrame.apply\")\n",
    "method. For instance, consider the following function you would like to apply:"
   ]
  },
  {
   "cell_type": "code",
   "execution_count": 20,
   "id": "d0de368c-8478-4498-bfd9-bbe3d7dd3196",
   "metadata": {},
   "outputs": [],
   "source": [
    "def subtract_and_divide(x, sub, divide=1):\n",
    "    return (x - sub) / divide"
   ]
  },
  {
   "cell_type": "markdown",
   "id": "c981ba63-299d-4132-9eaa-77e09f9c3cf7",
   "metadata": {},
   "source": [
    "You may then apply this function as follows:"
   ]
  },
  {
   "cell_type": "code",
   "execution_count": 21,
   "id": "26cd3731-41f2-413e-8d63-b02fd0df2453",
   "metadata": {},
   "outputs": [
    {
     "data": {
      "text/html": [
       "<div>\n",
       "<style scoped>\n",
       "    .dataframe tbody tr th:only-of-type {\n",
       "        vertical-align: middle;\n",
       "    }\n",
       "\n",
       "    .dataframe tbody tr th {\n",
       "        vertical-align: top;\n",
       "    }\n",
       "\n",
       "    .dataframe thead th {\n",
       "        text-align: right;\n",
       "    }\n",
       "</style>\n",
       "<table border=\"1\" class=\"dataframe\">\n",
       "  <thead>\n",
       "    <tr style=\"text-align: right;\">\n",
       "      <th></th>\n",
       "      <th>one</th>\n",
       "      <th>two</th>\n",
       "      <th>three</th>\n",
       "    </tr>\n",
       "  </thead>\n",
       "  <tbody>\n",
       "    <tr>\n",
       "      <th>a</th>\n",
       "      <td>-1.831129</td>\n",
       "      <td>-1.507037</td>\n",
       "      <td>NaN</td>\n",
       "    </tr>\n",
       "    <tr>\n",
       "      <th>b</th>\n",
       "      <td>-1.698957</td>\n",
       "      <td>-1.658219</td>\n",
       "      <td>-1.359542</td>\n",
       "    </tr>\n",
       "    <tr>\n",
       "      <th>c</th>\n",
       "      <td>-1.422989</td>\n",
       "      <td>-1.925227</td>\n",
       "      <td>-1.533451</td>\n",
       "    </tr>\n",
       "    <tr>\n",
       "      <th>d</th>\n",
       "      <td>NaN</td>\n",
       "      <td>-1.667835</td>\n",
       "      <td>-1.480257</td>\n",
       "    </tr>\n",
       "  </tbody>\n",
       "</table>\n",
       "</div>"
      ],
      "text/plain": [
       "        one       two     three\n",
       "a -1.831129 -1.507037       NaN\n",
       "b -1.698957 -1.658219 -1.359542\n",
       "c -1.422989 -1.925227 -1.533451\n",
       "d       NaN -1.667835 -1.480257"
      ]
     },
     "execution_count": 21,
     "metadata": {},
     "output_type": "execute_result"
    }
   ],
   "source": [
    "df.apply(subtract_and_divide, args=(5, 3))"
   ]
  },
  {
   "cell_type": "code",
   "execution_count": 22,
   "id": "e94daddf-adff-4709-92aa-a518a34b41f8",
   "metadata": {},
   "outputs": [
    {
     "data": {
      "text/html": [
       "<div>\n",
       "<style scoped>\n",
       "    .dataframe tbody tr th:only-of-type {\n",
       "        vertical-align: middle;\n",
       "    }\n",
       "\n",
       "    .dataframe tbody tr th {\n",
       "        vertical-align: top;\n",
       "    }\n",
       "\n",
       "    .dataframe thead th {\n",
       "        text-align: right;\n",
       "    }\n",
       "</style>\n",
       "<table border=\"1\" class=\"dataframe\">\n",
       "  <thead>\n",
       "    <tr style=\"text-align: right;\">\n",
       "      <th></th>\n",
       "      <th>one</th>\n",
       "      <th>two</th>\n",
       "      <th>three</th>\n",
       "    </tr>\n",
       "  </thead>\n",
       "  <tbody>\n",
       "    <tr>\n",
       "      <th>a</th>\n",
       "      <td>-1.831129</td>\n",
       "      <td>-1.507037</td>\n",
       "      <td>NaN</td>\n",
       "    </tr>\n",
       "    <tr>\n",
       "      <th>b</th>\n",
       "      <td>-1.698957</td>\n",
       "      <td>-1.658219</td>\n",
       "      <td>-1.359542</td>\n",
       "    </tr>\n",
       "    <tr>\n",
       "      <th>c</th>\n",
       "      <td>-1.422989</td>\n",
       "      <td>-1.925227</td>\n",
       "      <td>-1.533451</td>\n",
       "    </tr>\n",
       "    <tr>\n",
       "      <th>d</th>\n",
       "      <td>NaN</td>\n",
       "      <td>-1.667835</td>\n",
       "      <td>-1.480257</td>\n",
       "    </tr>\n",
       "  </tbody>\n",
       "</table>\n",
       "</div>"
      ],
      "text/plain": [
       "        one       two     three\n",
       "a -1.831129 -1.507037       NaN\n",
       "b -1.698957 -1.658219 -1.359542\n",
       "c -1.422989 -1.925227 -1.533451\n",
       "d       NaN -1.667835 -1.480257"
      ]
     },
     "execution_count": 22,
     "metadata": {},
     "output_type": "execute_result"
    }
   ],
   "source": [
    "df.apply(subtract_and_divide, args=(5,), divide=3)"
   ]
  },
  {
   "cell_type": "code",
   "execution_count": 23,
   "id": "919f1c91-90ca-43d2-8609-b1a26d5fe7d9",
   "metadata": {},
   "outputs": [
    {
     "data": {
      "text/html": [
       "<div>\n",
       "<style scoped>\n",
       "    .dataframe tbody tr th:only-of-type {\n",
       "        vertical-align: middle;\n",
       "    }\n",
       "\n",
       "    .dataframe tbody tr th {\n",
       "        vertical-align: top;\n",
       "    }\n",
       "\n",
       "    .dataframe thead th {\n",
       "        text-align: right;\n",
       "    }\n",
       "</style>\n",
       "<table border=\"1\" class=\"dataframe\">\n",
       "  <thead>\n",
       "    <tr style=\"text-align: right;\">\n",
       "      <th></th>\n",
       "      <th>one</th>\n",
       "      <th>two</th>\n",
       "      <th>three</th>\n",
       "    </tr>\n",
       "  </thead>\n",
       "  <tbody>\n",
       "    <tr>\n",
       "      <th>a</th>\n",
       "      <td>-1.831129</td>\n",
       "      <td>-1.507037</td>\n",
       "      <td>NaN</td>\n",
       "    </tr>\n",
       "    <tr>\n",
       "      <th>b</th>\n",
       "      <td>-1.698957</td>\n",
       "      <td>-1.658219</td>\n",
       "      <td>-1.359542</td>\n",
       "    </tr>\n",
       "    <tr>\n",
       "      <th>c</th>\n",
       "      <td>-1.422989</td>\n",
       "      <td>-1.925227</td>\n",
       "      <td>-1.533451</td>\n",
       "    </tr>\n",
       "    <tr>\n",
       "      <th>d</th>\n",
       "      <td>NaN</td>\n",
       "      <td>-1.667835</td>\n",
       "      <td>-1.480257</td>\n",
       "    </tr>\n",
       "  </tbody>\n",
       "</table>\n",
       "</div>"
      ],
      "text/plain": [
       "        one       two     three\n",
       "a -1.831129 -1.507037       NaN\n",
       "b -1.698957 -1.658219 -1.359542\n",
       "c -1.422989 -1.925227 -1.533451\n",
       "d       NaN -1.667835 -1.480257"
      ]
     },
     "execution_count": 23,
     "metadata": {},
     "output_type": "execute_result"
    }
   ],
   "source": [
    "df.apply(subtract_and_divide, sub=5, divide=3)"
   ]
  },
  {
   "cell_type": "markdown",
   "id": "e376dfdf-fec3-4bb4-a2ee-59a920d6b4b1",
   "metadata": {},
   "source": [
    "Another useful feature is the ability to pass Series methods to carry out some\n",
    "Series operation on each column or row:"
   ]
  },
  {
   "cell_type": "code",
   "execution_count": 24,
   "id": "828d90c6-185c-492c-b0c1-18311afe11f2",
   "metadata": {},
   "outputs": [
    {
     "data": {
      "text/plain": [
       "0    0.000000\n",
       "1    2.000000\n",
       "2    4.666667\n",
       "3    8.000000\n",
       "dtype: float64"
      ]
     },
     "execution_count": 24,
     "metadata": {},
     "output_type": "execute_result"
    }
   ],
   "source": [
    "s = pd.Series([0, 2, np.nan, 8])\n",
    "s.interpolate(method='polynomial', order=2)"
   ]
  },
  {
   "cell_type": "markdown",
   "id": "22c2a4e9-db6a-403d-be66-c0c888fe5250",
   "metadata": {},
   "source": [
    "Let's apply interpolation on tsdf:"
   ]
  },
  {
   "cell_type": "code",
   "execution_count": 25,
   "id": "125d5278-2f52-4a3e-ab3a-39e55e6321d3",
   "metadata": {},
   "outputs": [],
   "source": [
    "# First let's add some null values\n",
    "tsdf.iloc[3] = np.nan"
   ]
  },
  {
   "cell_type": "code",
   "execution_count": 26,
   "id": "0b527d27-1e14-4bed-98f7-6bcdce16ae14",
   "metadata": {},
   "outputs": [
    {
     "data": {
      "text/html": [
       "<div>\n",
       "<style scoped>\n",
       "    .dataframe tbody tr th:only-of-type {\n",
       "        vertical-align: middle;\n",
       "    }\n",
       "\n",
       "    .dataframe tbody tr th {\n",
       "        vertical-align: top;\n",
       "    }\n",
       "\n",
       "    .dataframe thead th {\n",
       "        text-align: right;\n",
       "    }\n",
       "</style>\n",
       "<table border=\"1\" class=\"dataframe\">\n",
       "  <thead>\n",
       "    <tr style=\"text-align: right;\">\n",
       "      <th></th>\n",
       "      <th>A</th>\n",
       "      <th>B</th>\n",
       "      <th>C</th>\n",
       "    </tr>\n",
       "  </thead>\n",
       "  <tbody>\n",
       "    <tr>\n",
       "      <th>2000-01-01</th>\n",
       "      <td>1.171402</td>\n",
       "      <td>0.061935</td>\n",
       "      <td>-1.178171</td>\n",
       "    </tr>\n",
       "    <tr>\n",
       "      <th>2000-01-02</th>\n",
       "      <td>-0.160439</td>\n",
       "      <td>0.235054</td>\n",
       "      <td>0.774846</td>\n",
       "    </tr>\n",
       "    <tr>\n",
       "      <th>2000-01-03</th>\n",
       "      <td>-0.651207</td>\n",
       "      <td>1.354219</td>\n",
       "      <td>-1.026847</td>\n",
       "    </tr>\n",
       "    <tr>\n",
       "      <th>2000-01-04</th>\n",
       "      <td>NaN</td>\n",
       "      <td>NaN</td>\n",
       "      <td>NaN</td>\n",
       "    </tr>\n",
       "    <tr>\n",
       "      <th>2000-01-05</th>\n",
       "      <td>-0.087390</td>\n",
       "      <td>1.231878</td>\n",
       "      <td>-0.568446</td>\n",
       "    </tr>\n",
       "  </tbody>\n",
       "</table>\n",
       "</div>"
      ],
      "text/plain": [
       "                   A         B         C\n",
       "2000-01-01  1.171402  0.061935 -1.178171\n",
       "2000-01-02 -0.160439  0.235054  0.774846\n",
       "2000-01-03 -0.651207  1.354219 -1.026847\n",
       "2000-01-04       NaN       NaN       NaN\n",
       "2000-01-05 -0.087390  1.231878 -0.568446"
      ]
     },
     "execution_count": 26,
     "metadata": {},
     "output_type": "execute_result"
    }
   ],
   "source": [
    "tsdf.head()"
   ]
  },
  {
   "cell_type": "code",
   "execution_count": 27,
   "id": "173f69b3-6a5d-4171-af80-1235bc7b9bca",
   "metadata": {},
   "outputs": [
    {
     "data": {
      "text/html": [
       "<div>\n",
       "<style scoped>\n",
       "    .dataframe tbody tr th:only-of-type {\n",
       "        vertical-align: middle;\n",
       "    }\n",
       "\n",
       "    .dataframe tbody tr th {\n",
       "        vertical-align: top;\n",
       "    }\n",
       "\n",
       "    .dataframe thead th {\n",
       "        text-align: right;\n",
       "    }\n",
       "</style>\n",
       "<table border=\"1\" class=\"dataframe\">\n",
       "  <thead>\n",
       "    <tr style=\"text-align: right;\">\n",
       "      <th></th>\n",
       "      <th>A</th>\n",
       "      <th>B</th>\n",
       "      <th>C</th>\n",
       "    </tr>\n",
       "  </thead>\n",
       "  <tbody>\n",
       "    <tr>\n",
       "      <th>2000-01-01</th>\n",
       "      <td>1.171402</td>\n",
       "      <td>0.061935</td>\n",
       "      <td>-1.178171</td>\n",
       "    </tr>\n",
       "    <tr>\n",
       "      <th>2000-01-02</th>\n",
       "      <td>-0.160439</td>\n",
       "      <td>0.235054</td>\n",
       "      <td>0.774846</td>\n",
       "    </tr>\n",
       "    <tr>\n",
       "      <th>2000-01-03</th>\n",
       "      <td>-0.651207</td>\n",
       "      <td>1.354219</td>\n",
       "      <td>-1.026847</td>\n",
       "    </tr>\n",
       "    <tr>\n",
       "      <th>2000-01-04</th>\n",
       "      <td>-0.369299</td>\n",
       "      <td>1.293049</td>\n",
       "      <td>-0.797647</td>\n",
       "    </tr>\n",
       "    <tr>\n",
       "      <th>2000-01-05</th>\n",
       "      <td>-0.087390</td>\n",
       "      <td>1.231878</td>\n",
       "      <td>-0.568446</td>\n",
       "    </tr>\n",
       "  </tbody>\n",
       "</table>\n",
       "</div>"
      ],
      "text/plain": [
       "                   A         B         C\n",
       "2000-01-01  1.171402  0.061935 -1.178171\n",
       "2000-01-02 -0.160439  0.235054  0.774846\n",
       "2000-01-03 -0.651207  1.354219 -1.026847\n",
       "2000-01-04 -0.369299  1.293049 -0.797647\n",
       "2000-01-05 -0.087390  1.231878 -0.568446"
      ]
     },
     "execution_count": 27,
     "metadata": {},
     "output_type": "execute_result"
    }
   ],
   "source": [
    "tsdf.apply(pd.Series.interpolate, method='linear').head()"
   ]
  },
  {
   "cell_type": "markdown",
   "id": "69baa44b-337f-4990-8b15-433842142ec0",
   "metadata": {},
   "source": [
    "Finally, `apply()` takes an argument `raw` which is False by default, which\n",
    "converts each row or column into a Series before applying the function. When\n",
    "set to True, the passed function will instead receive an ndarray object, which\n",
    "has positive performance implications if you do not need the indexing\n",
    "functionality."
   ]
  },
  {
   "cell_type": "markdown",
   "id": "3af1ddb1-e8ed-4244-bdc2-190e4db0c87b",
   "metadata": {},
   "source": [
    "<a class=\"anchor\" id=\"aggregation_api\"></a>\n",
    "## Aggregation API"
   ]
  },
  {
   "cell_type": "markdown",
   "id": "c2191656-239d-4b7e-bf89-9bca48e62f6d",
   "metadata": {},
   "source": [
    "The aggregation API allows one to express possibly multiple aggregation operations in a single concise way.\n",
    "This API is similar across pandas objects, see [groupby API](https://pandas.pydata.org/docs/user_guide/groupby.html#groupby-aggregate), the\n",
    "[window API](https://pandas.pydata.org/docs/user_guide/window.html#window-overview), and the [resample API](https://pandas.pydata.org/docs/user_guide/timeseries.html#timeseries-aggregate).\n",
    "The entry point for aggregation is [`DataFrame.aggregate()`](https://pandas.pydata.org/docs/reference/api/pandas.DataFrame.aggregate.html#pandas.DataFrame.aggregate), or the alias\n",
    "[`DataFrame.agg()`](https://pandas.pydata.org/docs/reference/api/pandas.DataFrame.agg.html#pandas.DataFrame.agg)."
   ]
  },
  {
   "cell_type": "markdown",
   "id": "9d3b5c86-85b8-4f88-9419-eb020afcdc63",
   "metadata": {},
   "source": [
    "We will use a similar starting frame from above:"
   ]
  },
  {
   "cell_type": "code",
   "execution_count": 28,
   "id": "adab3c57-2621-4cc7-9102-27518fdac530",
   "metadata": {},
   "outputs": [],
   "source": [
    "tsdf = pd.DataFrame(\n",
    "    np.random.randn(10, 3),\n",
    "    columns=[\"A\", \"B\", \"C\"],\n",
    "    index=pd.date_range(\"1/1/2000\", periods=10),\n",
    ")"
   ]
  },
  {
   "cell_type": "code",
   "execution_count": 29,
   "id": "3a801df1-c605-4756-8b24-9e427d6cb425",
   "metadata": {},
   "outputs": [],
   "source": [
    "tsdf.iloc[3:7] = np.nan"
   ]
  },
  {
   "cell_type": "code",
   "execution_count": 30,
   "id": "91565011-ddea-41cc-9a11-451c0eed64d0",
   "metadata": {},
   "outputs": [
    {
     "data": {
      "text/html": [
       "<div>\n",
       "<style scoped>\n",
       "    .dataframe tbody tr th:only-of-type {\n",
       "        vertical-align: middle;\n",
       "    }\n",
       "\n",
       "    .dataframe tbody tr th {\n",
       "        vertical-align: top;\n",
       "    }\n",
       "\n",
       "    .dataframe thead th {\n",
       "        text-align: right;\n",
       "    }\n",
       "</style>\n",
       "<table border=\"1\" class=\"dataframe\">\n",
       "  <thead>\n",
       "    <tr style=\"text-align: right;\">\n",
       "      <th></th>\n",
       "      <th>A</th>\n",
       "      <th>B</th>\n",
       "      <th>C</th>\n",
       "    </tr>\n",
       "  </thead>\n",
       "  <tbody>\n",
       "    <tr>\n",
       "      <th>2000-01-01</th>\n",
       "      <td>0.977136</td>\n",
       "      <td>0.220022</td>\n",
       "      <td>3.066667</td>\n",
       "    </tr>\n",
       "    <tr>\n",
       "      <th>2000-01-02</th>\n",
       "      <td>0.583268</td>\n",
       "      <td>2.382862</td>\n",
       "      <td>-0.659028</td>\n",
       "    </tr>\n",
       "    <tr>\n",
       "      <th>2000-01-03</th>\n",
       "      <td>1.446675</td>\n",
       "      <td>-1.873114</td>\n",
       "      <td>1.203079</td>\n",
       "    </tr>\n",
       "    <tr>\n",
       "      <th>2000-01-04</th>\n",
       "      <td>NaN</td>\n",
       "      <td>NaN</td>\n",
       "      <td>NaN</td>\n",
       "    </tr>\n",
       "    <tr>\n",
       "      <th>2000-01-05</th>\n",
       "      <td>NaN</td>\n",
       "      <td>NaN</td>\n",
       "      <td>NaN</td>\n",
       "    </tr>\n",
       "    <tr>\n",
       "      <th>2000-01-06</th>\n",
       "      <td>NaN</td>\n",
       "      <td>NaN</td>\n",
       "      <td>NaN</td>\n",
       "    </tr>\n",
       "    <tr>\n",
       "      <th>2000-01-07</th>\n",
       "      <td>NaN</td>\n",
       "      <td>NaN</td>\n",
       "      <td>NaN</td>\n",
       "    </tr>\n",
       "    <tr>\n",
       "      <th>2000-01-08</th>\n",
       "      <td>1.428441</td>\n",
       "      <td>-1.159168</td>\n",
       "      <td>0.552958</td>\n",
       "    </tr>\n",
       "    <tr>\n",
       "      <th>2000-01-09</th>\n",
       "      <td>-0.708804</td>\n",
       "      <td>0.678452</td>\n",
       "      <td>-1.551369</td>\n",
       "    </tr>\n",
       "    <tr>\n",
       "      <th>2000-01-10</th>\n",
       "      <td>0.324199</td>\n",
       "      <td>1.029885</td>\n",
       "      <td>0.159081</td>\n",
       "    </tr>\n",
       "  </tbody>\n",
       "</table>\n",
       "</div>"
      ],
      "text/plain": [
       "                   A         B         C\n",
       "2000-01-01  0.977136  0.220022  3.066667\n",
       "2000-01-02  0.583268  2.382862 -0.659028\n",
       "2000-01-03  1.446675 -1.873114  1.203079\n",
       "2000-01-04       NaN       NaN       NaN\n",
       "2000-01-05       NaN       NaN       NaN\n",
       "2000-01-06       NaN       NaN       NaN\n",
       "2000-01-07       NaN       NaN       NaN\n",
       "2000-01-08  1.428441 -1.159168  0.552958\n",
       "2000-01-09 -0.708804  0.678452 -1.551369\n",
       "2000-01-10  0.324199  1.029885  0.159081"
      ]
     },
     "execution_count": 30,
     "metadata": {},
     "output_type": "execute_result"
    }
   ],
   "source": [
    "tsdf"
   ]
  },
  {
   "cell_type": "markdown",
   "id": "e7041ee4-ed4e-4937-874c-202b175ef4c1",
   "metadata": {},
   "source": [
    "Using a single function is equivalent to [`apply()`](../reference/api/pandas.DataFrame.apply.html#pandas.DataFrame.apply \"pandas.DataFrame.apply\"). You can also\n",
    "pass named methods as strings. These will return a `Series` of the aggregated\n",
    "output:"
   ]
  },
  {
   "cell_type": "code",
   "execution_count": 31,
   "id": "88562c0a-34c9-4a13-8ce2-e7a90b49c74e",
   "metadata": {},
   "outputs": [
    {
     "data": {
      "text/plain": [
       "A    4.050914\n",
       "B    1.278939\n",
       "C    2.771387\n",
       "dtype: float64"
      ]
     },
     "execution_count": 31,
     "metadata": {},
     "output_type": "execute_result"
    }
   ],
   "source": [
    "tsdf.agg(np.sum)"
   ]
  },
  {
   "cell_type": "code",
   "execution_count": 32,
   "id": "b3580ad3-699e-4980-999e-51469aa7c6ef",
   "metadata": {},
   "outputs": [
    {
     "data": {
      "text/plain": [
       "A    4.050914\n",
       "B    1.278939\n",
       "C    2.771387\n",
       "dtype: float64"
      ]
     },
     "execution_count": 32,
     "metadata": {},
     "output_type": "execute_result"
    }
   ],
   "source": [
    "tsdf.agg(\"sum\")"
   ]
  },
  {
   "cell_type": "code",
   "execution_count": 33,
   "id": "e7ed3928-2be6-4543-a374-5dd3fef66a91",
   "metadata": {},
   "outputs": [
    {
     "data": {
      "text/plain": [
       "A    4.050914\n",
       "B    1.278939\n",
       "C    2.771387\n",
       "dtype: float64"
      ]
     },
     "execution_count": 33,
     "metadata": {},
     "output_type": "execute_result"
    }
   ],
   "source": [
    "tsdf.sum()"
   ]
  },
  {
   "cell_type": "markdown",
   "id": "27cdbad7-c004-49dc-ac12-4bae50a46f03",
   "metadata": {},
   "source": [
    "Single aggregations on a `Series` this will return a scalar value:"
   ]
  },
  {
   "cell_type": "code",
   "execution_count": 34,
   "id": "a05f7743-6d65-4455-b408-31a1514e7bc0",
   "metadata": {},
   "outputs": [
    {
     "data": {
      "text/plain": [
       "4.050913785394702"
      ]
     },
     "execution_count": 34,
     "metadata": {},
     "output_type": "execute_result"
    }
   ],
   "source": [
    "tsdf[\"A\"].agg(\"sum\")"
   ]
  },
  {
   "cell_type": "markdown",
   "id": "b916a2f8-ad9f-4e1d-9211-896ca5c03743",
   "metadata": {},
   "source": [
    "<a class=\"anchor\" id=\"aggregating_with_multiple_functions\"></a>\n",
    "### Aggregating with multiple functions"
   ]
  },
  {
   "cell_type": "markdown",
   "id": "72b61c52-5112-4723-87f5-8d254c45189b",
   "metadata": {},
   "source": [
    "You can pass multiple aggregation arguments as a list.\n",
    "The results of each of the passed functions will be a row in the resulting `DataFrame`.\n",
    "These are naturally named from the aggregation function."
   ]
  },
  {
   "cell_type": "code",
   "execution_count": 35,
   "id": "361f2cab-0a7b-4c6e-9382-f289e2744654",
   "metadata": {},
   "outputs": [
    {
     "data": {
      "text/html": [
       "<div>\n",
       "<style scoped>\n",
       "    .dataframe tbody tr th:only-of-type {\n",
       "        vertical-align: middle;\n",
       "    }\n",
       "\n",
       "    .dataframe tbody tr th {\n",
       "        vertical-align: top;\n",
       "    }\n",
       "\n",
       "    .dataframe thead th {\n",
       "        text-align: right;\n",
       "    }\n",
       "</style>\n",
       "<table border=\"1\" class=\"dataframe\">\n",
       "  <thead>\n",
       "    <tr style=\"text-align: right;\">\n",
       "      <th></th>\n",
       "      <th>A</th>\n",
       "      <th>B</th>\n",
       "      <th>C</th>\n",
       "    </tr>\n",
       "  </thead>\n",
       "  <tbody>\n",
       "    <tr>\n",
       "      <th>sum</th>\n",
       "      <td>4.050914</td>\n",
       "      <td>1.278939</td>\n",
       "      <td>2.771387</td>\n",
       "    </tr>\n",
       "  </tbody>\n",
       "</table>\n",
       "</div>"
      ],
      "text/plain": [
       "            A         B         C\n",
       "sum  4.050914  1.278939  2.771387"
      ]
     },
     "execution_count": 35,
     "metadata": {},
     "output_type": "execute_result"
    }
   ],
   "source": [
    "tsdf.agg([\"sum\"])"
   ]
  },
  {
   "cell_type": "markdown",
   "id": "c6f4a053-e79b-452f-9fdb-c2df0691e13b",
   "metadata": {},
   "source": [
    "Multiple functions yield multiple rows:"
   ]
  },
  {
   "cell_type": "code",
   "execution_count": 36,
   "id": "2b469603-3d70-4a4e-b3f6-cb7a5f47c2bc",
   "metadata": {},
   "outputs": [
    {
     "data": {
      "text/html": [
       "<div>\n",
       "<style scoped>\n",
       "    .dataframe tbody tr th:only-of-type {\n",
       "        vertical-align: middle;\n",
       "    }\n",
       "\n",
       "    .dataframe tbody tr th {\n",
       "        vertical-align: top;\n",
       "    }\n",
       "\n",
       "    .dataframe thead th {\n",
       "        text-align: right;\n",
       "    }\n",
       "</style>\n",
       "<table border=\"1\" class=\"dataframe\">\n",
       "  <thead>\n",
       "    <tr style=\"text-align: right;\">\n",
       "      <th></th>\n",
       "      <th>A</th>\n",
       "      <th>B</th>\n",
       "      <th>C</th>\n",
       "    </tr>\n",
       "  </thead>\n",
       "  <tbody>\n",
       "    <tr>\n",
       "      <th>sum</th>\n",
       "      <td>4.050914</td>\n",
       "      <td>1.278939</td>\n",
       "      <td>2.771387</td>\n",
       "    </tr>\n",
       "    <tr>\n",
       "      <th>mean</th>\n",
       "      <td>0.675152</td>\n",
       "      <td>0.213156</td>\n",
       "      <td>0.461898</td>\n",
       "    </tr>\n",
       "  </tbody>\n",
       "</table>\n",
       "</div>"
      ],
      "text/plain": [
       "             A         B         C\n",
       "sum   4.050914  1.278939  2.771387\n",
       "mean  0.675152  0.213156  0.461898"
      ]
     },
     "execution_count": 36,
     "metadata": {},
     "output_type": "execute_result"
    }
   ],
   "source": [
    "tsdf.agg([\"sum\", \"mean\"])"
   ]
  },
  {
   "cell_type": "markdown",
   "id": "635c443b-b2c5-426f-818d-993376eff0a5",
   "metadata": {},
   "source": [
    "On a `Series`, multiple functions return a `Series`, indexed by the function names:"
   ]
  },
  {
   "cell_type": "code",
   "execution_count": 37,
   "id": "710b0ef0-ca7c-4fe9-8c7c-40d0f0ea4395",
   "metadata": {},
   "outputs": [
    {
     "data": {
      "text/plain": [
       "sum     4.050914\n",
       "mean    0.675152\n",
       "Name: A, dtype: float64"
      ]
     },
     "execution_count": 37,
     "metadata": {},
     "output_type": "execute_result"
    }
   ],
   "source": [
    "tsdf[\"A\"].agg([\"sum\", \"mean\"])"
   ]
  },
  {
   "cell_type": "markdown",
   "id": "0af6e735-e95b-4b59-8846-acec84b04c4b",
   "metadata": {},
   "source": [
    "Passing a `lambda` function will yield a `<lambda>` named row:"
   ]
  },
  {
   "cell_type": "code",
   "execution_count": 38,
   "id": "fda9d48b-4ef4-4713-92f5-4188e45f220f",
   "metadata": {},
   "outputs": [
    {
     "data": {
      "text/plain": [
       "sum         4.050914\n",
       "<lambda>    0.675152\n",
       "Name: A, dtype: float64"
      ]
     },
     "execution_count": 38,
     "metadata": {},
     "output_type": "execute_result"
    }
   ],
   "source": [
    "tsdf[\"A\"].agg([\"sum\", lambda x: x.mean()])"
   ]
  },
  {
   "cell_type": "markdown",
   "id": "32c3e5f5-6fbc-4fd0-b347-2f26d8b9f32a",
   "metadata": {},
   "source": [
    "Passing a named function will yield that name for the row:"
   ]
  },
  {
   "cell_type": "code",
   "execution_count": 39,
   "id": "c2478e88-28bb-4b19-b325-f0aee7700da9",
   "metadata": {},
   "outputs": [
    {
     "data": {
      "text/plain": [
       "sum       4.050914\n",
       "mymean    0.675152\n",
       "Name: A, dtype: float64"
      ]
     },
     "execution_count": 39,
     "metadata": {},
     "output_type": "execute_result"
    }
   ],
   "source": [
    "def mymean(x):\n",
    "    return x.mean()\n",
    "\n",
    "tsdf[\"A\"].agg([\"sum\", mymean])"
   ]
  },
  {
   "cell_type": "markdown",
   "id": "a64d59e5-d71d-4b63-b745-08f386c8a40d",
   "metadata": {},
   "source": [
    "<a class=\"anchor\" id=\"aggregating_with_a_dict\"></a>\n",
    "### Aggregating with a dict"
   ]
  },
  {
   "cell_type": "markdown",
   "id": "571b7886-c95c-4af6-8b71-d097ee496421",
   "metadata": {},
   "source": [
    "Passing a dictionary of column names to a scalar or a list of scalars, to `DataFrame.agg`\n",
    "allows you to customize which functions are applied to which columns. Note that the results\n",
    "are not in any particular order, you can use an `OrderedDict` instead to guarantee ordering."
   ]
  },
  {
   "cell_type": "code",
   "execution_count": 40,
   "id": "9ad7f6aa-2103-4432-a440-f4e5dc587119",
   "metadata": {},
   "outputs": [
    {
     "data": {
      "text/plain": [
       "A    0.675152\n",
       "B    1.278939\n",
       "dtype: float64"
      ]
     },
     "execution_count": 40,
     "metadata": {},
     "output_type": "execute_result"
    }
   ],
   "source": [
    "tsdf.agg({\"A\": \"mean\", \"B\": \"sum\"})"
   ]
  },
  {
   "cell_type": "markdown",
   "id": "e95fb91a-d5de-4f10-aefb-b1856426bf41",
   "metadata": {},
   "source": [
    "Passing a list-like will generate a `DataFrame` output. You will get a matrix-like output\n",
    "of all of the aggregators. The output will consist of all unique functions. Those that are\n",
    "not noted for a particular column will be `NaN`:"
   ]
  },
  {
   "cell_type": "code",
   "execution_count": 41,
   "id": "cde68d04-4b29-419e-9976-d5d5bbba1dfe",
   "metadata": {},
   "outputs": [
    {
     "data": {
      "text/html": [
       "<div>\n",
       "<style scoped>\n",
       "    .dataframe tbody tr th:only-of-type {\n",
       "        vertical-align: middle;\n",
       "    }\n",
       "\n",
       "    .dataframe tbody tr th {\n",
       "        vertical-align: top;\n",
       "    }\n",
       "\n",
       "    .dataframe thead th {\n",
       "        text-align: right;\n",
       "    }\n",
       "</style>\n",
       "<table border=\"1\" class=\"dataframe\">\n",
       "  <thead>\n",
       "    <tr style=\"text-align: right;\">\n",
       "      <th></th>\n",
       "      <th>A</th>\n",
       "      <th>B</th>\n",
       "    </tr>\n",
       "  </thead>\n",
       "  <tbody>\n",
       "    <tr>\n",
       "      <th>mean</th>\n",
       "      <td>0.675152</td>\n",
       "      <td>NaN</td>\n",
       "    </tr>\n",
       "    <tr>\n",
       "      <th>min</th>\n",
       "      <td>-0.708804</td>\n",
       "      <td>NaN</td>\n",
       "    </tr>\n",
       "    <tr>\n",
       "      <th>sum</th>\n",
       "      <td>NaN</td>\n",
       "      <td>1.278939</td>\n",
       "    </tr>\n",
       "  </tbody>\n",
       "</table>\n",
       "</div>"
      ],
      "text/plain": [
       "             A         B\n",
       "mean  0.675152       NaN\n",
       "min  -0.708804       NaN\n",
       "sum        NaN  1.278939"
      ]
     },
     "execution_count": 41,
     "metadata": {},
     "output_type": "execute_result"
    }
   ],
   "source": [
    "tsdf.agg({\"A\": [\"mean\", \"min\"], \"B\": \"sum\"})"
   ]
  },
  {
   "cell_type": "markdown",
   "id": "075d4640-72a8-44c5-a8a9-3c396a1dbf19",
   "metadata": {},
   "source": [
    "<a class=\"anchor\" id=\"mixed_dtypes\"></a>\n",
    "### Mixed dtypes"
   ]
  },
  {
   "cell_type": "markdown",
   "id": "8e5ae3c4-bea3-42fe-a105-9c9c2cf48bcc",
   "metadata": {},
   "source": [
    "Deprecated since version 1.4.0: Attempting to determine which columns cannot be aggregated and silently dropping them from the results is deprecated and will be removed in a future version. If any porition of the columns or operations provided fail, the call to `.agg` will raise."
   ]
  },
  {
   "cell_type": "markdown",
   "id": "22d6f066-f9c8-4c67-8209-25d2a446e23c",
   "metadata": {},
   "source": [
    "When presented with mixed dtypes that cannot aggregate, `.agg` will only take the valid\n",
    "aggregations. This is similar to how `.groupby.agg` works."
   ]
  },
  {
   "cell_type": "code",
   "execution_count": 42,
   "id": "ae846e19-2ccb-4964-a6ac-44f3b5d51c61",
   "metadata": {},
   "outputs": [],
   "source": [
    "mdf = pd.DataFrame(\n",
    "    {\n",
    "        \"A\": [1, 2, 3],\n",
    "        \"B\": [1.0, 2.0, 3.0],\n",
    "        \"C\": [\"foo\", \"bar\", \"baz\"],\n",
    "        \"D\": pd.date_range(\"20130101\", periods=3),\n",
    "    }\n",
    ")"
   ]
  },
  {
   "cell_type": "code",
   "execution_count": 43,
   "id": "568223dd-24d9-4d28-88ea-99c3d07d8a18",
   "metadata": {},
   "outputs": [
    {
     "data": {
      "text/plain": [
       "A             int64\n",
       "B           float64\n",
       "C            object\n",
       "D    datetime64[ns]\n",
       "dtype: object"
      ]
     },
     "execution_count": 43,
     "metadata": {},
     "output_type": "execute_result"
    }
   ],
   "source": [
    "mdf.dtypes"
   ]
  },
  {
   "cell_type": "code",
   "execution_count": 44,
   "id": "a1325a1a-e2bf-4371-a7c1-9e570ae97373",
   "metadata": {},
   "outputs": [
    {
     "name": "stderr",
     "output_type": "stream",
     "text": [
      "<ipython-input-44-aee43256b246>:1: FutureWarning: ['D'] did not aggregate successfully. If any error is raised this will raise in a future version of pandas. Drop these columns/ops to avoid this warning.\n",
      "  mdf.agg([\"min\", \"sum\"])\n"
     ]
    },
    {
     "data": {
      "text/html": [
       "<div>\n",
       "<style scoped>\n",
       "    .dataframe tbody tr th:only-of-type {\n",
       "        vertical-align: middle;\n",
       "    }\n",
       "\n",
       "    .dataframe tbody tr th {\n",
       "        vertical-align: top;\n",
       "    }\n",
       "\n",
       "    .dataframe thead th {\n",
       "        text-align: right;\n",
       "    }\n",
       "</style>\n",
       "<table border=\"1\" class=\"dataframe\">\n",
       "  <thead>\n",
       "    <tr style=\"text-align: right;\">\n",
       "      <th></th>\n",
       "      <th>A</th>\n",
       "      <th>B</th>\n",
       "      <th>C</th>\n",
       "      <th>D</th>\n",
       "    </tr>\n",
       "  </thead>\n",
       "  <tbody>\n",
       "    <tr>\n",
       "      <th>min</th>\n",
       "      <td>1</td>\n",
       "      <td>1.0</td>\n",
       "      <td>bar</td>\n",
       "      <td>2013-01-01</td>\n",
       "    </tr>\n",
       "    <tr>\n",
       "      <th>sum</th>\n",
       "      <td>6</td>\n",
       "      <td>6.0</td>\n",
       "      <td>foobarbaz</td>\n",
       "      <td>NaT</td>\n",
       "    </tr>\n",
       "  </tbody>\n",
       "</table>\n",
       "</div>"
      ],
      "text/plain": [
       "     A    B          C          D\n",
       "min  1  1.0        bar 2013-01-01\n",
       "sum  6  6.0  foobarbaz        NaT"
      ]
     },
     "execution_count": 44,
     "metadata": {},
     "output_type": "execute_result"
    }
   ],
   "source": [
    "mdf.agg([\"min\", \"sum\"])"
   ]
  },
  {
   "cell_type": "code",
   "execution_count": 45,
   "id": "f279f546-6b02-4658-8899-63d31a74479a",
   "metadata": {},
   "outputs": [
    {
     "data": {
      "text/html": [
       "<div>\n",
       "<style scoped>\n",
       "    .dataframe tbody tr th:only-of-type {\n",
       "        vertical-align: middle;\n",
       "    }\n",
       "\n",
       "    .dataframe tbody tr th {\n",
       "        vertical-align: top;\n",
       "    }\n",
       "\n",
       "    .dataframe thead th {\n",
       "        text-align: right;\n",
       "    }\n",
       "</style>\n",
       "<table border=\"1\" class=\"dataframe\">\n",
       "  <thead>\n",
       "    <tr style=\"text-align: right;\">\n",
       "      <th></th>\n",
       "      <th>A</th>\n",
       "      <th>B</th>\n",
       "      <th>C</th>\n",
       "    </tr>\n",
       "  </thead>\n",
       "  <tbody>\n",
       "    <tr>\n",
       "      <th>min</th>\n",
       "      <td>1</td>\n",
       "      <td>1.0</td>\n",
       "      <td>bar</td>\n",
       "    </tr>\n",
       "    <tr>\n",
       "      <th>sum</th>\n",
       "      <td>6</td>\n",
       "      <td>6.0</td>\n",
       "      <td>foobarbaz</td>\n",
       "    </tr>\n",
       "  </tbody>\n",
       "</table>\n",
       "</div>"
      ],
      "text/plain": [
       "     A    B          C\n",
       "min  1  1.0        bar\n",
       "sum  6  6.0  foobarbaz"
      ]
     },
     "execution_count": 45,
     "metadata": {},
     "output_type": "execute_result"
    }
   ],
   "source": [
    "mdf.drop('D', axis='columns').agg([\"min\", \"sum\"])"
   ]
  },
  {
   "cell_type": "markdown",
   "id": "26158a53-afd0-490c-8526-6c02d22e5fa5",
   "metadata": {},
   "source": [
    "<a class=\"anchor\" id=\"custom_describe\"></a>\n",
    "### Custom describe"
   ]
  },
  {
   "cell_type": "markdown",
   "id": "6c90ee93-34b3-490e-b170-acfcd5a6f28f",
   "metadata": {},
   "source": [
    "With `.agg()` it is possible to easily create a custom describe function, similar\n",
    "to the built in [describe function](#basics-describe)."
   ]
  },
  {
   "cell_type": "code",
   "execution_count": 46,
   "id": "decba05a-6cfd-429a-acf9-1826d3ecf479",
   "metadata": {},
   "outputs": [],
   "source": [
    "from functools import partial\n",
    "q_25 = partial(pd.Series.quantile, q=0.25)\n",
    "q_25.__name__ = \"25%\"\n",
    "q_75 = partial(pd.Series.quantile, q=0.75)\n",
    "q_75.__name__ = \"75%\""
   ]
  },
  {
   "cell_type": "code",
   "execution_count": 47,
   "id": "f74bb804-6f83-4a3f-8930-81e16d5ab47a",
   "metadata": {},
   "outputs": [
    {
     "data": {
      "text/html": [
       "<div>\n",
       "<style scoped>\n",
       "    .dataframe tbody tr th:only-of-type {\n",
       "        vertical-align: middle;\n",
       "    }\n",
       "\n",
       "    .dataframe tbody tr th {\n",
       "        vertical-align: top;\n",
       "    }\n",
       "\n",
       "    .dataframe thead th {\n",
       "        text-align: right;\n",
       "    }\n",
       "</style>\n",
       "<table border=\"1\" class=\"dataframe\">\n",
       "  <thead>\n",
       "    <tr style=\"text-align: right;\">\n",
       "      <th></th>\n",
       "      <th>A</th>\n",
       "      <th>B</th>\n",
       "      <th>C</th>\n",
       "    </tr>\n",
       "  </thead>\n",
       "  <tbody>\n",
       "    <tr>\n",
       "      <th>count</th>\n",
       "      <td>6.000000</td>\n",
       "      <td>6.000000</td>\n",
       "      <td>6.000000</td>\n",
       "    </tr>\n",
       "    <tr>\n",
       "      <th>mean</th>\n",
       "      <td>0.675152</td>\n",
       "      <td>0.213156</td>\n",
       "      <td>0.461898</td>\n",
       "    </tr>\n",
       "    <tr>\n",
       "      <th>std</th>\n",
       "      <td>0.812506</td>\n",
       "      <td>1.537987</td>\n",
       "      <td>1.596489</td>\n",
       "    </tr>\n",
       "    <tr>\n",
       "      <th>min</th>\n",
       "      <td>-0.708804</td>\n",
       "      <td>-1.873114</td>\n",
       "      <td>-1.551369</td>\n",
       "    </tr>\n",
       "    <tr>\n",
       "      <th>25%</th>\n",
       "      <td>0.388966</td>\n",
       "      <td>-0.814371</td>\n",
       "      <td>-0.454501</td>\n",
       "    </tr>\n",
       "    <tr>\n",
       "      <th>median</th>\n",
       "      <td>0.780202</td>\n",
       "      <td>0.449237</td>\n",
       "      <td>0.356020</td>\n",
       "    </tr>\n",
       "    <tr>\n",
       "      <th>75%</th>\n",
       "      <td>1.315614</td>\n",
       "      <td>0.942027</td>\n",
       "      <td>1.040548</td>\n",
       "    </tr>\n",
       "    <tr>\n",
       "      <th>max</th>\n",
       "      <td>1.446675</td>\n",
       "      <td>2.382862</td>\n",
       "      <td>3.066667</td>\n",
       "    </tr>\n",
       "  </tbody>\n",
       "</table>\n",
       "</div>"
      ],
      "text/plain": [
       "               A         B         C\n",
       "count   6.000000  6.000000  6.000000\n",
       "mean    0.675152  0.213156  0.461898\n",
       "std     0.812506  1.537987  1.596489\n",
       "min    -0.708804 -1.873114 -1.551369\n",
       "25%     0.388966 -0.814371 -0.454501\n",
       "median  0.780202  0.449237  0.356020\n",
       "75%     1.315614  0.942027  1.040548\n",
       "max     1.446675  2.382862  3.066667"
      ]
     },
     "execution_count": 47,
     "metadata": {},
     "output_type": "execute_result"
    }
   ],
   "source": [
    "tsdf.agg([\"count\", \"mean\", \"std\", \"min\", q_25, \"median\", q_75, \"max\"])"
   ]
  },
  {
   "cell_type": "markdown",
   "id": "24b091b6-2acd-43dc-8d40-4951575f4e64",
   "metadata": {},
   "source": [
    "<a class=\"anchor\" id=\"transform_api\"></a>\n",
    "## Transform API"
   ]
  },
  {
   "cell_type": "markdown",
   "id": "13f33db5-4bf7-42b7-9883-f676948436a5",
   "metadata": {},
   "source": [
    "The [`transform()`](../reference/api/pandas.DataFrame.transform.html#pandas.DataFrame.transform \"pandas.DataFrame.transform\") method returns an object that is indexed the same (same size)\n",
    "as the original. This API allows you to provide *multiple* operations at the same\n",
    "time rather than one-by-one. Its API is quite similar to the `.agg` API."
   ]
  },
  {
   "cell_type": "markdown",
   "id": "e967dc0b-1d76-48e1-b56d-0235978249ce",
   "metadata": {},
   "source": [
    "We create a frame similar to the one used in the above sections."
   ]
  },
  {
   "cell_type": "code",
   "execution_count": 48,
   "id": "0372c45d-6459-4b23-9c81-bc0ea93481e9",
   "metadata": {},
   "outputs": [
    {
     "data": {
      "text/html": [
       "<div>\n",
       "<style scoped>\n",
       "    .dataframe tbody tr th:only-of-type {\n",
       "        vertical-align: middle;\n",
       "    }\n",
       "\n",
       "    .dataframe tbody tr th {\n",
       "        vertical-align: top;\n",
       "    }\n",
       "\n",
       "    .dataframe thead th {\n",
       "        text-align: right;\n",
       "    }\n",
       "</style>\n",
       "<table border=\"1\" class=\"dataframe\">\n",
       "  <thead>\n",
       "    <tr style=\"text-align: right;\">\n",
       "      <th></th>\n",
       "      <th>A</th>\n",
       "      <th>B</th>\n",
       "      <th>C</th>\n",
       "    </tr>\n",
       "  </thead>\n",
       "  <tbody>\n",
       "    <tr>\n",
       "      <th>2000-01-01</th>\n",
       "      <td>-0.135252</td>\n",
       "      <td>0.174021</td>\n",
       "      <td>-1.235235</td>\n",
       "    </tr>\n",
       "    <tr>\n",
       "      <th>2000-01-02</th>\n",
       "      <td>0.780093</td>\n",
       "      <td>-1.399771</td>\n",
       "      <td>-0.667450</td>\n",
       "    </tr>\n",
       "    <tr>\n",
       "      <th>2000-01-03</th>\n",
       "      <td>0.088788</td>\n",
       "      <td>0.842491</td>\n",
       "      <td>0.156672</td>\n",
       "    </tr>\n",
       "    <tr>\n",
       "      <th>2000-01-04</th>\n",
       "      <td>NaN</td>\n",
       "      <td>NaN</td>\n",
       "      <td>NaN</td>\n",
       "    </tr>\n",
       "    <tr>\n",
       "      <th>2000-01-05</th>\n",
       "      <td>NaN</td>\n",
       "      <td>NaN</td>\n",
       "      <td>NaN</td>\n",
       "    </tr>\n",
       "    <tr>\n",
       "      <th>2000-01-06</th>\n",
       "      <td>NaN</td>\n",
       "      <td>NaN</td>\n",
       "      <td>NaN</td>\n",
       "    </tr>\n",
       "    <tr>\n",
       "      <th>2000-01-07</th>\n",
       "      <td>NaN</td>\n",
       "      <td>NaN</td>\n",
       "      <td>NaN</td>\n",
       "    </tr>\n",
       "    <tr>\n",
       "      <th>2000-01-08</th>\n",
       "      <td>0.601409</td>\n",
       "      <td>-1.105925</td>\n",
       "      <td>-0.211198</td>\n",
       "    </tr>\n",
       "    <tr>\n",
       "      <th>2000-01-09</th>\n",
       "      <td>-0.781389</td>\n",
       "      <td>-0.520562</td>\n",
       "      <td>-0.396363</td>\n",
       "    </tr>\n",
       "    <tr>\n",
       "      <th>2000-01-10</th>\n",
       "      <td>-1.046941</td>\n",
       "      <td>0.857704</td>\n",
       "      <td>-0.510821</td>\n",
       "    </tr>\n",
       "  </tbody>\n",
       "</table>\n",
       "</div>"
      ],
      "text/plain": [
       "                   A         B         C\n",
       "2000-01-01 -0.135252  0.174021 -1.235235\n",
       "2000-01-02  0.780093 -1.399771 -0.667450\n",
       "2000-01-03  0.088788  0.842491  0.156672\n",
       "2000-01-04       NaN       NaN       NaN\n",
       "2000-01-05       NaN       NaN       NaN\n",
       "2000-01-06       NaN       NaN       NaN\n",
       "2000-01-07       NaN       NaN       NaN\n",
       "2000-01-08  0.601409 -1.105925 -0.211198\n",
       "2000-01-09 -0.781389 -0.520562 -0.396363\n",
       "2000-01-10 -1.046941  0.857704 -0.510821"
      ]
     },
     "execution_count": 48,
     "metadata": {},
     "output_type": "execute_result"
    }
   ],
   "source": [
    "tsdf = pd.DataFrame(\n",
    "    np.random.randn(10, 3),\n",
    "    columns=[\"A\", \"B\", \"C\"],\n",
    "    index=pd.date_range(\"1/1/2000\", periods=10),\n",
    ")\n",
    "\n",
    "tsdf.iloc[3:7] = np.nan\n",
    "tsdf"
   ]
  },
  {
   "cell_type": "markdown",
   "id": "92b36eda-ce20-4a19-9d57-2d64a8b727bc",
   "metadata": {},
   "source": [
    "Transform the entire frame. `.transform()` allows input functions as: a NumPy function, a string\n",
    "function name or a user defined function."
   ]
  },
  {
   "cell_type": "code",
   "execution_count": 49,
   "id": "7267eb35-d664-413f-ab86-f9720fc8e652",
   "metadata": {},
   "outputs": [
    {
     "data": {
      "text/html": [
       "<div>\n",
       "<style scoped>\n",
       "    .dataframe tbody tr th:only-of-type {\n",
       "        vertical-align: middle;\n",
       "    }\n",
       "\n",
       "    .dataframe tbody tr th {\n",
       "        vertical-align: top;\n",
       "    }\n",
       "\n",
       "    .dataframe thead th {\n",
       "        text-align: right;\n",
       "    }\n",
       "</style>\n",
       "<table border=\"1\" class=\"dataframe\">\n",
       "  <thead>\n",
       "    <tr style=\"text-align: right;\">\n",
       "      <th></th>\n",
       "      <th>A</th>\n",
       "      <th>B</th>\n",
       "      <th>C</th>\n",
       "    </tr>\n",
       "  </thead>\n",
       "  <tbody>\n",
       "    <tr>\n",
       "      <th>2000-01-01</th>\n",
       "      <td>0.135252</td>\n",
       "      <td>0.174021</td>\n",
       "      <td>1.235235</td>\n",
       "    </tr>\n",
       "    <tr>\n",
       "      <th>2000-01-02</th>\n",
       "      <td>0.780093</td>\n",
       "      <td>1.399771</td>\n",
       "      <td>0.667450</td>\n",
       "    </tr>\n",
       "    <tr>\n",
       "      <th>2000-01-03</th>\n",
       "      <td>0.088788</td>\n",
       "      <td>0.842491</td>\n",
       "      <td>0.156672</td>\n",
       "    </tr>\n",
       "    <tr>\n",
       "      <th>2000-01-04</th>\n",
       "      <td>NaN</td>\n",
       "      <td>NaN</td>\n",
       "      <td>NaN</td>\n",
       "    </tr>\n",
       "    <tr>\n",
       "      <th>2000-01-05</th>\n",
       "      <td>NaN</td>\n",
       "      <td>NaN</td>\n",
       "      <td>NaN</td>\n",
       "    </tr>\n",
       "    <tr>\n",
       "      <th>2000-01-06</th>\n",
       "      <td>NaN</td>\n",
       "      <td>NaN</td>\n",
       "      <td>NaN</td>\n",
       "    </tr>\n",
       "    <tr>\n",
       "      <th>2000-01-07</th>\n",
       "      <td>NaN</td>\n",
       "      <td>NaN</td>\n",
       "      <td>NaN</td>\n",
       "    </tr>\n",
       "    <tr>\n",
       "      <th>2000-01-08</th>\n",
       "      <td>0.601409</td>\n",
       "      <td>1.105925</td>\n",
       "      <td>0.211198</td>\n",
       "    </tr>\n",
       "    <tr>\n",
       "      <th>2000-01-09</th>\n",
       "      <td>0.781389</td>\n",
       "      <td>0.520562</td>\n",
       "      <td>0.396363</td>\n",
       "    </tr>\n",
       "    <tr>\n",
       "      <th>2000-01-10</th>\n",
       "      <td>1.046941</td>\n",
       "      <td>0.857704</td>\n",
       "      <td>0.510821</td>\n",
       "    </tr>\n",
       "  </tbody>\n",
       "</table>\n",
       "</div>"
      ],
      "text/plain": [
       "                   A         B         C\n",
       "2000-01-01  0.135252  0.174021  1.235235\n",
       "2000-01-02  0.780093  1.399771  0.667450\n",
       "2000-01-03  0.088788  0.842491  0.156672\n",
       "2000-01-04       NaN       NaN       NaN\n",
       "2000-01-05       NaN       NaN       NaN\n",
       "2000-01-06       NaN       NaN       NaN\n",
       "2000-01-07       NaN       NaN       NaN\n",
       "2000-01-08  0.601409  1.105925  0.211198\n",
       "2000-01-09  0.781389  0.520562  0.396363\n",
       "2000-01-10  1.046941  0.857704  0.510821"
      ]
     },
     "execution_count": 49,
     "metadata": {},
     "output_type": "execute_result"
    }
   ],
   "source": [
    "tsdf.transform(np.abs)"
   ]
  },
  {
   "cell_type": "code",
   "execution_count": 50,
   "id": "020f89f3-afe1-4340-a67f-a19590e875a4",
   "metadata": {},
   "outputs": [
    {
     "data": {
      "text/html": [
       "<div>\n",
       "<style scoped>\n",
       "    .dataframe tbody tr th:only-of-type {\n",
       "        vertical-align: middle;\n",
       "    }\n",
       "\n",
       "    .dataframe tbody tr th {\n",
       "        vertical-align: top;\n",
       "    }\n",
       "\n",
       "    .dataframe thead th {\n",
       "        text-align: right;\n",
       "    }\n",
       "</style>\n",
       "<table border=\"1\" class=\"dataframe\">\n",
       "  <thead>\n",
       "    <tr style=\"text-align: right;\">\n",
       "      <th></th>\n",
       "      <th>A</th>\n",
       "      <th>B</th>\n",
       "      <th>C</th>\n",
       "    </tr>\n",
       "  </thead>\n",
       "  <tbody>\n",
       "    <tr>\n",
       "      <th>2000-01-01</th>\n",
       "      <td>0.135252</td>\n",
       "      <td>0.174021</td>\n",
       "      <td>1.235235</td>\n",
       "    </tr>\n",
       "    <tr>\n",
       "      <th>2000-01-02</th>\n",
       "      <td>0.780093</td>\n",
       "      <td>1.399771</td>\n",
       "      <td>0.667450</td>\n",
       "    </tr>\n",
       "    <tr>\n",
       "      <th>2000-01-03</th>\n",
       "      <td>0.088788</td>\n",
       "      <td>0.842491</td>\n",
       "      <td>0.156672</td>\n",
       "    </tr>\n",
       "    <tr>\n",
       "      <th>2000-01-04</th>\n",
       "      <td>NaN</td>\n",
       "      <td>NaN</td>\n",
       "      <td>NaN</td>\n",
       "    </tr>\n",
       "    <tr>\n",
       "      <th>2000-01-05</th>\n",
       "      <td>NaN</td>\n",
       "      <td>NaN</td>\n",
       "      <td>NaN</td>\n",
       "    </tr>\n",
       "    <tr>\n",
       "      <th>2000-01-06</th>\n",
       "      <td>NaN</td>\n",
       "      <td>NaN</td>\n",
       "      <td>NaN</td>\n",
       "    </tr>\n",
       "    <tr>\n",
       "      <th>2000-01-07</th>\n",
       "      <td>NaN</td>\n",
       "      <td>NaN</td>\n",
       "      <td>NaN</td>\n",
       "    </tr>\n",
       "    <tr>\n",
       "      <th>2000-01-08</th>\n",
       "      <td>0.601409</td>\n",
       "      <td>1.105925</td>\n",
       "      <td>0.211198</td>\n",
       "    </tr>\n",
       "    <tr>\n",
       "      <th>2000-01-09</th>\n",
       "      <td>0.781389</td>\n",
       "      <td>0.520562</td>\n",
       "      <td>0.396363</td>\n",
       "    </tr>\n",
       "    <tr>\n",
       "      <th>2000-01-10</th>\n",
       "      <td>1.046941</td>\n",
       "      <td>0.857704</td>\n",
       "      <td>0.510821</td>\n",
       "    </tr>\n",
       "  </tbody>\n",
       "</table>\n",
       "</div>"
      ],
      "text/plain": [
       "                   A         B         C\n",
       "2000-01-01  0.135252  0.174021  1.235235\n",
       "2000-01-02  0.780093  1.399771  0.667450\n",
       "2000-01-03  0.088788  0.842491  0.156672\n",
       "2000-01-04       NaN       NaN       NaN\n",
       "2000-01-05       NaN       NaN       NaN\n",
       "2000-01-06       NaN       NaN       NaN\n",
       "2000-01-07       NaN       NaN       NaN\n",
       "2000-01-08  0.601409  1.105925  0.211198\n",
       "2000-01-09  0.781389  0.520562  0.396363\n",
       "2000-01-10  1.046941  0.857704  0.510821"
      ]
     },
     "execution_count": 50,
     "metadata": {},
     "output_type": "execute_result"
    }
   ],
   "source": [
    "tsdf.transform(\"abs\")"
   ]
  },
  {
   "cell_type": "code",
   "execution_count": 51,
   "id": "d518f26a-5e98-42fb-a060-a645a9235fff",
   "metadata": {},
   "outputs": [
    {
     "data": {
      "text/html": [
       "<div>\n",
       "<style scoped>\n",
       "    .dataframe tbody tr th:only-of-type {\n",
       "        vertical-align: middle;\n",
       "    }\n",
       "\n",
       "    .dataframe tbody tr th {\n",
       "        vertical-align: top;\n",
       "    }\n",
       "\n",
       "    .dataframe thead th {\n",
       "        text-align: right;\n",
       "    }\n",
       "</style>\n",
       "<table border=\"1\" class=\"dataframe\">\n",
       "  <thead>\n",
       "    <tr style=\"text-align: right;\">\n",
       "      <th></th>\n",
       "      <th>A</th>\n",
       "      <th>B</th>\n",
       "      <th>C</th>\n",
       "    </tr>\n",
       "  </thead>\n",
       "  <tbody>\n",
       "    <tr>\n",
       "      <th>2000-01-01</th>\n",
       "      <td>0.135252</td>\n",
       "      <td>0.174021</td>\n",
       "      <td>1.235235</td>\n",
       "    </tr>\n",
       "    <tr>\n",
       "      <th>2000-01-02</th>\n",
       "      <td>0.780093</td>\n",
       "      <td>1.399771</td>\n",
       "      <td>0.667450</td>\n",
       "    </tr>\n",
       "    <tr>\n",
       "      <th>2000-01-03</th>\n",
       "      <td>0.088788</td>\n",
       "      <td>0.842491</td>\n",
       "      <td>0.156672</td>\n",
       "    </tr>\n",
       "    <tr>\n",
       "      <th>2000-01-04</th>\n",
       "      <td>NaN</td>\n",
       "      <td>NaN</td>\n",
       "      <td>NaN</td>\n",
       "    </tr>\n",
       "    <tr>\n",
       "      <th>2000-01-05</th>\n",
       "      <td>NaN</td>\n",
       "      <td>NaN</td>\n",
       "      <td>NaN</td>\n",
       "    </tr>\n",
       "    <tr>\n",
       "      <th>2000-01-06</th>\n",
       "      <td>NaN</td>\n",
       "      <td>NaN</td>\n",
       "      <td>NaN</td>\n",
       "    </tr>\n",
       "    <tr>\n",
       "      <th>2000-01-07</th>\n",
       "      <td>NaN</td>\n",
       "      <td>NaN</td>\n",
       "      <td>NaN</td>\n",
       "    </tr>\n",
       "    <tr>\n",
       "      <th>2000-01-08</th>\n",
       "      <td>0.601409</td>\n",
       "      <td>1.105925</td>\n",
       "      <td>0.211198</td>\n",
       "    </tr>\n",
       "    <tr>\n",
       "      <th>2000-01-09</th>\n",
       "      <td>0.781389</td>\n",
       "      <td>0.520562</td>\n",
       "      <td>0.396363</td>\n",
       "    </tr>\n",
       "    <tr>\n",
       "      <th>2000-01-10</th>\n",
       "      <td>1.046941</td>\n",
       "      <td>0.857704</td>\n",
       "      <td>0.510821</td>\n",
       "    </tr>\n",
       "  </tbody>\n",
       "</table>\n",
       "</div>"
      ],
      "text/plain": [
       "                   A         B         C\n",
       "2000-01-01  0.135252  0.174021  1.235235\n",
       "2000-01-02  0.780093  1.399771  0.667450\n",
       "2000-01-03  0.088788  0.842491  0.156672\n",
       "2000-01-04       NaN       NaN       NaN\n",
       "2000-01-05       NaN       NaN       NaN\n",
       "2000-01-06       NaN       NaN       NaN\n",
       "2000-01-07       NaN       NaN       NaN\n",
       "2000-01-08  0.601409  1.105925  0.211198\n",
       "2000-01-09  0.781389  0.520562  0.396363\n",
       "2000-01-10  1.046941  0.857704  0.510821"
      ]
     },
     "execution_count": 51,
     "metadata": {},
     "output_type": "execute_result"
    }
   ],
   "source": [
    "tsdf.transform(lambda x: x.abs())"
   ]
  },
  {
   "cell_type": "markdown",
   "id": "7676bf2c-d44f-44d4-9d79-65cff979cbf1",
   "metadata": {},
   "source": [
    "Here [`transform()`](../reference/api/pandas.DataFrame.transform.html#pandas.DataFrame.transform \"pandas.DataFrame.transform\") received a single function; this is equivalent to a [ufunc](https://numpy.org/doc/stable/reference/ufuncs.html) application."
   ]
  },
  {
   "cell_type": "code",
   "execution_count": 52,
   "id": "6e998b12-fa32-477b-839e-c35fc359d721",
   "metadata": {},
   "outputs": [
    {
     "data": {
      "text/html": [
       "<div>\n",
       "<style scoped>\n",
       "    .dataframe tbody tr th:only-of-type {\n",
       "        vertical-align: middle;\n",
       "    }\n",
       "\n",
       "    .dataframe tbody tr th {\n",
       "        vertical-align: top;\n",
       "    }\n",
       "\n",
       "    .dataframe thead th {\n",
       "        text-align: right;\n",
       "    }\n",
       "</style>\n",
       "<table border=\"1\" class=\"dataframe\">\n",
       "  <thead>\n",
       "    <tr style=\"text-align: right;\">\n",
       "      <th></th>\n",
       "      <th>A</th>\n",
       "      <th>B</th>\n",
       "      <th>C</th>\n",
       "    </tr>\n",
       "  </thead>\n",
       "  <tbody>\n",
       "    <tr>\n",
       "      <th>2000-01-01</th>\n",
       "      <td>0.135252</td>\n",
       "      <td>0.174021</td>\n",
       "      <td>1.235235</td>\n",
       "    </tr>\n",
       "    <tr>\n",
       "      <th>2000-01-02</th>\n",
       "      <td>0.780093</td>\n",
       "      <td>1.399771</td>\n",
       "      <td>0.667450</td>\n",
       "    </tr>\n",
       "    <tr>\n",
       "      <th>2000-01-03</th>\n",
       "      <td>0.088788</td>\n",
       "      <td>0.842491</td>\n",
       "      <td>0.156672</td>\n",
       "    </tr>\n",
       "    <tr>\n",
       "      <th>2000-01-04</th>\n",
       "      <td>NaN</td>\n",
       "      <td>NaN</td>\n",
       "      <td>NaN</td>\n",
       "    </tr>\n",
       "    <tr>\n",
       "      <th>2000-01-05</th>\n",
       "      <td>NaN</td>\n",
       "      <td>NaN</td>\n",
       "      <td>NaN</td>\n",
       "    </tr>\n",
       "    <tr>\n",
       "      <th>2000-01-06</th>\n",
       "      <td>NaN</td>\n",
       "      <td>NaN</td>\n",
       "      <td>NaN</td>\n",
       "    </tr>\n",
       "    <tr>\n",
       "      <th>2000-01-07</th>\n",
       "      <td>NaN</td>\n",
       "      <td>NaN</td>\n",
       "      <td>NaN</td>\n",
       "    </tr>\n",
       "    <tr>\n",
       "      <th>2000-01-08</th>\n",
       "      <td>0.601409</td>\n",
       "      <td>1.105925</td>\n",
       "      <td>0.211198</td>\n",
       "    </tr>\n",
       "    <tr>\n",
       "      <th>2000-01-09</th>\n",
       "      <td>0.781389</td>\n",
       "      <td>0.520562</td>\n",
       "      <td>0.396363</td>\n",
       "    </tr>\n",
       "    <tr>\n",
       "      <th>2000-01-10</th>\n",
       "      <td>1.046941</td>\n",
       "      <td>0.857704</td>\n",
       "      <td>0.510821</td>\n",
       "    </tr>\n",
       "  </tbody>\n",
       "</table>\n",
       "</div>"
      ],
      "text/plain": [
       "                   A         B         C\n",
       "2000-01-01  0.135252  0.174021  1.235235\n",
       "2000-01-02  0.780093  1.399771  0.667450\n",
       "2000-01-03  0.088788  0.842491  0.156672\n",
       "2000-01-04       NaN       NaN       NaN\n",
       "2000-01-05       NaN       NaN       NaN\n",
       "2000-01-06       NaN       NaN       NaN\n",
       "2000-01-07       NaN       NaN       NaN\n",
       "2000-01-08  0.601409  1.105925  0.211198\n",
       "2000-01-09  0.781389  0.520562  0.396363\n",
       "2000-01-10  1.046941  0.857704  0.510821"
      ]
     },
     "execution_count": 52,
     "metadata": {},
     "output_type": "execute_result"
    }
   ],
   "source": [
    "np.abs(tsdf)"
   ]
  },
  {
   "cell_type": "markdown",
   "id": "a823d933-e315-4937-87d4-6a455daa329a",
   "metadata": {},
   "source": [
    "Passing a single function to `.transform()` with a `Series` will yield a single `Series` in return."
   ]
  },
  {
   "cell_type": "code",
   "execution_count": 53,
   "id": "a78e1da4-bbaa-43cf-b299-e0d894aa17c9",
   "metadata": {},
   "outputs": [
    {
     "data": {
      "text/plain": [
       "2000-01-01    0.135252\n",
       "2000-01-02    0.780093\n",
       "2000-01-03    0.088788\n",
       "2000-01-04         NaN\n",
       "2000-01-05         NaN\n",
       "2000-01-06         NaN\n",
       "2000-01-07         NaN\n",
       "2000-01-08    0.601409\n",
       "2000-01-09    0.781389\n",
       "2000-01-10    1.046941\n",
       "Freq: D, Name: A, dtype: float64"
      ]
     },
     "execution_count": 53,
     "metadata": {},
     "output_type": "execute_result"
    }
   ],
   "source": [
    "tsdf[\"A\"].transform(np.abs)"
   ]
  },
  {
   "cell_type": "markdown",
   "id": "2a358836-e937-4661-a5e2-094bfe264eed",
   "metadata": {},
   "source": [
    "<a class=\"anchor\" id=\"transform_with_multiple_functions\"></a>\n",
    "### Transform with multiple functions"
   ]
  },
  {
   "cell_type": "markdown",
   "id": "93093023-b2be-41a9-8144-5f0884a13d07",
   "metadata": {},
   "source": [
    "Passing multiple functions will yield a column MultiIndexed DataFrame.\n",
    "The first level will be the original frame column names; the second level\n",
    "will be the names of the transforming functions."
   ]
  },
  {
   "cell_type": "code",
   "execution_count": 54,
   "id": "541b4c7d-c408-448b-a616-8007e1fcc709",
   "metadata": {},
   "outputs": [
    {
     "data": {
      "text/html": [
       "<div>\n",
       "<style scoped>\n",
       "    .dataframe tbody tr th:only-of-type {\n",
       "        vertical-align: middle;\n",
       "    }\n",
       "\n",
       "    .dataframe tbody tr th {\n",
       "        vertical-align: top;\n",
       "    }\n",
       "\n",
       "    .dataframe thead tr th {\n",
       "        text-align: left;\n",
       "    }\n",
       "</style>\n",
       "<table border=\"1\" class=\"dataframe\">\n",
       "  <thead>\n",
       "    <tr>\n",
       "      <th></th>\n",
       "      <th colspan=\"2\" halign=\"left\">A</th>\n",
       "      <th colspan=\"2\" halign=\"left\">B</th>\n",
       "      <th colspan=\"2\" halign=\"left\">C</th>\n",
       "    </tr>\n",
       "    <tr>\n",
       "      <th></th>\n",
       "      <th>absolute</th>\n",
       "      <th>&lt;lambda&gt;</th>\n",
       "      <th>absolute</th>\n",
       "      <th>&lt;lambda&gt;</th>\n",
       "      <th>absolute</th>\n",
       "      <th>&lt;lambda&gt;</th>\n",
       "    </tr>\n",
       "  </thead>\n",
       "  <tbody>\n",
       "    <tr>\n",
       "      <th>2000-01-01</th>\n",
       "      <td>0.135252</td>\n",
       "      <td>0.864748</td>\n",
       "      <td>0.174021</td>\n",
       "      <td>1.174021</td>\n",
       "      <td>1.235235</td>\n",
       "      <td>-0.235235</td>\n",
       "    </tr>\n",
       "    <tr>\n",
       "      <th>2000-01-02</th>\n",
       "      <td>0.780093</td>\n",
       "      <td>1.780093</td>\n",
       "      <td>1.399771</td>\n",
       "      <td>-0.399771</td>\n",
       "      <td>0.667450</td>\n",
       "      <td>0.332550</td>\n",
       "    </tr>\n",
       "    <tr>\n",
       "      <th>2000-01-03</th>\n",
       "      <td>0.088788</td>\n",
       "      <td>1.088788</td>\n",
       "      <td>0.842491</td>\n",
       "      <td>1.842491</td>\n",
       "      <td>0.156672</td>\n",
       "      <td>1.156672</td>\n",
       "    </tr>\n",
       "    <tr>\n",
       "      <th>2000-01-04</th>\n",
       "      <td>NaN</td>\n",
       "      <td>NaN</td>\n",
       "      <td>NaN</td>\n",
       "      <td>NaN</td>\n",
       "      <td>NaN</td>\n",
       "      <td>NaN</td>\n",
       "    </tr>\n",
       "    <tr>\n",
       "      <th>2000-01-05</th>\n",
       "      <td>NaN</td>\n",
       "      <td>NaN</td>\n",
       "      <td>NaN</td>\n",
       "      <td>NaN</td>\n",
       "      <td>NaN</td>\n",
       "      <td>NaN</td>\n",
       "    </tr>\n",
       "    <tr>\n",
       "      <th>2000-01-06</th>\n",
       "      <td>NaN</td>\n",
       "      <td>NaN</td>\n",
       "      <td>NaN</td>\n",
       "      <td>NaN</td>\n",
       "      <td>NaN</td>\n",
       "      <td>NaN</td>\n",
       "    </tr>\n",
       "    <tr>\n",
       "      <th>2000-01-07</th>\n",
       "      <td>NaN</td>\n",
       "      <td>NaN</td>\n",
       "      <td>NaN</td>\n",
       "      <td>NaN</td>\n",
       "      <td>NaN</td>\n",
       "      <td>NaN</td>\n",
       "    </tr>\n",
       "    <tr>\n",
       "      <th>2000-01-08</th>\n",
       "      <td>0.601409</td>\n",
       "      <td>1.601409</td>\n",
       "      <td>1.105925</td>\n",
       "      <td>-0.105925</td>\n",
       "      <td>0.211198</td>\n",
       "      <td>0.788802</td>\n",
       "    </tr>\n",
       "    <tr>\n",
       "      <th>2000-01-09</th>\n",
       "      <td>0.781389</td>\n",
       "      <td>0.218611</td>\n",
       "      <td>0.520562</td>\n",
       "      <td>0.479438</td>\n",
       "      <td>0.396363</td>\n",
       "      <td>0.603637</td>\n",
       "    </tr>\n",
       "    <tr>\n",
       "      <th>2000-01-10</th>\n",
       "      <td>1.046941</td>\n",
       "      <td>-0.046941</td>\n",
       "      <td>0.857704</td>\n",
       "      <td>1.857704</td>\n",
       "      <td>0.510821</td>\n",
       "      <td>0.489179</td>\n",
       "    </tr>\n",
       "  </tbody>\n",
       "</table>\n",
       "</div>"
      ],
      "text/plain": [
       "                   A                   B                   C          \n",
       "            absolute  <lambda>  absolute  <lambda>  absolute  <lambda>\n",
       "2000-01-01  0.135252  0.864748  0.174021  1.174021  1.235235 -0.235235\n",
       "2000-01-02  0.780093  1.780093  1.399771 -0.399771  0.667450  0.332550\n",
       "2000-01-03  0.088788  1.088788  0.842491  1.842491  0.156672  1.156672\n",
       "2000-01-04       NaN       NaN       NaN       NaN       NaN       NaN\n",
       "2000-01-05       NaN       NaN       NaN       NaN       NaN       NaN\n",
       "2000-01-06       NaN       NaN       NaN       NaN       NaN       NaN\n",
       "2000-01-07       NaN       NaN       NaN       NaN       NaN       NaN\n",
       "2000-01-08  0.601409  1.601409  1.105925 -0.105925  0.211198  0.788802\n",
       "2000-01-09  0.781389  0.218611  0.520562  0.479438  0.396363  0.603637\n",
       "2000-01-10  1.046941 -0.046941  0.857704  1.857704  0.510821  0.489179"
      ]
     },
     "execution_count": 54,
     "metadata": {},
     "output_type": "execute_result"
    }
   ],
   "source": [
    "tsdf.transform([np.abs, lambda x: x + 1])"
   ]
  },
  {
   "cell_type": "markdown",
   "id": "c616f7b8-715c-4df3-a213-dcc89985a66a",
   "metadata": {},
   "source": [
    "Passing multiple functions to a Series will yield a DataFrame. The\n",
    "resulting column names will be the transforming functions."
   ]
  },
  {
   "cell_type": "code",
   "execution_count": 55,
   "id": "eb965283-9c3f-48b7-9412-81a4766ccb09",
   "metadata": {},
   "outputs": [
    {
     "data": {
      "text/html": [
       "<div>\n",
       "<style scoped>\n",
       "    .dataframe tbody tr th:only-of-type {\n",
       "        vertical-align: middle;\n",
       "    }\n",
       "\n",
       "    .dataframe tbody tr th {\n",
       "        vertical-align: top;\n",
       "    }\n",
       "\n",
       "    .dataframe thead th {\n",
       "        text-align: right;\n",
       "    }\n",
       "</style>\n",
       "<table border=\"1\" class=\"dataframe\">\n",
       "  <thead>\n",
       "    <tr style=\"text-align: right;\">\n",
       "      <th></th>\n",
       "      <th>absolute</th>\n",
       "      <th>&lt;lambda&gt;</th>\n",
       "    </tr>\n",
       "  </thead>\n",
       "  <tbody>\n",
       "    <tr>\n",
       "      <th>2000-01-01</th>\n",
       "      <td>0.135252</td>\n",
       "      <td>0.864748</td>\n",
       "    </tr>\n",
       "    <tr>\n",
       "      <th>2000-01-02</th>\n",
       "      <td>0.780093</td>\n",
       "      <td>1.780093</td>\n",
       "    </tr>\n",
       "    <tr>\n",
       "      <th>2000-01-03</th>\n",
       "      <td>0.088788</td>\n",
       "      <td>1.088788</td>\n",
       "    </tr>\n",
       "    <tr>\n",
       "      <th>2000-01-04</th>\n",
       "      <td>NaN</td>\n",
       "      <td>NaN</td>\n",
       "    </tr>\n",
       "    <tr>\n",
       "      <th>2000-01-05</th>\n",
       "      <td>NaN</td>\n",
       "      <td>NaN</td>\n",
       "    </tr>\n",
       "    <tr>\n",
       "      <th>2000-01-06</th>\n",
       "      <td>NaN</td>\n",
       "      <td>NaN</td>\n",
       "    </tr>\n",
       "    <tr>\n",
       "      <th>2000-01-07</th>\n",
       "      <td>NaN</td>\n",
       "      <td>NaN</td>\n",
       "    </tr>\n",
       "    <tr>\n",
       "      <th>2000-01-08</th>\n",
       "      <td>0.601409</td>\n",
       "      <td>1.601409</td>\n",
       "    </tr>\n",
       "    <tr>\n",
       "      <th>2000-01-09</th>\n",
       "      <td>0.781389</td>\n",
       "      <td>0.218611</td>\n",
       "    </tr>\n",
       "    <tr>\n",
       "      <th>2000-01-10</th>\n",
       "      <td>1.046941</td>\n",
       "      <td>-0.046941</td>\n",
       "    </tr>\n",
       "  </tbody>\n",
       "</table>\n",
       "</div>"
      ],
      "text/plain": [
       "            absolute  <lambda>\n",
       "2000-01-01  0.135252  0.864748\n",
       "2000-01-02  0.780093  1.780093\n",
       "2000-01-03  0.088788  1.088788\n",
       "2000-01-04       NaN       NaN\n",
       "2000-01-05       NaN       NaN\n",
       "2000-01-06       NaN       NaN\n",
       "2000-01-07       NaN       NaN\n",
       "2000-01-08  0.601409  1.601409\n",
       "2000-01-09  0.781389  0.218611\n",
       "2000-01-10  1.046941 -0.046941"
      ]
     },
     "execution_count": 55,
     "metadata": {},
     "output_type": "execute_result"
    }
   ],
   "source": [
    "tsdf[\"A\"].transform([np.abs, lambda x: x + 1])"
   ]
  },
  {
   "cell_type": "markdown",
   "id": "ae72d32f-0683-4441-8776-71313102fff3",
   "metadata": {},
   "source": [
    "<a class=\"anchor\" id=\"transforming_with_a_dict\"></a>\n",
    "### Transforming with a dict"
   ]
  },
  {
   "cell_type": "markdown",
   "id": "64d77fbd-ffa9-40d8-98bf-80e8d4902264",
   "metadata": {},
   "source": [
    "Passing a dict of functions will allow selective transforming per column."
   ]
  },
  {
   "cell_type": "code",
   "execution_count": 56,
   "id": "7130a735-18fe-410d-9195-6da3b5c28639",
   "metadata": {},
   "outputs": [
    {
     "data": {
      "text/html": [
       "<div>\n",
       "<style scoped>\n",
       "    .dataframe tbody tr th:only-of-type {\n",
       "        vertical-align: middle;\n",
       "    }\n",
       "\n",
       "    .dataframe tbody tr th {\n",
       "        vertical-align: top;\n",
       "    }\n",
       "\n",
       "    .dataframe thead th {\n",
       "        text-align: right;\n",
       "    }\n",
       "</style>\n",
       "<table border=\"1\" class=\"dataframe\">\n",
       "  <thead>\n",
       "    <tr style=\"text-align: right;\">\n",
       "      <th></th>\n",
       "      <th>A</th>\n",
       "      <th>B</th>\n",
       "    </tr>\n",
       "  </thead>\n",
       "  <tbody>\n",
       "    <tr>\n",
       "      <th>2000-01-01</th>\n",
       "      <td>0.135252</td>\n",
       "      <td>1.174021</td>\n",
       "    </tr>\n",
       "    <tr>\n",
       "      <th>2000-01-02</th>\n",
       "      <td>0.780093</td>\n",
       "      <td>-0.399771</td>\n",
       "    </tr>\n",
       "    <tr>\n",
       "      <th>2000-01-03</th>\n",
       "      <td>0.088788</td>\n",
       "      <td>1.842491</td>\n",
       "    </tr>\n",
       "    <tr>\n",
       "      <th>2000-01-04</th>\n",
       "      <td>NaN</td>\n",
       "      <td>NaN</td>\n",
       "    </tr>\n",
       "    <tr>\n",
       "      <th>2000-01-05</th>\n",
       "      <td>NaN</td>\n",
       "      <td>NaN</td>\n",
       "    </tr>\n",
       "    <tr>\n",
       "      <th>2000-01-06</th>\n",
       "      <td>NaN</td>\n",
       "      <td>NaN</td>\n",
       "    </tr>\n",
       "    <tr>\n",
       "      <th>2000-01-07</th>\n",
       "      <td>NaN</td>\n",
       "      <td>NaN</td>\n",
       "    </tr>\n",
       "    <tr>\n",
       "      <th>2000-01-08</th>\n",
       "      <td>0.601409</td>\n",
       "      <td>-0.105925</td>\n",
       "    </tr>\n",
       "    <tr>\n",
       "      <th>2000-01-09</th>\n",
       "      <td>0.781389</td>\n",
       "      <td>0.479438</td>\n",
       "    </tr>\n",
       "    <tr>\n",
       "      <th>2000-01-10</th>\n",
       "      <td>1.046941</td>\n",
       "      <td>1.857704</td>\n",
       "    </tr>\n",
       "  </tbody>\n",
       "</table>\n",
       "</div>"
      ],
      "text/plain": [
       "                   A         B\n",
       "2000-01-01  0.135252  1.174021\n",
       "2000-01-02  0.780093 -0.399771\n",
       "2000-01-03  0.088788  1.842491\n",
       "2000-01-04       NaN       NaN\n",
       "2000-01-05       NaN       NaN\n",
       "2000-01-06       NaN       NaN\n",
       "2000-01-07       NaN       NaN\n",
       "2000-01-08  0.601409 -0.105925\n",
       "2000-01-09  0.781389  0.479438\n",
       "2000-01-10  1.046941  1.857704"
      ]
     },
     "execution_count": 56,
     "metadata": {},
     "output_type": "execute_result"
    }
   ],
   "source": [
    "tsdf.transform({\"A\": np.abs, \"B\": lambda x: x + 1})"
   ]
  },
  {
   "cell_type": "markdown",
   "id": "8790edb8-d896-44dc-9752-ecec36cff112",
   "metadata": {},
   "source": [
    "Passing a dict of lists will generate a MultiIndexed DataFrame with these\n",
    "selective transforms."
   ]
  },
  {
   "cell_type": "code",
   "execution_count": 57,
   "id": "93d037d0-75dc-407a-a5bc-7e91caebe79e",
   "metadata": {},
   "outputs": [
    {
     "name": "stderr",
     "output_type": "stream",
     "text": [
      "/Users/ali/opt/anaconda3/envs/py38/lib/python3.8/site-packages/pandas/core/arraylike.py:397: RuntimeWarning: invalid value encountered in sqrt\n",
      "  result = getattr(ufunc, method)(*inputs, **kwargs)\n"
     ]
    },
    {
     "data": {
      "text/html": [
       "<div>\n",
       "<style scoped>\n",
       "    .dataframe tbody tr th:only-of-type {\n",
       "        vertical-align: middle;\n",
       "    }\n",
       "\n",
       "    .dataframe tbody tr th {\n",
       "        vertical-align: top;\n",
       "    }\n",
       "\n",
       "    .dataframe thead tr th {\n",
       "        text-align: left;\n",
       "    }\n",
       "</style>\n",
       "<table border=\"1\" class=\"dataframe\">\n",
       "  <thead>\n",
       "    <tr>\n",
       "      <th></th>\n",
       "      <th>A</th>\n",
       "      <th colspan=\"2\" halign=\"left\">B</th>\n",
       "    </tr>\n",
       "    <tr>\n",
       "      <th></th>\n",
       "      <th>absolute</th>\n",
       "      <th>&lt;lambda&gt;</th>\n",
       "      <th>sqrt</th>\n",
       "    </tr>\n",
       "  </thead>\n",
       "  <tbody>\n",
       "    <tr>\n",
       "      <th>2000-01-01</th>\n",
       "      <td>0.135252</td>\n",
       "      <td>1.174021</td>\n",
       "      <td>0.417158</td>\n",
       "    </tr>\n",
       "    <tr>\n",
       "      <th>2000-01-02</th>\n",
       "      <td>0.780093</td>\n",
       "      <td>-0.399771</td>\n",
       "      <td>NaN</td>\n",
       "    </tr>\n",
       "    <tr>\n",
       "      <th>2000-01-03</th>\n",
       "      <td>0.088788</td>\n",
       "      <td>1.842491</td>\n",
       "      <td>0.917873</td>\n",
       "    </tr>\n",
       "    <tr>\n",
       "      <th>2000-01-04</th>\n",
       "      <td>NaN</td>\n",
       "      <td>NaN</td>\n",
       "      <td>NaN</td>\n",
       "    </tr>\n",
       "    <tr>\n",
       "      <th>2000-01-05</th>\n",
       "      <td>NaN</td>\n",
       "      <td>NaN</td>\n",
       "      <td>NaN</td>\n",
       "    </tr>\n",
       "    <tr>\n",
       "      <th>2000-01-06</th>\n",
       "      <td>NaN</td>\n",
       "      <td>NaN</td>\n",
       "      <td>NaN</td>\n",
       "    </tr>\n",
       "    <tr>\n",
       "      <th>2000-01-07</th>\n",
       "      <td>NaN</td>\n",
       "      <td>NaN</td>\n",
       "      <td>NaN</td>\n",
       "    </tr>\n",
       "    <tr>\n",
       "      <th>2000-01-08</th>\n",
       "      <td>0.601409</td>\n",
       "      <td>-0.105925</td>\n",
       "      <td>NaN</td>\n",
       "    </tr>\n",
       "    <tr>\n",
       "      <th>2000-01-09</th>\n",
       "      <td>0.781389</td>\n",
       "      <td>0.479438</td>\n",
       "      <td>NaN</td>\n",
       "    </tr>\n",
       "    <tr>\n",
       "      <th>2000-01-10</th>\n",
       "      <td>1.046941</td>\n",
       "      <td>1.857704</td>\n",
       "      <td>0.926123</td>\n",
       "    </tr>\n",
       "  </tbody>\n",
       "</table>\n",
       "</div>"
      ],
      "text/plain": [
       "                   A         B          \n",
       "            absolute  <lambda>      sqrt\n",
       "2000-01-01  0.135252  1.174021  0.417158\n",
       "2000-01-02  0.780093 -0.399771       NaN\n",
       "2000-01-03  0.088788  1.842491  0.917873\n",
       "2000-01-04       NaN       NaN       NaN\n",
       "2000-01-05       NaN       NaN       NaN\n",
       "2000-01-06       NaN       NaN       NaN\n",
       "2000-01-07       NaN       NaN       NaN\n",
       "2000-01-08  0.601409 -0.105925       NaN\n",
       "2000-01-09  0.781389  0.479438       NaN\n",
       "2000-01-10  1.046941  1.857704  0.926123"
      ]
     },
     "execution_count": 57,
     "metadata": {},
     "output_type": "execute_result"
    }
   ],
   "source": [
    "tsdf.transform({\"A\": np.abs, \"B\": [lambda x: x + 1, \"sqrt\"]})"
   ]
  },
  {
   "cell_type": "markdown",
   "id": "1a4db888-dab6-42dd-b0c7-c9f58400a6d2",
   "metadata": {},
   "source": [
    "**Note**:Two major differences between apply and transform\n",
    "\n",
    "There are two major differences between the `transform` and `apply` `groupby` methods.\n",
    "\n",
    "- **Input:**\n",
    "    - apply implicitly passes all the columns for each group as a DataFrame to the custom function.\n",
    "    - while transform passes each column for each group individually as a Series to the custom function.\n",
    "- **Output:**\n",
    "    - The custom function passed to apply can return a scalar, or a Series or DataFrame (or numpy array or even list).\n",
    "    - The custom function passed to transform must return a sequence (a one dimensional Series, array or list) the same length as the group.\n",
    "\n",
    "So, transform works on just one Series at a time and apply works on the entire DataFrame at once."
   ]
  },
  {
   "cell_type": "code",
   "execution_count": 58,
   "id": "69b31003-268c-48b7-9a51-786550f9cba5",
   "metadata": {},
   "outputs": [
    {
     "data": {
      "text/plain": [
       "one      0.140774\n",
       "two     -0.274956\n",
       "three    1.880252\n",
       "dtype: float64"
      ]
     },
     "execution_count": 58,
     "metadata": {},
     "output_type": "execute_result"
    }
   ],
   "source": [
    "# df.transform(np.sum) --> raises ValueError: Function did not transform\n",
    "df.apply(np.sum)"
   ]
  },
  {
   "cell_type": "code",
   "execution_count": 59,
   "id": "a2f4d6ed-804c-4d39-8bc3-151e64dfa887",
   "metadata": {},
   "outputs": [],
   "source": [
    "def add_two_columns(df):\n",
    "    return df['one'] + df['two']"
   ]
  },
  {
   "cell_type": "code",
   "execution_count": 60,
   "id": "f710c801-ae26-4d31-922b-fbceef7644b6",
   "metadata": {},
   "outputs": [
    {
     "data": {
      "text/plain": [
       "a   -0.014499\n",
       "b   -0.071530\n",
       "c   -0.044649\n",
       "d         NaN\n",
       "dtype: float64"
      ]
     },
     "execution_count": 60,
     "metadata": {},
     "output_type": "execute_result"
    }
   ],
   "source": [
    "# df.transform(add_two_columns, axis='columns') --> raises ValueError: Function did not transform\n",
    "df.apply(add_two_columns, axis='columns')"
   ]
  },
  {
   "cell_type": "code",
   "execution_count": 61,
   "id": "0ab92560-ceb7-4921-ac86-bf270f1a8fe1",
   "metadata": {},
   "outputs": [],
   "source": [
    "def add_1(s):\n",
    "    return s + 1"
   ]
  },
  {
   "cell_type": "code",
   "execution_count": 62,
   "id": "c86177fd-28f4-44f5-bee7-3fa0ed7497a1",
   "metadata": {},
   "outputs": [
    {
     "data": {
      "text/html": [
       "<div>\n",
       "<style scoped>\n",
       "    .dataframe tbody tr th:only-of-type {\n",
       "        vertical-align: middle;\n",
       "    }\n",
       "\n",
       "    .dataframe tbody tr th {\n",
       "        vertical-align: top;\n",
       "    }\n",
       "\n",
       "    .dataframe thead th {\n",
       "        text-align: right;\n",
       "    }\n",
       "</style>\n",
       "<table border=\"1\" class=\"dataframe\">\n",
       "  <thead>\n",
       "    <tr style=\"text-align: right;\">\n",
       "      <th></th>\n",
       "      <th>one</th>\n",
       "      <th>two</th>\n",
       "      <th>three</th>\n",
       "    </tr>\n",
       "  </thead>\n",
       "  <tbody>\n",
       "    <tr>\n",
       "      <th>a</th>\n",
       "      <td>0.506614</td>\n",
       "      <td>1.478888</td>\n",
       "      <td>NaN</td>\n",
       "    </tr>\n",
       "    <tr>\n",
       "      <th>b</th>\n",
       "      <td>0.903128</td>\n",
       "      <td>1.025342</td>\n",
       "      <td>1.921374</td>\n",
       "    </tr>\n",
       "    <tr>\n",
       "      <th>c</th>\n",
       "      <td>1.731032</td>\n",
       "      <td>0.224319</td>\n",
       "      <td>1.399647</td>\n",
       "    </tr>\n",
       "    <tr>\n",
       "      <th>d</th>\n",
       "      <td>NaN</td>\n",
       "      <td>0.996496</td>\n",
       "      <td>1.559230</td>\n",
       "    </tr>\n",
       "  </tbody>\n",
       "</table>\n",
       "</div>"
      ],
      "text/plain": [
       "        one       two     three\n",
       "a  0.506614  1.478888       NaN\n",
       "b  0.903128  1.025342  1.921374\n",
       "c  1.731032  0.224319  1.399647\n",
       "d       NaN  0.996496  1.559230"
      ]
     },
     "execution_count": 62,
     "metadata": {},
     "output_type": "execute_result"
    }
   ],
   "source": [
    "df.transform(add_1)"
   ]
  },
  {
   "cell_type": "code",
   "execution_count": 63,
   "id": "b66d1e27-6c67-4903-84e5-dfe984d81150",
   "metadata": {},
   "outputs": [
    {
     "data": {
      "text/html": [
       "<div>\n",
       "<style scoped>\n",
       "    .dataframe tbody tr th:only-of-type {\n",
       "        vertical-align: middle;\n",
       "    }\n",
       "\n",
       "    .dataframe tbody tr th {\n",
       "        vertical-align: top;\n",
       "    }\n",
       "\n",
       "    .dataframe thead th {\n",
       "        text-align: right;\n",
       "    }\n",
       "</style>\n",
       "<table border=\"1\" class=\"dataframe\">\n",
       "  <thead>\n",
       "    <tr style=\"text-align: right;\">\n",
       "      <th></th>\n",
       "      <th>one</th>\n",
       "      <th>two</th>\n",
       "      <th>three</th>\n",
       "    </tr>\n",
       "  </thead>\n",
       "  <tbody>\n",
       "    <tr>\n",
       "      <th>a</th>\n",
       "      <td>0.506614</td>\n",
       "      <td>1.478888</td>\n",
       "      <td>NaN</td>\n",
       "    </tr>\n",
       "    <tr>\n",
       "      <th>b</th>\n",
       "      <td>0.903128</td>\n",
       "      <td>1.025342</td>\n",
       "      <td>1.921374</td>\n",
       "    </tr>\n",
       "    <tr>\n",
       "      <th>c</th>\n",
       "      <td>1.731032</td>\n",
       "      <td>0.224319</td>\n",
       "      <td>1.399647</td>\n",
       "    </tr>\n",
       "    <tr>\n",
       "      <th>d</th>\n",
       "      <td>NaN</td>\n",
       "      <td>0.996496</td>\n",
       "      <td>1.559230</td>\n",
       "    </tr>\n",
       "  </tbody>\n",
       "</table>\n",
       "</div>"
      ],
      "text/plain": [
       "        one       two     three\n",
       "a  0.506614  1.478888       NaN\n",
       "b  0.903128  1.025342  1.921374\n",
       "c  1.731032  0.224319  1.399647\n",
       "d       NaN  0.996496  1.559230"
      ]
     },
     "execution_count": 63,
     "metadata": {},
     "output_type": "execute_result"
    }
   ],
   "source": [
    "df.apply(add_1)"
   ]
  },
  {
   "cell_type": "code",
   "execution_count": 64,
   "id": "d4067b28-9613-4858-8f16-82171eaf0c97",
   "metadata": {},
   "outputs": [],
   "source": [
    "def mysum(s):\n",
    "    return sum(s)"
   ]
  },
  {
   "cell_type": "code",
   "execution_count": 65,
   "id": "add0f62f-5b59-4b51-aace-7d3db1a1a630",
   "metadata": {},
   "outputs": [
    {
     "data": {
      "text/plain": [
       "one           NaN\n",
       "two     -0.274956\n",
       "three         NaN\n",
       "dtype: float64"
      ]
     },
     "execution_count": 65,
     "metadata": {},
     "output_type": "execute_result"
    }
   ],
   "source": [
    "# df.transform(mysum) --> raises ValueError: Function did not transform\n",
    "df.apply(mysum)"
   ]
  },
  {
   "cell_type": "markdown",
   "id": "4a927b39-3c8b-4f1e-a0f6-8ff30f27e6fc",
   "metadata": {},
   "source": [
    "<a class=\"anchor\" id=\"applying_elementwise_functions\"></a>\n",
    "## Applying elementwise functions"
   ]
  },
  {
   "cell_type": "markdown",
   "id": "b4f104e4-c90b-43ff-93c3-08061712e758",
   "metadata": {},
   "source": [
    "Since not all functions can be vectorized (accept NumPy arrays and return\n",
    "another array or value), the methods [`applymap()`](../reference/api/pandas.DataFrame.applymap.html#pandas.DataFrame.applymap \"pandas.DataFrame.applymap\") on DataFrame\n",
    "and analogously [`map()`](../reference/api/pandas.Series.map.html#pandas.Series.map \"pandas.Series.map\") on Series accept any Python function taking\n",
    "a single value and returning a single value. For example:"
   ]
  },
  {
   "cell_type": "code",
   "execution_count": 66,
   "id": "f1a90ece-5b75-41ee-b0bf-790e920a48c6",
   "metadata": {},
   "outputs": [
    {
     "data": {
      "text/html": [
       "<div>\n",
       "<style scoped>\n",
       "    .dataframe tbody tr th:only-of-type {\n",
       "        vertical-align: middle;\n",
       "    }\n",
       "\n",
       "    .dataframe tbody tr th {\n",
       "        vertical-align: top;\n",
       "    }\n",
       "\n",
       "    .dataframe thead th {\n",
       "        text-align: right;\n",
       "    }\n",
       "</style>\n",
       "<table border=\"1\" class=\"dataframe\">\n",
       "  <thead>\n",
       "    <tr style=\"text-align: right;\">\n",
       "      <th></th>\n",
       "      <th>one</th>\n",
       "      <th>two</th>\n",
       "      <th>three</th>\n",
       "    </tr>\n",
       "  </thead>\n",
       "  <tbody>\n",
       "    <tr>\n",
       "      <th>a</th>\n",
       "      <td>-0.493386</td>\n",
       "      <td>0.478888</td>\n",
       "      <td>NaN</td>\n",
       "    </tr>\n",
       "    <tr>\n",
       "      <th>b</th>\n",
       "      <td>-0.096872</td>\n",
       "      <td>0.025342</td>\n",
       "      <td>0.921374</td>\n",
       "    </tr>\n",
       "    <tr>\n",
       "      <th>c</th>\n",
       "      <td>0.731032</td>\n",
       "      <td>-0.775681</td>\n",
       "      <td>0.399647</td>\n",
       "    </tr>\n",
       "    <tr>\n",
       "      <th>d</th>\n",
       "      <td>NaN</td>\n",
       "      <td>-0.003504</td>\n",
       "      <td>0.559230</td>\n",
       "    </tr>\n",
       "  </tbody>\n",
       "</table>\n",
       "</div>"
      ],
      "text/plain": [
       "        one       two     three\n",
       "a -0.493386  0.478888       NaN\n",
       "b -0.096872  0.025342  0.921374\n",
       "c  0.731032 -0.775681  0.399647\n",
       "d       NaN -0.003504  0.559230"
      ]
     },
     "execution_count": 66,
     "metadata": {},
     "output_type": "execute_result"
    }
   ],
   "source": [
    "df"
   ]
  },
  {
   "cell_type": "code",
   "execution_count": 67,
   "id": "380d6cb7-a82b-4bf1-bb58-e1e24a451810",
   "metadata": {},
   "outputs": [],
   "source": [
    "def f(x):\n",
    "    return len(str(x))"
   ]
  },
  {
   "cell_type": "code",
   "execution_count": 68,
   "id": "35c7c5e0-acad-4a11-b1c1-35ea7179340e",
   "metadata": {},
   "outputs": [
    {
     "data": {
      "text/plain": [
       "a    19\n",
       "b    19\n",
       "c    18\n",
       "d     3\n",
       "Name: one, dtype: int64"
      ]
     },
     "execution_count": 68,
     "metadata": {},
     "output_type": "execute_result"
    }
   ],
   "source": [
    "df[\"one\"].map(f)"
   ]
  },
  {
   "cell_type": "code",
   "execution_count": 69,
   "id": "fae49a58-0139-4050-aca2-97447defb451",
   "metadata": {},
   "outputs": [
    {
     "data": {
      "text/html": [
       "<div>\n",
       "<style scoped>\n",
       "    .dataframe tbody tr th:only-of-type {\n",
       "        vertical-align: middle;\n",
       "    }\n",
       "\n",
       "    .dataframe tbody tr th {\n",
       "        vertical-align: top;\n",
       "    }\n",
       "\n",
       "    .dataframe thead th {\n",
       "        text-align: right;\n",
       "    }\n",
       "</style>\n",
       "<table border=\"1\" class=\"dataframe\">\n",
       "  <thead>\n",
       "    <tr style=\"text-align: right;\">\n",
       "      <th></th>\n",
       "      <th>one</th>\n",
       "      <th>two</th>\n",
       "      <th>three</th>\n",
       "    </tr>\n",
       "  </thead>\n",
       "  <tbody>\n",
       "    <tr>\n",
       "      <th>a</th>\n",
       "      <td>19</td>\n",
       "      <td>19</td>\n",
       "      <td>3</td>\n",
       "    </tr>\n",
       "    <tr>\n",
       "      <th>b</th>\n",
       "      <td>19</td>\n",
       "      <td>19</td>\n",
       "      <td>18</td>\n",
       "    </tr>\n",
       "    <tr>\n",
       "      <th>c</th>\n",
       "      <td>18</td>\n",
       "      <td>19</td>\n",
       "      <td>18</td>\n",
       "    </tr>\n",
       "    <tr>\n",
       "      <th>d</th>\n",
       "      <td>3</td>\n",
       "      <td>22</td>\n",
       "      <td>18</td>\n",
       "    </tr>\n",
       "  </tbody>\n",
       "</table>\n",
       "</div>"
      ],
      "text/plain": [
       "   one  two  three\n",
       "a   19   19      3\n",
       "b   19   19     18\n",
       "c   18   19     18\n",
       "d    3   22     18"
      ]
     },
     "execution_count": 69,
     "metadata": {},
     "output_type": "execute_result"
    }
   ],
   "source": [
    "df.applymap(f)"
   ]
  },
  {
   "cell_type": "markdown",
   "id": "1eded8fa-4be5-4f1a-8592-75d97d831ec4",
   "metadata": {},
   "source": [
    "[`Series.map()`](../reference/api/pandas.Series.map.html#pandas.Series.map \"pandas.Series.map\") has an additional feature; it can be used to easily\n",
    "“link” or “map” values defined by a secondary series:"
   ]
  },
  {
   "cell_type": "code",
   "execution_count": 70,
   "id": "a40c8bf9-0348-4ab0-8e50-81ba291491a8",
   "metadata": {},
   "outputs": [],
   "source": [
    "s = pd.Series(\n",
    "    [\"six\", \"seven\", \"six\", \"seven\", \"six\"], index=[\"a\", \"b\", \"c\", \"d\", \"e\"]\n",
    ")"
   ]
  },
  {
   "cell_type": "code",
   "execution_count": 71,
   "id": "db5715f1-1473-4ca1-a2e7-dec4136b687b",
   "metadata": {},
   "outputs": [],
   "source": [
    "t = pd.Series({\"six\": 6.0, \"seven\": 7.0})"
   ]
  },
  {
   "cell_type": "code",
   "execution_count": 72,
   "id": "8b084126-ccee-4517-8207-69cfae8819eb",
   "metadata": {},
   "outputs": [
    {
     "data": {
      "text/plain": [
       "a      six\n",
       "b    seven\n",
       "c      six\n",
       "d    seven\n",
       "e      six\n",
       "dtype: object"
      ]
     },
     "execution_count": 72,
     "metadata": {},
     "output_type": "execute_result"
    }
   ],
   "source": [
    "s"
   ]
  },
  {
   "cell_type": "code",
   "execution_count": 73,
   "id": "66df4c75-f7d7-4915-bebb-255071fde019",
   "metadata": {},
   "outputs": [
    {
     "data": {
      "text/plain": [
       "a    6.0\n",
       "b    7.0\n",
       "c    6.0\n",
       "d    7.0\n",
       "e    6.0\n",
       "dtype: float64"
      ]
     },
     "execution_count": 73,
     "metadata": {},
     "output_type": "execute_result"
    }
   ],
   "source": [
    "s.map(t)"
   ]
  }
 ],
 "metadata": {
  "kernelspec": {
   "display_name": "Python 3",
   "language": "python",
   "name": "python3"
  },
  "language_info": {
   "codemirror_mode": {
    "name": "ipython",
    "version": 3
   },
   "file_extension": ".py",
   "mimetype": "text/x-python",
   "name": "python",
   "nbconvert_exporter": "python",
   "pygments_lexer": "ipython3",
   "version": "3.8.11"
  }
 },
 "nbformat": 4,
 "nbformat_minor": 5
}
