{
 "cells": [
  {
   "cell_type": "markdown",
   "id": "43cd58ea-c464-469e-9b4d-6daa5be06e95",
   "metadata": {},
   "source": [
    "<img src=\"../../../images/banners/pandas-cropped.jpeg\" width=\"600\"/>"
   ]
  },
  {
   "cell_type": "markdown",
   "id": "670b4f37-811e-440c-9760-ee1b1c84a9c3",
   "metadata": {},
   "source": [
    "<a class=\"anchor\" id=\"essential_basic_functionality\"></a>\n",
    "# <img src=\"../../../images/logos/pandas.png\" width=\"23\"/>  Reindexing and Altering Labels"
   ]
  },
  {
   "cell_type": "markdown",
   "id": "dfea7e8c-6e60-4acb-9787-a7640f34b36b",
   "metadata": {
    "tags": []
   },
   "source": [
    "## <img src=\"../../../images/logos/toc.png\" width=\"20\"/> Table of Contents \n",
    "\n",
    "* [Reindexing to align with another object](#reindexing_to_align_with_another_object)\n",
    "* [Aligning objects with each other with ](#aligning_objects_with_each_other_with_)\n",
    "* [Filling while reindexing](#filling_while_reindexing)\n",
    "* [Limits on filling while reindexing](#limits_on_filling_while_reindexing)\n",
    "* [Dropping labels from an axis](#dropping_labels_from_an_axis)\n",
    "* [Renaming / mapping labels](#renaming_/_mapping_labels)\n",
    "\n",
    "---"
   ]
  },
  {
   "cell_type": "code",
   "execution_count": 1,
   "id": "e7ff8246-d0ae-400f-b3eb-9a2a20d3f2c7",
   "metadata": {},
   "outputs": [],
   "source": [
    "import pandas as pd\n",
    "import numpy as np"
   ]
  },
  {
   "cell_type": "markdown",
   "id": "297451f9-4454-4548-97a9-d9e1146a36c9",
   "metadata": {},
   "source": [
    "[`reindex()`](../reference/api/pandas.Series.reindex.html#pandas.Series.reindex \"pandas.Series.reindex\") is the fundamental data alignment method in pandas.\n",
    "It is used to implement nearly all other features relying on label-alignment\n",
    "functionality. To *reindex* means to conform the data to match a given set of\n",
    "labels along a particular axis. This accomplishes several things:"
   ]
  },
  {
   "cell_type": "markdown",
   "id": "00ccc1df-b210-4819-81a1-6bea312f6ab0",
   "metadata": {},
   "source": [
    "Here is a simple example:"
   ]
  },
  {
   "cell_type": "code",
   "execution_count": 2,
   "id": "d4c59939-2c55-4b82-8006-7fca9545af68",
   "metadata": {},
   "outputs": [
    {
     "data": {
      "text/plain": [
       "a    0.168678\n",
       "b    1.802621\n",
       "c   -0.053732\n",
       "d    1.068352\n",
       "e    0.991618\n",
       "dtype: float64"
      ]
     },
     "execution_count": 2,
     "metadata": {},
     "output_type": "execute_result"
    }
   ],
   "source": [
    "s = pd.Series(np.random.randn(5), index=[\"a\", \"b\", \"c\", \"d\", \"e\"])\n",
    "s"
   ]
  },
  {
   "cell_type": "code",
   "execution_count": 3,
   "id": "87ef6d51-5bec-480e-b996-354506da4011",
   "metadata": {},
   "outputs": [
    {
     "data": {
      "text/plain": [
       "e    0.991618\n",
       "b    1.802621\n",
       "f         NaN\n",
       "d    1.068352\n",
       "dtype: float64"
      ]
     },
     "execution_count": 3,
     "metadata": {},
     "output_type": "execute_result"
    }
   ],
   "source": [
    "s.reindex([\"e\", \"b\", \"f\", \"d\"])"
   ]
  },
  {
   "cell_type": "markdown",
   "id": "7af885d9-6876-4343-bd4a-4f511628dace",
   "metadata": {},
   "source": [
    "Here, the `f` label was not contained in the Series and hence appears as\n",
    "`NaN` in the result."
   ]
  },
  {
   "cell_type": "markdown",
   "id": "a7f5f68e-4485-4387-ad28-a8ebe3a3c2b2",
   "metadata": {},
   "source": [
    "With a DataFrame, you can simultaneously reindex the index and columns:"
   ]
  },
  {
   "cell_type": "code",
   "execution_count": 7,
   "id": "808b00fd-e14c-4ebb-a12e-28ab6114bbb9",
   "metadata": {},
   "outputs": [
    {
     "data": {
      "text/html": [
       "<div>\n",
       "<style scoped>\n",
       "    .dataframe tbody tr th:only-of-type {\n",
       "        vertical-align: middle;\n",
       "    }\n",
       "\n",
       "    .dataframe tbody tr th {\n",
       "        vertical-align: top;\n",
       "    }\n",
       "\n",
       "    .dataframe thead th {\n",
       "        text-align: right;\n",
       "    }\n",
       "</style>\n",
       "<table border=\"1\" class=\"dataframe\">\n",
       "  <thead>\n",
       "    <tr style=\"text-align: right;\">\n",
       "      <th></th>\n",
       "      <th>one</th>\n",
       "      <th>two</th>\n",
       "      <th>three</th>\n",
       "    </tr>\n",
       "  </thead>\n",
       "  <tbody>\n",
       "    <tr>\n",
       "      <th>a</th>\n",
       "      <td>-0.494183</td>\n",
       "      <td>1.502644</td>\n",
       "      <td>NaN</td>\n",
       "    </tr>\n",
       "    <tr>\n",
       "      <th>b</th>\n",
       "      <td>-0.509906</td>\n",
       "      <td>-0.293808</td>\n",
       "      <td>0.945491</td>\n",
       "    </tr>\n",
       "    <tr>\n",
       "      <th>c</th>\n",
       "      <td>1.525737</td>\n",
       "      <td>1.158806</td>\n",
       "      <td>-0.013921</td>\n",
       "    </tr>\n",
       "    <tr>\n",
       "      <th>d</th>\n",
       "      <td>NaN</td>\n",
       "      <td>-0.558905</td>\n",
       "      <td>-0.960371</td>\n",
       "    </tr>\n",
       "  </tbody>\n",
       "</table>\n",
       "</div>"
      ],
      "text/plain": [
       "        one       two     three\n",
       "a -0.494183  1.502644       NaN\n",
       "b -0.509906 -0.293808  0.945491\n",
       "c  1.525737  1.158806 -0.013921\n",
       "d       NaN -0.558905 -0.960371"
      ]
     },
     "execution_count": 7,
     "metadata": {},
     "output_type": "execute_result"
    }
   ],
   "source": [
    "df = pd.DataFrame(\n",
    "    {\n",
    "        \"one\": pd.Series(np.random.randn(3), index=[\"a\", \"b\", \"c\"]),\n",
    "        \"two\": pd.Series(np.random.randn(4), index=[\"a\", \"b\", \"c\", \"d\"]),\n",
    "        \"three\": pd.Series(np.random.randn(3), index=[\"b\", \"c\", \"d\"]),\n",
    "    }\n",
    ")\n",
    "\n",
    "df"
   ]
  },
  {
   "cell_type": "code",
   "execution_count": 8,
   "id": "e58707c1-ea3a-4ad2-862f-a83102eb2bf8",
   "metadata": {},
   "outputs": [
    {
     "data": {
      "text/html": [
       "<div>\n",
       "<style scoped>\n",
       "    .dataframe tbody tr th:only-of-type {\n",
       "        vertical-align: middle;\n",
       "    }\n",
       "\n",
       "    .dataframe tbody tr th {\n",
       "        vertical-align: top;\n",
       "    }\n",
       "\n",
       "    .dataframe thead th {\n",
       "        text-align: right;\n",
       "    }\n",
       "</style>\n",
       "<table border=\"1\" class=\"dataframe\">\n",
       "  <thead>\n",
       "    <tr style=\"text-align: right;\">\n",
       "      <th></th>\n",
       "      <th>three</th>\n",
       "      <th>two</th>\n",
       "      <th>one</th>\n",
       "    </tr>\n",
       "  </thead>\n",
       "  <tbody>\n",
       "    <tr>\n",
       "      <th>c</th>\n",
       "      <td>-0.013921</td>\n",
       "      <td>1.158806</td>\n",
       "      <td>1.525737</td>\n",
       "    </tr>\n",
       "    <tr>\n",
       "      <th>f</th>\n",
       "      <td>NaN</td>\n",
       "      <td>NaN</td>\n",
       "      <td>NaN</td>\n",
       "    </tr>\n",
       "    <tr>\n",
       "      <th>b</th>\n",
       "      <td>0.945491</td>\n",
       "      <td>-0.293808</td>\n",
       "      <td>-0.509906</td>\n",
       "    </tr>\n",
       "  </tbody>\n",
       "</table>\n",
       "</div>"
      ],
      "text/plain": [
       "      three       two       one\n",
       "c -0.013921  1.158806  1.525737\n",
       "f       NaN       NaN       NaN\n",
       "b  0.945491 -0.293808 -0.509906"
      ]
     },
     "execution_count": 8,
     "metadata": {},
     "output_type": "execute_result"
    }
   ],
   "source": [
    "df.reindex(index=[\"c\", \"f\", \"b\"], columns=[\"three\", \"two\", \"one\"])"
   ]
  },
  {
   "cell_type": "markdown",
   "id": "a8c55c87-e5dc-4766-90f8-f7c06a3f3bac",
   "metadata": {},
   "source": [
    "You may also use `reindex` with an `axis` keyword:"
   ]
  },
  {
   "cell_type": "code",
   "execution_count": null,
   "id": "a3057a0b-7c8c-4bb8-ae21-d471e412e8e7",
   "metadata": {},
   "outputs": [],
   "source": [
    "df.reindex([\"c\", \"f\", \"b\"], axis=\"index\")"
   ]
  },
  {
   "cell_type": "markdown",
   "id": "54984ee2-7460-4fec-b429-9eedbeaff270",
   "metadata": {},
   "source": [
    "Note that the `Index` objects containing the actual axis labels can be\n",
    "**shared** between objects. So if we have a Series and a DataFrame, the\n",
    "following can be done:"
   ]
  },
  {
   "cell_type": "code",
   "execution_count": 9,
   "id": "c92a76ea-03a9-4146-a80d-3ff0e9a0daab",
   "metadata": {},
   "outputs": [],
   "source": [
    "rs = s.reindex(df.index)"
   ]
  },
  {
   "cell_type": "code",
   "execution_count": 10,
   "id": "d04f90a0-ed6b-4172-941c-002ab8cd8cd8",
   "metadata": {},
   "outputs": [
    {
     "data": {
      "text/plain": [
       "a    0.168678\n",
       "b    1.802621\n",
       "c   -0.053732\n",
       "d    1.068352\n",
       "dtype: float64"
      ]
     },
     "execution_count": 10,
     "metadata": {},
     "output_type": "execute_result"
    }
   ],
   "source": [
    "rs"
   ]
  },
  {
   "cell_type": "code",
   "execution_count": 11,
   "id": "f1e7d41f-0bcf-4a22-b6a6-004696af08f5",
   "metadata": {},
   "outputs": [
    {
     "data": {
      "text/plain": [
       "True"
      ]
     },
     "execution_count": 11,
     "metadata": {},
     "output_type": "execute_result"
    }
   ],
   "source": [
    "rs.index is df.index"
   ]
  },
  {
   "cell_type": "markdown",
   "id": "e487bd3f-4435-4317-a282-359f60f43071",
   "metadata": {},
   "source": [
    "This means that the reindexed Series’s index is the same Python object as the\n",
    "DataFrame’s index."
   ]
  },
  {
   "cell_type": "markdown",
   "id": "43db054e-3424-4cb5-8202-2b8d1d9f9583",
   "metadata": {},
   "source": [
    "[`DataFrame.reindex()`](../reference/api/pandas.DataFrame.reindex.html#pandas.DataFrame.reindex \"pandas.DataFrame.reindex\") also supports an “axis-style” calling convention,\n",
    "where you specify a single `labels` argument and the `axis` it applies to."
   ]
  },
  {
   "cell_type": "code",
   "execution_count": 12,
   "id": "3440554d-1e57-4042-bd0c-873596474aff",
   "metadata": {},
   "outputs": [
    {
     "data": {
      "text/html": [
       "<div>\n",
       "<style scoped>\n",
       "    .dataframe tbody tr th:only-of-type {\n",
       "        vertical-align: middle;\n",
       "    }\n",
       "\n",
       "    .dataframe tbody tr th {\n",
       "        vertical-align: top;\n",
       "    }\n",
       "\n",
       "    .dataframe thead th {\n",
       "        text-align: right;\n",
       "    }\n",
       "</style>\n",
       "<table border=\"1\" class=\"dataframe\">\n",
       "  <thead>\n",
       "    <tr style=\"text-align: right;\">\n",
       "      <th></th>\n",
       "      <th>one</th>\n",
       "      <th>two</th>\n",
       "      <th>three</th>\n",
       "    </tr>\n",
       "  </thead>\n",
       "  <tbody>\n",
       "    <tr>\n",
       "      <th>c</th>\n",
       "      <td>1.525737</td>\n",
       "      <td>1.158806</td>\n",
       "      <td>-0.013921</td>\n",
       "    </tr>\n",
       "    <tr>\n",
       "      <th>f</th>\n",
       "      <td>NaN</td>\n",
       "      <td>NaN</td>\n",
       "      <td>NaN</td>\n",
       "    </tr>\n",
       "    <tr>\n",
       "      <th>b</th>\n",
       "      <td>-0.509906</td>\n",
       "      <td>-0.293808</td>\n",
       "      <td>0.945491</td>\n",
       "    </tr>\n",
       "  </tbody>\n",
       "</table>\n",
       "</div>"
      ],
      "text/plain": [
       "        one       two     three\n",
       "c  1.525737  1.158806 -0.013921\n",
       "f       NaN       NaN       NaN\n",
       "b -0.509906 -0.293808  0.945491"
      ]
     },
     "execution_count": 12,
     "metadata": {},
     "output_type": "execute_result"
    }
   ],
   "source": [
    "df.reindex([\"c\", \"f\", \"b\"], axis=\"index\")"
   ]
  },
  {
   "cell_type": "code",
   "execution_count": 13,
   "id": "87cb7aca-88df-4291-a5bf-765575fbd73c",
   "metadata": {},
   "outputs": [
    {
     "data": {
      "text/html": [
       "<div>\n",
       "<style scoped>\n",
       "    .dataframe tbody tr th:only-of-type {\n",
       "        vertical-align: middle;\n",
       "    }\n",
       "\n",
       "    .dataframe tbody tr th {\n",
       "        vertical-align: top;\n",
       "    }\n",
       "\n",
       "    .dataframe thead th {\n",
       "        text-align: right;\n",
       "    }\n",
       "</style>\n",
       "<table border=\"1\" class=\"dataframe\">\n",
       "  <thead>\n",
       "    <tr style=\"text-align: right;\">\n",
       "      <th></th>\n",
       "      <th>three</th>\n",
       "      <th>two</th>\n",
       "      <th>one</th>\n",
       "    </tr>\n",
       "  </thead>\n",
       "  <tbody>\n",
       "    <tr>\n",
       "      <th>a</th>\n",
       "      <td>NaN</td>\n",
       "      <td>1.502644</td>\n",
       "      <td>-0.494183</td>\n",
       "    </tr>\n",
       "    <tr>\n",
       "      <th>b</th>\n",
       "      <td>0.945491</td>\n",
       "      <td>-0.293808</td>\n",
       "      <td>-0.509906</td>\n",
       "    </tr>\n",
       "    <tr>\n",
       "      <th>c</th>\n",
       "      <td>-0.013921</td>\n",
       "      <td>1.158806</td>\n",
       "      <td>1.525737</td>\n",
       "    </tr>\n",
       "    <tr>\n",
       "      <th>d</th>\n",
       "      <td>-0.960371</td>\n",
       "      <td>-0.558905</td>\n",
       "      <td>NaN</td>\n",
       "    </tr>\n",
       "  </tbody>\n",
       "</table>\n",
       "</div>"
      ],
      "text/plain": [
       "      three       two       one\n",
       "a       NaN  1.502644 -0.494183\n",
       "b  0.945491 -0.293808 -0.509906\n",
       "c -0.013921  1.158806  1.525737\n",
       "d -0.960371 -0.558905       NaN"
      ]
     },
     "execution_count": 13,
     "metadata": {},
     "output_type": "execute_result"
    }
   ],
   "source": [
    "df.reindex([\"three\", \"two\", \"one\"], axis=\"columns\")"
   ]
  },
  {
   "cell_type": "markdown",
   "id": "bc8d824d-197e-482e-9f66-f7066605ebd0",
   "metadata": {},
   "source": [
    "> See also:\n",
    "> \n",
    "> [MultiIndex / Advanced Indexing](https://pandas.pydata.org/docs/user_guide/advanced.html#advanced) is an even more concise way of\n",
    "doing reindexing."
   ]
  },
  {
   "cell_type": "markdown",
   "id": "5a66d13c-f85b-4159-9e15-111ab9613776",
   "metadata": {},
   "source": [
    "> Note\n",
    ">\n",
    "> When writing performance-sensitive code, there is a good reason to spend\n",
    "some time becoming a reindexing ninja: **many operations are faster on\n",
    "pre-aligned data**. Adding two unaligned DataFrames internally triggers a\n",
    "reindexing step. For exploratory analysis you will hardly notice the\n",
    "difference (because `reindex` has been heavily optimized), but when CPU\n",
    "cycles matter sprinkling a few explicit `reindex` calls here and there can\n",
    "have an impact."
   ]
  },
  {
   "cell_type": "markdown",
   "id": "fc0a636f-e739-41ac-ab36-37aa936741bc",
   "metadata": {},
   "source": [
    "<a class=\"anchor\" id=\"reindexing_to_align_with_another_object\"></a>\n",
    "## Reindexing to align with another object"
   ]
  },
  {
   "cell_type": "markdown",
   "id": "ef10a30c-bba2-4f69-92c4-6bf6bb3785c7",
   "metadata": {},
   "source": [
    "You may wish to take an object and reindex its axes to be labeled the same as\n",
    "another object. While the syntax for this is straightforward albeit verbose, it\n",
    "is a common enough operation that the [`reindex_like()`](../reference/api/pandas.DataFrame.reindex_like.html#pandas.DataFrame.reindex_like \"pandas.DataFrame.reindex_like\") method is\n",
    "available to make this simpler:"
   ]
  },
  {
   "cell_type": "code",
   "execution_count": 22,
   "id": "2f6bfca5-e56f-40db-947d-28b1cc4d9b04",
   "metadata": {},
   "outputs": [
    {
     "data": {
      "text/html": [
       "<div>\n",
       "<style scoped>\n",
       "    .dataframe tbody tr th:only-of-type {\n",
       "        vertical-align: middle;\n",
       "    }\n",
       "\n",
       "    .dataframe tbody tr th {\n",
       "        vertical-align: top;\n",
       "    }\n",
       "\n",
       "    .dataframe thead th {\n",
       "        text-align: right;\n",
       "    }\n",
       "</style>\n",
       "<table border=\"1\" class=\"dataframe\">\n",
       "  <thead>\n",
       "    <tr style=\"text-align: right;\">\n",
       "      <th></th>\n",
       "      <th>one</th>\n",
       "      <th>two</th>\n",
       "      <th>three</th>\n",
       "    </tr>\n",
       "  </thead>\n",
       "  <tbody>\n",
       "    <tr>\n",
       "      <th>a</th>\n",
       "      <td>-0.494183</td>\n",
       "      <td>1.502644</td>\n",
       "      <td>NaN</td>\n",
       "    </tr>\n",
       "    <tr>\n",
       "      <th>b</th>\n",
       "      <td>-0.509906</td>\n",
       "      <td>-0.293808</td>\n",
       "      <td>0.945491</td>\n",
       "    </tr>\n",
       "    <tr>\n",
       "      <th>c</th>\n",
       "      <td>1.525737</td>\n",
       "      <td>1.158806</td>\n",
       "      <td>-0.013921</td>\n",
       "    </tr>\n",
       "    <tr>\n",
       "      <th>d</th>\n",
       "      <td>NaN</td>\n",
       "      <td>-0.558905</td>\n",
       "      <td>-0.960371</td>\n",
       "    </tr>\n",
       "  </tbody>\n",
       "</table>\n",
       "</div>"
      ],
      "text/plain": [
       "        one       two     three\n",
       "a -0.494183  1.502644       NaN\n",
       "b -0.509906 -0.293808  0.945491\n",
       "c  1.525737  1.158806 -0.013921\n",
       "d       NaN -0.558905 -0.960371"
      ]
     },
     "execution_count": 22,
     "metadata": {},
     "output_type": "execute_result"
    }
   ],
   "source": [
    "df"
   ]
  },
  {
   "cell_type": "code",
   "execution_count": 25,
   "id": "10daef42-a583-4f4c-a9e4-ac8e4e14842c",
   "metadata": {},
   "outputs": [],
   "source": [
    "df2 = df.reindex(index=['c', 'b', 'e', 'f'], columns=['one'])"
   ]
  },
  {
   "cell_type": "code",
   "execution_count": 26,
   "id": "274ce43b-6307-4411-b19e-0e031ed6e39e",
   "metadata": {},
   "outputs": [
    {
     "data": {
      "text/html": [
       "<div>\n",
       "<style scoped>\n",
       "    .dataframe tbody tr th:only-of-type {\n",
       "        vertical-align: middle;\n",
       "    }\n",
       "\n",
       "    .dataframe tbody tr th {\n",
       "        vertical-align: top;\n",
       "    }\n",
       "\n",
       "    .dataframe thead th {\n",
       "        text-align: right;\n",
       "    }\n",
       "</style>\n",
       "<table border=\"1\" class=\"dataframe\">\n",
       "  <thead>\n",
       "    <tr style=\"text-align: right;\">\n",
       "      <th></th>\n",
       "      <th>one</th>\n",
       "    </tr>\n",
       "  </thead>\n",
       "  <tbody>\n",
       "    <tr>\n",
       "      <th>c</th>\n",
       "      <td>1.525737</td>\n",
       "    </tr>\n",
       "    <tr>\n",
       "      <th>b</th>\n",
       "      <td>-0.509906</td>\n",
       "    </tr>\n",
       "    <tr>\n",
       "      <th>e</th>\n",
       "      <td>NaN</td>\n",
       "    </tr>\n",
       "    <tr>\n",
       "      <th>f</th>\n",
       "      <td>NaN</td>\n",
       "    </tr>\n",
       "  </tbody>\n",
       "</table>\n",
       "</div>"
      ],
      "text/plain": [
       "        one\n",
       "c  1.525737\n",
       "b -0.509906\n",
       "e       NaN\n",
       "f       NaN"
      ]
     },
     "execution_count": 26,
     "metadata": {},
     "output_type": "execute_result"
    }
   ],
   "source": [
    "df2"
   ]
  },
  {
   "cell_type": "code",
   "execution_count": 27,
   "id": "a68da53c-8bd0-46eb-8a9c-ad41ca93a3b2",
   "metadata": {},
   "outputs": [
    {
     "data": {
      "text/html": [
       "<div>\n",
       "<style scoped>\n",
       "    .dataframe tbody tr th:only-of-type {\n",
       "        vertical-align: middle;\n",
       "    }\n",
       "\n",
       "    .dataframe tbody tr th {\n",
       "        vertical-align: top;\n",
       "    }\n",
       "\n",
       "    .dataframe thead th {\n",
       "        text-align: right;\n",
       "    }\n",
       "</style>\n",
       "<table border=\"1\" class=\"dataframe\">\n",
       "  <thead>\n",
       "    <tr style=\"text-align: right;\">\n",
       "      <th></th>\n",
       "      <th>one</th>\n",
       "    </tr>\n",
       "  </thead>\n",
       "  <tbody>\n",
       "    <tr>\n",
       "      <th>c</th>\n",
       "      <td>1.525737</td>\n",
       "    </tr>\n",
       "    <tr>\n",
       "      <th>b</th>\n",
       "      <td>-0.509906</td>\n",
       "    </tr>\n",
       "    <tr>\n",
       "      <th>e</th>\n",
       "      <td>NaN</td>\n",
       "    </tr>\n",
       "    <tr>\n",
       "      <th>f</th>\n",
       "      <td>NaN</td>\n",
       "    </tr>\n",
       "  </tbody>\n",
       "</table>\n",
       "</div>"
      ],
      "text/plain": [
       "        one\n",
       "c  1.525737\n",
       "b -0.509906\n",
       "e       NaN\n",
       "f       NaN"
      ]
     },
     "execution_count": 27,
     "metadata": {},
     "output_type": "execute_result"
    }
   ],
   "source": [
    "df.reindex_like(df2)"
   ]
  },
  {
   "cell_type": "markdown",
   "id": "8caf2844-b8b9-4b83-b3db-e03c22f7bd1d",
   "metadata": {},
   "source": [
    "<a class=\"anchor\" id=\"aligning_objects_with_each_other_with_\"></a>\n",
    "## Aligning objects with each other with "
   ]
  },
  {
   "cell_type": "markdown",
   "id": "9fff914f-dbf0-49ae-a19d-18b1aad9611d",
   "metadata": {},
   "source": [
    "The [`align()`](https://pandas.pydata.org/docs/reference/api/pandas.Series.align.html#pandas.Series.align) method is the fastest way to simultaneously align two objects. It\n",
    "supports a `join` argument (related to [joining and merging](https://pandas.pydata.org/docs/user_guide/merging.html#merging) which will be covered later):"
   ]
  },
  {
   "cell_type": "markdown",
   "id": "fdf033cd-53d4-4d41-8d96-5636224a37ef",
   "metadata": {},
   "source": [
    "<img src=\"../images/pandas/types-of-joins.png\" width=\"400\"/>"
   ]
  },
  {
   "cell_type": "markdown",
   "id": "77a131f7-3af2-45d4-b9d8-121008ff644c",
   "metadata": {},
   "source": [
    "> \n",
    "> * `join='outer'`: take the union of the indexes (default)\n",
    "> * `join='left'`: use the calling object’s index\n",
    "> * `join='right'`: use the passed object’s index\n",
    "> * `join='inner'`: intersect the indexes\n",
    "> \n",
    "> \n",
    ">"
   ]
  },
  {
   "cell_type": "markdown",
   "id": "a0160f91-7eab-4463-a318-d488c15b0fa9",
   "metadata": {},
   "source": [
    "It returns a tuple with both of the reindexed Series:"
   ]
  },
  {
   "cell_type": "code",
   "execution_count": 28,
   "id": "f6d38a4d-2ab8-4bc3-9d21-62eabf7fb7f1",
   "metadata": {},
   "outputs": [],
   "source": [
    "s = pd.Series(np.random.randn(5), index=[\"a\", \"b\", \"c\", \"d\", \"e\"])"
   ]
  },
  {
   "cell_type": "code",
   "execution_count": 31,
   "id": "b460cdad-494e-419c-9503-e9b413fe0e00",
   "metadata": {},
   "outputs": [
    {
     "data": {
      "text/plain": [
       "a   -0.536209\n",
       "b   -0.358354\n",
       "c    0.446563\n",
       "d    0.786646\n",
       "dtype: float64"
      ]
     },
     "execution_count": 31,
     "metadata": {},
     "output_type": "execute_result"
    }
   ],
   "source": [
    "s1 = s[:4]\n",
    "s1"
   ]
  },
  {
   "cell_type": "code",
   "execution_count": 32,
   "id": "4de3b251-a821-44ad-9e50-0d1bff726231",
   "metadata": {},
   "outputs": [
    {
     "data": {
      "text/plain": [
       "b   -0.358354\n",
       "c    0.446563\n",
       "d    0.786646\n",
       "e   -0.898076\n",
       "dtype: float64"
      ]
     },
     "execution_count": 32,
     "metadata": {},
     "output_type": "execute_result"
    }
   ],
   "source": [
    "s2 = s[1:]\n",
    "s2"
   ]
  },
  {
   "cell_type": "code",
   "execution_count": 33,
   "id": "7cbcfc58-bed8-4d84-8f53-361d09999b34",
   "metadata": {},
   "outputs": [
    {
     "data": {
      "text/plain": [
       "(a   -0.536209\n",
       " b   -0.358354\n",
       " c    0.446563\n",
       " d    0.786646\n",
       " e         NaN\n",
       " dtype: float64,\n",
       " a         NaN\n",
       " b   -0.358354\n",
       " c    0.446563\n",
       " d    0.786646\n",
       " e   -0.898076\n",
       " dtype: float64)"
      ]
     },
     "execution_count": 33,
     "metadata": {},
     "output_type": "execute_result"
    }
   ],
   "source": [
    "s1.align(s2)"
   ]
  },
  {
   "cell_type": "code",
   "execution_count": 34,
   "id": "6d194e4e-afc3-4f96-86d9-387abeb672af",
   "metadata": {},
   "outputs": [
    {
     "data": {
      "text/plain": [
       "(b   -0.358354\n",
       " c    0.446563\n",
       " d    0.786646\n",
       " dtype: float64,\n",
       " b   -0.358354\n",
       " c    0.446563\n",
       " d    0.786646\n",
       " dtype: float64)"
      ]
     },
     "execution_count": 34,
     "metadata": {},
     "output_type": "execute_result"
    }
   ],
   "source": [
    "s1.align(s2, join=\"inner\")"
   ]
  },
  {
   "cell_type": "code",
   "execution_count": 35,
   "id": "55fa1645-5a3b-4b7d-8cd4-f436a9b3642d",
   "metadata": {},
   "outputs": [
    {
     "data": {
      "text/plain": [
       "(a   -0.536209\n",
       " b   -0.358354\n",
       " c    0.446563\n",
       " d    0.786646\n",
       " dtype: float64,\n",
       " a         NaN\n",
       " b   -0.358354\n",
       " c    0.446563\n",
       " d    0.786646\n",
       " dtype: float64)"
      ]
     },
     "execution_count": 35,
     "metadata": {},
     "output_type": "execute_result"
    }
   ],
   "source": [
    "s1.align(s2, join=\"left\")"
   ]
  },
  {
   "cell_type": "markdown",
   "id": "e56af9f3-1f06-4b82-bdae-ea088e45176e",
   "metadata": {},
   "source": [
    "For DataFrames, the join method will be applied to both the index and the\n",
    "columns by default:"
   ]
  },
  {
   "cell_type": "code",
   "execution_count": 40,
   "id": "be11ee5e-ba35-47fd-9e51-c62a95ddeb5d",
   "metadata": {},
   "outputs": [
    {
     "data": {
      "text/html": [
       "<div>\n",
       "<style scoped>\n",
       "    .dataframe tbody tr th:only-of-type {\n",
       "        vertical-align: middle;\n",
       "    }\n",
       "\n",
       "    .dataframe tbody tr th {\n",
       "        vertical-align: top;\n",
       "    }\n",
       "\n",
       "    .dataframe thead th {\n",
       "        text-align: right;\n",
       "    }\n",
       "</style>\n",
       "<table border=\"1\" class=\"dataframe\">\n",
       "  <thead>\n",
       "    <tr style=\"text-align: right;\">\n",
       "      <th></th>\n",
       "      <th>one</th>\n",
       "      <th>two</th>\n",
       "      <th>three</th>\n",
       "    </tr>\n",
       "  </thead>\n",
       "  <tbody>\n",
       "    <tr>\n",
       "      <th>a</th>\n",
       "      <td>-0.494183</td>\n",
       "      <td>1.502644</td>\n",
       "      <td>NaN</td>\n",
       "    </tr>\n",
       "    <tr>\n",
       "      <th>b</th>\n",
       "      <td>-0.509906</td>\n",
       "      <td>-0.293808</td>\n",
       "      <td>0.945491</td>\n",
       "    </tr>\n",
       "    <tr>\n",
       "      <th>c</th>\n",
       "      <td>1.525737</td>\n",
       "      <td>1.158806</td>\n",
       "      <td>-0.013921</td>\n",
       "    </tr>\n",
       "    <tr>\n",
       "      <th>d</th>\n",
       "      <td>NaN</td>\n",
       "      <td>-0.558905</td>\n",
       "      <td>-0.960371</td>\n",
       "    </tr>\n",
       "  </tbody>\n",
       "</table>\n",
       "</div>"
      ],
      "text/plain": [
       "        one       two     three\n",
       "a -0.494183  1.502644       NaN\n",
       "b -0.509906 -0.293808  0.945491\n",
       "c  1.525737  1.158806 -0.013921\n",
       "d       NaN -0.558905 -0.960371"
      ]
     },
     "execution_count": 40,
     "metadata": {},
     "output_type": "execute_result"
    }
   ],
   "source": [
    "df"
   ]
  },
  {
   "cell_type": "code",
   "execution_count": 41,
   "id": "949253f5-6f5a-4ddc-b3ec-30d8db48892c",
   "metadata": {},
   "outputs": [
    {
     "data": {
      "text/html": [
       "<div>\n",
       "<style scoped>\n",
       "    .dataframe tbody tr th:only-of-type {\n",
       "        vertical-align: middle;\n",
       "    }\n",
       "\n",
       "    .dataframe tbody tr th {\n",
       "        vertical-align: top;\n",
       "    }\n",
       "\n",
       "    .dataframe thead th {\n",
       "        text-align: right;\n",
       "    }\n",
       "</style>\n",
       "<table border=\"1\" class=\"dataframe\">\n",
       "  <thead>\n",
       "    <tr style=\"text-align: right;\">\n",
       "      <th></th>\n",
       "      <th>one</th>\n",
       "    </tr>\n",
       "  </thead>\n",
       "  <tbody>\n",
       "    <tr>\n",
       "      <th>c</th>\n",
       "      <td>1.525737</td>\n",
       "    </tr>\n",
       "    <tr>\n",
       "      <th>b</th>\n",
       "      <td>-0.509906</td>\n",
       "    </tr>\n",
       "    <tr>\n",
       "      <th>e</th>\n",
       "      <td>NaN</td>\n",
       "    </tr>\n",
       "    <tr>\n",
       "      <th>f</th>\n",
       "      <td>NaN</td>\n",
       "    </tr>\n",
       "  </tbody>\n",
       "</table>\n",
       "</div>"
      ],
      "text/plain": [
       "        one\n",
       "c  1.525737\n",
       "b -0.509906\n",
       "e       NaN\n",
       "f       NaN"
      ]
     },
     "execution_count": 41,
     "metadata": {},
     "output_type": "execute_result"
    }
   ],
   "source": [
    "df2"
   ]
  },
  {
   "cell_type": "code",
   "execution_count": 36,
   "id": "ae66ec2e-4913-48aa-b1be-81221ea029b6",
   "metadata": {},
   "outputs": [
    {
     "data": {
      "text/plain": [
       "(        one\n",
       " b -0.509906\n",
       " c  1.525737,\n",
       "         one\n",
       " b -0.509906\n",
       " c  1.525737)"
      ]
     },
     "execution_count": 36,
     "metadata": {},
     "output_type": "execute_result"
    }
   ],
   "source": [
    "df.align(df2, join=\"inner\")"
   ]
  },
  {
   "cell_type": "markdown",
   "id": "b885e035-25b0-42f8-86d2-49f9fee326b9",
   "metadata": {},
   "source": [
    "You can also pass an `axis` option to only align on the specified axis:"
   ]
  },
  {
   "cell_type": "code",
   "execution_count": 37,
   "id": "18440bae-5755-45d0-b51b-308ed39885dc",
   "metadata": {},
   "outputs": [
    {
     "data": {
      "text/plain": [
       "(        one       two     three\n",
       " b -0.509906 -0.293808  0.945491\n",
       " c  1.525737  1.158806 -0.013921,\n",
       "         one\n",
       " b -0.509906\n",
       " c  1.525737)"
      ]
     },
     "execution_count": 37,
     "metadata": {},
     "output_type": "execute_result"
    }
   ],
   "source": [
    "df.align(df2, join=\"inner\", axis=0)"
   ]
  },
  {
   "cell_type": "markdown",
   "id": "5c185427-2508-40d9-8949-19bc315cca55",
   "metadata": {},
   "source": [
    "If you pass a Series to [`DataFrame.align()`](../reference/api/pandas.DataFrame.align.html#pandas.DataFrame.align \"pandas.DataFrame.align\"), you can choose to align both\n",
    "objects either on the DataFrame’s index or columns using the `axis` argument:"
   ]
  },
  {
   "cell_type": "code",
   "execution_count": 42,
   "id": "d755ca56-6e3f-4063-a845-0c520db87d5a",
   "metadata": {},
   "outputs": [
    {
     "data": {
      "text/html": [
       "<div>\n",
       "<style scoped>\n",
       "    .dataframe tbody tr th:only-of-type {\n",
       "        vertical-align: middle;\n",
       "    }\n",
       "\n",
       "    .dataframe tbody tr th {\n",
       "        vertical-align: top;\n",
       "    }\n",
       "\n",
       "    .dataframe thead th {\n",
       "        text-align: right;\n",
       "    }\n",
       "</style>\n",
       "<table border=\"1\" class=\"dataframe\">\n",
       "  <thead>\n",
       "    <tr style=\"text-align: right;\">\n",
       "      <th></th>\n",
       "      <th>one</th>\n",
       "      <th>two</th>\n",
       "      <th>three</th>\n",
       "    </tr>\n",
       "  </thead>\n",
       "  <tbody>\n",
       "    <tr>\n",
       "      <th>a</th>\n",
       "      <td>-0.494183</td>\n",
       "      <td>1.502644</td>\n",
       "      <td>NaN</td>\n",
       "    </tr>\n",
       "    <tr>\n",
       "      <th>b</th>\n",
       "      <td>-0.509906</td>\n",
       "      <td>-0.293808</td>\n",
       "      <td>0.945491</td>\n",
       "    </tr>\n",
       "    <tr>\n",
       "      <th>c</th>\n",
       "      <td>1.525737</td>\n",
       "      <td>1.158806</td>\n",
       "      <td>-0.013921</td>\n",
       "    </tr>\n",
       "    <tr>\n",
       "      <th>d</th>\n",
       "      <td>NaN</td>\n",
       "      <td>-0.558905</td>\n",
       "      <td>-0.960371</td>\n",
       "    </tr>\n",
       "  </tbody>\n",
       "</table>\n",
       "</div>"
      ],
      "text/plain": [
       "        one       two     three\n",
       "a -0.494183  1.502644       NaN\n",
       "b -0.509906 -0.293808  0.945491\n",
       "c  1.525737  1.158806 -0.013921\n",
       "d       NaN -0.558905 -0.960371"
      ]
     },
     "execution_count": 42,
     "metadata": {},
     "output_type": "execute_result"
    }
   ],
   "source": [
    "df"
   ]
  },
  {
   "cell_type": "code",
   "execution_count": 43,
   "id": "8b385332-705f-4876-962f-369873234577",
   "metadata": {},
   "outputs": [
    {
     "data": {
      "text/html": [
       "<div>\n",
       "<style scoped>\n",
       "    .dataframe tbody tr th:only-of-type {\n",
       "        vertical-align: middle;\n",
       "    }\n",
       "\n",
       "    .dataframe tbody tr th {\n",
       "        vertical-align: top;\n",
       "    }\n",
       "\n",
       "    .dataframe thead th {\n",
       "        text-align: right;\n",
       "    }\n",
       "</style>\n",
       "<table border=\"1\" class=\"dataframe\">\n",
       "  <thead>\n",
       "    <tr style=\"text-align: right;\">\n",
       "      <th></th>\n",
       "      <th>one</th>\n",
       "    </tr>\n",
       "  </thead>\n",
       "  <tbody>\n",
       "    <tr>\n",
       "      <th>c</th>\n",
       "      <td>1.525737</td>\n",
       "    </tr>\n",
       "    <tr>\n",
       "      <th>b</th>\n",
       "      <td>-0.509906</td>\n",
       "    </tr>\n",
       "    <tr>\n",
       "      <th>e</th>\n",
       "      <td>NaN</td>\n",
       "    </tr>\n",
       "    <tr>\n",
       "      <th>f</th>\n",
       "      <td>NaN</td>\n",
       "    </tr>\n",
       "  </tbody>\n",
       "</table>\n",
       "</div>"
      ],
      "text/plain": [
       "        one\n",
       "c  1.525737\n",
       "b -0.509906\n",
       "e       NaN\n",
       "f       NaN"
      ]
     },
     "execution_count": 43,
     "metadata": {},
     "output_type": "execute_result"
    }
   ],
   "source": [
    "df2"
   ]
  },
  {
   "cell_type": "code",
   "execution_count": 44,
   "id": "e4eae9ba-d10d-44ee-a501-fd35f49167cd",
   "metadata": {},
   "outputs": [
    {
     "data": {
      "text/plain": [
       "(        one     three       two\n",
       " a -0.494183       NaN  1.502644\n",
       " b -0.509906  0.945491 -0.293808\n",
       " c  1.525737 -0.013921  1.158806\n",
       " d       NaN -0.960371 -0.558905,\n",
       " one      1.525737\n",
       " three         NaN\n",
       " two           NaN\n",
       " Name: c, dtype: float64)"
      ]
     },
     "execution_count": 44,
     "metadata": {},
     "output_type": "execute_result"
    }
   ],
   "source": [
    "df.align(df2.iloc[0], axis=1)"
   ]
  },
  {
   "cell_type": "markdown",
   "id": "7d316596-604d-417f-8e79-df87868c48b1",
   "metadata": {},
   "source": [
    "<a class=\"anchor\" id=\"filling_while_reindexing\"></a>\n",
    "## Filling while reindexing"
   ]
  },
  {
   "cell_type": "markdown",
   "id": "0737d0a9-ce2e-44eb-9545-1611a26aeeb8",
   "metadata": {},
   "source": [
    "[`reindex()`](../reference/api/pandas.Series.reindex.html#pandas.Series.reindex \"pandas.Series.reindex\") takes an optional parameter `method` which is a\n",
    "filling method chosen from the following table:"
   ]
  },
  {
   "cell_type": "markdown",
   "id": "f7dc610f-c532-4130-b8fa-afff046b6baf",
   "metadata": {},
   "source": [
    "We illustrate these fill methods on a simple Series:"
   ]
  },
  {
   "cell_type": "code",
   "execution_count": 45,
   "id": "79d8538d-b087-4165-983a-18f425c9e59e",
   "metadata": {},
   "outputs": [],
   "source": [
    "rng = pd.date_range(\"1/3/2000\", periods=8)"
   ]
  },
  {
   "cell_type": "code",
   "execution_count": 46,
   "id": "99e3e6a0-360f-41e1-970c-6b9a598abf0f",
   "metadata": {},
   "outputs": [],
   "source": [
    "ts = pd.Series(np.random.randn(8), index=rng)"
   ]
  },
  {
   "cell_type": "code",
   "execution_count": 47,
   "id": "299c55b9-0851-4c18-a342-73701266179b",
   "metadata": {},
   "outputs": [],
   "source": [
    "ts2 = ts[[0, 3, 6]]"
   ]
  },
  {
   "cell_type": "code",
   "execution_count": 48,
   "id": "d9274bcc-0a28-46a0-8eea-f943949c15bf",
   "metadata": {},
   "outputs": [
    {
     "data": {
      "text/plain": [
       "2000-01-03    0.540217\n",
       "2000-01-04    1.301152\n",
       "2000-01-05   -0.324090\n",
       "2000-01-06   -0.801851\n",
       "2000-01-07    0.220381\n",
       "2000-01-08    0.910936\n",
       "2000-01-09   -1.770761\n",
       "2000-01-10   -1.255012\n",
       "Freq: D, dtype: float64"
      ]
     },
     "execution_count": 48,
     "metadata": {},
     "output_type": "execute_result"
    }
   ],
   "source": [
    "ts"
   ]
  },
  {
   "cell_type": "code",
   "execution_count": 49,
   "id": "017f399c-2621-48aa-9ceb-1164995ed3b2",
   "metadata": {},
   "outputs": [
    {
     "data": {
      "text/plain": [
       "2000-01-03    0.540217\n",
       "2000-01-06   -0.801851\n",
       "2000-01-09   -1.770761\n",
       "Freq: 3D, dtype: float64"
      ]
     },
     "execution_count": 49,
     "metadata": {},
     "output_type": "execute_result"
    }
   ],
   "source": [
    "ts2"
   ]
  },
  {
   "cell_type": "code",
   "execution_count": 50,
   "id": "4db9c47c-71ff-4814-a08f-ff258acb6821",
   "metadata": {},
   "outputs": [
    {
     "data": {
      "text/plain": [
       "2000-01-03    0.540217\n",
       "2000-01-04         NaN\n",
       "2000-01-05         NaN\n",
       "2000-01-06   -0.801851\n",
       "2000-01-07         NaN\n",
       "2000-01-08         NaN\n",
       "2000-01-09   -1.770761\n",
       "2000-01-10         NaN\n",
       "Freq: D, dtype: float64"
      ]
     },
     "execution_count": 50,
     "metadata": {},
     "output_type": "execute_result"
    }
   ],
   "source": [
    "ts2.reindex(ts.index)"
   ]
  },
  {
   "cell_type": "code",
   "execution_count": 51,
   "id": "9a33bf70-a8de-4045-855a-ffae27ccf3d5",
   "metadata": {},
   "outputs": [
    {
     "data": {
      "text/plain": [
       "2000-01-03    0.540217\n",
       "2000-01-04    0.540217\n",
       "2000-01-05    0.540217\n",
       "2000-01-06   -0.801851\n",
       "2000-01-07   -0.801851\n",
       "2000-01-08   -0.801851\n",
       "2000-01-09   -1.770761\n",
       "2000-01-10   -1.770761\n",
       "Freq: D, dtype: float64"
      ]
     },
     "execution_count": 51,
     "metadata": {},
     "output_type": "execute_result"
    }
   ],
   "source": [
    "ts2.reindex(ts.index, method=\"ffill\")"
   ]
  },
  {
   "cell_type": "code",
   "execution_count": 52,
   "id": "68ab34a5-31d4-421f-bac2-39d95f65a718",
   "metadata": {},
   "outputs": [
    {
     "data": {
      "text/plain": [
       "2000-01-03    0.540217\n",
       "2000-01-04   -0.801851\n",
       "2000-01-05   -0.801851\n",
       "2000-01-06   -0.801851\n",
       "2000-01-07   -1.770761\n",
       "2000-01-08   -1.770761\n",
       "2000-01-09   -1.770761\n",
       "2000-01-10         NaN\n",
       "Freq: D, dtype: float64"
      ]
     },
     "execution_count": 52,
     "metadata": {},
     "output_type": "execute_result"
    }
   ],
   "source": [
    "ts2.reindex(ts.index, method=\"bfill\")"
   ]
  },
  {
   "cell_type": "code",
   "execution_count": 53,
   "id": "15624b7f-9de2-449e-b052-4bc5d5605c31",
   "metadata": {},
   "outputs": [
    {
     "data": {
      "text/plain": [
       "2000-01-03    0.540217\n",
       "2000-01-04    0.540217\n",
       "2000-01-05   -0.801851\n",
       "2000-01-06   -0.801851\n",
       "2000-01-07   -0.801851\n",
       "2000-01-08   -1.770761\n",
       "2000-01-09   -1.770761\n",
       "2000-01-10   -1.770761\n",
       "Freq: D, dtype: float64"
      ]
     },
     "execution_count": 53,
     "metadata": {},
     "output_type": "execute_result"
    }
   ],
   "source": [
    "ts2.reindex(ts.index, method=\"nearest\")"
   ]
  },
  {
   "cell_type": "markdown",
   "id": "96ff7198-5bd3-4fd6-b4b3-8eff49a73876",
   "metadata": {},
   "source": [
    "These methods require that the indexes are **ordered** increasing or\n",
    "decreasing."
   ]
  },
  {
   "cell_type": "markdown",
   "id": "2eb3f9e3-dce6-4b89-af2d-332f8d5c6958",
   "metadata": {},
   "source": [
    "Note that the same result could have been achieved using\n",
    "[fillna](missing_data.html#missing-data-fillna) (except for `method='nearest'`) or\n",
    "[interpolate](missing_data.html#missing-data-interpolate):"
   ]
  },
  {
   "cell_type": "code",
   "execution_count": 54,
   "id": "29ec2a89-34df-4929-a28a-ac986c8df46d",
   "metadata": {},
   "outputs": [
    {
     "data": {
      "text/plain": [
       "2000-01-03    0.540217\n",
       "2000-01-04    0.540217\n",
       "2000-01-05    0.540217\n",
       "2000-01-06   -0.801851\n",
       "2000-01-07   -0.801851\n",
       "2000-01-08   -0.801851\n",
       "2000-01-09   -1.770761\n",
       "2000-01-10   -1.770761\n",
       "Freq: D, dtype: float64"
      ]
     },
     "execution_count": 54,
     "metadata": {},
     "output_type": "execute_result"
    }
   ],
   "source": [
    "ts2.reindex(ts.index).fillna(method=\"ffill\")"
   ]
  },
  {
   "cell_type": "markdown",
   "id": "f225149a-c0f3-4b60-8981-e783ef7517a9",
   "metadata": {},
   "source": [
    "[`reindex()`](../reference/api/pandas.Series.reindex.html#pandas.Series.reindex \"pandas.Series.reindex\") will raise a ValueError if the index is not monotonically\n",
    "increasing or decreasing. [`fillna()`](../reference/api/pandas.Series.fillna.html#pandas.Series.fillna \"pandas.Series.fillna\") and [`interpolate()`](../reference/api/pandas.Series.interpolate.html#pandas.Series.interpolate \"pandas.Series.interpolate\")\n",
    "will not perform any checks on the order of the index."
   ]
  },
  {
   "cell_type": "markdown",
   "id": "df762b9d-3dc5-40b5-98be-c8147667e981",
   "metadata": {},
   "source": [
    "<a class=\"anchor\" id=\"limits_on_filling_while_reindexing\"></a>\n",
    "## Limits on filling while reindexing"
   ]
  },
  {
   "cell_type": "markdown",
   "id": "7e81d89e-2955-430f-be8c-892f99445853",
   "metadata": {},
   "source": [
    "The `limit` and `tolerance` arguments provide additional control over\n",
    "filling while reindexing. Limit specifies the maximum count of consecutive\n",
    "matches:"
   ]
  },
  {
   "cell_type": "code",
   "execution_count": null,
   "id": "0ba79761-75b3-4ab1-a15c-31de1d3737b9",
   "metadata": {},
   "outputs": [],
   "source": [
    "ts2.reindex(ts.index, method=\"ffill\", limit=1)"
   ]
  },
  {
   "cell_type": "markdown",
   "id": "37ca609a-7dc1-434a-84ee-69804b273d90",
   "metadata": {},
   "source": [
    "In contrast, tolerance specifies the maximum distance between the index and\n",
    "indexer values:"
   ]
  },
  {
   "cell_type": "code",
   "execution_count": null,
   "id": "450bd193-e4c4-464a-b114-4b0ea032f990",
   "metadata": {},
   "outputs": [],
   "source": [
    "ts2.reindex(ts.index, method=\"ffill\", tolerance=\"1 day\")"
   ]
  },
  {
   "cell_type": "markdown",
   "id": "4df05623-df79-4b19-aafc-afe82603f7d2",
   "metadata": {},
   "source": [
    "Notice that when used on a `DatetimeIndex`, `TimedeltaIndex` or\n",
    "`PeriodIndex`, `tolerance` will coerced into a `Timedelta` if possible.\n",
    "This allows you to specify tolerance with appropriate strings."
   ]
  },
  {
   "cell_type": "markdown",
   "id": "33fcc01f-4b25-41d4-86a3-4b0fc0f49758",
   "metadata": {},
   "source": [
    "<a class=\"anchor\" id=\"dropping_labels_from_an_axis\"></a>\n",
    "## Dropping labels from an axis"
   ]
  },
  {
   "cell_type": "markdown",
   "id": "f2a8fa44-d02c-4210-b19e-87794fa5479f",
   "metadata": {},
   "source": [
    "A method closely related to `reindex` is the [`drop()`](../reference/api/pandas.DataFrame.drop.html#pandas.DataFrame.drop \"pandas.DataFrame.drop\") function.\n",
    "It removes a set of labels from an axis:"
   ]
  },
  {
   "cell_type": "code",
   "execution_count": 55,
   "id": "52afddd3-216e-40ed-ad16-2b1462a8730c",
   "metadata": {},
   "outputs": [
    {
     "data": {
      "text/html": [
       "<div>\n",
       "<style scoped>\n",
       "    .dataframe tbody tr th:only-of-type {\n",
       "        vertical-align: middle;\n",
       "    }\n",
       "\n",
       "    .dataframe tbody tr th {\n",
       "        vertical-align: top;\n",
       "    }\n",
       "\n",
       "    .dataframe thead th {\n",
       "        text-align: right;\n",
       "    }\n",
       "</style>\n",
       "<table border=\"1\" class=\"dataframe\">\n",
       "  <thead>\n",
       "    <tr style=\"text-align: right;\">\n",
       "      <th></th>\n",
       "      <th>one</th>\n",
       "      <th>two</th>\n",
       "      <th>three</th>\n",
       "    </tr>\n",
       "  </thead>\n",
       "  <tbody>\n",
       "    <tr>\n",
       "      <th>a</th>\n",
       "      <td>-0.494183</td>\n",
       "      <td>1.502644</td>\n",
       "      <td>NaN</td>\n",
       "    </tr>\n",
       "    <tr>\n",
       "      <th>b</th>\n",
       "      <td>-0.509906</td>\n",
       "      <td>-0.293808</td>\n",
       "      <td>0.945491</td>\n",
       "    </tr>\n",
       "    <tr>\n",
       "      <th>c</th>\n",
       "      <td>1.525737</td>\n",
       "      <td>1.158806</td>\n",
       "      <td>-0.013921</td>\n",
       "    </tr>\n",
       "    <tr>\n",
       "      <th>d</th>\n",
       "      <td>NaN</td>\n",
       "      <td>-0.558905</td>\n",
       "      <td>-0.960371</td>\n",
       "    </tr>\n",
       "  </tbody>\n",
       "</table>\n",
       "</div>"
      ],
      "text/plain": [
       "        one       two     three\n",
       "a -0.494183  1.502644       NaN\n",
       "b -0.509906 -0.293808  0.945491\n",
       "c  1.525737  1.158806 -0.013921\n",
       "d       NaN -0.558905 -0.960371"
      ]
     },
     "execution_count": 55,
     "metadata": {},
     "output_type": "execute_result"
    }
   ],
   "source": [
    "df"
   ]
  },
  {
   "cell_type": "code",
   "execution_count": 56,
   "id": "435806e8-4eab-4e4e-bea5-798c9124e27e",
   "metadata": {},
   "outputs": [
    {
     "data": {
      "text/html": [
       "<div>\n",
       "<style scoped>\n",
       "    .dataframe tbody tr th:only-of-type {\n",
       "        vertical-align: middle;\n",
       "    }\n",
       "\n",
       "    .dataframe tbody tr th {\n",
       "        vertical-align: top;\n",
       "    }\n",
       "\n",
       "    .dataframe thead th {\n",
       "        text-align: right;\n",
       "    }\n",
       "</style>\n",
       "<table border=\"1\" class=\"dataframe\">\n",
       "  <thead>\n",
       "    <tr style=\"text-align: right;\">\n",
       "      <th></th>\n",
       "      <th>one</th>\n",
       "      <th>two</th>\n",
       "      <th>three</th>\n",
       "    </tr>\n",
       "  </thead>\n",
       "  <tbody>\n",
       "    <tr>\n",
       "      <th>b</th>\n",
       "      <td>-0.509906</td>\n",
       "      <td>-0.293808</td>\n",
       "      <td>0.945491</td>\n",
       "    </tr>\n",
       "    <tr>\n",
       "      <th>c</th>\n",
       "      <td>1.525737</td>\n",
       "      <td>1.158806</td>\n",
       "      <td>-0.013921</td>\n",
       "    </tr>\n",
       "  </tbody>\n",
       "</table>\n",
       "</div>"
      ],
      "text/plain": [
       "        one       two     three\n",
       "b -0.509906 -0.293808  0.945491\n",
       "c  1.525737  1.158806 -0.013921"
      ]
     },
     "execution_count": 56,
     "metadata": {},
     "output_type": "execute_result"
    }
   ],
   "source": [
    "df.drop([\"a\", \"d\"], axis=0)"
   ]
  },
  {
   "cell_type": "code",
   "execution_count": 57,
   "id": "d4089138-ed1e-4094-b0c5-14155021a2a2",
   "metadata": {},
   "outputs": [
    {
     "data": {
      "text/html": [
       "<div>\n",
       "<style scoped>\n",
       "    .dataframe tbody tr th:only-of-type {\n",
       "        vertical-align: middle;\n",
       "    }\n",
       "\n",
       "    .dataframe tbody tr th {\n",
       "        vertical-align: top;\n",
       "    }\n",
       "\n",
       "    .dataframe thead th {\n",
       "        text-align: right;\n",
       "    }\n",
       "</style>\n",
       "<table border=\"1\" class=\"dataframe\">\n",
       "  <thead>\n",
       "    <tr style=\"text-align: right;\">\n",
       "      <th></th>\n",
       "      <th>two</th>\n",
       "      <th>three</th>\n",
       "    </tr>\n",
       "  </thead>\n",
       "  <tbody>\n",
       "    <tr>\n",
       "      <th>a</th>\n",
       "      <td>1.502644</td>\n",
       "      <td>NaN</td>\n",
       "    </tr>\n",
       "    <tr>\n",
       "      <th>b</th>\n",
       "      <td>-0.293808</td>\n",
       "      <td>0.945491</td>\n",
       "    </tr>\n",
       "    <tr>\n",
       "      <th>c</th>\n",
       "      <td>1.158806</td>\n",
       "      <td>-0.013921</td>\n",
       "    </tr>\n",
       "    <tr>\n",
       "      <th>d</th>\n",
       "      <td>-0.558905</td>\n",
       "      <td>-0.960371</td>\n",
       "    </tr>\n",
       "  </tbody>\n",
       "</table>\n",
       "</div>"
      ],
      "text/plain": [
       "        two     three\n",
       "a  1.502644       NaN\n",
       "b -0.293808  0.945491\n",
       "c  1.158806 -0.013921\n",
       "d -0.558905 -0.960371"
      ]
     },
     "execution_count": 57,
     "metadata": {},
     "output_type": "execute_result"
    }
   ],
   "source": [
    "df.drop([\"one\"], axis=1)"
   ]
  },
  {
   "cell_type": "markdown",
   "id": "0f2c2ccb-04e9-465d-9c68-a9d0377f1c6f",
   "metadata": {},
   "source": [
    "<a class=\"anchor\" id=\"renaming_/_mapping_labels\"></a>\n",
    "## Renaming / mapping labels"
   ]
  },
  {
   "cell_type": "markdown",
   "id": "d90be9ac-8127-42d9-ae32-83dcbceabb04",
   "metadata": {},
   "source": [
    "The [`rename()`](../reference/api/pandas.DataFrame.rename.html#pandas.DataFrame.rename \"pandas.DataFrame.rename\") method allows you to relabel an axis based on some\n",
    "mapping (a dict or Series) or an arbitrary function."
   ]
  },
  {
   "cell_type": "code",
   "execution_count": 59,
   "id": "2bfb7321-72a3-4b0b-bf8c-180821101978",
   "metadata": {},
   "outputs": [
    {
     "data": {
      "text/plain": [
       "a   -0.536209\n",
       "b   -0.358354\n",
       "c    0.446563\n",
       "d    0.786646\n",
       "e   -0.898076\n",
       "dtype: float64"
      ]
     },
     "execution_count": 59,
     "metadata": {},
     "output_type": "execute_result"
    }
   ],
   "source": [
    "s"
   ]
  },
  {
   "cell_type": "code",
   "execution_count": 60,
   "id": "e6110e0c-a780-4727-bd7d-e7693366a1c4",
   "metadata": {},
   "outputs": [
    {
     "data": {
      "text/plain": [
       "A   -0.536209\n",
       "B   -0.358354\n",
       "C    0.446563\n",
       "D    0.786646\n",
       "E   -0.898076\n",
       "dtype: float64"
      ]
     },
     "execution_count": 60,
     "metadata": {},
     "output_type": "execute_result"
    }
   ],
   "source": [
    "s.rename(str.upper)"
   ]
  },
  {
   "cell_type": "markdown",
   "id": "3f42f770-3a99-44b3-9817-2aa4370f4b3b",
   "metadata": {},
   "source": [
    "If you pass a function, it must return a value when called with any of the\n",
    "labels (and must produce a set of unique values). A dict or\n",
    "Series can also be used:"
   ]
  },
  {
   "cell_type": "code",
   "execution_count": 62,
   "id": "e998f6be-ac4f-47a4-84ce-4ac9b0db59c4",
   "metadata": {},
   "outputs": [
    {
     "data": {
      "text/html": [
       "<div>\n",
       "<style scoped>\n",
       "    .dataframe tbody tr th:only-of-type {\n",
       "        vertical-align: middle;\n",
       "    }\n",
       "\n",
       "    .dataframe tbody tr th {\n",
       "        vertical-align: top;\n",
       "    }\n",
       "\n",
       "    .dataframe thead th {\n",
       "        text-align: right;\n",
       "    }\n",
       "</style>\n",
       "<table border=\"1\" class=\"dataframe\">\n",
       "  <thead>\n",
       "    <tr style=\"text-align: right;\">\n",
       "      <th></th>\n",
       "      <th>foo</th>\n",
       "      <th>bar</th>\n",
       "      <th>three</th>\n",
       "    </tr>\n",
       "  </thead>\n",
       "  <tbody>\n",
       "    <tr>\n",
       "      <th>apple</th>\n",
       "      <td>-0.494183</td>\n",
       "      <td>1.502644</td>\n",
       "      <td>NaN</td>\n",
       "    </tr>\n",
       "    <tr>\n",
       "      <th>banana</th>\n",
       "      <td>-0.509906</td>\n",
       "      <td>-0.293808</td>\n",
       "      <td>0.945491</td>\n",
       "    </tr>\n",
       "    <tr>\n",
       "      <th>c</th>\n",
       "      <td>1.525737</td>\n",
       "      <td>1.158806</td>\n",
       "      <td>-0.013921</td>\n",
       "    </tr>\n",
       "    <tr>\n",
       "      <th>durian</th>\n",
       "      <td>NaN</td>\n",
       "      <td>-0.558905</td>\n",
       "      <td>-0.960371</td>\n",
       "    </tr>\n",
       "  </tbody>\n",
       "</table>\n",
       "</div>"
      ],
      "text/plain": [
       "             foo       bar     three\n",
       "apple  -0.494183  1.502644       NaN\n",
       "banana -0.509906 -0.293808  0.945491\n",
       "c       1.525737  1.158806 -0.013921\n",
       "durian       NaN -0.558905 -0.960371"
      ]
     },
     "execution_count": 62,
     "metadata": {},
     "output_type": "execute_result"
    }
   ],
   "source": [
    "df.rename(\n",
    "    columns={\"one\": \"foo\", \"two\": \"bar\"},\n",
    "    index={\"a\": \"apple\", \"b\": \"banana\", \"d\": \"durian\"},\n",
    ")"
   ]
  },
  {
   "cell_type": "markdown",
   "id": "5862a8bd-1276-4604-bee6-8615a545fbed",
   "metadata": {},
   "source": [
    "If the mapping doesn’t include a column/index label, it isn’t renamed. Note that\n",
    "extra labels in the mapping don’t throw an error."
   ]
  },
  {
   "cell_type": "markdown",
   "id": "75840a6d-499a-4a6a-94b6-06190893a6c0",
   "metadata": {},
   "source": [
    "[`DataFrame.rename()`](../reference/api/pandas.DataFrame.rename.html#pandas.DataFrame.rename \"pandas.DataFrame.rename\") also supports an “axis-style” calling convention, where\n",
    "you specify a single `mapper` and the `axis` to apply that mapping to."
   ]
  },
  {
   "cell_type": "code",
   "execution_count": 63,
   "id": "6cf24c12-bc36-48e9-b604-95d099ce58fa",
   "metadata": {},
   "outputs": [
    {
     "data": {
      "text/html": [
       "<div>\n",
       "<style scoped>\n",
       "    .dataframe tbody tr th:only-of-type {\n",
       "        vertical-align: middle;\n",
       "    }\n",
       "\n",
       "    .dataframe tbody tr th {\n",
       "        vertical-align: top;\n",
       "    }\n",
       "\n",
       "    .dataframe thead th {\n",
       "        text-align: right;\n",
       "    }\n",
       "</style>\n",
       "<table border=\"1\" class=\"dataframe\">\n",
       "  <thead>\n",
       "    <tr style=\"text-align: right;\">\n",
       "      <th></th>\n",
       "      <th>foo</th>\n",
       "      <th>bar</th>\n",
       "      <th>three</th>\n",
       "    </tr>\n",
       "  </thead>\n",
       "  <tbody>\n",
       "    <tr>\n",
       "      <th>a</th>\n",
       "      <td>-0.494183</td>\n",
       "      <td>1.502644</td>\n",
       "      <td>NaN</td>\n",
       "    </tr>\n",
       "    <tr>\n",
       "      <th>b</th>\n",
       "      <td>-0.509906</td>\n",
       "      <td>-0.293808</td>\n",
       "      <td>0.945491</td>\n",
       "    </tr>\n",
       "    <tr>\n",
       "      <th>c</th>\n",
       "      <td>1.525737</td>\n",
       "      <td>1.158806</td>\n",
       "      <td>-0.013921</td>\n",
       "    </tr>\n",
       "    <tr>\n",
       "      <th>d</th>\n",
       "      <td>NaN</td>\n",
       "      <td>-0.558905</td>\n",
       "      <td>-0.960371</td>\n",
       "    </tr>\n",
       "  </tbody>\n",
       "</table>\n",
       "</div>"
      ],
      "text/plain": [
       "        foo       bar     three\n",
       "a -0.494183  1.502644       NaN\n",
       "b -0.509906 -0.293808  0.945491\n",
       "c  1.525737  1.158806 -0.013921\n",
       "d       NaN -0.558905 -0.960371"
      ]
     },
     "execution_count": 63,
     "metadata": {},
     "output_type": "execute_result"
    }
   ],
   "source": [
    "df.rename({\"one\": \"foo\", \"two\": \"bar\"}, axis=\"columns\")"
   ]
  },
  {
   "cell_type": "code",
   "execution_count": 64,
   "id": "07afab93-b288-4d4d-84d5-387a4a231faa",
   "metadata": {},
   "outputs": [
    {
     "data": {
      "text/html": [
       "<div>\n",
       "<style scoped>\n",
       "    .dataframe tbody tr th:only-of-type {\n",
       "        vertical-align: middle;\n",
       "    }\n",
       "\n",
       "    .dataframe tbody tr th {\n",
       "        vertical-align: top;\n",
       "    }\n",
       "\n",
       "    .dataframe thead th {\n",
       "        text-align: right;\n",
       "    }\n",
       "</style>\n",
       "<table border=\"1\" class=\"dataframe\">\n",
       "  <thead>\n",
       "    <tr style=\"text-align: right;\">\n",
       "      <th></th>\n",
       "      <th>one</th>\n",
       "      <th>two</th>\n",
       "      <th>three</th>\n",
       "    </tr>\n",
       "  </thead>\n",
       "  <tbody>\n",
       "    <tr>\n",
       "      <th>apple</th>\n",
       "      <td>-0.494183</td>\n",
       "      <td>1.502644</td>\n",
       "      <td>NaN</td>\n",
       "    </tr>\n",
       "    <tr>\n",
       "      <th>banana</th>\n",
       "      <td>-0.509906</td>\n",
       "      <td>-0.293808</td>\n",
       "      <td>0.945491</td>\n",
       "    </tr>\n",
       "    <tr>\n",
       "      <th>c</th>\n",
       "      <td>1.525737</td>\n",
       "      <td>1.158806</td>\n",
       "      <td>-0.013921</td>\n",
       "    </tr>\n",
       "    <tr>\n",
       "      <th>durian</th>\n",
       "      <td>NaN</td>\n",
       "      <td>-0.558905</td>\n",
       "      <td>-0.960371</td>\n",
       "    </tr>\n",
       "  </tbody>\n",
       "</table>\n",
       "</div>"
      ],
      "text/plain": [
       "             one       two     three\n",
       "apple  -0.494183  1.502644       NaN\n",
       "banana -0.509906 -0.293808  0.945491\n",
       "c       1.525737  1.158806 -0.013921\n",
       "durian       NaN -0.558905 -0.960371"
      ]
     },
     "execution_count": 64,
     "metadata": {},
     "output_type": "execute_result"
    }
   ],
   "source": [
    "df.rename({\"a\": \"apple\", \"b\": \"banana\", \"d\": \"durian\"}, axis=\"index\")"
   ]
  },
  {
   "cell_type": "markdown",
   "id": "1a48863f-82dc-4761-9ea4-58524a8ef6e2",
   "metadata": {},
   "source": [
    "The [`rename()`](../reference/api/pandas.DataFrame.rename.html#pandas.DataFrame.rename \"pandas.DataFrame.rename\") method also provides an `inplace` named\n",
    "parameter that is by default `False` and copies the underlying data. Pass\n",
    "`inplace=True` to rename the data in place."
   ]
  },
  {
   "cell_type": "markdown",
   "id": "8846f138-8635-4c26-9b52-524d4894631e",
   "metadata": {},
   "source": [
    "Finally, [`rename()`](../reference/api/pandas.Series.rename.html#pandas.Series.rename \"pandas.Series.rename\") also accepts a scalar or list-like\n",
    "for altering the `Series.name` attribute."
   ]
  },
  {
   "cell_type": "code",
   "execution_count": 65,
   "id": "7b3053c2-230a-43a1-853f-3dd952338023",
   "metadata": {},
   "outputs": [
    {
     "data": {
      "text/plain": [
       "a   -0.536209\n",
       "b   -0.358354\n",
       "c    0.446563\n",
       "d    0.786646\n",
       "e   -0.898076\n",
       "Name: scalar-name, dtype: float64"
      ]
     },
     "execution_count": 65,
     "metadata": {},
     "output_type": "execute_result"
    }
   ],
   "source": [
    "s.rename(\"scalar-name\")"
   ]
  },
  {
   "cell_type": "markdown",
   "id": "935fdde3-0b4c-4aaf-beee-b99a2b3ee5a4",
   "metadata": {},
   "source": [
    "The methods [`DataFrame.rename_axis()`](../reference/api/pandas.DataFrame.rename_axis.html#pandas.DataFrame.rename_axis \"pandas.DataFrame.rename_axis\") and [`Series.rename_axis()`](../reference/api/pandas.Series.rename_axis.html#pandas.Series.rename_axis \"pandas.Series.rename_axis\")\n",
    "allow specific names of a `MultiIndex` to be changed (as opposed to the\n",
    "labels)."
   ]
  },
  {
   "cell_type": "code",
   "execution_count": 66,
   "id": "fc5d9485-0c03-4f86-b701-7656c112f1b0",
   "metadata": {},
   "outputs": [],
   "source": [
    "df = pd.DataFrame(\n",
    "    {\"x\": [1, 2, 3, 4, 5, 6], \"y\": [10, 20, 30, 40, 50, 60]},\n",
    "    index=pd.MultiIndex.from_product(\n",
    "        [[\"a\", \"b\", \"c\"], [1, 2]], names=[\"let\", \"num\"]\n",
    "    ),\n",
    ")"
   ]
  },
  {
   "cell_type": "code",
   "execution_count": 67,
   "id": "5a925dfe-788e-42a0-9cd7-cf74e07636c4",
   "metadata": {},
   "outputs": [
    {
     "data": {
      "text/html": [
       "<div>\n",
       "<style scoped>\n",
       "    .dataframe tbody tr th:only-of-type {\n",
       "        vertical-align: middle;\n",
       "    }\n",
       "\n",
       "    .dataframe tbody tr th {\n",
       "        vertical-align: top;\n",
       "    }\n",
       "\n",
       "    .dataframe thead th {\n",
       "        text-align: right;\n",
       "    }\n",
       "</style>\n",
       "<table border=\"1\" class=\"dataframe\">\n",
       "  <thead>\n",
       "    <tr style=\"text-align: right;\">\n",
       "      <th></th>\n",
       "      <th></th>\n",
       "      <th>x</th>\n",
       "      <th>y</th>\n",
       "    </tr>\n",
       "    <tr>\n",
       "      <th>let</th>\n",
       "      <th>num</th>\n",
       "      <th></th>\n",
       "      <th></th>\n",
       "    </tr>\n",
       "  </thead>\n",
       "  <tbody>\n",
       "    <tr>\n",
       "      <th rowspan=\"2\" valign=\"top\">a</th>\n",
       "      <th>1</th>\n",
       "      <td>1</td>\n",
       "      <td>10</td>\n",
       "    </tr>\n",
       "    <tr>\n",
       "      <th>2</th>\n",
       "      <td>2</td>\n",
       "      <td>20</td>\n",
       "    </tr>\n",
       "    <tr>\n",
       "      <th rowspan=\"2\" valign=\"top\">b</th>\n",
       "      <th>1</th>\n",
       "      <td>3</td>\n",
       "      <td>30</td>\n",
       "    </tr>\n",
       "    <tr>\n",
       "      <th>2</th>\n",
       "      <td>4</td>\n",
       "      <td>40</td>\n",
       "    </tr>\n",
       "    <tr>\n",
       "      <th rowspan=\"2\" valign=\"top\">c</th>\n",
       "      <th>1</th>\n",
       "      <td>5</td>\n",
       "      <td>50</td>\n",
       "    </tr>\n",
       "    <tr>\n",
       "      <th>2</th>\n",
       "      <td>6</td>\n",
       "      <td>60</td>\n",
       "    </tr>\n",
       "  </tbody>\n",
       "</table>\n",
       "</div>"
      ],
      "text/plain": [
       "         x   y\n",
       "let num       \n",
       "a   1    1  10\n",
       "    2    2  20\n",
       "b   1    3  30\n",
       "    2    4  40\n",
       "c   1    5  50\n",
       "    2    6  60"
      ]
     },
     "execution_count": 67,
     "metadata": {},
     "output_type": "execute_result"
    }
   ],
   "source": [
    "df"
   ]
  },
  {
   "cell_type": "code",
   "execution_count": 68,
   "id": "c7093a66-efc3-4b3b-ac72-6756d67ba26f",
   "metadata": {},
   "outputs": [
    {
     "data": {
      "text/html": [
       "<div>\n",
       "<style scoped>\n",
       "    .dataframe tbody tr th:only-of-type {\n",
       "        vertical-align: middle;\n",
       "    }\n",
       "\n",
       "    .dataframe tbody tr th {\n",
       "        vertical-align: top;\n",
       "    }\n",
       "\n",
       "    .dataframe thead th {\n",
       "        text-align: right;\n",
       "    }\n",
       "</style>\n",
       "<table border=\"1\" class=\"dataframe\">\n",
       "  <thead>\n",
       "    <tr style=\"text-align: right;\">\n",
       "      <th></th>\n",
       "      <th></th>\n",
       "      <th>x</th>\n",
       "      <th>y</th>\n",
       "    </tr>\n",
       "    <tr>\n",
       "      <th>let</th>\n",
       "      <th>num</th>\n",
       "      <th></th>\n",
       "      <th></th>\n",
       "    </tr>\n",
       "  </thead>\n",
       "  <tbody>\n",
       "    <tr>\n",
       "      <th rowspan=\"2\" valign=\"top\">a</th>\n",
       "      <th>1</th>\n",
       "      <td>1</td>\n",
       "      <td>10</td>\n",
       "    </tr>\n",
       "    <tr>\n",
       "      <th>2</th>\n",
       "      <td>2</td>\n",
       "      <td>20</td>\n",
       "    </tr>\n",
       "    <tr>\n",
       "      <th rowspan=\"2\" valign=\"top\">b</th>\n",
       "      <th>1</th>\n",
       "      <td>3</td>\n",
       "      <td>30</td>\n",
       "    </tr>\n",
       "    <tr>\n",
       "      <th>2</th>\n",
       "      <td>4</td>\n",
       "      <td>40</td>\n",
       "    </tr>\n",
       "    <tr>\n",
       "      <th rowspan=\"2\" valign=\"top\">c</th>\n",
       "      <th>1</th>\n",
       "      <td>5</td>\n",
       "      <td>50</td>\n",
       "    </tr>\n",
       "    <tr>\n",
       "      <th>2</th>\n",
       "      <td>6</td>\n",
       "      <td>60</td>\n",
       "    </tr>\n",
       "  </tbody>\n",
       "</table>\n",
       "</div>"
      ],
      "text/plain": [
       "         x   y\n",
       "let num       \n",
       "a   1    1  10\n",
       "    2    2  20\n",
       "b   1    3  30\n",
       "    2    4  40\n",
       "c   1    5  50\n",
       "    2    6  60"
      ]
     },
     "execution_count": 68,
     "metadata": {},
     "output_type": "execute_result"
    }
   ],
   "source": [
    "df"
   ]
  },
  {
   "cell_type": "code",
   "execution_count": 69,
   "id": "eef3c0a9-1169-40f3-a547-1fc102b44e2b",
   "metadata": {},
   "outputs": [
    {
     "data": {
      "text/html": [
       "<div>\n",
       "<style scoped>\n",
       "    .dataframe tbody tr th:only-of-type {\n",
       "        vertical-align: middle;\n",
       "    }\n",
       "\n",
       "    .dataframe tbody tr th {\n",
       "        vertical-align: top;\n",
       "    }\n",
       "\n",
       "    .dataframe thead th {\n",
       "        text-align: right;\n",
       "    }\n",
       "</style>\n",
       "<table border=\"1\" class=\"dataframe\">\n",
       "  <thead>\n",
       "    <tr style=\"text-align: right;\">\n",
       "      <th></th>\n",
       "      <th></th>\n",
       "      <th>x</th>\n",
       "      <th>y</th>\n",
       "    </tr>\n",
       "    <tr>\n",
       "      <th>abc</th>\n",
       "      <th>num</th>\n",
       "      <th></th>\n",
       "      <th></th>\n",
       "    </tr>\n",
       "  </thead>\n",
       "  <tbody>\n",
       "    <tr>\n",
       "      <th rowspan=\"2\" valign=\"top\">a</th>\n",
       "      <th>1</th>\n",
       "      <td>1</td>\n",
       "      <td>10</td>\n",
       "    </tr>\n",
       "    <tr>\n",
       "      <th>2</th>\n",
       "      <td>2</td>\n",
       "      <td>20</td>\n",
       "    </tr>\n",
       "    <tr>\n",
       "      <th rowspan=\"2\" valign=\"top\">b</th>\n",
       "      <th>1</th>\n",
       "      <td>3</td>\n",
       "      <td>30</td>\n",
       "    </tr>\n",
       "    <tr>\n",
       "      <th>2</th>\n",
       "      <td>4</td>\n",
       "      <td>40</td>\n",
       "    </tr>\n",
       "    <tr>\n",
       "      <th rowspan=\"2\" valign=\"top\">c</th>\n",
       "      <th>1</th>\n",
       "      <td>5</td>\n",
       "      <td>50</td>\n",
       "    </tr>\n",
       "    <tr>\n",
       "      <th>2</th>\n",
       "      <td>6</td>\n",
       "      <td>60</td>\n",
       "    </tr>\n",
       "  </tbody>\n",
       "</table>\n",
       "</div>"
      ],
      "text/plain": [
       "         x   y\n",
       "abc num       \n",
       "a   1    1  10\n",
       "    2    2  20\n",
       "b   1    3  30\n",
       "    2    4  40\n",
       "c   1    5  50\n",
       "    2    6  60"
      ]
     },
     "execution_count": 69,
     "metadata": {},
     "output_type": "execute_result"
    }
   ],
   "source": [
    "df.rename_axis(index={\"let\": \"abc\"})"
   ]
  },
  {
   "cell_type": "code",
   "execution_count": 70,
   "id": "e661098c-0e62-4eeb-a9d1-7e45d50d51c2",
   "metadata": {},
   "outputs": [
    {
     "data": {
      "text/html": [
       "<div>\n",
       "<style scoped>\n",
       "    .dataframe tbody tr th:only-of-type {\n",
       "        vertical-align: middle;\n",
       "    }\n",
       "\n",
       "    .dataframe tbody tr th {\n",
       "        vertical-align: top;\n",
       "    }\n",
       "\n",
       "    .dataframe thead th {\n",
       "        text-align: right;\n",
       "    }\n",
       "</style>\n",
       "<table border=\"1\" class=\"dataframe\">\n",
       "  <thead>\n",
       "    <tr style=\"text-align: right;\">\n",
       "      <th></th>\n",
       "      <th></th>\n",
       "      <th>x</th>\n",
       "      <th>y</th>\n",
       "    </tr>\n",
       "    <tr>\n",
       "      <th>LET</th>\n",
       "      <th>NUM</th>\n",
       "      <th></th>\n",
       "      <th></th>\n",
       "    </tr>\n",
       "  </thead>\n",
       "  <tbody>\n",
       "    <tr>\n",
       "      <th rowspan=\"2\" valign=\"top\">a</th>\n",
       "      <th>1</th>\n",
       "      <td>1</td>\n",
       "      <td>10</td>\n",
       "    </tr>\n",
       "    <tr>\n",
       "      <th>2</th>\n",
       "      <td>2</td>\n",
       "      <td>20</td>\n",
       "    </tr>\n",
       "    <tr>\n",
       "      <th rowspan=\"2\" valign=\"top\">b</th>\n",
       "      <th>1</th>\n",
       "      <td>3</td>\n",
       "      <td>30</td>\n",
       "    </tr>\n",
       "    <tr>\n",
       "      <th>2</th>\n",
       "      <td>4</td>\n",
       "      <td>40</td>\n",
       "    </tr>\n",
       "    <tr>\n",
       "      <th rowspan=\"2\" valign=\"top\">c</th>\n",
       "      <th>1</th>\n",
       "      <td>5</td>\n",
       "      <td>50</td>\n",
       "    </tr>\n",
       "    <tr>\n",
       "      <th>2</th>\n",
       "      <td>6</td>\n",
       "      <td>60</td>\n",
       "    </tr>\n",
       "  </tbody>\n",
       "</table>\n",
       "</div>"
      ],
      "text/plain": [
       "         x   y\n",
       "LET NUM       \n",
       "a   1    1  10\n",
       "    2    2  20\n",
       "b   1    3  30\n",
       "    2    4  40\n",
       "c   1    5  50\n",
       "    2    6  60"
      ]
     },
     "execution_count": 70,
     "metadata": {},
     "output_type": "execute_result"
    }
   ],
   "source": [
    "df.rename_axis(index=str.upper)"
   ]
  }
 ],
 "metadata": {
  "kernelspec": {
   "display_name": "Python 3",
   "language": "python",
   "name": "python3"
  },
  "language_info": {
   "codemirror_mode": {
    "name": "ipython",
    "version": 3
   },
   "file_extension": ".py",
   "mimetype": "text/x-python",
   "name": "python",
   "nbconvert_exporter": "python",
   "pygments_lexer": "ipython3",
   "version": "3.8.11"
  }
 },
 "nbformat": 4,
 "nbformat_minor": 5
}
