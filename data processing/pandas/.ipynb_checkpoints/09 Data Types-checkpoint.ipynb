{
 "cells": [
  {
   "cell_type": "markdown",
   "id": "49fe9719-34bb-47f7-a999-5fa4063af014",
   "metadata": {},
   "source": [
    "<img src=\"../../../images/banners/pandas-cropped.jpeg\" width=\"600\"/>"
   ]
  },
  {
   "cell_type": "markdown",
   "id": "0d2fdbbe-3602-43bb-ab9e-6bf2e43fe9e6",
   "metadata": {
    "tags": []
   },
   "source": [
    "<a class=\"anchor\" id=\"essential_basic_functionality\"></a>\n",
    "# <img src=\"../../../images/logos/pandas.png\" width=\"23\"/> Data Types"
   ]
  },
  {
   "cell_type": "markdown",
   "id": "d7348bf0-2daf-448a-a669-659655c7f71f",
   "metadata": {},
   "source": [
    "## <img src=\"../../../images/logos/toc.png\" width=\"20\"/> Table of Contents \n",
    "* [defaults](#defaults)\n",
    "* [upcasting](#upcasting)\n",
    "* [astype](#astype)\n",
    "* [object conversion](#object_conversion)\n",
    "* [gotchas](#gotchas)\n",
    "* [Selecting columns based on ](#selecting_columns_based_on_)\n",
    "\n",
    "---"
   ]
  },
  {
   "cell_type": "code",
   "execution_count": 3,
   "id": "3e1ad8fb-2e6c-4273-a1c1-8cd1bdd5a59f",
   "metadata": {},
   "outputs": [],
   "source": [
    "import pandas as pd\n",
    "import numpy as np"
   ]
  },
  {
   "cell_type": "markdown",
   "id": "b5af2684-c6c0-44bd-aa92-0a04540ef8e2",
   "metadata": {},
   "source": [
    "For the most part, pandas uses NumPy arrays and dtypes for Series or individual\n",
    "columns of a DataFrame. NumPy provides support for `float`,\n",
    "`int`, `bool`, `timedelta64[ns]` and `datetime64[ns]` (note that NumPy\n",
    "does not support timezone-aware datetimes)."
   ]
  },
  {
   "cell_type": "markdown",
   "id": "254b63ee-0aa7-4e02-b2fb-259657d3753d",
   "metadata": {},
   "source": [
    "pandas and third-party libraries *extend* NumPy’s type system in a few places.\n",
    "This section describes the extensions pandas has made internally.\n",
    "See [Extension types](https://pandas.pydata.org/docs/development/extending.html#extending-extension-types) for how to write your own extension that\n",
    "works with pandas. See [Extension data types](https://pandas.pydata.org/docs/ecosystem.html#ecosystem-extensions) for a list of third-party\n",
    "libraries that have implemented an extension."
   ]
  },
  {
   "cell_type": "markdown",
   "id": "63f4aa81-8460-46ce-bba0-5cfba013aed9",
   "metadata": {},
   "source": [
    "The following table lists all of pandas extension types. For methods requiring `dtype`\n",
    "arguments, strings can be specified as indicated. See the respective\n",
    "documentation sections for more on each type."
   ]
  },
  {
   "cell_type": "markdown",
   "id": "56dcc244-d313-4d8f-9bb0-e7390f2d6837",
   "metadata": {},
   "source": [
    "|Kind of Data|Data Type|Scalar|Array|String Aliases|\n",
    "|:--|:--|:--|:--|:--|\n",
    "|tz-aware datetime|DatetimeTZDtype|Timestamp|`arrays.DatetimeArray`|`'datetime64[ns, <tz>]'`|\n",
    "|Categorical|CategoricalDtype|(none)|`Categorical`|`'category'`|\n",
    "|period (time spans)|PeriodDtype|Period|`arrays.PeriodArray 'Period[<freq>]'`|`'period[<freq>]'`|\n",
    "|sparse|SparseDtype|(none)|`arrays.SparseArray`|`'Sparse', 'Sparse[int]', 'Sparse[float]'`|\n",
    "|intervals|IntervalDtype|Interval|`arrays.IntervalArray`|`'interval', 'Interval', 'Interval[<numpy_dtype>]', 'Interval[datetime64[ns, <tz>]]', 'Interval[timedelta64[<freq>]]'`|\n",
    "|nullable integer|Int64Dtype, …|(none)|`arrays.IntegerArray`|`'Int8', 'Int16', 'Int32', 'Int64', 'UInt8', 'UInt16', 'UInt32', 'UInt64'`|\n",
    "|Strings|StringDtype|str|`arrays.StringArray`|`'string'`|\n",
    "|Boolean (with NA)|BooleanDtype|`bool`|`arrays.BooleanArray`|`'boolean'`|"
   ]
  },
  {
   "cell_type": "markdown",
   "id": "ca13b908-4445-423d-9899-e6631e824e0f",
   "metadata": {},
   "source": [
    "pandas has two ways to store strings.\n",
    "- `object` dtype, which can hold any Python object, including strings.\n",
    "- `StringDtype`, which is dedicated to strings."
   ]
  },
  {
   "cell_type": "markdown",
   "id": "c8410d5c-b600-468e-86ff-98be9b93cadd",
   "metadata": {},
   "source": [
    "Generally, we recommend using [`StringDtype`](https://pandas.pydata.org/docs/reference/api/pandas.StringDtype.html#pandas.StringDtype). See [Text data types](https://pandas.pydata.org/docs/user_guide/text.html#text-types) for more."
   ]
  },
  {
   "cell_type": "markdown",
   "id": "12c53ac0-f456-4cc7-958c-407594b3458d",
   "metadata": {},
   "source": [
    "Finally, arbitrary objects may be stored using the `object` dtype, but should\n",
    "be avoided to the extent possible (for performance and interoperability with\n",
    "other libraries and methods. See [object conversion](https://pandas.pydata.org/docs/user_guide/basics.html#basics-object-conversion))."
   ]
  },
  {
   "cell_type": "markdown",
   "id": "a197cc00-6f40-481b-a471-41da1bc2ac2c",
   "metadata": {},
   "source": [
    "A convenient [`dtypes`](../reference/api/pandas.DataFrame.dtypes.html#pandas.DataFrame.dtypes \"pandas.DataFrame.dtypes\") attribute for DataFrame returns a Series\n",
    "with the data type of each column."
   ]
  },
  {
   "cell_type": "code",
   "execution_count": 4,
   "id": "3b860797-dbba-4218-bf75-60eda18182ce",
   "metadata": {},
   "outputs": [],
   "source": [
    "dft = pd.DataFrame(\n",
    "    {\n",
    "        \"A\": np.random.rand(3),\n",
    "        \"B\": 1,\n",
    "        \"C\": \"foo\",\n",
    "        \"D\": pd.Timestamp(\"20010102\"),\n",
    "        \"E\": pd.Series([1.0] * 3).astype(\"float32\"),\n",
    "        \"F\": False,\n",
    "        \"G\": pd.Series([1] * 3, dtype=\"int8\"),\n",
    "    }\n",
    ")"
   ]
  },
  {
   "cell_type": "code",
   "execution_count": 5,
   "id": "01201cea-2b38-493b-b065-c98dc8058329",
   "metadata": {},
   "outputs": [
    {
     "data": {
      "text/html": [
       "<div>\n",
       "<style scoped>\n",
       "    .dataframe tbody tr th:only-of-type {\n",
       "        vertical-align: middle;\n",
       "    }\n",
       "\n",
       "    .dataframe tbody tr th {\n",
       "        vertical-align: top;\n",
       "    }\n",
       "\n",
       "    .dataframe thead th {\n",
       "        text-align: right;\n",
       "    }\n",
       "</style>\n",
       "<table border=\"1\" class=\"dataframe\">\n",
       "  <thead>\n",
       "    <tr style=\"text-align: right;\">\n",
       "      <th></th>\n",
       "      <th>A</th>\n",
       "      <th>B</th>\n",
       "      <th>C</th>\n",
       "      <th>D</th>\n",
       "      <th>E</th>\n",
       "      <th>F</th>\n",
       "      <th>G</th>\n",
       "    </tr>\n",
       "  </thead>\n",
       "  <tbody>\n",
       "    <tr>\n",
       "      <th>0</th>\n",
       "      <td>0.018945</td>\n",
       "      <td>1</td>\n",
       "      <td>foo</td>\n",
       "      <td>2001-01-02</td>\n",
       "      <td>1.0</td>\n",
       "      <td>False</td>\n",
       "      <td>1</td>\n",
       "    </tr>\n",
       "    <tr>\n",
       "      <th>1</th>\n",
       "      <td>0.706826</td>\n",
       "      <td>1</td>\n",
       "      <td>foo</td>\n",
       "      <td>2001-01-02</td>\n",
       "      <td>1.0</td>\n",
       "      <td>False</td>\n",
       "      <td>1</td>\n",
       "    </tr>\n",
       "    <tr>\n",
       "      <th>2</th>\n",
       "      <td>0.256350</td>\n",
       "      <td>1</td>\n",
       "      <td>foo</td>\n",
       "      <td>2001-01-02</td>\n",
       "      <td>1.0</td>\n",
       "      <td>False</td>\n",
       "      <td>1</td>\n",
       "    </tr>\n",
       "  </tbody>\n",
       "</table>\n",
       "</div>"
      ],
      "text/plain": [
       "          A  B    C          D    E      F  G\n",
       "0  0.018945  1  foo 2001-01-02  1.0  False  1\n",
       "1  0.706826  1  foo 2001-01-02  1.0  False  1\n",
       "2  0.256350  1  foo 2001-01-02  1.0  False  1"
      ]
     },
     "execution_count": 5,
     "metadata": {},
     "output_type": "execute_result"
    }
   ],
   "source": [
    "dft"
   ]
  },
  {
   "cell_type": "code",
   "execution_count": 6,
   "id": "8aef2159-483e-48b0-8815-0fac9a7a34f6",
   "metadata": {},
   "outputs": [
    {
     "data": {
      "text/plain": [
       "A           float64\n",
       "B             int64\n",
       "C            object\n",
       "D    datetime64[ns]\n",
       "E           float32\n",
       "F              bool\n",
       "G              int8\n",
       "dtype: object"
      ]
     },
     "execution_count": 6,
     "metadata": {},
     "output_type": "execute_result"
    }
   ],
   "source": [
    "dft.dtypes"
   ]
  },
  {
   "cell_type": "markdown",
   "id": "ca50fe16-80ab-4de4-ac2d-172898c4c039",
   "metadata": {},
   "source": [
    "On a `Series` object, use the [`dtype`](../reference/api/pandas.Series.dtype.html#pandas.Series.dtype \"pandas.Series.dtype\") attribute."
   ]
  },
  {
   "cell_type": "code",
   "execution_count": 7,
   "id": "a5f0985c-300e-437b-85cc-513799c97039",
   "metadata": {},
   "outputs": [
    {
     "data": {
      "text/plain": [
       "dtype('float64')"
      ]
     },
     "execution_count": 7,
     "metadata": {},
     "output_type": "execute_result"
    }
   ],
   "source": [
    "dft[\"A\"].dtype"
   ]
  },
  {
   "cell_type": "markdown",
   "id": "c1dc6527-5ceb-42d2-86d8-08ff30d98250",
   "metadata": {},
   "source": [
    "If a pandas object contains data with multiple dtypes *in a single column*, the\n",
    "dtype of the column will be chosen to accommodate all of the data types\n",
    "(`object` is the most general)."
   ]
  },
  {
   "cell_type": "code",
   "execution_count": 8,
   "id": "cebe12e1-9761-4983-b40f-4d5e712d198d",
   "metadata": {},
   "outputs": [
    {
     "data": {
      "text/plain": [
       "0    1.0\n",
       "1    2.0\n",
       "2    3.0\n",
       "3    4.0\n",
       "4    5.0\n",
       "5    6.0\n",
       "dtype: float64"
      ]
     },
     "execution_count": 8,
     "metadata": {},
     "output_type": "execute_result"
    }
   ],
   "source": [
    "pd.Series([1, 2, 3, 4, 5, 6.0])"
   ]
  },
  {
   "cell_type": "code",
   "execution_count": 9,
   "id": "f254fde6-fa32-4b7a-ad7f-bc15e2d4ff01",
   "metadata": {},
   "outputs": [
    {
     "data": {
      "text/plain": [
       "0      1\n",
       "1      2\n",
       "2      3\n",
       "3    6.0\n",
       "4    foo\n",
       "dtype: object"
      ]
     },
     "execution_count": 9,
     "metadata": {},
     "output_type": "execute_result"
    }
   ],
   "source": [
    "pd.Series([1, 2, 3, 6.0, \"foo\"])"
   ]
  },
  {
   "cell_type": "markdown",
   "id": "c7047d7f-2996-4e4e-8e9c-20306fed2a9d",
   "metadata": {},
   "source": [
    "The number of columns of each type in a `DataFrame` can be found by calling\n",
    "`DataFrame.dtypes.value_counts()`."
   ]
  },
  {
   "cell_type": "code",
   "execution_count": 10,
   "id": "6bbd70b6-c01d-4c6c-bce8-a4acc6605838",
   "metadata": {},
   "outputs": [
    {
     "data": {
      "text/plain": [
       "float64           1\n",
       "int64             1\n",
       "object            1\n",
       "datetime64[ns]    1\n",
       "float32           1\n",
       "bool              1\n",
       "int8              1\n",
       "dtype: int64"
      ]
     },
     "execution_count": 10,
     "metadata": {},
     "output_type": "execute_result"
    }
   ],
   "source": [
    "dft.dtypes.value_counts()"
   ]
  },
  {
   "cell_type": "markdown",
   "id": "81e196a2-0f95-4140-b5b2-6357f199471b",
   "metadata": {},
   "source": [
    "Numeric dtypes will propagate and can coexist in DataFrames.\n",
    "If a dtype is passed (either directly via the `dtype` keyword, a passed `ndarray`,\n",
    "or a passed `Series`), then it will be preserved in DataFrame operations. Furthermore,\n",
    "different numeric dtypes will **NOT** be combined. The following example will give you a taste."
   ]
  },
  {
   "cell_type": "code",
   "execution_count": 11,
   "id": "e4fd12a0-3dc8-40d6-a1e1-7a44681429a0",
   "metadata": {},
   "outputs": [
    {
     "data": {
      "text/html": [
       "<div>\n",
       "<style scoped>\n",
       "    .dataframe tbody tr th:only-of-type {\n",
       "        vertical-align: middle;\n",
       "    }\n",
       "\n",
       "    .dataframe tbody tr th {\n",
       "        vertical-align: top;\n",
       "    }\n",
       "\n",
       "    .dataframe thead th {\n",
       "        text-align: right;\n",
       "    }\n",
       "</style>\n",
       "<table border=\"1\" class=\"dataframe\">\n",
       "  <thead>\n",
       "    <tr style=\"text-align: right;\">\n",
       "      <th></th>\n",
       "      <th>A</th>\n",
       "    </tr>\n",
       "  </thead>\n",
       "  <tbody>\n",
       "    <tr>\n",
       "      <th>0</th>\n",
       "      <td>0.755764</td>\n",
       "    </tr>\n",
       "    <tr>\n",
       "      <th>1</th>\n",
       "      <td>-0.143895</td>\n",
       "    </tr>\n",
       "    <tr>\n",
       "      <th>2</th>\n",
       "      <td>0.787332</td>\n",
       "    </tr>\n",
       "    <tr>\n",
       "      <th>3</th>\n",
       "      <td>-0.213632</td>\n",
       "    </tr>\n",
       "    <tr>\n",
       "      <th>4</th>\n",
       "      <td>-2.602710</td>\n",
       "    </tr>\n",
       "    <tr>\n",
       "      <th>5</th>\n",
       "      <td>-0.926275</td>\n",
       "    </tr>\n",
       "    <tr>\n",
       "      <th>6</th>\n",
       "      <td>0.839066</td>\n",
       "    </tr>\n",
       "    <tr>\n",
       "      <th>7</th>\n",
       "      <td>1.703930</td>\n",
       "    </tr>\n",
       "  </tbody>\n",
       "</table>\n",
       "</div>"
      ],
      "text/plain": [
       "          A\n",
       "0  0.755764\n",
       "1 -0.143895\n",
       "2  0.787332\n",
       "3 -0.213632\n",
       "4 -2.602710\n",
       "5 -0.926275\n",
       "6  0.839066\n",
       "7  1.703930"
      ]
     },
     "execution_count": 11,
     "metadata": {},
     "output_type": "execute_result"
    }
   ],
   "source": [
    "df1 = pd.DataFrame(np.random.randn(8, 1), columns=[\"A\"], dtype=\"float32\")\n",
    "df1"
   ]
  },
  {
   "cell_type": "code",
   "execution_count": 12,
   "id": "0f916995-7676-482e-acaf-4a9b179d9203",
   "metadata": {},
   "outputs": [
    {
     "data": {
      "text/plain": [
       "A    float32\n",
       "dtype: object"
      ]
     },
     "execution_count": 12,
     "metadata": {},
     "output_type": "execute_result"
    }
   ],
   "source": [
    "df1.dtypes"
   ]
  },
  {
   "cell_type": "code",
   "execution_count": 13,
   "id": "edeaa2af-dedb-4f64-8c3e-0a1f0c9ab1c4",
   "metadata": {},
   "outputs": [
    {
     "data": {
      "text/html": [
       "<div>\n",
       "<style scoped>\n",
       "    .dataframe tbody tr th:only-of-type {\n",
       "        vertical-align: middle;\n",
       "    }\n",
       "\n",
       "    .dataframe tbody tr th {\n",
       "        vertical-align: top;\n",
       "    }\n",
       "\n",
       "    .dataframe thead th {\n",
       "        text-align: right;\n",
       "    }\n",
       "</style>\n",
       "<table border=\"1\" class=\"dataframe\">\n",
       "  <thead>\n",
       "    <tr style=\"text-align: right;\">\n",
       "      <th></th>\n",
       "      <th>A</th>\n",
       "      <th>B</th>\n",
       "      <th>C</th>\n",
       "    </tr>\n",
       "  </thead>\n",
       "  <tbody>\n",
       "    <tr>\n",
       "      <th>0</th>\n",
       "      <td>-1.234375</td>\n",
       "      <td>-1.071682</td>\n",
       "      <td>0</td>\n",
       "    </tr>\n",
       "    <tr>\n",
       "      <th>1</th>\n",
       "      <td>0.324707</td>\n",
       "      <td>-0.963522</td>\n",
       "      <td>0</td>\n",
       "    </tr>\n",
       "    <tr>\n",
       "      <th>2</th>\n",
       "      <td>0.410645</td>\n",
       "      <td>0.073100</td>\n",
       "      <td>1</td>\n",
       "    </tr>\n",
       "    <tr>\n",
       "      <th>3</th>\n",
       "      <td>0.773438</td>\n",
       "      <td>-0.177541</td>\n",
       "      <td>0</td>\n",
       "    </tr>\n",
       "    <tr>\n",
       "      <th>4</th>\n",
       "      <td>-1.234375</td>\n",
       "      <td>2.262462</td>\n",
       "      <td>255</td>\n",
       "    </tr>\n",
       "    <tr>\n",
       "      <th>5</th>\n",
       "      <td>0.855957</td>\n",
       "      <td>0.320415</td>\n",
       "      <td>0</td>\n",
       "    </tr>\n",
       "    <tr>\n",
       "      <th>6</th>\n",
       "      <td>-0.010040</td>\n",
       "      <td>0.862397</td>\n",
       "      <td>255</td>\n",
       "    </tr>\n",
       "    <tr>\n",
       "      <th>7</th>\n",
       "      <td>-0.875000</td>\n",
       "      <td>0.811686</td>\n",
       "      <td>0</td>\n",
       "    </tr>\n",
       "  </tbody>\n",
       "</table>\n",
       "</div>"
      ],
      "text/plain": [
       "          A         B    C\n",
       "0 -1.234375 -1.071682    0\n",
       "1  0.324707 -0.963522    0\n",
       "2  0.410645  0.073100    1\n",
       "3  0.773438 -0.177541    0\n",
       "4 -1.234375  2.262462  255\n",
       "5  0.855957  0.320415    0\n",
       "6 -0.010040  0.862397  255\n",
       "7 -0.875000  0.811686    0"
      ]
     },
     "execution_count": 13,
     "metadata": {},
     "output_type": "execute_result"
    }
   ],
   "source": [
    "df2 = pd.DataFrame(\n",
    "    {\n",
    "        \"A\": pd.Series(np.random.randn(8), dtype=\"float16\"),\n",
    "        \"B\": pd.Series(np.random.randn(8)),\n",
    "        \"C\": pd.Series(np.array(np.random.randn(8), dtype=\"uint8\")),\n",
    "    }\n",
    ")\n",
    "\n",
    "df2"
   ]
  },
  {
   "cell_type": "code",
   "execution_count": 14,
   "id": "706e9ad2-06b5-4734-826d-0aab49a938cf",
   "metadata": {},
   "outputs": [
    {
     "data": {
      "text/plain": [
       "A    float16\n",
       "B    float64\n",
       "C      uint8\n",
       "dtype: object"
      ]
     },
     "execution_count": 14,
     "metadata": {},
     "output_type": "execute_result"
    }
   ],
   "source": [
    "df2.dtypes"
   ]
  },
  {
   "cell_type": "markdown",
   "id": "36c32abc-4319-4eca-ace5-fa4ff179661c",
   "metadata": {},
   "source": [
    "<a class=\"anchor\" id=\"defaults\"></a>\n",
    "### defaults"
   ]
  },
  {
   "cell_type": "markdown",
   "id": "651f3b5e-f27a-43a9-b838-3ecd2ccdaa7c",
   "metadata": {},
   "source": [
    "By default integer types are `int64` and float types are `float64`,\n",
    "*regardless* of platform (32-bit or 64-bit).\n",
    "The following will all result in `int64` dtypes."
   ]
  },
  {
   "cell_type": "code",
   "execution_count": 15,
   "id": "5be99c1f-60b3-4860-99d4-c191c2a7998d",
   "metadata": {},
   "outputs": [
    {
     "data": {
      "text/plain": [
       "a    int64\n",
       "dtype: object"
      ]
     },
     "execution_count": 15,
     "metadata": {},
     "output_type": "execute_result"
    }
   ],
   "source": [
    "pd.DataFrame([1, 2], columns=[\"a\"]).dtypes"
   ]
  },
  {
   "cell_type": "code",
   "execution_count": 16,
   "id": "3db2b7e0-cfab-40b5-b8b2-71477097ec5a",
   "metadata": {},
   "outputs": [
    {
     "data": {
      "text/plain": [
       "a    int64\n",
       "dtype: object"
      ]
     },
     "execution_count": 16,
     "metadata": {},
     "output_type": "execute_result"
    }
   ],
   "source": [
    "pd.DataFrame({\"a\": [1, 2]}).dtypes"
   ]
  },
  {
   "cell_type": "code",
   "execution_count": 17,
   "id": "bac3962a-c62e-4500-94c4-0fb6478854dd",
   "metadata": {},
   "outputs": [
    {
     "data": {
      "text/plain": [
       "a    int64\n",
       "dtype: object"
      ]
     },
     "execution_count": 17,
     "metadata": {},
     "output_type": "execute_result"
    }
   ],
   "source": [
    "pd.DataFrame({\"a\": 1}, index=list(range(2))).dtypes"
   ]
  },
  {
   "cell_type": "markdown",
   "id": "abebfccf-f398-4fb2-a51b-60f86cf4189c",
   "metadata": {},
   "source": [
    "Note that Numpy will choose *platform-dependent* types when creating arrays.\n",
    "The following **WILL** result in `int32` on 32-bit platform."
   ]
  },
  {
   "cell_type": "code",
   "execution_count": 21,
   "id": "5d8cc8e6-cff6-4628-ab9f-0bd247d9c499",
   "metadata": {},
   "outputs": [
    {
     "data": {
      "text/html": [
       "<div>\n",
       "<style scoped>\n",
       "    .dataframe tbody tr th:only-of-type {\n",
       "        vertical-align: middle;\n",
       "    }\n",
       "\n",
       "    .dataframe tbody tr th {\n",
       "        vertical-align: top;\n",
       "    }\n",
       "\n",
       "    .dataframe thead th {\n",
       "        text-align: right;\n",
       "    }\n",
       "</style>\n",
       "<table border=\"1\" class=\"dataframe\">\n",
       "  <thead>\n",
       "    <tr style=\"text-align: right;\">\n",
       "      <th></th>\n",
       "      <th>0</th>\n",
       "    </tr>\n",
       "  </thead>\n",
       "  <tbody>\n",
       "    <tr>\n",
       "      <th>0</th>\n",
       "      <td>1</td>\n",
       "    </tr>\n",
       "    <tr>\n",
       "      <th>1</th>\n",
       "      <td>2</td>\n",
       "    </tr>\n",
       "  </tbody>\n",
       "</table>\n",
       "</div>"
      ],
      "text/plain": [
       "   0\n",
       "0  1\n",
       "1  2"
      ]
     },
     "execution_count": 21,
     "metadata": {},
     "output_type": "execute_result"
    }
   ],
   "source": [
    "frame = pd.DataFrame(np.array([1, 2]))\n",
    "frame"
   ]
  },
  {
   "cell_type": "code",
   "execution_count": 22,
   "id": "26141063-b2d2-401c-b4eb-421f90bf4e1b",
   "metadata": {},
   "outputs": [
    {
     "data": {
      "text/plain": [
       "0    int64\n",
       "dtype: object"
      ]
     },
     "execution_count": 22,
     "metadata": {},
     "output_type": "execute_result"
    }
   ],
   "source": [
    "frame.dtypes"
   ]
  },
  {
   "cell_type": "markdown",
   "id": "ba1c8a87-0acc-4854-b1f4-15a9c85854c1",
   "metadata": {},
   "source": [
    "<a class=\"anchor\" id=\"upcasting\"></a>\n",
    "### upcasting"
   ]
  },
  {
   "cell_type": "markdown",
   "id": "73edb13e-1606-4067-99cc-7e57eb022067",
   "metadata": {},
   "source": [
    "Types can potentially be *upcasted* when combined with other types, meaning they are promoted\n",
    "from the current type (e.g. `int` to `float`)."
   ]
  },
  {
   "cell_type": "code",
   "execution_count": 27,
   "id": "63c3fb5d-cd17-4c12-b6d4-699bd9529e45",
   "metadata": {},
   "outputs": [
    {
     "data": {
      "text/html": [
       "<div>\n",
       "<style scoped>\n",
       "    .dataframe tbody tr th:only-of-type {\n",
       "        vertical-align: middle;\n",
       "    }\n",
       "\n",
       "    .dataframe tbody tr th {\n",
       "        vertical-align: top;\n",
       "    }\n",
       "\n",
       "    .dataframe thead th {\n",
       "        text-align: right;\n",
       "    }\n",
       "</style>\n",
       "<table border=\"1\" class=\"dataframe\">\n",
       "  <thead>\n",
       "    <tr style=\"text-align: right;\">\n",
       "      <th></th>\n",
       "      <th>A</th>\n",
       "    </tr>\n",
       "  </thead>\n",
       "  <tbody>\n",
       "    <tr>\n",
       "      <th>0</th>\n",
       "      <td>0.755764</td>\n",
       "    </tr>\n",
       "    <tr>\n",
       "      <th>1</th>\n",
       "      <td>-0.143895</td>\n",
       "    </tr>\n",
       "    <tr>\n",
       "      <th>2</th>\n",
       "      <td>0.787332</td>\n",
       "    </tr>\n",
       "    <tr>\n",
       "      <th>3</th>\n",
       "      <td>-0.213632</td>\n",
       "    </tr>\n",
       "    <tr>\n",
       "      <th>4</th>\n",
       "      <td>-2.602710</td>\n",
       "    </tr>\n",
       "    <tr>\n",
       "      <th>5</th>\n",
       "      <td>-0.926275</td>\n",
       "    </tr>\n",
       "    <tr>\n",
       "      <th>6</th>\n",
       "      <td>0.839066</td>\n",
       "    </tr>\n",
       "    <tr>\n",
       "      <th>7</th>\n",
       "      <td>1.703930</td>\n",
       "    </tr>\n",
       "  </tbody>\n",
       "</table>\n",
       "</div>"
      ],
      "text/plain": [
       "          A\n",
       "0  0.755764\n",
       "1 -0.143895\n",
       "2  0.787332\n",
       "3 -0.213632\n",
       "4 -2.602710\n",
       "5 -0.926275\n",
       "6  0.839066\n",
       "7  1.703930"
      ]
     },
     "execution_count": 27,
     "metadata": {},
     "output_type": "execute_result"
    }
   ],
   "source": [
    "df1"
   ]
  },
  {
   "cell_type": "code",
   "execution_count": 25,
   "id": "820e6ea5-9ab1-47d6-9a7d-38021eb2e346",
   "metadata": {},
   "outputs": [
    {
     "data": {
      "text/plain": [
       "A    float32\n",
       "dtype: object"
      ]
     },
     "execution_count": 25,
     "metadata": {},
     "output_type": "execute_result"
    }
   ],
   "source": [
    "df1.dtypes"
   ]
  },
  {
   "cell_type": "code",
   "execution_count": 28,
   "id": "b459bfe2-4b47-449f-8eeb-39518fb77e11",
   "metadata": {},
   "outputs": [
    {
     "data": {
      "text/html": [
       "<div>\n",
       "<style scoped>\n",
       "    .dataframe tbody tr th:only-of-type {\n",
       "        vertical-align: middle;\n",
       "    }\n",
       "\n",
       "    .dataframe tbody tr th {\n",
       "        vertical-align: top;\n",
       "    }\n",
       "\n",
       "    .dataframe thead th {\n",
       "        text-align: right;\n",
       "    }\n",
       "</style>\n",
       "<table border=\"1\" class=\"dataframe\">\n",
       "  <thead>\n",
       "    <tr style=\"text-align: right;\">\n",
       "      <th></th>\n",
       "      <th>A</th>\n",
       "      <th>B</th>\n",
       "      <th>C</th>\n",
       "    </tr>\n",
       "  </thead>\n",
       "  <tbody>\n",
       "    <tr>\n",
       "      <th>0</th>\n",
       "      <td>-1.234375</td>\n",
       "      <td>-1.071682</td>\n",
       "      <td>0</td>\n",
       "    </tr>\n",
       "    <tr>\n",
       "      <th>1</th>\n",
       "      <td>0.324707</td>\n",
       "      <td>-0.963522</td>\n",
       "      <td>0</td>\n",
       "    </tr>\n",
       "    <tr>\n",
       "      <th>2</th>\n",
       "      <td>0.410645</td>\n",
       "      <td>0.073100</td>\n",
       "      <td>1</td>\n",
       "    </tr>\n",
       "    <tr>\n",
       "      <th>3</th>\n",
       "      <td>0.773438</td>\n",
       "      <td>-0.177541</td>\n",
       "      <td>0</td>\n",
       "    </tr>\n",
       "    <tr>\n",
       "      <th>4</th>\n",
       "      <td>-1.234375</td>\n",
       "      <td>2.262462</td>\n",
       "      <td>255</td>\n",
       "    </tr>\n",
       "    <tr>\n",
       "      <th>5</th>\n",
       "      <td>0.855957</td>\n",
       "      <td>0.320415</td>\n",
       "      <td>0</td>\n",
       "    </tr>\n",
       "    <tr>\n",
       "      <th>6</th>\n",
       "      <td>-0.010040</td>\n",
       "      <td>0.862397</td>\n",
       "      <td>255</td>\n",
       "    </tr>\n",
       "    <tr>\n",
       "      <th>7</th>\n",
       "      <td>-0.875000</td>\n",
       "      <td>0.811686</td>\n",
       "      <td>0</td>\n",
       "    </tr>\n",
       "  </tbody>\n",
       "</table>\n",
       "</div>"
      ],
      "text/plain": [
       "          A         B    C\n",
       "0 -1.234375 -1.071682    0\n",
       "1  0.324707 -0.963522    0\n",
       "2  0.410645  0.073100    1\n",
       "3  0.773438 -0.177541    0\n",
       "4 -1.234375  2.262462  255\n",
       "5  0.855957  0.320415    0\n",
       "6 -0.010040  0.862397  255\n",
       "7 -0.875000  0.811686    0"
      ]
     },
     "execution_count": 28,
     "metadata": {},
     "output_type": "execute_result"
    }
   ],
   "source": [
    "df2"
   ]
  },
  {
   "cell_type": "code",
   "execution_count": 26,
   "id": "6fb0f3d8-2e18-4b83-b7f0-63008f99a3f3",
   "metadata": {},
   "outputs": [
    {
     "data": {
      "text/plain": [
       "A    float16\n",
       "B    float64\n",
       "C      uint8\n",
       "dtype: object"
      ]
     },
     "execution_count": 26,
     "metadata": {},
     "output_type": "execute_result"
    }
   ],
   "source": [
    "df2.dtypes"
   ]
  },
  {
   "cell_type": "code",
   "execution_count": 23,
   "id": "5a04c087-3a77-41d9-b706-ecac5ed90f5d",
   "metadata": {},
   "outputs": [
    {
     "data": {
      "text/html": [
       "<div>\n",
       "<style scoped>\n",
       "    .dataframe tbody tr th:only-of-type {\n",
       "        vertical-align: middle;\n",
       "    }\n",
       "\n",
       "    .dataframe tbody tr th {\n",
       "        vertical-align: top;\n",
       "    }\n",
       "\n",
       "    .dataframe thead th {\n",
       "        text-align: right;\n",
       "    }\n",
       "</style>\n",
       "<table border=\"1\" class=\"dataframe\">\n",
       "  <thead>\n",
       "    <tr style=\"text-align: right;\">\n",
       "      <th></th>\n",
       "      <th>A</th>\n",
       "      <th>B</th>\n",
       "      <th>C</th>\n",
       "    </tr>\n",
       "  </thead>\n",
       "  <tbody>\n",
       "    <tr>\n",
       "      <th>0</th>\n",
       "      <td>-0.478611</td>\n",
       "      <td>-1.071682</td>\n",
       "      <td>0.0</td>\n",
       "    </tr>\n",
       "    <tr>\n",
       "      <th>1</th>\n",
       "      <td>0.180812</td>\n",
       "      <td>-0.963522</td>\n",
       "      <td>0.0</td>\n",
       "    </tr>\n",
       "    <tr>\n",
       "      <th>2</th>\n",
       "      <td>1.197977</td>\n",
       "      <td>0.073100</td>\n",
       "      <td>1.0</td>\n",
       "    </tr>\n",
       "    <tr>\n",
       "      <th>3</th>\n",
       "      <td>0.559805</td>\n",
       "      <td>-0.177541</td>\n",
       "      <td>0.0</td>\n",
       "    </tr>\n",
       "    <tr>\n",
       "      <th>4</th>\n",
       "      <td>-3.837085</td>\n",
       "      <td>2.262462</td>\n",
       "      <td>255.0</td>\n",
       "    </tr>\n",
       "    <tr>\n",
       "      <th>5</th>\n",
       "      <td>-0.070318</td>\n",
       "      <td>0.320415</td>\n",
       "      <td>0.0</td>\n",
       "    </tr>\n",
       "    <tr>\n",
       "      <th>6</th>\n",
       "      <td>0.829026</td>\n",
       "      <td>0.862397</td>\n",
       "      <td>255.0</td>\n",
       "    </tr>\n",
       "    <tr>\n",
       "      <th>7</th>\n",
       "      <td>0.828930</td>\n",
       "      <td>0.811686</td>\n",
       "      <td>0.0</td>\n",
       "    </tr>\n",
       "  </tbody>\n",
       "</table>\n",
       "</div>"
      ],
      "text/plain": [
       "          A         B      C\n",
       "0 -0.478611 -1.071682    0.0\n",
       "1  0.180812 -0.963522    0.0\n",
       "2  1.197977  0.073100    1.0\n",
       "3  0.559805 -0.177541    0.0\n",
       "4 -3.837085  2.262462  255.0\n",
       "5 -0.070318  0.320415    0.0\n",
       "6  0.829026  0.862397  255.0\n",
       "7  0.828930  0.811686    0.0"
      ]
     },
     "execution_count": 23,
     "metadata": {},
     "output_type": "execute_result"
    }
   ],
   "source": [
    "df3 = df1.reindex_like(df2).fillna(value=0.0) + df2\n",
    "df3"
   ]
  },
  {
   "cell_type": "code",
   "execution_count": 24,
   "id": "e0700982-7116-44be-b7d6-89f88bf1d1fb",
   "metadata": {},
   "outputs": [
    {
     "data": {
      "text/plain": [
       "A    float32\n",
       "B    float64\n",
       "C    float64\n",
       "dtype: object"
      ]
     },
     "execution_count": 24,
     "metadata": {},
     "output_type": "execute_result"
    }
   ],
   "source": [
    "df3.dtypes"
   ]
  },
  {
   "cell_type": "markdown",
   "id": "74319098-f6cd-4942-924b-03226b179949",
   "metadata": {},
   "source": [
    "[`DataFrame.to_numpy()`](../reference/api/pandas.DataFrame.to_numpy.html#pandas.DataFrame.to_numpy \"pandas.DataFrame.to_numpy\") will return the *lower-common-denominator* of the dtypes, meaning\n",
    "the dtype that can accommodate **ALL** of the types in the resulting homogeneous dtyped NumPy array. This can\n",
    "force some *upcasting*."
   ]
  },
  {
   "cell_type": "code",
   "execution_count": 30,
   "id": "2afc9a82-9602-4c17-96d0-3828a6394673",
   "metadata": {},
   "outputs": [
    {
     "data": {
      "text/plain": [
       "array([[-4.78610933e-01, -1.07168169e+00,  0.00000000e+00],\n",
       "       [ 1.80811748e-01, -9.63522340e-01,  0.00000000e+00],\n",
       "       [ 1.19797695e+00,  7.30997428e-02,  1.00000000e+00],\n",
       "       [ 5.59805095e-01, -1.77540844e-01,  0.00000000e+00],\n",
       "       [-3.83708549e+00,  2.26246194e+00,  2.55000000e+02],\n",
       "       [-7.03182817e-02,  3.20415083e-01,  0.00000000e+00],\n",
       "       [ 8.29026163e-01,  8.62396878e-01,  2.55000000e+02],\n",
       "       [ 8.28929543e-01,  8.11685643e-01,  0.00000000e+00]])"
      ]
     },
     "execution_count": 30,
     "metadata": {},
     "output_type": "execute_result"
    }
   ],
   "source": [
    "df3.to_numpy()"
   ]
  },
  {
   "cell_type": "code",
   "execution_count": 29,
   "id": "557b609a-4802-4ce8-8fc5-02be6242bc0b",
   "metadata": {},
   "outputs": [
    {
     "data": {
      "text/plain": [
       "dtype('float64')"
      ]
     },
     "execution_count": 29,
     "metadata": {},
     "output_type": "execute_result"
    }
   ],
   "source": [
    "df3.to_numpy().dtype"
   ]
  },
  {
   "cell_type": "markdown",
   "id": "dc3c442b-051e-48bb-8358-e2890605dd54",
   "metadata": {},
   "source": [
    "<a class=\"anchor\" id=\"astype\"></a>\n",
    "### astype"
   ]
  },
  {
   "cell_type": "markdown",
   "id": "72a074ea-b4f0-4ef7-9f9f-441882e3376c",
   "metadata": {},
   "source": [
    "You can use the [`astype()`](../reference/api/pandas.DataFrame.astype.html#pandas.DataFrame.astype \"pandas.DataFrame.astype\") method to explicitly convert dtypes from one to another. These will by default return a copy,\n",
    "even if the dtype was unchanged (pass `copy=False` to change this behavior). In addition, they will raise an\n",
    "exception if the astype operation is invalid."
   ]
  },
  {
   "cell_type": "markdown",
   "id": "4b7d14af-9da3-4511-b358-5424a76191e2",
   "metadata": {},
   "source": [
    "Upcasting is always according to the **NumPy** rules. If two different dtypes are involved in an operation,\n",
    "then the more *general* one will be used as the result of the operation."
   ]
  },
  {
   "cell_type": "code",
   "execution_count": 31,
   "id": "18d9f8bf-10e0-4728-b69f-47a510b26a30",
   "metadata": {},
   "outputs": [
    {
     "data": {
      "text/html": [
       "<div>\n",
       "<style scoped>\n",
       "    .dataframe tbody tr th:only-of-type {\n",
       "        vertical-align: middle;\n",
       "    }\n",
       "\n",
       "    .dataframe tbody tr th {\n",
       "        vertical-align: top;\n",
       "    }\n",
       "\n",
       "    .dataframe thead th {\n",
       "        text-align: right;\n",
       "    }\n",
       "</style>\n",
       "<table border=\"1\" class=\"dataframe\">\n",
       "  <thead>\n",
       "    <tr style=\"text-align: right;\">\n",
       "      <th></th>\n",
       "      <th>A</th>\n",
       "      <th>B</th>\n",
       "      <th>C</th>\n",
       "    </tr>\n",
       "  </thead>\n",
       "  <tbody>\n",
       "    <tr>\n",
       "      <th>0</th>\n",
       "      <td>-0.478611</td>\n",
       "      <td>-1.071682</td>\n",
       "      <td>0.0</td>\n",
       "    </tr>\n",
       "    <tr>\n",
       "      <th>1</th>\n",
       "      <td>0.180812</td>\n",
       "      <td>-0.963522</td>\n",
       "      <td>0.0</td>\n",
       "    </tr>\n",
       "    <tr>\n",
       "      <th>2</th>\n",
       "      <td>1.197977</td>\n",
       "      <td>0.073100</td>\n",
       "      <td>1.0</td>\n",
       "    </tr>\n",
       "    <tr>\n",
       "      <th>3</th>\n",
       "      <td>0.559805</td>\n",
       "      <td>-0.177541</td>\n",
       "      <td>0.0</td>\n",
       "    </tr>\n",
       "    <tr>\n",
       "      <th>4</th>\n",
       "      <td>-3.837085</td>\n",
       "      <td>2.262462</td>\n",
       "      <td>255.0</td>\n",
       "    </tr>\n",
       "    <tr>\n",
       "      <th>5</th>\n",
       "      <td>-0.070318</td>\n",
       "      <td>0.320415</td>\n",
       "      <td>0.0</td>\n",
       "    </tr>\n",
       "    <tr>\n",
       "      <th>6</th>\n",
       "      <td>0.829026</td>\n",
       "      <td>0.862397</td>\n",
       "      <td>255.0</td>\n",
       "    </tr>\n",
       "    <tr>\n",
       "      <th>7</th>\n",
       "      <td>0.828930</td>\n",
       "      <td>0.811686</td>\n",
       "      <td>0.0</td>\n",
       "    </tr>\n",
       "  </tbody>\n",
       "</table>\n",
       "</div>"
      ],
      "text/plain": [
       "          A         B      C\n",
       "0 -0.478611 -1.071682    0.0\n",
       "1  0.180812 -0.963522    0.0\n",
       "2  1.197977  0.073100    1.0\n",
       "3  0.559805 -0.177541    0.0\n",
       "4 -3.837085  2.262462  255.0\n",
       "5 -0.070318  0.320415    0.0\n",
       "6  0.829026  0.862397  255.0\n",
       "7  0.828930  0.811686    0.0"
      ]
     },
     "execution_count": 31,
     "metadata": {},
     "output_type": "execute_result"
    }
   ],
   "source": [
    "df3"
   ]
  },
  {
   "cell_type": "code",
   "execution_count": 32,
   "id": "19d55339-2d93-44fe-9150-48c2883e1a4d",
   "metadata": {},
   "outputs": [
    {
     "data": {
      "text/plain": [
       "A    float32\n",
       "B    float64\n",
       "C    float64\n",
       "dtype: object"
      ]
     },
     "execution_count": 32,
     "metadata": {},
     "output_type": "execute_result"
    }
   ],
   "source": [
    "df3.dtypes"
   ]
  },
  {
   "cell_type": "code",
   "execution_count": 33,
   "id": "24865f62-3816-4639-836f-6323180867fc",
   "metadata": {},
   "outputs": [
    {
     "data": {
      "text/plain": [
       "A    float32\n",
       "B    float32\n",
       "C    float32\n",
       "dtype: object"
      ]
     },
     "execution_count": 33,
     "metadata": {},
     "output_type": "execute_result"
    }
   ],
   "source": [
    "df3.astype(\"float32\").dtypes"
   ]
  },
  {
   "cell_type": "markdown",
   "id": "6180467c-d27d-4981-a04b-75a27d10ecb8",
   "metadata": {},
   "source": [
    "Convert a subset of columns to a specified type using [`astype()`](../reference/api/pandas.DataFrame.astype.html#pandas.DataFrame.astype \"pandas.DataFrame.astype\")."
   ]
  },
  {
   "cell_type": "code",
   "execution_count": 34,
   "id": "fd67ad89-c4f3-4afa-89f4-04f7a6473d02",
   "metadata": {},
   "outputs": [],
   "source": [
    "dft = pd.DataFrame({\"a\": [1, 2, 3], \"b\": [4, 5, 6], \"c\": [7, 8, 9]})"
   ]
  },
  {
   "cell_type": "code",
   "execution_count": 35,
   "id": "bc60174a-dde6-497f-b338-616d450dfdcc",
   "metadata": {},
   "outputs": [],
   "source": [
    "dft[[\"a\", \"b\"]] = dft[[\"a\", \"b\"]].astype(np.uint8)"
   ]
  },
  {
   "cell_type": "code",
   "execution_count": 36,
   "id": "c2426080-5d98-471c-8f7a-a049719c4bb8",
   "metadata": {},
   "outputs": [
    {
     "data": {
      "text/html": [
       "<div>\n",
       "<style scoped>\n",
       "    .dataframe tbody tr th:only-of-type {\n",
       "        vertical-align: middle;\n",
       "    }\n",
       "\n",
       "    .dataframe tbody tr th {\n",
       "        vertical-align: top;\n",
       "    }\n",
       "\n",
       "    .dataframe thead th {\n",
       "        text-align: right;\n",
       "    }\n",
       "</style>\n",
       "<table border=\"1\" class=\"dataframe\">\n",
       "  <thead>\n",
       "    <tr style=\"text-align: right;\">\n",
       "      <th></th>\n",
       "      <th>a</th>\n",
       "      <th>b</th>\n",
       "      <th>c</th>\n",
       "    </tr>\n",
       "  </thead>\n",
       "  <tbody>\n",
       "    <tr>\n",
       "      <th>0</th>\n",
       "      <td>1</td>\n",
       "      <td>4</td>\n",
       "      <td>7</td>\n",
       "    </tr>\n",
       "    <tr>\n",
       "      <th>1</th>\n",
       "      <td>2</td>\n",
       "      <td>5</td>\n",
       "      <td>8</td>\n",
       "    </tr>\n",
       "    <tr>\n",
       "      <th>2</th>\n",
       "      <td>3</td>\n",
       "      <td>6</td>\n",
       "      <td>9</td>\n",
       "    </tr>\n",
       "  </tbody>\n",
       "</table>\n",
       "</div>"
      ],
      "text/plain": [
       "   a  b  c\n",
       "0  1  4  7\n",
       "1  2  5  8\n",
       "2  3  6  9"
      ]
     },
     "execution_count": 36,
     "metadata": {},
     "output_type": "execute_result"
    }
   ],
   "source": [
    "dft"
   ]
  },
  {
   "cell_type": "code",
   "execution_count": 37,
   "id": "b0873ea1-d112-487a-a926-953b88a1da9f",
   "metadata": {},
   "outputs": [
    {
     "data": {
      "text/plain": [
       "a    uint8\n",
       "b    uint8\n",
       "c    int64\n",
       "dtype: object"
      ]
     },
     "execution_count": 37,
     "metadata": {},
     "output_type": "execute_result"
    }
   ],
   "source": [
    "dft.dtypes"
   ]
  },
  {
   "cell_type": "markdown",
   "id": "91403d6d-b7fb-4c60-a35d-e2676df55acf",
   "metadata": {},
   "source": [
    "Convert certain columns to a specific dtype by passing a dict to [`astype()`](../reference/api/pandas.DataFrame.astype.html#pandas.DataFrame.astype \"pandas.DataFrame.astype\")."
   ]
  },
  {
   "cell_type": "code",
   "execution_count": 38,
   "id": "c50f2821-883e-4dfe-b45d-b7b7f5c7b9ee",
   "metadata": {},
   "outputs": [],
   "source": [
    "dft1 = pd.DataFrame({\"a\": [1, 0, 1], \"b\": [4, 5, 6], \"c\": [7, 8, 9]})"
   ]
  },
  {
   "cell_type": "code",
   "execution_count": 39,
   "id": "27a6dac1-529d-4c87-a074-6225f1d0fe51",
   "metadata": {},
   "outputs": [],
   "source": [
    "dft1 = dft1.astype({\"a\": np.bool_, \"c\": np.float64})"
   ]
  },
  {
   "cell_type": "code",
   "execution_count": 40,
   "id": "1fca392f-88dc-4da6-aef8-254a8a3d3fe4",
   "metadata": {},
   "outputs": [
    {
     "data": {
      "text/html": [
       "<div>\n",
       "<style scoped>\n",
       "    .dataframe tbody tr th:only-of-type {\n",
       "        vertical-align: middle;\n",
       "    }\n",
       "\n",
       "    .dataframe tbody tr th {\n",
       "        vertical-align: top;\n",
       "    }\n",
       "\n",
       "    .dataframe thead th {\n",
       "        text-align: right;\n",
       "    }\n",
       "</style>\n",
       "<table border=\"1\" class=\"dataframe\">\n",
       "  <thead>\n",
       "    <tr style=\"text-align: right;\">\n",
       "      <th></th>\n",
       "      <th>a</th>\n",
       "      <th>b</th>\n",
       "      <th>c</th>\n",
       "    </tr>\n",
       "  </thead>\n",
       "  <tbody>\n",
       "    <tr>\n",
       "      <th>0</th>\n",
       "      <td>True</td>\n",
       "      <td>4</td>\n",
       "      <td>7.0</td>\n",
       "    </tr>\n",
       "    <tr>\n",
       "      <th>1</th>\n",
       "      <td>False</td>\n",
       "      <td>5</td>\n",
       "      <td>8.0</td>\n",
       "    </tr>\n",
       "    <tr>\n",
       "      <th>2</th>\n",
       "      <td>True</td>\n",
       "      <td>6</td>\n",
       "      <td>9.0</td>\n",
       "    </tr>\n",
       "  </tbody>\n",
       "</table>\n",
       "</div>"
      ],
      "text/plain": [
       "       a  b    c\n",
       "0   True  4  7.0\n",
       "1  False  5  8.0\n",
       "2   True  6  9.0"
      ]
     },
     "execution_count": 40,
     "metadata": {},
     "output_type": "execute_result"
    }
   ],
   "source": [
    "dft1"
   ]
  },
  {
   "cell_type": "code",
   "execution_count": 41,
   "id": "8cb3b206-f295-4eed-9ef3-d889ff4fd4aa",
   "metadata": {},
   "outputs": [
    {
     "data": {
      "text/plain": [
       "a       bool\n",
       "b      int64\n",
       "c    float64\n",
       "dtype: object"
      ]
     },
     "execution_count": 41,
     "metadata": {},
     "output_type": "execute_result"
    }
   ],
   "source": [
    "dft1.dtypes"
   ]
  },
  {
   "cell_type": "markdown",
   "id": "6f5a0c96-3a11-4ed7-b3d3-9731035b66c6",
   "metadata": {},
   "source": [
    "> Note\n",
    "> \n",
    "> When trying to convert a subset of columns to a specified type using [`astype()`](https://pandas.pydata.org/docs/reference/api/pandas.DataFrame.astype.html#pandas.DataFrame.astype) and [`loc()`](https://pandas.pydata.org/docs/reference/api/pandas.DataFrame.loc.html#pandas.DataFrame.loc), upcasting occurs.\n",
    "> \n",
    "> [`loc()`](https://pandas.pydata.org/docs/reference/api/pandas.DataFrame.loc.html#pandas.DataFrame.loc) tries to fit in what we are assigning to the current dtypes, while `[]` will overwrite them taking the dtype from the right hand side. Therefore the following piece of code produces the unintended result."
   ]
  },
  {
   "cell_type": "code",
   "execution_count": 42,
   "id": "92249ef1-7515-4ff3-be48-24474fe5b17c",
   "metadata": {},
   "outputs": [],
   "source": [
    "dft = pd.DataFrame({\"a\": [1, 2, 3], \"b\": [4, 5, 6], \"c\": [7, 8, 9]})"
   ]
  },
  {
   "cell_type": "code",
   "execution_count": 43,
   "id": "179d0dc3-e880-4c17-9c03-107e403a90a7",
   "metadata": {},
   "outputs": [
    {
     "data": {
      "text/plain": [
       "a    uint8\n",
       "b    uint8\n",
       "dtype: object"
      ]
     },
     "execution_count": 43,
     "metadata": {},
     "output_type": "execute_result"
    }
   ],
   "source": [
    "dft.loc[:, [\"a\", \"b\"]].astype(np.uint8).dtypes"
   ]
  },
  {
   "cell_type": "code",
   "execution_count": 44,
   "id": "42788782-0397-4f16-b9dd-af9888e25eb6",
   "metadata": {},
   "outputs": [],
   "source": [
    "dft.loc[:, [\"a\", \"b\"]] = dft.loc[:, [\"a\", \"b\"]].astype(np.uint8)"
   ]
  },
  {
   "cell_type": "code",
   "execution_count": 45,
   "id": "ed3b3ecd-9930-44d3-a495-6ed68a5fc1b1",
   "metadata": {},
   "outputs": [
    {
     "data": {
      "text/plain": [
       "a    int64\n",
       "b    int64\n",
       "c    int64\n",
       "dtype: object"
      ]
     },
     "execution_count": 45,
     "metadata": {},
     "output_type": "execute_result"
    }
   ],
   "source": [
    "dft.dtypes"
   ]
  },
  {
   "cell_type": "markdown",
   "id": "53f0b3a3-2c31-48a8-9b80-630b5d882877",
   "metadata": {},
   "source": [
    "<a class=\"anchor\" id=\"object_conversion\"></a>\n",
    "### object conversion"
   ]
  },
  {
   "cell_type": "markdown",
   "id": "7f7a7840-12d2-4315-b570-4de73f2daa72",
   "metadata": {},
   "source": [
    "pandas offers various functions to try to force conversion of types from the `object` dtype to other types.\n",
    "In cases where the data is already of the correct type, but stored in an `object` array, the\n",
    "[`DataFrame.infer_objects()`](https://pandas.pydata.org/docs/reference/api/pandas.DataFrame.infer_objects.html#pandas.DataFrame.infer_objects) and [`Series.infer_objects()`](https://pandas.pydata.org/docs/reference/api/pandas.Series.infer_objects.html#pandas.Series.infer_objects) methods can be used to soft convert\n",
    "to the correct type."
   ]
  },
  {
   "cell_type": "code",
   "execution_count": 46,
   "id": "b0cb6535-39be-4b95-837c-ea022806502c",
   "metadata": {},
   "outputs": [],
   "source": [
    "import datetime"
   ]
  },
  {
   "cell_type": "code",
   "execution_count": 47,
   "id": "e70cf3b1-7c81-4eef-9bc6-11c5cc6ba515",
   "metadata": {},
   "outputs": [],
   "source": [
    "df = pd.DataFrame(\n",
    "    [\n",
    "        [1, 2],\n",
    "        [\"a\", \"b\"],\n",
    "        [datetime.datetime(2016, 3, 2), datetime.datetime(2016, 3, 2)],\n",
    "    ]\n",
    ")"
   ]
  },
  {
   "cell_type": "code",
   "execution_count": 48,
   "id": "8118e093-39d1-4adb-949c-76a66c63cf9d",
   "metadata": {},
   "outputs": [],
   "source": [
    "df = df.T"
   ]
  },
  {
   "cell_type": "code",
   "execution_count": 49,
   "id": "0c72be90-1299-4aca-9207-4f95f38e3ee1",
   "metadata": {},
   "outputs": [
    {
     "data": {
      "text/html": [
       "<div>\n",
       "<style scoped>\n",
       "    .dataframe tbody tr th:only-of-type {\n",
       "        vertical-align: middle;\n",
       "    }\n",
       "\n",
       "    .dataframe tbody tr th {\n",
       "        vertical-align: top;\n",
       "    }\n",
       "\n",
       "    .dataframe thead th {\n",
       "        text-align: right;\n",
       "    }\n",
       "</style>\n",
       "<table border=\"1\" class=\"dataframe\">\n",
       "  <thead>\n",
       "    <tr style=\"text-align: right;\">\n",
       "      <th></th>\n",
       "      <th>0</th>\n",
       "      <th>1</th>\n",
       "      <th>2</th>\n",
       "    </tr>\n",
       "  </thead>\n",
       "  <tbody>\n",
       "    <tr>\n",
       "      <th>0</th>\n",
       "      <td>1</td>\n",
       "      <td>a</td>\n",
       "      <td>2016-03-02</td>\n",
       "    </tr>\n",
       "    <tr>\n",
       "      <th>1</th>\n",
       "      <td>2</td>\n",
       "      <td>b</td>\n",
       "      <td>2016-03-02</td>\n",
       "    </tr>\n",
       "  </tbody>\n",
       "</table>\n",
       "</div>"
      ],
      "text/plain": [
       "   0  1          2\n",
       "0  1  a 2016-03-02\n",
       "1  2  b 2016-03-02"
      ]
     },
     "execution_count": 49,
     "metadata": {},
     "output_type": "execute_result"
    }
   ],
   "source": [
    "df"
   ]
  },
  {
   "cell_type": "code",
   "execution_count": 50,
   "id": "6074108d-6960-46cb-96d0-ebfb2b5cb289",
   "metadata": {},
   "outputs": [
    {
     "data": {
      "text/plain": [
       "0            object\n",
       "1            object\n",
       "2    datetime64[ns]\n",
       "dtype: object"
      ]
     },
     "execution_count": 50,
     "metadata": {},
     "output_type": "execute_result"
    }
   ],
   "source": [
    "df.dtypes"
   ]
  },
  {
   "cell_type": "markdown",
   "id": "fd481184-eaa9-45f2-999b-74a42d856ffc",
   "metadata": {},
   "source": [
    "Because the data was transposed the original inference stored all columns as object, which\n",
    "`infer_objects` will correct."
   ]
  },
  {
   "cell_type": "code",
   "execution_count": 51,
   "id": "db524397-1625-4e5f-98ed-c71023234023",
   "metadata": {},
   "outputs": [
    {
     "data": {
      "text/plain": [
       "0             int64\n",
       "1            object\n",
       "2    datetime64[ns]\n",
       "dtype: object"
      ]
     },
     "execution_count": 51,
     "metadata": {},
     "output_type": "execute_result"
    }
   ],
   "source": [
    "df.infer_objects().dtypes"
   ]
  },
  {
   "cell_type": "markdown",
   "id": "dbe81638-8280-4a8b-900c-df061d0a065f",
   "metadata": {},
   "source": [
    "The following functions are available for one dimensional object arrays or scalars to perform\n",
    "hard conversion of objects to a specified type:"
   ]
  },
  {
   "cell_type": "markdown",
   "id": "793cc62d-7328-4d57-b084-ff08e2a6287c",
   "metadata": {},
   "source": [
    "- [`to_numeric()`](https://pandas.pydata.org/docs/reference/api/pandas.to_numeric.html#pandas.to_numeric) (conversion to numeric dtypes)"
   ]
  },
  {
   "cell_type": "code",
   "execution_count": 52,
   "id": "a4080328-be38-428e-9714-67588da8f391",
   "metadata": {},
   "outputs": [],
   "source": [
    "m = [\"1.1\", 2, 3]"
   ]
  },
  {
   "cell_type": "code",
   "execution_count": 53,
   "id": "191d83de-8194-42d1-bfd7-682aa4f4f707",
   "metadata": {},
   "outputs": [
    {
     "data": {
      "text/plain": [
       "array([1.1, 2. , 3. ])"
      ]
     },
     "execution_count": 53,
     "metadata": {},
     "output_type": "execute_result"
    }
   ],
   "source": [
    "pd.to_numeric(m)"
   ]
  },
  {
   "cell_type": "markdown",
   "id": "82d6bfb4-a1aa-4a92-b843-951cc0efcd61",
   "metadata": {},
   "source": [
    "- [`to_datetime()`](https://pandas.pydata.org/docs/reference/api/pandas.to_datetime.html#pandas.to_datetime) (conversion to datetime objects)"
   ]
  },
  {
   "cell_type": "code",
   "execution_count": 55,
   "id": "b0fa50dd-131b-45ca-9eaa-7d358f9dece0",
   "metadata": {},
   "outputs": [],
   "source": [
    "import datetime"
   ]
  },
  {
   "cell_type": "code",
   "execution_count": 56,
   "id": "97e1b55f-69e1-4979-ab9c-5762f6fa87bc",
   "metadata": {},
   "outputs": [],
   "source": [
    "m = [\"2016-07-09\", datetime.datetime(2016, 3, 2)]"
   ]
  },
  {
   "cell_type": "code",
   "execution_count": 57,
   "id": "8ea64c08-2977-46bc-be0f-1399ef6e61a6",
   "metadata": {},
   "outputs": [
    {
     "data": {
      "text/plain": [
       "DatetimeIndex(['2016-07-09', '2016-03-02'], dtype='datetime64[ns]', freq=None)"
      ]
     },
     "execution_count": 57,
     "metadata": {},
     "output_type": "execute_result"
    }
   ],
   "source": [
    "pd.to_datetime(m)"
   ]
  },
  {
   "cell_type": "markdown",
   "id": "e5040963-80ae-44fd-a351-603189f4c2d9",
   "metadata": {},
   "source": [
    "- [`to_timedelta()`](https://pandas.pydata.org/docs/reference/api/pandas.to_timedelta.html#pandas.to_timedelta) (conversion to timedelta objects)"
   ]
  },
  {
   "cell_type": "code",
   "execution_count": 58,
   "id": "ac32e3b7-8bad-44b4-9f54-27b39af8344b",
   "metadata": {},
   "outputs": [],
   "source": [
    "m = [\"5us\", pd.Timedelta(\"1day\")]"
   ]
  },
  {
   "cell_type": "code",
   "execution_count": 59,
   "id": "221a85a3-c108-4405-9a77-cb907167afaa",
   "metadata": {},
   "outputs": [
    {
     "data": {
      "text/plain": [
       "TimedeltaIndex(['0 days 00:00:00.000005', '1 days 00:00:00'], dtype='timedelta64[ns]', freq=None)"
      ]
     },
     "execution_count": 59,
     "metadata": {},
     "output_type": "execute_result"
    }
   ],
   "source": [
    "pd.to_timedelta(m)"
   ]
  },
  {
   "cell_type": "markdown",
   "id": "0bef7914-29ea-4bfe-b54e-d5927c2d004a",
   "metadata": {},
   "source": [
    "To force a conversion, we can pass in an `errors` argument, which specifies how pandas should deal with elements\n",
    "that cannot be converted to desired dtype or object. By default, `errors='raise'`, meaning that any errors encountered\n",
    "will be raised during the conversion process. However, if `errors='coerce'`, these errors will be ignored and pandas\n",
    "will convert problematic elements to `pd.NaT` (for datetime and timedelta) or `np.nan` (for numeric). This might be\n",
    "useful if you are reading in data which is mostly of the desired dtype (e.g. numeric, datetime), but occasionally has\n",
    "non-conforming elements intermixed that you want to represent as missing:"
   ]
  },
  {
   "cell_type": "code",
   "execution_count": 68,
   "id": "0fe3fd9d-b3c9-43bf-946e-70a97a845bec",
   "metadata": {},
   "outputs": [],
   "source": [
    "import datetime"
   ]
  },
  {
   "cell_type": "code",
   "execution_count": 69,
   "id": "05461155-7863-4b5c-9526-6da606e186b6",
   "metadata": {},
   "outputs": [
    {
     "data": {
      "text/plain": [
       "DatetimeIndex(['NaT', '2016-03-02'], dtype='datetime64[ns]', freq=None)"
      ]
     },
     "execution_count": 69,
     "metadata": {},
     "output_type": "execute_result"
    }
   ],
   "source": [
    "m = [\"apple\", datetime.datetime(2016, 3, 2)]\n",
    "pd.to_datetime(m, errors=\"coerce\")"
   ]
  },
  {
   "cell_type": "code",
   "execution_count": 70,
   "id": "38eb0cd1-0024-4d04-8b8a-e3a31c828d57",
   "metadata": {},
   "outputs": [
    {
     "data": {
      "text/plain": [
       "array([nan,  2.,  3.])"
      ]
     },
     "execution_count": 70,
     "metadata": {},
     "output_type": "execute_result"
    }
   ],
   "source": [
    "m = [\"apple\", 2, 3]\n",
    "pd.to_numeric(m, errors=\"coerce\")"
   ]
  },
  {
   "cell_type": "code",
   "execution_count": 71,
   "id": "5b3978e1-f5a2-4742-b2a0-1e3d602aa07f",
   "metadata": {},
   "outputs": [
    {
     "data": {
      "text/plain": [
       "TimedeltaIndex([NaT, '1 days'], dtype='timedelta64[ns]', freq=None)"
      ]
     },
     "execution_count": 71,
     "metadata": {},
     "output_type": "execute_result"
    }
   ],
   "source": [
    "m = [\"apple\", pd.Timedelta(\"1day\")]\n",
    "pd.to_timedelta(m, errors=\"coerce\")"
   ]
  },
  {
   "cell_type": "markdown",
   "id": "8badff7f-a0bb-4666-b2c1-3e1ba21b5cd9",
   "metadata": {},
   "source": [
    "The `errors` parameter has a third option of `errors='ignore'`, which will simply return the passed in data if it\n",
    "encounters any errors with the conversion to a desired data type:"
   ]
  },
  {
   "cell_type": "code",
   "execution_count": 72,
   "id": "3dd5535d-0540-48c1-837f-96478ca8afef",
   "metadata": {},
   "outputs": [
    {
     "data": {
      "text/plain": [
       "Index(['apple', 2016-03-02 00:00:00], dtype='object')"
      ]
     },
     "execution_count": 72,
     "metadata": {},
     "output_type": "execute_result"
    }
   ],
   "source": [
    "m = [\"apple\", datetime.datetime(2016, 3, 2)]\n",
    "pd.to_datetime(m, errors=\"ignore\")"
   ]
  },
  {
   "cell_type": "code",
   "execution_count": 73,
   "id": "04f3e14b-c09a-44d7-81e5-565e105e458b",
   "metadata": {},
   "outputs": [
    {
     "data": {
      "text/plain": [
       "array(['apple', 2, 3], dtype=object)"
      ]
     },
     "execution_count": 73,
     "metadata": {},
     "output_type": "execute_result"
    }
   ],
   "source": [
    "m = [\"apple\", 2, 3]\n",
    "pd.to_numeric(m, errors=\"ignore\")"
   ]
  },
  {
   "cell_type": "code",
   "execution_count": 74,
   "id": "7f7a7a0d-c20a-4f93-8f03-bade6b4c4538",
   "metadata": {},
   "outputs": [
    {
     "data": {
      "text/plain": [
       "array(['apple', Timedelta('1 days 00:00:00')], dtype=object)"
      ]
     },
     "execution_count": 74,
     "metadata": {},
     "output_type": "execute_result"
    }
   ],
   "source": [
    "m = [\"apple\", pd.Timedelta(\"1day\")]\n",
    "pd.to_timedelta(m, errors=\"ignore\")"
   ]
  },
  {
   "cell_type": "markdown",
   "id": "cf196405-d03a-4856-9cbc-bacde9957a87",
   "metadata": {},
   "source": [
    "<a class=\"anchor\" id=\"selecting_columns_based_on_\"></a>\n",
    "## Selecting columns based on `dtype`"
   ]
  },
  {
   "cell_type": "markdown",
   "id": "2e5ef409-cfb4-4139-ae19-2eab1f572f9f",
   "metadata": {},
   "source": [
    "The [`select_dtypes()`](../reference/api/pandas.DataFrame.select_dtypes.html#pandas.DataFrame.select_dtypes \"pandas.DataFrame.select_dtypes\") method implements subsetting of columns\n",
    "based on their `dtype`."
   ]
  },
  {
   "cell_type": "markdown",
   "id": "e2576130-9b0b-403a-b009-bb2863a66974",
   "metadata": {},
   "source": [
    "First, let’s create a [`DataFrame`](../reference/api/pandas.DataFrame.html#pandas.DataFrame \"pandas.DataFrame\") with a slew of different\n",
    "dtypes:"
   ]
  },
  {
   "cell_type": "code",
   "execution_count": 87,
   "id": "e2912a7d-ec04-4bb1-8cdf-9c9a9825e01c",
   "metadata": {},
   "outputs": [],
   "source": [
    "df = pd.DataFrame(\n",
    "    {\n",
    "        \"string\": list(\"abc\"),\n",
    "        \"int64\": list(range(1, 4)),\n",
    "        \"uint8\": np.arange(3, 6).astype(\"u1\"),\n",
    "        \"float64\": np.arange(4.0, 7.0),\n",
    "        \"bool1\": [True, False, True],\n",
    "        \"bool2\": [False, True, False],\n",
    "        \"dates\": pd.date_range(\"now\", periods=3),\n",
    "        \"category\": pd.Series(list(\"ABC\")).astype(\"category\"),\n",
    "    }\n",
    ")"
   ]
  },
  {
   "cell_type": "code",
   "execution_count": 88,
   "id": "ab1ec1aa-37f4-4247-bafa-7957e2acfb11",
   "metadata": {},
   "outputs": [],
   "source": [
    "df[\"tdeltas\"] = df.dates.diff()"
   ]
  },
  {
   "cell_type": "code",
   "execution_count": 89,
   "id": "f030db02-1cda-4d82-8f07-be4abd34a473",
   "metadata": {},
   "outputs": [],
   "source": [
    "df[\"uint64\"] = np.arange(3, 6).astype(\"u8\")"
   ]
  },
  {
   "cell_type": "code",
   "execution_count": 90,
   "id": "a277b7e7-5ed8-424e-89b7-71be26d357cc",
   "metadata": {},
   "outputs": [],
   "source": [
    "df[\"other_dates\"] = pd.date_range(\"20130101\", periods=3)"
   ]
  },
  {
   "cell_type": "code",
   "execution_count": 91,
   "id": "c57190cc-ebf0-48ff-9fe4-6f0b605a424c",
   "metadata": {},
   "outputs": [],
   "source": [
    "df[\"tz_aware_dates\"] = pd.date_range(\"20130101\", periods=3, tz=\"US/Eastern\")"
   ]
  },
  {
   "cell_type": "code",
   "execution_count": 92,
   "id": "e76934ac-0773-4733-a308-487c4a8120a4",
   "metadata": {},
   "outputs": [
    {
     "data": {
      "text/html": [
       "<div>\n",
       "<style scoped>\n",
       "    .dataframe tbody tr th:only-of-type {\n",
       "        vertical-align: middle;\n",
       "    }\n",
       "\n",
       "    .dataframe tbody tr th {\n",
       "        vertical-align: top;\n",
       "    }\n",
       "\n",
       "    .dataframe thead th {\n",
       "        text-align: right;\n",
       "    }\n",
       "</style>\n",
       "<table border=\"1\" class=\"dataframe\">\n",
       "  <thead>\n",
       "    <tr style=\"text-align: right;\">\n",
       "      <th></th>\n",
       "      <th>string</th>\n",
       "      <th>int64</th>\n",
       "      <th>uint8</th>\n",
       "      <th>float64</th>\n",
       "      <th>bool1</th>\n",
       "      <th>bool2</th>\n",
       "      <th>dates</th>\n",
       "      <th>category</th>\n",
       "      <th>tdeltas</th>\n",
       "      <th>uint64</th>\n",
       "      <th>other_dates</th>\n",
       "      <th>tz_aware_dates</th>\n",
       "    </tr>\n",
       "  </thead>\n",
       "  <tbody>\n",
       "    <tr>\n",
       "      <th>0</th>\n",
       "      <td>a</td>\n",
       "      <td>1</td>\n",
       "      <td>3</td>\n",
       "      <td>4.0</td>\n",
       "      <td>True</td>\n",
       "      <td>False</td>\n",
       "      <td>2022-10-25 09:17:07.104747</td>\n",
       "      <td>A</td>\n",
       "      <td>NaT</td>\n",
       "      <td>3</td>\n",
       "      <td>2013-01-01</td>\n",
       "      <td>2013-01-01 00:00:00-05:00</td>\n",
       "    </tr>\n",
       "    <tr>\n",
       "      <th>1</th>\n",
       "      <td>b</td>\n",
       "      <td>2</td>\n",
       "      <td>4</td>\n",
       "      <td>5.0</td>\n",
       "      <td>False</td>\n",
       "      <td>True</td>\n",
       "      <td>2022-10-26 09:17:07.104747</td>\n",
       "      <td>B</td>\n",
       "      <td>1 days</td>\n",
       "      <td>4</td>\n",
       "      <td>2013-01-02</td>\n",
       "      <td>2013-01-02 00:00:00-05:00</td>\n",
       "    </tr>\n",
       "    <tr>\n",
       "      <th>2</th>\n",
       "      <td>c</td>\n",
       "      <td>3</td>\n",
       "      <td>5</td>\n",
       "      <td>6.0</td>\n",
       "      <td>True</td>\n",
       "      <td>False</td>\n",
       "      <td>2022-10-27 09:17:07.104747</td>\n",
       "      <td>C</td>\n",
       "      <td>1 days</td>\n",
       "      <td>5</td>\n",
       "      <td>2013-01-03</td>\n",
       "      <td>2013-01-03 00:00:00-05:00</td>\n",
       "    </tr>\n",
       "  </tbody>\n",
       "</table>\n",
       "</div>"
      ],
      "text/plain": [
       "  string  int64  uint8  float64  bool1  bool2                      dates  \\\n",
       "0      a      1      3      4.0   True  False 2022-10-25 09:17:07.104747   \n",
       "1      b      2      4      5.0  False   True 2022-10-26 09:17:07.104747   \n",
       "2      c      3      5      6.0   True  False 2022-10-27 09:17:07.104747   \n",
       "\n",
       "  category tdeltas  uint64 other_dates            tz_aware_dates  \n",
       "0        A     NaT       3  2013-01-01 2013-01-01 00:00:00-05:00  \n",
       "1        B  1 days       4  2013-01-02 2013-01-02 00:00:00-05:00  \n",
       "2        C  1 days       5  2013-01-03 2013-01-03 00:00:00-05:00  "
      ]
     },
     "execution_count": 92,
     "metadata": {},
     "output_type": "execute_result"
    }
   ],
   "source": [
    "df"
   ]
  },
  {
   "cell_type": "markdown",
   "id": "620a01ab-c341-4d3e-a259-657ebd8c64cd",
   "metadata": {},
   "source": [
    "And the dtypes:"
   ]
  },
  {
   "cell_type": "code",
   "execution_count": 93,
   "id": "2920a7a3-1e9f-4228-89a6-f93c9c52867f",
   "metadata": {},
   "outputs": [
    {
     "data": {
      "text/plain": [
       "string                                object\n",
       "int64                                  int64\n",
       "uint8                                  uint8\n",
       "float64                              float64\n",
       "bool1                                   bool\n",
       "bool2                                   bool\n",
       "dates                         datetime64[ns]\n",
       "category                            category\n",
       "tdeltas                      timedelta64[ns]\n",
       "uint64                                uint64\n",
       "other_dates                   datetime64[ns]\n",
       "tz_aware_dates    datetime64[ns, US/Eastern]\n",
       "dtype: object"
      ]
     },
     "execution_count": 93,
     "metadata": {},
     "output_type": "execute_result"
    }
   ],
   "source": [
    "df.dtypes"
   ]
  },
  {
   "cell_type": "markdown",
   "id": "9f78e904-1c13-4989-82e4-191ff2647ebd",
   "metadata": {},
   "source": [
    "[`select_dtypes()`](../reference/api/pandas.DataFrame.select_dtypes.html#pandas.DataFrame.select_dtypes \"pandas.DataFrame.select_dtypes\") has two parameters `include` and `exclude` that allow you to\n",
    "say “give me the columns *with* these dtypes” (`include`) and/or “give the\n",
    "columns *without* these dtypes” (`exclude`)."
   ]
  },
  {
   "cell_type": "markdown",
   "id": "7244f4cd-8a73-43ec-bb51-486d722384c3",
   "metadata": {},
   "source": [
    "For example, to select `bool` columns:"
   ]
  },
  {
   "cell_type": "code",
   "execution_count": 94,
   "id": "59772f5c-ba89-4658-8ab9-7f12615ab85a",
   "metadata": {},
   "outputs": [
    {
     "data": {
      "text/html": [
       "<div>\n",
       "<style scoped>\n",
       "    .dataframe tbody tr th:only-of-type {\n",
       "        vertical-align: middle;\n",
       "    }\n",
       "\n",
       "    .dataframe tbody tr th {\n",
       "        vertical-align: top;\n",
       "    }\n",
       "\n",
       "    .dataframe thead th {\n",
       "        text-align: right;\n",
       "    }\n",
       "</style>\n",
       "<table border=\"1\" class=\"dataframe\">\n",
       "  <thead>\n",
       "    <tr style=\"text-align: right;\">\n",
       "      <th></th>\n",
       "      <th>bool1</th>\n",
       "      <th>bool2</th>\n",
       "    </tr>\n",
       "  </thead>\n",
       "  <tbody>\n",
       "    <tr>\n",
       "      <th>0</th>\n",
       "      <td>True</td>\n",
       "      <td>False</td>\n",
       "    </tr>\n",
       "    <tr>\n",
       "      <th>1</th>\n",
       "      <td>False</td>\n",
       "      <td>True</td>\n",
       "    </tr>\n",
       "    <tr>\n",
       "      <th>2</th>\n",
       "      <td>True</td>\n",
       "      <td>False</td>\n",
       "    </tr>\n",
       "  </tbody>\n",
       "</table>\n",
       "</div>"
      ],
      "text/plain": [
       "   bool1  bool2\n",
       "0   True  False\n",
       "1  False   True\n",
       "2   True  False"
      ]
     },
     "execution_count": 94,
     "metadata": {},
     "output_type": "execute_result"
    }
   ],
   "source": [
    "df.select_dtypes(include=[bool])"
   ]
  },
  {
   "cell_type": "markdown",
   "id": "54547613-0a42-4b91-ac17-0346a4922ce6",
   "metadata": {},
   "source": [
    "You can also pass the name of a dtype in the [NumPy dtype hierarchy](https://numpy.org/doc/stable/reference/arrays.scalars.html):"
   ]
  },
  {
   "cell_type": "code",
   "execution_count": 96,
   "id": "3ffae939-461a-4f66-ac29-94661c3e2b62",
   "metadata": {},
   "outputs": [
    {
     "data": {
      "text/html": [
       "<div>\n",
       "<style scoped>\n",
       "    .dataframe tbody tr th:only-of-type {\n",
       "        vertical-align: middle;\n",
       "    }\n",
       "\n",
       "    .dataframe tbody tr th {\n",
       "        vertical-align: top;\n",
       "    }\n",
       "\n",
       "    .dataframe thead th {\n",
       "        text-align: right;\n",
       "    }\n",
       "</style>\n",
       "<table border=\"1\" class=\"dataframe\">\n",
       "  <thead>\n",
       "    <tr style=\"text-align: right;\">\n",
       "      <th></th>\n",
       "      <th>bool1</th>\n",
       "      <th>bool2</th>\n",
       "    </tr>\n",
       "  </thead>\n",
       "  <tbody>\n",
       "    <tr>\n",
       "      <th>0</th>\n",
       "      <td>True</td>\n",
       "      <td>False</td>\n",
       "    </tr>\n",
       "    <tr>\n",
       "      <th>1</th>\n",
       "      <td>False</td>\n",
       "      <td>True</td>\n",
       "    </tr>\n",
       "    <tr>\n",
       "      <th>2</th>\n",
       "      <td>True</td>\n",
       "      <td>False</td>\n",
       "    </tr>\n",
       "  </tbody>\n",
       "</table>\n",
       "</div>"
      ],
      "text/plain": [
       "   bool1  bool2\n",
       "0   True  False\n",
       "1  False   True\n",
       "2   True  False"
      ]
     },
     "execution_count": 96,
     "metadata": {},
     "output_type": "execute_result"
    }
   ],
   "source": [
    "df.select_dtypes(include=[\"bool\"])"
   ]
  },
  {
   "cell_type": "markdown",
   "id": "baaee693-b72d-4800-b5bf-b9f3e3ed5d51",
   "metadata": {},
   "source": [
    "[`select_dtypes()`](../reference/api/pandas.DataFrame.select_dtypes.html#pandas.DataFrame.select_dtypes \"pandas.DataFrame.select_dtypes\") also works with generic dtypes as well."
   ]
  },
  {
   "cell_type": "markdown",
   "id": "41962d56-3a73-4c53-8453-3f9331218278",
   "metadata": {},
   "source": [
    "For example, to select all numeric and boolean columns while excluding unsigned\n",
    "integers:"
   ]
  },
  {
   "cell_type": "code",
   "execution_count": 97,
   "id": "42c1cfea-b8e8-4341-9b9c-6c1780b90191",
   "metadata": {},
   "outputs": [
    {
     "data": {
      "text/html": [
       "<div>\n",
       "<style scoped>\n",
       "    .dataframe tbody tr th:only-of-type {\n",
       "        vertical-align: middle;\n",
       "    }\n",
       "\n",
       "    .dataframe tbody tr th {\n",
       "        vertical-align: top;\n",
       "    }\n",
       "\n",
       "    .dataframe thead th {\n",
       "        text-align: right;\n",
       "    }\n",
       "</style>\n",
       "<table border=\"1\" class=\"dataframe\">\n",
       "  <thead>\n",
       "    <tr style=\"text-align: right;\">\n",
       "      <th></th>\n",
       "      <th>int64</th>\n",
       "      <th>float64</th>\n",
       "      <th>bool1</th>\n",
       "      <th>bool2</th>\n",
       "      <th>tdeltas</th>\n",
       "    </tr>\n",
       "  </thead>\n",
       "  <tbody>\n",
       "    <tr>\n",
       "      <th>0</th>\n",
       "      <td>1</td>\n",
       "      <td>4.0</td>\n",
       "      <td>True</td>\n",
       "      <td>False</td>\n",
       "      <td>NaT</td>\n",
       "    </tr>\n",
       "    <tr>\n",
       "      <th>1</th>\n",
       "      <td>2</td>\n",
       "      <td>5.0</td>\n",
       "      <td>False</td>\n",
       "      <td>True</td>\n",
       "      <td>1 days</td>\n",
       "    </tr>\n",
       "    <tr>\n",
       "      <th>2</th>\n",
       "      <td>3</td>\n",
       "      <td>6.0</td>\n",
       "      <td>True</td>\n",
       "      <td>False</td>\n",
       "      <td>1 days</td>\n",
       "    </tr>\n",
       "  </tbody>\n",
       "</table>\n",
       "</div>"
      ],
      "text/plain": [
       "   int64  float64  bool1  bool2 tdeltas\n",
       "0      1      4.0   True  False     NaT\n",
       "1      2      5.0  False   True  1 days\n",
       "2      3      6.0   True  False  1 days"
      ]
     },
     "execution_count": 97,
     "metadata": {},
     "output_type": "execute_result"
    }
   ],
   "source": [
    "df.select_dtypes(include=[\"number\", \"bool\"], exclude=[\"unsignedinteger\"])"
   ]
  },
  {
   "cell_type": "markdown",
   "id": "0566cef8-ae61-4eea-869f-3e3694bf5577",
   "metadata": {},
   "source": [
    "To select string columns you must use the `object` dtype:"
   ]
  }
 ],
 "metadata": {
  "kernelspec": {
   "display_name": "Python 3",
   "language": "python",
   "name": "python3"
  },
  "language_info": {
   "codemirror_mode": {
    "name": "ipython",
    "version": 3
   },
   "file_extension": ".py",
   "mimetype": "text/x-python",
   "name": "python",
   "nbconvert_exporter": "python",
   "pygments_lexer": "ipython3",
   "version": "3.8.11"
  }
 },
 "nbformat": 4,
 "nbformat_minor": 5
}
