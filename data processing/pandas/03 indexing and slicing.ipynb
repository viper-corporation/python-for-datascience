{
 "cells": [
  {
   "cell_type": "markdown",
   "id": "e62f90d5-9b0c-41d3-8328-d5ffcbf5680b",
   "metadata": {},
   "source": [
    "# Pandas Indexing and Slicing"
   ]
  },
  {
   "cell_type": "markdown",
   "id": "27e153b3-2ea5-472b-8dbb-f9bb7b27b642",
   "metadata": {},
   "source": [
    "In Pandas, indexing refers to accessing rows and columns of data from a DataFrame, whereas slicing refers to accessing a range of rows and columns.\n",
    "\n",
    "We can access data or range of data from a DataFrame using different methods."
   ]
  },
  {
   "cell_type": "markdown",
   "id": "50fce548-6e02-4958-9b26-3a5eb66f51d0",
   "metadata": {},
   "source": [
    "## Access Columns of a DataFrame"
   ]
  },
  {
   "cell_type": "markdown",
   "id": "86e87576-a2a1-48b1-b4f9-da7fbbc350e9",
   "metadata": {},
   "source": [
    "We can access columns of a DataFrame using the bracket ([]) operator. For example,"
   ]
  },
  {
   "cell_type": "code",
   "execution_count": 5,
   "id": "a45f7823-4066-4486-8134-a0e91f9afd62",
   "metadata": {},
   "outputs": [
    {
     "name": "stdout",
     "output_type": "stream",
     "text": [
      "0      Alice\n",
      "1        Bob\n",
      "2    Charlie\n",
      "3      David\n",
      "4        Eve\n",
      "Name: Name, dtype: object\n"
     ]
    }
   ],
   "source": [
    "import pandas as pd\n",
    "\n",
    "# create a DataFrame\n",
    "data = {\n",
    "    'Name': ['Alice', 'Bob', 'Charlie', 'David', 'Eve'],\n",
    "    'Age': [25, 32, 18, 47, 33],\n",
    "    'City': ['New York', 'Paris', 'London', 'Tokyo', 'Sydney']\n",
    "}\n",
    "df = pd.DataFrame(data)\n",
    "\n",
    "# access the Name column\n",
    "names = df['Name']\n",
    "\n",
    "print(names)"
   ]
  },
  {
   "cell_type": "markdown",
   "id": "39736702-2787-4142-b40a-fc1c61777d2e",
   "metadata": {},
   "source": [
    "In this example, we accessed the Name column of df using the [] operator. It returned a series containing the values of the Name column.\n",
    "\n",
    "We can also access multiple columns using the [] operator. For example,"
   ]
  },
  {
   "cell_type": "code",
   "execution_count": 8,
   "id": "cc90a5f4-c957-471d-b46d-d8e96435ac70",
   "metadata": {},
   "outputs": [
    {
     "name": "stdout",
     "output_type": "stream",
     "text": [
      "      Name      City\n",
      "0    Alice  New York\n",
      "1      Bob     Paris\n",
      "2  Charlie    London\n",
      "3    David     Tokyo\n",
      "4      Eve    Sydney\n"
     ]
    }
   ],
   "source": [
    "import pandas as pd\n",
    "\n",
    "# create a DataFrame\n",
    "data = {\n",
    "    'Name': ['Alice', 'Bob', 'Charlie', 'David', 'Eve'],\n",
    "    'Age': [25, 32, 18, 47, 33],\n",
    "    'City': ['New York', 'Paris', 'London', 'Tokyo', 'Sydney']\n",
    "}\n",
    "df = pd.DataFrame(data)\n",
    "\n",
    "# access multiple columns\n",
    "name_city = df[['Name','City']]\n",
    "\n",
    "print(name_city)"
   ]
  },
  {
   "cell_type": "markdown",
   "id": "f5d9e87e-d906-4f3a-a239-40c44bff519d",
   "metadata": {},
   "source": [
    "In this example, we accessed the Name and the City columns of df using the [] operator. It returned a DataFrame containing the values from Name and City of df.\n",
    "\n",
    "The [] operator, however, provides limited functionality. Even basic operations like selecting rows, slicing DataFrames and selecting individual elements are quite tricky using the [] operator only."
   ]
  },
  {
   "cell_type": "markdown",
   "id": "79ee40a6-c39c-42ea-bc6f-592a3d8b6f36",
   "metadata": {},
   "source": [
    "## Pandas ``.loc``"
   ]
  },
  {
   "cell_type": "markdown",
   "id": "3e6d2069-e123-42b1-ad44-79a89c845c23",
   "metadata": {},
   "source": [
    "in Pandas, we use the .loc property to access and modify data within a DataFrame using label-based indexing. It allows us to select specific rows and columns based on their labels."
   ]
  },
  {
   "cell_type": "markdown",
   "id": "d7fc9dae-a007-481b-9304-6c55b3a0a268",
   "metadata": {},
   "source": [
    "syntax :\n",
    "\n",
    "```python\n",
    "        df.loc[row_indexer, column_indexer]\n",
    "```"
   ]
  },
  {
   "cell_type": "markdown",
   "id": "36535cce-2808-4cd4-ad7d-735bdb7b5254",
   "metadata": {},
   "source": [
    "Here,\n",
    "\n",
    "* ``row_indexer`` - selects rows by their labels, can be a single label, a list of labels, or a boolean array\n",
    "* ``column_indexer`` - selects columns, can also be a single label, a list of labels, or a boolean array"
   ]
  },
  {
   "cell_type": "markdown",
   "id": "5da7ea8d-c43a-475a-ba74-aa8982ffd215",
   "metadata": {},
   "source": [
    "We can use .loc to access the data from a dataframe using its indexes."
   ]
  },
  {
   "cell_type": "code",
   "execution_count": 16,
   "id": "56780371-964b-4bd3-bd86-0dcfe38734b5",
   "metadata": {},
   "outputs": [
    {
     "name": "stdout",
     "output_type": "stream",
     "text": [
      "Single row:\n",
      "Name    Charlie\n",
      "Age          18\n",
      "City     London\n",
      "Name: 2, dtype: object\n",
      "\n",
      "List of Rows:\n",
      "    Name  Age      City\n",
      "0  Alice   25  New York\n",
      "3  David   47     Tokyo\n",
      "4    Eve   33    Sydney\n",
      "\n",
      "List of Columns:\n",
      "      Name  Age\n",
      "0    Alice   25\n",
      "1      Bob   32\n",
      "2  Charlie   18\n",
      "3    David   47\n",
      "4      Eve   33\n",
      "\n",
      "Specific Value:\n",
      "Bob\n"
     ]
    }
   ],
   "source": [
    "import pandas as pd\n",
    "\n",
    "# create a DataFrame\n",
    "data = {\n",
    "    'Name': ['Alice', 'Bob', 'Charlie', 'David', 'Eve'],\n",
    "    'Age': [25, 32, 18, 47, 33],\n",
    "    'City': ['New York', 'Paris', 'London', 'Tokyo', 'Sydney']\n",
    "}\n",
    "df = pd.DataFrame(data)\n",
    "\n",
    "# access a single row\n",
    "single_row = df.loc[2]\n",
    "\n",
    "print(\"Single row:\")\n",
    "print(single_row)\n",
    "print()\n",
    "\n",
    "# access rows 0, 3 and 4\n",
    "row_list = df.loc[[0, 3, 4]]\n",
    "\n",
    "print(\"List of Rows:\")\n",
    "print(row_list)\n",
    "print()\n",
    "\n",
    "# access a list of columns\n",
    "column_list = df.loc[:,['Name', 'Age']]\n",
    "\n",
    "print(\"List of Columns:\")\n",
    "print(column_list)\n",
    "print()\n",
    "\n",
    "# access second row of 'Name' column\n",
    "specific_value = df.loc[1, 'Name']\n",
    "\n",
    "print(\"Specific Value:\")\n",
    "print(specific_value)"
   ]
  },
  {
   "cell_type": "markdown",
   "id": "1a4a4555-6fb2-4eec-981b-eff80ecc07e9",
   "metadata": {},
   "source": [
    "here, we used .loc to access a row, a list of rows, a list of columns and a specific value using the respective labels.\n",
    "\n",
    "In the line,\n",
    "```python\n",
    "column_list = df.loc[:,['Name', 'Age']]\n",
    "```\n",
    "The ``:`` operator indicates that all the rows are to be selected."
   ]
  },
  {
   "cell_type": "markdown",
   "id": "cec5694d-f674-44ff-ba20-86266f730004",
   "metadata": {},
   "source": [
    "We can also use .loc to access a range of rows and columns. If we sequentially access a DataFrame (say from index 1 to 3), we call it slicing."
   ]
  },
  {
   "cell_type": "code",
   "execution_count": 21,
   "id": "aae43977-f38b-44db-9a40-8d071b37c8dc",
   "metadata": {},
   "outputs": [
    {
     "name": "stdout",
     "output_type": "stream",
     "text": [
      "Sliced Rows:\n",
      "      Name  Age    City\n",
      "1      Bob   32   Paris\n",
      "2  Charlie   18  London\n",
      "3    David   47   Tokyo\n",
      "\n",
      "Sliced Columns:\n",
      "      Name  Age\n",
      "0    Alice   25\n",
      "1      Bob   32\n",
      "2  Charlie   18\n",
      "3    David   47\n",
      "4      Eve   33\n"
     ]
    }
   ],
   "source": [
    "import pandas as pd\n",
    "\n",
    "# create a DataFrame\n",
    "data = {\n",
    "    'Name': ['Alice', 'Bob', 'Charlie', 'David', 'Eve'],\n",
    "    'Age': [25, 32, 18, 47, 33],\n",
    "    'City': ['New York', 'Paris', 'London', 'Tokyo', 'Sydney']\n",
    "}\n",
    "\n",
    "df = pd.DataFrame(data)\n",
    "\n",
    "# slice rows from index 1 to 3\n",
    "slice_rows = df.loc[1:3]\n",
    "\n",
    "print(\"Sliced Rows:\")\n",
    "print(slice_rows)\n",
    "print()\n",
    "\n",
    " # slicing columns from 'Name' to 'Age'\n",
    "slice_columns = df.loc[:, 'Name':'Age']\n",
    "\n",
    "print(\"Sliced Columns:\")\n",
    "print(slice_columns)"
   ]
  },
  {
   "cell_type": "markdown",
   "id": "7778ba0e-fa17-4a16-bffe-baec1d731535",
   "metadata": {},
   "source": [
    "We can use the boolean indexing to set conditions and filter the data."
   ]
  },
  {
   "cell_type": "code",
   "execution_count": 23,
   "id": "955eea7d-d92c-46dc-9a55-b6c09be34a0b",
   "metadata": {},
   "outputs": [
    {
     "name": "stdout",
     "output_type": "stream",
     "text": [
      "Filtered DataFrame: \n",
      "    Name  Age    City\n",
      "1    Bob   32   Paris\n",
      "3  David   47   Tokyo\n",
      "4    Eve   33  Sydney\n"
     ]
    }
   ],
   "source": [
    "import pandas as pd\n",
    "\n",
    "# create a DataFrame\n",
    "data = {\n",
    "    'Name': ['Alice', 'Bob', 'Charlie', 'David', 'Eve'],\n",
    "    'Age': [25, 32, 18, 47, 33],\n",
    "    'City': ['New York', 'Paris', 'London', 'Tokyo', 'Sydney']\n",
    "}\n",
    "df = pd.DataFrame(data)\n",
    "\n",
    "# boolean indexing with .loc\n",
    "boolean_index = df.loc[df['Age'] > 30]\n",
    "\n",
    "print(\"Filtered DataFrame: \")\n",
    "print(boolean_index)"
   ]
  },
  {
   "cell_type": "markdown",
   "id": "3feab0d9-b1b7-4387-b288-2eee79453f49",
   "metadata": {},
   "source": [
    "## Pandas .iloc"
   ]
  },
  {
   "cell_type": "markdown",
   "id": "53d3b8a5-b62b-4cc6-b67d-a772bd2d00b1",
   "metadata": {},
   "source": [
    "In Pandas, the .iloc property is used to access and modify data within a DataFrame using integer-based indexing. It allows us to select specific rows and columns based on their integer locations."
   ]
  },
  {
   "cell_type": "markdown",
   "id": "d5d4046f-9c5e-456c-9a47-77f82c9d788b",
   "metadata": {},
   "source": [
    "syntax :\n",
    "\n",
    "```python\n",
    "        df.iloc[row_indexer, column_indexer]\n",
    "```"
   ]
  },
  {
   "cell_type": "markdown",
   "id": "b5771f76-b0e0-4540-aaf2-d94619df7358",
   "metadata": {},
   "source": [
    "Here,\n",
    "\n",
    "* ```row_indexer``` - is used to select rows by their integer location, and can be a single integer, a list of integers, or a boolean array\n",
    "* ```column_indexer``` - selects columns, and can also be a single integer, a list of integers, or a boolean array\n"
   ]
  },
  {
   "cell_type": "code",
   "execution_count": 28,
   "id": "711ab988-fe61-4dbd-b7a6-3198f7dc4a0b",
   "metadata": {},
   "outputs": [
    {
     "name": "stdout",
     "output_type": "stream",
     "text": [
      "Single Row:\n",
      "Name    Charlie\n",
      "Age          18\n",
      "City     London\n",
      "Name: 2, dtype: object\n",
      "\n",
      "List of Rows:\n",
      "    Name  Age      City\n",
      "0  Alice   25  New York\n",
      "3  David   47     Tokyo\n",
      "4    Eve   33    Sydney\n",
      "\n",
      "List of Columns:\n",
      "      Name      City\n",
      "0    Alice  New York\n",
      "1      Bob     Paris\n",
      "2  Charlie    London\n",
      "3    David     Tokyo\n",
      "4      Eve    Sydney\n",
      "\n",
      "Specific Value:\n",
      "Bob\n"
     ]
    }
   ],
   "source": [
    "import pandas as pd\n",
    "\n",
    "# create a DataFrame\n",
    "data = {\n",
    "    'Name': ['Alice', 'Bob', 'Charlie', 'David', 'Eve'],\n",
    "    'Age': [25, 32, 18, 47, 33],\n",
    "    'City': ['New York', 'Paris', 'London', 'Tokyo', 'Sydney']\n",
    "}\n",
    "df = pd.DataFrame(data)\n",
    "\n",
    "# access single row\n",
    "single_row = df.iloc[2]\n",
    "\n",
    "# access rows 0, 3 and 4\n",
    "row_list = df.iloc[[0, 3, 4]]\n",
    "\n",
    "# access columns 0 and 2\n",
    "column_list = df.iloc[:,[0,2]]\n",
    "\n",
    "# access a specific value\n",
    "specific_value = df.iloc[1, 0]\n",
    "\n",
    "# display result\n",
    "print(\"Single Row:\")\n",
    "print(single_row)\n",
    "print()\n",
    "print(\"List of Rows:\")\n",
    "print(row_list)\n",
    "print()\n",
    "print(\"List of Columns:\")\n",
    "print(column_list)\n",
    "print()\n",
    "print(\"Specific Value:\")\n",
    "print(specific_value)"
   ]
  },
  {
   "cell_type": "markdown",
   "id": "67a6bae0-ba3e-4987-ace4-d354580522f6",
   "metadata": {},
   "source": [
    "Slicing Using .iloc:"
   ]
  },
  {
   "cell_type": "code",
   "execution_count": 31,
   "id": "ed32e997-9c77-4090-b399-8b5834697742",
   "metadata": {},
   "outputs": [
    {
     "name": "stdout",
     "output_type": "stream",
     "text": [
      "Sliced Rows:\n",
      "      Name  Age    City\n",
      "1      Bob   32   Paris\n",
      "2  Charlie   18  London\n",
      "3    David   47   Tokyo\n",
      "\n",
      "Sliced Columns:\n",
      "      Name  Age\n",
      "0    Alice   25\n",
      "1      Bob   32\n",
      "2  Charlie   18\n",
      "3    David   47\n",
      "4      Eve   33\n"
     ]
    }
   ],
   "source": [
    "import pandas as pd\n",
    "\n",
    "# create a sample DataFrame\n",
    "data = {\n",
    "    'Name': ['Alice', 'Bob', 'Charlie', 'David', 'Eve'],\n",
    "    'Age': [25, 32, 18, 47, 33],\n",
    "    'City': ['New York', 'Paris', 'London', 'Tokyo', 'Sydney']\n",
    "}\n",
    "df = pd.DataFrame(data)\n",
    "\n",
    "# slice rows from position 1 to 3\n",
    "slice_rows = df.iloc[1:4]\n",
    "\n",
    "# slice columns from position 0 to 1\n",
    "slice_columns = df.iloc[:, 0:2]\n",
    "\n",
    "# display results\n",
    "print(\"Sliced Rows:\")\n",
    "print(slice_rows)\n",
    "print()\n",
    "print(\"Sliced Columns:\")\n",
    "print(slice_columns)"
   ]
  },
  {
   "cell_type": "markdown",
   "id": "406e400a-859c-4621-9166-d15f33920033",
   "metadata": {},
   "source": [
    "## .loc vs .iloc"
   ]
  },
  {
   "attachments": {
    "422fc594-5eb9-41f9-a41f-2078bf41921e.png": {
     "image/png": "[encoded data removed]"
    }
   },
   "cell_type": "markdown",
   "id": "e46f5cef-5715-41c7-b869-ef6d82ef271e",
   "metadata": {},
   "source": [
    "![download.png](attachment:422fc594-5eb9-41f9-a41f-2078bf41921e.png)"
   ]
  }
 ],
 "metadata": {
  "kernelspec": {
   "display_name": "Python 3 (ipykernel)",
   "language": "python",
   "name": "python3"
  },
  "language_info": {
   "codemirror_mode": {
    "name": "ipython",
    "version": 3
   },
   "file_extension": ".py",
   "mimetype": "text/x-python",
   "name": "python",
   "nbconvert_exporter": "python",
   "pygments_lexer": "ipython3",
   "version": "3.10.9"
  }
 },
 "nbformat": 4,
 "nbformat_minor": 5
}
