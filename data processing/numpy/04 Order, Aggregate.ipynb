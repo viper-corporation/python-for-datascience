{
 "cells": [
  {
   "cell_type": "markdown",
   "id": "53128944-541b-4dca-8244-9576af5e3824",
   "metadata": {},
   "source": [
    "# Data Science Operations: Order, Aggregate"
   ]
  },
  {
   "cell_type": "markdown",
   "id": "2a4651d7-4f84-42be-babf-a914985c48fc",
   "metadata": {},
   "source": [
    "## Table of Contents \n",
    "* [Transposing, Sorting, and Concatenating](#transposing,_sorting,_and_concatenating)\n",
    "* [Aggregating](#aggregating)\n",
    "\n",
    "---"
   ]
  },
  {
   "cell_type": "markdown",
   "id": "d3f0e24b-0026-42ef-bf14-80feb628680c",
   "metadata": {},
   "source": [
    "<a class=\"anchor\" id=\"transposing,_sorting,_and_concatenating\"></a>\n",
    "\n",
    "\n",
    "## Transposing, Sorting, and Concatenating\n",
    "\n",
    "Other manipulations, while not quite as common as indexing or filtering, can also be very handy depending on the situation you’re in. You’ll see a few examples in this section."
   ]
  },
  {
   "cell_type": "markdown",
   "id": "d0f6b06a-1f2c-4914-92cd-890923cced67",
   "metadata": {},
   "source": [
    "Here’s **transposing** an array:"
   ]
  },
  {
   "cell_type": "code",
   "execution_count": 27,
   "id": "e4bc6d3b-ba2b-4e41-a8e3-2298d0540e7c",
   "metadata": {},
   "outputs": [],
   "source": [
    "import numpy as np\n",
    "\n",
    "a = np.array([\n",
    "    [1, 2],\n",
    "    [3, 4],\n",
    "    [5, 6],\n",
    "])"
   ]
  },
  {
   "cell_type": "code",
   "execution_count": 28,
   "id": "fd880997-b594-45a1-817d-1b9fb8d2b00c",
   "metadata": {},
   "outputs": [
    {
     "data": {
      "text/plain": [
       "array([[1, 3, 5],\n",
       "       [2, 4, 6]])"
      ]
     },
     "execution_count": 28,
     "metadata": {},
     "output_type": "execute_result"
    }
   ],
   "source": [
    "a.T"
   ]
  },
  {
   "cell_type": "code",
   "execution_count": 29,
   "id": "bcca1c86-e36f-43ab-8b82-260d3546f7aa",
   "metadata": {},
   "outputs": [
    {
     "data": {
      "text/plain": [
       "array([[1, 3, 5],\n",
       "       [2, 4, 6]])"
      ]
     },
     "execution_count": 29,
     "metadata": {},
     "output_type": "execute_result"
    }
   ],
   "source": [
    "a.transpose()"
   ]
  },
  {
   "cell_type": "markdown",
   "id": "1f9231e4-5c19-4aa1-8580-724922b4f622",
   "metadata": {},
   "source": [
    "When you calculate the transpose of an array, the row and column indices of every element are switched. Item `[0, 2]`, for example, becomes item `[2, 0]`. You can also use `a.T` as an alias for `a.transpose()`."
   ]
  },
  {
   "cell_type": "markdown",
   "id": "fc46bbe4-1496-4379-bde1-19de7948426f",
   "metadata": {},
   "source": [
    "The following code block shows sorting, but you’ll also see a more powerful sorting technique in the coming section on structured data:"
   ]
  },
  {
   "cell_type": "code",
   "execution_count": 4,
   "id": "d20de5ce-a489-4c3b-b0bb-cdb9a32c87b2",
   "metadata": {},
   "outputs": [],
   "source": [
    "import numpy as np\n",
    "\n",
    "data = np.array([\n",
    "    [7, 1, 4],\n",
    "    [8, 6, 5],\n",
    "    [1, 2, 3]\n",
    "])"
   ]
  },
  {
   "cell_type": "code",
   "execution_count": 5,
   "id": "7366d7f8-b181-4770-aaa7-8c1648321418",
   "metadata": {},
   "outputs": [
    {
     "data": {
      "text/plain": [
       "array([[7, 1, 4],\n",
       "       [8, 6, 5],\n",
       "       [1, 2, 3]])"
      ]
     },
     "execution_count": 5,
     "metadata": {},
     "output_type": "execute_result"
    }
   ],
   "source": [
    "data"
   ]
  },
  {
   "cell_type": "code",
   "execution_count": 6,
   "id": "d6200b42-5043-45b1-bca4-b316e686efb4",
   "metadata": {},
   "outputs": [
    {
     "data": {
      "text/plain": [
       "array([[1, 4, 7],\n",
       "       [5, 6, 8],\n",
       "       [1, 2, 3]])"
      ]
     },
     "execution_count": 6,
     "metadata": {},
     "output_type": "execute_result"
    }
   ],
   "source": [
    "np.sort(data)"
   ]
  },
  {
   "cell_type": "code",
   "execution_count": 7,
   "id": "ac0d521b-366e-4a4a-b06a-722dfb0eb6d4",
   "metadata": {},
   "outputs": [
    {
     "data": {
      "text/plain": [
       "array([1, 1, 2, 3, 4, 5, 6, 7, 8])"
      ]
     },
     "execution_count": 7,
     "metadata": {},
     "output_type": "execute_result"
    }
   ],
   "source": [
    "np.sort(data, axis=None)"
   ]
  },
  {
   "cell_type": "code",
   "execution_count": 9,
   "id": "ed1d5196-5e44-490f-889c-8120ada8417b",
   "metadata": {},
   "outputs": [
    {
     "data": {
      "text/plain": [
       "array([[1, 1, 3],\n",
       "       [7, 2, 4],\n",
       "       [8, 6, 5]])"
      ]
     },
     "execution_count": 9,
     "metadata": {},
     "output_type": "execute_result"
    }
   ],
   "source": [
    "np.sort(data, axis=0)"
   ]
  },
  {
   "cell_type": "code",
   "execution_count": 10,
   "id": "d89d905b-a773-427f-8e9c-fe956e119a99",
   "metadata": {},
   "outputs": [
    {
     "data": {
      "text/plain": [
       "array([[1, 4, 7],\n",
       "       [5, 6, 8],\n",
       "       [1, 2, 3]])"
      ]
     },
     "execution_count": 10,
     "metadata": {},
     "output_type": "execute_result"
    }
   ],
   "source": [
    "np.sort(data, axis=1)"
   ]
  },
  {
   "cell_type": "markdown",
   "id": "8354bec3-c7d1-4aef-8655-c1ca3fce3066",
   "metadata": {},
   "source": [
    "Omitting the `axis` argument automatically selects the last and innermost dimension, which is the rows in this example. Using `None` flattens the array and performs a global sort. Otherwise, you can specify which axis you want. In output of `np.sort(data, axis=0)`, each column of the array still has all of its elements but they have been sorted low-to-high inside that column."
   ]
  },
  {
   "cell_type": "markdown",
   "id": "0e00ea47-70f4-4fef-be16-6a6914c10e77",
   "metadata": {},
   "source": [
    "Finally, here’s an example of **concatenation**. While there’s a `np.concatenate()` function, there are also a number of helper functions that are sometimes easier to read."
   ]
  },
  {
   "cell_type": "markdown",
   "id": "cf6b5289-88ef-4a1a-8606-bbfbcbf489c2",
   "metadata": {},
   "source": [
    "Here are some examples:"
   ]
  },
  {
   "cell_type": "code",
   "execution_count": 33,
   "id": "be6a75fa-218e-49fa-b754-70344faa5506",
   "metadata": {},
   "outputs": [],
   "source": [
    "import numpy as np\n",
    "\n",
    "a = np.array([\n",
    "    [4, 8],\n",
    "    [6, 1]\n",
    "])\n",
    "\n",
    "b = np.array([\n",
    "    [3, 5],\n",
    "    [7, 2],\n",
    "])\n"
   ]
  },
  {
   "cell_type": "code",
   "execution_count": 34,
   "id": "0919f41b-4a43-4631-8638-ced44f0ab38a",
   "metadata": {},
   "outputs": [
    {
     "data": {
      "text/plain": [
       "array([[4, 8],\n",
       "       [6, 1]])"
      ]
     },
     "execution_count": 34,
     "metadata": {},
     "output_type": "execute_result"
    }
   ],
   "source": [
    "a"
   ]
  },
  {
   "cell_type": "code",
   "execution_count": 35,
   "id": "8fbc1859-f89c-44ed-933b-05f1dbf438c0",
   "metadata": {},
   "outputs": [
    {
     "data": {
      "text/plain": [
       "array([[3, 5],\n",
       "       [7, 2]])"
      ]
     },
     "execution_count": 35,
     "metadata": {},
     "output_type": "execute_result"
    }
   ],
   "source": [
    "b"
   ]
  },
  {
   "cell_type": "code",
   "execution_count": 36,
   "id": "4f06c191-e1dd-4e1a-99df-d8383feceaa7",
   "metadata": {},
   "outputs": [
    {
     "data": {
      "text/plain": [
       "array([[4, 8, 3, 5],\n",
       "       [6, 1, 7, 2]])"
      ]
     },
     "execution_count": 36,
     "metadata": {},
     "output_type": "execute_result"
    }
   ],
   "source": [
    "np.hstack((a, b))"
   ]
  },
  {
   "cell_type": "code",
   "execution_count": 37,
   "id": "149daf52-fc59-4457-9cc0-26125f3488a0",
   "metadata": {},
   "outputs": [
    {
     "data": {
      "text/plain": [
       "array([[3, 5],\n",
       "       [7, 2],\n",
       "       [4, 8],\n",
       "       [6, 1]])"
      ]
     },
     "execution_count": 37,
     "metadata": {},
     "output_type": "execute_result"
    }
   ],
   "source": [
    "np.vstack((b, a))"
   ]
  },
  {
   "cell_type": "code",
   "execution_count": 38,
   "id": "464b79a4-84ac-4b0f-9aa3-27e8bd114857",
   "metadata": {},
   "outputs": [
    {
     "data": {
      "text/plain": [
       "array([[4, 8],\n",
       "       [6, 1],\n",
       "       [3, 5],\n",
       "       [7, 2]])"
      ]
     },
     "execution_count": 38,
     "metadata": {},
     "output_type": "execute_result"
    }
   ],
   "source": [
    "np.concatenate((a, b))"
   ]
  },
  {
   "cell_type": "code",
   "execution_count": 39,
   "id": "d73a8b6b-91e0-474d-82bc-c8b026e0e515",
   "metadata": {},
   "outputs": [
    {
     "data": {
      "text/plain": [
       "array([[4, 8],\n",
       "       [6, 1],\n",
       "       [3, 5],\n",
       "       [7, 2]])"
      ]
     },
     "execution_count": 39,
     "metadata": {},
     "output_type": "execute_result"
    }
   ],
   "source": [
    "np.concatenate((a, b), axis=0)"
   ]
  },
  {
   "cell_type": "code",
   "execution_count": 40,
   "id": "cdd56023-f635-40ce-bfdf-8ebf5252c35a",
   "metadata": {},
   "outputs": [
    {
     "data": {
      "text/plain": [
       "array([[4, 8, 3, 5],\n",
       "       [6, 1, 7, 2]])"
      ]
     },
     "execution_count": 40,
     "metadata": {},
     "output_type": "execute_result"
    }
   ],
   "source": [
    "np.concatenate((a, b), axis=1)"
   ]
  },
  {
   "cell_type": "code",
   "execution_count": 41,
   "id": "ca0d5136-4aa2-4394-a5f5-7a5c4839c190",
   "metadata": {},
   "outputs": [
    {
     "data": {
      "text/plain": [
       "array([4, 8, 6, 1, 3, 5, 7, 2])"
      ]
     },
     "execution_count": 41,
     "metadata": {},
     "output_type": "execute_result"
    }
   ],
   "source": [
    "np.concatenate((a, b), axis=None)"
   ]
  },
  {
   "cell_type": "markdown",
   "id": "03b9391e-0148-46ec-8473-81d862b7ecdc",
   "metadata": {},
   "source": [
    "`np.hstack((a, b))` and `np.vstack((b, a))` show the slightly more intuitive functions `hstack()` and `vstack()`. `np.concatenate((a, b))` and `np.concatenate((a, b), axis=None)` show the more generic `concatenate()`, first without an `axis` argument and then with `axis=None`. This flattening behavior is similar in form to what you just saw with `sort()`."
   ]
  },
  {
   "cell_type": "markdown",
   "id": "7827e0d6-0f48-40f4-b1e9-d15c164e075f",
   "metadata": {},
   "source": [
    "One important stumbling block to note is that all these functions take a tuple of arrays as their first argument rather than a variable number of arguments as you might expect. You can tell because there’s an extra pair of parentheses."
   ]
  },
  {
   "cell_type": "markdown",
   "id": "b9394098-c436-4443-aa97-16d35a48e599",
   "metadata": {},
   "source": [
    "<a class=\"anchor\" id=\"aggregating\"></a>\n",
    "\n",
    "\n",
    "## Aggregating\n",
    "\n",
    "Your last stop on this tour of functionality before diving into some more advanced topics and examples is **aggregation**. You’ve already seen quite a few aggregating methods, including `.sum()`, `.max()`, `.mean()`, and `.std()`. You can reference NumPy’s larger library of [functions](https://numpy.org/doc/stable/reference/routines.html) to see more. Many of the mathematical, financial, and statistical functions use aggregation to help you reduce the number of dimensions in your data."
   ]
  }
 ],
 "metadata": {
  "kernelspec": {
   "display_name": "Python 3 (ipykernel)",
   "language": "python",
   "name": "python3"
  },
  "language_info": {
   "codemirror_mode": {
    "name": "ipython",
    "version": 3
   },
   "file_extension": ".py",
   "mimetype": "text/x-python",
   "name": "python",
   "nbconvert_exporter": "python",
   "pygments_lexer": "ipython3",
   "version": "3.10.9"
  }
 },
 "nbformat": 4,
 "nbformat_minor": 5
}
