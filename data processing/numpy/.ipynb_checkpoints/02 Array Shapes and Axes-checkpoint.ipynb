{
 "cells": [
  {
   "cell_type": "markdown",
   "id": "dda22328-992c-4d48-8ee5-8174ed3e0f18",
   "metadata": {},
   "source": [
    "<img src=\"../../../images/banners/data_processing.png\" width=\"600\"/>"
   ]
  },
  {
   "cell_type": "markdown",
   "id": "459b6e3d-283f-43d2-a0d4-c1f3fa913806",
   "metadata": {},
   "source": [
    "# <img src=\"../../../images/logos/python.png\" width=\"23\"/> Getting Into Shape: Array Shapes and Axes \n"
   ]
  },
  {
   "cell_type": "markdown",
   "id": "2a9ca824",
   "metadata": {
    "tags": []
   },
   "source": [
    "## <img src=\"../../../images/logos/toc.png\" width=\"20\"/> Table of Contents \n",
    "* [Mastering Shape](#mastering_shape)\n",
    "* [Understanding Axes](#understanding_axes)\n",
    "    * [Reshaping Arrays](#reshaping_arrays)\n",
    "* [Broadcasting](#broadcasting)\n",
    "    * [General Broadcasting Rules](#general_broadcasting_rules)\n",
    "    * [More Arrays Broadcasting Examples](#more_arrays_broadcasting_examples)\n",
    "\n",
    "---"
   ]
  },
  {
   "cell_type": "markdown",
   "id": "numeric-equivalent",
   "metadata": {},
   "source": [
    "Now that you’ve seen some of what NumPy can do, it’s time to firm up that foundation with some important theory. There are a few concepts that are important to keep in mind, especially as you work with arrays in higher dimensions."
   ]
  },
  {
   "cell_type": "markdown",
   "id": "fancy-hunger",
   "metadata": {},
   "source": [
    "**Vectors**, which are one-dimensional arrays of numbers, are the least complicated to keep track of. Two dimensions aren’t too bad, either, because they’re similar to spreadsheets. But things start to get tricky at three dimensions, and visualizing four? Forget about it."
   ]
  },
  {
   "cell_type": "markdown",
   "id": "related-money",
   "metadata": {},
   "source": [
    "<a class=\"anchor\" id=\"mastering_shape\"></a>\n",
    "\n",
    "\n",
    "## Mastering Shape\n",
    "\n",
    "Shape is a key concept when you’re using multidimensional arrays. At a certain point, it’s easier to forget about visualizing the shape of your data and to instead follow some mental rules and trust NumPy to tell you the correct shape."
   ]
  },
  {
   "cell_type": "markdown",
   "id": "overall-defendant",
   "metadata": {},
   "source": [
    "All arrays have a property called `.shape` that returns a tuple of the size in each dimension. It’s less important which dimension is which, but it’s critical that the arrays you pass to functions are in the shape that the functions expect. A common way to confirm that your data has the proper shape is to print the data and its shape until you’re sure everything is working like you expect."
   ]
  },
  {
   "cell_type": "markdown",
   "id": "fantastic-waters",
   "metadata": {},
   "source": [
    "This next example will show this process. You’ll create an array with a complex shape, check it, and reorder it to look like it’s supposed to:"
   ]
  },
  {
   "cell_type": "code",
   "execution_count": 2,
   "id": "conservative-creation",
   "metadata": {},
   "outputs": [
    {
     "data": {
      "text/plain": [
       "(2, 2, 3)"
      ]
     },
     "execution_count": 2,
     "metadata": {},
     "output_type": "execute_result"
    }
   ],
   "source": [
    "import numpy as np\n",
    "\n",
    "temperatures = np.array([\n",
    "    29.3, 42.1, 18.8, 16.1, 38.0, 12.5,\n",
    "    12.6, 49.9, 38.6, 31.3, 9.2, 22.2\n",
    "]).reshape(2, 2, 3)\n",
    "\n",
    "temperatures.shape"
   ]
  },
  {
   "cell_type": "code",
   "execution_count": 3,
   "id": "worst-publicity",
   "metadata": {},
   "outputs": [
    {
     "data": {
      "text/plain": [
       "array([[[29.3, 42.1, 18.8],\n",
       "        [16.1, 38. , 12.5]],\n",
       "\n",
       "       [[12.6, 49.9, 38.6],\n",
       "        [31.3,  9.2, 22.2]]])"
      ]
     },
     "execution_count": 3,
     "metadata": {},
     "output_type": "execute_result"
    }
   ],
   "source": [
    "temperatures"
   ]
  },
  {
   "cell_type": "code",
   "execution_count": 4,
   "id": "persistent-nancy",
   "metadata": {},
   "outputs": [
    {
     "data": {
      "text/plain": [
       "array([[[29.3, 16.1],\n",
       "        [42.1, 38. ],\n",
       "        [18.8, 12.5]],\n",
       "\n",
       "       [[12.6, 31.3],\n",
       "        [49.9,  9.2],\n",
       "        [38.6, 22.2]]])"
      ]
     },
     "execution_count": 4,
     "metadata": {},
     "output_type": "execute_result"
    }
   ],
   "source": [
    "np.swapaxes(temperatures, 1, 2)"
   ]
  },
  {
   "cell_type": "markdown",
   "id": "younger-renewal",
   "metadata": {},
   "source": [
    "Here, you use a `numpy.ndarray` method called `.reshape()` to form a `2 × 2 × 3` block of data. When you check the shape of your array in input 3, it’s exactly what you told it to be. However, you can see how printed arrays quickly become hard to visualize in three or more dimensions. After you swap axes with `.swapaxes()`, it becomes little clearer which dimension is which. You’ll see more about axes in the next section."
   ]
  },
  {
   "cell_type": "markdown",
   "id": "breeding-oxide",
   "metadata": {},
   "source": [
    "Shape will come up again in the section on broadcasting. For now, just keep in mind that these little checks don’t cost anything. You can always delete the cells or get rid of the code once things are running smoothly."
   ]
  },
  {
   "cell_type": "markdown",
   "id": "interstate-notice",
   "metadata": {},
   "source": [
    "<a class=\"anchor\" id=\"understanding_axes\"></a>\n",
    "\n",
    "\n",
    "## Understanding Axes\n",
    "\n",
    "The example above shows how important it is to know not only what shape your data is in but also which data is in which **axis**. In NumPy arrays, axes are zero-indexed and identify which dimension is which. For example, a two-dimensional array has a vertical axis (axis 0) and a horizontal axis (axis 1). Lots of functions and commands in NumPy change their behavior based on which axis you tell them to process."
   ]
  },
  {
   "cell_type": "markdown",
   "id": "historic-glossary",
   "metadata": {},
   "source": [
    "This example will show how `.max()` behaves by default, with no `axis` argument, and how it changes functionality depending on which axis you specify when you do supply an argument:"
   ]
  },
  {
   "cell_type": "code",
   "execution_count": 5,
   "id": "loaded-dispute",
   "metadata": {},
   "outputs": [],
   "source": [
    "import numpy as np\n",
    "\n",
    "table = np.array([\n",
    "    [5, 3, 7, 1, 2],\n",
    "    [2, 6, 7 , 9 ,3],\n",
    "    [1, 1, 1, 1, 8],\n",
    "    [4, 3, 2, 0, 10],\n",
    "])"
   ]
  },
  {
   "cell_type": "code",
   "execution_count": 6,
   "id": "fresh-report",
   "metadata": {},
   "outputs": [
    {
     "data": {
      "text/plain": [
       "array([[ 5,  3,  7,  1,  2],\n",
       "       [ 2,  6,  7,  9,  3],\n",
       "       [ 1,  1,  1,  1,  8],\n",
       "       [ 4,  3,  2,  0, 10]])"
      ]
     },
     "execution_count": 6,
     "metadata": {},
     "output_type": "execute_result"
    }
   ],
   "source": [
    "table"
   ]
  },
  {
   "cell_type": "code",
   "execution_count": 7,
   "id": "rational-franchise",
   "metadata": {},
   "outputs": [
    {
     "data": {
      "text/plain": [
       "array([ 5,  3,  7,  1,  2,  2,  6,  7,  9,  3,  1,  1,  1,  1,  8,  4,  3,\n",
       "        2,  0, 10])"
      ]
     },
     "execution_count": 7,
     "metadata": {},
     "output_type": "execute_result"
    }
   ],
   "source": [
    "table.flatten()"
   ]
  },
  {
   "cell_type": "code",
   "execution_count": 8,
   "id": "reserved-insulation",
   "metadata": {},
   "outputs": [
    {
     "data": {
      "text/plain": [
       "(4, 5)"
      ]
     },
     "execution_count": 8,
     "metadata": {},
     "output_type": "execute_result"
    }
   ],
   "source": [
    "table.shape"
   ]
  },
  {
   "cell_type": "code",
   "execution_count": 9,
   "id": "convinced-fluid",
   "metadata": {},
   "outputs": [
    {
     "data": {
      "text/plain": [
       "10"
      ]
     },
     "execution_count": 9,
     "metadata": {},
     "output_type": "execute_result"
    }
   ],
   "source": [
    "table.max()"
   ]
  },
  {
   "cell_type": "code",
   "execution_count": 10,
   "id": "strong-sally",
   "metadata": {},
   "outputs": [
    {
     "data": {
      "text/plain": [
       "array([ 5,  6,  7,  9, 10])"
      ]
     },
     "execution_count": 10,
     "metadata": {},
     "output_type": "execute_result"
    }
   ],
   "source": [
    "table.max(axis=0)"
   ]
  },
  {
   "cell_type": "code",
   "execution_count": 11,
   "id": "opening-porcelain",
   "metadata": {},
   "outputs": [
    {
     "data": {
      "text/plain": [
       "array([ 7,  9,  8, 10])"
      ]
     },
     "execution_count": 11,
     "metadata": {},
     "output_type": "execute_result"
    }
   ],
   "source": [
    "table.max(axis=1)"
   ]
  },
  {
   "cell_type": "markdown",
   "id": "bottom-impact",
   "metadata": {},
   "source": [
    "By default, `.max()` returns the largest value in the entire array, no matter how many dimensions there are. However, once you specify an axis, it performs that calculation for each set of values along that particular axis. For example, with an argument of `axis=0`, `.max() `selects the maximum value in each of the four vertical sets of values in table and returns an array that has been **flattened**, or aggregated into a one-dimensional array."
   ]
  },
  {
   "cell_type": "markdown",
   "id": "exceptional-treat",
   "metadata": {},
   "source": [
    "In fact, many of NumPy’s functions behave this way: If no axis is specified, then they perform an operation on the entire dataset. Otherwise, they perform the operation in an **axis-wise** fashion."
   ]
  },
  {
   "cell_type": "markdown",
   "id": "7577cb9e-3595-4bb5-83ff-4bf184140690",
   "metadata": {},
   "source": [
    "<img src=\"../images/array-shapes/axis-0-axis-1.jpeg\" width=\"500\"/>"
   ]
  },
  {
   "cell_type": "markdown",
   "id": "f83a40c6-4d52-422f-8f66-04647eda7eb9",
   "metadata": {},
   "source": [
    "You may wondering how to know which dimension is which. By definition, the axis number of the dimension is the index of that dimension within the array's shape. It is also the position used to access that dimension during indexing."
   ]
  },
  {
   "cell_type": "markdown",
   "id": "7bb369c2-d62d-442e-b4cf-ca67a179788d",
   "metadata": {},
   "source": [
    "For example, if a 2D array a has shape `(5,6)`, then you can access `a[0,0]` up to `a[4,5]`. Axis `0` is thus the first dimension (the \"rows\"), and axis `1` is the second dimension (the \"columns\"). In higher dimensions, where \"row\" and \"column\" stop really making sense, try to think of the axes in terms of the shapes and indices involved."
   ]
  },
  {
   "cell_type": "markdown",
   "id": "86c6ef76-74d9-4a5f-8809-ed281cc2fbf7",
   "metadata": {},
   "source": [
    "If you do `.sum(axis=n)`, for example, then dimension `n` is collapsed and deleted, with each value in the new matrix equal to the sum of the corresponding collapsed values. For example, if b has shape `(5,6,7,8)`, and you do `c = b.sum(axis=2)`, then axis 2 (dimension with size 7) is collapsed, and the result has shape (5,6,8). Furthermore, `c[x,y,z]` is equal to the sum of all elements `b[x,y,:,z]`."
   ]
  },
  {
   "cell_type": "markdown",
   "id": "comic-shore",
   "metadata": {},
   "source": [
    "<a class=\"anchor\" id=\"reshaping_arrays\"></a>\n",
    "\n",
    "\n",
    "### Reshaping Arrays"
   ]
  },
  {
   "cell_type": "markdown",
   "id": "skilled-speaker",
   "metadata": {},
   "source": [
    "Another important concept here is to reshape your NumPy Arrays, especially when you are dealing with multidimensional arrays. It's common for you to create a NumPy Array in just one dimension, reshaping it to a multidimension later, or vice versa. A key idea here is that you can change the shape of your arrays, but the number of elements should not be changed; for example, you can't reshape a `3x3` array to a `10x1` array. The total number of elements (or a so-called data buffer in the ndarray internal organization) should be consistent before and after reshaping. Or ,you might need to resize, but that's another story. Now, let's look at some shape manipulations:"
   ]
  },
  {
   "cell_type": "code",
   "execution_count": 12,
   "id": "challenging-investigation",
   "metadata": {},
   "outputs": [],
   "source": [
    "x = np.arange(24)"
   ]
  },
  {
   "cell_type": "code",
   "execution_count": 13,
   "id": "fifty-preparation",
   "metadata": {},
   "outputs": [
    {
     "data": {
      "text/plain": [
       "array([ 0,  1,  2,  3,  4,  5,  6,  7,  8,  9, 10, 11, 12, 13, 14, 15, 16,\n",
       "       17, 18, 19, 20, 21, 22, 23])"
      ]
     },
     "execution_count": 13,
     "metadata": {},
     "output_type": "execute_result"
    }
   ],
   "source": [
    "x"
   ]
  },
  {
   "cell_type": "code",
   "execution_count": 14,
   "id": "economic-divorce",
   "metadata": {},
   "outputs": [],
   "source": [
    "x.shape = 2, 3, -1"
   ]
  },
  {
   "cell_type": "code",
   "execution_count": 15,
   "id": "dress-contemporary",
   "metadata": {},
   "outputs": [
    {
     "data": {
      "text/plain": [
       "array([[[ 0,  1,  2,  3],\n",
       "        [ 4,  5,  6,  7],\n",
       "        [ 8,  9, 10, 11]],\n",
       "\n",
       "       [[12, 13, 14, 15],\n",
       "        [16, 17, 18, 19],\n",
       "        [20, 21, 22, 23]]])"
      ]
     },
     "execution_count": 15,
     "metadata": {},
     "output_type": "execute_result"
    }
   ],
   "source": [
    "x"
   ]
  },
  {
   "cell_type": "code",
   "execution_count": 16,
   "id": "massive-character",
   "metadata": {},
   "outputs": [
    {
     "data": {
      "text/plain": [
       "(96, 32, 8)"
      ]
     },
     "execution_count": 16,
     "metadata": {},
     "output_type": "execute_result"
    }
   ],
   "source": [
    "x.strides"
   ]
  },
  {
   "cell_type": "markdown",
   "id": "previous-tournament",
   "metadata": {},
   "source": [
    "The basic reshaping technique changes the `numpy.shape` attribute. In the preceding example, we have an array whose shape is `(24, 1)`, and after altering the shape attribute, we obtain an array of the same size but the shape has been changed to `2x3x4`. Note that `-1` in a shape means the remaining shape size of the transferred array."
   ]
  },
  {
   "cell_type": "markdown",
   "id": "careful-filename",
   "metadata": {},
   "source": [
    "The following example is to reshape a `100x100x100` array back to just one dimension; here, we apply two functions, `numpy.flatten()` and `numpy.ravel()`, to collapse the array, and at the same time, we also compare the execution time. We notice that the speed difference between `numpy.flatten()` and `numpy.ravel()` is huge, but both of them are much faster than three layers of Python looping. The difference in performance between the two functions is that `np.flatten()` creates a copy from the original array, while `np.ravel()` just changes the view (if you don't remember the difference between copies and views, go back a bit to previous sections on how numpy manages memory section)."
   ]
  },
  {
   "cell_type": "code",
   "execution_count": 17,
   "id": "apart-counter",
   "metadata": {},
   "outputs": [],
   "source": [
    "x = np.arange(1000000)"
   ]
  },
  {
   "cell_type": "code",
   "execution_count": 18,
   "id": "general-final",
   "metadata": {},
   "outputs": [],
   "source": [
    "x.shape = 100, 100, 100"
   ]
  },
  {
   "cell_type": "code",
   "execution_count": 19,
   "id": "realistic-printer",
   "metadata": {},
   "outputs": [
    {
     "name": "stdout",
     "output_type": "stream",
     "text": [
      "1.42 ms ± 132 µs per loop (mean ± std. dev. of 7 runs, 1000 loops each)\n"
     ]
    }
   ],
   "source": [
    "%timeit x.flatten() "
   ]
  },
  {
   "cell_type": "code",
   "execution_count": 20,
   "id": "historical-control",
   "metadata": {},
   "outputs": [
    {
     "name": "stdout",
     "output_type": "stream",
     "text": [
      "122 ns ± 5.53 ns per loop (mean ± std. dev. of 7 runs, 10000000 loops each)\n"
     ]
    }
   ],
   "source": [
    "%timeit x.ravel()"
   ]
  },
  {
   "cell_type": "markdown",
   "id": "collectible-watershed",
   "metadata": {},
   "source": [
    "This example simply shows you that NumPy offers many functions and some of them can produce same results; pick up the function that satisfies your purpose and, at the same time, provides you with optimized performance."
   ]
  },
  {
   "cell_type": "markdown",
   "id": "f6260ce0-1cd7-4382-86be-c6f1f024333b",
   "metadata": {},
   "source": [
    "> **Note:** It is not always possible to change the shape of an array without copying the data. If you want an error to be raised when the data is copied, you should assign the new shape to the shape attribute of the array."
   ]
  },
  {
   "cell_type": "markdown",
   "id": "alive-entry",
   "metadata": {},
   "source": [
    "<a class=\"anchor\" id=\"broadcasting\"></a>\n",
    "\n",
    "\n",
    "## Broadcasting\n",
    "\n",
    "NumPy operations are mostly done element-wise, which requires two arrays in an operation to have the same shape; however, this doesn't mean that NumPy operations can't take two differently shaped arrays (refer to the first example we looked at with scalars). NumPy provides the flexibility to broadcast a smaller-sized array across a larger one. But we can't broadcast the array to just about any shape. It needs to follow certain constrains; we will be covering them in this section. One key idea to keep in mind is that broadcasting involves performing meaningful operations over two differently shaped arrays. However, inappropriate broadcasting might lead to an inefficient use of memory that slows down computation."
   ]
  },
  {
   "cell_type": "markdown",
   "id": "e480237a-cad8-4336-bd3b-324ce1548886",
   "metadata": {},
   "source": [
    "The term broadcasting describes how NumPy treats arrays with different shapes during arithmetic operations. Subject to certain constraints, the smaller array is “broadcast” across the larger array so that they have compatible shapes. Broadcasting provides a means of vectorizing array operations so that looping occurs in C instead of Python. It does this without making needless copies of data and usually leads to efficient algorithm implementations. There are, however, cases where broadcasting is a bad idea because it leads to inefficient use of memory that slows computation."
   ]
  },
  {
   "cell_type": "markdown",
   "id": "9417dc2e-c794-45ce-9be0-4cd27ba56e0c",
   "metadata": {},
   "source": [
    "NumPy operations are usually done on pairs of arrays on an element-by-element basis. In the simplest case, the two arrays must have exactly the same shape, as in the following example:"
   ]
  },
  {
   "cell_type": "code",
   "execution_count": 25,
   "id": "5f00b8bd-3a90-4eb4-8285-355667c9537a",
   "metadata": {},
   "outputs": [],
   "source": [
    "a = np.array([1.0, 2.0, 3.0])\n",
    "b = np.array([2.0, 2.0, 2.0])"
   ]
  },
  {
   "cell_type": "code",
   "execution_count": 26,
   "id": "5816fd83-ec3c-4130-8afe-1855f8640c3a",
   "metadata": {},
   "outputs": [
    {
     "data": {
      "text/plain": [
       "array([2., 4., 6.])"
      ]
     },
     "execution_count": 26,
     "metadata": {},
     "output_type": "execute_result"
    }
   ],
   "source": [
    "a * b"
   ]
  },
  {
   "cell_type": "markdown",
   "id": "3c66e37a-96c2-4ac6-818c-51006d5bf0bf",
   "metadata": {},
   "source": [
    "NumPy’s broadcasting rule relaxes this constraint when the arrays’ shapes meet certain constraints. The simplest broadcasting example occurs when an array and a scalar value are combined in an operation:"
   ]
  },
  {
   "cell_type": "code",
   "execution_count": 27,
   "id": "0c3915b3-424e-457e-ba2d-939f0bffe26c",
   "metadata": {},
   "outputs": [
    {
     "data": {
      "text/plain": [
       "array([2., 4., 6.])"
      ]
     },
     "execution_count": 27,
     "metadata": {},
     "output_type": "execute_result"
    }
   ],
   "source": [
    "a = np.array([1.0, 2.0, 3.0])\n",
    "b = 2.0\n",
    "a * b"
   ]
  },
  {
   "cell_type": "markdown",
   "id": "13b90ccf-db3e-4584-8d30-c14ca841e31e",
   "metadata": {},
   "source": [
    "The result is equivalent to the previous example where `b` was an array. We can think of the scalar `b` being stretched during the arithmetic operation into an array with the same shape as `a`. The new elements in `b`, as shown in the following figure, are simply copies of the original scalar. The stretching analogy is only conceptual. NumPy is smart enough to use the original scalar value without actually making copies so that broadcasting operations are as memory and computationally efficient as possible."
   ]
  },
  {
   "cell_type": "markdown",
   "id": "5ea5ca67-2031-4ae1-8a45-36a422998c2b",
   "metadata": {},
   "source": [
    "<img src=\"../images/array-shapes/broadcasting.png\" width=\"400\"/>"
   ]
  },
  {
   "cell_type": "markdown",
   "id": "3b0c2665-6af2-474a-952c-0f6f6c18d57e",
   "metadata": {},
   "source": [
    "The code in the second example is more efficient than that in the first because broadcasting moves less memory around during the multiplication (`b` is a scalar rather than an array)."
   ]
  },
  {
   "cell_type": "markdown",
   "id": "815d8dea-c8fc-43a7-ae37-e5322ae37e86",
   "metadata": {},
   "source": [
    "<a class=\"anchor\" id=\"general_broadcasting_rules\"></a>\n",
    "\n",
    "\n",
    "### General Broadcasting Rules"
   ]
  },
  {
   "cell_type": "markdown",
   "id": "downtown-committee",
   "metadata": {},
   "source": [
    "The general rule for broadcasting is to determine whether two arrays are compatible with dimensioning. There are two conditions that need to be met:\n",
    "\n",
    "- Two arrays should be of equal dimensions, or\n",
    "- One of them is 1"
   ]
  },
  {
   "cell_type": "markdown",
   "id": "e4b3a4c7-d4f8-4092-accf-8498f9429367",
   "metadata": {},
   "source": [
    "In other words, two dimensions are compatible when\n",
    "\n",
    "- They are equal, or\n",
    "- One of them is 1"
   ]
  },
  {
   "cell_type": "markdown",
   "id": "53f39016-6772-481c-ba11-314d4a87aae4",
   "metadata": {},
   "source": [
    "If these conditions are not met, a `ValueError: operands could not be broadcast together` exception is thrown, indicating that the arrays have incompatible shapes. The size of the resulting array is the size that is not 1 along each axis of the inputs."
   ]
  },
  {
   "cell_type": "markdown",
   "id": "0f7ceb63-8b57-4cd4-9d62-038428c171a7",
   "metadata": {},
   "source": [
    "Now, we are going through three examples to take a look at how broadcasting rules work."
   ]
  },
  {
   "cell_type": "markdown",
   "id": "ca52570d-54d6-4167-9eec-ae5a32e407a2",
   "metadata": {},
   "source": [
    "Arrays do not need to have the same number of dimensions. For example, if you have a `256x256x3` array of RGB values, and you want to scale each color in the image by a different value, you can multiply the image by a one-dimensional array with 3 values. Lining up the sizes of the trailing axes of these arrays according to the broadcast rules, shows that they are compatible:\n",
    "\n",
    "```\n",
    "Image  (3d array): 256 x 256 x 3\n",
    "Scale  (1d array):             3\n",
    "Result (3d array): 256 x 256 x 3\n",
    "```"
   ]
  },
  {
   "cell_type": "markdown",
   "id": "b64344d5-aff7-4a9e-a153-1e13f20d9f5e",
   "metadata": {},
   "source": [
    "When either of the dimensions compared is one, the other is used. In other words, dimensions with size 1 are stretched or “copied” to match the other."
   ]
  },
  {
   "cell_type": "markdown",
   "id": "30ed55d7-ea05-46f7-96b6-445986b05983",
   "metadata": {},
   "source": [
    "In the following example, both the `A` and `B` arrays have axes with length one that are expanded to a larger size during the broadcast operation:\n",
    "```\n",
    "A      (4d array):  8 x 1 x 6 x 1\n",
    "B      (3d array):      7 x 1 x 5\n",
    "Result (4d array):  8 x 7 x 6 x 5\n",
    "```"
   ]
  },
  {
   "cell_type": "markdown",
   "id": "cd1cdc85-4644-4908-ae23-77219a7cfd4f",
   "metadata": {},
   "source": [
    "Let's take a look at another example."
   ]
  },
  {
   "cell_type": "code",
   "execution_count": 58,
   "id": "competitive-coating",
   "metadata": {},
   "outputs": [],
   "source": [
    "x = np.array([[0, 0, 0], [10, 10, 10], [20, 20, 20]]) "
   ]
  },
  {
   "cell_type": "code",
   "execution_count": 59,
   "id": "adapted-howard",
   "metadata": {},
   "outputs": [
    {
     "data": {
      "text/plain": [
       "array([[ 0,  0,  0],\n",
       "       [10, 10, 10],\n",
       "       [20, 20, 20]])"
      ]
     },
     "execution_count": 59,
     "metadata": {},
     "output_type": "execute_result"
    }
   ],
   "source": [
    "x"
   ]
  },
  {
   "cell_type": "code",
   "execution_count": 60,
   "id": "bizarre-publicity",
   "metadata": {},
   "outputs": [],
   "source": [
    "y = np.array([1, 2, 3]) "
   ]
  },
  {
   "cell_type": "code",
   "execution_count": 61,
   "id": "arctic-enforcement",
   "metadata": {},
   "outputs": [
    {
     "data": {
      "text/plain": [
       "array([1, 2, 3])"
      ]
     },
     "execution_count": 61,
     "metadata": {},
     "output_type": "execute_result"
    }
   ],
   "source": [
    "y"
   ]
  },
  {
   "cell_type": "code",
   "execution_count": 62,
   "id": "needed-jurisdiction",
   "metadata": {},
   "outputs": [
    {
     "data": {
      "text/plain": [
       "array([[ 1,  2,  3],\n",
       "       [11, 12, 13],\n",
       "       [21, 22, 23]])"
      ]
     },
     "execution_count": 62,
     "metadata": {},
     "output_type": "execute_result"
    }
   ],
   "source": [
    "x + y"
   ]
  },
  {
   "cell_type": "markdown",
   "id": "certified-wayne",
   "metadata": {},
   "source": [
    "Let's make the preceding code into a graph to help us understand broadcasting. The `x` variable has a shape of `(3, 3)`, while `y` only has a shape of `3`. But in NumPy broadcasting, the shape of `y` is translated to `3` by `1`; therefore, the second condition of the rule has been met. `y` has been broadcast to the same shape of `x` by repeating it. The `+` operation can apply element-wise."
   ]
  },
  {
   "cell_type": "markdown",
   "id": "signal-consent",
   "metadata": {},
   "source": [
    "<img src=\"../images/broadcasting-1.png\" alt=\"broadcasting-1\" width=500 align=\"left\" />"
   ]
  },
  {
   "cell_type": "markdown",
   "id": "senior-corporation",
   "metadata": {},
   "source": [
    "Next, we are going to show you the result of broadcasting both arrays:"
   ]
  },
  {
   "cell_type": "code",
   "execution_count": 64,
   "id": "hybrid-sustainability",
   "metadata": {},
   "outputs": [],
   "source": [
    "x = np.array([[0], [10], [20]]) "
   ]
  },
  {
   "cell_type": "code",
   "execution_count": 66,
   "id": "accessory-certificate",
   "metadata": {},
   "outputs": [
    {
     "data": {
      "text/plain": [
       "((3, 1), (3,))"
      ]
     },
     "execution_count": 66,
     "metadata": {},
     "output_type": "execute_result"
    }
   ],
   "source": [
    "x.shape, y.shape"
   ]
  },
  {
   "cell_type": "code",
   "execution_count": 67,
   "id": "capable-valuation",
   "metadata": {},
   "outputs": [
    {
     "data": {
      "text/plain": [
       "array([[ 1,  2,  3],\n",
       "       [11, 12, 13],\n",
       "       [21, 22, 23]])"
      ]
     },
     "execution_count": 67,
     "metadata": {},
     "output_type": "execute_result"
    }
   ],
   "source": [
    "x + y"
   ]
  },
  {
   "cell_type": "markdown",
   "id": "gorgeous-playing",
   "metadata": {},
   "source": [
    "The preceding example shows you how both `x` and `y` are broadcast. `x` is broadcast by the column, while `y` is broadcast by the row since both of them have dimension that are equal to 1 in terms of their shape. The second broadcasting condition has been met, and the new result array is a `3` by `3` array."
   ]
  },
  {
   "cell_type": "markdown",
   "id": "formed-authorization",
   "metadata": {},
   "source": [
    "<img src=\"../images/broadcasting-2.jpg\" alt=\"broadcasting-2\" width=500 align=\"left\" />"
   ]
  },
  {
   "cell_type": "markdown",
   "id": "hazardous-receipt",
   "metadata": {},
   "source": [
    "Let's take a look of our last example, which two arrays can't meet the requirement of broadcasting rules:"
   ]
  },
  {
   "cell_type": "code",
   "execution_count": 69,
   "id": "demanding-moment",
   "metadata": {},
   "outputs": [],
   "source": [
    "x = np.array([[0, 0, 0], [10, 10, 10], [20, 20, 20]])"
   ]
  },
  {
   "cell_type": "code",
   "execution_count": 70,
   "id": "amended-netherlands",
   "metadata": {},
   "outputs": [],
   "source": [
    "y = np.arange(1, 5) "
   ]
  },
  {
   "cell_type": "code",
   "execution_count": 71,
   "id": "every-fortune",
   "metadata": {},
   "outputs": [
    {
     "ename": "ValueError",
     "evalue": "operands could not be broadcast together with shapes (3,3) (4,) ",
     "output_type": "error",
     "traceback": [
      "\u001b[0;31m---------------------------------------------------------------------------\u001b[0m",
      "\u001b[0;31mValueError\u001b[0m                                Traceback (most recent call last)",
      "\u001b[0;32m<ipython-input-71-cd60f97aa77f>\u001b[0m in \u001b[0;36m<module>\u001b[0;34m\u001b[0m\n\u001b[0;32m----> 1\u001b[0;31m \u001b[0mx\u001b[0m \u001b[0;34m+\u001b[0m \u001b[0my\u001b[0m\u001b[0;34m\u001b[0m\u001b[0;34m\u001b[0m\u001b[0m\n\u001b[0m",
      "\u001b[0;31mValueError\u001b[0m: operands could not be broadcast together with shapes (3,3) (4,) "
     ]
    }
   ],
   "source": [
    "x + y"
   ]
  },
  {
   "cell_type": "markdown",
   "id": "recognized-punch",
   "metadata": {},
   "source": [
    "In the third example, broadcasting can't be performed due to `x` and `y` as they have different shapes in the row dimension and none of them are equal to `1`. Thus, none of the broadcasting conditions can be met. NumPy throws `ValueError`, telling you that the shape is incompatible."
   ]
  },
  {
   "cell_type": "markdown",
   "id": "documented-juvenile",
   "metadata": {},
   "source": [
    "<img src=\"../images/broadcasting-3.jpg\" alt=\"broadcasting-3\" width=500 align=\"left\" />"
   ]
  },
  {
   "cell_type": "markdown",
   "id": "offensive-inside",
   "metadata": {},
   "source": [
    "Understanding broadcasting is an important part of mastering vectorized calculations, and vectorized calculations are the way to write clean, idiomatic NumPy code."
   ]
  },
  {
   "cell_type": "markdown",
   "id": "9e86ee1c-07db-4bbe-8db8-9cf4bbbabe3d",
   "metadata": {},
   "source": [
    "<a class=\"anchor\" id=\"more_arrays_broadcasting_examples\"></a>\n",
    "\n",
    "### More Arrays Broadcasting Examples"
   ]
  },
  {
   "cell_type": "markdown",
   "id": "c2e5c1dd-f384-4288-a57a-3bbdb5207638",
   "metadata": {},
   "source": [
    "A set of arrays is called “broadcastable” to the same shape if the above rules produce a valid result."
   ]
  },
  {
   "cell_type": "markdown",
   "id": "c37c5d27-495f-4c82-bf14-a3497ce206fa",
   "metadata": {},
   "source": [
    "For example, if `a.shape` is `(5,1)`, `b.shape` is `(1,6)`, `c.shape` is `(6,)` and `d.shape` is `()` so that `d` is a scalar, then a, b, c, and d are all broadcastable to dimension (5,6); and\n",
    "\n",
    "- `a` acts like a `(5,6)` array where `a[:,0]` is broadcast to the other columns,\n",
    "- `b` acts like a `(5,6)` array where `b[0,:]` is broadcast to the other rows,\n",
    "- `c` acts like a `(1,6)` array and therefore like a `(5,6)` array where `c[:]` is broadcast to every row, and finally,\n",
    "- `d` acts like a `(5,6)` array where the single value is repeated."
   ]
  },
  {
   "cell_type": "markdown",
   "id": "16853a3f-d5ec-4745-8bad-c79d10ac8338",
   "metadata": {},
   "source": [
    "Here are some more examples:\n",
    "\n",
    "```\n",
    "A      (2d array):  5 x 4\n",
    "B      (1d array):      1\n",
    "Result (2d array):  5 x 4\n",
    "\n",
    "A      (2d array):  5 x 4\n",
    "B      (1d array):      4\n",
    "Result (2d array):  5 x 4\n",
    "\n",
    "A      (3d array):  15 x 3 x 5\n",
    "B      (3d array):  15 x 1 x 5\n",
    "Result (3d array):  15 x 3 x 5\n",
    "\n",
    "A      (3d array):  15 x 3 x 5\n",
    "B      (2d array):       3 x 5\n",
    "Result (3d array):  15 x 3 x 5\n",
    "\n",
    "A      (3d array):  15 x 3 x 5\n",
    "B      (2d array):       3 x 1\n",
    "Result (3d array):  15 x 3 x 5\n",
    "```"
   ]
  },
  {
   "cell_type": "markdown",
   "id": "230dd44c-87dd-4e08-96a0-23b9f501f34f",
   "metadata": {},
   "source": [
    "Here are examples of shapes that do not broadcast:\n",
    "\n",
    "```\n",
    "A      (1d array):  3\n",
    "B      (1d array):  4 # trailing dimensions do not match\n",
    "\n",
    "A      (2d array):      2 x 1\n",
    "B      (3d array):  8 x 4 x 3 # second from last dimensions mismatched\n",
    "```"
   ]
  },
  {
   "cell_type": "markdown",
   "id": "56f536ef-9c81-4b34-a4f0-57b01d9c9bbc",
   "metadata": {},
   "source": [
    "An example of broadcasting when a 1-d array is added to a 2-d array:"
   ]
  },
  {
   "cell_type": "code",
   "execution_count": 29,
   "id": "c3e31ebf-5039-4fb2-8556-0bff26d27f63",
   "metadata": {},
   "outputs": [],
   "source": [
    "a = np.array([[ 0.0,  0.0,  0.0],\n",
    "              [10.0, 10.0, 10.0],\n",
    "              [20.0, 20.0, 20.0],\n",
    "              [30.0, 30.0, 30.0]])\n",
    "\n",
    "b = np.array([1.0, 2.0, 3.0])"
   ]
  },
  {
   "cell_type": "code",
   "execution_count": 30,
   "id": "9782b1f2-a6ac-4e14-8057-37677ba95e70",
   "metadata": {},
   "outputs": [
    {
     "data": {
      "text/plain": [
       "array([[ 1.,  2.,  3.],\n",
       "       [11., 12., 13.],\n",
       "       [21., 22., 23.],\n",
       "       [31., 32., 33.]])"
      ]
     },
     "execution_count": 30,
     "metadata": {},
     "output_type": "execute_result"
    }
   ],
   "source": [
    "a + b"
   ]
  },
  {
   "cell_type": "code",
   "execution_count": 31,
   "id": "661ef805-8a68-4f55-8e76-957fc02d91e0",
   "metadata": {},
   "outputs": [],
   "source": [
    "b = np.array([1.0, 2.0, 3.0, 4.0])"
   ]
  },
  {
   "cell_type": "code",
   "execution_count": 32,
   "id": "0b95bede-572c-4d69-866a-9968fe8b486a",
   "metadata": {},
   "outputs": [
    {
     "ename": "ValueError",
     "evalue": "operands could not be broadcast together with shapes (4,3) (4,) ",
     "output_type": "error",
     "traceback": [
      "\u001b[0;31m---------------------------------------------------------------------------\u001b[0m",
      "\u001b[0;31mValueError\u001b[0m                                Traceback (most recent call last)",
      "\u001b[0;32m<ipython-input-32-bd58363a63fc>\u001b[0m in \u001b[0;36m<module>\u001b[0;34m\u001b[0m\n\u001b[0;32m----> 1\u001b[0;31m \u001b[0ma\u001b[0m \u001b[0;34m+\u001b[0m \u001b[0mb\u001b[0m\u001b[0;34m\u001b[0m\u001b[0;34m\u001b[0m\u001b[0m\n\u001b[0m",
      "\u001b[0;31mValueError\u001b[0m: operands could not be broadcast together with shapes (4,3) (4,) "
     ]
    }
   ],
   "source": [
    "a + b"
   ]
  },
  {
   "cell_type": "markdown",
   "id": "094decd2-6d72-4363-afc0-6a28b3ee233e",
   "metadata": {},
   "source": [
    "In some cases, broadcasting stretches both arrays to form an output array larger than either of the initial arrays."
   ]
  }
 ],
 "metadata": {
  "kernelspec": {
   "display_name": "Python 3",
   "language": "python",
   "name": "python3"
  },
  "language_info": {
   "codemirror_mode": {
    "name": "ipython",
    "version": 3
   },
   "file_extension": ".py",
   "mimetype": "text/x-python",
   "name": "python",
   "nbconvert_exporter": "python",
   "pygments_lexer": "ipython3",
   "version": "3.8.11"
  },
  "nteract": {
   "version": "nteract-on-jupyter@2.1.3"
  }
 },
 "nbformat": 4,
 "nbformat_minor": 5
}
