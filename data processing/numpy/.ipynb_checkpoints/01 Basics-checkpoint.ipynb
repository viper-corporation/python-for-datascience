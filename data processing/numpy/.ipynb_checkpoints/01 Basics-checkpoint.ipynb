{
 "cells": [
  {
   "cell_type": "markdown",
   "id": "50691573-0a0b-4348-be5b-817a6aacc484",
   "metadata": {},
   "source": [
    "<img src=\"../../../images/banners/data_processing.png\" width=\"600\"/>"
   ]
  },
  {
   "cell_type": "markdown",
   "id": "069bc776-7cc0-444f-a149-7bb0e56900b1",
   "metadata": {
    "tags": []
   },
   "source": [
    "# <img src=\"../../../../images/logos/python.png\" width=\"23\"/> NumPy Basics\n"
   ]
  },
  {
   "cell_type": "markdown",
   "id": "liberal-lingerie",
   "metadata": {},
   "source": [
    "Numerical Python (NumPy) is a successor to the Numeric package. It was originally written by Travis Oliphant to be the foundation of a scientific computing environment in Python. It branched off from the much wider SciPy module in early 2005 and had its first stable release in mid-2006. Since then, it has enjoyed growing popularity among Pythonists who work in the mathematics, science, and engineering fields. The goal of this book is to make you conversant enough with NumPy so that you're able to use it and can build complex scientific applications with it."
   ]
  },
  {
   "cell_type": "markdown",
   "id": "occupational-phoenix",
   "metadata": {},
   "source": [
    "NumPy provides a simple yet powerful data structure: the **n-dimensional array**. This is the foundation on which almost all the power of Python’s data science toolkit is built, and learning NumPy is the first step on any Python data scientist’s journey. This tutorial will provide you with the knowledge you need to use NumPy and the higher-level libraries that rely on it."
   ]
  },
  {
   "cell_type": "markdown",
   "id": "angry-shanghai",
   "metadata": {},
   "source": [
    "**In this tutorial you’ll learn:**\n",
    "\n",
    "- What **core concepts** in data science are made possible by NumPy\n",
    "- How to create **NumPy arrays** using various methods\n",
    "- How to manipulate NumPy arrays to perform **useful calculations**\n",
    "- How to apply these new skills to **real-world problems**"
   ]
  },
  {
   "cell_type": "markdown",
   "id": "regulation-share",
   "metadata": {},
   "source": [
    "To get the most out of this NumPy tutorial, you should be familiar with writing Python code. If you’re familiar with matrix mathematics, then that will certainly be helpful as well. You don’t need to know anything about data science, however. You’ll learn that here."
   ]
  },
  {
   "cell_type": "markdown",
   "id": "published-leader",
   "metadata": {},
   "source": [
    "## Choosing NumPy: The Benefits"
   ]
  },
  {
   "cell_type": "markdown",
   "id": "organic-cooling",
   "metadata": {},
   "source": [
    "Since you already know Python, you may be asking yourself if you really have to learn a whole new paradigm to do data science. Python’s for loops are awesome! Reading and writing CSV files can be done with traditional code. However, there are some convincing arguments for learning a new paradigm."
   ]
  },
  {
   "cell_type": "markdown",
   "id": "moral-closure",
   "metadata": {},
   "source": [
    "Here are the top four benefits that NumPy can bring to your code:\n",
    "\n",
    "1. **More speed:** NumPy uses algorithms written in C that complete in nanoseconds rather than seconds.\n",
    "2. **Fewer loops:** NumPy helps you to reduce loops and keep from getting tangled up in iteration indices.\n",
    "3. **Clearer code:** Without loops, your code will look more like the equations you’re trying to calculate.\n",
    "4. **Better quality:** There are thousands of contributors working to keep NumPy fast, friendly, and bug free."
   ]
  },
  {
   "cell_type": "markdown",
   "id": "imperial-kazakhstan",
   "metadata": {},
   "source": [
    "Because of these benefits, NumPy is the de facto standard for multidimensional arrays in Python data science, and many of the most popular libraries are built on top of it. Learning NumPy is a great way to set down a solid foundation as you expand your knowledge into more specific areas of data science."
   ]
  },
  {
   "cell_type": "markdown",
   "id": "sealed-thailand",
   "metadata": {},
   "source": [
    "## Installing NumPy"
   ]
  },
  {
   "cell_type": "markdown",
   "id": "outside-patch",
   "metadata": {},
   "source": [
    "It’s time to get everything set up so you can start learning how to work with NumPy. There are a few different ways to do this, and you can’t go wrong by following the instructions on the NumPy website. But there are some extra details to be aware of that are outlined below."
   ]
  },
  {
   "cell_type": "markdown",
   "id": "posted-forest",
   "metadata": {},
   "source": [
    "### Installing NumPy With Anaconda"
   ]
  },
  {
   "cell_type": "markdown",
   "id": "subject-malaysia",
   "metadata": {},
   "source": [
    "The [Anaconda](https://www.anaconda.com/products/individual) distribution is a suite of common Python data science tools bundled around a package manager that helps manage your [virtual environments](https://realpython.com/python-virtual-environments-a-primer/) and project dependencies. It’s built around [conda](https://docs.conda.io/en/latest/), which is the actual package manager. This is the method recommended by the NumPy project, especially if you’re stepping into data science in Python without having already [set up a complex development environment](https://realpython.com/python-windows-machine-learning-setup/)."
   ]
  },
  {
   "cell_type": "markdown",
   "id": "jewish-report",
   "metadata": {},
   "source": [
    "If you’ve already got a workflow you like that uses [`pip`](https://realpython.com/what-is-pip/), [Pipenv](https://realpython.com/pipenv-guide/), [Poetry](https://realpython.com/effective-python-environment/#poetry), or some other toolset, then it might be better not to add conda to the mix. The conda package repository is separate from [PyPI](https://pypi.org/), and `conda` itself sets up a separate little island of packages on your machine, so managing paths and remembering which package lives where can be a [nightmare](https://xkcd.com/1987/)."
   ]
  },
  {
   "cell_type": "markdown",
   "id": "second-popularity",
   "metadata": {},
   "source": [
    "Once you’ve got conda installed, you can run the install command for the libraries you’ll need:\n",
    "\n",
    "```bash\n",
    "$ conda install numpy\n",
    "```\n",
    "\n",
    "This will install what you need for this NumPy tutorial, and you’ll be all set to go."
   ]
  },
  {
   "cell_type": "markdown",
   "id": "convenient-fellowship",
   "metadata": {},
   "source": [
    "### Installing NumPy With `pip`"
   ]
  },
  {
   "cell_type": "markdown",
   "id": "covered-aside",
   "metadata": {},
   "source": [
    "Although the NumPy project recommends using `conda` if you’re starting fresh, there’s nothing wrong with managing your environment yourself and just using good old `pip`, Pipenv, Poetry, or whatever other alternative to `pip` is your favorite."
   ]
  },
  {
   "cell_type": "markdown",
   "id": "wrong-sudan",
   "metadata": {},
   "source": [
    "Here are the commands to get set up with `pip`:\n",
    "\n",
    "```bash\n",
    "$ mkdir numpy-tutorial\n",
    "$ cd numpy-tutorial\n",
    "$ python3 -m venv .numpy-tutorial-venv\n",
    "$ source .numpy-tutorial-venv/bin/activate\n",
    "\n",
    "(.numpy-tutorial-venv)\n",
    "$ pip install numpy\n",
    "```"
   ]
  },
  {
   "cell_type": "markdown",
   "id": "original-fitting",
   "metadata": {},
   "source": [
    "After this, make sure your virtual environment is activated, and all your code should run as expected."
   ]
  },
  {
   "cell_type": "markdown",
   "id": "agreed-keeping",
   "metadata": {},
   "source": [
    "## The Need for NumPy Arrays"
   ]
  },
  {
   "cell_type": "markdown",
   "id": "characteristic-grounds",
   "metadata": {},
   "source": [
    "A fundamental question that beginners ask is. Why are arrays necessary for scientific computing at all? Surely, one can perform complex mathematical operations on any abstract data type, such as a list. The answer lies in the numerous properties of arrays that make them significantly more useful. In this section, let's go over a few of these properties to emphasize why something such as the NumPy ndarray object exists at all."
   ]
  },
  {
   "cell_type": "markdown",
   "id": "split-yugoslavia",
   "metadata": {},
   "source": [
    "### Representing of matrices and vectors\n",
    "The abstract mathematical concepts of matrices and vectors are central to many scientific problems. Arrays provide a direct semantic link to these concepts. Indeed, whenever a piece of mathematical literature makes reference to a matrix, one can safely think of an array as the software abstraction that represents the matrix. In scientific literature, an expression such as $A_{ij}$ is typically used to denote the element in the $i^{th}$ row and $j^{th}$ column of array `A`. The corresponding expression in NumPy would simply be `A[i,j]`. For matrix operations, NumPy arrays also support **vectorization** (details are addressed later, Using NumPy Arrays), which speeds up execution greatly. Vectorization makes the code more concise, easier to read, and much more akin to mathematical notation. Like matrices, arrays can be multidimensional too. Every element of an array is addressable through a set of integers called indices, and the process of accessing elements of an array with sets of integers is called **indexing**. This functionality can indeed be implemented without using arrays, but this would be cumbersome and quite unnecessary."
   ]
  },
  {
   "cell_type": "markdown",
   "id": "incoming-kazakhstan",
   "metadata": {},
   "source": [
    "### Efficiency\n",
    "\n",
    "Efficiency can mean a number of things in software. The term may be used to refer to the speed of execution of a program, its data retrieval and storage performance, its memory overhead (the memory consumed when a program is executing), or its overall throughput. NumPy arrays are better than most other data structures with respect to almost all of these characteristics (with a few exceptions such as pandas, DataFrames, or SciPy's sparse matrices, which we shall deal with later). Since NumPy arrays are statically typed and homogenous, fast mathematical operations can be implemented in compiled languages (the default implementation uses C and Fortran). Efficiency (the availability of fast algorithms working on homogeneous arrays) makes NumPy popular and important."
   ]
  },
  {
   "cell_type": "markdown",
   "id": "informational-divide",
   "metadata": {},
   "source": [
    "### Ease of development\n",
    "\n",
    "The NumPy module is a powerhouse of off-the-shelf functionality for mathematical tasks. It adds greatly to Python's ease of development. The following is a brief summary of what the module contains, most of which we shall explore in this book. A far more detailed treatment of the NumPy module is in the definitive _Guide to NumPy, Travis Oliphat_. The NumPy API is so flexible that it has been adopted extensively by the scientific Python community as the standard API to build scientific applications. Examples of how this standard is applied across scientific disciplines can be found in _The NumPy Array: a structure for efficient numerical computation, Van Der Walt_, and others:"
   ]
  },
  {
   "cell_type": "markdown",
   "id": "looking-buying",
   "metadata": {},
   "source": [
    "|Submodule | Contents|\n",
    "|:--|:--|\n",
    "|`numpy.core` | Basic objects|\n",
    "|`lib` | Additional utilities|\n",
    "|`linalg` | Basic linear algebra|\n",
    "|`fft` | Discrete Fourier transforms|\n",
    "|`random` | Random number generators|\n",
    "|`distutils` | Enhanced build and distribution|\n",
    "|`testing` | Unit testing|\n",
    "|`f2py` | Automatic wrapping of the Fortran code|"
   ]
  },
  {
   "cell_type": "markdown",
   "id": "dressed-biodiversity",
   "metadata": {},
   "source": [
    "## Array Objects"
   ]
  },
  {
   "cell_type": "markdown",
   "id": "modified-sword",
   "metadata": {},
   "source": [
    "NumPy provides an N-dimensional array type, the `ndarray`, which describes a collection of “items” of the same type. The items can be indexed using for example N integers."
   ]
  },
  {
   "cell_type": "markdown",
   "id": "bacterial-economy",
   "metadata": {},
   "source": [
    "All ndarrays are homogeneous: every item takes up the same size block of memory, and all blocks are interpreted in exactly the same way. How each item in the array is to be interpreted is specified by a separate data-type object, one of which is associated with every array. In addition to basic types (integers, floats, etc.), the data type objects can also represent data structures."
   ]
  },
  {
   "cell_type": "markdown",
   "id": "surface-technical",
   "metadata": {},
   "source": [
    "An item extracted from an array, e.g., by indexing, is represented by a Python object whose type is one of the array scalar types built in NumPy. The array scalars allow easy manipulation of also more complicated arrangements of data."
   ]
  },
  {
   "cell_type": "markdown",
   "id": "charged-dragon",
   "metadata": {},
   "source": [
    "Below is the conceptual diagram showing the relationship between the three fundamental objects used to describe the data in an array:\n",
    "- 1) the ndarray itself.\n",
    "- 2) the data-type object that describes the layout of a single fixed-size element of the array.\n",
    "- 3) the array-scalar Python object that is returned when a single element of the array is accessed."
   ]
  },
  {
   "cell_type": "markdown",
   "id": "devoted-singer",
   "metadata": {},
   "source": [
    "<img src=\"../images/numpy-array.png\" alt=\"numpy-array\" width=500 align=\"left\" />"
   ]
  },
  {
   "cell_type": "markdown",
   "id": "refined-director",
   "metadata": {},
   "source": [
    "## The N-dimensional Array (`ndarray`)\n",
    "\n",
    "An `ndarray` is a (usually fixed-size) multidimensional container of items of the same type and size. The number of dimensions and items in an array is defined by its `shape`, which is a `tuple` of N non-negative integers that specify the sizes of each dimension. The type of items in the array is specified by a separate data-type object (`dtype`), one of which is associated with each ndarray."
   ]
  },
  {
   "cell_type": "markdown",
   "id": "welcome-sheet",
   "metadata": {},
   "source": [
    "As with other container objects in Python, the contents of an ndarray can be accessed and modified by indexing or slicing the array (using, for example, N integers), and via the methods and attributes of the ndarray."
   ]
  },
  {
   "cell_type": "markdown",
   "id": "durable-domestic",
   "metadata": {},
   "source": [
    "Different ndarrays can share the same data, so that changes made in one ndarray may be visible in another. That is, an ndarray can be a “view” to another ndarray, and the data it is referring to is taken care of by the “base” ndarray. "
   ]
  },
  {
   "cell_type": "markdown",
   "id": "effective-numbers",
   "metadata": {},
   "source": [
    "### Creating Arrays"
   ]
  },
  {
   "cell_type": "markdown",
   "id": "stuck-measurement",
   "metadata": {},
   "source": [
    "#### Creating Arrays from List\n",
    "\n",
    "The simplest way to create an array is using the `array` function. To create a valid array object, arguments to array functions need to adhere to at least one of the following conditions:\n",
    "\n",
    "- It has to be a valid iterable value or sequence, which may be nested\n",
    "- It must have an `__array__` method that returns a valid numpy array"
   ]
  },
  {
   "cell_type": "markdown",
   "id": "abroad-worker",
   "metadata": {},
   "source": [
    "A 2-dimensional array of size 2 x 3, composed of 4-byte integer elements:"
   ]
  },
  {
   "cell_type": "code",
   "execution_count": 1,
   "id": "excess-navigation",
   "metadata": {},
   "outputs": [],
   "source": [
    "import numpy as np"
   ]
  },
  {
   "cell_type": "code",
   "execution_count": 8,
   "id": "female-patch",
   "metadata": {},
   "outputs": [],
   "source": [
    "x = np.array([[1, 2, 3], [4, 5, 6]])"
   ]
  },
  {
   "cell_type": "code",
   "execution_count": 9,
   "id": "swedish-dietary",
   "metadata": {},
   "outputs": [
    {
     "data": {
      "text/plain": [
       "numpy.ndarray"
      ]
     },
     "execution_count": 9,
     "metadata": {},
     "output_type": "execute_result"
    }
   ],
   "source": [
    "type(x)"
   ]
  },
  {
   "cell_type": "code",
   "execution_count": 10,
   "id": "recognized-captain",
   "metadata": {},
   "outputs": [
    {
     "data": {
      "text/plain": [
       "(2, 3)"
      ]
     },
     "execution_count": 10,
     "metadata": {},
     "output_type": "execute_result"
    }
   ],
   "source": [
    "x.shape"
   ]
  },
  {
   "cell_type": "code",
   "execution_count": 11,
   "id": "distinct-comment",
   "metadata": {},
   "outputs": [
    {
     "data": {
      "text/plain": [
       "dtype('int64')"
      ]
     },
     "execution_count": 11,
     "metadata": {},
     "output_type": "execute_result"
    }
   ],
   "source": [
    "x.dtype"
   ]
  },
  {
   "cell_type": "code",
   "execution_count": 12,
   "id": "exciting-extension",
   "metadata": {},
   "outputs": [
    {
     "data": {
      "text/plain": [
       "array(['hello', 'world', '3'], dtype='<U21')"
      ]
     },
     "execution_count": 12,
     "metadata": {},
     "output_type": "execute_result"
    }
   ],
   "source": [
    "np.array(['hello', 'world', 3])"
   ]
  },
  {
   "cell_type": "markdown",
   "id": "afraid-certificate",
   "metadata": {},
   "source": [
    "The first condition is always true for Python lists and tuples. When creating an array from lists or tuples, the input may consist of different (heterogeneous) data types. The array function, however, will normally cast all input elements into the most suitable data type required for the array. For example, if a list contains both floats and integers, the resulting array will be of type float. If it contains an integer and a boolean, the resulting array will consist of integers."
   ]
  },
  {
   "cell_type": "markdown",
   "id": "expensive-crest",
   "metadata": {},
   "source": [
    "One of the most handy ways of creating lists, and therefore arrays, of integers is using the `range` funct/ion:"
   ]
  },
  {
   "cell_type": "code",
   "execution_count": 13,
   "id": "resident-wallpaper",
   "metadata": {},
   "outputs": [],
   "source": [
    "x = range(5)"
   ]
  },
  {
   "cell_type": "code",
   "execution_count": 14,
   "id": "hazardous-anderson",
   "metadata": {},
   "outputs": [],
   "source": [
    "y = np.array(x)"
   ]
  },
  {
   "cell_type": "markdown",
   "id": "tired-entrance",
   "metadata": {},
   "source": [
    "NumPy has a convenient function, called arange, that combines the functionality of the `range` and `array` functions. The preceding two lines of code are equivalent to this:"
   ]
  },
  {
   "cell_type": "code",
   "execution_count": 20,
   "id": "printable-demographic",
   "metadata": {},
   "outputs": [],
   "source": [
    "x = np.arange(10)"
   ]
  },
  {
   "cell_type": "code",
   "execution_count": 21,
   "id": "resident-canal",
   "metadata": {},
   "outputs": [
    {
     "data": {
      "text/plain": [
       "array([0, 1, 2, 3, 4, 5, 6, 7, 8, 9])"
      ]
     },
     "execution_count": 21,
     "metadata": {},
     "output_type": "execute_result"
    }
   ],
   "source": [
    "x"
   ]
  },
  {
   "cell_type": "markdown",
   "id": "functional-substance",
   "metadata": {},
   "source": [
    "#### Creating random arrays\n",
    "\n",
    "The `random` module in NumPy provides various functions to create random arrays of any data type. We will be using this module very frequently throughout the book to demonstrate the working of functions in NumPy. The random module broadly consists of functions that:\n",
    "- Create random arrays\n",
    "- Create random permutations of arrays\n",
    "- Generate arrays with specific probability distributions"
   ]
  },
  {
   "cell_type": "markdown",
   "id": "constitutional-secretary",
   "metadata": {},
   "source": [
    "For the purposes of this section, we will be focusing on two important functions in the random module-`rand` and `random`."
   ]
  },
  {
   "cell_type": "code",
   "execution_count": 85,
   "id": "organizational-course",
   "metadata": {},
   "outputs": [],
   "source": [
    "x = np.random.rand(2, 2, 2, 4)"
   ]
  },
  {
   "cell_type": "code",
   "execution_count": 86,
   "id": "invisible-trinidad",
   "metadata": {},
   "outputs": [
    {
     "data": {
      "text/plain": [
       "array([[[[0.41514186, 0.29152438, 0.53969619, 0.38673942],\n",
       "         [0.16707119, 0.13899255, 0.35613077, 0.21619568]],\n",
       "\n",
       "        [[0.67205058, 0.55143472, 0.32763714, 0.24113398],\n",
       "         [0.06700526, 0.44628069, 0.33042355, 0.99144112]]],\n",
       "\n",
       "\n",
       "       [[[0.35879161, 0.18383363, 0.56007162, 0.92156262],\n",
       "         [0.40876751, 0.00629223, 0.7855127 , 0.53756535]],\n",
       "\n",
       "        [[0.25175071, 0.70748389, 0.13452298, 0.62323551],\n",
       "         [0.90198994, 0.06749009, 0.57251703, 0.81802878]]]])"
      ]
     },
     "execution_count": 86,
     "metadata": {},
     "output_type": "execute_result"
    }
   ],
   "source": [
    "x"
   ]
  },
  {
   "cell_type": "code",
   "execution_count": 87,
   "id": "detailed-layout",
   "metadata": {},
   "outputs": [
    {
     "data": {
      "text/plain": [
       "(2, 2, 2, 4)"
      ]
     },
     "execution_count": 87,
     "metadata": {},
     "output_type": "execute_result"
    }
   ],
   "source": [
    "x.shape"
   ]
  },
  {
   "cell_type": "code",
   "execution_count": 2,
   "id": "indoor-wisconsin",
   "metadata": {},
   "outputs": [],
   "source": [
    "y = np.random.random((2, 3, 4))"
   ]
  },
  {
   "cell_type": "code",
   "execution_count": 89,
   "id": "appropriate-belgium",
   "metadata": {},
   "outputs": [
    {
     "data": {
      "text/plain": [
       "(2, 3, 4)"
      ]
     },
     "execution_count": 89,
     "metadata": {},
     "output_type": "execute_result"
    }
   ],
   "source": [
    "y.shape"
   ]
  },
  {
   "cell_type": "code",
   "execution_count": 90,
   "id": "intimate-stupid",
   "metadata": {},
   "outputs": [
    {
     "data": {
      "text/plain": [
       "array([[[0.33603821, 0.87942418, 0.8595046 , 0.59967352],\n",
       "        [0.39591039, 0.62590545, 0.48937191, 0.93119028],\n",
       "        [0.98885106, 0.48437713, 0.50686744, 0.03488253]],\n",
       "\n",
       "       [[0.43570412, 0.58526035, 0.00675684, 0.93169393],\n",
       "        [0.51591668, 0.29233314, 0.83111965, 0.27099091],\n",
       "        [0.58357156, 0.51186415, 0.17128149, 0.76128687]]])"
      ]
     },
     "execution_count": 90,
     "metadata": {},
     "output_type": "execute_result"
    }
   ],
   "source": [
    "y"
   ]
  },
  {
   "cell_type": "markdown",
   "id": "equal-sword",
   "metadata": {},
   "source": [
    "Notice the subtle difference between the arguments passed to the two functions. **The `random` function accepts a tuple** as an argument and creates an array with dimensionality equal to the length of the tuple. The respective dimensions have their lengths equal to the elements of the tuple. **The `rand` function, on the other hand, takes any number of integer arguments** and returns a random array such that its dimensionality is equal to the number of integer arguments passed to the function, and the respective dimensions have lengths equal to the values of the integer arguments. Thus, `x` in the preceding snippet is a three-dimensional array (the number of the arguments passed to the function), and each of the three dimensions of `x` has a length of 2 (the value of each of the arguments). `rand` is a convenience function for `random`. Both these functions can be used interchangeably, provided the arguments that are passed are respectively valid for either function."
   ]
  },
  {
   "cell_type": "markdown",
   "id": "muslim-latitude",
   "metadata": {},
   "source": [
    "To create random arrays of integers you can use `randint` function."
   ]
  },
  {
   "cell_type": "code",
   "execution_count": 81,
   "id": "functioning-dance",
   "metadata": {},
   "outputs": [],
   "source": [
    "LOW, HIGH = 1, 11 \n",
    "SIZE = 10\n",
    "x = np.random.randint(LOW, HIGH, size=SIZE) "
   ]
  },
  {
   "cell_type": "code",
   "execution_count": 82,
   "id": "necessary-christmas",
   "metadata": {},
   "outputs": [
    {
     "data": {
      "text/plain": [
       "array([ 9,  6,  6, 10,  2,  7,  9,  1, 10,  5])"
      ]
     },
     "execution_count": 82,
     "metadata": {},
     "output_type": "execute_result"
    }
   ],
   "source": [
    "x"
   ]
  },
  {
   "cell_type": "markdown",
   "id": "professional-thought",
   "metadata": {},
   "source": [
    "The `randint` function takes three arguments, of which two are optional. The first argument denotes the desired lower limit of the output values, and the second optional argument denotes the (exclusive) upper limit of the output values. The optional `size` argument is a tuple that determines the shape of the output array."
   ]
  },
  {
   "cell_type": "code",
   "execution_count": 45,
   "id": "angry-husband",
   "metadata": {},
   "outputs": [
    {
     "data": {
      "text/plain": [
       "4"
      ]
     },
     "execution_count": 45,
     "metadata": {},
     "output_type": "execute_result"
    }
   ],
   "source": [
    "np.random.randint(10) "
   ]
  },
  {
   "cell_type": "markdown",
   "id": "stopped-diabetes",
   "metadata": {},
   "source": [
    "#### Other arrays\n",
    "\n",
    "There are a few other array creation functions, such as `zeros()`, `ones()`, `eye()`, and others (similar to the ones in MATLAB) that can be used to create NumPy arrays. Their use is fairly straightforward."
   ]
  },
  {
   "cell_type": "code",
   "execution_count": 94,
   "id": "dense-pressing",
   "metadata": {},
   "outputs": [
    {
     "data": {
      "text/plain": [
       "array([[0., 0., 0., 0.],\n",
       "       [0., 0., 0., 0.],\n",
       "       [0., 0., 0., 0.]])"
      ]
     },
     "execution_count": 94,
     "metadata": {},
     "output_type": "execute_result"
    }
   ],
   "source": [
    "np.zeros((3, 4))"
   ]
  },
  {
   "cell_type": "code",
   "execution_count": 95,
   "id": "composite-float",
   "metadata": {},
   "outputs": [
    {
     "data": {
      "text/plain": [
       "array([[1., 1., 1., 1., 1.],\n",
       "       [1., 1., 1., 1., 1.],\n",
       "       [1., 1., 1., 1., 1.]])"
      ]
     },
     "execution_count": 95,
     "metadata": {},
     "output_type": "execute_result"
    }
   ],
   "source": [
    "np.ones((3, 5))"
   ]
  },
  {
   "cell_type": "code",
   "execution_count": 98,
   "id": "smart-hughes",
   "metadata": {},
   "outputs": [
    {
     "data": {
      "text/plain": [
       "array([[1., 0., 0., 0., 0.],\n",
       "       [0., 1., 0., 0., 0.],\n",
       "       [0., 0., 1., 0., 0.],\n",
       "       [0., 0., 0., 1., 0.],\n",
       "       [0., 0., 0., 0., 1.]])"
      ]
     },
     "execution_count": 98,
     "metadata": {},
     "output_type": "execute_result"
    }
   ],
   "source": [
    "np.eye(5)"
   ]
  },
  {
   "cell_type": "code",
   "execution_count": 107,
   "id": "controlling-malta",
   "metadata": {},
   "outputs": [
    {
     "data": {
      "text/plain": [
       "array([[1., 0., 0., 0.],\n",
       "       [0., 1., 0., 0.],\n",
       "       [0., 0., 1., 0.]])"
      ]
     },
     "execution_count": 107,
     "metadata": {},
     "output_type": "execute_result"
    }
   ],
   "source": [
    "np.eye(3, 4)"
   ]
  },
  {
   "cell_type": "code",
   "execution_count": 108,
   "id": "mighty-category",
   "metadata": {},
   "outputs": [
    {
     "data": {
      "text/plain": [
       "array([[0., 0., 1., 0.],\n",
       "       [0., 0., 0., 1.],\n",
       "       [0., 0., 0., 0.]])"
      ]
     },
     "execution_count": 108,
     "metadata": {},
     "output_type": "execute_result"
    }
   ],
   "source": [
    "np.eye(3, 4, 2)"
   ]
  },
  {
   "cell_type": "markdown",
   "id": "english-pillow",
   "metadata": {},
   "source": [
    "## Array Data Types\n",
    "\n",
    "Data types are another important intrinsic aspect of a NumPy array alongside its memory layout and indexing (Will be discussed later). The data type of a NumPy array can be found by simply checking the `dtype` attribute of the array. Try out the following examples to check the data types of different arrays:"
   ]
  },
  {
   "cell_type": "code",
   "execution_count": 109,
   "id": "union-appointment",
   "metadata": {},
   "outputs": [],
   "source": [
    "x = np.random.random((10, 10)) "
   ]
  },
  {
   "cell_type": "code",
   "execution_count": 111,
   "id": "crude-involvement",
   "metadata": {},
   "outputs": [
    {
     "data": {
      "text/plain": [
       "dtype('float64')"
      ]
     },
     "execution_count": 111,
     "metadata": {},
     "output_type": "execute_result"
    }
   ],
   "source": [
    "x.dtype"
   ]
  },
  {
   "cell_type": "code",
   "execution_count": 112,
   "id": "scenic-fault",
   "metadata": {},
   "outputs": [],
   "source": [
    "x = np.array(range(10)) "
   ]
  },
  {
   "cell_type": "code",
   "execution_count": 113,
   "id": "automated-thesaurus",
   "metadata": {},
   "outputs": [
    {
     "data": {
      "text/plain": [
       "dtype('int64')"
      ]
     },
     "execution_count": 113,
     "metadata": {},
     "output_type": "execute_result"
    }
   ],
   "source": [
    "x.dtype"
   ]
  },
  {
   "cell_type": "code",
   "execution_count": 114,
   "id": "extreme-wednesday",
   "metadata": {},
   "outputs": [],
   "source": [
    "x = np.array(['hello', 'world']) "
   ]
  },
  {
   "cell_type": "code",
   "execution_count": 116,
   "id": "practical-relations",
   "metadata": {},
   "outputs": [
    {
     "data": {
      "text/plain": [
       "dtype('<U5')"
      ]
     },
     "execution_count": 116,
     "metadata": {},
     "output_type": "execute_result"
    }
   ],
   "source": [
    "x.dtype"
   ]
  },
  {
   "cell_type": "markdown",
   "id": "cooked-joint",
   "metadata": {},
   "source": [
    "Many array creation functions provide a default array data type. For example, the `np.zeros` and `np.ones` functions create arrays that are full of floats by default. But it is possible to make them create arrays of other data types too. Consider the following examples that demonstrate how to use the dtype argument to create arrays of arbitrary data types."
   ]
  },
  {
   "cell_type": "code",
   "execution_count": 121,
   "id": "present-princeton",
   "metadata": {},
   "outputs": [],
   "source": [
    "x = np.ones((3, 3), dtype=int) "
   ]
  },
  {
   "cell_type": "code",
   "execution_count": 122,
   "id": "cellular-museum",
   "metadata": {},
   "outputs": [
    {
     "data": {
      "text/plain": [
       "dtype('int64')"
      ]
     },
     "execution_count": 122,
     "metadata": {},
     "output_type": "execute_result"
    }
   ],
   "source": [
    "x.dtype"
   ]
  },
  {
   "cell_type": "code",
   "execution_count": 123,
   "id": "congressional-philippines",
   "metadata": {},
   "outputs": [],
   "source": [
    "x = np.zeros((3, 3), dtype='i')"
   ]
  },
  {
   "cell_type": "code",
   "execution_count": 124,
   "id": "introductory-membership",
   "metadata": {},
   "outputs": [
    {
     "data": {
      "text/plain": [
       "array([[0, 0, 0],\n",
       "       [0, 0, 0],\n",
       "       [0, 0, 0]], dtype=int32)"
      ]
     },
     "execution_count": 124,
     "metadata": {},
     "output_type": "execute_result"
    }
   ],
   "source": [
    "x"
   ]
  },
  {
   "cell_type": "code",
   "execution_count": 125,
   "id": "indirect-kenya",
   "metadata": {},
   "outputs": [
    {
     "data": {
      "text/plain": [
       "dtype('int32')"
      ]
     },
     "execution_count": 125,
     "metadata": {},
     "output_type": "execute_result"
    }
   ],
   "source": [
    "x.dtype"
   ]
  },
  {
   "cell_type": "markdown",
   "id": "completed-pattern",
   "metadata": {},
   "source": [
    "For a complete list of data types supported by NumPy, refer to https://numpy.org/doc/stable/user/basics.types.html."
   ]
  },
  {
   "cell_type": "markdown",
   "id": "fantastic-bacteria",
   "metadata": {},
   "source": [
    "## Hello NumPy: Curving Test Grades Tutorial"
   ]
  },
  {
   "cell_type": "markdown",
   "id": "wired-particle",
   "metadata": {},
   "source": [
    "This first example introduces a few core concepts in NumPy that you’ll use throughout the rest of the tutorial:\n",
    "\n",
    "- Creating arrays using `numpy.array()`\n",
    "- Treating complete arrays like individual values to make vectorized calculations more readable\n",
    "- Using built-in NumPy functions to modify and aggregate the data\n"
   ]
  },
  {
   "cell_type": "markdown",
   "id": "everyday-immune",
   "metadata": {},
   "source": [
    "These concepts are the core of using NumPy effectively."
   ]
  },
  {
   "cell_type": "markdown",
   "id": "disciplinary-brick",
   "metadata": {},
   "source": [
    "The scenario is this: You’re a teacher who has just graded your students on a recent test. Unfortunately, you may have made the test too challenging, and most of the students did worse than expected. To help everybody out, you’re going to **curve** everyone’s grades."
   ]
  },
  {
   "cell_type": "markdown",
   "id": "adjusted-prairie",
   "metadata": {},
   "source": [
    "It’ll be a relatively rudimentary curve, though. You’ll take whatever the average score is and declare that a C. Additionally, you’ll make sure that the curve doesn’t accidentally hurt your students’ grades or help so much that the student does better than 100%."
   ]
  },
  {
   "cell_type": "markdown",
   "id": "double-surface",
   "metadata": {},
   "source": [
    "Enter this code into your REPL:"
   ]
  },
  {
   "cell_type": "code",
   "execution_count": 126,
   "id": "widespread-thumbnail",
   "metadata": {},
   "outputs": [
    {
     "data": {
      "text/plain": [
       "array([ 91.25,  54.25,  83.25, 100.  ,  70.25, 100.  ,  93.25,  31.25])"
      ]
     },
     "execution_count": 126,
     "metadata": {},
     "output_type": "execute_result"
    }
   ],
   "source": [
    "import numpy as np\n",
    "\n",
    "CURVE_CENTER = 80\n",
    "grades = np.array([72, 35, 64, 88, 51, 90, 74, 12])\n",
    "\n",
    "def curve(grades):\n",
    "    average = grades.mean()\n",
    "    change = CURVE_CENTER - average\n",
    "    new_grades = grades + change\n",
    "    \n",
    "    return np.clip(new_grades, grades, 100)\n",
    "\n",
    "curve(grades)"
   ]
  },
  {
   "cell_type": "markdown",
   "id": "final-convention",
   "metadata": {},
   "source": [
    "The original scores have been increased based on where they were in the pack, but none of them were pushed over 100%."
   ]
  },
  {
   "cell_type": "markdown",
   "id": "liberal-columbus",
   "metadata": {},
   "source": [
    "Here are the important highlights:\n",
    "\n",
    "- **Line 1** imports NumPy using the `np` alias, which is a common convention that saves you a few keystrokes.\n",
    "- **Line 3** creates your first NumPy array, which is one-dimensional and has a shape of `(8,)` and a data type of `int64`. Don’t worry too much about these details yet. You’ll explore them in more detail later.\n",
    "- **Line 5** takes the average of all the scores using [`.mean()`](https://numpy.org/doc/stable/reference/generated/numpy.ndarray.mean.html#numpy.ndarray.mean). Arrays have a lot of [methods](https://numpy.org/doc/stable/reference/arrays.ndarray.html#array-methods)."
   ]
  },
  {
   "cell_type": "markdown",
   "id": "suspected-sessions",
   "metadata": {},
   "source": [
    "On line 7, you take advantage of two important concepts at once:\n",
    "\n",
    "- Vectorization\n",
    "- Broadcasting"
   ]
  },
  {
   "cell_type": "markdown",
   "id": "olympic-mayor",
   "metadata": {},
   "source": [
    "**Vectorization** is the process of performing the same operation in the same way for each element in an array. This removes `for` loops from your code but achieves the same result."
   ]
  },
  {
   "cell_type": "markdown",
   "id": "patent-romania",
   "metadata": {},
   "source": [
    "**Broadcasting** is the process of extending two arrays of different shapes and figuring out how to perform a vectorized calculation between them. Remember, grades is an array of numbers of shape `(8,)` and change is a **scalar**, or single number, essentially with shape `(1,)`. In this case, NumPy adds the scalar to each item in the array and returns a new array with the results."
   ]
  },
  {
   "cell_type": "markdown",
   "id": "selected-field",
   "metadata": {},
   "source": [
    "Finally, on line 8, you limit, or **clip**, the values to a set of minimums and maximums. In addition to array methods, NumPy also has a large number of built-in functions. You don’t need to memorize them all—that’s what documentation is for. Anytime you get stuck or feel like there should be an easier way to do something, take a peek at the documentation and see if there isn’t already a routine that does exactly what you need."
   ]
  },
  {
   "cell_type": "markdown",
   "id": "integral-sugar",
   "metadata": {},
   "source": [
    "In this case, you need a function that takes an array and makes sure the values don’t exceed a given minimum or maximum. [`clip()`](https://numpy.org/doc/stable/reference/generated/numpy.clip.html) does exactly that."
   ]
  },
  {
   "cell_type": "markdown",
   "id": "liberal-tampa",
   "metadata": {},
   "source": [
    "## Vectorized Operations"
   ]
  },
  {
   "cell_type": "markdown",
   "id": "southern-range",
   "metadata": {},
   "source": [
    "All NumPy operations are vectorized, where you apply operations to the whole array instead of on each element individually. This is not just neat and handy but also improves the performance of computation compared to using loops. In this section, we will experience the power of NumPy vectorized operations. A key idea worth keeping in mind before we start exploring this subject is to always think of entire sets of arrays instead of each element; this will help you enjoy learning about NumPy Arrays and their performance. Let's start by doing some simple calculations with scalars and between NumPy Arrays:"
   ]
  },
  {
   "cell_type": "code",
   "execution_count": 130,
   "id": "reverse-princeton",
   "metadata": {},
   "outputs": [],
   "source": [
    "x = np.array([1, 2, 3, 4])"
   ]
  },
  {
   "cell_type": "code",
   "execution_count": 135,
   "id": "developed-tunnel",
   "metadata": {},
   "outputs": [
    {
     "data": {
      "text/plain": [
       "array([3, 4, 5, 6])"
      ]
     },
     "execution_count": 135,
     "metadata": {},
     "output_type": "execute_result"
    }
   ],
   "source": [
    "x + 2"
   ]
  },
  {
   "cell_type": "markdown",
   "id": "hidden-checklist",
   "metadata": {},
   "source": [
    "As mentioned, all the elements in the array are added by 1 simultaneously. This is very different from Python or most other programming languages. The elements in a NumPy Array all have the same `dtype`; in the preceding example, this is `numpy.int` (this is either 32 or 64-bit depending on the machine); therefore, NumPy can save time on checking the type of each element at runtime, which, ordinarily, is done by Python. So, just apply these arithmetic operations:"
   ]
  },
  {
   "cell_type": "code",
   "execution_count": 136,
   "id": "awful-corps",
   "metadata": {},
   "outputs": [],
   "source": [
    "y = np.array([-1, 2, 3, 0]) "
   ]
  },
  {
   "cell_type": "code",
   "execution_count": 138,
   "id": "indie-noise",
   "metadata": {},
   "outputs": [
    {
     "data": {
      "text/plain": [
       "array([-1,  4,  9,  0])"
      ]
     },
     "execution_count": 138,
     "metadata": {},
     "output_type": "execute_result"
    }
   ],
   "source": [
    "x * y"
   ]
  },
  {
   "cell_type": "markdown",
   "id": "great-dining",
   "metadata": {},
   "source": [
    "Two NumPy Arrays are multiplied element by element. In the preceding example, two arrays are of equal shape, so no broadcasting is applied here (we will explain different shapes, NumPy Array operations, and broadcasting rules in a later section.) The first element in array `x` is multiplied by the first element in array `y` and so on. One important point to note here is that the arithmetic operations between two NumPy Arrays are not matrix multiplications. The result still returns the same shape of NumPy Arrays. A matrix multiplication in NumPy will use `numpy.dot()` or `@` operator. Take a look at this example:"
   ]
  },
  {
   "cell_type": "code",
   "execution_count": 146,
   "id": "small-tribute",
   "metadata": {},
   "outputs": [
    {
     "data": {
      "text/plain": [
       "12"
      ]
     },
     "execution_count": 146,
     "metadata": {},
     "output_type": "execute_result"
    }
   ],
   "source": [
    "np.dot(x, y)"
   ]
  },
  {
   "cell_type": "code",
   "execution_count": 148,
   "id": "later-direction",
   "metadata": {},
   "outputs": [
    {
     "data": {
      "text/plain": [
       "12"
      ]
     },
     "execution_count": 148,
     "metadata": {},
     "output_type": "execute_result"
    }
   ],
   "source": [
    "x @ y"
   ]
  },
  {
   "cell_type": "markdown",
   "id": "adaptive-drain",
   "metadata": {},
   "source": [
    "NumPy also supports logic comparison between two arrays, and the comparison is vectorized as well. The result returns a Boolean, and NumPy Array indicates which element in both arrays is equal. If two different shapes of arrays are compared, the result would only return one `False`, which indicates that the two arrays are different, and would really compare each element:"
   ]
  },
  {
   "cell_type": "code",
   "execution_count": 149,
   "id": "sorted-agriculture",
   "metadata": {},
   "outputs": [
    {
     "data": {
      "text/plain": [
       "array([False,  True,  True, False])"
      ]
     },
     "execution_count": 149,
     "metadata": {},
     "output_type": "execute_result"
    }
   ],
   "source": [
    "x == y"
   ]
  },
  {
   "cell_type": "markdown",
   "id": "preceding-astrology",
   "metadata": {},
   "source": [
    "From the preceding examples, we get an insight into NumPy's element-wise operations, but what's the benefit of using them? How can we know that an optimization has been made through these NumPy operations? We will use the `%timeit` to show you the difference between NumPy operations and the Python `for` loop:"
   ]
  },
  {
   "cell_type": "code",
   "execution_count": 150,
   "id": "honest-marathon",
   "metadata": {},
   "outputs": [],
   "source": [
    "x = np.arange(1000)"
   ]
  },
  {
   "cell_type": "code",
   "execution_count": 152,
   "id": "strange-mississippi",
   "metadata": {},
   "outputs": [
    {
     "name": "stdout",
     "output_type": "stream",
     "text": [
      "802 ns ± 8.25 ns per loop (mean ± std. dev. of 7 runs, 1000000 loops each)\n"
     ]
    }
   ],
   "source": [
    "%timeit x + 1"
   ]
  },
  {
   "cell_type": "code",
   "execution_count": 153,
   "id": "resident-series",
   "metadata": {},
   "outputs": [],
   "source": [
    "y = range(1000)"
   ]
  },
  {
   "cell_type": "code",
   "execution_count": 155,
   "id": "owned-michigan",
   "metadata": {},
   "outputs": [
    {
     "name": "stdout",
     "output_type": "stream",
     "text": [
      "32.1 µs ± 341 ns per loop (mean ± std. dev. of 7 runs, 10000 loops each)\n"
     ]
    }
   ],
   "source": [
    "%timeit [i+1 for i in y]"
   ]
  },
  {
   "cell_type": "markdown",
   "id": "opening-export",
   "metadata": {},
   "source": [
    "Two variables, `x` and `y`, are the same length and do the same kind of work, which includes adding a value to all the elements in the arrays. With the help of NumPy operations, the performance is way faster than an ordinary Python `for` loop (we use a list comprehension here for neat code, which is faster than an ordinary Python `for` loop, but still, NumPy has better performance when compared to the ordinary Python `for` loop). Knowing this huge distinction can help you speed up your code by replacing your loops with NumPy operations."
   ]
  },
  {
   "cell_type": "markdown",
   "id": "coordinate-shelter",
   "metadata": {},
   "source": [
    "As we mentioned in the previous examples, improvement in performance is due to a consistent `dtype` in a NumPy Array. A tip that can help you use NumPy Arrays correctly is to always consider `dtype` before you apply any operation, as you will most likely be doing in most programming languages."
   ]
  }
 ],
 "metadata": {
  "kernelspec": {
   "display_name": "Python 3",
   "language": "python",
   "name": "python3"
  },
  "language_info": {
   "codemirror_mode": {
    "name": "ipython",
    "version": 3
   },
   "file_extension": ".py",
   "mimetype": "text/x-python",
   "name": "python",
   "nbconvert_exporter": "python",
   "pygments_lexer": "ipython3",
   "version": "3.8.11"
  },
  "nteract": {
   "version": "nteract-on-jupyter@2.1.3"
  }
 },
 "nbformat": 4,
 "nbformat_minor": 5
}
