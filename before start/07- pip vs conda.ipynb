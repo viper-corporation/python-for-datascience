{
 "cells": [
  {
   "cell_type": "markdown",
   "id": "8332fe65-b10f-4546-8734-cb28e06d0511",
   "metadata": {},
   "source": [
    "# pip vs Conda"
   ]
  },
  {
   "cell_type": "markdown",
   "id": "e389bbda-2959-4af0-9c90-68963e0ba721",
   "metadata": {},
   "source": [
    "* [The starting point: which kind of dependencies?](#The-starting-point:-which-kind-of-dependencies?)\n",
    "* [Pip: Python libraries only](#Pip:-Python-libraries-only)\n",
    "* [Conda: Any dependency can be a Conda package (almost)](#Conda:-Any-dependency-can-be-a-Conda-package-(almost))\n",
    "    * [Why Conda packages everything](#Why-Conda-packages-everything)\n",
    "* [Beyond pure Python: Packaging compiled extensions](#Beyond-pure-Python:-Packaging-compiled-extensions)\n",
    "    * [Solution #1: Compile it yourself](#Solution-#1:-Compile-it-yourself)\n",
    "    * [Solution #2: Pip wheels](#Solution-#2:-Pip-wheels)\n",
    "    * [Solution #3: Conda packages](#Solution-#3:-Conda-packages)\n",
    "    * [Summary: pip vs Conda](#Summary:-pip-vs-Conda)\n",
    "* [PyPI vs. Conda-Forge](#PyPI-vs.-Conda-Forge)"
   ]
  },
  {
   "cell_type": "markdown",
   "id": "7ef59cf1-3683-4193-8986-fc3daff041c9",
   "metadata": {},
   "source": [
    ">  a **package** is a module that can be added to any program to add additional options, features, or functionality.\n",
    "also you can call that **module or library**"
   ]
  },
  {
   "cell_type": "markdown",
   "id": "5cece355-f0b2-4901-812e-2bdb52e920e9",
   "metadata": {},
   "source": [
    "If you’re using Python in the world of data science or scientific computing, you will soon discover that Python has two different packaging systems: \n",
    "\n",
    "**pip and Conda**. Which raises some questions:\n",
    "\n",
    "* How are they different?\n",
    "* What are the tradeoffs between the two?\n",
    "* Which should you use?"
   ]
  },
  {
   "cell_type": "markdown",
   "id": "dd6f3467-2b0c-4108-b5cc-cda255f5933d",
   "metadata": {},
   "source": [
    "but first how to use pip and conda in jupyter :"
   ]
  },
  {
   "cell_type": "code",
   "execution_count": 8,
   "id": "de8aaf47-b0ec-469f-8d42-0f77a83a49db",
   "metadata": {},
   "outputs": [
    {
     "name": "stdout",
     "output_type": "stream",
     "text": [
      "Requirement already satisfied: numpy in /home/rasool/anaconda3/lib/python3.10/site-packages (1.23.5)\n"
     ]
    }
   ],
   "source": [
    "!pip install numpy"
   ]
  },
  {
   "cell_type": "code",
   "execution_count": 9,
   "id": "43a7bfba-b900-4e47-846b-2d0006483c52",
   "metadata": {},
   "outputs": [
    {
     "name": "stdout",
     "output_type": "stream",
     "text": [
      "Retrieving notices: ...working... done\n",
      "Collecting package metadata (current_repodata.json): done\n",
      "Solving environment: done\n",
      "\n",
      "# All requested packages already installed.\n",
      "\n"
     ]
    }
   ],
   "source": [
    "!conda install numpy"
   ]
  },
  {
   "cell_type": "markdown",
   "id": "9b43967c-7998-487e-b646-9f65703cdace",
   "metadata": {},
   "source": [
    "## The starting point: which kind of dependencies?"
   ]
  },
  {
   "cell_type": "markdown",
   "id": "8d24ce94-ef84-418e-8007-854425130586",
   "metadata": {},
   "source": [
    "The fundamental difference between pip and Conda packaging is what they put in packages.\n",
    "\n",
    "* **Pip packages are Python libraries** like NumPy or matplotlib.\n",
    "* Conda packages include **Python libraries** (NumPy or matplotlib), C libraries (libjpeg), and **executables** (like C compilers, and even the Python interpreter itself)."
   ]
  },
  {
   "cell_type": "markdown",
   "id": "07ee6241-cbc4-48cf-9474-c4c35e1e3a10",
   "metadata": {},
   "source": [
    "## Pip: Python libraries only\n",
    "For example, let’s say you want to install Python 3.9 with NumPy, Pandas, and the gnuplot rendering tool, a tool that is unrelated to Python. Here’s what the pip ``requirements.txt`` would look like:"
   ]
  },
  {
   "cell_type": "raw",
   "id": "49c715ad-abde-41b3-b025-8823a8243158",
   "metadata": {},
   "source": [
    "numpy\n",
    "pandas"
   ]
  },
  {
   "cell_type": "markdown",
   "id": "57e5caa2-b4bc-4a51-a557-b12cbcaa7416",
   "metadata": {},
   "source": [
    "how to install requirements: "
   ]
  },
  {
   "cell_type": "code",
   "execution_count": null,
   "id": "70c732ac-a332-40a1-9f28-18825bc18980",
   "metadata": {},
   "outputs": [],
   "source": [
    "pip install -r requrments.txt"
   ]
  },
  {
   "cell_type": "markdown",
   "id": "61fc4cdf-6fb3-44c2-b9d0-9be11796b23e",
   "metadata": {},
   "source": [
    "## Conda: Any dependency can be a Conda package (almost)"
   ]
  },
  {
   "cell_type": "markdown",
   "id": "8552d0cd-7743-4356-97b3-1fa95e9a6ac1",
   "metadata": {},
   "source": [
    "With Conda, Python and gnuplot are just more Conda packages, no different than NumPy or Pandas. The ``environment.yml`` that corresponds (somewhat) to the requirements.txt we saw above will include all of these packages:"
   ]
  },
  {
   "cell_type": "raw",
   "id": "46fe8f78-76d9-4bef-a5c6-b0c8bead523e",
   "metadata": {},
   "source": [
    "name: myenv\n",
    "channels:\n",
    "    - conda-forge\n",
    "dependencies:\n",
    "    - python=3.9\n",
    "    - numpy\n",
    "    - pandas\n",
    "    - gnuplot"
   ]
  },
  {
   "cell_type": "markdown",
   "id": "c93456c1-e38b-426c-8431-b8fe039f7244",
   "metadata": {},
   "source": [
    "## Why Conda packages everything\n",
    "Why did Conda make the decision to package everything, Python interpreter included? How does this benefit you? In part it’s about portability and reproducibility.\n",
    "\n",
    "* **Portability across operating systems:** Instead of installing Python in three different ways on Linux, macOS, and Windows, you can use the same environment.yml on all three.\n",
    "* **Reproducibility:** It’s possible to pin almost the whole stack, from the Python interpreter upwards.\n",
    "* **Consistent configuration:** You don’t need to install system packages and Python packages in two different ways; (almost) everything can go in one file, the environment.yml.\n",
    "But it also addresses another problem: how to deal with Python libraries that require compiled code. That’s a big enough topic that it gets a whole new section, next."
   ]
  },
  {
   "cell_type": "markdown",
   "id": "ee6fbfd2-bcae-47fe-8636-81f4672ee944",
   "metadata": {},
   "source": [
    "## Beyond pure Python: Packaging compiled extensions\n",
    "In the early days of Python packaging, a package included just the source code that needed to be installed. For pure Python packages, this worked fine, and still does. But what happens when you need to compile some Rust or C or C++ or Fortran code as part of building the package?\n",
    "\n",
    "* ## Solution #1: Compile it yourself\n",
    "The original solution was to have each user compile the code themselves at install time. This can be quite slow, wastes resources, is often painful to configure, and still doesn’t solve a big part of the problem: shared library dependencies.\n",
    "\n",
    "The Pillow image graphics library, for example, relies on third party shared libraries like libpng and libjpeg. In order to compile Pillow yourself, you have to install all of them, plus their development headers. On Linux or macOS you can install the system packages or the Homebrew packages; for Windows this can be more difficult. But you’re going to have to write different configuration for every single OS and even Linux distribution.\n",
    "\n",
    "* ## Solution #2: Pip wheels\n",
    "The way pip solves this problem is with packages called “wheels” that can include compiled code. In order to deal with shared library dependencies like libpng, any shared library external dependencies get bundled inside the wheel itself.\n",
    "\n",
    "For example, let’s look at a Pillow wheel for Linux; a wheel is just a ZIP file so we can use standard ZIP tools:"
   ]
  },
  {
   "cell_type": "raw",
   "id": "31644351-e47b-4583-b70f-b99b8028276b",
   "metadata": {},
   "source": [
    "$ zipinfo Pillow.whl\n",
    "...\n",
    "Pillow.libs/libpng16-213e245f.so.16.37.0\n",
    "Pillow.libs/libjpeg-183418da.so.9.4.0\n",
    "...\n",
    "PIL/FpxImagePlugin.py\n",
    "PIL/PalmImagePlugin.py\n",
    "...\n",
    "PIL/_imagingcms.cpython-39-x86_64-linux-gnu.so\n",
    "..."
   ]
  },
  {
   "cell_type": "markdown",
   "id": "7dd5195f-6e59-4a78-b7c5-94e8d4d1ddf3",
   "metadata": {},
   "source": [
    "The wheel includes both Python code, a compiled Python extension, and third-party shared libraries like libpng and libjpeg. This can sometimes make packages larger, as multiple copies of third-party shared libraries may be installed, one per wheel."
   ]
  },
  {
   "cell_type": "markdown",
   "id": "4aab51c9-0ec2-4dd6-96bf-e636dcc9f628",
   "metadata": {},
   "source": [
    "* ## Solution #3: Conda packages\n"
   ]
  },
  {
   "cell_type": "markdown",
   "id": "6cd2b4d0-bbdf-4f8a-998f-381141dc1116",
   "metadata": {},
   "source": [
    "Conda packages take a different approach to third-party shared libraries. libjpeg and libpng are packaged as additional Conda packages:"
   ]
  },
  {
   "cell_type": "raw",
   "id": "48e2ab81-a391-43ef-8827-81e11a08402b",
   "metadata": {},
   "source": [
    "$ conda install -c conda-forge pillow\n",
    "...\n",
    "The following NEW packages will be INSTALLED:\n",
    "\n",
    "...\n",
    "  jpeg               conda-forge/linux-64::jpeg-9d-h36c2ea0_0\n",
    "...\n",
    "  libpng             conda-forge/linux-64::libpng-1.6.37-h21135ba_2\n",
    "...\n",
    "  pillow             conda-forge/linux-64::pillow-7.2.0-py38h9776b28_2\n",
    "  zstd               conda-forge/linux-64::zstd-1.5.0-ha95c52a_0\n",
    "..."
   ]
  },
  {
   "cell_type": "markdown",
   "id": "2e980402-4a25-4a89-8610-9cfeeb20756e",
   "metadata": {},
   "source": [
    "## Summary: pip vs Conda"
   ]
  },
  {
   "attachments": {
    "7b2a0af7-961c-4b85-b2c3-b56385f464bf.png": {
     "image/png": "[encoded data removed]"
    }
   },
   "cell_type": "markdown",
   "id": "7fae0ace-d23e-4970-991e-36008aaa6c07",
   "metadata": {},
   "source": [
    "![Screenshot from 2023-04-20 09-42-34.png](attachment:7b2a0af7-961c-4b85-b2c3-b56385f464bf.png)"
   ]
  },
  {
   "cell_type": "markdown",
   "id": "e2166e5c-cc33-48c2-b870-70931958ae55",
   "metadata": {},
   "source": [
    "## PyPI vs. Conda-Forge\n"
   ]
  },
  {
   "cell_type": "markdown",
   "id": "0917a7b8-2e1c-4763-82fe-15d690919ab7",
   "metadata": {},
   "source": [
    "Another fundamental difference between pip and Conda is less about the tools themselves, and more about the package repositories they rely on and how they work. In particular, most Python programs will rely on open source libraries, and these need to be downloaded from somewhere. For these, pip relies on PyPI, whereas Conda supports multiple different “channels” hosted on Anaconda.\n",
    "\n",
    "The default Conda channel is maintained by Anaconda Inc, the company that created Conda. It tends to have limited package selection and be somewhat less up-to-date, with some potential benefits regarding stability and GPU support. Beyond that I don’t know that much about it.\n",
    "\n",
    "But there’s also the Conda-Forge community channel, which packages far more packages, tends to be up-to-date, and is where you probably want to get your Conda packages most of the time. You can mix packages from the default channel and Conda-Forge, if you want the default channel’s GPU packages.\n",
    "\n"
   ]
  }
 ],
 "metadata": {
  "kernelspec": {
   "display_name": "Python 3 (ipykernel)",
   "language": "python",
   "name": "python3"
  },
  "language_info": {
   "codemirror_mode": {
    "name": "ipython",
    "version": 3
   },
   "file_extension": ".py",
   "mimetype": "text/x-python",
   "name": "python",
   "nbconvert_exporter": "python",
   "pygments_lexer": "ipython3",
   "version": "3.10.9"
  }
 },
 "nbformat": 4,
 "nbformat_minor": 5
}
