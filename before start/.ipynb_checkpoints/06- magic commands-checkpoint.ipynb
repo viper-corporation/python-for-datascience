{
 "cells": [
  {
   "cell_type": "markdown",
   "id": "d524811a-b1b8-4173-be26-d4543f93a2bf",
   "metadata": {},
   "source": [
    "# Magic Commands"
   ]
  },
  {
   "cell_type": "markdown",
   "id": "96d06dcb-8597-413a-9387-9139f93045c8",
   "metadata": {},
   "source": [
    "Magic commands are special commands that **can help you with running and analyzing data in your notebook.** They add a special functionality that is not straight forward to achieve with python code or jupyter notebook interface."
   ]
  },
  {
   "cell_type": "markdown",
   "id": "1a56a7f3-3296-48ea-b202-aebd29b94b7f",
   "metadata": {},
   "source": [
    "> Magic commands are either proceeded by ``%`` if they are on one line of code or by ``%%`` if they are written on several lines."
   ]
  },
  {
   "cell_type": "markdown",
   "id": "3b71b2ac-ae8e-4bf5-b1f9-3abd0eed657a",
   "metadata": {},
   "source": [
    "<hr>"
   ]
  },
  {
   "cell_type": "markdown",
   "id": "4321d0eb-1008-4ab1-8935-b76614b7ce09",
   "metadata": {},
   "source": [
    "### Line Magics VS Cell Magics"
   ]
  },
  {
   "cell_type": "markdown",
   "id": "11627509-04f9-483c-b207-894aa4f14c51",
   "metadata": {},
   "source": [
    "Magic commands, also called magics, come in two varieties:\n",
    "\n",
    "* **Line magics** – These magic commands are denoted by a single % prefix and operate on a single line of code.\n",
    "\n",
    "* **Cell magics** – These magic commands are denoted by a double %% prefix and operate on multiple lines of code."
   ]
  },
  {
   "cell_type": "markdown",
   "id": "31f95bd5-2fdc-4e84-b752-dbe9b89ee069",
   "metadata": {},
   "source": [
    "you can see all magic commands by ``%lsmagic`` magic command"
   ]
  },
  {
   "cell_type": "markdown",
   "id": "8398228a-334e-4268-90cf-8d741764df20",
   "metadata": {},
   "source": [
    "Let's start by listing all possible magic commands that you can use in the notebook. "
   ]
  },
  {
   "cell_type": "code",
   "execution_count": 7,
   "id": "7eb55471-637f-4e84-a33c-214f9def3232",
   "metadata": {},
   "outputs": [
    {
     "data": {
      "application/json": {
       "cell": {
        "!": "OSMagics",
        "HTML": "Other",
        "SVG": "Other",
        "bash": "Other",
        "capture": "ExecutionMagics",
        "debug": "ExecutionMagics",
        "file": "Other",
        "html": "DisplayMagics",
        "javascript": "DisplayMagics",
        "js": "DisplayMagics",
        "latex": "DisplayMagics",
        "markdown": "DisplayMagics",
        "perl": "Other",
        "prun": "ExecutionMagics",
        "pypy": "Other",
        "python": "Other",
        "python2": "Other",
        "python3": "Other",
        "ruby": "Other",
        "script": "ScriptMagics",
        "sh": "Other",
        "svg": "DisplayMagics",
        "sx": "OSMagics",
        "system": "OSMagics",
        "time": "ExecutionMagics",
        "timeit": "ExecutionMagics",
        "writefile": "OSMagics"
       },
       "line": {
        "alias": "OSMagics",
        "alias_magic": "BasicMagics",
        "autoawait": "AsyncMagics",
        "autocall": "AutoMagics",
        "automagic": "AutoMagics",
        "autosave": "KernelMagics",
        "bookmark": "OSMagics",
        "cat": "Other",
        "cd": "OSMagics",
        "clear": "KernelMagics",
        "colors": "BasicMagics",
        "conda": "PackagingMagics",
        "config": "ConfigMagics",
        "connect_info": "KernelMagics",
        "cp": "Other",
        "debug": "ExecutionMagics",
        "dhist": "OSMagics",
        "dirs": "OSMagics",
        "doctest_mode": "BasicMagics",
        "ed": "Other",
        "edit": "KernelMagics",
        "env": "OSMagics",
        "gui": "BasicMagics",
        "hist": "Other",
        "history": "HistoryMagics",
        "killbgscripts": "ScriptMagics",
        "ldir": "Other",
        "less": "KernelMagics",
        "lf": "Other",
        "lk": "Other",
        "ll": "Other",
        "load": "CodeMagics",
        "load_ext": "ExtensionMagics",
        "loadpy": "CodeMagics",
        "logoff": "LoggingMagics",
        "logon": "LoggingMagics",
        "logstart": "LoggingMagics",
        "logstate": "LoggingMagics",
        "logstop": "LoggingMagics",
        "ls": "Other",
        "lsmagic": "BasicMagics",
        "lx": "Other",
        "macro": "ExecutionMagics",
        "magic": "BasicMagics",
        "man": "KernelMagics",
        "matplotlib": "PylabMagics",
        "mkdir": "Other",
        "more": "KernelMagics",
        "mv": "Other",
        "notebook": "BasicMagics",
        "page": "BasicMagics",
        "pastebin": "CodeMagics",
        "pdb": "ExecutionMagics",
        "pdef": "NamespaceMagics",
        "pdoc": "NamespaceMagics",
        "pfile": "NamespaceMagics",
        "pinfo": "NamespaceMagics",
        "pinfo2": "NamespaceMagics",
        "pip": "PackagingMagics",
        "popd": "OSMagics",
        "pprint": "BasicMagics",
        "precision": "BasicMagics",
        "prun": "ExecutionMagics",
        "psearch": "NamespaceMagics",
        "psource": "NamespaceMagics",
        "pushd": "OSMagics",
        "pwd": "OSMagics",
        "pycat": "OSMagics",
        "pylab": "PylabMagics",
        "qtconsole": "KernelMagics",
        "quickref": "BasicMagics",
        "recall": "HistoryMagics",
        "rehashx": "OSMagics",
        "reload_ext": "ExtensionMagics",
        "rep": "Other",
        "rerun": "HistoryMagics",
        "reset": "NamespaceMagics",
        "reset_selective": "NamespaceMagics",
        "rm": "Other",
        "rmdir": "Other",
        "run": "ExecutionMagics",
        "save": "CodeMagics",
        "sc": "OSMagics",
        "set_env": "OSMagics",
        "store": "StoreMagics",
        "sx": "OSMagics",
        "system": "OSMagics",
        "tb": "ExecutionMagics",
        "time": "ExecutionMagics",
        "timeit": "ExecutionMagics",
        "unalias": "OSMagics",
        "unload_ext": "ExtensionMagics",
        "who": "NamespaceMagics",
        "who_ls": "NamespaceMagics",
        "whos": "NamespaceMagics",
        "xdel": "NamespaceMagics",
        "xmode": "BasicMagics"
       }
      },
      "text/plain": [
       "Available line magics:\n",
       "%alias  %alias_magic  %autoawait  %autocall  %automagic  %autosave  %bookmark  %cat  %cd  %clear  %colors  %conda  %config  %connect_info  %cp  %debug  %dhist  %dirs  %doctest_mode  %ed  %edit  %env  %gui  %hist  %history  %killbgscripts  %ldir  %less  %lf  %lk  %ll  %load  %load_ext  %loadpy  %logoff  %logon  %logstart  %logstate  %logstop  %ls  %lsmagic  %lx  %macro  %magic  %man  %matplotlib  %mkdir  %more  %mv  %notebook  %page  %pastebin  %pdb  %pdef  %pdoc  %pfile  %pinfo  %pinfo2  %pip  %popd  %pprint  %precision  %prun  %psearch  %psource  %pushd  %pwd  %pycat  %pylab  %qtconsole  %quickref  %recall  %rehashx  %reload_ext  %rep  %rerun  %reset  %reset_selective  %rm  %rmdir  %run  %save  %sc  %set_env  %store  %sx  %system  %tb  %time  %timeit  %unalias  %unload_ext  %who  %who_ls  %whos  %xdel  %xmode\n",
       "\n",
       "Available cell magics:\n",
       "%%!  %%HTML  %%SVG  %%bash  %%capture  %%debug  %%file  %%html  %%javascript  %%js  %%latex  %%markdown  %%perl  %%prun  %%pypy  %%python  %%python2  %%python3  %%ruby  %%script  %%sh  %%svg  %%sx  %%system  %%time  %%timeit  %%writefile\n",
       "\n",
       "Automagic is ON, % prefix IS NOT needed for line magics."
      ]
     },
     "execution_count": 7,
     "metadata": {},
     "output_type": "execute_result"
    }
   ],
   "source": [
    "%lsmagic"
   ]
  },
  {
   "cell_type": "markdown",
   "id": "fced93ee-ee19-4fc4-a7b6-3f40afa174cd",
   "metadata": {},
   "source": [
    "## 7 usefull magic commands : "
   ]
  },
  {
   "cell_type": "markdown",
   "id": "20eb8c66-b77b-43d7-97f4-47f9a083211e",
   "metadata": {},
   "source": [
    "1. **Run a file.**\n",
    "\n",
    "\n",
    "You can run a python file from your jupyter notebook using the following code."
   ]
  },
  {
   "cell_type": "code",
   "execution_count": 26,
   "id": "05ce89b0-1a6a-41da-9a8c-368c93e92aa2",
   "metadata": {},
   "outputs": [
    {
     "name": "stdout",
     "output_type": "stream",
     "text": [
      "hello world\n"
     ]
    }
   ],
   "source": [
    "%run test.py"
   ]
  },
  {
   "cell_type": "markdown",
   "id": "f2218e45-40b7-4164-8a84-b795c57a030d",
   "metadata": {},
   "source": [
    "2. **Get an execution time.**"
   ]
  },
  {
   "cell_type": "code",
   "execution_count": 43,
   "id": "68f4e7ea-07d9-4cba-bc06-c4fc302975d7",
   "metadata": {},
   "outputs": [
    {
     "name": "stdout",
     "output_type": "stream",
     "text": [
      "CPU times: user 4 µs, sys: 0 ns, total: 4 µs\n",
      "Wall time: 8.34 µs\n"
     ]
    }
   ],
   "source": [
    "%%time \n",
    "a = 0"
   ]
  },
  {
   "cell_type": "markdown",
   "id": "73e78563-d39d-4a5b-a89b-bc38ab30acb8",
   "metadata": {},
   "source": [
    "3. **List all variables.**"
   ]
  },
  {
   "cell_type": "code",
   "execution_count": 15,
   "id": "fd9ebd45-47cc-4c94-8934-a1a43a62f078",
   "metadata": {},
   "outputs": [],
   "source": [
    "a =0 \n",
    "b = \"rasool\""
   ]
  },
  {
   "cell_type": "code",
   "execution_count": 16,
   "id": "bfda8f39-e242-4e84-94e0-ce3cdc92a657",
   "metadata": {},
   "outputs": [
    {
     "name": "stdout",
     "output_type": "stream",
     "text": [
      "a\t b\t \n"
     ]
    }
   ],
   "source": [
    "%who"
   ]
  },
  {
   "cell_type": "code",
   "execution_count": 17,
   "id": "e9b7fc11-0773-4bed-b188-423fa7684455",
   "metadata": {},
   "outputs": [
    {
     "name": "stdout",
     "output_type": "stream",
     "text": [
      "a\t \n"
     ]
    }
   ],
   "source": [
    "%who int"
   ]
  },
  {
   "cell_type": "markdown",
   "id": "c42236b0-f259-4461-a40a-26997773ef6c",
   "metadata": {},
   "source": [
    "4. **Get detailed information about the variable.**"
   ]
  },
  {
   "cell_type": "code",
   "execution_count": 19,
   "id": "190bff6a-f4eb-4b3e-8b7c-32af82599410",
   "metadata": {},
   "outputs": [],
   "source": [
    "var_1 = 1\n",
    "var_2 = 'hello'\n",
    "var_3 = 100"
   ]
  },
  {
   "cell_type": "code",
   "execution_count": 20,
   "id": "7fc904cf-0a00-4e3d-a2d8-daa5654b6c13",
   "metadata": {},
   "outputs": [
    {
     "data": {
      "text/plain": [
       "\u001b[0;31mType:\u001b[0m        int\n",
       "\u001b[0;31mString form:\u001b[0m 1\n",
       "\u001b[0;31mDocstring:\u001b[0m  \n",
       "int([x]) -> integer\n",
       "int(x, base=10) -> integer\n",
       "\n",
       "Convert a number or string to an integer, or return 0 if no arguments\n",
       "are given.  If x is a number, return x.__int__().  For floating point\n",
       "numbers, this truncates towards zero.\n",
       "\n",
       "If x is not a number or if base is given, then x must be a string,\n",
       "bytes, or bytearray instance representing an integer literal in the\n",
       "given base.  The literal can be preceded by '+' or '-' and be surrounded\n",
       "by whitespace.  The base defaults to 10.  Valid bases are 0 and 2-36.\n",
       "Base 0 means to interpret the base from the string as an integer literal.\n",
       ">>> int('0b100', base=0)\n",
       "4"
      ]
     },
     "metadata": {},
     "output_type": "display_data"
    }
   ],
   "source": [
    "%pinfo var_1"
   ]
  },
  {
   "cell_type": "code",
   "execution_count": 22,
   "id": "77439763-d63a-40ce-b45a-0f397e0012d0",
   "metadata": {},
   "outputs": [
    {
     "data": {
      "text/plain": [
       "\u001b[0;31mType:\u001b[0m        str\n",
       "\u001b[0;31mString form:\u001b[0m hello\n",
       "\u001b[0;31mLength:\u001b[0m      5\n",
       "\u001b[0;31mDocstring:\u001b[0m  \n",
       "str(object='') -> str\n",
       "str(bytes_or_buffer[, encoding[, errors]]) -> str\n",
       "\n",
       "Create a new string object from the given object. If encoding or\n",
       "errors is specified, then the object must expose a data buffer\n",
       "that will be decoded using the given encoding and error handler.\n",
       "Otherwise, returns the result of object.__str__() (if defined)\n",
       "or repr(object).\n",
       "encoding defaults to sys.getdefaultencoding().\n",
       "errors defaults to 'strict'."
      ]
     },
     "metadata": {},
     "output_type": "display_data"
    }
   ],
   "source": [
    "%pinfo var_2"
   ]
  },
  {
   "cell_type": "markdown",
   "id": "b952aa12-b21a-4db7-9282-a224ce93d0b0",
   "metadata": {},
   "source": [
    "5. **Load an external file.**"
   ]
  },
  {
   "cell_type": "code",
   "execution_count": 27,
   "id": "12dde85f-f1e4-415a-9bfc-0154ed718ce4",
   "metadata": {},
   "outputs": [],
   "source": [
    "%load test.py"
   ]
  },
  {
   "cell_type": "markdown",
   "id": "99885c8a-7424-43af-b3c8-f049b74bdc75",
   "metadata": {},
   "source": [
    "6. **present working directory**"
   ]
  },
  {
   "cell_type": "code",
   "execution_count": 30,
   "id": "2a81d963-4de0-4da0-9bf6-9381abac8c6a",
   "metadata": {},
   "outputs": [
    {
     "data": {
      "text/plain": [
       "'/home/rasool/Documents/python_class/python-class/beginner'"
      ]
     },
     "execution_count": 30,
     "metadata": {},
     "output_type": "execute_result"
    }
   ],
   "source": [
    "%pwd"
   ]
  },
  {
   "cell_type": "markdown",
   "id": "c3dea040-cd3b-4526-80b4-a7d3f128dafc",
   "metadata": {},
   "source": [
    "7. **change directory**"
   ]
  },
  {
   "cell_type": "code",
   "execution_count": 34,
   "id": "118a7b87-29af-4bb0-a7a1-8c1c1aba1e23",
   "metadata": {},
   "outputs": [
    {
     "name": "stdout",
     "output_type": "stream",
     "text": [
      "/home\n"
     ]
    }
   ],
   "source": [
    "%cd .."
   ]
  },
  {
   "cell_type": "markdown",
   "id": "56d7d235-be3f-492d-b302-f978977872a7",
   "metadata": {},
   "source": [
    "> **there are so many magic commands and this was just a important and most frequent usefull of them**"
   ]
  }
 ],
 "metadata": {
  "kernelspec": {
   "display_name": "Python 3 (ipykernel)",
   "language": "python",
   "name": "python3"
  },
  "language_info": {
   "codemirror_mode": {
    "name": "ipython",
    "version": 3
   },
   "file_extension": ".py",
   "mimetype": "text/x-python",
   "name": "python",
   "nbconvert_exporter": "python",
   "pygments_lexer": "ipython3",
   "version": "3.10.9"
  }
 },
 "nbformat": 4,
 "nbformat_minor": 5
}
