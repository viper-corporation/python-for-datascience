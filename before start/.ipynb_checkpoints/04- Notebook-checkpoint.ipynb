{
 "cells": [
  {
   "cell_type": "markdown",
   "id": "986aa589-8f04-4dd3-9eae-b9c1d7559855",
   "metadata": {},
   "source": [
    "# Notebook"
   ]
  },
  {
   "cell_type": "markdown",
   "id": "5d29dd71-a0b0-4a00-b1b1-0c3d81056edd",
   "metadata": {},
   "source": [
    "* [cell and kernel](#cell-and-kernel)\n",
    "* [cells](cells)\n",
    "* [Keyboard Shortcuts](#Keyboard-Shortcuts)"
   ]
  },
  {
   "cell_type": "markdown",
   "id": "cc6d4d3e-d9c4-47f8-93f4-5ba3222f62ca",
   "metadata": {},
   "source": [
    "The notebook has **two modes** − **Command mode and Edit mode.** Notebook enters edit mode when a cell is clicked. Notice the pencil symbol just besides name of kernel in jupyter notebook or mode below the page in jupyter lab"
   ]
  },
  {
   "cell_type": "markdown",
   "id": "9c02d24d-843d-4d0a-99f9-31b6c86cfd43",
   "metadata": {},
   "source": [
    "<hr>"
   ]
  },
  {
   "cell_type": "markdown",
   "id": "44a98f91-9ff0-46e0-8844-b97b1e93b63c",
   "metadata": {},
   "source": [
    "## cell and kernel\n",
    "\n",
    "\n",
    "There are two fairly prominent terms that you should notice, which are probably new to you: cells and kernels are key both to understanding Jupyter and to what makes it more than just a word processor. Fortunately, these concepts are not difficult to understand.\n",
    "\n",
    "* A **kernel** is a “computational engine” that executes the code contained in a notebook document.\n",
    "* A **cell** is a container for text to be displayed in the notebook or code to be executed by the notebook’s kernel."
   ]
  },
  {
   "cell_type": "markdown",
   "id": "1520e08d-a38f-4183-8d6c-9214597feab7",
   "metadata": {
    "tags": []
   },
   "source": [
    "## cells\n",
    "first learn about cells. Cells form the body of a notebook. In the screenshot of a new notebook in the section above, that box with the green outline is an empty cell. There are 3 main cell types that we will cover:\n",
    "\n",
    "* #### Code Cells\n",
    "Contents in this cell are treated as statements in a programming language of current kernel. Default kernel is Python. So, we can write Python statements in a code cell. When such cell is run, its result is displayed in an output cell. The output may be text, image, matplotlib plots or HTML tables. Code cells have rich text capability.\n",
    "\n",
    "* #### Markdown Cells\n",
    "These cells contain text formatted using markdown language. All kinds of formatting features are available like making text bold and italic, displaying ordered or unordered list, rendering tabular contents etc. Markdown cells are especially useful to provide documentation to the computational process of the notebook.\n",
    "\n",
    "* #### Raw Cells\n",
    "Contents in raw cells are not evaluated by notebook kernel. When passed through nbconvert, they will be rendered as desired. If you type LatEx in a raw cell, rendering will happen after nbconvert is applied."
   ]
  },
  {
   "cell_type": "markdown",
   "id": "8cce9f6d-d58e-49df-955f-1f6e89a68a7f",
   "metadata": {},
   "source": [
    "> **Note:** The first cell in a new notebook is always a code cell."
   ]
  },
  {
   "cell_type": "markdown",
   "id": "3edd655a-c48d-4e6f-a16c-d11f34c4b1df",
   "metadata": {},
   "source": [
    "Let’s test it out with a classic hello world example: Type print('Hello World!') into the cell and click the run button Notebook Run Button in the toolbar above or press ``Ctrl + Enter.``"
   ]
  },
  {
   "cell_type": "code",
   "execution_count": 4,
   "id": "552a5e71-1ad6-4f9d-8005-a920017f0968",
   "metadata": {},
   "outputs": [
    {
     "name": "stdout",
     "output_type": "stream",
     "text": [
      "hello world\n"
     ]
    }
   ],
   "source": [
    "print(\"hello world\")"
   ]
  },
  {
   "cell_type": "markdown",
   "id": "e18f5fea-699c-4c1c-8d1c-7725cca7bf54",
   "metadata": {},
   "source": [
    "When we run the cell, its output is displayed below and the label to its left will have changed from ``In [ ]`` to ``In [1].``"
   ]
  },
  {
   "cell_type": "markdown",
   "id": "332fdbe3-4653-4fa3-9766-d85fafc0a7a9",
   "metadata": {},
   "source": [
    "> You can always tell the difference between code and Markdown cells because code cells have that label on the left and Markdown cells do not."
   ]
  },
  {
   "cell_type": "markdown",
   "id": "2cc7d3ff-19f5-477d-9233-38aea4952ee0",
   "metadata": {},
   "source": [
    "The “In” part of the label is simply short for “Input,” while the label number indicates when the cell was executed on the kernel — in this case the cell was executed first."
   ]
  },
  {
   "cell_type": "markdown",
   "id": "f587b81d-6b5f-47c1-942e-de37839fa4ec",
   "metadata": {},
   "source": [
    "## Keyboard Shortcuts\n",
    "One final thing you may have observed when running your cells is that their border turns blue, whereas it was green while you were editing. In a Jupyter Notebook, there is always one “active” cell highlighted with a border whose color denotes its current mode:\n",
    "\n",
    "* Green outline — cell is in **\"edit mode\"**\n",
    "* Blue outline — cell is in **\"command mode\"**\n",
    "\n",
    "So what can we do to a cell when it's in command mode? So far, we have seen how to run a cell with Ctrl + Enter, but there are plenty of other commands we can use. The best way to use them is with keyboard shortcuts\n",
    "\n",
    "Keyboard shortcuts are a very popular aspect of the Jupyter environment because they facilitate a speedy cell-based workflow. Many of these are actions you can carry out on the active cell when it’s in command mode.\n",
    "\n",
    "Below, you’ll find a list of some of Jupyter’s keyboard shortcuts. You don't need to memorize them all immediately, but this list should give you a good idea of what’s possible.\n",
    "\n",
    "* Toggle between edit and command mode with Esc and Enter, respectively.\n",
    "\n",
    "Once in command mode:\n",
    "* ``Scroll up`` and ``down`` your cells with your ``Up and Down keys.``\n",
    "* Press ``A`` or ``B`` to insert a new cell above or below the active cell.\n",
    "* ``M`` will transform the active cell to a Markdown cell.\n",
    "* ``Y`` will set the active cell to a code cell.\n",
    "* ``D + D`` (D twice) will delete the active cell.\n",
    "* ``Z`` will undo cell deletion.\n",
    "* ``Hold Shift and press Up or Down`` to select multiple cells at once. With multiple cells selected, ``Shift + M`` will merge your selection.\n",
    "* ``Ctrl + Shift + -``, in edit mode, will split the active cell at the cursor.\n",
    "* You can also click and Shift + Click in the margin to the left of your cells to select them.\n",
    "\n",
    "Go ahead and try these out in your own notebook."
   ]
  }
 ],
 "metadata": {
  "kernelspec": {
   "display_name": "Python 3 (ipykernel)",
   "language": "python",
   "name": "python3"
  },
  "language_info": {
   "codemirror_mode": {
    "name": "ipython",
    "version": 3
   },
   "file_extension": ".py",
   "mimetype": "text/x-python",
   "name": "python",
   "nbconvert_exporter": "python",
   "pygments_lexer": "ipython3",
   "version": "3.10.9"
  }
 },
 "nbformat": 4,
 "nbformat_minor": 5
}
